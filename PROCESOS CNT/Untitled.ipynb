{
 "cells": [
  {
   "cell_type": "code",
   "execution_count": 65,
   "metadata": {},
   "outputs": [],
   "source": [
    "import pandas as pd\n",
    "import mysql.connector"
   ]
  },
  {
   "cell_type": "code",
   "execution_count": 66,
   "metadata": {},
   "outputs": [],
   "source": [
    "fecha_ini='2018-09-01 00:00:00'\n",
    "fecha_fin='2018-09-30 21:00:00'"
   ]
  },
  {
   "cell_type": "code",
   "execution_count": 67,
   "metadata": {},
   "outputs": [],
   "source": [
    "db = mysql.connector.connect(\n",
    "  host='172.18.55.6',\n",
    "  user='comandato',\n",
    "  passwd='comandato123',\n",
    ")"
   ]
  },
  {
   "cell_type": "code",
   "execution_count": 68,
   "metadata": {},
   "outputs": [],
   "source": [
    "consulta=\"SELECT * FROM cnt.gestion  where fecha_gestion between '{0}' and '{1}' \".format(fecha_ini,fecha_fin)"
   ]
  },
  {
   "cell_type": "code",
   "execution_count": 69,
   "metadata": {},
   "outputs": [],
   "source": [
    "bd_cnt=pd.read_sql(consulta, con=db)"
   ]
  },
  {
   "cell_type": "markdown",
   "metadata": {},
   "source": [
    "##         REPORTE TOTAL"
   ]
  },
  {
   "cell_type": "code",
   "execution_count": 70,
   "metadata": {},
   "outputs": [],
   "source": [
    "bd_cnt['mes']=pd.DatetimeIndex(bd_cnt['fecha_gestion']).month\n",
    "bd_cnt['dia']=pd.DatetimeIndex(bd_cnt['fecha_gestion']).day\n",
    "bd_cnt['hora']=pd.DatetimeIndex(bd_cnt['fecha_gestion']).hour"
   ]
  },
  {
   "cell_type": "code",
   "execution_count": 71,
   "metadata": {},
   "outputs": [
    {
     "data": {
      "text/html": [
       "<div>\n",
       "<style scoped>\n",
       "    .dataframe tbody tr th:only-of-type {\n",
       "        vertical-align: middle;\n",
       "    }\n",
       "\n",
       "    .dataframe tbody tr th {\n",
       "        vertical-align: top;\n",
       "    }\n",
       "\n",
       "    .dataframe thead th {\n",
       "        text-align: right;\n",
       "    }\n",
       "</style>\n",
       "<table border=\"1\" class=\"dataframe\">\n",
       "  <thead>\n",
       "    <tr style=\"text-align: right;\">\n",
       "      <th></th>\n",
       "      <th>idgestion</th>\n",
       "      <th>cedula_cliente</th>\n",
       "      <th>agente</th>\n",
       "      <th>fecha_gestion</th>\n",
       "      <th>respuesta_obtenida</th>\n",
       "      <th>contacto_gestiono</th>\n",
       "      <th>numero_gestion</th>\n",
       "      <th>tiempo_gestion</th>\n",
       "      <th>archivo_audio</th>\n",
       "      <th>obervaciones</th>\n",
       "      <th>mes</th>\n",
       "      <th>dia</th>\n",
       "      <th>hora</th>\n",
       "    </tr>\n",
       "  </thead>\n",
       "  <tbody>\n",
       "    <tr>\n",
       "      <th>0</th>\n",
       "      <td>102</td>\n",
       "      <td>0000920490240</td>\n",
       "      <td>5102</td>\n",
       "      <td>2018-09-11 15:59:47</td>\n",
       "      <td>NO CONTACTO</td>\n",
       "      <td>BUZON DE VOZ</td>\n",
       "      <td>0988912286</td>\n",
       "      <td>0</td>\n",
       "      <td></td>\n",
       "      <td></td>\n",
       "      <td>9</td>\n",
       "      <td>11</td>\n",
       "      <td>15</td>\n",
       "    </tr>\n",
       "    <tr>\n",
       "      <th>1</th>\n",
       "      <td>103</td>\n",
       "      <td>0000926025578</td>\n",
       "      <td></td>\n",
       "      <td>2018-09-11 16:00:12</td>\n",
       "      <td>NO CONTACTO</td>\n",
       "      <td>NO CONTESTA</td>\n",
       "      <td></td>\n",
       "      <td>0</td>\n",
       "      <td></td>\n",
       "      <td></td>\n",
       "      <td>9</td>\n",
       "      <td>11</td>\n",
       "      <td>16</td>\n",
       "    </tr>\n",
       "    <tr>\n",
       "      <th>2</th>\n",
       "      <td>104</td>\n",
       "      <td>0000926904525</td>\n",
       "      <td></td>\n",
       "      <td>2018-09-11 16:03:06</td>\n",
       "      <td>EQUIVOCADO</td>\n",
       "      <td>EQUIVOCADO</td>\n",
       "      <td>0998054180</td>\n",
       "      <td>21</td>\n",
       "      <td></td>\n",
       "      <td>NO ES EL TITULAR</td>\n",
       "      <td>9</td>\n",
       "      <td>11</td>\n",
       "      <td>16</td>\n",
       "    </tr>\n",
       "    <tr>\n",
       "      <th>3</th>\n",
       "      <td>105</td>\n",
       "      <td>0000913908539</td>\n",
       "      <td></td>\n",
       "      <td>2018-09-11 16:04:30</td>\n",
       "      <td>NO CONTACTO</td>\n",
       "      <td>BUZON DE VOZ</td>\n",
       "      <td>0981648686</td>\n",
       "      <td>22</td>\n",
       "      <td></td>\n",
       "      <td></td>\n",
       "      <td>9</td>\n",
       "      <td>11</td>\n",
       "      <td>16</td>\n",
       "    </tr>\n",
       "    <tr>\n",
       "      <th>4</th>\n",
       "      <td>106</td>\n",
       "      <td>0000918649153</td>\n",
       "      <td></td>\n",
       "      <td>2018-09-11 16:04:30</td>\n",
       "      <td>NO CONTACTO</td>\n",
       "      <td>NO CONTESTA</td>\n",
       "      <td></td>\n",
       "      <td>22</td>\n",
       "      <td></td>\n",
       "      <td></td>\n",
       "      <td>9</td>\n",
       "      <td>11</td>\n",
       "      <td>16</td>\n",
       "    </tr>\n",
       "  </tbody>\n",
       "</table>\n",
       "</div>"
      ],
      "text/plain": [
       "   idgestion cedula_cliente agente       fecha_gestion respuesta_obtenida  \\\n",
       "0        102  0000920490240   5102 2018-09-11 15:59:47        NO CONTACTO   \n",
       "1        103  0000926025578        2018-09-11 16:00:12        NO CONTACTO   \n",
       "2        104  0000926904525        2018-09-11 16:03:06         EQUIVOCADO   \n",
       "3        105  0000913908539        2018-09-11 16:04:30        NO CONTACTO   \n",
       "4        106  0000918649153        2018-09-11 16:04:30        NO CONTACTO   \n",
       "\n",
       "  contacto_gestiono numero_gestion  tiempo_gestion archivo_audio  \\\n",
       "0      BUZON DE VOZ     0988912286               0                 \n",
       "1       NO CONTESTA                              0                 \n",
       "2        EQUIVOCADO     0998054180              21                 \n",
       "3      BUZON DE VOZ     0981648686              22                 \n",
       "4       NO CONTESTA                             22                 \n",
       "\n",
       "       obervaciones  mes  dia  hora  \n",
       "0                      9   11    15  \n",
       "1                      9   11    16  \n",
       "2  NO ES EL TITULAR    9   11    16  \n",
       "3                      9   11    16  \n",
       "4                      9   11    16  "
      ]
     },
     "execution_count": 71,
     "metadata": {},
     "output_type": "execute_result"
    }
   ],
   "source": [
    "bd_cnt.head()"
   ]
  },
  {
   "cell_type": "code",
   "execution_count": null,
   "metadata": {},
   "outputs": [],
   "source": []
  },
  {
   "cell_type": "code",
   "execution_count": 76,
   "metadata": {},
   "outputs": [],
   "source": [
    "base_filtrado=bd_cnt[(bd_cnt['fecha_gestion']>'2018-09-27 00:00:00') & (bd_cnt['fecha_gestion'] < '2018-09-27 23:00:00')]"
   ]
  },
  {
   "cell_type": "code",
   "execution_count": 77,
   "metadata": {},
   "outputs": [
    {
     "data": {
      "text/plain": [
       "<matplotlib.axes._subplots.AxesSubplot at 0xdecac30>"
      ]
     },
     "execution_count": 77,
     "metadata": {},
     "output_type": "execute_result"
    },
    {
     "data": {
      "image/png": "[encoded data removed]",
      "text/plain": [
       "<Figure size 432x288 with 1 Axes>"
      ]
     },
     "metadata": {},
     "output_type": "display_data"
    }
   ],
   "source": [
    "base_filtrado['hora'].value_counts().sort_index(axis=0, ascending=True).plot(kind='line',grid=True)"
   ]
  },
  {
   "cell_type": "code",
   "execution_count": null,
   "metadata": {},
   "outputs": [],
   "source": []
  }
 ],
 "metadata": {
  "kernelspec": {
   "display_name": "Python 3",
   "language": "python",
   "name": "python3"
  },
  "language_info": {
   "codemirror_mode": {
    "name": "ipython",
    "version": 3
   },
   "file_extension": ".py",
   "mimetype": "text/x-python",
   "name": "python",
   "nbconvert_exporter": "python",
   "pygments_lexer": "ipython3",
   "version": "3.6.5"
  }
 },
 "nbformat": 4,
 "nbformat_minor": 2
}
