{
 "cells": [
  {
   "cell_type": "code",
   "execution_count": 1,
   "metadata": {},
   "outputs": [],
   "source": [
    "import pandas as pd\n",
    "import MySQLdb"
   ]
  },
  {
   "cell_type": "code",
   "execution_count": 2,
   "metadata": {},
   "outputs": [],
   "source": [
    "#hide_me\n",
    "db = MySQLdb.connect(host=\"172.18.55.99\",    # tu host, usualmente localhost\n",
    "                     user=\"comandato\",         # tu usuario\n",
    "                     passwd=\"comandato123\",  # tu password\n",
    "                     db=\"call_center\")        # el nombre de la base de datos\n",
    "cur=db.cursor()"
   ]
  },
  {
   "cell_type": "code",
   "execution_count": 3,
   "metadata": {},
   "outputs": [],
   "source": [
    "consulta=\"\"\"SELECT id FROM call_center.campaign where datetime_init between '2019-02-01' and '2019-03-11'\"\"\""
   ]
  },
  {
   "cell_type": "code",
   "execution_count": 4,
   "metadata": {},
   "outputs": [],
   "source": [
    "id_camp = pd.read_sql(consulta,con=db)"
   ]
  },
  {
   "cell_type": "code",
   "execution_count": 5,
   "metadata": {},
   "outputs": [
    {
     "name": "stdout",
     "output_type": "stream",
     "text": [
      "16\n"
     ]
    }
   ],
   "source": [
    "contadoreliminados=0\n",
    "for row in id_camp.itertuples():\n",
    "    del_query1=\"\"\"DELETE FROM campaign_form \n",
    "WHERE\n",
    "    id_campaign = '{0}';\"\"\".format(row.id)\n",
    "    del_query2=\"\"\"DELETE FROM call_recording \n",
    "WHERE\n",
    "    id_call_outgoing IN (SELECT \n",
    "        id\n",
    "    FROM\n",
    "        calls\n",
    "    \n",
    "    WHERE\n",
    "        id_campaign = '{0}');\"\"\".format(row.id)\n",
    "    del_query3=\"\"\"DELETE FROM call_attribute \n",
    "WHERE\n",
    "    id_call IN (SELECT \n",
    "        id\n",
    "    FROM\n",
    "        calls\n",
    "    \n",
    "    WHERE\n",
    "        id_campaign = '{0}');\"\"\".format(row.id)\n",
    "    del_query4=\"\"\"DELETE FROM form_data_recolected \n",
    "WHERE\n",
    "    id_calls IN (SELECT \n",
    "        id\n",
    "    FROM\n",
    "        calls\n",
    "    \n",
    "    WHERE\n",
    "        id_campaign = '{0}');\"\"\".format(row.id)\n",
    "    del_query5=\"\"\"DELETE call_progress_log FROM call_progress_log,\n",
    "    calls \n",
    "WHERE\n",
    "    call_progress_log.id_call_outgoing = calls.id\n",
    "    AND calls.id_campaign = '{0}';\"\"\".format(row.id)\n",
    "    del_query6=\"\"\"DELETE FROM calls \n",
    "WHERE\n",
    "    id_campaign ='{0}';\"\"\".format(row.id)\n",
    "    del_query7=\"\"\"\n",
    "DELETE FROM campaign \n",
    "WHERE\n",
    "    id = '{0}'\"\"\".format(row.id)\n",
    "    try:\n",
    "        cur.execute(del_query1)\n",
    "        db.commit()\n",
    "        cur.execute(del_query2)\n",
    "        db.commit()\n",
    "        cur.execute(del_query3)\n",
    "        db.commit()\n",
    "        cur.execute(del_query4)\n",
    "        db.commit()\n",
    "        cur.execute(del_query5)\n",
    "        db.commit()\n",
    "        cur.execute(del_query6)\n",
    "        db.commit()\n",
    "        cur.execute(del_query7)\n",
    "        db.commit()\n",
    "        contadoreliminados=contadoreliminados+1\n",
    "    except:\n",
    "        db.rollback()\n",
    "print(str(contadoreliminados))"
   ]
  },
  {
   "cell_type": "code",
   "execution_count": null,
   "metadata": {},
   "outputs": [],
   "source": []
  },
  {
   "cell_type": "code",
   "execution_count": null,
   "metadata": {},
   "outputs": [],
   "source": []
  },
  {
   "cell_type": "code",
   "execution_count": null,
   "metadata": {},
   "outputs": [],
   "source": []
  }
 ],
 "metadata": {
  "kernelspec": {
   "display_name": "Python 3",
   "language": "python",
   "name": "python3"
  },
  "language_info": {
   "codemirror_mode": {
    "name": "ipython",
    "version": 3
   },
   "file_extension": ".py",
   "mimetype": "text/x-python",
   "name": "python",
   "nbconvert_exporter": "python",
   "pygments_lexer": "ipython3",
   "version": "3.6.5"
  }
 },
 "nbformat": 4,
 "nbformat_minor": 2
}
