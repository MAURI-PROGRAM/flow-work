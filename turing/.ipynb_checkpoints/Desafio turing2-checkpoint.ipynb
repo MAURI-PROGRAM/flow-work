{
 "cells": [
  {
   "cell_type": "code",
   "execution_count": null,
   "metadata": {},
   "outputs": [],
   "source": [
    "from time import time\n",
    "import os\n",
    "import collections\n",
    "import numpy as np\n",
    "import pandas as pd"
   ]
  },
  {
   "cell_type": "code",
   "execution_count": 11,
   "metadata": {},
   "outputs": [],
   "source": [
    "def def_onlyCode(allLines):\n",
    "    copyline = allLines.copy()\n",
    "    newLines=[]\n",
    "    lines=iter(allLines)\n",
    "    citer=0\n",
    "    withoutSpace = lambda x : x.replace(' ','')\n",
    "    blankLine = lambda x : x=='\\n' or x==''\n",
    "    commWildcard = lambda x:x[0]=='#'\n",
    "    commOneline = lambda x:(initComment(x) and endComment(x[3:]))\n",
    "    initComment = lambda x:(x[:3]=='\"\"\"')\n",
    "    endComment = lambda x:(x[-4:-1]=='\"\"\"')\n",
    "    for line in lines:\n",
    "        citer=citer+1\n",
    "        newLine = withoutSpace(line)\n",
    "        if blankLine(newLine):\n",
    "            continue\n",
    "        if commWildcard(newLine):\n",
    "            continue\n",
    "        if commOneline(newLine):\n",
    "            continue\n",
    "        if initComment(newLine):\n",
    "            try:\n",
    "                line = next(lines)\n",
    "            except:\n",
    "                pass\n",
    "            for i in range(citer,len(copyline)):\n",
    "                newLine = withoutSpace(line)\n",
    "                endLine = citer+1==len(copyline)\n",
    "                try:\n",
    "                    line = next(lines)\n",
    "                except:\n",
    "                    pass\n",
    "                if endComment(newLine) or endLine:\n",
    "                    break\n",
    "                else:\n",
    "                    citer=citer+1\n",
    "        newLines.append(line)   \n",
    "    return newLines"
   ]
  },
  {
   "cell_type": "code",
   "execution_count": 12,
   "metadata": {},
   "outputs": [],
   "source": [
    "def depFor(archivo):\n",
    "    newLineas=archivo.copy()\n",
    "    lineas=iter(archivo)\n",
    "    citer=0\n",
    "    withoutSpace = lambda x : x.replace(' ','')\n",
    "    initFor = lambda x:(x[:3]=='for')\n",
    "    endFor = lambda x:(x[-2:-1]==':')\n",
    "    countSpace = lambda x:(x.index(x.replace(' ','')[0]))\n",
    "    arrMax=[0]\n",
    "    arr=[]\n",
    "    for linea in lineas:\n",
    "        citer=citer+1\n",
    "        wordFor='for'\n",
    "        wordEnd=':'\n",
    "        space = countSpace(linea)\n",
    "        patronFor=((initFor(withoutSpace(linea))) and (endFor(withoutSpace(linea))))\n",
    "        if patronFor:\n",
    "            newLines=[]\n",
    "            for i in range(citer,len(newLineas)):\n",
    "                endLine = citer+1==len(newLineas)\n",
    "                forSpace = False\n",
    "                if not endLine:\n",
    "                    nextspaceLine = countSpace(newLineas[citer])\n",
    "                    forSpace = nextspaceLine<=space\n",
    "                else:\n",
    "                    try:\n",
    "                        newLines.append(next(lineas))\n",
    "                    except:\n",
    "                        pass\n",
    "                if forSpace or endLine:\n",
    "                    value,arr=depFor(newLines)\n",
    "                    arrMax.append(value+1)\n",
    "                    break\n",
    "                else:\n",
    "                    try:\n",
    "                        newLines.append(next(lineas))\n",
    "                        citer=citer+1\n",
    "                    except:\n",
    "                        pass\n",
    "    return(max(arrMax),arrMax)"
   ]
  },
  {
   "cell_type": "code",
   "execution_count": 13,
   "metadata": {},
   "outputs": [],
   "source": [
    "fileLibraries='librerias python.txt'\n",
    "fileLibrery = open(fileLibraries, 'r', encoding=\"utf8\")\n",
    "libraries = fileLibrery.readlines()\n",
    "libraryPy = [librery[:-1] for librery in libraries]\n",
    "libraryPy=set(libraryPy)"
   ]
  },
  {
   "cell_type": "code",
   "execution_count": 22,
   "metadata": {},
   "outputs": [],
   "source": [
    "def librerias(lines):\n",
    "    setlibrerias=set()\n",
    "    withoutSpace = lambda x : x.replace(' ','')\n",
    "    initImport = lambda x:(x[:6]=='import')\n",
    "    initFrom = lambda x:(x[:4]=='from')\n",
    "    wordImport= 'import'\n",
    "    wordFrom= 'from'\n",
    "    notElement={'import', 'from', '',' '}\n",
    "    countWord=lambda x :collections.Counter(x.split(' '))\n",
    "    for line in lines:\n",
    "        cword=countWord(line)\n",
    "        inImport=(wordImport in line)\n",
    "        wordComplete = withoutSpace(line)\n",
    "        initImportword = initImport(wordComplete)\n",
    "        initFromword = initFrom(wordComplete)\n",
    "        inFrom=(wordFrom in line)\n",
    "        if inFrom and inImport and cword['from']==1 and cword['import']==1 and initFromword:\n",
    "            arrlibr = line[:line.index('import')].split(' ')\n",
    "            setlibrerias = setlibrerias|set(arrlibr)\n",
    "            continue\n",
    "        if inImport and cword['import']==1 and initImportword:\n",
    "            arrlibr =  line[:-1].split(' ')\n",
    "            setlibrerias = setlibrerias|set(arrlibr)\n",
    "            continue\n",
    "    newSetelement= list(setlibrerias-notElement)\n",
    "    newArrelement = [ element.split('.')[0]  for element in newSetelement]\n",
    "    return set(newArrelement)-notElement-libraryPy"
   ]
  },
  {
   "cell_type": "code",
   "execution_count": 15,
   "metadata": {},
   "outputs": [
    {
     "name": "stdout",
     "output_type": "stream",
     "text": [
      "{'edef': 1, 'import': 1, 'from': 1} <class 'collections.Counter'>\n",
      "True\n"
     ]
    }
   ],
   "source": [
    "line= 'edef import from'\n",
    "cword=collections.Counter(line.split(' '))\n",
    "print(dict(cword),type(cword))\n",
    "print(cword['from']==1 and cword['import']==1)"
   ]
  },
  {
   "cell_type": "code",
   "execution_count": 16,
   "metadata": {},
   "outputs": [
    {
     "data": {
      "text/plain": [
       "False"
      ]
     },
     "execution_count": 16,
     "metadata": {},
     "output_type": "execute_result"
    }
   ],
   "source": [
    "initImport = lambda x:(x[:3]=='import')\n",
    "cadena='ho'\n",
    "initImport(cadena)"
   ]
  },
  {
   "cell_type": "code",
   "execution_count": 17,
   "metadata": {},
   "outputs": [],
   "source": [
    "def countDef(lines):\n",
    "    wordDef='def'\n",
    "    wordEnd=':'\n",
    "    arrArg=[]\n",
    "    for line in lines:\n",
    "        if wordDef in line and wordEnd in line:\n",
    "            argini=line.find(\"(\")+1\n",
    "            argend=line.find(\")\")\n",
    "            arg=line[argini:argend].split(',')\n",
    "            arrArg.append(len(arg))\n",
    "    return arrArg"
   ]
  },
  {
   "cell_type": "code",
   "execution_count": 18,
   "metadata": {},
   "outputs": [],
   "source": [
    "def duplicateLine(arrlines):\n",
    "    newGroup=[]\n",
    "    withoutSpace = lambda x : x.replace(' ','')\n",
    "    lines=list(map(withoutSpace,arrlines))\n",
    "    unionLine=lambda x : x.replace('[','').replace(',','').replace(']','')\n",
    "    for i,line in enumerate(lines):\n",
    "        newGroup.append(str(unionLine(str(lines[i:i+4]))))\n",
    "    repetidos=collections.Counter(newGroup)\n",
    "    duplicado = [1 for key in repetidos if repetidos[key]>=2]\n",
    "    return (sum(duplicado)+3*bool(duplicado))"
   ]
  },
  {
   "cell_type": "code",
   "execution_count": 19,
   "metadata": {},
   "outputs": [],
   "source": [
    "def returnFilespy(carpeta):\n",
    "    newArray=[]\n",
    "    for archivo in os.listdir(carpeta):\n",
    "        if os.path.isdir(os.path.join(carpeta,archivo)):\n",
    "            newArray = newArray+returnFilespy(os.path.join(carpeta,archivo))\n",
    "        else:\n",
    "            newArray.append(os.path.join(carpeta,archivo))\n",
    "    filesPy = [filePy for filePy in newArray if filePy[-3:]=='.py' ]\n",
    "    return filesPy"
   ]
  },
  {
   "cell_type": "code",
   "execution_count": 20,
   "metadata": {},
   "outputs": [],
   "source": [
    "def procesFile(ruoteFlies):\n",
    "    filesPy = returnFilespy(ruoteFlies)\n",
    "    LinesCodetotal = 0\n",
    "    depForTotal = []\n",
    "    argDeftotal = []\n",
    "    libreryTotal =set()\n",
    "    duplicateTotal = 0\n",
    "    for filePy in filesPy:\n",
    "        file = open(filePy, 'r', encoding=\"utf8\")\n",
    "        lines = file.readlines()\n",
    "\n",
    "        linesCode = def_onlyCode(lines)\n",
    "        LinesCodetotal=LinesCodetotal+len(linesCode)\n",
    "\n",
    "\n",
    "        countFor = depFor(linesCode)[1][1:]\n",
    "        depForTotal = depForTotal+countFor\n",
    "\n",
    "\n",
    "        libreriasSet = librerias(linesCode)\n",
    "        libreryTotal = libreryTotal|libreriasSet\n",
    "\n",
    "        countArgdef = countDef(linesCode)\n",
    "        argDeftotal = argDeftotal+countArgdef\n",
    "\n",
    "\n",
    "        isDupplicate = duplicateLine(linesCode)\n",
    "        duplicateTotal=duplicateTotal+isDupplicate\n",
    "\n",
    "        file.close()\n",
    "\n",
    "    avgFor=np.average(depForTotal)\n",
    "    perctDuplicate = np.array(duplicateTotal)/np.array(LinesCodetotal)*100\n",
    "    avgArg = np.average(argDeftotal)\n",
    "    \n",
    "    return LinesCodetotal,list(libreryTotal),avgFor,perctDuplicate,avgArg"
   ]
  },
  {
   "cell_type": "code",
   "execution_count": 26,
   "metadata": {},
   "outputs": [
    {
     "name": "stdout",
     "output_type": "stream",
     "text": [
      "(424, ['os', 'optparse', 'distutils', 'logging', 'collections', 'sys', 'decimal', 'math', 'time', 'random'], 1.0666666666666667, 0.0, 1.5)\n",
      "0.016952037811279297\n"
     ]
    }
   ],
   "source": [
    "ruoteFlies = '.\\\\Almacen_repositorios\\\\data_hacks-master'\n",
    "start_time = time()\n",
    "print(procesFile(ruoteFlies))\n",
    "elapsed_time = time() - start_time\n",
    "print(elapsed_time)"
   ]
  },
  {
   "cell_type": "code",
   "execution_count": null,
   "metadata": {},
   "outputs": [],
   "source": []
  },
  {
   "cell_type": "code",
   "execution_count": null,
   "metadata": {
    "collapsed": true
   },
   "outputs": [],
   "source": []
  },
  {
   "cell_type": "code",
   "execution_count": null,
   "metadata": {},
   "outputs": [],
   "source": []
  },
  {
   "cell_type": "code",
   "execution_count": null,
   "metadata": {},
   "outputs": [],
   "source": []
  },
  {
   "cell_type": "code",
   "execution_count": null,
   "metadata": {},
   "outputs": [],
   "source": []
  },
  {
   "cell_type": "code",
   "execution_count": null,
   "metadata": {},
   "outputs": [],
   "source": []
  },
  {
   "cell_type": "code",
   "execution_count": null,
   "metadata": {},
   "outputs": [],
   "source": []
  },
  {
   "cell_type": "code",
   "execution_count": null,
   "metadata": {},
   "outputs": [],
   "source": []
  },
  {
   "cell_type": "code",
   "execution_count": null,
   "metadata": {},
   "outputs": [],
   "source": []
  },
  {
   "cell_type": "code",
   "execution_count": null,
   "metadata": {},
   "outputs": [],
   "source": []
  },
  {
   "cell_type": "code",
   "execution_count": null,
   "metadata": {},
   "outputs": [],
   "source": []
  },
  {
   "cell_type": "code",
   "execution_count": null,
   "metadata": {},
   "outputs": [],
   "source": [
    "start_time = time()\n",
    "# for filePy in filesPy\n",
    "#open file\n",
    "file = open(r'.\\Almacen_repositorios\\tensorflow-master\\configure.py', 'r')\n",
    "lines = file.readlines()\n",
    "\n",
    "##Prosesing file\n",
    "\n",
    "#Lines of code\n",
    "linesCode = def_onlyCode(lines)\n",
    "# for line in linesCode:\n",
    "#     print(line)\n",
    "print(len(linesCode))\n",
    "\n",
    "countFor = depFor(linesCode)\n",
    "print(countFor[1][1:])\n",
    "\n",
    "libreriasSet = librerias(linesCode)\n",
    "print(libreriasSet)\n",
    "\n",
    "countArgdef = countDef(linesCode)\n",
    "print(countArgdef)\n",
    "\n",
    "isDupplicate = duplicateLine(linesCode)\n",
    "print(isDupplicate)\n",
    "\n",
    "#close file\n",
    "file.close()\n",
    "\n",
    "elapsed_time = time() - start_time\n",
    "print(elapsed_time)"
   ]
  },
  {
   "cell_type": "code",
   "execution_count": null,
   "metadata": {
    "collapsed": true
   },
   "outputs": [],
   "source": []
  },
  {
   "cell_type": "code",
   "execution_count": null,
   "metadata": {
    "collapsed": true
   },
   "outputs": [],
   "source": []
  }
 ],
 "metadata": {
  "kernelspec": {
   "display_name": "Python 3",
   "language": "python",
   "name": "python3"
  },
  "language_info": {
   "codemirror_mode": {
    "name": "ipython",
    "version": 3
   },
   "file_extension": ".py",
   "mimetype": "text/x-python",
   "name": "python",
   "nbconvert_exporter": "python",
   "pygments_lexer": "ipython3",
   "version": "3.6.5"
  }
 },
 "nbformat": 4,
 "nbformat_minor": 2
}
