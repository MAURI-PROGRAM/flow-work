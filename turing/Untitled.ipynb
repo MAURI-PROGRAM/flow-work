{
 "cells": [
  {
   "cell_type": "code",
   "execution_count": 11,
   "metadata": {},
   "outputs": [],
   "source": [
    "import collections"
   ]
  },
  {
   "cell_type": "code",
   "execution_count": 44,
   "metadata": {},
   "outputs": [
    {
     "name": "stdout",
     "output_type": "stream",
     "text": [
      "[False, False, False, False, False, False, False, False, False, False, False]\n"
     ]
    }
   ],
   "source": [
    "lines=[1,2,3,4,5,6,7,8,1,2,3,4]\n",
    "groupFour(lines)"
   ]
  },
  {
   "cell_type": "code",
   "execution_count": 43,
   "metadata": {},
   "outputs": [],
   "source": [
    "def groupFour(lines):\n",
    "    newGroup=[]\n",
    "    unionLine=lambda x : x.replace('[','').replace(',','').replace(']','')\n",
    "    isDuplicate= lambda x: True if x>2 else False\n",
    "    for i,line in enumerate(lines):\n",
    "        newGroup.append(str(unionLine(str(lines[i:i+4]))))\n",
    "    repetidos=collections.Counter(newGroup)\n",
    "    duplicado = [isDuplicate(repetidos[key]) for key in repetidos]\n",
    "    print(duplicado)"
   ]
  },
  {
   "cell_type": "code",
   "execution_count": null,
   "metadata": {},
   "outputs": [],
   "source": []
  }
 ],
 "metadata": {
  "kernelspec": {
   "display_name": "Python 3",
   "language": "python",
   "name": "python3"
  },
  "language_info": {
   "codemirror_mode": {
    "name": "ipython",
    "version": 3
   },
   "file_extension": ".py",
   "mimetype": "text/x-python",
   "name": "python",
   "nbconvert_exporter": "python",
   "pygments_lexer": "ipython3",
   "version": "3.6.5"
  }
 },
 "nbformat": 4,
 "nbformat_minor": 2
}
