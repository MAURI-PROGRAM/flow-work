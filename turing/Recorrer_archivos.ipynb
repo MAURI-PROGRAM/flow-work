{
 "cells": [
  {
   "cell_type": "code",
   "execution_count": 48,
   "metadata": {},
   "outputs": [],
   "source": [
    "import os\n",
    "from time import time\n",
    "from time import time\n",
    "import collections"
   ]
  },
  {
   "cell_type": "code",
   "execution_count": 49,
   "metadata": {},
   "outputs": [],
   "source": [
    "def def_onlyCode(allLines):\n",
    "    copyline = allLines.copy()\n",
    "    newLines=[]\n",
    "    lines=iter(allLines)\n",
    "    citer=0\n",
    "    withoutSpace = lambda x : x.replace(' ','')\n",
    "    blankLine = lambda x : x=='\\n'\n",
    "    commWildcard = lambda x:x[0]=='#'\n",
    "    commOneline = lambda x:(initComment(x) and endComment(x[3:]))\n",
    "    initComment = lambda x:(x[:3]=='\"\"\"')\n",
    "    endComment = lambda x:(x[-4:-1]=='\"\"\"')\n",
    "    \n",
    "    for line in lines:\n",
    "        citer=citer+1\n",
    "        newLine = withoutSpace(line)\n",
    "        if commWildcard(newLine):\n",
    "            continue\n",
    "        if blankLine(newLine):\n",
    "            continue\n",
    "        if commOneline(newLine):\n",
    "            continue\n",
    "        if initComment(newLine):\n",
    "            line = next(lines)\n",
    "            for i in range(citer,len(copyline)):\n",
    "                newLine = withoutSpace(line)\n",
    "                endLine = citer+1==len(copyline)\n",
    "                line = next(lines)\n",
    "                if endComment(newLine) or endLine:\n",
    "                    break\n",
    "                else:\n",
    "                    citer=citer+1\n",
    "        newLines.append(line)   \n",
    "    return newLines"
   ]
  },
  {
   "cell_type": "code",
   "execution_count": 39,
   "metadata": {},
   "outputs": [],
   "source": [
    "def returnFilespy(carpeta):\n",
    "    newArray=[]\n",
    "    for archivo in os.listdir(carpeta):\n",
    "        if os.path.isdir(os.path.join(carpeta,archivo)):\n",
    "            newArray = newArray+returnFilespy(os.path.join(carpeta,archivo))\n",
    "        else:\n",
    "            newArray.append(os.path.join(carpeta,archivo))\n",
    "    filesPy = [filePy for filePy in newArray if filePy[-3:]=='.py' ]\n",
    "    return filesPy"
   ]
  },
  {
   "cell_type": "code",
   "execution_count": 45,
   "metadata": {},
   "outputs": [
    {
     "data": {
      "text/plain": [
       "['.\\\\Almacen_repositorios\\\\data_hacks-master\\\\data_hacks\\\\bar_chart.py',\n",
       " '.\\\\Almacen_repositorios\\\\data_hacks-master\\\\data_hacks\\\\histogram.py',\n",
       " '.\\\\Almacen_repositorios\\\\data_hacks-master\\\\data_hacks\\\\ninety_five_percent.py',\n",
       " '.\\\\Almacen_repositorios\\\\data_hacks-master\\\\data_hacks\\\\run_for.py',\n",
       " '.\\\\Almacen_repositorios\\\\data_hacks-master\\\\data_hacks\\\\sample.py',\n",
       " '.\\\\Almacen_repositorios\\\\data_hacks-master\\\\setup.py']"
      ]
     },
     "execution_count": 45,
     "metadata": {},
     "output_type": "execute_result"
    }
   ],
   "source": [
    "ruoteFlies = '.\\\\Almacen_repositorios\\\\data_hacks-master'\n",
    "filesPy = returnFilespy(ruoteFlies)\n",
    "filesPy"
   ]
  },
  {
   "cell_type": "code",
   "execution_count": 50,
   "metadata": {},
   "outputs": [
    {
     "name": "stdout",
     "output_type": "stream",
     "text": [
      "80\n"
     ]
    },
    {
     "ename": "NameError",
     "evalue": "name 'depFor' is not defined",
     "output_type": "error",
     "traceback": [
      "\u001b[1;31m---------------------------------------------------------------------------\u001b[0m",
      "\u001b[1;31mNameError\u001b[0m                                 Traceback (most recent call last)",
      "\u001b[1;32m<ipython-input-50-7605b1290432>\u001b[0m in \u001b[0;36m<module>\u001b[1;34m()\u001b[0m\n\u001b[0;32m     11\u001b[0m \u001b[0mprint\u001b[0m\u001b[1;33m(\u001b[0m\u001b[0mlen\u001b[0m\u001b[1;33m(\u001b[0m\u001b[0mlinesCode\u001b[0m\u001b[1;33m)\u001b[0m\u001b[1;33m)\u001b[0m\u001b[1;33m\u001b[0m\u001b[0m\n\u001b[0;32m     12\u001b[0m \u001b[1;33m\u001b[0m\u001b[0m\n\u001b[1;32m---> 13\u001b[1;33m \u001b[0mcountFor\u001b[0m \u001b[1;33m=\u001b[0m \u001b[0mdepFor\u001b[0m\u001b[1;33m(\u001b[0m\u001b[0mlinesCode\u001b[0m\u001b[1;33m)\u001b[0m\u001b[1;33m\u001b[0m\u001b[0m\n\u001b[0m\u001b[0;32m     14\u001b[0m \u001b[0mprint\u001b[0m\u001b[1;33m(\u001b[0m\u001b[0mcountFor\u001b[0m\u001b[1;33m[\u001b[0m\u001b[1;36m1\u001b[0m\u001b[1;33m]\u001b[0m\u001b[1;33m[\u001b[0m\u001b[1;36m1\u001b[0m\u001b[1;33m:\u001b[0m\u001b[1;33m]\u001b[0m\u001b[1;33m)\u001b[0m\u001b[1;33m\u001b[0m\u001b[0m\n\u001b[0;32m     15\u001b[0m \u001b[1;33m\u001b[0m\u001b[0m\n",
      "\u001b[1;31mNameError\u001b[0m: name 'depFor' is not defined"
     ]
    }
   ],
   "source": [
    "start_time = time()\n",
    "# for filePy in filesPy\n",
    "#open file\n",
    "file = open('.\\\\Almacen_repositorios\\\\data_hacks-master\\\\data_hacks\\\\bar_chart.py', 'r')\n",
    "lines = file.readlines()\n",
    "\n",
    "##Prosesing file\n",
    "\n",
    "#Lines of code\n",
    "linesCode = def_onlyCode(lines)\n",
    "print(len(linesCode))\n",
    "\n",
    "countFor = depFor(linesCode)\n",
    "print(countFor[1][1:])\n",
    "\n",
    "libreriasSet = librerias(linesCode)\n",
    "print(libreriasSet)\n",
    "\n",
    "countArgdef = countDef(linesCode)\n",
    "print(countArgdef)\n",
    "\n",
    "isDupplicate = duplicateLine(linesCode)\n",
    "print(isDupplicate)\n",
    "\n",
    "#close file\n",
    "file.close()\n",
    "\n",
    "elapsed_time = time() - start_time\n",
    "print(elapsed_time)"
   ]
  },
  {
   "cell_type": "code",
   "execution_count": null,
   "metadata": {},
   "outputs": [],
   "source": []
  }
 ],
 "metadata": {
  "kernelspec": {
   "display_name": "Python 3",
   "language": "python",
   "name": "python3"
  },
  "language_info": {
   "codemirror_mode": {
    "name": "ipython",
    "version": 3
   },
   "file_extension": ".py",
   "mimetype": "text/x-python",
   "name": "python",
   "nbconvert_exporter": "python",
   "pygments_lexer": "ipython3",
   "version": "3.6.5"
  }
 },
 "nbformat": 4,
 "nbformat_minor": 2
}
