{
 "cells": [
  {
   "cell_type": "code",
   "execution_count": 68,
   "metadata": {},
   "outputs": [],
   "source": [
    "from time import time\n",
    "import os\n",
    "import collections"
   ]
  },
  {
   "cell_type": "code",
   "execution_count": 217,
   "metadata": {},
   "outputs": [],
   "source": [
    "def def_onlyCode(allLines):\n",
    "    copyline = allLines.copy()\n",
    "    newLines=[]\n",
    "    lines=iter(allLines)\n",
    "    citer=0\n",
    "    withoutSpace = lambda x : x.replace(' ','')\n",
    "    blankLine = lambda x : x=='\\n' or x==''\n",
    "    commWildcard = lambda x:x[0]=='#'\n",
    "    commOneline = lambda x:(initComment(x) and endComment(x[3:]))\n",
    "    initComment = lambda x:(x[:3]=='\"\"\"')\n",
    "    endComment = lambda x:(x[-4:-1]=='\"\"\"')\n",
    "    for line in lines:\n",
    "        citer=citer+1\n",
    "        newLine = withoutSpace(line)\n",
    "        if blankLine(newLine):\n",
    "            continue\n",
    "        if commWildcard(newLine):\n",
    "            continue\n",
    "        if commOneline(newLine):\n",
    "            continue\n",
    "        if initComment(newLine):\n",
    "            line = next(lines)\n",
    "            for i in range(citer,len(copyline)):\n",
    "                newLine = withoutSpace(line)\n",
    "                endLine = citer+1==len(copyline)\n",
    "                line = next(lines)\n",
    "                if endComment(newLine) or endLine:\n",
    "                    break\n",
    "                else:\n",
    "                    citer=citer+1\n",
    "        newLines.append(line)   \n",
    "    return newLines"
   ]
  },
  {
   "cell_type": "code",
   "execution_count": 218,
   "metadata": {},
   "outputs": [],
   "source": [
    "def depFor(archivo):\n",
    "    newLineas=archivo.copy()\n",
    "    lineas=iter(archivo)\n",
    "    citer=0\n",
    "    withoutSpace = lambda x : x.replace(' ','')\n",
    "    initFor = lambda x:(x[:3]=='for')\n",
    "    endFor = lambda x:(x[-2:-1]==':')\n",
    "    countSpace = lambda x:(x.index(x.replace(' ','')[0]))\n",
    "    arrMax=[0]\n",
    "    arr=[]\n",
    "    for linea in lineas:\n",
    "        citer=citer+1\n",
    "        wordFor='for'\n",
    "        wordEnd=':'\n",
    "        space = countSpace(linea)\n",
    "        patronFor=((initFor(withoutSpace(linea))) and (endFor(withoutSpace(linea))))\n",
    "        if patronFor:\n",
    "            newLines=[]\n",
    "            for i in range(citer,len(newLineas)):\n",
    "                endLine = citer+1==len(newLineas)\n",
    "                forSpace = False\n",
    "                if not endLine:\n",
    "                    nextspaceLine = countSpace(newLineas[citer])\n",
    "                    forSpace = nextspaceLine<=space\n",
    "                else:\n",
    "                    try:\n",
    "                        newLines.append(next(lineas))\n",
    "                    except:\n",
    "                        pass\n",
    "                if forSpace or endLine:\n",
    "                    value,arr=depFor(newLines)\n",
    "                    arrMax.append(value+1)\n",
    "                    break\n",
    "                else:\n",
    "                    try:\n",
    "                        newLines.append(next(lineas))\n",
    "                        citer=citer+1\n",
    "                    except:\n",
    "                        pass\n",
    "    return(max(arrMax),arrMax)"
   ]
  },
  {
   "cell_type": "code",
   "execution_count": 219,
   "metadata": {},
   "outputs": [],
   "source": [
    "def librerias(lines):\n",
    "    setlibrerias=set()\n",
    "    wordImport= 'import'\n",
    "    wordFrom= 'from'\n",
    "    notElement={'import', 'from', ''}\n",
    "    for line in lines:\n",
    "        inImport=(wordImport in line)\n",
    "        inFrom=(wordFrom in line)\n",
    "        if inFrom and inImport:\n",
    "            arrlibr = line[:line.index('import')].split(' ')\n",
    "            setlibrerias = setlibrerias|set(arrlibr)\n",
    "            continue\n",
    "        if inImport:\n",
    "            arrlibr =  line[:-1].split(' ')\n",
    "            setlibrerias = setlibrerias|set(arrlibr)\n",
    "            continue\n",
    "    return setlibrerias-notElement"
   ]
  },
  {
   "cell_type": "code",
   "execution_count": 220,
   "metadata": {},
   "outputs": [],
   "source": [
    "def countDef(lines):\n",
    "    wordDef='def'\n",
    "    wordEnd=':'\n",
    "    arrArg=[]\n",
    "    for line in lines:\n",
    "        if wordDef in line and wordEnd in line:\n",
    "            argini=line.find(\"(\")+1\n",
    "            argend=line.find(\")\")\n",
    "            arg=line[argini:argend].split(',')\n",
    "            arrArg.append(len(arg))\n",
    "    return arrArg"
   ]
  },
  {
   "cell_type": "code",
   "execution_count": 221,
   "metadata": {},
   "outputs": [],
   "source": [
    "def duplicateLine(arrlines):\n",
    "    newGroup=[]\n",
    "    withoutSpace = lambda x : x.replace(' ','')\n",
    "    lines=list(map(withoutSpace,arrlines))\n",
    "    unionLine=lambda x : x.replace('[','').replace(',','').replace(']','')\n",
    "    for i,line in enumerate(lines):\n",
    "        newGroup.append(str(unionLine(str(lines[i:i+4]))))\n",
    "    repetidos=collections.Counter(newGroup)\n",
    "    duplicado = [1 for key in repetidos if repetidos[key]>=2]\n",
    "    return (sum(duplicado)+3*bool(duplicado))"
   ]
  },
  {
   "cell_type": "code",
   "execution_count": null,
   "metadata": {},
   "outputs": [],
   "source": []
  },
  {
   "cell_type": "code",
   "execution_count": 222,
   "metadata": {},
   "outputs": [],
   "source": [
    "def returnFilespy(carpeta):\n",
    "    newArray=[]\n",
    "    for archivo in os.listdir(carpeta):\n",
    "        if os.path.isdir(os.path.join(carpeta,archivo)):\n",
    "            newArray = newArray+returnFilespy(os.path.join(carpeta,archivo))\n",
    "        else:\n",
    "            newArray.append(os.path.join(carpeta,archivo))\n",
    "    filesPy = [filePy for filePy in newArray if filePy[-3:]=='.py' ]\n",
    "    return filesPy"
   ]
  },
  {
   "cell_type": "code",
   "execution_count": 226,
   "metadata": {},
   "outputs": [
    {
     "data": {
      "text/plain": [
       "['.\\\\Almacen_repositorios\\\\data_hacks-master\\\\data_hacks\\\\bar_chart.py',\n",
       " '.\\\\Almacen_repositorios\\\\data_hacks-master\\\\data_hacks\\\\histogram.py',\n",
       " '.\\\\Almacen_repositorios\\\\data_hacks-master\\\\data_hacks\\\\ninety_five_percent.py',\n",
       " '.\\\\Almacen_repositorios\\\\data_hacks-master\\\\data_hacks\\\\run_for.py',\n",
       " '.\\\\Almacen_repositorios\\\\data_hacks-master\\\\data_hacks\\\\sample.py',\n",
       " '.\\\\Almacen_repositorios\\\\data_hacks-master\\\\setup.py']"
      ]
     },
     "execution_count": 226,
     "metadata": {},
     "output_type": "execute_result"
    }
   ],
   "source": [
    "ruoteFlies = '.\\\\Almacen_repositorios\\\\data_hacks-master'\n",
    "filesPy = returnFilespy(ruoteFlies)\n",
    "filesPy"
   ]
  },
  {
   "cell_type": "code",
   "execution_count": 227,
   "metadata": {},
   "outputs": [
    {
     "name": "stdout",
     "output_type": "stream",
     "text": [
      "********************************************************\n",
      ".\\Almacen_repositorios\\data_hacks-master\\data_hacks\\bar_chart.py\n",
      "80\n",
      "[1, 1, 1]\n",
      "{'collections', 'decimal', 'optparse', 'sys', 'math'}\n",
      "[1, 2]\n",
      "0\n",
      "0.010959386825561523\n",
      "********************************************************\n",
      ".\\Almacen_repositorios\\data_hacks-master\\data_hacks\\histogram.py\n",
      "216\n",
      "[1, 1, 1, 1, 1, 1, 2, 1]\n",
      "{'collections', 'decimal', 'optparse', 'sys', 'math', 'logging'}\n",
      "[1, 3, 1, 1, 1, 1, 3, 2, 1, 2, 2, 2]\n",
      "0\n",
      "0.08575844764709473\n",
      "********************************************************\n",
      ".\\Almacen_repositorios\\data_hacks-master\\data_hacks\\ninety_five_percent.py\n",
      "32\n",
      "[1, 1]\n",
      "{'os', 'sys', 'decimal'}\n",
      "[1, 2]\n",
      "0\n",
      "0.13164114952087402\n",
      "********************************************************\n",
      ".\\Almacen_repositorios\\data_hacks-master\\data_hacks\\run_for.py\n",
      "37\n",
      "[1]\n",
      "{'sys', 'os', 'time'}\n",
      "[1, 1]\n",
      "0\n",
      "0.1944713592529297\n",
      "********************************************************\n",
      ".\\Almacen_repositorios\\data_hacks-master\\data_hacks\\sample.py\n",
      "38\n",
      "[1]\n",
      "{'random', 'sys', 'decimal', 'optparse'}\n",
      "[1, 1]\n",
      "0\n",
      "0.21840500831604004\n",
      "********************************************************\n",
      ".\\Almacen_repositorios\\data_hacks-master\\setup.py\n",
      "21\n",
      "[]\n",
      "{'distutils.core'}\n",
      "[]\n",
      "0\n",
      "0.22339320182800293\n"
     ]
    }
   ],
   "source": [
    "start_time = time()\n",
    "for filePy in filesPy:\n",
    "    print('********************************************************')\n",
    "    print(filePy)\n",
    "    file = open(filePy, 'r')\n",
    "    lines = file.readlines()\n",
    "    linesCode = def_onlyCode(lines)\n",
    "    print(len(linesCode))\n",
    "    countFor = depFor(linesCode)\n",
    "    print(countFor[1][1:])\n",
    "    libreriasSet = librerias(linesCode)\n",
    "    print(libreriasSet)\n",
    "    countArgdef = countDef(linesCode)\n",
    "    print(countArgdef)\n",
    "    isDupplicate = duplicateLine(linesCode)\n",
    "    print(isDupplicate)\n",
    "    file.close()\n",
    "    elapsed_time = time() - start_time\n",
    "    print(elapsed_time)"
   ]
  },
  {
   "cell_type": "code",
   "execution_count": null,
   "metadata": {},
   "outputs": [],
   "source": []
  }
 ],
 "metadata": {
  "kernelspec": {
   "display_name": "Python 3",
   "language": "python",
   "name": "python3"
  },
  "language_info": {
   "codemirror_mode": {
    "name": "ipython",
    "version": 3
   },
   "file_extension": ".py",
   "mimetype": "text/x-python",
   "name": "python",
   "nbconvert_exporter": "python",
   "pygments_lexer": "ipython3",
   "version": "3.6.5"
  }
 },
 "nbformat": 4,
 "nbformat_minor": 2
}
