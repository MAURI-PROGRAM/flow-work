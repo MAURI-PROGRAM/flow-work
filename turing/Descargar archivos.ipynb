{
 "cells": [
  {
   "cell_type": "code",
   "execution_count": 1,
   "metadata": {},
   "outputs": [],
   "source": [
    "import pandas as pd"
   ]
  },
  {
   "cell_type": "code",
   "execution_count": 16,
   "metadata": {},
   "outputs": [
    {
     "data": {
      "text/html": [
       "<div>\n",
       "<style scoped>\n",
       "    .dataframe tbody tr th:only-of-type {\n",
       "        vertical-align: middle;\n",
       "    }\n",
       "\n",
       "    .dataframe tbody tr th {\n",
       "        vertical-align: top;\n",
       "    }\n",
       "\n",
       "    .dataframe thead th {\n",
       "        text-align: right;\n",
       "    }\n",
       "</style>\n",
       "<table border=\"1\" class=\"dataframe\">\n",
       "  <thead>\n",
       "    <tr style=\"text-align: right;\">\n",
       "      <th></th>\n",
       "      <th>URLs</th>\n",
       "    </tr>\n",
       "  </thead>\n",
       "  <tbody>\n",
       "    <tr>\n",
       "      <th>0</th>\n",
       "      <td>https://github.com/bitly/data_hacks</td>\n",
       "    </tr>\n",
       "    <tr>\n",
       "      <th>1</th>\n",
       "      <td>https://github.com/kevinburke/hamms</td>\n",
       "    </tr>\n",
       "    <tr>\n",
       "      <th>2</th>\n",
       "      <td>https://github.com/BugScanTeam/DNSLog</td>\n",
       "    </tr>\n",
       "    <tr>\n",
       "      <th>3</th>\n",
       "      <td>https://github.com/pirate/crypto-trader</td>\n",
       "    </tr>\n",
       "    <tr>\n",
       "      <th>4</th>\n",
       "      <td>https://github.com/0xdeadbeefJERKY/Office-DDE-...</td>\n",
       "    </tr>\n",
       "  </tbody>\n",
       "</table>\n",
       "</div>"
      ],
      "text/plain": [
       "                                                URLs\n",
       "0                https://github.com/bitly/data_hacks\n",
       "1                https://github.com/kevinburke/hamms\n",
       "2              https://github.com/BugScanTeam/DNSLog\n",
       "3            https://github.com/pirate/crypto-trader\n",
       "4  https://github.com/0xdeadbeefJERKY/Office-DDE-..."
      ]
     },
     "execution_count": 16,
     "metadata": {},
     "output_type": "execute_result"
    }
   ],
   "source": [
    "ruta= \"./turing-data-challenge-master/url_list.csv\"\n",
    "rutas = pd.read_csv(ruta)\n",
    "rutas.head()"
   ]
  },
  {
   "cell_type": "code",
   "execution_count": 13,
   "metadata": {},
   "outputs": [],
   "source": [
    "rutas.drop_duplicates(['URLs'], keep='first',inplace=True)"
   ]
  },
  {
   "cell_type": "code",
   "execution_count": 25,
   "metadata": {},
   "outputs": [],
   "source": [
    "newrutas = rutas.head(10)"
   ]
  },
  {
   "cell_type": "code",
   "execution_count": 26,
   "metadata": {},
   "outputs": [
    {
     "data": {
      "text/html": [
       "<div>\n",
       "<style scoped>\n",
       "    .dataframe tbody tr th:only-of-type {\n",
       "        vertical-align: middle;\n",
       "    }\n",
       "\n",
       "    .dataframe tbody tr th {\n",
       "        vertical-align: top;\n",
       "    }\n",
       "\n",
       "    .dataframe thead th {\n",
       "        text-align: right;\n",
       "    }\n",
       "</style>\n",
       "<table border=\"1\" class=\"dataframe\">\n",
       "  <thead>\n",
       "    <tr style=\"text-align: right;\">\n",
       "      <th></th>\n",
       "      <th>URLs</th>\n",
       "    </tr>\n",
       "  </thead>\n",
       "  <tbody>\n",
       "    <tr>\n",
       "      <th>0</th>\n",
       "      <td>https://github.com/bitly/data_hacks</td>\n",
       "    </tr>\n",
       "    <tr>\n",
       "      <th>1</th>\n",
       "      <td>https://github.com/kevinburke/hamms</td>\n",
       "    </tr>\n",
       "    <tr>\n",
       "      <th>2</th>\n",
       "      <td>https://github.com/BugScanTeam/DNSLog</td>\n",
       "    </tr>\n",
       "    <tr>\n",
       "      <th>3</th>\n",
       "      <td>https://github.com/pirate/crypto-trader</td>\n",
       "    </tr>\n",
       "    <tr>\n",
       "      <th>4</th>\n",
       "      <td>https://github.com/0xdeadbeefJERKY/Office-DDE-...</td>\n",
       "    </tr>\n",
       "    <tr>\n",
       "      <th>5</th>\n",
       "      <td>https://github.com/maldevel/gdog</td>\n",
       "    </tr>\n",
       "    <tr>\n",
       "      <th>6</th>\n",
       "      <td>https://github.com/tkipf/relational-gcn</td>\n",
       "    </tr>\n",
       "    <tr>\n",
       "      <th>7</th>\n",
       "      <td>https://github.com/b-k/py1040</td>\n",
       "    </tr>\n",
       "    <tr>\n",
       "      <th>8</th>\n",
       "      <td>https://github.com/Cisco-Talos/ROPMEMU</td>\n",
       "    </tr>\n",
       "    <tr>\n",
       "      <th>9</th>\n",
       "      <td>https://github.com/ondryaso/pi-rc522</td>\n",
       "    </tr>\n",
       "  </tbody>\n",
       "</table>\n",
       "</div>"
      ],
      "text/plain": [
       "                                                URLs\n",
       "0                https://github.com/bitly/data_hacks\n",
       "1                https://github.com/kevinburke/hamms\n",
       "2              https://github.com/BugScanTeam/DNSLog\n",
       "3            https://github.com/pirate/crypto-trader\n",
       "4  https://github.com/0xdeadbeefJERKY/Office-DDE-...\n",
       "5                   https://github.com/maldevel/gdog\n",
       "6            https://github.com/tkipf/relational-gcn\n",
       "7                      https://github.com/b-k/py1040\n",
       "8             https://github.com/Cisco-Talos/ROPMEMU\n",
       "9               https://github.com/ondryaso/pi-rc522"
      ]
     },
     "execution_count": 26,
     "metadata": {},
     "output_type": "execute_result"
    }
   ],
   "source": [
    "newrutas"
   ]
  },
  {
   "cell_type": "code",
   "execution_count": 5,
   "metadata": {},
   "outputs": [],
   "source": [
    "!cd .."
   ]
  },
  {
   "cell_type": "code",
   "execution_count": 18,
   "metadata": {},
   "outputs": [],
   "source": [
    "import requests, zipfile, io"
   ]
  },
  {
   "cell_type": "code",
   "execution_count": 30,
   "metadata": {},
   "outputs": [],
   "source": [
    "zip_file_url = 'https://github.com/bitly/data_hacks/archive/master.zip'\n",
    "r = requests.get(zip_file_url)\n",
    "z = zipfile.ZipFile(io.BytesIO(r.content),'w')\n",
    "z.extractall(r'C:\\Users\\Michael\\Desktop\\PROCESOS\\turing\\Almacen_repositorios',z.namelist( ))"
   ]
  },
  {
   "cell_type": "code",
   "execution_count": 27,
   "metadata": {},
   "outputs": [
    {
     "data": {
      "text/plain": [
       "[<ZipInfo filename='data_hacks-master/' external_attr=0x10>,\n",
       " <ZipInfo filename='data_hacks-master/.gitignore' file_size=11>,\n",
       " <ZipInfo filename='data_hacks-master/README.markdown' compress_type=deflate file_size=3941 compress_size=1370>,\n",
       " <ZipInfo filename='data_hacks-master/data_hacks/' external_attr=0x10>,\n",
       " <ZipInfo filename='data_hacks-master/data_hacks/bar_chart.py' compress_type=deflate filemode='-rwxr-xr-x' file_size=4495 compress_size=1621>,\n",
       " <ZipInfo filename='data_hacks-master/data_hacks/histogram.py' compress_type=deflate filemode='-rwxr-xr-x' file_size=10716 compress_size=3582>,\n",
       " <ZipInfo filename='data_hacks-master/data_hacks/ninety_five_percent.py' compress_type=deflate filemode='-rwxr-xr-x' file_size=1717 compress_size=897>,\n",
       " <ZipInfo filename='data_hacks-master/data_hacks/run_for.py' compress_type=deflate filemode='-rwxr-xr-x' file_size=1656 compress_size=821>,\n",
       " <ZipInfo filename='data_hacks-master/data_hacks/sample.py' compress_type=deflate filemode='-rwxr-xr-x' file_size=2082 compress_size=1003>,\n",
       " <ZipInfo filename='data_hacks-master/setup.py' compress_type=deflate filemode='-rwxr-xr-x' file_size=850 compress_size=411>]"
      ]
     },
     "execution_count": 27,
     "metadata": {},
     "output_type": "execute_result"
    }
   ],
   "source": [
    "z.infolist()"
   ]
  },
  {
   "cell_type": "code",
   "execution_count": 28,
   "metadata": {},
   "outputs": [
    {
     "data": {
      "text/plain": [
       "['data_hacks-master/',\n",
       " 'data_hacks-master/.gitignore',\n",
       " 'data_hacks-master/README.markdown',\n",
       " 'data_hacks-master/data_hacks/',\n",
       " 'data_hacks-master/data_hacks/bar_chart.py',\n",
       " 'data_hacks-master/data_hacks/histogram.py',\n",
       " 'data_hacks-master/data_hacks/ninety_five_percent.py',\n",
       " 'data_hacks-master/data_hacks/run_for.py',\n",
       " 'data_hacks-master/data_hacks/sample.py',\n",
       " 'data_hacks-master/setup.py']"
      ]
     },
     "execution_count": 28,
     "metadata": {},
     "output_type": "execute_result"
    }
   ],
   "source": [
    "z.namelist( )"
   ]
  },
  {
   "cell_type": "code",
   "execution_count": null,
   "metadata": {},
   "outputs": [],
   "source": []
  },
  {
   "cell_type": "code",
   "execution_count": null,
   "metadata": {},
   "outputs": [],
   "source": []
  },
  {
   "cell_type": "code",
   "execution_count": null,
   "metadata": {},
   "outputs": [],
   "source": []
  },
  {
   "cell_type": "code",
   "execution_count": null,
   "metadata": {},
   "outputs": [],
   "source": []
  },
  {
   "cell_type": "code",
   "execution_count": 14,
   "metadata": {},
   "outputs": [],
   "source": [
    "z.write(r'C:\\Users\\Michael\\Desktop\\PROCESOS\\turing\\Almacen_repositorios', compress_type=zipfile.ZIP_DEFLATED)"
   ]
  },
  {
   "cell_type": "code",
   "execution_count": 15,
   "metadata": {},
   "outputs": [],
   "source": [
    "z.close()"
   ]
  },
  {
   "cell_type": "code",
   "execution_count": null,
   "metadata": {},
   "outputs": [],
   "source": [
    "z.extractall()\n",
    "# myfile = requests.get(url)\n",
    " \n",
    "# open(r'C:\\Users\\Michael\\Desktop\\PROCESOS\\turing\\Almacen_repositorios', 'w').write(myfile.content)"
   ]
  }
 ],
 "metadata": {
  "kernelspec": {
   "display_name": "Python 3",
   "language": "python",
   "name": "python3"
  },
  "language_info": {
   "codemirror_mode": {
    "name": "ipython",
    "version": 3
   },
   "file_extension": ".py",
   "mimetype": "text/x-python",
   "name": "python",
   "nbconvert_exporter": "python",
   "pygments_lexer": "ipython3",
   "version": "3.6.5"
  }
 },
 "nbformat": 4,
 "nbformat_minor": 2
}
