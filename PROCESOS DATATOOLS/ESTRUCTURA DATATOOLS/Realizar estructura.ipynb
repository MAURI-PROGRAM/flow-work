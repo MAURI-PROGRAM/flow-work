{
 "cells": [
  {
   "cell_type": "code",
   "execution_count": 1,
   "metadata": {},
   "outputs": [],
   "source": [
    "#importar pandas\n",
    "import pandas as pd\n",
    "import MySQLdb\n",
    "import pandas as pd\n",
    "from datetime import datetime,timedelta\n",
    "import random"
   ]
  },
  {
   "cell_type": "code",
   "execution_count": 2,
   "metadata": {},
   "outputs": [],
   "source": [
    "import numpy as np"
   ]
  },
  {
   "cell_type": "code",
   "execution_count": 3,
   "metadata": {},
   "outputs": [],
   "source": [
    "db = MySQLdb.connect(host=\"172.18.55.6\",    # tu host, usualmente localhost\n",
    "                     user=\"comandato\",         # tu usuario\n",
    "                     passwd=\"comandato123\",  # tu password\n",
    "                     db=\"SISTEMECUADOR_ATM\")        # el nombre de la base de datos"
   ]
  },
  {
   "cell_type": "code",
   "execution_count": null,
   "metadata": {},
   "outputs": [],
   "source": []
  },
  {
   "cell_type": "code",
   "execution_count": 4,
   "metadata": {},
   "outputs": [],
   "source": [
    "multas=\"\"\" SELECT Cedula,Segmento   FROM SISTEMECUADOR_ATM.MULTAS_MENSUALES where Mes=11 group by Cedula\"\"\"\n",
    "resultado_multas=pd.read_sql(multas, con=db)"
   ]
  },
  {
   "cell_type": "code",
   "execution_count": 5,
   "metadata": {},
   "outputs": [],
   "source": [
    "resultado_multas['NRO_IDENTIFICACION_CLIENTE']='0'+resultado_multas['Cedula']"
   ]
  },
  {
   "cell_type": "code",
   "execution_count": null,
   "metadata": {},
   "outputs": [],
   "source": []
  },
  {
   "cell_type": "code",
   "execution_count": 6,
   "metadata": {},
   "outputs": [],
   "source": [
    "consulta=\"\"\" SELECT\n",
    "    COD_AGENTE,\n",
    "    if(RESPUESTA_OBTENIDA in ('ACUERDO DE PAGO','ACUERDO DE CONVENIO'),2,1) as TIPO_GESTION,\n",
    "    NRO_IDENTIFICACION_CLIENTE,\n",
    "    CASA_COBRANZA,\n",
    "    '' AS USUARIO_SAC,\n",
    "    DATE_FORMAT(FECHA_GESTION, '%d/%m/%Y %H:%i:%s') as FECHA_GESTION,\n",
    "    ACCION_REALIZADA,\n",
    "    RESPUESTA_OBTENIDA,\n",
    "    CONTACTO_GESTIONO,\n",
    "    COMENTARIOS_GESTIONO,\n",
    "    NUMERO_GESTION,\n",
    "    MOTIVO_NO_PAGO as MOTIVO_NO_PAGO,\n",
    "    DATE_FORMAT(FECHA_PROXIMA_GESTION,'%d/%m/%Y %H:%i:%s') AS FECHA_PROXIMA_GESTION,\n",
    "    if(TIEMPO_GESTION<45,ROUND(rand()*60+45),TIEMPO_GESTION) as tiempo_gestion,\n",
    "    if(RESPUESTA_OBTENIDA in ('ACUERDO DE PAGO','ACUERDO DE CONVENIO'),SUBSTRING(NRO_CUENTA_PROMESA,1,length(NRO_CUENTA_PROMESA)-1),'') as multa,\n",
    "    if(RESPUESTA_OBTENIDA in ('ACUERDO DE PAGO','ACUERDO DE CONVENIO'),if(CAST(ROUND(VALOR_PROMESA) AS CHAR)<100,100,CAST(ROUND(VALOR_PROMESA) AS CHAR)),'') as valor,\n",
    "    if(RESPUESTA_OBTENIDA in ('ACUERDO DE PAGO','ACUERDO DE CONVENIO'),DATE_FORMAT(FECHA_PAGO_PROMESA, '%d/%m/%Y'),'') AS FECHA_PAGO,\n",
    "    DIRECCION_VISITA,\n",
    "    '' as FASE,\n",
    "    CANAL_GESTION\n",
    "FROM\n",
    "    SISTEMECUADOR_ATM.GESTION\n",
    "WHERE\n",
    "    NRO_IDENTIFICACION_CLIENTE!='' and RESPUESTA_OBTENIDA!='' and NUMERO_GESTION!=''\n",
    "    AND RESPUESTA_OBTENIDA not IN('CONTESTO IVR','IVR','NO CONTESTO IVR') \"\"\""
   ]
  },
  {
   "cell_type": "code",
   "execution_count": 7,
   "metadata": {},
   "outputs": [],
   "source": [
    "consulta1=consulta+\"and FECHA_GESTION BETWEEN DATE_FORMAT(DATE_SUB(NOW(), INTERVAL 0 DAY),'%Y/%m/%d 07:00:00') AND DATE_FORMAT(DATE_SUB(NOW(), INTERVAL 0 DAY),'%Y/%m/%d 14:00:00') ORDER BY FECHA_GESTION ASC \"\n",
    "consulta2=consulta+\"and FECHA_GESTION BETWEEN DATE_FORMAT(DATE_SUB(NOW(), INTERVAL 0 DAY),'%Y/%m/%d 14:00:00') AND DATE_FORMAT(DATE_SUB(NOW(), INTERVAL 0 DAY),'%Y/%m/%d 21:00:00') ORDER BY FECHA_GESTION ASC \""
   ]
  },
  {
   "cell_type": "code",
   "execution_count": 8,
   "metadata": {},
   "outputs": [],
   "source": [
    "resultado1=pd.read_sql(consulta1, con=db)\n",
    "resultado2=pd.read_sql(consulta2, con=db)"
   ]
  },
  {
   "cell_type": "code",
   "execution_count": 9,
   "metadata": {},
   "outputs": [],
   "source": [
    "usuario=pd.read_excel(open('USUARIO.xlsx','rb'), sheet_name='Hoja1')"
   ]
  },
  {
   "cell_type": "code",
   "execution_count": 10,
   "metadata": {},
   "outputs": [],
   "source": [
    "result3 = pd.merge(resultado1,usuario,on='COD_AGENTE',how='left')\n",
    "result4 = pd.merge(resultado2,usuario,on='COD_AGENTE',how='left')"
   ]
  },
  {
   "cell_type": "code",
   "execution_count": null,
   "metadata": {},
   "outputs": [],
   "source": []
  },
  {
   "cell_type": "code",
   "execution_count": 11,
   "metadata": {},
   "outputs": [],
   "source": [
    "result5 = pd.merge(result3,resultado_multas,on='NRO_IDENTIFICACION_CLIENTE',how='left')\n",
    "result6 = pd.merge(result4,resultado_multas,on='NRO_IDENTIFICACION_CLIENTE',how='left')"
   ]
  },
  {
   "cell_type": "code",
   "execution_count": 12,
   "metadata": {},
   "outputs": [],
   "source": [
    "result5['Segmento'].replace(np.nan, \"4. VENCIDA FASE I\", inplace = True)\n",
    "result6['Segmento'].replace(np.nan, \"4. VENCIDA FASE I\", inplace = True)"
   ]
  },
  {
   "cell_type": "code",
   "execution_count": 13,
   "metadata": {},
   "outputs": [],
   "source": [
    "result5['FASE']=result5['Segmento']\n",
    "result5['USUARIO_SAC']=result5['CODIGO']\n",
    "result6['FASE']=result6['Segmento']\n",
    "result6['USUARIO_SAC']=result6['CODIGO']"
   ]
  },
  {
   "cell_type": "code",
   "execution_count": 14,
   "metadata": {},
   "outputs": [],
   "source": [
    "result5.drop(['COD_AGENTE','CODIGO','Cedula','Segmento'], axis=1, inplace=True)\n",
    "result6.drop(['COD_AGENTE','CODIGO','Cedula','Segmento'], axis=1, inplace=True)"
   ]
  },
  {
   "cell_type": "code",
   "execution_count": 15,
   "metadata": {},
   "outputs": [],
   "source": [
    "def quitar_espacio(base):\n",
    "    comentario=base['COMENTARIOS_GESTIONO']\n",
    "    if comentario[0]==' ':\n",
    "        return comentario[1:]\n",
    "    return comentario    "
   ]
  },
  {
   "cell_type": "code",
   "execution_count": 16,
   "metadata": {},
   "outputs": [],
   "source": [
    "result5['COMENTARIOS_GESTIONO']=result5.apply(quitar_espacio,axis=1)"
   ]
  },
  {
   "cell_type": "code",
   "execution_count": 17,
   "metadata": {},
   "outputs": [],
   "source": [
    "try:\n",
    "    result6['COMENTARIOS_GESTIONO']=result6.apply(quitar_espacio,axis=1)\n",
    "except:\n",
    "    pass"
   ]
  },
  {
   "cell_type": "code",
   "execution_count": null,
   "metadata": {},
   "outputs": [],
   "source": []
  },
  {
   "cell_type": "code",
   "execution_count": 18,
   "metadata": {},
   "outputs": [],
   "source": [
    "result5.sort_values(by='USUARIO_SAC',ascending=False,inplace=True)\n",
    "result6.sort_values(by='USUARIO_SAC',ascending=False,inplace=True)"
   ]
  },
  {
   "cell_type": "code",
   "execution_count": null,
   "metadata": {},
   "outputs": [],
   "source": []
  },
  {
   "cell_type": "code",
   "execution_count": 19,
   "metadata": {},
   "outputs": [],
   "source": [
    "nombre_1=result5['USUARIO_SAC'].value_counts().reset_index()\n",
    "nombre_1['tipo']='MAÑANA'"
   ]
  },
  {
   "cell_type": "code",
   "execution_count": 20,
   "metadata": {},
   "outputs": [],
   "source": [
    "nombre_2=result6['USUARIO_SAC'].value_counts().reset_index()\n",
    "nombre_2['tipo']='NOCHE'"
   ]
  },
  {
   "cell_type": "code",
   "execution_count": 21,
   "metadata": {},
   "outputs": [],
   "source": [
    "total=pd.concat([nombre_1,nombre_2])"
   ]
  },
  {
   "cell_type": "code",
   "execution_count": 22,
   "metadata": {},
   "outputs": [
    {
     "data": {
      "text/html": [
       "<div>\n",
       "<style scoped>\n",
       "    .dataframe tbody tr th:only-of-type {\n",
       "        vertical-align: middle;\n",
       "    }\n",
       "\n",
       "    .dataframe tbody tr th {\n",
       "        vertical-align: top;\n",
       "    }\n",
       "\n",
       "    .dataframe thead th {\n",
       "        text-align: right;\n",
       "    }\n",
       "</style>\n",
       "<table border=\"1\" class=\"dataframe\">\n",
       "  <thead>\n",
       "    <tr style=\"text-align: right;\">\n",
       "      <th></th>\n",
       "      <th>index</th>\n",
       "      <th>USUARIO_SAC</th>\n",
       "      <th>tipo</th>\n",
       "    </tr>\n",
       "  </thead>\n",
       "  <tbody>\n",
       "    <tr>\n",
       "      <th>7</th>\n",
       "      <td>EARGUELLO_SISTEM</td>\n",
       "      <td>36</td>\n",
       "      <td>MAÑANA</td>\n",
       "    </tr>\n",
       "    <tr>\n",
       "      <th>6</th>\n",
       "      <td>AHERRERA_SISTEM</td>\n",
       "      <td>94</td>\n",
       "      <td>MAÑANA</td>\n",
       "    </tr>\n",
       "    <tr>\n",
       "      <th>5</th>\n",
       "      <td>MMEJIA_SISTEM</td>\n",
       "      <td>95</td>\n",
       "      <td>MAÑANA</td>\n",
       "    </tr>\n",
       "    <tr>\n",
       "      <th>4</th>\n",
       "      <td>JMONCAYO_SISTEM</td>\n",
       "      <td>103</td>\n",
       "      <td>MAÑANA</td>\n",
       "    </tr>\n",
       "    <tr>\n",
       "      <th>3</th>\n",
       "      <td>CTORRES_SISTEM</td>\n",
       "      <td>113</td>\n",
       "      <td>MAÑANA</td>\n",
       "    </tr>\n",
       "    <tr>\n",
       "      <th>2</th>\n",
       "      <td>GTOALA_SISTEM</td>\n",
       "      <td>117</td>\n",
       "      <td>MAÑANA</td>\n",
       "    </tr>\n",
       "    <tr>\n",
       "      <th>1</th>\n",
       "      <td>NLARROSA_SISTEM</td>\n",
       "      <td>129</td>\n",
       "      <td>MAÑANA</td>\n",
       "    </tr>\n",
       "    <tr>\n",
       "      <th>0</th>\n",
       "      <td>JHERMIDA_SISTEM</td>\n",
       "      <td>161</td>\n",
       "      <td>MAÑANA</td>\n",
       "    </tr>\n",
       "    <tr>\n",
       "      <th>7</th>\n",
       "      <td>BSOLIS_SISTEM</td>\n",
       "      <td>117</td>\n",
       "      <td>NOCHE</td>\n",
       "    </tr>\n",
       "    <tr>\n",
       "      <th>6</th>\n",
       "      <td>JBARRAGAN_SISTEM</td>\n",
       "      <td>143</td>\n",
       "      <td>NOCHE</td>\n",
       "    </tr>\n",
       "    <tr>\n",
       "      <th>5</th>\n",
       "      <td>IQUINDE_SISTEM</td>\n",
       "      <td>150</td>\n",
       "      <td>NOCHE</td>\n",
       "    </tr>\n",
       "    <tr>\n",
       "      <th>4</th>\n",
       "      <td>MMALATS_SISTEM</td>\n",
       "      <td>164</td>\n",
       "      <td>NOCHE</td>\n",
       "    </tr>\n",
       "    <tr>\n",
       "      <th>3</th>\n",
       "      <td>JCERCADO_SISTEM</td>\n",
       "      <td>168</td>\n",
       "      <td>NOCHE</td>\n",
       "    </tr>\n",
       "    <tr>\n",
       "      <th>2</th>\n",
       "      <td>WVERA_SISTEM</td>\n",
       "      <td>176</td>\n",
       "      <td>NOCHE</td>\n",
       "    </tr>\n",
       "    <tr>\n",
       "      <th>1</th>\n",
       "      <td>JVERA_SISTEM</td>\n",
       "      <td>189</td>\n",
       "      <td>NOCHE</td>\n",
       "    </tr>\n",
       "    <tr>\n",
       "      <th>0</th>\n",
       "      <td>GROBLES_SISTEM</td>\n",
       "      <td>234</td>\n",
       "      <td>NOCHE</td>\n",
       "    </tr>\n",
       "  </tbody>\n",
       "</table>\n",
       "</div>"
      ],
      "text/plain": [
       "              index  USUARIO_SAC    tipo\n",
       "7  EARGUELLO_SISTEM           36  MAÑANA\n",
       "6   AHERRERA_SISTEM           94  MAÑANA\n",
       "5     MMEJIA_SISTEM           95  MAÑANA\n",
       "4   JMONCAYO_SISTEM          103  MAÑANA\n",
       "3    CTORRES_SISTEM          113  MAÑANA\n",
       "2     GTOALA_SISTEM          117  MAÑANA\n",
       "1   NLARROSA_SISTEM          129  MAÑANA\n",
       "0   JHERMIDA_SISTEM          161  MAÑANA\n",
       "7     BSOLIS_SISTEM          117   NOCHE\n",
       "6  JBARRAGAN_SISTEM          143   NOCHE\n",
       "5    IQUINDE_SISTEM          150   NOCHE\n",
       "4    MMALATS_SISTEM          164   NOCHE\n",
       "3   JCERCADO_SISTEM          168   NOCHE\n",
       "2      WVERA_SISTEM          176   NOCHE\n",
       "1      JVERA_SISTEM          189   NOCHE\n",
       "0    GROBLES_SISTEM          234   NOCHE"
      ]
     },
     "execution_count": 22,
     "metadata": {},
     "output_type": "execute_result"
    }
   ],
   "source": [
    "total.sort_values(['tipo','USUARIO_SAC'])"
   ]
  },
  {
   "cell_type": "code",
   "execution_count": null,
   "metadata": {},
   "outputs": [],
   "source": []
  },
  {
   "cell_type": "code",
   "execution_count": 23,
   "metadata": {},
   "outputs": [],
   "source": [
    "writer = pd.ExcelWriter('ESTRUCTURA DE GESTION Y MASIVOS AL XX DE ENERO.xlsx', engine='xlsxwriter')"
   ]
  },
  {
   "cell_type": "code",
   "execution_count": 24,
   "metadata": {},
   "outputs": [],
   "source": [
    "result5.to_excel(writer,  index = False, sheet_name='PRIMER_GESTION')\n",
    "worksheet = writer.sheets['PRIMER_GESTION']\n",
    "result6.to_excel(writer,  index = False,sheet_name='SEGUNDA_GESTION')\n",
    "worksheet = writer.sheets['SEGUNDA_GESTION']\n",
    "total.to_excel(writer,  index = False,sheet_name='NUMGESTION')\n",
    "worksheet = writer.sheets['NUMGESTION']\n",
    "writer.save()"
   ]
  },
  {
   "cell_type": "code",
   "execution_count": null,
   "metadata": {},
   "outputs": [],
   "source": []
  },
  {
   "cell_type": "code",
   "execution_count": null,
   "metadata": {},
   "outputs": [],
   "source": []
  }
 ],
 "metadata": {
  "kernelspec": {
   "display_name": "Python 3",
   "language": "python",
   "name": "python3"
  },
  "language_info": {
   "codemirror_mode": {
    "name": "ipython",
    "version": 3
   },
   "file_extension": ".py",
   "mimetype": "text/x-python",
   "name": "python",
   "nbconvert_exporter": "python",
   "pygments_lexer": "ipython3",
   "version": "3.6.5"
  }
 },
 "nbformat": 4,
 "nbformat_minor": 2
}
