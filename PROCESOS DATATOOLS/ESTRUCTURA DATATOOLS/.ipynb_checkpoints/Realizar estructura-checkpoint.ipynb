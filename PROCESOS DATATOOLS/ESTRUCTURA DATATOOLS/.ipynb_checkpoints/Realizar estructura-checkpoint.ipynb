{
 "cells": [
  {
   "cell_type": "code",
   "execution_count": 62,
   "metadata": {},
   "outputs": [],
   "source": [
    "#importar pandas\n",
    "import pandas as pd\n",
    "import MySQLdb\n",
    "import pandas as pd\n",
    "from datetime import datetime,timedelta\n",
    "import random"
   ]
  },
  {
   "cell_type": "code",
   "execution_count": 63,
   "metadata": {},
   "outputs": [],
   "source": [
    "import numpy as np"
   ]
  },
  {
   "cell_type": "code",
   "execution_count": 64,
   "metadata": {},
   "outputs": [],
   "source": [
    "db = MySQLdb.connect(host=\"172.18.55.6\",    # tu host, usualmente localhost\n",
    "                     user=\"comandato\",         # tu usuario\n",
    "                     passwd=\"comandato123\",  # tu password\n",
    "                     db=\"SISTEMECUADOR_ATM\")        # el nombre de la base de datos"
   ]
  },
  {
   "cell_type": "code",
   "execution_count": null,
   "metadata": {},
   "outputs": [],
   "source": []
  },
  {
   "cell_type": "code",
   "execution_count": 65,
   "metadata": {},
   "outputs": [],
   "source": [
    "multas=\"\"\" SELECT Cedula,Segmento   FROM SISTEMECUADOR_ATM.MULTAS_MENSUALES where Mes=2 group by Cedula\"\"\"\n",
    "resultado_multas=pd.read_sql(multas, con=db)"
   ]
  },
  {
   "cell_type": "code",
   "execution_count": 66,
   "metadata": {},
   "outputs": [],
   "source": [
    "resultado_multas['NRO_IDENTIFICACION_CLIENTE']='0'+resultado_multas['Cedula']"
   ]
  },
  {
   "cell_type": "code",
   "execution_count": null,
   "metadata": {},
   "outputs": [],
   "source": []
  },
  {
   "cell_type": "code",
   "execution_count": 67,
   "metadata": {},
   "outputs": [],
   "source": [
    "consulta=\"\"\" SELECT\n",
    "    COD_AGENTE,\n",
    "    if(RESPUESTA_OBTENIDA in ('ACUERDO DE PAGO','ACUERDO DE CONVENIO'),2,1) as TIPO_GESTION,\n",
    "    NRO_IDENTIFICACION_CLIENTE,\n",
    "    CASA_COBRANZA,\n",
    "    '' AS USUARIO_SAC,\n",
    "    DATE_FORMAT(FECHA_GESTION, '%d/%m/%Y %H:%i:%s') as FECHA_GESTION,\n",
    "    ACCION_REALIZADA,\n",
    "    RESPUESTA_OBTENIDA,\n",
    "    CONTACTO_GESTIONO,\n",
    "    COMENTARIOS_GESTIONO,\n",
    "    NUMERO_GESTION,\n",
    "    MOTIVO_NO_PAGO as MOTIVO_NO_PAGO,\n",
    "    DATE_FORMAT(FECHA_PROXIMA_GESTION,'%d/%m/%Y %H:%i:%s') AS FECHA_PROXIMA_GESTION,\n",
    "    if(TIEMPO_GESTION<45,ROUND(rand()*60+45),TIEMPO_GESTION) as tiempo_gestion,\n",
    "    if(RESPUESTA_OBTENIDA in ('ACUERDO DE PAGO','ACUERDO DE CONVENIO'),SUBSTRING(NRO_CUENTA_PROMESA,1,length(NRO_CUENTA_PROMESA)-1),'') as multa,\n",
    "    if(RESPUESTA_OBTENIDA in ('ACUERDO DE PAGO','ACUERDO DE CONVENIO'),if(CAST(ROUND(VALOR_PROMESA) AS CHAR)<100,100,CAST(ROUND(VALOR_PROMESA) AS CHAR)),'') as valor,\n",
    "    if(RESPUESTA_OBTENIDA in ('ACUERDO DE PAGO','ACUERDO DE CONVENIO'),DATE_FORMAT(FECHA_PAGO_PROMESA, '%d/%m/%Y'),'') AS FECHA_PAGO,\n",
    "    DIRECCION_VISITA,\n",
    "    '' as FASE,\n",
    "    CANAL_GESTION\n",
    "FROM\n",
    "    SISTEMECUADOR_ATM.GESTION\n",
    "WHERE     NRO_IDENTIFICACION_CLIENTE!='' and RESPUESTA_OBTENIDA!='' and NUMERO_GESTION!=''\n",
    "    AND RESPUESTA_OBTENIDA not IN('CONTESTO IVR','IVR','NO CONTESTO IVR') and \n",
    "\"\"\"\n"
   ]
  },
  {
   "cell_type": "code",
   "execution_count": 68,
   "metadata": {},
   "outputs": [],
   "source": [
    "consulta1=consulta+\" FECHA_GESTION BETWEEN DATE_FORMAT(DATE_SUB(NOW(), INTERVAL 0 DAY),'%Y/%m/%d 07:00:00') AND DATE_FORMAT(DATE_SUB(NOW(), INTERVAL 0 DAY),'%Y/%m/%d 14:00:00') ORDER BY FECHA_GESTION ASC \"\n",
    "consulta2=consulta+\"FECHA_GESTION BETWEEN DATE_FORMAT(DATE_SUB(NOW(), INTERVAL 0 DAY),'%Y/%m/%d 14:00:00') AND DATE_FORMAT(DATE_SUB(NOW(), INTERVAL 0 DAY),'%Y/%m/%d 21:00:00') ORDER BY FECHA_GESTION ASC \""
   ]
  },
  {
   "cell_type": "code",
   "execution_count": 69,
   "metadata": {},
   "outputs": [],
   "source": [
    "resultado1=pd.read_sql(consulta1, con=db)\n",
    "resultado2=pd.read_sql(consulta2, con=db)"
   ]
  },
  {
   "cell_type": "code",
   "execution_count": 70,
   "metadata": {},
   "outputs": [],
   "source": [
    "usuario=pd.read_excel(open('USUARIO.xlsx','rb'), sheet_name='Hoja1')"
   ]
  },
  {
   "cell_type": "code",
   "execution_count": 71,
   "metadata": {},
   "outputs": [],
   "source": [
    "result3 = pd.merge(resultado1,usuario,on='COD_AGENTE',how='left')\n",
    "result4 = pd.merge(resultado2,usuario,on='COD_AGENTE',how='left')"
   ]
  },
  {
   "cell_type": "code",
   "execution_count": null,
   "metadata": {},
   "outputs": [],
   "source": []
  },
  {
   "cell_type": "code",
   "execution_count": 72,
   "metadata": {},
   "outputs": [],
   "source": [
    "result5 = pd.merge(result3,resultado_multas,on='NRO_IDENTIFICACION_CLIENTE',how='left')\n",
    "result6 = pd.merge(result4,resultado_multas,on='NRO_IDENTIFICACION_CLIENTE',how='left')"
   ]
  },
  {
   "cell_type": "code",
   "execution_count": 73,
   "metadata": {},
   "outputs": [],
   "source": [
    "result5['Segmento'].replace(np.nan, \"4. VENCIDA FASE I\", inplace = True)\n",
    "result6['Segmento'].replace(np.nan, \"4. VENCIDA FASE I\", inplace = True)"
   ]
  },
  {
   "cell_type": "code",
   "execution_count": 74,
   "metadata": {},
   "outputs": [],
   "source": [
    "result5['FASE']=result5['Segmento']\n",
    "result5['USUARIO_SAC']=result5['CODIGO']\n",
    "result6['FASE']=result6['Segmento']\n",
    "result6['USUARIO_SAC']=result6['CODIGO']"
   ]
  },
  {
   "cell_type": "code",
   "execution_count": 75,
   "metadata": {},
   "outputs": [],
   "source": [
    "result5.drop(['COD_AGENTE','CODIGO','Cedula','Segmento'], axis=1, inplace=True)\n",
    "result6.drop(['COD_AGENTE','CODIGO','Cedula','Segmento'], axis=1, inplace=True)"
   ]
  },
  {
   "cell_type": "code",
   "execution_count": 76,
   "metadata": {},
   "outputs": [],
   "source": [
    "def quitar_espacio(base):\n",
    "    comentario=base['COMENTARIOS_GESTIONO']\n",
    "    if comentario[0]==' ':\n",
    "        return comentario[1:]\n",
    "    return comentario    "
   ]
  },
  {
   "cell_type": "code",
   "execution_count": 77,
   "metadata": {},
   "outputs": [],
   "source": [
    "result5['COMENTARIOS_GESTIONO']=result5.apply(quitar_espacio,axis=1)"
   ]
  },
  {
   "cell_type": "code",
   "execution_count": 78,
   "metadata": {},
   "outputs": [],
   "source": [
    "try:\n",
    "    result6['COMENTARIOS_GESTIONO']=result6.apply(quitar_espacio,axis=1)\n",
    "except:\n",
    "    pass"
   ]
  },
  {
   "cell_type": "code",
   "execution_count": null,
   "metadata": {},
   "outputs": [],
   "source": []
  },
  {
   "cell_type": "code",
   "execution_count": 79,
   "metadata": {},
   "outputs": [],
   "source": [
    "result5.sort_values(by='USUARIO_SAC',ascending=False,inplace=True)\n",
    "result6.sort_values(by='USUARIO_SAC',ascending=False,inplace=True)"
   ]
  },
  {
   "cell_type": "code",
   "execution_count": null,
   "metadata": {},
   "outputs": [],
   "source": []
  },
  {
   "cell_type": "code",
   "execution_count": 80,
   "metadata": {},
   "outputs": [],
   "source": [
    "nombre_1=result5['USUARIO_SAC'].value_counts().reset_index()\n",
    "nombre_1['tipo']='MAÑANA'"
   ]
  },
  {
   "cell_type": "code",
   "execution_count": 81,
   "metadata": {},
   "outputs": [],
   "source": [
    "nombre_2=result6['USUARIO_SAC'].value_counts().reset_index()\n",
    "nombre_2['tipo']='NOCHE'"
   ]
  },
  {
   "cell_type": "code",
   "execution_count": 82,
   "metadata": {},
   "outputs": [],
   "source": [
    "total=pd.concat([nombre_1,nombre_2])"
   ]
  },
  {
   "cell_type": "code",
   "execution_count": null,
   "metadata": {},
   "outputs": [],
   "source": []
  },
  {
   "cell_type": "code",
   "execution_count": 83,
   "metadata": {},
   "outputs": [],
   "source": [
    "total_gestion=pd.concat([result5,result6])"
   ]
  },
  {
   "cell_type": "code",
   "execution_count": 84,
   "metadata": {},
   "outputs": [
    {
     "data": {
      "text/plain": [
       "2864"
      ]
     },
     "execution_count": 84,
     "metadata": {},
     "output_type": "execute_result"
    }
   ],
   "source": [
    "total_gestion.TIPO_GESTION.count()"
   ]
  },
  {
   "cell_type": "code",
   "execution_count": 85,
   "metadata": {},
   "outputs": [],
   "source": [
    "estructura=total_gestion[total_gestion['CONTACTO_GESTIONO']!='NO CONTACTO']\n",
    "estructura=estructura[estructura['CONTACTO_GESTIONO']!='TERC. NO VALIDO']"
   ]
  },
  {
   "cell_type": "code",
   "execution_count": 86,
   "metadata": {},
   "outputs": [
    {
     "data": {
      "text/plain": [
       "532"
      ]
     },
     "execution_count": 86,
     "metadata": {},
     "output_type": "execute_result"
    }
   ],
   "source": [
    "estructura.TIPO_GESTION.count()"
   ]
  },
  {
   "cell_type": "code",
   "execution_count": null,
   "metadata": {},
   "outputs": [],
   "source": []
  },
  {
   "cell_type": "code",
   "execution_count": 87,
   "metadata": {},
   "outputs": [],
   "source": [
    "demo_equivocados=total_gestion[total_gestion['CONTACTO_GESTIONO']=='TERC. NO VALIDO']"
   ]
  },
  {
   "cell_type": "code",
   "execution_count": null,
   "metadata": {},
   "outputs": [],
   "source": []
  },
  {
   "cell_type": "code",
   "execution_count": 88,
   "metadata": {},
   "outputs": [],
   "source": [
    "equivocados=demo_equivocados[['NRO_IDENTIFICACION_CLIENTE','NUMERO_GESTION','CONTACTO_GESTIONO','FECHA_GESTION']]"
   ]
  },
  {
   "cell_type": "code",
   "execution_count": 89,
   "metadata": {},
   "outputs": [
    {
     "name": "stderr",
     "output_type": "stream",
     "text": [
      "c:\\users\\michael\\appdata\\local\\programs\\python\\python36-32\\lib\\site-packages\\ipykernel_launcher.py:1: SettingWithCopyWarning: \n",
      "A value is trying to be set on a copy of a slice from a DataFrame\n",
      "\n",
      "See the caveats in the documentation: http://pandas.pydata.org/pandas-docs/stable/indexing.html#indexing-view-versus-copy\n",
      "  \"\"\"Entry point for launching an IPython kernel.\n"
     ]
    }
   ],
   "source": [
    "equivocados.drop_duplicates(['NRO_IDENTIFICACION_CLIENTE','NUMERO_GESTION'], keep='first',inplace=True)"
   ]
  },
  {
   "cell_type": "code",
   "execution_count": 90,
   "metadata": {},
   "outputs": [],
   "source": [
    "writer = pd.ExcelWriter('ESTRUCTURA DE GESTION Y MASIVOS AL XX DE MARZO.xlsx', engine='xlsxwriter')"
   ]
  },
  {
   "cell_type": "code",
   "execution_count": 91,
   "metadata": {},
   "outputs": [],
   "source": [
    "estructura.to_excel(writer,  index = False,sheet_name='GESTION')\n",
    "worksheet = writer.sheets['GESTION']\n",
    "equivocados.to_excel(writer,  index = False,sheet_name='EQUIVOCADOS')\n",
    "worksheet = writer.sheets['EQUIVOCADOS']\n",
    "writer.save()"
   ]
  },
  {
   "cell_type": "code",
   "execution_count": null,
   "metadata": {},
   "outputs": [],
   "source": []
  },
  {
   "cell_type": "code",
   "execution_count": null,
   "metadata": {},
   "outputs": [],
   "source": []
  },
  {
   "cell_type": "code",
   "execution_count": null,
   "metadata": {},
   "outputs": [],
   "source": []
  }
 ],
 "metadata": {
  "kernelspec": {
   "display_name": "Python 3",
   "language": "python",
   "name": "python3"
  },
  "language_info": {
   "codemirror_mode": {
    "name": "ipython",
    "version": 3
   },
   "file_extension": ".py",
   "mimetype": "text/x-python",
   "name": "python",
   "nbconvert_exporter": "python",
   "pygments_lexer": "ipython3",
   "version": "3.6.5"
  }
 },
 "nbformat": 4,
 "nbformat_minor": 2
}
