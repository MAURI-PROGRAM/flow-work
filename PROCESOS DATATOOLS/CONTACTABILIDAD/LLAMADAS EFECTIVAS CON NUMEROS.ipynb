{
 "cells": [
  {
   "cell_type": "code",
   "execution_count": 5,
   "metadata": {},
   "outputs": [],
   "source": [
    "import pandas as pd\n",
    "import MySQLdb\n",
    "import matplotlib"
   ]
  },
  {
   "cell_type": "code",
   "execution_count": 6,
   "metadata": {},
   "outputs": [],
   "source": [
    "db = MySQLdb.connect(host=\"172.18.55.6\",    # tu host, usualmente localhost\n",
    "                     user=\"comandato\",         # tu usuario\n",
    "                     passwd=\"comandato123\",  # tu password\n",
    "                     db=\"SISTEMECUADOR_ATM\")        # el nombre de la base de datos\n",
    "cur= db.cursor()"
   ]
  },
  {
   "cell_type": "code",
   "execution_count": 7,
   "metadata": {},
   "outputs": [],
   "source": [
    "querry_gestion=\"\"\"SELECT NRO_IDENTIFICACION_CLIENTE,NUMERO_GESTION,COD_AGENTE,DATE_FORMAT(FECHA_GESTION,'%Y-%m-%d') as FECHA_GESTION,CONTACTO_GESTIONO,ACCION_REALIZADA,RESPUESTA_OBTENIDA,MOTIVO_NO_PAGO FROM SISTEMECUADOR_ATM.GESTION where FECHA_GESTION BETWEEN '2018-10-01' AND '2018-10-30';\"\"\"\n",
    "gestion=pd.read_sql(querry_gestion, con=db)"
   ]
  },
  {
   "cell_type": "code",
   "execution_count": 8,
   "metadata": {},
   "outputs": [],
   "source": [
    "writer = pd.ExcelWriter('efectividad OCTUBRE.xlsx', engine='xlsxwriter')\n",
    "gestion.to_excel(writer, sheet_name='CORRIENTE')\n",
    "worksheet = writer.sheets['CORRIENTE']\n",
    "writer.save()"
   ]
  },
  {
   "cell_type": "code",
   "execution_count": null,
   "metadata": {},
   "outputs": [],
   "source": []
  }
 ],
 "metadata": {
  "kernelspec": {
   "display_name": "Python 3",
   "language": "python",
   "name": "python3"
  },
  "language_info": {
   "codemirror_mode": {
    "name": "ipython",
    "version": 3
   },
   "file_extension": ".py",
   "mimetype": "text/x-python",
   "name": "python",
   "nbconvert_exporter": "python",
   "pygments_lexer": "ipython3",
   "version": "3.6.5"
  }
 },
 "nbformat": 4,
 "nbformat_minor": 2
}
