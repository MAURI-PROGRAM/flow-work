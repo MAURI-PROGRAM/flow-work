{
 "cells": [
  {
   "cell_type": "code",
   "execution_count": 1,
   "metadata": {},
   "outputs": [],
   "source": [
    "import pandas as pd\n",
    "import mysql.connector as mc"
   ]
  },
  {
   "cell_type": "code",
   "execution_count": 2,
   "metadata": {},
   "outputs": [],
   "source": [
    "fecha_ini='2018-12-01 00:00:00'\n",
    "fecha_fin='2018-12-31 21:00:00'\n",
    "mes='10'"
   ]
  },
  {
   "cell_type": "code",
   "execution_count": 3,
   "metadata": {},
   "outputs": [],
   "source": [
    "pd.options.display.max_rows = 5\n",
    "pd.options.display.float_format = '{:.2f} %'.format"
   ]
  },
  {
   "cell_type": "code",
   "execution_count": 4,
   "metadata": {},
   "outputs": [],
   "source": [
    "db = mc.connect(\n",
    "  host='172.18.55.6',\n",
    "  user='comandato',\n",
    "  passwd='comandato123',\n",
    ")"
   ]
  },
  {
   "cell_type": "markdown",
   "metadata": {},
   "source": [
    "##  <center><font color='blue'>EXTRAER INFRACTORES</font></center>"
   ]
  },
  {
   "cell_type": "code",
   "execution_count": 5,
   "metadata": {},
   "outputs": [],
   "source": [
    "consulta_contarivr=\"\"\"\n",
    "    SELECT count(*)\n",
    "    FROM\n",
    "        sistemecuador_atm.gestion_ivr\n",
    "    WHERE\n",
    "        FECHA_GESTION BETWEEN '{0}' AND '{1}'\n",
    "    AND \n",
    "        ACCION_REALIZADA = 'ENVIAR IVR';\n",
    "\"\"\".format(fecha_ini,fecha_fin)"
   ]
  },
  {
   "cell_type": "code",
   "execution_count": 6,
   "metadata": {},
   "outputs": [],
   "source": [
    "contador=pd.read_sql(consulta_contarivr, con=db)"
   ]
  },
  {
   "cell_type": "code",
   "execution_count": 7,
   "metadata": {},
   "outputs": [
    {
     "data": {
      "text/html": [
       "<div>\n",
       "<style scoped>\n",
       "    .dataframe tbody tr th:only-of-type {\n",
       "        vertical-align: middle;\n",
       "    }\n",
       "\n",
       "    .dataframe tbody tr th {\n",
       "        vertical-align: top;\n",
       "    }\n",
       "\n",
       "    .dataframe thead th {\n",
       "        text-align: right;\n",
       "    }\n",
       "</style>\n",
       "<table border=\"1\" class=\"dataframe\">\n",
       "  <thead>\n",
       "    <tr style=\"text-align: right;\">\n",
       "      <th></th>\n",
       "      <th>count(*)</th>\n",
       "    </tr>\n",
       "  </thead>\n",
       "  <tbody>\n",
       "    <tr>\n",
       "      <th>0</th>\n",
       "      <td>91129</td>\n",
       "    </tr>\n",
       "  </tbody>\n",
       "</table>\n",
       "</div>"
      ],
      "text/plain": [
       "   count(*)\n",
       "0     91129"
      ]
     },
     "execution_count": 7,
     "metadata": {},
     "output_type": "execute_result"
    }
   ],
   "source": [
    "contador"
   ]
  },
  {
   "cell_type": "code",
   "execution_count": null,
   "metadata": {},
   "outputs": [],
   "source": []
  },
  {
   "cell_type": "code",
   "execution_count": 8,
   "metadata": {},
   "outputs": [],
   "source": [
    "infractores=\"\"\" SELECT Cedula ,count(*) as multas,\n",
    "                    sum(Saldo) as monto,Cartera,\n",
    "                    min(Dias_mora) as menor_mora \n",
    "                FROM \n",
    "                    SISTEMECUADOR_ATM.MULTAS_MENSUALES \n",
    "                where \n",
    "                    Mes={0} group by Cedula,Cartera\"\"\".format(mes)"
   ]
  },
  {
   "cell_type": "code",
   "execution_count": 9,
   "metadata": {},
   "outputs": [],
   "source": [
    "bd_infractores=pd.read_sql(infractores, con=db)"
   ]
  },
  {
   "cell_type": "code",
   "execution_count": 10,
   "metadata": {},
   "outputs": [],
   "source": [
    "def agregar_ceros(base):\n",
    "    ced=base['Cedula']\n",
    "    if len(ced)==9 or len(ced)==12 :\n",
    "        if ced.isdigit():\n",
    "            return '0'+ced\n",
    "    return ced"
   ]
  },
  {
   "cell_type": "code",
   "execution_count": 11,
   "metadata": {},
   "outputs": [],
   "source": [
    "bd_infractores['CED']=bd_infractores.apply(agregar_ceros,axis=1)"
   ]
  },
  {
   "cell_type": "code",
   "execution_count": 12,
   "metadata": {},
   "outputs": [],
   "source": [
    "bd_infractores.drop('Cedula',1,inplace=True)"
   ]
  },
  {
   "cell_type": "markdown",
   "metadata": {},
   "source": [
    "##  <center><font color='blue'>EXTRAER GESTIONES ASESOR</font></center>"
   ]
  },
  {
   "cell_type": "code",
   "execution_count": 13,
   "metadata": {},
   "outputs": [],
   "source": [
    "gestion_asesor=\"\"\"SELECT \n",
    "                    NRO_IDENTIFICACION_CLIENTE as CED, FECHA_GESTION,RESPUESTA_OBTENIDA,CONTACTO_GESTIONO,MOTIVO_NO_PAGO\n",
    "                FROM \n",
    "                    sistemecuador_atm.gestion\n",
    "                WHERE\n",
    "                    ACCION_REALIZADA = 'HACER LLAMADA'\n",
    "                AND\n",
    "                    FECHA_GESTION BETWEEN '{0}' AND '{1}'\n",
    "                AND\n",
    "                    COMENTARIOS_GESTIONO NOT LIKE '%CAMPAÑA CONVENIO%';\"\"\".format(fecha_ini,fecha_fin)"
   ]
  },
  {
   "cell_type": "code",
   "execution_count": 14,
   "metadata": {},
   "outputs": [],
   "source": [
    "bd_gstasesor=pd.read_sql(gestion_asesor, con=db)"
   ]
  },
  {
   "cell_type": "code",
   "execution_count": 15,
   "metadata": {},
   "outputs": [],
   "source": [
    "bd_gstasesor['CONTACTO_GESTIONO']=bd_gstasesor['CONTACTO_GESTIONO'].astype('category')\n",
    "bd_gstasesor['CONTACTO_GESTIONO']=bd_gstasesor['CONTACTO_GESTIONO'].cat.set_categories(['CLIENTE','TERC. VALIDO','TERC. NO VALIDO','NO CONTACTO','SIN GESTION'])\n",
    "bd_gstasesor=bd_gstasesor.sort_values(by=['CONTACTO_GESTIONO'],ascending=[True])\n",
    "bd_gstasesor.drop_duplicates(['CED'], keep='first',inplace=True)"
   ]
  },
  {
   "cell_type": "markdown",
   "metadata": {},
   "source": [
    "##  <center><font color='blue'>EXTRAER GESTIONES IVR</font></center>"
   ]
  },
  {
   "cell_type": "code",
   "execution_count": 16,
   "metadata": {},
   "outputs": [],
   "source": [
    "consulta_ivr=\"\"\"\n",
    "    SELECT NRO_IDENTIFICACION_CLIENTE as CED,\n",
    "        RESPUESTA_OBTENIDA as RESPUESTAIVR\n",
    "    FROM\n",
    "        sistemecuador_atm.gestion_ivr\n",
    "    WHERE\n",
    "        FECHA_GESTION BETWEEN '{0}' AND '{1}'\n",
    "    AND \n",
    "        ACCION_REALIZADA = 'ENVIAR IVR';\n",
    "\"\"\".format(fecha_ini,fecha_fin)"
   ]
  },
  {
   "cell_type": "code",
   "execution_count": 17,
   "metadata": {},
   "outputs": [],
   "source": [
    "bd_gstivr=pd.read_sql(consulta_ivr, con=db)"
   ]
  },
  {
   "cell_type": "code",
   "execution_count": 18,
   "metadata": {},
   "outputs": [],
   "source": [
    "bd_gstivr[\"RESPUESTAIVR\"] = bd_gstivr[\"RESPUESTAIVR\"].astype('category')\n",
    "bd_gstivr[\"RESPUESTAIVR\"]  = bd_gstivr[\"RESPUESTAIVR\"].cat.set_categories([\"CONTESTO IVR\",\"SMS ENVIADO\",\"NO CONTESTO IVR\",\"SIN IVR\"])\n",
    "bd_gstivr=bd_gstivr.sort_values(by=['RESPUESTAIVR'],ascending=[True])\n",
    "bd_gstivr.drop_duplicates(['CED'], keep='first',inplace=True)"
   ]
  },
  {
   "cell_type": "markdown",
   "metadata": {},
   "source": [
    "##  <center><font color='blue'>CRUCE DE GESTIONES</font></center>"
   ]
  },
  {
   "cell_type": "code",
   "execution_count": 19,
   "metadata": {},
   "outputs": [],
   "source": [
    "combinar_ivr=pd.merge(bd_infractores,bd_gstivr,on=['CED'],how='left')\n",
    "combinar_ivr['RESPUESTAIVR']= combinar_ivr['RESPUESTAIVR'].fillna('SIN IVR')"
   ]
  },
  {
   "cell_type": "code",
   "execution_count": 20,
   "metadata": {},
   "outputs": [
    {
     "data": {
      "text/plain": [
       "multas          69010\n",
       "monto           69010\n",
       "                ...  \n",
       "CED             69010\n",
       "RESPUESTAIVR    69010\n",
       "Length: 6, dtype: int64"
      ]
     },
     "execution_count": 20,
     "metadata": {},
     "output_type": "execute_result"
    }
   ],
   "source": [
    "combinar_ivr.count()"
   ]
  },
  {
   "cell_type": "code",
   "execution_count": 21,
   "metadata": {},
   "outputs": [],
   "source": [
    "combinar_gest=pd.merge(combinar_ivr,bd_gstasesor,on=['CED'],how='left')\n",
    "combinar_gest['CONTACTO_GESTIONO']= combinar_gest['CONTACTO_GESTIONO'].fillna('SIN GESTION')"
   ]
  },
  {
   "cell_type": "code",
   "execution_count": 22,
   "metadata": {},
   "outputs": [
    {
     "data": {
      "text/html": [
       "<div>\n",
       "<style scoped>\n",
       "    .dataframe tbody tr th:only-of-type {\n",
       "        vertical-align: middle;\n",
       "    }\n",
       "\n",
       "    .dataframe tbody tr th {\n",
       "        vertical-align: top;\n",
       "    }\n",
       "\n",
       "    .dataframe thead th {\n",
       "        text-align: right;\n",
       "    }\n",
       "</style>\n",
       "<table border=\"1\" class=\"dataframe\">\n",
       "  <thead>\n",
       "    <tr style=\"text-align: right;\">\n",
       "      <th>CONTACTO_GESTIONO</th>\n",
       "      <th>CLIENTE</th>\n",
       "      <th>TERC. VALIDO</th>\n",
       "      <th>TERC. NO VALIDO</th>\n",
       "      <th>NO CONTACTO</th>\n",
       "      <th>SIN GESTION</th>\n",
       "      <th>All</th>\n",
       "    </tr>\n",
       "    <tr>\n",
       "      <th>Cartera</th>\n",
       "      <th></th>\n",
       "      <th></th>\n",
       "      <th></th>\n",
       "      <th></th>\n",
       "      <th></th>\n",
       "      <th></th>\n",
       "    </tr>\n",
       "  </thead>\n",
       "  <tbody>\n",
       "    <tr>\n",
       "      <th>CORRIENTE</th>\n",
       "      <td>829</td>\n",
       "      <td>452</td>\n",
       "      <td>125</td>\n",
       "      <td>2316</td>\n",
       "      <td>14127</td>\n",
       "      <td>17849</td>\n",
       "    </tr>\n",
       "    <tr>\n",
       "      <th>MENOR</th>\n",
       "      <td>990</td>\n",
       "      <td>338</td>\n",
       "      <td>175</td>\n",
       "      <td>1816</td>\n",
       "      <td>47842</td>\n",
       "      <td>51161</td>\n",
       "    </tr>\n",
       "    <tr>\n",
       "      <th>All</th>\n",
       "      <td>1819</td>\n",
       "      <td>790</td>\n",
       "      <td>300</td>\n",
       "      <td>4132</td>\n",
       "      <td>61969</td>\n",
       "      <td>69010</td>\n",
       "    </tr>\n",
       "  </tbody>\n",
       "</table>\n",
       "</div>"
      ],
      "text/plain": [
       "CONTACTO_GESTIONO  CLIENTE  TERC. VALIDO  TERC. NO VALIDO  NO CONTACTO  \\\n",
       "Cartera                                                                  \n",
       "CORRIENTE              829           452              125         2316   \n",
       "MENOR                  990           338              175         1816   \n",
       "All                   1819           790              300         4132   \n",
       "\n",
       "CONTACTO_GESTIONO  SIN GESTION    All  \n",
       "Cartera                                \n",
       "CORRIENTE                14127  17849  \n",
       "MENOR                    47842  51161  \n",
       "All                      61969  69010  "
      ]
     },
     "execution_count": 22,
     "metadata": {},
     "output_type": "execute_result"
    }
   ],
   "source": [
    "pd.crosstab(index=combinar_gest['Cartera'],columns=combinar_gest['CONTACTO_GESTIONO'],margins=True)"
   ]
  },
  {
   "cell_type": "code",
   "execution_count": 23,
   "metadata": {},
   "outputs": [
    {
     "data": {
      "text/html": [
       "<div>\n",
       "<style scoped>\n",
       "    .dataframe tbody tr th:only-of-type {\n",
       "        vertical-align: middle;\n",
       "    }\n",
       "\n",
       "    .dataframe tbody tr th {\n",
       "        vertical-align: top;\n",
       "    }\n",
       "\n",
       "    .dataframe thead th {\n",
       "        text-align: right;\n",
       "    }\n",
       "</style>\n",
       "<table border=\"1\" class=\"dataframe\">\n",
       "  <thead>\n",
       "    <tr style=\"text-align: right;\">\n",
       "      <th>CONTACTO_GESTIONO</th>\n",
       "      <th>CLIENTE</th>\n",
       "      <th>TERC. VALIDO</th>\n",
       "      <th>TERC. NO VALIDO</th>\n",
       "      <th>NO CONTACTO</th>\n",
       "      <th>SIN GESTION</th>\n",
       "    </tr>\n",
       "    <tr>\n",
       "      <th>Cartera</th>\n",
       "      <th></th>\n",
       "      <th></th>\n",
       "      <th></th>\n",
       "      <th></th>\n",
       "      <th></th>\n",
       "    </tr>\n",
       "  </thead>\n",
       "  <tbody>\n",
       "    <tr>\n",
       "      <th>CORRIENTE</th>\n",
       "      <td>4.64 %</td>\n",
       "      <td>2.53 %</td>\n",
       "      <td>0.70 %</td>\n",
       "      <td>12.98 %</td>\n",
       "      <td>79.15 %</td>\n",
       "    </tr>\n",
       "    <tr>\n",
       "      <th>MENOR</th>\n",
       "      <td>1.94 %</td>\n",
       "      <td>0.66 %</td>\n",
       "      <td>0.34 %</td>\n",
       "      <td>3.55 %</td>\n",
       "      <td>93.51 %</td>\n",
       "    </tr>\n",
       "  </tbody>\n",
       "</table>\n",
       "</div>"
      ],
      "text/plain": [
       "CONTACTO_GESTIONO  CLIENTE  TERC. VALIDO  TERC. NO VALIDO  NO CONTACTO  \\\n",
       "Cartera                                                                  \n",
       "CORRIENTE           4.64 %        2.53 %           0.70 %      12.98 %   \n",
       "MENOR               1.94 %        0.66 %           0.34 %       3.55 %   \n",
       "\n",
       "CONTACTO_GESTIONO  SIN GESTION  \n",
       "Cartera                         \n",
       "CORRIENTE              79.15 %  \n",
       "MENOR                  93.51 %  "
      ]
     },
     "execution_count": 23,
     "metadata": {},
     "output_type": "execute_result"
    }
   ],
   "source": [
    "porcentaje_gestion=pd.crosstab(index=combinar_gest['Cartera'],columns=combinar_gest['CONTACTO_GESTIONO']).apply(lambda r:r/r.sum()*100,axis=1)\n",
    "porcentaje_gestion"
   ]
  },
  {
   "cell_type": "code",
   "execution_count": 24,
   "metadata": {
    "scrolled": true
   },
   "outputs": [
    {
     "data": {
      "text/plain": [
       "<matplotlib.axes._subplots.AxesSubplot at 0xae82230>"
      ]
     },
     "execution_count": 24,
     "metadata": {},
     "output_type": "execute_result"
    }
   ],
   "source": [
    "porcentaje_gestion.plot(kind='bar',stacked=True,title='CONTACTABILIDAD')"
   ]
  },
  {
   "cell_type": "code",
   "execution_count": 25,
   "metadata": {},
   "outputs": [
    {
     "data": {
      "text/html": [
       "<div>\n",
       "<style scoped>\n",
       "    .dataframe tbody tr th:only-of-type {\n",
       "        vertical-align: middle;\n",
       "    }\n",
       "\n",
       "    .dataframe tbody tr th {\n",
       "        vertical-align: top;\n",
       "    }\n",
       "\n",
       "    .dataframe thead th {\n",
       "        text-align: right;\n",
       "    }\n",
       "</style>\n",
       "<table border=\"1\" class=\"dataframe\">\n",
       "  <thead>\n",
       "    <tr style=\"text-align: right;\">\n",
       "      <th>RESPUESTAIVR</th>\n",
       "      <th>SIN IVR</th>\n",
       "    </tr>\n",
       "    <tr>\n",
       "      <th>Cartera</th>\n",
       "      <th></th>\n",
       "    </tr>\n",
       "  </thead>\n",
       "  <tbody>\n",
       "    <tr>\n",
       "      <th>CORRIENTE</th>\n",
       "      <td>17849</td>\n",
       "    </tr>\n",
       "    <tr>\n",
       "      <th>MENOR</th>\n",
       "      <td>51161</td>\n",
       "    </tr>\n",
       "  </tbody>\n",
       "</table>\n",
       "</div>"
      ],
      "text/plain": [
       "RESPUESTAIVR  SIN IVR\n",
       "Cartera              \n",
       "CORRIENTE       17849\n",
       "MENOR           51161"
      ]
     },
     "execution_count": 25,
     "metadata": {},
     "output_type": "execute_result"
    }
   ],
   "source": [
    "wivr=pd.crosstab(index=combinar_gest['Cartera'],columns=combinar_gest['RESPUESTAIVR'],margins=False)\n",
    "wivr"
   ]
  },
  {
   "cell_type": "code",
   "execution_count": 26,
   "metadata": {},
   "outputs": [
    {
     "data": {
      "text/html": [
       "<div>\n",
       "<style scoped>\n",
       "    .dataframe tbody tr th:only-of-type {\n",
       "        vertical-align: middle;\n",
       "    }\n",
       "\n",
       "    .dataframe tbody tr th {\n",
       "        vertical-align: top;\n",
       "    }\n",
       "\n",
       "    .dataframe thead th {\n",
       "        text-align: right;\n",
       "    }\n",
       "</style>\n",
       "<table border=\"1\" class=\"dataframe\">\n",
       "  <thead>\n",
       "    <tr style=\"text-align: right;\">\n",
       "      <th>RESPUESTAIVR</th>\n",
       "      <th>SIN IVR</th>\n",
       "    </tr>\n",
       "    <tr>\n",
       "      <th>Cartera</th>\n",
       "      <th></th>\n",
       "    </tr>\n",
       "  </thead>\n",
       "  <tbody>\n",
       "    <tr>\n",
       "      <th>CORRIENTE</th>\n",
       "      <td>100.00 %</td>\n",
       "    </tr>\n",
       "    <tr>\n",
       "      <th>MENOR</th>\n",
       "      <td>100.00 %</td>\n",
       "    </tr>\n",
       "  </tbody>\n",
       "</table>\n",
       "</div>"
      ],
      "text/plain": [
       "RESPUESTAIVR  SIN IVR\n",
       "Cartera              \n",
       "CORRIENTE    100.00 %\n",
       "MENOR        100.00 %"
      ]
     },
     "execution_count": 26,
     "metadata": {},
     "output_type": "execute_result"
    }
   ],
   "source": [
    "porcentaje_gestionivr=pd.crosstab(index=combinar_gest['Cartera'],columns=combinar_gest['RESPUESTAIVR']).apply(lambda r:r/r.sum()*100,axis=1)\n",
    "porcentaje_gestionivr"
   ]
  },
  {
   "cell_type": "code",
   "execution_count": 27,
   "metadata": {},
   "outputs": [
    {
     "data": {
      "text/plain": [
       "<matplotlib.axes._subplots.AxesSubplot at 0xb42b130>"
      ]
     },
     "execution_count": 27,
     "metadata": {},
     "output_type": "execute_result"
    },
    {
     "data": {
      "image/png": "[encoded data removed]",
      "text/plain": [
       "<Figure size 432x288 with 1 Axes>"
      ]
     },
     "metadata": {},
     "output_type": "display_data"
    }
   ],
   "source": [
    "porcentaje_gestionivr.plot(kind='bar',stacked=True,title='CONTACTABILIDAD IVR')"
   ]
  },
  {
   "cell_type": "code",
   "execution_count": 28,
   "metadata": {},
   "outputs": [
    {
     "data": {
      "text/html": [
       "<div>\n",
       "<style scoped>\n",
       "    .dataframe tbody tr th:only-of-type {\n",
       "        vertical-align: middle;\n",
       "    }\n",
       "\n",
       "    .dataframe tbody tr th {\n",
       "        vertical-align: top;\n",
       "    }\n",
       "\n",
       "    .dataframe thead th {\n",
       "        text-align: right;\n",
       "    }\n",
       "</style>\n",
       "<table border=\"1\" class=\"dataframe\">\n",
       "  <thead>\n",
       "    <tr style=\"text-align: right;\">\n",
       "      <th></th>\n",
       "      <th>multas</th>\n",
       "      <th>monto</th>\n",
       "      <th>Cartera</th>\n",
       "      <th>menor_mora</th>\n",
       "      <th>CED</th>\n",
       "      <th>RESPUESTAIVR</th>\n",
       "      <th>FECHA_GESTION</th>\n",
       "      <th>RESPUESTA_OBTENIDA</th>\n",
       "      <th>CONTACTO_GESTIONO</th>\n",
       "      <th>MOTIVO_NO_PAGO</th>\n",
       "    </tr>\n",
       "  </thead>\n",
       "  <tbody>\n",
       "    <tr>\n",
       "      <th>0</th>\n",
       "      <td>1</td>\n",
       "      <td>57.90 %</td>\n",
       "      <td>MENOR</td>\n",
       "      <td>192</td>\n",
       "      <td>00042448K</td>\n",
       "      <td>SIN IVR</td>\n",
       "      <td>NaT</td>\n",
       "      <td>NaN</td>\n",
       "      <td>SIN GESTION</td>\n",
       "      <td>NaN</td>\n",
       "    </tr>\n",
       "    <tr>\n",
       "      <th>1</th>\n",
       "      <td>2</td>\n",
       "      <td>135.10 %</td>\n",
       "      <td>MENOR</td>\n",
       "      <td>22</td>\n",
       "      <td>1000005262</td>\n",
       "      <td>SIN IVR</td>\n",
       "      <td>2018-12-04 11:40:38</td>\n",
       "      <td>NO CONTESTA</td>\n",
       "      <td>NO CONTACTO</td>\n",
       "      <td></td>\n",
       "    </tr>\n",
       "    <tr>\n",
       "      <th>...</th>\n",
       "      <td>...</td>\n",
       "      <td>...</td>\n",
       "      <td>...</td>\n",
       "      <td>...</td>\n",
       "      <td>...</td>\n",
       "      <td>...</td>\n",
       "      <td>...</td>\n",
       "      <td>...</td>\n",
       "      <td>...</td>\n",
       "      <td>...</td>\n",
       "    </tr>\n",
       "    <tr>\n",
       "      <th>18</th>\n",
       "      <td>1</td>\n",
       "      <td>57.90 %</td>\n",
       "      <td>MENOR</td>\n",
       "      <td>119</td>\n",
       "      <td>1000907038</td>\n",
       "      <td>SIN IVR</td>\n",
       "      <td>NaT</td>\n",
       "      <td>NaN</td>\n",
       "      <td>SIN GESTION</td>\n",
       "      <td>NaN</td>\n",
       "    </tr>\n",
       "    <tr>\n",
       "      <th>19</th>\n",
       "      <td>1</td>\n",
       "      <td>34.00 %</td>\n",
       "      <td>MENOR</td>\n",
       "      <td>1002</td>\n",
       "      <td>1000924884</td>\n",
       "      <td>SIN IVR</td>\n",
       "      <td>NaT</td>\n",
       "      <td>NaN</td>\n",
       "      <td>SIN GESTION</td>\n",
       "      <td>NaN</td>\n",
       "    </tr>\n",
       "  </tbody>\n",
       "</table>\n",
       "<p>20 rows × 10 columns</p>\n",
       "</div>"
      ],
      "text/plain": [
       "    multas    monto Cartera  menor_mora         CED RESPUESTAIVR  \\\n",
       "0        1  57.90 %   MENOR         192   00042448K      SIN IVR   \n",
       "1        2 135.10 %   MENOR          22  1000005262      SIN IVR   \n",
       "..     ...      ...     ...         ...         ...          ...   \n",
       "18       1  57.90 %   MENOR         119  1000907038      SIN IVR   \n",
       "19       1  34.00 %   MENOR        1002  1000924884      SIN IVR   \n",
       "\n",
       "         FECHA_GESTION RESPUESTA_OBTENIDA CONTACTO_GESTIONO MOTIVO_NO_PAGO  \n",
       "0                  NaT                NaN       SIN GESTION            NaN  \n",
       "1  2018-12-04 11:40:38        NO CONTESTA       NO CONTACTO                 \n",
       "..                 ...                ...               ...            ...  \n",
       "18                 NaT                NaN       SIN GESTION            NaN  \n",
       "19                 NaT                NaN       SIN GESTION            NaN  \n",
       "\n",
       "[20 rows x 10 columns]"
      ]
     },
     "execution_count": 28,
     "metadata": {},
     "output_type": "execute_result"
    }
   ],
   "source": [
    "combinar_gest.head(20)"
   ]
  },
  {
   "cell_type": "code",
   "execution_count": 29,
   "metadata": {},
   "outputs": [],
   "source": [
    "writer = pd.ExcelWriter('CONTACTABILIDAD SEPTIEMBRE.xlsx', engine='xlsxwriter')\n",
    "combinar_gest.to_excel(writer, sheet_name='TOTAL')\n",
    "worksheet = writer.sheets['TOTAL']\n",
    "writer.save()"
   ]
  },
  {
   "cell_type": "code",
   "execution_count": null,
   "metadata": {},
   "outputs": [],
   "source": []
  },
  {
   "cell_type": "code",
   "execution_count": null,
   "metadata": {},
   "outputs": [],
   "source": []
  }
 ],
 "metadata": {
  "kernelspec": {
   "display_name": "Python 3",
   "language": "python",
   "name": "python3"
  },
  "language_info": {
   "codemirror_mode": {
    "name": "ipython",
    "version": 3
   },
   "file_extension": ".py",
   "mimetype": "text/x-python",
   "name": "python",
   "nbconvert_exporter": "python",
   "pygments_lexer": "ipython3",
   "version": "3.6.5"
  }
 },
 "nbformat": 4,
 "nbformat_minor": 2
}
