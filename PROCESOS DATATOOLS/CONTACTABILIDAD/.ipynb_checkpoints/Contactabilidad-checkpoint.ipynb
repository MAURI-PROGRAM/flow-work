{
 "cells": [
  {
   "cell_type": "code",
   "execution_count": 1,
   "metadata": {},
   "outputs": [
    {
     "data": {
      "text/html": [
       "<script> code_show=true; function code_toggle() { if (code_show) { $('div.input').each(function(id) { el = $(this).find('.cm-variable:first'); if (id == 0 || el.text() == 'hide_me') { $(this).hide(); } }); $('div.output_prompt').css('opacity', 0); } else { $('div.input').each(function(id) { $(this).show(); }); $('div.output_prompt').css('opacity', 1); } code_show = !code_show } $( document ).ready(code_toggle); </script> <form action=\"javascript:code_toggle()\"><input style=\"opacity:0\" type=\"submit\" value=\"Click here to toggle on/off the raw code.\"></form>"
      ],
      "text/plain": [
       "<IPython.core.display.HTML object>"
      ]
     },
     "execution_count": 1,
     "metadata": {},
     "output_type": "execute_result"
    }
   ],
   "source": [
    "# This is a cell to hide code snippets from displaying \n",
    "# This must be at first cell! \n",
    "from IPython.display import HTML \n",
    "hide_me =''\n",
    "HTML('''<script> code_show=true; function code_toggle() { if (code_show) { $('div.input').each(function(id) { el = $(this).find('.cm-variable:first'); if (id == 0 || el.text() == 'hide_me') { $(this).hide(); } }); $('div.output_prompt').css('opacity', 0); } else { $('div.input').each(function(id) { $(this).show(); }); $('div.output_prompt').css('opacity', 1); } code_show = !code_show } $( document ).ready(code_toggle); </script> <form action=\"javascript:code_toggle()\"><input style=\"opacity:0\" type=\"submit\" value=\"Click here to toggle on/off the raw code.\"></form>''')"
   ]
  },
  {
   "cell_type": "code",
   "execution_count": 1,
   "metadata": {},
   "outputs": [],
   "source": [
    "#hide_me\n",
    "import pandas as pd\n",
    "import MySQLdb"
   ]
  },
  {
   "cell_type": "code",
   "execution_count": 2,
   "metadata": {},
   "outputs": [],
   "source": [
    "#hide_me\n",
    "fecha_ini='2019-03-01 00:00:00'\n",
    "fecha_fin='2019-03-31 21:00:00'"
   ]
  },
  {
   "cell_type": "code",
   "execution_count": 3,
   "metadata": {},
   "outputs": [],
   "source": [
    "#hide_me\n",
    "db = MySQLdb.connect(host=\"172.18.55.6\",    # tu host, usualmente localhost\n",
    "                     user=\"comandato\",         # tu usuario\n",
    "                     passwd=\"comandato123\",  # tu password\n",
    "                     db=\"SISTEMECUADOR_ATM\")        # el nombre de la base de datos"
   ]
  },
  {
   "cell_type": "code",
   "execution_count": 4,
   "metadata": {},
   "outputs": [],
   "source": [
    "#hide_me\n",
    "consulta=\"\"\"\n",
    "SELECT \n",
    "    NRO_IDENTIFICACION_CLIENTE, COD_AGENTE,\n",
    "    CASE CONTACTO_GESTIONO\n",
    "                WHEN 'CLIENTE' THEN 1\n",
    "                WHEN 'TITULAR' THEN 1\n",
    "                WHEN 'TERC. VALIDO' THEN 2\n",
    "                WHEN 'TERC. NO VALIDO' THEN 3\n",
    "                WHEN 'NO CONTACTO' THEN 4\n",
    "                ELSE 5\n",
    "            END AS CONTACTO,\n",
    "    CASE RESPUESTA_OBTENIDA\n",
    "                WHEN 'ACUERDO DE PAGO' THEN 1\n",
    "                WHEN 'ACUERDO DE CONVENIO' THEN 2\n",
    "                WHEN 'LOCALIZADO SIN ACUERDO' THEN 3\n",
    "                ELSE 4\n",
    "            END AS TIPO_ACUERDO\n",
    "FROM\n",
    "    sistemecuador_atm.gestion\n",
    "WHERE\n",
    "    ACCION_REALIZADA = 'HACER LLAMADA'\n",
    "AND\n",
    "FECHA_GESTION BETWEEN '{0}' AND '{1}';\n",
    "\"\"\".format(fecha_ini,fecha_fin)"
   ]
  },
  {
   "cell_type": "code",
   "execution_count": 5,
   "metadata": {},
   "outputs": [],
   "source": [
    "#hide_me\n",
    "resultado=pd.read_sql(consulta, con=db)"
   ]
  },
  {
   "cell_type": "code",
   "execution_count": 6,
   "metadata": {},
   "outputs": [],
   "source": [
    "contactabilidad=resultado.groupby('NRO_IDENTIFICACION_CLIENTE').agg({'CONTACTO':'min','TIPO_ACUERDO':'min'})"
   ]
  },
  {
   "cell_type": "code",
   "execution_count": 7,
   "metadata": {},
   "outputs": [],
   "source": [
    "contactabilidad['CONTACTO'].replace(to_replace=[1,2,3,4,5],value=['TITULAR','TERCERO','EQUIVOCADO','NO CONTACTO','SIN GESTION'],inplace=True)"
   ]
  },
  {
   "cell_type": "code",
   "execution_count": 8,
   "metadata": {},
   "outputs": [],
   "source": [
    "contactabilidad['TIPO_ACUERDO'].replace(to_replace=[1,2,3,4],value=['AC. PAGO','AC. CONVENIO','LOCALIZADO','OTROS'],inplace=True)"
   ]
  },
  {
   "cell_type": "code",
   "execution_count": 9,
   "metadata": {},
   "outputs": [
    {
     "data": {
      "text/html": [
       "<div>\n",
       "<style scoped>\n",
       "    .dataframe tbody tr th:only-of-type {\n",
       "        vertical-align: middle;\n",
       "    }\n",
       "\n",
       "    .dataframe tbody tr th {\n",
       "        vertical-align: top;\n",
       "    }\n",
       "\n",
       "    .dataframe thead th {\n",
       "        text-align: right;\n",
       "    }\n",
       "</style>\n",
       "<table border=\"1\" class=\"dataframe\">\n",
       "  <thead>\n",
       "    <tr style=\"text-align: right;\">\n",
       "      <th></th>\n",
       "      <th>CONTACTO</th>\n",
       "      <th>TIPO_ACUERDO</th>\n",
       "    </tr>\n",
       "    <tr>\n",
       "      <th>NRO_IDENTIFICACION_CLIENTE</th>\n",
       "      <th></th>\n",
       "      <th></th>\n",
       "    </tr>\n",
       "  </thead>\n",
       "  <tbody>\n",
       "    <tr>\n",
       "      <th>0100062439</th>\n",
       "      <td>NO CONTACTO</td>\n",
       "      <td>OTROS</td>\n",
       "    </tr>\n",
       "    <tr>\n",
       "      <th>0100266030</th>\n",
       "      <td>NO CONTACTO</td>\n",
       "      <td>OTROS</td>\n",
       "    </tr>\n",
       "    <tr>\n",
       "      <th>0100374248</th>\n",
       "      <td>TITULAR</td>\n",
       "      <td>AC. PAGO</td>\n",
       "    </tr>\n",
       "    <tr>\n",
       "      <th>0100405414</th>\n",
       "      <td>EQUIVOCADO</td>\n",
       "      <td>OTROS</td>\n",
       "    </tr>\n",
       "    <tr>\n",
       "      <th>0100482751</th>\n",
       "      <td>TERCERO</td>\n",
       "      <td>OTROS</td>\n",
       "    </tr>\n",
       "  </tbody>\n",
       "</table>\n",
       "</div>"
      ],
      "text/plain": [
       "                               CONTACTO TIPO_ACUERDO\n",
       "NRO_IDENTIFICACION_CLIENTE                          \n",
       "0100062439                  NO CONTACTO        OTROS\n",
       "0100266030                  NO CONTACTO        OTROS\n",
       "0100374248                      TITULAR     AC. PAGO\n",
       "0100405414                   EQUIVOCADO        OTROS\n",
       "0100482751                      TERCERO        OTROS"
      ]
     },
     "execution_count": 9,
     "metadata": {},
     "output_type": "execute_result"
    }
   ],
   "source": [
    "contactabilidad.head()"
   ]
  },
  {
   "cell_type": "code",
   "execution_count": 10,
   "metadata": {},
   "outputs": [],
   "source": [
    "writer = pd.ExcelWriter('CONTACTABILIDAD MARZO.xlsx', engine='xlsxwriter')\n",
    "contactabilidad.to_excel(writer, sheet_name='CORRIENTE')\n",
    "worksheet = writer.sheets['CORRIENTE']\n",
    "writer.save()"
   ]
  },
  {
   "cell_type": "code",
   "execution_count": null,
   "metadata": {},
   "outputs": [],
   "source": []
  },
  {
   "cell_type": "code",
   "execution_count": null,
   "metadata": {},
   "outputs": [],
   "source": []
  },
  {
   "cell_type": "code",
   "execution_count": null,
   "metadata": {},
   "outputs": [],
   "source": []
  },
  {
   "cell_type": "code",
   "execution_count": null,
   "metadata": {},
   "outputs": [],
   "source": []
  }
 ],
 "metadata": {
  "kernelspec": {
   "display_name": "Python 3",
   "language": "python",
   "name": "python3"
  },
  "language_info": {
   "codemirror_mode": {
    "name": "ipython",
    "version": 3
   },
   "file_extension": ".py",
   "mimetype": "text/x-python",
   "name": "python",
   "nbconvert_exporter": "python",
   "pygments_lexer": "ipython3",
   "version": "3.6.5"
  }
 },
 "nbformat": 4,
 "nbformat_minor": 2
}
