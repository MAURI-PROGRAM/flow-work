{
 "cells": [
  {
   "cell_type": "code",
   "execution_count": 29,
   "metadata": {},
   "outputs": [],
   "source": [
    "import pandas as pd\n",
    "import mysql.connector as mc"
   ]
  },
  {
   "cell_type": "code",
   "execution_count": 30,
   "metadata": {},
   "outputs": [],
   "source": [
    "fecha_ini='2018-10-01 00:00:00'\n",
    "fecha_fin='2018-10-31 21:00:00'\n",
    "mes='10'"
   ]
  },
  {
   "cell_type": "code",
   "execution_count": 31,
   "metadata": {},
   "outputs": [],
   "source": [
    "db = mc.connect(\n",
    "  host='172.18.55.6',\n",
    "  user='comandato',\n",
    "  passwd='comandato123',\n",
    ")"
   ]
  },
  {
   "cell_type": "markdown",
   "metadata": {},
   "source": [
    "##  <center><font color='blue'>EXTRAER INFRACTORES</font></center>"
   ]
  },
  {
   "cell_type": "code",
   "execution_count": 4,
   "metadata": {},
   "outputs": [],
   "source": [
    "consulta_contarivr=\"\"\"\n",
    "    SELECT count(*)\n",
    "    FROM\n",
    "        sistemecuador_atm.gestion_ivr\n",
    "    WHERE\n",
    "        FECHA_GESTION BETWEEN '{0}' AND '{1}'\n",
    "    AND \n",
    "        ACCION_REALIZADA = 'ENVIAR IVR';\n",
    "\"\"\".format(fecha_ini,fecha_fin)"
   ]
  },
  {
   "cell_type": "code",
   "execution_count": 5,
   "metadata": {},
   "outputs": [],
   "source": [
    "contador=pd.read_sql(consulta_contarivr, con=db)"
   ]
  },
  {
   "cell_type": "code",
   "execution_count": 6,
   "metadata": {},
   "outputs": [
    {
     "data": {
      "text/html": [
       "<div>\n",
       "<style scoped>\n",
       "    .dataframe tbody tr th:only-of-type {\n",
       "        vertical-align: middle;\n",
       "    }\n",
       "\n",
       "    .dataframe tbody tr th {\n",
       "        vertical-align: top;\n",
       "    }\n",
       "\n",
       "    .dataframe thead th {\n",
       "        text-align: right;\n",
       "    }\n",
       "</style>\n",
       "<table border=\"1\" class=\"dataframe\">\n",
       "  <thead>\n",
       "    <tr style=\"text-align: right;\">\n",
       "      <th></th>\n",
       "      <th>count(*)</th>\n",
       "    </tr>\n",
       "  </thead>\n",
       "  <tbody>\n",
       "    <tr>\n",
       "      <th>0</th>\n",
       "      <td>240054</td>\n",
       "    </tr>\n",
       "  </tbody>\n",
       "</table>\n",
       "</div>"
      ],
      "text/plain": [
       "   count(*)\n",
       "0    240054"
      ]
     },
     "execution_count": 6,
     "metadata": {},
     "output_type": "execute_result"
    }
   ],
   "source": [
    "contador"
   ]
  },
  {
   "cell_type": "code",
   "execution_count": null,
   "metadata": {},
   "outputs": [],
   "source": []
  },
  {
   "cell_type": "code",
   "execution_count": 32,
   "metadata": {},
   "outputs": [],
   "source": [
    "infractores=\"\"\" SELECT Cedula ,count(*) as multas,\n",
    "                    sum(Saldo) as monto,Cartera,\n",
    "                    min(Dias_mora) as menor_mora \n",
    "                FROM \n",
    "                    SISTEMECUADOR_ATM.MULTAS_MENSUALES \n",
    "                where \n",
    "                    Mes={0} group by Cedula,Cartera\"\"\".format(mes)"
   ]
  },
  {
   "cell_type": "code",
   "execution_count": 33,
   "metadata": {},
   "outputs": [],
   "source": [
    "bd_infractores=pd.read_sql(infractores, con=db)"
   ]
  },
  {
   "cell_type": "code",
   "execution_count": 8,
   "metadata": {},
   "outputs": [],
   "source": [
    "def agregar_ceros(base):\n",
    "    ced=base['Cedula']\n",
    "    if len(ced)==9 or len(ced)==12 :\n",
    "        if ced.isdigit():\n",
    "            return '0'+ced\n",
    "    return ced"
   ]
  },
  {
   "cell_type": "code",
   "execution_count": 36,
   "metadata": {},
   "outputs": [],
   "source": [
    "bd_infractores['CED']=bd_infractores.apply(agregar_ceros,axis=1)"
   ]
  },
  {
   "cell_type": "code",
   "execution_count": 11,
   "metadata": {},
   "outputs": [],
   "source": [
    "bd_infractores.drop('Cedula',1,inplace=True)"
   ]
  },
  {
   "cell_type": "markdown",
   "metadata": {},
   "source": [
    "##  <center><font color='blue'>EXTRAER GESTIONES ASESOR</font></center>"
   ]
  },
  {
   "cell_type": "code",
   "execution_count": 86,
   "metadata": {},
   "outputs": [],
   "source": [
    "gestion_asesor=\"\"\"SELECT \n",
    "                    NRO_IDENTIFICACION_CLIENTE as CED, FECHA_GESTION,RESPUESTA_OBTENIDA,CONTACTO_GESTIONO,MOTIVO_NO_PAGO\n",
    "                FROM \n",
    "                    sistemecuador_atm.gestion\n",
    "                WHERE\n",
    "                    ACCION_REALIZADA = 'HACER LLAMADA'\n",
    "                AND\n",
    "                    FECHA_GESTION BETWEEN '{0}' AND '{1}'\n",
    "                AND\n",
    "                    COMENTARIOS_GESTIONO NOT LIKE '%CAMPAÑA CONVENIO%';\"\"\".format(fecha_ini,fecha_fin)"
   ]
  },
  {
   "cell_type": "code",
   "execution_count": 87,
   "metadata": {},
   "outputs": [],
   "source": [
    "bd_gstasesor=pd.read_sql(gestion_asesor, con=db)"
   ]
  },
  {
   "cell_type": "code",
   "execution_count": 88,
   "metadata": {},
   "outputs": [],
   "source": [
    "bd_gstasesor['CONTACTO_GESTIONO']=bd_gstasesor['CONTACTO_GESTIONO'].astype('category')\n",
    "bd_gstasesor['CONTACTO_GESTIONO']=bd_gstasesor['CONTACTO_GESTIONO'].cat.set_categories(['CLIENTE','TERC. VALIDO','TERC. NO VALIDO','NO CONTACTO','SIN GESTION'])\n",
    "bd_gstasesor=bd_gstasesor.sort_values(by=['CONTACTO_GESTIONO'],ascending=[True])\n",
    "bd_gstasesor.drop_duplicates(['CED'], keep='first',inplace=True)"
   ]
  },
  {
   "cell_type": "markdown",
   "metadata": {},
   "source": [
    "##  <center><font color='blue'>EXTRAER GESTIONES IVR</font></center>"
   ]
  },
  {
   "cell_type": "code",
   "execution_count": 67,
   "metadata": {},
   "outputs": [],
   "source": [
    "consulta_ivr=\"\"\"\n",
    "    SELECT NRO_IDENTIFICACION_CLIENTE as CED,\n",
    "        RESPUESTA_OBTENIDA as RESPUESTAIVR\n",
    "    FROM\n",
    "        sistemecuador_atm.gestion_ivr\n",
    "    WHERE\n",
    "        FECHA_GESTION BETWEEN '{0}' AND '{1}'\n",
    "    AND \n",
    "        ACCION_REALIZADA = 'ENVIAR IVR';\n",
    "\"\"\".format(fecha_ini,fecha_fin)"
   ]
  },
  {
   "cell_type": "code",
   "execution_count": 68,
   "metadata": {},
   "outputs": [],
   "source": [
    "bd_gstivr=pd.read_sql(consulta_ivr, con=db)"
   ]
  },
  {
   "cell_type": "code",
   "execution_count": 69,
   "metadata": {},
   "outputs": [],
   "source": [
    "bd_gstivr[\"RESPUESTAIVR\"] = bd_gstivr[\"RESPUESTAIVR\"].astype('category')\n",
    "bd_gstivr[\"RESPUESTAIVR\"]  = bd_gstivr[\"RESPUESTAIVR\"].cat.set_categories([\"CONTESTO IVR\",\"SMS ENVIADO\",\"NO CONTESTO IVR\",\"SIN IVR\"])\n",
    "bd_gstivr=bd_gstivr.sort_values(by=['RESPUESTAIVR'],ascending=[True])\n",
    "bd_gstivr.drop_duplicates(['CED'], keep='first',inplace=True)"
   ]
  },
  {
   "cell_type": "markdown",
   "metadata": {},
   "source": [
    "##  <center><font color='blue'>CRUCE DE GESTIONES</font></center>"
   ]
  },
  {
   "cell_type": "code",
   "execution_count": 70,
   "metadata": {},
   "outputs": [],
   "source": [
    "combinar_ivr=pd.merge(bd_infractores,bd_gstivr,on=['CED'],how='left')\n",
    "combinar_ivr['RESPUESTAIVR']= combinar_ivr['RESPUESTAIVR'].fillna('SIN IVR')"
   ]
  },
  {
   "cell_type": "code",
   "execution_count": 71,
   "metadata": {},
   "outputs": [
    {
     "data": {
      "text/plain": [
       "Cedula          69006\n",
       "multas          69006\n",
       "monto           69006\n",
       "Cartera         69006\n",
       "menor_mora      69006\n",
       "CED             69006\n",
       "RESPUESTAIVR    69006\n",
       "dtype: int64"
      ]
     },
     "execution_count": 71,
     "metadata": {},
     "output_type": "execute_result"
    }
   ],
   "source": [
    "combinar_ivr.count()"
   ]
  },
  {
   "cell_type": "code",
   "execution_count": 89,
   "metadata": {},
   "outputs": [],
   "source": [
    "combinar_gest=pd.merge(combinar_ivr,bd_gstasesor,on=['CED'],how='left')\n",
    "combinar_gest['CONTACTO_GESTIONO']= combinar_gest['CONTACTO_GESTIONO'].fillna('SIN GESTION')"
   ]
  },
  {
   "cell_type": "code",
   "execution_count": 90,
   "metadata": {},
   "outputs": [
    {
     "data": {
      "text/html": [
       "<div>\n",
       "<style scoped>\n",
       "    .dataframe tbody tr th:only-of-type {\n",
       "        vertical-align: middle;\n",
       "    }\n",
       "\n",
       "    .dataframe tbody tr th {\n",
       "        vertical-align: top;\n",
       "    }\n",
       "\n",
       "    .dataframe thead th {\n",
       "        text-align: right;\n",
       "    }\n",
       "</style>\n",
       "<table border=\"1\" class=\"dataframe\">\n",
       "  <thead>\n",
       "    <tr style=\"text-align: right;\">\n",
       "      <th>CONTACTO_GESTIONO</th>\n",
       "      <th>CLIENTE</th>\n",
       "      <th>TERC. VALIDO</th>\n",
       "      <th>TERC. NO VALIDO</th>\n",
       "      <th>NO CONTACTO</th>\n",
       "      <th>SIN GESTION</th>\n",
       "      <th>All</th>\n",
       "    </tr>\n",
       "    <tr>\n",
       "      <th>Cartera</th>\n",
       "      <th></th>\n",
       "      <th></th>\n",
       "      <th></th>\n",
       "      <th></th>\n",
       "      <th></th>\n",
       "      <th></th>\n",
       "    </tr>\n",
       "  </thead>\n",
       "  <tbody>\n",
       "    <tr>\n",
       "      <th>CORRIENTE</th>\n",
       "      <td>2843</td>\n",
       "      <td>1767</td>\n",
       "      <td>1503</td>\n",
       "      <td>9720</td>\n",
       "      <td>2013</td>\n",
       "      <td>17846</td>\n",
       "    </tr>\n",
       "    <tr>\n",
       "      <th>MENOR</th>\n",
       "      <td>253</td>\n",
       "      <td>90</td>\n",
       "      <td>7</td>\n",
       "      <td>302</td>\n",
       "      <td>50508</td>\n",
       "      <td>51160</td>\n",
       "    </tr>\n",
       "    <tr>\n",
       "      <th>All</th>\n",
       "      <td>3096</td>\n",
       "      <td>1857</td>\n",
       "      <td>1510</td>\n",
       "      <td>10022</td>\n",
       "      <td>52521</td>\n",
       "      <td>69006</td>\n",
       "    </tr>\n",
       "  </tbody>\n",
       "</table>\n",
       "</div>"
      ],
      "text/plain": [
       "CONTACTO_GESTIONO  CLIENTE  TERC. VALIDO  TERC. NO VALIDO  NO CONTACTO  \\\n",
       "Cartera                                                                  \n",
       "CORRIENTE             2843          1767             1503         9720   \n",
       "MENOR                  253            90                7          302   \n",
       "All                   3096          1857             1510        10022   \n",
       "\n",
       "CONTACTO_GESTIONO  SIN GESTION    All  \n",
       "Cartera                                \n",
       "CORRIENTE                 2013  17846  \n",
       "MENOR                    50508  51160  \n",
       "All                      52521  69006  "
      ]
     },
     "execution_count": 90,
     "metadata": {},
     "output_type": "execute_result"
    }
   ],
   "source": [
    "pd.crosstab(index=combinar_gest['Cartera'],columns=combinar_gest['CONTACTO_GESTIONO'],margins=True)"
   ]
  },
  {
   "cell_type": "code",
   "execution_count": 91,
   "metadata": {},
   "outputs": [
    {
     "data": {
      "text/html": [
       "<div>\n",
       "<style scoped>\n",
       "    .dataframe tbody tr th:only-of-type {\n",
       "        vertical-align: middle;\n",
       "    }\n",
       "\n",
       "    .dataframe tbody tr th {\n",
       "        vertical-align: top;\n",
       "    }\n",
       "\n",
       "    .dataframe thead th {\n",
       "        text-align: right;\n",
       "    }\n",
       "</style>\n",
       "<table border=\"1\" class=\"dataframe\">\n",
       "  <thead>\n",
       "    <tr style=\"text-align: right;\">\n",
       "      <th>CONTACTO_GESTIONO</th>\n",
       "      <th>CLIENTE</th>\n",
       "      <th>TERC. VALIDO</th>\n",
       "      <th>TERC. NO VALIDO</th>\n",
       "      <th>NO CONTACTO</th>\n",
       "      <th>SIN GESTION</th>\n",
       "    </tr>\n",
       "    <tr>\n",
       "      <th>Cartera</th>\n",
       "      <th></th>\n",
       "      <th></th>\n",
       "      <th></th>\n",
       "      <th></th>\n",
       "      <th></th>\n",
       "    </tr>\n",
       "  </thead>\n",
       "  <tbody>\n",
       "    <tr>\n",
       "      <th>CORRIENTE</th>\n",
       "      <td>15.930741</td>\n",
       "      <td>9.901378</td>\n",
       "      <td>8.422055</td>\n",
       "      <td>54.465987</td>\n",
       "      <td>11.279839</td>\n",
       "    </tr>\n",
       "    <tr>\n",
       "      <th>MENOR</th>\n",
       "      <td>0.494527</td>\n",
       "      <td>0.175919</td>\n",
       "      <td>0.013683</td>\n",
       "      <td>0.590305</td>\n",
       "      <td>98.725567</td>\n",
       "    </tr>\n",
       "  </tbody>\n",
       "</table>\n",
       "</div>"
      ],
      "text/plain": [
       "CONTACTO_GESTIONO    CLIENTE  TERC. VALIDO  TERC. NO VALIDO  NO CONTACTO  \\\n",
       "Cartera                                                                    \n",
       "CORRIENTE          15.930741      9.901378         8.422055    54.465987   \n",
       "MENOR               0.494527      0.175919         0.013683     0.590305   \n",
       "\n",
       "CONTACTO_GESTIONO  SIN GESTION  \n",
       "Cartera                         \n",
       "CORRIENTE            11.279839  \n",
       "MENOR                98.725567  "
      ]
     },
     "execution_count": 91,
     "metadata": {},
     "output_type": "execute_result"
    }
   ],
   "source": [
    "porcentaje_gestion=pd.crosstab(index=combinar_gest['Cartera'],columns=combinar_gest['CONTACTO_GESTIONO']).apply(lambda r:r/r.sum()*100,axis=1)\n",
    "porcentaje_gestion"
   ]
  },
  {
   "cell_type": "code",
   "execution_count": 92,
   "metadata": {},
   "outputs": [
    {
     "data": {
      "text/plain": [
       "<matplotlib.axes._subplots.AxesSubplot at 0xcd87cb0>"
      ]
     },
     "execution_count": 92,
     "metadata": {},
     "output_type": "execute_result"
    },
    {
     "data": {
      "image/png": "[encoded data removed]",
      "text/plain": [
       "<Figure size 432x288 with 1 Axes>"
      ]
     },
     "metadata": {},
     "output_type": "display_data"
    }
   ],
   "source": [
    "porcentaje_gestion.plot(kind='bar',stacked=True,title='CONTACTABILIDAD')"
   ]
  },
  {
   "cell_type": "code",
   "execution_count": 93,
   "metadata": {},
   "outputs": [
    {
     "data": {
      "text/html": [
       "<div>\n",
       "<style scoped>\n",
       "    .dataframe tbody tr th:only-of-type {\n",
       "        vertical-align: middle;\n",
       "    }\n",
       "\n",
       "    .dataframe tbody tr th {\n",
       "        vertical-align: top;\n",
       "    }\n",
       "\n",
       "    .dataframe thead th {\n",
       "        text-align: right;\n",
       "    }\n",
       "</style>\n",
       "<table border=\"1\" class=\"dataframe\">\n",
       "  <thead>\n",
       "    <tr style=\"text-align: right;\">\n",
       "      <th>RESPUESTAIVR</th>\n",
       "      <th>CONTESTO IVR</th>\n",
       "      <th>NO CONTESTO IVR</th>\n",
       "      <th>SIN IVR</th>\n",
       "      <th>All</th>\n",
       "    </tr>\n",
       "    <tr>\n",
       "      <th>Cartera</th>\n",
       "      <th></th>\n",
       "      <th></th>\n",
       "      <th></th>\n",
       "      <th></th>\n",
       "    </tr>\n",
       "  </thead>\n",
       "  <tbody>\n",
       "    <tr>\n",
       "      <th>CORRIENTE</th>\n",
       "      <td>16753</td>\n",
       "      <td>27</td>\n",
       "      <td>1066</td>\n",
       "      <td>17846</td>\n",
       "    </tr>\n",
       "    <tr>\n",
       "      <th>MENOR</th>\n",
       "      <td>41039</td>\n",
       "      <td>3611</td>\n",
       "      <td>6510</td>\n",
       "      <td>51160</td>\n",
       "    </tr>\n",
       "    <tr>\n",
       "      <th>All</th>\n",
       "      <td>57792</td>\n",
       "      <td>3638</td>\n",
       "      <td>7576</td>\n",
       "      <td>69006</td>\n",
       "    </tr>\n",
       "  </tbody>\n",
       "</table>\n",
       "</div>"
      ],
      "text/plain": [
       "RESPUESTAIVR  CONTESTO IVR  NO CONTESTO IVR  SIN IVR    All\n",
       "Cartera                                                    \n",
       "CORRIENTE            16753               27     1066  17846\n",
       "MENOR                41039             3611     6510  51160\n",
       "All                  57792             3638     7576  69006"
      ]
     },
     "execution_count": 93,
     "metadata": {},
     "output_type": "execute_result"
    }
   ],
   "source": [
    "pd.crosstab(index=combinar_gest['Cartera'],columns=combinar_gest['RESPUESTAIVR'],margins=True)"
   ]
  },
  {
   "cell_type": "code",
   "execution_count": 94,
   "metadata": {},
   "outputs": [
    {
     "data": {
      "text/html": [
       "<div>\n",
       "<style scoped>\n",
       "    .dataframe tbody tr th:only-of-type {\n",
       "        vertical-align: middle;\n",
       "    }\n",
       "\n",
       "    .dataframe tbody tr th {\n",
       "        vertical-align: top;\n",
       "    }\n",
       "\n",
       "    .dataframe thead th {\n",
       "        text-align: right;\n",
       "    }\n",
       "</style>\n",
       "<table border=\"1\" class=\"dataframe\">\n",
       "  <thead>\n",
       "    <tr style=\"text-align: right;\">\n",
       "      <th>RESPUESTAIVR</th>\n",
       "      <th>CONTESTO IVR</th>\n",
       "      <th>NO CONTESTO IVR</th>\n",
       "      <th>SIN IVR</th>\n",
       "    </tr>\n",
       "    <tr>\n",
       "      <th>Cartera</th>\n",
       "      <th></th>\n",
       "      <th></th>\n",
       "      <th></th>\n",
       "    </tr>\n",
       "  </thead>\n",
       "  <tbody>\n",
       "    <tr>\n",
       "      <th>CORRIENTE</th>\n",
       "      <td>93.875378</td>\n",
       "      <td>0.151294</td>\n",
       "      <td>5.973327</td>\n",
       "    </tr>\n",
       "    <tr>\n",
       "      <th>MENOR</th>\n",
       "      <td>80.216966</td>\n",
       "      <td>7.058249</td>\n",
       "      <td>12.724785</td>\n",
       "    </tr>\n",
       "  </tbody>\n",
       "</table>\n",
       "</div>"
      ],
      "text/plain": [
       "RESPUESTAIVR  CONTESTO IVR  NO CONTESTO IVR    SIN IVR\n",
       "Cartera                                               \n",
       "CORRIENTE        93.875378         0.151294   5.973327\n",
       "MENOR            80.216966         7.058249  12.724785"
      ]
     },
     "execution_count": 94,
     "metadata": {},
     "output_type": "execute_result"
    }
   ],
   "source": [
    "porcentaje_gestionivr=pd.crosstab(index=combinar_gest['Cartera'],columns=combinar_gest['RESPUESTAIVR']).apply(lambda r:r/r.sum()*100,axis=1)\n",
    "porcentaje_gestionivr"
   ]
  },
  {
   "cell_type": "code",
   "execution_count": 95,
   "metadata": {},
   "outputs": [
    {
     "data": {
      "text/plain": [
       "<matplotlib.axes._subplots.AxesSubplot at 0x152a0e50>"
      ]
     },
     "execution_count": 95,
     "metadata": {},
     "output_type": "execute_result"
    },
    {
     "data": {
      "image/png": "[encoded data removed]",
      "text/plain": [
       "<Figure size 432x288 with 1 Axes>"
      ]
     },
     "metadata": {},
     "output_type": "display_data"
    }
   ],
   "source": [
    "porcentaje_gestionivr.plot(kind='bar',stacked=True,title='CONTACTABILIDAD IVR')"
   ]
  },
  {
   "cell_type": "code",
   "execution_count": 96,
   "metadata": {},
   "outputs": [
    {
     "data": {
      "text/html": [
       "<div>\n",
       "<style scoped>\n",
       "    .dataframe tbody tr th:only-of-type {\n",
       "        vertical-align: middle;\n",
       "    }\n",
       "\n",
       "    .dataframe tbody tr th {\n",
       "        vertical-align: top;\n",
       "    }\n",
       "\n",
       "    .dataframe thead th {\n",
       "        text-align: right;\n",
       "    }\n",
       "</style>\n",
       "<table border=\"1\" class=\"dataframe\">\n",
       "  <thead>\n",
       "    <tr style=\"text-align: right;\">\n",
       "      <th></th>\n",
       "      <th>Cedula</th>\n",
       "      <th>multas</th>\n",
       "      <th>monto</th>\n",
       "      <th>Cartera</th>\n",
       "      <th>menor_mora</th>\n",
       "      <th>CED</th>\n",
       "      <th>RESPUESTAIVR</th>\n",
       "      <th>FECHA_GESTION</th>\n",
       "      <th>RESPUESTA_OBTENIDA</th>\n",
       "      <th>CONTACTO_GESTIONO</th>\n",
       "      <th>MOTIVO_NO_PAGO</th>\n",
       "    </tr>\n",
       "  </thead>\n",
       "  <tbody>\n",
       "    <tr>\n",
       "      <th>0</th>\n",
       "      <td>00042448K</td>\n",
       "      <td>1</td>\n",
       "      <td>57.9</td>\n",
       "      <td>MENOR</td>\n",
       "      <td>192</td>\n",
       "      <td>00042448K</td>\n",
       "      <td>SIN IVR</td>\n",
       "      <td>NaT</td>\n",
       "      <td>NaN</td>\n",
       "      <td>SIN GESTION</td>\n",
       "      <td>NaN</td>\n",
       "    </tr>\n",
       "    <tr>\n",
       "      <th>1</th>\n",
       "      <td>1000005262</td>\n",
       "      <td>2</td>\n",
       "      <td>135.1</td>\n",
       "      <td>MENOR</td>\n",
       "      <td>22</td>\n",
       "      <td>1000005262</td>\n",
       "      <td>CONTESTO IVR</td>\n",
       "      <td>NaT</td>\n",
       "      <td>NaN</td>\n",
       "      <td>SIN GESTION</td>\n",
       "      <td>NaN</td>\n",
       "    </tr>\n",
       "    <tr>\n",
       "      <th>2</th>\n",
       "      <td>1000112654</td>\n",
       "      <td>1</td>\n",
       "      <td>36.6</td>\n",
       "      <td>MENOR</td>\n",
       "      <td>935</td>\n",
       "      <td>1000112654</td>\n",
       "      <td>CONTESTO IVR</td>\n",
       "      <td>NaT</td>\n",
       "      <td>NaN</td>\n",
       "      <td>SIN GESTION</td>\n",
       "      <td>NaN</td>\n",
       "    </tr>\n",
       "    <tr>\n",
       "      <th>3</th>\n",
       "      <td>1000131977</td>\n",
       "      <td>1</td>\n",
       "      <td>54.9</td>\n",
       "      <td>MENOR</td>\n",
       "      <td>882</td>\n",
       "      <td>1000131977</td>\n",
       "      <td>CONTESTO IVR</td>\n",
       "      <td>NaT</td>\n",
       "      <td>NaN</td>\n",
       "      <td>SIN GESTION</td>\n",
       "      <td>NaN</td>\n",
       "    </tr>\n",
       "    <tr>\n",
       "      <th>4</th>\n",
       "      <td>100021153</td>\n",
       "      <td>1</td>\n",
       "      <td>36.6</td>\n",
       "      <td>MENOR</td>\n",
       "      <td>886</td>\n",
       "      <td>0100021153</td>\n",
       "      <td>CONTESTO IVR</td>\n",
       "      <td>2018-10-03 11:20:08</td>\n",
       "      <td>INFRACTOR CUELGA LLAMADA</td>\n",
       "      <td>CLIENTE</td>\n",
       "      <td></td>\n",
       "    </tr>\n",
       "  </tbody>\n",
       "</table>\n",
       "</div>"
      ],
      "text/plain": [
       "       Cedula  multas  monto Cartera  menor_mora         CED  RESPUESTAIVR  \\\n",
       "0   00042448K       1   57.9   MENOR         192   00042448K       SIN IVR   \n",
       "1  1000005262       2  135.1   MENOR          22  1000005262  CONTESTO IVR   \n",
       "2  1000112654       1   36.6   MENOR         935  1000112654  CONTESTO IVR   \n",
       "3  1000131977       1   54.9   MENOR         882  1000131977  CONTESTO IVR   \n",
       "4   100021153       1   36.6   MENOR         886  0100021153  CONTESTO IVR   \n",
       "\n",
       "        FECHA_GESTION        RESPUESTA_OBTENIDA CONTACTO_GESTIONO  \\\n",
       "0                 NaT                       NaN       SIN GESTION   \n",
       "1                 NaT                       NaN       SIN GESTION   \n",
       "2                 NaT                       NaN       SIN GESTION   \n",
       "3                 NaT                       NaN       SIN GESTION   \n",
       "4 2018-10-03 11:20:08  INFRACTOR CUELGA LLAMADA           CLIENTE   \n",
       "\n",
       "  MOTIVO_NO_PAGO  \n",
       "0            NaN  \n",
       "1            NaN  \n",
       "2            NaN  \n",
       "3            NaN  \n",
       "4                 "
      ]
     },
     "execution_count": 96,
     "metadata": {},
     "output_type": "execute_result"
    }
   ],
   "source": [
    "combinar_gest.head()"
   ]
  },
  {
   "cell_type": "code",
   "execution_count": 97,
   "metadata": {},
   "outputs": [],
   "source": [
    "writer = pd.ExcelWriter('CONTACTABILIDAD SEPTIEMBRE.xlsx', engine='xlsxwriter')\n",
    "combinar_gest.to_excel(writer, sheet_name='TOTAL')\n",
    "worksheet = writer.sheets['TOTAL']\n",
    "writer.save()"
   ]
  },
  {
   "cell_type": "code",
   "execution_count": null,
   "metadata": {},
   "outputs": [],
   "source": []
  },
  {
   "cell_type": "code",
   "execution_count": null,
   "metadata": {},
   "outputs": [],
   "source": []
  }
 ],
 "metadata": {
  "kernelspec": {
   "display_name": "Python 3",
   "language": "python",
   "name": "python3"
  },
  "language_info": {
   "codemirror_mode": {
    "name": "ipython",
    "version": 3
   },
   "file_extension": ".py",
   "mimetype": "text/x-python",
   "name": "python",
   "nbconvert_exporter": "python",
   "pygments_lexer": "ipython3",
   "version": "3.6.5"
  }
 },
 "nbformat": 4,
 "nbformat_minor": 2
}
