{
 "cells": [
  {
   "cell_type": "markdown",
   "metadata": {},
   "source": [
    "# INFORMACION DE PAGOS DATATOOLS"
   ]
  },
  {
   "cell_type": "markdown",
   "metadata": {},
   "source": [
    "### LIBRERIAS A UTILIZAR"
   ]
  },
  {
   "cell_type": "code",
   "execution_count": 1,
   "metadata": {},
   "outputs": [],
   "source": [
    "import pandas as pd\n",
    "from datetime import datetime\n",
    "import mysql.connector as mc"
   ]
  },
  {
   "cell_type": "markdown",
   "metadata": {},
   "source": [
    "### VARIABLES PARA IDENTIFICAR HONORARIOS"
   ]
  },
  {
   "cell_type": "code",
   "execution_count": 2,
   "metadata": {},
   "outputs": [],
   "source": [
    "Dia='13'\n",
    "Mes='05'\n",
    "Anio='2019'\n",
    "fecha_pago=Dia+Mes+Anio\n",
    "F_Mes='MAYO'"
   ]
  },
  {
   "cell_type": "markdown",
   "metadata": {},
   "source": [
    " "
   ]
  },
  {
   "cell_type": "markdown",
   "metadata": {},
   "source": [
    "### CONECCION A BD"
   ]
  },
  {
   "cell_type": "code",
   "execution_count": 3,
   "metadata": {},
   "outputs": [],
   "source": [
    "host = '172.18.55.6'\n",
    "user = 'comandato'\n",
    "passwd='comandato123'\n",
    "db = mc.connect(host=host,user=user,passwd=passwd)\n",
    "cur= db.cursor()"
   ]
  },
  {
   "cell_type": "markdown",
   "metadata": {},
   "source": [
    " "
   ]
  },
  {
   "cell_type": "markdown",
   "metadata": {},
   "source": [
    "### FUNCIONES A UTILIZAR"
   ]
  },
  {
   "cell_type": "code",
   "execution_count": 4,
   "metadata": {},
   "outputs": [],
   "source": [
    "def order(frame,var):\n",
    "    if type(var) is str:\n",
    "        var = [var] #let the command take a string or list\n",
    "    varlist =[w for w in frame.columns if w not in var]\n",
    "    frame = frame[var+varlist]\n",
    "    return frame "
   ]
  },
  {
   "cell_type": "code",
   "execution_count": 5,
   "metadata": {},
   "outputs": [],
   "source": [
    "def agregar_ceros(base):\n",
    "    ced=base['CED']\n",
    "    if len(ced)==9 or len(ced)==12 :\n",
    "        if ced.isdigit():\n",
    "            return '0'+ced\n",
    "    return ced"
   ]
  },
  {
   "cell_type": "code",
   "execution_count": 6,
   "metadata": {},
   "outputs": [],
   "source": [
    "def dias_mora(base):\n",
    "    return (datetime.now()-base['FECHAMORA']).days"
   ]
  },
  {
   "cell_type": "code",
   "execution_count": 7,
   "metadata": {},
   "outputs": [],
   "source": [
    "def cartera(base):\n",
    "    segmento = base['SEGMENTO']\n",
    "    cartetra = base['Cartera']\n",
    "    if cartetra is None:\n",
    "        cartetra = 'NO ASIGNADO'\n",
    "    if segmento == 'SIN DEFINIR':\n",
    "        return cartetra\n",
    "    return segmento"
   ]
  },
  {
   "cell_type": "markdown",
   "metadata": {},
   "source": [
    " "
   ]
  },
  {
   "cell_type": "code",
   "execution_count": 8,
   "metadata": {},
   "outputs": [],
   "source": [
    "def mora(base):\n",
    "    mora1 = base['MORA']\n",
    "    mora2 = base['Dias_mora']\n",
    "    if mora1 == 0:\n",
    "        return mora2\n",
    "    return mora1"
   ]
  },
  {
   "cell_type": "markdown",
   "metadata": {},
   "source": [
    " "
   ]
  },
  {
   "cell_type": "markdown",
   "metadata": {},
   "source": [
    "# UNIFICACION BASE DE PAGOS"
   ]
  },
  {
   "cell_type": "markdown",
   "metadata": {},
   "source": [
    "### RUTAS Y NOMBRES DE LOS ARCHIVOS"
   ]
  },
  {
   "cell_type": "code",
   "execution_count": 9,
   "metadata": {},
   "outputs": [],
   "source": [
    "pago_corr={\n",
    "    'ruta':'..\\..\\..\\BASES DATATOOLS\\PAGOS\\\\2019\\\\MAYO\\Sitema de cobro '+fecha_pago+'.xlsx',\n",
    "    'hoja':'PAGOS_CORRIENTE',\n",
    "    'cartera':'CORRIENTE',\n",
    "    'identificador':'IDENTIFICACION'\n",
    "}\n",
    "\n",
    "pago_cuot={\n",
    "    'ruta':'..\\..\\..\\BASES DATATOOLS\\PAGOS\\\\2019\\\\MAYO\\Sitema de cobro '+fecha_pago+'.xlsx',\n",
    "    'hoja':'PAGOS_CUOTACERO',\n",
    "    'cartera':'CUOTA',\n",
    "    'identificador':'ID'\n",
    "}\n",
    "\n",
    "pago_conv={\n",
    "    'ruta':'..\\..\\..\\BASES DATATOOLS\\PAGOS\\\\2019\\\\MAYO\\Sitema de cobro '+fecha_pago+'.xlsx',\n",
    "    'hoja':'PAGOS_CONVENIOS',\n",
    "    'cartera':'CONVENIO',\n",
    "    'identificador':'ID'\n",
    "}"
   ]
  },
  {
   "cell_type": "markdown",
   "metadata": {},
   "source": [
    "### CARGAR LOS ARCHIVOS"
   ]
  },
  {
   "cell_type": "code",
   "execution_count": 10,
   "metadata": {},
   "outputs": [],
   "source": [
    "pagos_corr=pd.read_excel(open(pago_corr['ruta'],'rb'), sheet_name=pago_corr['hoja'], dtype={pago_corr['identificador']: str})\n",
    "pagos_cuot=pd.read_excel(open(pago_cuot['ruta'],'rb'), sheet_name=pago_cuot['hoja'], dtype={pago_cuot['identificador']: str})\n",
    "pagos_conv=pd.read_excel(open(pago_conv['ruta'],'rb'), sheet_name=pago_conv['hoja'], dtype={pago_conv['identificador']: str})"
   ]
  },
  {
   "cell_type": "markdown",
   "metadata": {},
   "source": [
    " "
   ]
  },
  {
   "cell_type": "markdown",
   "metadata": {},
   "source": [
    "### PAGOS CORRIENTE"
   ]
  },
  {
   "cell_type": "code",
   "execution_count": 11,
   "metadata": {},
   "outputs": [],
   "source": [
    "ordenColumn = ['CED','INFRACCION','MONTO','FECHAPAGO','MORA','PAGO','TIPOPAGO','SEGMENTO']"
   ]
  },
  {
   "cell_type": "code",
   "execution_count": 12,
   "metadata": {},
   "outputs": [
    {
     "data": {
      "text/html": [
       "<div>\n",
       "<style scoped>\n",
       "    .dataframe tbody tr th:only-of-type {\n",
       "        vertical-align: middle;\n",
       "    }\n",
       "\n",
       "    .dataframe tbody tr th {\n",
       "        vertical-align: top;\n",
       "    }\n",
       "\n",
       "    .dataframe thead th {\n",
       "        text-align: right;\n",
       "    }\n",
       "</style>\n",
       "<table border=\"1\" class=\"dataframe\">\n",
       "  <thead>\n",
       "    <tr style=\"text-align: right;\">\n",
       "      <th></th>\n",
       "      <th>CED</th>\n",
       "      <th>INFRACCION</th>\n",
       "      <th>MONTO</th>\n",
       "      <th>FECHAPAGO</th>\n",
       "      <th>MORA</th>\n",
       "      <th>PAGO</th>\n",
       "      <th>TIPOPAGO</th>\n",
       "      <th>SEGMENTO</th>\n",
       "    </tr>\n",
       "  </thead>\n",
       "  <tbody>\n",
       "    <tr>\n",
       "      <th>0</th>\n",
       "      <td>0907964464</td>\n",
       "      <td>6347039</td>\n",
       "      <td>115.8</td>\n",
       "      <td>2019-05-01</td>\n",
       "      <td>0</td>\n",
       "      <td>115.8</td>\n",
       "      <td>TOTAL</td>\n",
       "      <td>SIN DEFINIR</td>\n",
       "    </tr>\n",
       "    <tr>\n",
       "      <th>1</th>\n",
       "      <td>1711723831</td>\n",
       "      <td>5112985</td>\n",
       "      <td>19.3</td>\n",
       "      <td>2019-05-01</td>\n",
       "      <td>0</td>\n",
       "      <td>19.3</td>\n",
       "      <td>TOTAL</td>\n",
       "      <td>SIN DEFINIR</td>\n",
       "    </tr>\n",
       "    <tr>\n",
       "      <th>2</th>\n",
       "      <td>1304396581</td>\n",
       "      <td>5055893</td>\n",
       "      <td>19.3</td>\n",
       "      <td>2019-05-01</td>\n",
       "      <td>0</td>\n",
       "      <td>19.3</td>\n",
       "      <td>TOTAL</td>\n",
       "      <td>SIN DEFINIR</td>\n",
       "    </tr>\n",
       "    <tr>\n",
       "      <th>3</th>\n",
       "      <td>1304396581</td>\n",
       "      <td>5063205</td>\n",
       "      <td>19.3</td>\n",
       "      <td>2019-05-01</td>\n",
       "      <td>0</td>\n",
       "      <td>19.3</td>\n",
       "      <td>TOTAL</td>\n",
       "      <td>SIN DEFINIR</td>\n",
       "    </tr>\n",
       "    <tr>\n",
       "      <th>4</th>\n",
       "      <td>0912125002</td>\n",
       "      <td>6382875</td>\n",
       "      <td>19.7</td>\n",
       "      <td>2019-05-01</td>\n",
       "      <td>0</td>\n",
       "      <td>19.7</td>\n",
       "      <td>TOTAL</td>\n",
       "      <td>SIN DEFINIR</td>\n",
       "    </tr>\n",
       "  </tbody>\n",
       "</table>\n",
       "</div>"
      ],
      "text/plain": [
       "          CED  INFRACCION  MONTO  FECHAPAGO  MORA   PAGO TIPOPAGO     SEGMENTO\n",
       "0  0907964464     6347039  115.8 2019-05-01     0  115.8    TOTAL  SIN DEFINIR\n",
       "1  1711723831     5112985   19.3 2019-05-01     0   19.3    TOTAL  SIN DEFINIR\n",
       "2  1304396581     5055893   19.3 2019-05-01     0   19.3    TOTAL  SIN DEFINIR\n",
       "3  1304396581     5063205   19.3 2019-05-01     0   19.3    TOTAL  SIN DEFINIR\n",
       "4  0912125002     6382875   19.7 2019-05-01     0   19.7    TOTAL  SIN DEFINIR"
      ]
     },
     "execution_count": 12,
     "metadata": {},
     "output_type": "execute_result"
    }
   ],
   "source": [
    "pagos_corr.rename(columns={'IDENTIFICACION':'CED','ID_FACTURA':'INFRACCION','VALOR_INFRACCION':'MONTO',\\\n",
    "                           'FECHA_PAGO':'FECHAPAGO'},inplace=True)\n",
    "pagos_corr['CED']=pagos_corr.apply(agregar_ceros,axis=1)\n",
    "pagos_corr['MORA']=0\n",
    "pagos_corr['PAGO']=pagos_corr['MONTO']\n",
    "pagos_corr['TIPOPAGO']='TOTAL'\n",
    "pagos_corr['SEGMENTO']='SIN DEFINIR'\n",
    "try:\n",
    "    pagos_corr.drop('CASA COBRO', axis=1, inplace=True)\n",
    "except:\n",
    "    pass\n",
    "pagos_corr = order(pagos_corr,ordenColumn)\n",
    "pagos_corr.head()"
   ]
  },
  {
   "cell_type": "markdown",
   "metadata": {},
   "source": [
    " "
   ]
  },
  {
   "cell_type": "markdown",
   "metadata": {},
   "source": [
    "### PAGOS CUOTA CERO"
   ]
  },
  {
   "cell_type": "code",
   "execution_count": 13,
   "metadata": {},
   "outputs": [
    {
     "data": {
      "text/html": [
       "<div>\n",
       "<style scoped>\n",
       "    .dataframe tbody tr th:only-of-type {\n",
       "        vertical-align: middle;\n",
       "    }\n",
       "\n",
       "    .dataframe tbody tr th {\n",
       "        vertical-align: top;\n",
       "    }\n",
       "\n",
       "    .dataframe thead th {\n",
       "        text-align: right;\n",
       "    }\n",
       "</style>\n",
       "<table border=\"1\" class=\"dataframe\">\n",
       "  <thead>\n",
       "    <tr style=\"text-align: right;\">\n",
       "      <th></th>\n",
       "      <th>CED</th>\n",
       "      <th>INFRACCION</th>\n",
       "      <th>MONTO</th>\n",
       "      <th>FECHAPAGO</th>\n",
       "      <th>MORA</th>\n",
       "      <th>PAGO</th>\n",
       "      <th>TIPOPAGO</th>\n",
       "      <th>SEGMENTO</th>\n",
       "      <th>ID_CONVENIO</th>\n",
       "      <th>FECHA_EMISION_FINANC</th>\n",
       "      <th>NRO_CUOTA_EMISION</th>\n",
       "      <th>FECHA_EMISION_INFRACCION</th>\n",
       "      <th>VALOR_PAGO_CAPITAL.1</th>\n",
       "      <th>CASA COBRO</th>\n",
       "    </tr>\n",
       "  </thead>\n",
       "  <tbody>\n",
       "    <tr>\n",
       "      <th>0</th>\n",
       "      <td>0919709139</td>\n",
       "      <td>5533365</td>\n",
       "      <td>19.3</td>\n",
       "      <td>2019-05-01 13:28:14</td>\n",
       "      <td>236</td>\n",
       "      <td>112.04</td>\n",
       "      <td>PARCIAL</td>\n",
       "      <td>SIN DEFINIR</td>\n",
       "      <td>359768</td>\n",
       "      <td>2019-05-01</td>\n",
       "      <td>0</td>\n",
       "      <td>2018-09-07</td>\n",
       "      <td>3.88</td>\n",
       "      <td>SISTEMA DE COBRO DEL ECUADOR</td>\n",
       "    </tr>\n",
       "    <tr>\n",
       "      <th>1</th>\n",
       "      <td>0919709139</td>\n",
       "      <td>5608800</td>\n",
       "      <td>386.0</td>\n",
       "      <td>2019-05-01 13:28:14</td>\n",
       "      <td>218</td>\n",
       "      <td>112.04</td>\n",
       "      <td>PARCIAL</td>\n",
       "      <td>SIN DEFINIR</td>\n",
       "      <td>359768</td>\n",
       "      <td>2019-05-01</td>\n",
       "      <td>0</td>\n",
       "      <td>2018-09-25</td>\n",
       "      <td>77.24</td>\n",
       "      <td>SISTEMA DE COBRO DEL ECUADOR</td>\n",
       "    </tr>\n",
       "    <tr>\n",
       "      <th>2</th>\n",
       "      <td>0919709139</td>\n",
       "      <td>5973029</td>\n",
       "      <td>19.3</td>\n",
       "      <td>2019-05-01 13:28:14</td>\n",
       "      <td>128</td>\n",
       "      <td>112.04</td>\n",
       "      <td>PARCIAL</td>\n",
       "      <td>SIN DEFINIR</td>\n",
       "      <td>359768</td>\n",
       "      <td>2019-05-01</td>\n",
       "      <td>0</td>\n",
       "      <td>2018-12-24</td>\n",
       "      <td>3.88</td>\n",
       "      <td>SISTEMA DE COBRO DEL ECUADOR</td>\n",
       "    </tr>\n",
       "    <tr>\n",
       "      <th>3</th>\n",
       "      <td>0918099920</td>\n",
       "      <td>6348438</td>\n",
       "      <td>394.0</td>\n",
       "      <td>2019-05-01 17:31:03</td>\n",
       "      <td>40</td>\n",
       "      <td>90.64</td>\n",
       "      <td>PARCIAL</td>\n",
       "      <td>SIN DEFINIR</td>\n",
       "      <td>359795</td>\n",
       "      <td>2019-05-01</td>\n",
       "      <td>0</td>\n",
       "      <td>2019-03-22</td>\n",
       "      <td>78.82</td>\n",
       "      <td>SISTEMA DE COBRO DEL ECUADOR</td>\n",
       "    </tr>\n",
       "    <tr>\n",
       "      <th>4</th>\n",
       "      <td>0919709139</td>\n",
       "      <td>5358553</td>\n",
       "      <td>19.3</td>\n",
       "      <td>2019-05-01 13:28:14</td>\n",
       "      <td>273</td>\n",
       "      <td>112.04</td>\n",
       "      <td>PARCIAL</td>\n",
       "      <td>SIN DEFINIR</td>\n",
       "      <td>359768</td>\n",
       "      <td>2019-05-01</td>\n",
       "      <td>0</td>\n",
       "      <td>2018-08-01</td>\n",
       "      <td>3.88</td>\n",
       "      <td>SISTEMA DE COBRO DEL ECUADOR</td>\n",
       "    </tr>\n",
       "  </tbody>\n",
       "</table>\n",
       "</div>"
      ],
      "text/plain": [
       "          CED  INFRACCION  MONTO           FECHAPAGO  MORA    PAGO TIPOPAGO  \\\n",
       "0  0919709139     5533365   19.3 2019-05-01 13:28:14   236  112.04  PARCIAL   \n",
       "1  0919709139     5608800  386.0 2019-05-01 13:28:14   218  112.04  PARCIAL   \n",
       "2  0919709139     5973029   19.3 2019-05-01 13:28:14   128  112.04  PARCIAL   \n",
       "3  0918099920     6348438  394.0 2019-05-01 17:31:03    40   90.64  PARCIAL   \n",
       "4  0919709139     5358553   19.3 2019-05-01 13:28:14   273  112.04  PARCIAL   \n",
       "\n",
       "      SEGMENTO  ID_CONVENIO FECHA_EMISION_FINANC  NRO_CUOTA_EMISION  \\\n",
       "0  SIN DEFINIR       359768           2019-05-01                  0   \n",
       "1  SIN DEFINIR       359768           2019-05-01                  0   \n",
       "2  SIN DEFINIR       359768           2019-05-01                  0   \n",
       "3  SIN DEFINIR       359795           2019-05-01                  0   \n",
       "4  SIN DEFINIR       359768           2019-05-01                  0   \n",
       "\n",
       "  FECHA_EMISION_INFRACCION  VALOR_PAGO_CAPITAL.1                    CASA COBRO  \n",
       "0               2018-09-07                  3.88  SISTEMA DE COBRO DEL ECUADOR  \n",
       "1               2018-09-25                 77.24  SISTEMA DE COBRO DEL ECUADOR  \n",
       "2               2018-12-24                  3.88  SISTEMA DE COBRO DEL ECUADOR  \n",
       "3               2019-03-22                 78.82  SISTEMA DE COBRO DEL ECUADOR  \n",
       "4               2018-08-01                  3.88  SISTEMA DE COBRO DEL ECUADOR  "
      ]
     },
     "execution_count": 13,
     "metadata": {},
     "output_type": "execute_result"
    }
   ],
   "source": [
    "pagos_cuot.rename(columns={'ID':'CED','ID_FACTURA_INICIAL':'INFRACCION','VALOR_INFRACCION':'MONTO',\\\n",
    "                           'VALOR_PAGO_CAPITAL':'PAGO','FECHA_REGISTRO_PAGO':'FECHAPAGO','DIAS_MORA':'MORA'},inplace=True)\n",
    "pagos_cuot['CED']=pagos_cuot.apply(agregar_ceros,axis=1)\n",
    "pagos_cuot['TIPOPAGO']='PARCIAL'\n",
    "pagos_cuot['SEGMENTO']='SIN DEFINIR'\n",
    "try:\n",
    "    pagos_cuot.drop(['ID_CONVENIO','FECHA_EMISION_FINANC','VALOR_CAPITAL','NRO_CUOTA_EMISION'\\\n",
    "                 ,'FECHA_EMISION_INFRACCION','CASA COBRO','ID_CONVENIO','FECHA_REG'],axis=1,inplace=True)\n",
    "except:\n",
    "    pass\n",
    "\n",
    "pagos_cuot = order(pagos_cuot,ordenColumn)\n",
    "pagos_cuot.head()"
   ]
  },
  {
   "cell_type": "markdown",
   "metadata": {},
   "source": [
    " "
   ]
  },
  {
   "cell_type": "markdown",
   "metadata": {},
   "source": [
    "### PAGOS CUOTA VENCIDA"
   ]
  },
  {
   "cell_type": "code",
   "execution_count": 14,
   "metadata": {},
   "outputs": [
    {
     "data": {
      "text/html": [
       "<div>\n",
       "<style scoped>\n",
       "    .dataframe tbody tr th:only-of-type {\n",
       "        vertical-align: middle;\n",
       "    }\n",
       "\n",
       "    .dataframe tbody tr th {\n",
       "        vertical-align: top;\n",
       "    }\n",
       "\n",
       "    .dataframe thead th {\n",
       "        text-align: right;\n",
       "    }\n",
       "</style>\n",
       "<table border=\"1\" class=\"dataframe\">\n",
       "  <thead>\n",
       "    <tr style=\"text-align: right;\">\n",
       "      <th></th>\n",
       "      <th>CED</th>\n",
       "      <th>INFRACCION</th>\n",
       "      <th>MONTO</th>\n",
       "      <th>FECHAPAGO</th>\n",
       "      <th>MORA</th>\n",
       "      <th>PAGO</th>\n",
       "      <th>TIPOPAGO</th>\n",
       "      <th>SEGMENTO</th>\n",
       "    </tr>\n",
       "  </thead>\n",
       "  <tbody>\n",
       "    <tr>\n",
       "      <th>0</th>\n",
       "      <td>0922469549</td>\n",
       "      <td>306207</td>\n",
       "      <td>102.93</td>\n",
       "      <td>2019-05-01</td>\n",
       "      <td>390</td>\n",
       "      <td>102.93</td>\n",
       "      <td>TOTAL</td>\n",
       "      <td>CONVENIO</td>\n",
       "    </tr>\n",
       "    <tr>\n",
       "      <th>1</th>\n",
       "      <td>0922469549</td>\n",
       "      <td>306207</td>\n",
       "      <td>102.93</td>\n",
       "      <td>2019-05-01</td>\n",
       "      <td>237</td>\n",
       "      <td>102.93</td>\n",
       "      <td>TOTAL</td>\n",
       "      <td>CONVENIO</td>\n",
       "    </tr>\n",
       "    <tr>\n",
       "      <th>2</th>\n",
       "      <td>0922469549</td>\n",
       "      <td>306207</td>\n",
       "      <td>102.93</td>\n",
       "      <td>2019-05-01</td>\n",
       "      <td>299</td>\n",
       "      <td>102.93</td>\n",
       "      <td>TOTAL</td>\n",
       "      <td>CONVENIO</td>\n",
       "    </tr>\n",
       "    <tr>\n",
       "      <th>3</th>\n",
       "      <td>0922469549</td>\n",
       "      <td>306207</td>\n",
       "      <td>102.93</td>\n",
       "      <td>2019-05-01</td>\n",
       "      <td>267</td>\n",
       "      <td>102.93</td>\n",
       "      <td>TOTAL</td>\n",
       "      <td>CONVENIO</td>\n",
       "    </tr>\n",
       "    <tr>\n",
       "      <th>4</th>\n",
       "      <td>0922469549</td>\n",
       "      <td>306207</td>\n",
       "      <td>102.93</td>\n",
       "      <td>2019-05-01</td>\n",
       "      <td>358</td>\n",
       "      <td>102.93</td>\n",
       "      <td>TOTAL</td>\n",
       "      <td>CONVENIO</td>\n",
       "    </tr>\n",
       "  </tbody>\n",
       "</table>\n",
       "</div>"
      ],
      "text/plain": [
       "          CED  INFRACCION   MONTO  FECHAPAGO  MORA    PAGO TIPOPAGO  SEGMENTO\n",
       "0  0922469549      306207  102.93 2019-05-01   390  102.93    TOTAL  CONVENIO\n",
       "1  0922469549      306207  102.93 2019-05-01   237  102.93    TOTAL  CONVENIO\n",
       "2  0922469549      306207  102.93 2019-05-01   299  102.93    TOTAL  CONVENIO\n",
       "3  0922469549      306207  102.93 2019-05-01   267  102.93    TOTAL  CONVENIO\n",
       "4  0922469549      306207  102.93 2019-05-01   358  102.93    TOTAL  CONVENIO"
      ]
     },
     "execution_count": 14,
     "metadata": {},
     "output_type": "execute_result"
    }
   ],
   "source": [
    "pagos_conv.rename(columns={'ID':'CED','ID_CONVENIO':'INFRACCION','VALOR_PAGAR_CUOTA':'MONTO',\\\n",
    "                           'FECHA_PAGO':'FECHAPAGO','FECHA_VENCIMIENTO':'FECHAMORA'},inplace=True)\n",
    "pagos_conv['CED']=pagos_conv.apply(agregar_ceros,axis=1)\n",
    "try:\n",
    "    pagos_conv['MORA']=pagos_conv.apply(dias_mora,axis=1)\n",
    "except:\n",
    "    pagos_conv['MORA']=pagos_conv['DIAS_MORA']\n",
    "pagos_conv['PAGO']=pagos_conv['MONTO']\n",
    "pagos_conv['TIPOPAGO']='TOTAL'\n",
    "pagos_conv['SEGMENTO']='CONVENIO'\n",
    "try:\n",
    "    pagos_conv.drop(['CASA COBRO','NRO_CUOTA_EMISION','FECHAMORA'],axis=1,inplace=True)\n",
    "except:\n",
    "    pass\n",
    "pagos_conv = order(pagos_conv,ordenColumn)\n",
    "pagos_conv.head()"
   ]
  },
  {
   "cell_type": "markdown",
   "metadata": {},
   "source": [
    " "
   ]
  },
  {
   "cell_type": "markdown",
   "metadata": {},
   "source": [
    "### UNIR BASE DE PAGOS"
   ]
  },
  {
   "cell_type": "code",
   "execution_count": 15,
   "metadata": {},
   "outputs": [
    {
     "name": "stderr",
     "output_type": "stream",
     "text": [
      "c:\\users\\michael\\appdata\\local\\programs\\python\\python36-32\\lib\\site-packages\\ipykernel_launcher.py:2: FutureWarning: Sorting because non-concatenation axis is not aligned. A future version\n",
      "of pandas will change to not sort by default.\n",
      "\n",
      "To accept the future behavior, pass 'sort=True'.\n",
      "\n",
      "To retain the current behavior and silence the warning, pass sort=False\n",
      "\n",
      "  \n"
     ]
    },
    {
     "data": {
      "text/html": [
       "<div>\n",
       "<style scoped>\n",
       "    .dataframe tbody tr th:only-of-type {\n",
       "        vertical-align: middle;\n",
       "    }\n",
       "\n",
       "    .dataframe tbody tr th {\n",
       "        vertical-align: top;\n",
       "    }\n",
       "\n",
       "    .dataframe thead th {\n",
       "        text-align: right;\n",
       "    }\n",
       "</style>\n",
       "<table border=\"1\" class=\"dataframe\">\n",
       "  <thead>\n",
       "    <tr style=\"text-align: right;\">\n",
       "      <th></th>\n",
       "      <th>CASA COBRO</th>\n",
       "      <th>CED</th>\n",
       "      <th>FECHAPAGO</th>\n",
       "      <th>FECHA_EMISION_FINANC</th>\n",
       "      <th>FECHA_EMISION_INFRACCION</th>\n",
       "      <th>ID_CONVENIO</th>\n",
       "      <th>INFRACCION</th>\n",
       "      <th>MONTO</th>\n",
       "      <th>MORA</th>\n",
       "      <th>NRO_CUOTA_EMISION</th>\n",
       "      <th>PAGO</th>\n",
       "      <th>SEGMENTO</th>\n",
       "      <th>TIPOPAGO</th>\n",
       "      <th>VALOR_PAGO_CAPITAL.1</th>\n",
       "    </tr>\n",
       "  </thead>\n",
       "  <tbody>\n",
       "    <tr>\n",
       "      <th>0</th>\n",
       "      <td>NaN</td>\n",
       "      <td>0907964464</td>\n",
       "      <td>2019-05-01</td>\n",
       "      <td>NaT</td>\n",
       "      <td>NaT</td>\n",
       "      <td>NaN</td>\n",
       "      <td>6347039</td>\n",
       "      <td>115.8</td>\n",
       "      <td>0</td>\n",
       "      <td>NaN</td>\n",
       "      <td>115.8</td>\n",
       "      <td>SIN DEFINIR</td>\n",
       "      <td>TOTAL</td>\n",
       "      <td>NaN</td>\n",
       "    </tr>\n",
       "    <tr>\n",
       "      <th>1</th>\n",
       "      <td>NaN</td>\n",
       "      <td>1711723831</td>\n",
       "      <td>2019-05-01</td>\n",
       "      <td>NaT</td>\n",
       "      <td>NaT</td>\n",
       "      <td>NaN</td>\n",
       "      <td>5112985</td>\n",
       "      <td>19.3</td>\n",
       "      <td>0</td>\n",
       "      <td>NaN</td>\n",
       "      <td>19.3</td>\n",
       "      <td>SIN DEFINIR</td>\n",
       "      <td>TOTAL</td>\n",
       "      <td>NaN</td>\n",
       "    </tr>\n",
       "    <tr>\n",
       "      <th>2</th>\n",
       "      <td>NaN</td>\n",
       "      <td>1304396581</td>\n",
       "      <td>2019-05-01</td>\n",
       "      <td>NaT</td>\n",
       "      <td>NaT</td>\n",
       "      <td>NaN</td>\n",
       "      <td>5055893</td>\n",
       "      <td>19.3</td>\n",
       "      <td>0</td>\n",
       "      <td>NaN</td>\n",
       "      <td>19.3</td>\n",
       "      <td>SIN DEFINIR</td>\n",
       "      <td>TOTAL</td>\n",
       "      <td>NaN</td>\n",
       "    </tr>\n",
       "    <tr>\n",
       "      <th>3</th>\n",
       "      <td>NaN</td>\n",
       "      <td>1304396581</td>\n",
       "      <td>2019-05-01</td>\n",
       "      <td>NaT</td>\n",
       "      <td>NaT</td>\n",
       "      <td>NaN</td>\n",
       "      <td>5063205</td>\n",
       "      <td>19.3</td>\n",
       "      <td>0</td>\n",
       "      <td>NaN</td>\n",
       "      <td>19.3</td>\n",
       "      <td>SIN DEFINIR</td>\n",
       "      <td>TOTAL</td>\n",
       "      <td>NaN</td>\n",
       "    </tr>\n",
       "    <tr>\n",
       "      <th>4</th>\n",
       "      <td>NaN</td>\n",
       "      <td>0912125002</td>\n",
       "      <td>2019-05-01</td>\n",
       "      <td>NaT</td>\n",
       "      <td>NaT</td>\n",
       "      <td>NaN</td>\n",
       "      <td>6382875</td>\n",
       "      <td>19.7</td>\n",
       "      <td>0</td>\n",
       "      <td>NaN</td>\n",
       "      <td>19.7</td>\n",
       "      <td>SIN DEFINIR</td>\n",
       "      <td>TOTAL</td>\n",
       "      <td>NaN</td>\n",
       "    </tr>\n",
       "  </tbody>\n",
       "</table>\n",
       "</div>"
      ],
      "text/plain": [
       "  CASA COBRO         CED  FECHAPAGO FECHA_EMISION_FINANC  \\\n",
       "0        NaN  0907964464 2019-05-01                  NaT   \n",
       "1        NaN  1711723831 2019-05-01                  NaT   \n",
       "2        NaN  1304396581 2019-05-01                  NaT   \n",
       "3        NaN  1304396581 2019-05-01                  NaT   \n",
       "4        NaN  0912125002 2019-05-01                  NaT   \n",
       "\n",
       "  FECHA_EMISION_INFRACCION  ID_CONVENIO  INFRACCION  MONTO  MORA  \\\n",
       "0                      NaT          NaN     6347039  115.8     0   \n",
       "1                      NaT          NaN     5112985   19.3     0   \n",
       "2                      NaT          NaN     5055893   19.3     0   \n",
       "3                      NaT          NaN     5063205   19.3     0   \n",
       "4                      NaT          NaN     6382875   19.7     0   \n",
       "\n",
       "   NRO_CUOTA_EMISION   PAGO     SEGMENTO TIPOPAGO  VALOR_PAGO_CAPITAL.1  \n",
       "0                NaN  115.8  SIN DEFINIR    TOTAL                   NaN  \n",
       "1                NaN   19.3  SIN DEFINIR    TOTAL                   NaN  \n",
       "2                NaN   19.3  SIN DEFINIR    TOTAL                   NaN  \n",
       "3                NaN   19.3  SIN DEFINIR    TOTAL                   NaN  \n",
       "4                NaN   19.7  SIN DEFINIR    TOTAL                   NaN  "
      ]
     },
     "execution_count": 15,
     "metadata": {},
     "output_type": "execute_result"
    }
   ],
   "source": [
    "basePagos = [pagos_corr,pagos_cuot,pagos_conv]\n",
    "total_pagos=pd.concat(basePagos)\n",
    "total_pagos.head()"
   ]
  },
  {
   "cell_type": "markdown",
   "metadata": {},
   "source": [
    " "
   ]
  },
  {
   "cell_type": "markdown",
   "metadata": {},
   "source": [
    "# BASE DE MULTAS ASIGNADAS"
   ]
  },
  {
   "cell_type": "code",
   "execution_count": 16,
   "metadata": {},
   "outputs": [],
   "source": [
    "multas=\"\"\"SELECT No_multa AS 'INFRACCION',Dias_mora,Cartera FROM SISTEMECUADOR_ATM.MULTAS_MENSUALES where Mes={0}\"\"\".format(Mes)\n",
    "resultado_multas=pd.read_sql(multas, con=db)\n",
    "resultado_multas['INFRACCION'] = resultado_multas['INFRACCION'].astype(int)"
   ]
  },
  {
   "cell_type": "code",
   "execution_count": 17,
   "metadata": {},
   "outputs": [
    {
     "data": {
      "text/html": [
       "<div>\n",
       "<style scoped>\n",
       "    .dataframe tbody tr th:only-of-type {\n",
       "        vertical-align: middle;\n",
       "    }\n",
       "\n",
       "    .dataframe tbody tr th {\n",
       "        vertical-align: top;\n",
       "    }\n",
       "\n",
       "    .dataframe thead th {\n",
       "        text-align: right;\n",
       "    }\n",
       "</style>\n",
       "<table border=\"1\" class=\"dataframe\">\n",
       "  <thead>\n",
       "    <tr style=\"text-align: right;\">\n",
       "      <th></th>\n",
       "      <th>INFRACCION</th>\n",
       "      <th>Dias_mora</th>\n",
       "      <th>Cartera</th>\n",
       "    </tr>\n",
       "  </thead>\n",
       "  <tbody>\n",
       "    <tr>\n",
       "      <th>0</th>\n",
       "      <td>5722394</td>\n",
       "      <td>191.0</td>\n",
       "      <td>CORRIENTE</td>\n",
       "    </tr>\n",
       "    <tr>\n",
       "      <th>1</th>\n",
       "      <td>4854542</td>\n",
       "      <td>52.0</td>\n",
       "      <td>CONVENIO</td>\n",
       "    </tr>\n",
       "    <tr>\n",
       "      <th>2</th>\n",
       "      <td>4087528</td>\n",
       "      <td>232.0</td>\n",
       "      <td>CORRIENTE</td>\n",
       "    </tr>\n",
       "    <tr>\n",
       "      <th>3</th>\n",
       "      <td>1786073</td>\n",
       "      <td>737.0</td>\n",
       "      <td>CORRIENTE</td>\n",
       "    </tr>\n",
       "    <tr>\n",
       "      <th>4</th>\n",
       "      <td>5039556</td>\n",
       "      <td>45.0</td>\n",
       "      <td>CONVENIO</td>\n",
       "    </tr>\n",
       "  </tbody>\n",
       "</table>\n",
       "</div>"
      ],
      "text/plain": [
       "   INFRACCION  Dias_mora    Cartera\n",
       "0     5722394      191.0  CORRIENTE\n",
       "1     4854542       52.0   CONVENIO\n",
       "2     4087528      232.0  CORRIENTE\n",
       "3     1786073      737.0  CORRIENTE\n",
       "4     5039556       45.0   CONVENIO"
      ]
     },
     "execution_count": 17,
     "metadata": {},
     "output_type": "execute_result"
    }
   ],
   "source": [
    "resultado_multas.head()"
   ]
  },
  {
   "cell_type": "markdown",
   "metadata": {},
   "source": [
    "### CRUZAR LOS PAGOS CON LA ASIGNACION"
   ]
  },
  {
   "cell_type": "code",
   "execution_count": 18,
   "metadata": {},
   "outputs": [
    {
     "data": {
      "text/html": [
       "<div>\n",
       "<style scoped>\n",
       "    .dataframe tbody tr th:only-of-type {\n",
       "        vertical-align: middle;\n",
       "    }\n",
       "\n",
       "    .dataframe tbody tr th {\n",
       "        vertical-align: top;\n",
       "    }\n",
       "\n",
       "    .dataframe thead th {\n",
       "        text-align: right;\n",
       "    }\n",
       "</style>\n",
       "<table border=\"1\" class=\"dataframe\">\n",
       "  <thead>\n",
       "    <tr style=\"text-align: right;\">\n",
       "      <th></th>\n",
       "      <th>CASA COBRO</th>\n",
       "      <th>CED</th>\n",
       "      <th>FECHAPAGO</th>\n",
       "      <th>FECHA_EMISION_FINANC</th>\n",
       "      <th>FECHA_EMISION_INFRACCION</th>\n",
       "      <th>ID_CONVENIO</th>\n",
       "      <th>INFRACCION</th>\n",
       "      <th>MONTO</th>\n",
       "      <th>MORA</th>\n",
       "      <th>NRO_CUOTA_EMISION</th>\n",
       "      <th>PAGO</th>\n",
       "      <th>SEGMENTO</th>\n",
       "      <th>TIPOPAGO</th>\n",
       "      <th>VALOR_PAGO_CAPITAL.1</th>\n",
       "    </tr>\n",
       "  </thead>\n",
       "  <tbody>\n",
       "    <tr>\n",
       "      <th>0</th>\n",
       "      <td>NaN</td>\n",
       "      <td>0907964464</td>\n",
       "      <td>2019-05-01</td>\n",
       "      <td>NaT</td>\n",
       "      <td>NaT</td>\n",
       "      <td>NaN</td>\n",
       "      <td>6347039</td>\n",
       "      <td>115.8</td>\n",
       "      <td>172</td>\n",
       "      <td>NaN</td>\n",
       "      <td>115.8</td>\n",
       "      <td>CORRIENTE</td>\n",
       "      <td>TOTAL</td>\n",
       "      <td>NaN</td>\n",
       "    </tr>\n",
       "    <tr>\n",
       "      <th>1</th>\n",
       "      <td>NaN</td>\n",
       "      <td>1711723831</td>\n",
       "      <td>2019-05-01</td>\n",
       "      <td>NaT</td>\n",
       "      <td>NaT</td>\n",
       "      <td>NaN</td>\n",
       "      <td>5112985</td>\n",
       "      <td>19.3</td>\n",
       "      <td>326</td>\n",
       "      <td>NaN</td>\n",
       "      <td>19.3</td>\n",
       "      <td>CORRIENTE</td>\n",
       "      <td>TOTAL</td>\n",
       "      <td>NaN</td>\n",
       "    </tr>\n",
       "    <tr>\n",
       "      <th>2</th>\n",
       "      <td>NaN</td>\n",
       "      <td>1304396581</td>\n",
       "      <td>2019-05-01</td>\n",
       "      <td>NaT</td>\n",
       "      <td>NaT</td>\n",
       "      <td>NaN</td>\n",
       "      <td>5055893</td>\n",
       "      <td>19.3</td>\n",
       "      <td>337</td>\n",
       "      <td>NaN</td>\n",
       "      <td>19.3</td>\n",
       "      <td>CORRIENTE</td>\n",
       "      <td>TOTAL</td>\n",
       "      <td>NaN</td>\n",
       "    </tr>\n",
       "    <tr>\n",
       "      <th>3</th>\n",
       "      <td>NaN</td>\n",
       "      <td>1304396581</td>\n",
       "      <td>2019-05-01</td>\n",
       "      <td>NaT</td>\n",
       "      <td>NaT</td>\n",
       "      <td>NaN</td>\n",
       "      <td>5063205</td>\n",
       "      <td>19.3</td>\n",
       "      <td>335</td>\n",
       "      <td>NaN</td>\n",
       "      <td>19.3</td>\n",
       "      <td>CORRIENTE</td>\n",
       "      <td>TOTAL</td>\n",
       "      <td>NaN</td>\n",
       "    </tr>\n",
       "    <tr>\n",
       "      <th>4</th>\n",
       "      <td>NaN</td>\n",
       "      <td>0912125002</td>\n",
       "      <td>2019-05-01</td>\n",
       "      <td>NaT</td>\n",
       "      <td>NaT</td>\n",
       "      <td>NaN</td>\n",
       "      <td>6382875</td>\n",
       "      <td>19.7</td>\n",
       "      <td>32</td>\n",
       "      <td>NaN</td>\n",
       "      <td>19.7</td>\n",
       "      <td>CORRIENTE</td>\n",
       "      <td>TOTAL</td>\n",
       "      <td>NaN</td>\n",
       "    </tr>\n",
       "  </tbody>\n",
       "</table>\n",
       "</div>"
      ],
      "text/plain": [
       "  CASA COBRO         CED  FECHAPAGO FECHA_EMISION_FINANC  \\\n",
       "0        NaN  0907964464 2019-05-01                  NaT   \n",
       "1        NaN  1711723831 2019-05-01                  NaT   \n",
       "2        NaN  1304396581 2019-05-01                  NaT   \n",
       "3        NaN  1304396581 2019-05-01                  NaT   \n",
       "4        NaN  0912125002 2019-05-01                  NaT   \n",
       "\n",
       "  FECHA_EMISION_INFRACCION  ID_CONVENIO  INFRACCION  MONTO  MORA  \\\n",
       "0                      NaT          NaN     6347039  115.8   172   \n",
       "1                      NaT          NaN     5112985   19.3   326   \n",
       "2                      NaT          NaN     5055893   19.3   337   \n",
       "3                      NaT          NaN     5063205   19.3   335   \n",
       "4                      NaT          NaN     6382875   19.7    32   \n",
       "\n",
       "   NRO_CUOTA_EMISION   PAGO   SEGMENTO TIPOPAGO  VALOR_PAGO_CAPITAL.1  \n",
       "0                NaN  115.8  CORRIENTE    TOTAL                   NaN  \n",
       "1                NaN   19.3  CORRIENTE    TOTAL                   NaN  \n",
       "2                NaN   19.3  CORRIENTE    TOTAL                   NaN  \n",
       "3                NaN   19.3  CORRIENTE    TOTAL                   NaN  \n",
       "4                NaN   19.7  CORRIENTE    TOTAL                   NaN  "
      ]
     },
     "execution_count": 18,
     "metadata": {},
     "output_type": "execute_result"
    }
   ],
   "source": [
    "crucepagos=pd.merge(total_pagos,resultado_multas,on=['INFRACCION'],how='left')\n",
    "crucepagos.Dias_mora = crucepagos.Dias_mora.fillna(1)\n",
    "crucepagos['Dias_mora'] = crucepagos['Dias_mora'].astype(int)\n",
    "crucepagos['SEGMENTO'] = crucepagos.apply(cartera,axis = 1)\n",
    "crucepagos['MORA'] = crucepagos.apply(mora,axis = 1)\n",
    "try:\n",
    "    crucepagos.drop(['Dias_mora','Cartera'],axis=1,inplace=True)\n",
    "except:\n",
    "    pass\n",
    "crucepagos.head()"
   ]
  },
  {
   "cell_type": "code",
   "execution_count": 19,
   "metadata": {},
   "outputs": [
    {
     "data": {
      "text/plain": [
       "<matplotlib.axes._subplots.AxesSubplot at 0xbac9910>"
      ]
     },
     "execution_count": 19,
     "metadata": {},
     "output_type": "execute_result"
    }
   ],
   "source": [
    "crucepagos.TIPOPAGO.value_counts().plot.bar()"
   ]
  },
  {
   "cell_type": "code",
   "execution_count": 20,
   "metadata": {},
   "outputs": [
    {
     "data": {
      "text/plain": [
       "<matplotlib.axes._subplots.AxesSubplot at 0xc4dfc30>"
      ]
     },
     "execution_count": 20,
     "metadata": {},
     "output_type": "execute_result"
    },
    {
     "data": {
      "image/png": "[encoded data removed]",
      "text/plain": [
       "<Figure size 432x288 with 1 Axes>"
      ]
     },
     "metadata": {},
     "output_type": "display_data"
    }
   ],
   "source": [
    "crucepagos.SEGMENTO.value_counts().plot.bar()"
   ]
  },
  {
   "cell_type": "code",
   "execution_count": 21,
   "metadata": {},
   "outputs": [],
   "source": [
    "def honorarios(base):\n",
    "    cartera=base['SEGMENTO']\n",
    "    tipo=base['TIPOPAGO']\n",
    "    mora=base['MORA']\n",
    "    valor=base['MONTO']\n",
    "    pago=base['PAGO']\n",
    "    if cartera=='CONVENIO':\n",
    "        return pago*0.035\n",
    "    if tipo=='PARCIAL'and mora>180:\n",
    "        return valor*0.05\n",
    "    if mora<61:\n",
    "        return pago*0.02\n",
    "    if mora<181:\n",
    "        return pago*0.04\n",
    "    if mora<361:\n",
    "        return pago*0.05\n",
    "    if mora>360:\n",
    "        return pago*0.06\n",
    "    return 0.0"
   ]
  },
  {
   "cell_type": "code",
   "execution_count": 22,
   "metadata": {},
   "outputs": [],
   "source": [
    "crucepagos['HONORARIOS']=crucepagos.apply(honorarios,axis=1)"
   ]
  },
  {
   "cell_type": "code",
   "execution_count": 23,
   "metadata": {},
   "outputs": [
    {
     "data": {
      "text/plain": [
       "1341"
      ]
     },
     "execution_count": 23,
     "metadata": {},
     "output_type": "execute_result"
    }
   ],
   "source": [
    "crucepagos.CED.count()"
   ]
  },
  {
   "cell_type": "code",
   "execution_count": 24,
   "metadata": {},
   "outputs": [
    {
     "data": {
      "text/html": [
       "<div>\n",
       "<style scoped>\n",
       "    .dataframe tbody tr th:only-of-type {\n",
       "        vertical-align: middle;\n",
       "    }\n",
       "\n",
       "    .dataframe tbody tr th {\n",
       "        vertical-align: top;\n",
       "    }\n",
       "\n",
       "    .dataframe thead th {\n",
       "        text-align: right;\n",
       "    }\n",
       "</style>\n",
       "<table border=\"1\" class=\"dataframe\">\n",
       "  <thead>\n",
       "    <tr style=\"text-align: right;\">\n",
       "      <th></th>\n",
       "      <th>CASA COBRO</th>\n",
       "      <th>CED</th>\n",
       "      <th>FECHAPAGO</th>\n",
       "      <th>FECHA_EMISION_FINANC</th>\n",
       "      <th>FECHA_EMISION_INFRACCION</th>\n",
       "      <th>ID_CONVENIO</th>\n",
       "      <th>INFRACCION</th>\n",
       "      <th>MONTO</th>\n",
       "      <th>MORA</th>\n",
       "      <th>NRO_CUOTA_EMISION</th>\n",
       "      <th>PAGO</th>\n",
       "      <th>SEGMENTO</th>\n",
       "      <th>TIPOPAGO</th>\n",
       "      <th>VALOR_PAGO_CAPITAL.1</th>\n",
       "      <th>HONORARIOS</th>\n",
       "    </tr>\n",
       "  </thead>\n",
       "  <tbody>\n",
       "    <tr>\n",
       "      <th>0</th>\n",
       "      <td>NaN</td>\n",
       "      <td>0907964464</td>\n",
       "      <td>2019-05-01</td>\n",
       "      <td>NaT</td>\n",
       "      <td>NaT</td>\n",
       "      <td>NaN</td>\n",
       "      <td>6347039</td>\n",
       "      <td>115.8</td>\n",
       "      <td>172</td>\n",
       "      <td>NaN</td>\n",
       "      <td>115.8</td>\n",
       "      <td>CORRIENTE</td>\n",
       "      <td>TOTAL</td>\n",
       "      <td>NaN</td>\n",
       "      <td>4.632</td>\n",
       "    </tr>\n",
       "    <tr>\n",
       "      <th>1</th>\n",
       "      <td>NaN</td>\n",
       "      <td>1711723831</td>\n",
       "      <td>2019-05-01</td>\n",
       "      <td>NaT</td>\n",
       "      <td>NaT</td>\n",
       "      <td>NaN</td>\n",
       "      <td>5112985</td>\n",
       "      <td>19.3</td>\n",
       "      <td>326</td>\n",
       "      <td>NaN</td>\n",
       "      <td>19.3</td>\n",
       "      <td>CORRIENTE</td>\n",
       "      <td>TOTAL</td>\n",
       "      <td>NaN</td>\n",
       "      <td>0.965</td>\n",
       "    </tr>\n",
       "    <tr>\n",
       "      <th>2</th>\n",
       "      <td>NaN</td>\n",
       "      <td>1304396581</td>\n",
       "      <td>2019-05-01</td>\n",
       "      <td>NaT</td>\n",
       "      <td>NaT</td>\n",
       "      <td>NaN</td>\n",
       "      <td>5055893</td>\n",
       "      <td>19.3</td>\n",
       "      <td>337</td>\n",
       "      <td>NaN</td>\n",
       "      <td>19.3</td>\n",
       "      <td>CORRIENTE</td>\n",
       "      <td>TOTAL</td>\n",
       "      <td>NaN</td>\n",
       "      <td>0.965</td>\n",
       "    </tr>\n",
       "    <tr>\n",
       "      <th>3</th>\n",
       "      <td>NaN</td>\n",
       "      <td>1304396581</td>\n",
       "      <td>2019-05-01</td>\n",
       "      <td>NaT</td>\n",
       "      <td>NaT</td>\n",
       "      <td>NaN</td>\n",
       "      <td>5063205</td>\n",
       "      <td>19.3</td>\n",
       "      <td>335</td>\n",
       "      <td>NaN</td>\n",
       "      <td>19.3</td>\n",
       "      <td>CORRIENTE</td>\n",
       "      <td>TOTAL</td>\n",
       "      <td>NaN</td>\n",
       "      <td>0.965</td>\n",
       "    </tr>\n",
       "    <tr>\n",
       "      <th>4</th>\n",
       "      <td>NaN</td>\n",
       "      <td>0912125002</td>\n",
       "      <td>2019-05-01</td>\n",
       "      <td>NaT</td>\n",
       "      <td>NaT</td>\n",
       "      <td>NaN</td>\n",
       "      <td>6382875</td>\n",
       "      <td>19.7</td>\n",
       "      <td>32</td>\n",
       "      <td>NaN</td>\n",
       "      <td>19.7</td>\n",
       "      <td>CORRIENTE</td>\n",
       "      <td>TOTAL</td>\n",
       "      <td>NaN</td>\n",
       "      <td>0.394</td>\n",
       "    </tr>\n",
       "  </tbody>\n",
       "</table>\n",
       "</div>"
      ],
      "text/plain": [
       "  CASA COBRO         CED  FECHAPAGO FECHA_EMISION_FINANC  \\\n",
       "0        NaN  0907964464 2019-05-01                  NaT   \n",
       "1        NaN  1711723831 2019-05-01                  NaT   \n",
       "2        NaN  1304396581 2019-05-01                  NaT   \n",
       "3        NaN  1304396581 2019-05-01                  NaT   \n",
       "4        NaN  0912125002 2019-05-01                  NaT   \n",
       "\n",
       "  FECHA_EMISION_INFRACCION  ID_CONVENIO  INFRACCION  MONTO  MORA  \\\n",
       "0                      NaT          NaN     6347039  115.8   172   \n",
       "1                      NaT          NaN     5112985   19.3   326   \n",
       "2                      NaT          NaN     5055893   19.3   337   \n",
       "3                      NaT          NaN     5063205   19.3   335   \n",
       "4                      NaT          NaN     6382875   19.7    32   \n",
       "\n",
       "   NRO_CUOTA_EMISION   PAGO   SEGMENTO TIPOPAGO  VALOR_PAGO_CAPITAL.1  \\\n",
       "0                NaN  115.8  CORRIENTE    TOTAL                   NaN   \n",
       "1                NaN   19.3  CORRIENTE    TOTAL                   NaN   \n",
       "2                NaN   19.3  CORRIENTE    TOTAL                   NaN   \n",
       "3                NaN   19.3  CORRIENTE    TOTAL                   NaN   \n",
       "4                NaN   19.7  CORRIENTE    TOTAL                   NaN   \n",
       "\n",
       "   HONORARIOS  \n",
       "0       4.632  \n",
       "1       0.965  \n",
       "2       0.965  \n",
       "3       0.965  \n",
       "4       0.394  "
      ]
     },
     "execution_count": 24,
     "metadata": {},
     "output_type": "execute_result"
    }
   ],
   "source": [
    "crucepagos.head()"
   ]
  },
  {
   "cell_type": "code",
   "execution_count": 25,
   "metadata": {},
   "outputs": [
    {
     "data": {
      "text/plain": [
       "1341"
      ]
     },
     "execution_count": 25,
     "metadata": {},
     "output_type": "execute_result"
    }
   ],
   "source": [
    "crucepagos.SEGMENTO.count()"
   ]
  },
  {
   "cell_type": "code",
   "execution_count": 26,
   "metadata": {},
   "outputs": [
    {
     "name": "stdout",
     "output_type": "stream",
     "text": [
      "0\n"
     ]
    }
   ],
   "source": [
    "subidos=0\n",
    "nosubido=0\n",
    "for row in crucepagos.itertuples():\n",
    "    insert_querry=\"\"\"INSERT INTO `sistemecuador_atm`.`pagos_atm`\n",
    "        (`IDENTIFICACION`,\n",
    "        `COD_INFRACION`,\n",
    "        `MONTO_ASIGNADO`,\n",
    "        `fecha_pago`,\n",
    "        `DIAS_MORA`,\n",
    "        `monto_pago`,\n",
    "        `tipo_pago`,\n",
    "        `cartera`,\n",
    "        `honorario`)\n",
    "        VALUES\n",
    "        ('{0}',\n",
    "        '{1}',\n",
    "        '{2}',\n",
    "        '{3}',\n",
    "        '{4}',\n",
    "        '{5}',\n",
    "        '{6}',\n",
    "        '{7}',\n",
    "        '{8}'); \"\"\".format(row.CED,row.INFRACCION,row.MONTO,row.FECHAPAGO,row.MORA,row.PAGO,row.TIPOPAGO,row.SEGMENTO,row.HONORARIOS)\n",
    "    try:\n",
    "        cur.execute(insert_querry)\n",
    "        db.commit()\n",
    "        subidos = subidos+1\n",
    "    except:\n",
    "        db.rollback()\n",
    "        nosubido=nosubido+1\n",
    "        \n",
    "print(subidos)"
   ]
  },
  {
   "cell_type": "code",
   "execution_count": null,
   "metadata": {},
   "outputs": [],
   "source": []
  },
  {
   "cell_type": "code",
   "execution_count": null,
   "metadata": {},
   "outputs": [],
   "source": []
  },
  {
   "cell_type": "code",
   "execution_count": null,
   "metadata": {},
   "outputs": [],
   "source": []
  }
 ],
 "metadata": {
  "kernelspec": {
   "display_name": "Python 3",
   "language": "python",
   "name": "python3"
  },
  "language_info": {
   "codemirror_mode": {
    "name": "ipython",
    "version": 3
   },
   "file_extension": ".py",
   "mimetype": "text/x-python",
   "name": "python",
   "nbconvert_exporter": "python",
   "pygments_lexer": "ipython3",
   "version": "3.6.5"
  }
 },
 "nbformat": 4,
 "nbformat_minor": 2
}
