{
 "cells": [
  {
   "cell_type": "markdown",
   "metadata": {},
   "source": [
    "# INFORMACION DE PAGOS DATATOOLS"
   ]
  },
  {
   "cell_type": "markdown",
   "metadata": {},
   "source": [
    "### LIBRERIAS A UTILIZAR"
   ]
  },
  {
   "cell_type": "code",
   "execution_count": 15,
   "metadata": {},
   "outputs": [],
   "source": [
    "import pandas as pd\n",
    "from datetime import datetime\n",
    "import mysql.connector as mc"
   ]
  },
  {
   "cell_type": "markdown",
   "metadata": {},
   "source": [
    "### VARIABLES PARA IDENTIFICAR HONORARIOS"
   ]
  },
  {
   "cell_type": "code",
   "execution_count": 16,
   "metadata": {},
   "outputs": [],
   "source": [
    "Dia='08'\n",
    "Mes='01'\n",
    "Anio='2019'\n",
    "fecha_pago=Anio+Mes+Dia\n",
    "F_Mes='NOVIEMBRE'"
   ]
  },
  {
   "cell_type": "markdown",
   "metadata": {},
   "source": [
    " "
   ]
  },
  {
   "cell_type": "markdown",
   "metadata": {},
   "source": [
    "### CONECCION A BD"
   ]
  },
  {
   "cell_type": "code",
   "execution_count": 17,
   "metadata": {},
   "outputs": [],
   "source": [
    "host = '172.18.55.6'\n",
    "user = 'comandato'\n",
    "passwd='comandato123'\n",
    "db = mc.connect(host=host,user=user,passwd=passwd)\n",
    "cur= db.cursor()"
   ]
  },
  {
   "cell_type": "markdown",
   "metadata": {},
   "source": [
    " "
   ]
  },
  {
   "cell_type": "markdown",
   "metadata": {},
   "source": [
    "### FUNCIONES A UTILIZAR"
   ]
  },
  {
   "cell_type": "code",
   "execution_count": 18,
   "metadata": {},
   "outputs": [],
   "source": [
    "def order(frame,var):\n",
    "    if type(var) is str:\n",
    "        var = [var] #let the command take a string or list\n",
    "    varlist =[w for w in frame.columns if w not in var]\n",
    "    frame = frame[var+varlist]\n",
    "    return frame "
   ]
  },
  {
   "cell_type": "code",
   "execution_count": 19,
   "metadata": {},
   "outputs": [],
   "source": [
    "def agregar_ceros(base):\n",
    "    ced=base['CED']\n",
    "    if len(ced)==9 or len(ced)==12 :\n",
    "        if ced.isdigit():\n",
    "            return '0'+ced\n",
    "    return ced"
   ]
  },
  {
   "cell_type": "code",
   "execution_count": 20,
   "metadata": {},
   "outputs": [],
   "source": [
    "def dias_mora(base):\n",
    "    return (datetime.now()-base['FECHAMORA']).days"
   ]
  },
  {
   "cell_type": "code",
   "execution_count": 21,
   "metadata": {},
   "outputs": [],
   "source": [
    "def cartera(base):\n",
    "    segmento = base['SEGMENTO']\n",
    "    cartetra = base['Cartera']\n",
    "    if cartetra is None:\n",
    "        cartetra = 'NO ASIGNADO'\n",
    "    if segmento == 'SIN DEFINIR':\n",
    "        return cartetra\n",
    "    return segmento"
   ]
  },
  {
   "cell_type": "markdown",
   "metadata": {},
   "source": [
    " "
   ]
  },
  {
   "cell_type": "code",
   "execution_count": 22,
   "metadata": {},
   "outputs": [],
   "source": [
    "def mora(base):\n",
    "    mora1 = base['MORA']\n",
    "    mora2 = base['Dias_mora']\n",
    "    if mora1 == 0:\n",
    "        return mora2\n",
    "    return mora1"
   ]
  },
  {
   "cell_type": "markdown",
   "metadata": {},
   "source": [
    " "
   ]
  },
  {
   "cell_type": "markdown",
   "metadata": {},
   "source": [
    "# UNIFICACION BASE DE PAGOS"
   ]
  },
  {
   "cell_type": "markdown",
   "metadata": {},
   "source": [
    "### RUTAS Y NOMBRES DE LOS ARCHIVOS"
   ]
  },
  {
   "cell_type": "code",
   "execution_count": 23,
   "metadata": {},
   "outputs": [],
   "source": [
    "pago_corr={\n",
    "    'ruta':'..\\..\\..\\BASES DATATOOLS\\PAGOS\\\\2018\\\\Sistema de cobro - '+fecha_pago+'.xlsx',\n",
    "    'hoja':'PAGOS_CORRIENTE',\n",
    "    'cartera':'CORRIENTE',\n",
    "    'identificador':'IDENTIFICACION'\n",
    "}\n",
    "\n",
    "pago_cuot={\n",
    "    'ruta':'..\\..\\..\\BASES DATATOOLS\\PAGOS\\\\2018\\\\Sistema de cobro - '+fecha_pago+'.xlsx',\n",
    "    'hoja':'PAGOS_CUOTA_CERO',\n",
    "    'cartera':'CUOTA',\n",
    "    'identificador':'ID'\n",
    "}\n",
    "\n",
    "pago_conv={\n",
    "    'ruta':'..\\..\\..\\BASES DATATOOLS\\PAGOS\\\\2018\\\\Sistema de cobro - '+fecha_pago+'.xlsx',\n",
    "    'hoja':'PAGOS_CONVENIOS',\n",
    "    'cartera':'CONVENIO',\n",
    "    'identificador':'ID'\n",
    "}"
   ]
  },
  {
   "cell_type": "markdown",
   "metadata": {},
   "source": [
    "### CARGAR LOS ARCHIVOS"
   ]
  },
  {
   "cell_type": "code",
   "execution_count": 24,
   "metadata": {},
   "outputs": [],
   "source": [
    "pagos_corr=pd.read_excel(open(pago_corr['ruta'],'rb'), sheet_name=pago_corr['hoja'], dtype={pago_corr['identificador']: str})\n",
    "pagos_cuot=pd.read_excel(open(pago_cuot['ruta'],'rb'), sheet_name=pago_cuot['hoja'], dtype={pago_cuot['identificador']: str})\n",
    "pagos_conv=pd.read_excel(open(pago_conv['ruta'],'rb'), sheet_name=pago_conv['hoja'], dtype={pago_conv['identificador']: str})"
   ]
  },
  {
   "cell_type": "markdown",
   "metadata": {},
   "source": [
    " "
   ]
  },
  {
   "cell_type": "markdown",
   "metadata": {},
   "source": [
    "### PAGOS CORRIENTE"
   ]
  },
  {
   "cell_type": "code",
   "execution_count": 25,
   "metadata": {},
   "outputs": [],
   "source": [
    "ordenColumn = ['CED','INFRACCION','MONTO','FECHAPAGO','MORA','PAGO','TIPOPAGO','SEGMENTO']"
   ]
  },
  {
   "cell_type": "code",
   "execution_count": 26,
   "metadata": {},
   "outputs": [
    {
     "data": {
      "text/html": [
       "<div>\n",
       "<style scoped>\n",
       "    .dataframe tbody tr th:only-of-type {\n",
       "        vertical-align: middle;\n",
       "    }\n",
       "\n",
       "    .dataframe tbody tr th {\n",
       "        vertical-align: top;\n",
       "    }\n",
       "\n",
       "    .dataframe thead th {\n",
       "        text-align: right;\n",
       "    }\n",
       "</style>\n",
       "<table border=\"1\" class=\"dataframe\">\n",
       "  <thead>\n",
       "    <tr style=\"text-align: right;\">\n",
       "      <th></th>\n",
       "      <th>CED</th>\n",
       "      <th>INFRACCION</th>\n",
       "      <th>MONTO</th>\n",
       "      <th>FECHAPAGO</th>\n",
       "      <th>MORA</th>\n",
       "      <th>PAGO</th>\n",
       "      <th>TIPOPAGO</th>\n",
       "      <th>SEGMENTO</th>\n",
       "    </tr>\n",
       "  </thead>\n",
       "  <tbody>\n",
       "    <tr>\n",
       "      <th>0</th>\n",
       "      <td>0920819265</td>\n",
       "      <td>5297974</td>\n",
       "      <td>57.9</td>\n",
       "      <td>2019-01-02</td>\n",
       "      <td>0</td>\n",
       "      <td>57.9</td>\n",
       "      <td>TOTAL</td>\n",
       "      <td>SIN DEFINIR</td>\n",
       "    </tr>\n",
       "    <tr>\n",
       "      <th>1</th>\n",
       "      <td>0908634785</td>\n",
       "      <td>4294228</td>\n",
       "      <td>37.5</td>\n",
       "      <td>2019-01-02</td>\n",
       "      <td>0</td>\n",
       "      <td>37.5</td>\n",
       "      <td>TOTAL</td>\n",
       "      <td>SIN DEFINIR</td>\n",
       "    </tr>\n",
       "    <tr>\n",
       "      <th>2</th>\n",
       "      <td>0909391609</td>\n",
       "      <td>5375532</td>\n",
       "      <td>57.9</td>\n",
       "      <td>2019-01-02</td>\n",
       "      <td>0</td>\n",
       "      <td>57.9</td>\n",
       "      <td>TOTAL</td>\n",
       "      <td>SIN DEFINIR</td>\n",
       "    </tr>\n",
       "    <tr>\n",
       "      <th>3</th>\n",
       "      <td>0930881529</td>\n",
       "      <td>5107022</td>\n",
       "      <td>38.6</td>\n",
       "      <td>2019-01-02</td>\n",
       "      <td>0</td>\n",
       "      <td>38.6</td>\n",
       "      <td>TOTAL</td>\n",
       "      <td>SIN DEFINIR</td>\n",
       "    </tr>\n",
       "    <tr>\n",
       "      <th>4</th>\n",
       "      <td>0922490297</td>\n",
       "      <td>5436594</td>\n",
       "      <td>19.3</td>\n",
       "      <td>2019-01-02</td>\n",
       "      <td>0</td>\n",
       "      <td>19.3</td>\n",
       "      <td>TOTAL</td>\n",
       "      <td>SIN DEFINIR</td>\n",
       "    </tr>\n",
       "  </tbody>\n",
       "</table>\n",
       "</div>"
      ],
      "text/plain": [
       "          CED  INFRACCION  MONTO  FECHAPAGO  MORA  PAGO TIPOPAGO     SEGMENTO\n",
       "0  0920819265     5297974   57.9 2019-01-02     0  57.9    TOTAL  SIN DEFINIR\n",
       "1  0908634785     4294228   37.5 2019-01-02     0  37.5    TOTAL  SIN DEFINIR\n",
       "2  0909391609     5375532   57.9 2019-01-02     0  57.9    TOTAL  SIN DEFINIR\n",
       "3  0930881529     5107022   38.6 2019-01-02     0  38.6    TOTAL  SIN DEFINIR\n",
       "4  0922490297     5436594   19.3 2019-01-02     0  19.3    TOTAL  SIN DEFINIR"
      ]
     },
     "execution_count": 26,
     "metadata": {},
     "output_type": "execute_result"
    }
   ],
   "source": [
    "pagos_corr.rename(columns={'IDENTIFICACION':'CED','ID_FACTURA':'INFRACCION','VALOR_INFRACCION':'MONTO',\\\n",
    "                           'FECHA_PAGO':'FECHAPAGO'},inplace=True)\n",
    "pagos_corr['CED']=pagos_corr.apply(agregar_ceros,axis=1)\n",
    "pagos_corr['MORA']=0\n",
    "pagos_corr['PAGO']=pagos_corr['MONTO']\n",
    "pagos_corr['TIPOPAGO']='TOTAL'\n",
    "pagos_corr['SEGMENTO']='SIN DEFINIR'\n",
    "try:\n",
    "    pagos_corr.drop('CASA COBRO', axis=1, inplace=True)\n",
    "except:\n",
    "    pass\n",
    "pagos_corr = order(pagos_corr,ordenColumn)\n",
    "pagos_corr.head()"
   ]
  },
  {
   "cell_type": "markdown",
   "metadata": {},
   "source": [
    " "
   ]
  },
  {
   "cell_type": "markdown",
   "metadata": {},
   "source": [
    "### PAGOS CUOTA CERO"
   ]
  },
  {
   "cell_type": "code",
   "execution_count": 27,
   "metadata": {},
   "outputs": [
    {
     "data": {
      "text/html": [
       "<div>\n",
       "<style scoped>\n",
       "    .dataframe tbody tr th:only-of-type {\n",
       "        vertical-align: middle;\n",
       "    }\n",
       "\n",
       "    .dataframe tbody tr th {\n",
       "        vertical-align: top;\n",
       "    }\n",
       "\n",
       "    .dataframe thead th {\n",
       "        text-align: right;\n",
       "    }\n",
       "</style>\n",
       "<table border=\"1\" class=\"dataframe\">\n",
       "  <thead>\n",
       "    <tr style=\"text-align: right;\">\n",
       "      <th></th>\n",
       "      <th>CED</th>\n",
       "      <th>INFRACCION</th>\n",
       "      <th>MONTO</th>\n",
       "      <th>FECHAPAGO</th>\n",
       "      <th>MORA</th>\n",
       "      <th>PAGO</th>\n",
       "      <th>TIPOPAGO</th>\n",
       "      <th>SEGMENTO</th>\n",
       "      <th>ID_CONVENIO</th>\n",
       "      <th>FECHA_EMISION_FINANC</th>\n",
       "      <th>VALOR_CAPITAL</th>\n",
       "      <th>NRO_CUOTA_EMISION</th>\n",
       "      <th>FECHA_EMISION_INFRACCION</th>\n",
       "      <th>CASA COBRO</th>\n",
       "    </tr>\n",
       "  </thead>\n",
       "  <tbody>\n",
       "    <tr>\n",
       "      <th>0</th>\n",
       "      <td>0800467276</td>\n",
       "      <td>5272640</td>\n",
       "      <td>115.80</td>\n",
       "      <td>2019-01-02 15:54:48</td>\n",
       "      <td>172</td>\n",
       "      <td>23.16</td>\n",
       "      <td>PARCIAL</td>\n",
       "      <td>SIN DEFINIR</td>\n",
       "      <td>344833</td>\n",
       "      <td>2019-01-02</td>\n",
       "      <td>46.32</td>\n",
       "      <td>0</td>\n",
       "      <td>2018-07-14</td>\n",
       "      <td>SISTEMA DE COBRO DEL ECUADOR</td>\n",
       "    </tr>\n",
       "    <tr>\n",
       "      <th>1</th>\n",
       "      <td>0800467276</td>\n",
       "      <td>5338357</td>\n",
       "      <td>115.80</td>\n",
       "      <td>2019-01-02 15:54:48</td>\n",
       "      <td>159</td>\n",
       "      <td>23.16</td>\n",
       "      <td>PARCIAL</td>\n",
       "      <td>SIN DEFINIR</td>\n",
       "      <td>344833</td>\n",
       "      <td>2019-01-02</td>\n",
       "      <td>46.32</td>\n",
       "      <td>0</td>\n",
       "      <td>2018-07-27</td>\n",
       "      <td>SISTEMA DE COBRO DEL ECUADOR</td>\n",
       "    </tr>\n",
       "    <tr>\n",
       "      <th>2</th>\n",
       "      <td>0912757234</td>\n",
       "      <td>3190025</td>\n",
       "      <td>18.75</td>\n",
       "      <td>2019-01-03 12:20:49</td>\n",
       "      <td>634</td>\n",
       "      <td>3.75</td>\n",
       "      <td>PARCIAL</td>\n",
       "      <td>SIN DEFINIR</td>\n",
       "      <td>344851</td>\n",
       "      <td>2019-01-02</td>\n",
       "      <td>71.25</td>\n",
       "      <td>0</td>\n",
       "      <td>2017-04-08</td>\n",
       "      <td>SISTEMA DE COBRO DEL ECUADOR</td>\n",
       "    </tr>\n",
       "    <tr>\n",
       "      <th>3</th>\n",
       "      <td>0912757234</td>\n",
       "      <td>3456959</td>\n",
       "      <td>112.50</td>\n",
       "      <td>2019-01-03 12:20:49</td>\n",
       "      <td>569</td>\n",
       "      <td>22.50</td>\n",
       "      <td>PARCIAL</td>\n",
       "      <td>SIN DEFINIR</td>\n",
       "      <td>344851</td>\n",
       "      <td>2019-01-02</td>\n",
       "      <td>71.25</td>\n",
       "      <td>0</td>\n",
       "      <td>2017-06-12</td>\n",
       "      <td>SISTEMA DE COBRO DEL ECUADOR</td>\n",
       "    </tr>\n",
       "    <tr>\n",
       "      <th>4</th>\n",
       "      <td>0912757234</td>\n",
       "      <td>3543397</td>\n",
       "      <td>37.50</td>\n",
       "      <td>2019-01-03 12:21:58</td>\n",
       "      <td>547</td>\n",
       "      <td>7.50</td>\n",
       "      <td>PARCIAL</td>\n",
       "      <td>SIN DEFINIR</td>\n",
       "      <td>344852</td>\n",
       "      <td>2019-01-02</td>\n",
       "      <td>53.39</td>\n",
       "      <td>0</td>\n",
       "      <td>2017-07-04</td>\n",
       "      <td>SISTEMA DE COBRO DEL ECUADOR</td>\n",
       "    </tr>\n",
       "  </tbody>\n",
       "</table>\n",
       "</div>"
      ],
      "text/plain": [
       "          CED  INFRACCION   MONTO           FECHAPAGO  MORA   PAGO TIPOPAGO  \\\n",
       "0  0800467276     5272640  115.80 2019-01-02 15:54:48   172  23.16  PARCIAL   \n",
       "1  0800467276     5338357  115.80 2019-01-02 15:54:48   159  23.16  PARCIAL   \n",
       "2  0912757234     3190025   18.75 2019-01-03 12:20:49   634   3.75  PARCIAL   \n",
       "3  0912757234     3456959  112.50 2019-01-03 12:20:49   569  22.50  PARCIAL   \n",
       "4  0912757234     3543397   37.50 2019-01-03 12:21:58   547   7.50  PARCIAL   \n",
       "\n",
       "      SEGMENTO  ID_CONVENIO FECHA_EMISION_FINANC  VALOR_CAPITAL  \\\n",
       "0  SIN DEFINIR       344833           2019-01-02          46.32   \n",
       "1  SIN DEFINIR       344833           2019-01-02          46.32   \n",
       "2  SIN DEFINIR       344851           2019-01-02          71.25   \n",
       "3  SIN DEFINIR       344851           2019-01-02          71.25   \n",
       "4  SIN DEFINIR       344852           2019-01-02          53.39   \n",
       "\n",
       "   NRO_CUOTA_EMISION FECHA_EMISION_INFRACCION                    CASA COBRO  \n",
       "0                  0               2018-07-14  SISTEMA DE COBRO DEL ECUADOR  \n",
       "1                  0               2018-07-27  SISTEMA DE COBRO DEL ECUADOR  \n",
       "2                  0               2017-04-08  SISTEMA DE COBRO DEL ECUADOR  \n",
       "3                  0               2017-06-12  SISTEMA DE COBRO DEL ECUADOR  \n",
       "4                  0               2017-07-04  SISTEMA DE COBRO DEL ECUADOR  "
      ]
     },
     "execution_count": 27,
     "metadata": {},
     "output_type": "execute_result"
    }
   ],
   "source": [
    "pagos_cuot.rename(columns={'ID':'CED','ID_FACTURA_INICIAL':'INFRACCION','VALOR_INFRACCION':'MONTO',\\\n",
    "                           'VALOR_PAGO_CAPITAL':'PAGO','FECHA_RE':'FECHAPAGO','DIAS_MORA':'MORA'},inplace=True)\n",
    "pagos_cuot['CED']=pagos_cuot.apply(agregar_ceros,axis=1)\n",
    "pagos_cuot['TIPOPAGO']='PARCIAL'\n",
    "pagos_cuot['SEGMENTO']='SIN DEFINIR'\n",
    "try:\n",
    "    pagos_cuot.drop(['ID_CONVENIO','FECHA_EMISION_FINANC','VALOR_CAPITAL','NRO_CUOTA_EMISION'\\\n",
    "                 ,'FECHA_EMISION_INFRACCION','CASA COBRO','ID_CONVENIO','FECHA_REG'],axis=1,inplace=True)\n",
    "except:\n",
    "    pass\n",
    "\n",
    "pagos_cuot = order(pagos_cuot,ordenColumn)\n",
    "pagos_cuot.head()"
   ]
  },
  {
   "cell_type": "markdown",
   "metadata": {},
   "source": [
    " "
   ]
  },
  {
   "cell_type": "markdown",
   "metadata": {},
   "source": [
    "### PAGOS CUOTA VENCIDA"
   ]
  },
  {
   "cell_type": "code",
   "execution_count": 28,
   "metadata": {},
   "outputs": [
    {
     "data": {
      "text/html": [
       "<div>\n",
       "<style scoped>\n",
       "    .dataframe tbody tr th:only-of-type {\n",
       "        vertical-align: middle;\n",
       "    }\n",
       "\n",
       "    .dataframe tbody tr th {\n",
       "        vertical-align: top;\n",
       "    }\n",
       "\n",
       "    .dataframe thead th {\n",
       "        text-align: right;\n",
       "    }\n",
       "</style>\n",
       "<table border=\"1\" class=\"dataframe\">\n",
       "  <thead>\n",
       "    <tr style=\"text-align: right;\">\n",
       "      <th></th>\n",
       "      <th>CED</th>\n",
       "      <th>INFRACCION</th>\n",
       "      <th>MONTO</th>\n",
       "      <th>FECHAPAGO</th>\n",
       "      <th>MORA</th>\n",
       "      <th>PAGO</th>\n",
       "      <th>TIPOPAGO</th>\n",
       "      <th>SEGMENTO</th>\n",
       "    </tr>\n",
       "  </thead>\n",
       "  <tbody>\n",
       "    <tr>\n",
       "      <th>0</th>\n",
       "      <td>0919719815</td>\n",
       "      <td>237115</td>\n",
       "      <td>65.88</td>\n",
       "      <td>2019-01-02</td>\n",
       "      <td>576</td>\n",
       "      <td>65.88</td>\n",
       "      <td>TOTAL</td>\n",
       "      <td>CONVENIO</td>\n",
       "    </tr>\n",
       "    <tr>\n",
       "      <th>1</th>\n",
       "      <td>0919719815</td>\n",
       "      <td>237115</td>\n",
       "      <td>65.88</td>\n",
       "      <td>2019-01-02</td>\n",
       "      <td>637</td>\n",
       "      <td>65.88</td>\n",
       "      <td>TOTAL</td>\n",
       "      <td>CONVENIO</td>\n",
       "    </tr>\n",
       "    <tr>\n",
       "      <th>2</th>\n",
       "      <td>0919719815</td>\n",
       "      <td>237115</td>\n",
       "      <td>65.88</td>\n",
       "      <td>2019-01-02</td>\n",
       "      <td>607</td>\n",
       "      <td>65.88</td>\n",
       "      <td>TOTAL</td>\n",
       "      <td>CONVENIO</td>\n",
       "    </tr>\n",
       "    <tr>\n",
       "      <th>3</th>\n",
       "      <td>0924821762</td>\n",
       "      <td>278044</td>\n",
       "      <td>86.88</td>\n",
       "      <td>2019-01-02</td>\n",
       "      <td>376</td>\n",
       "      <td>86.88</td>\n",
       "      <td>TOTAL</td>\n",
       "      <td>CONVENIO</td>\n",
       "    </tr>\n",
       "    <tr>\n",
       "      <th>4</th>\n",
       "      <td>0924821762</td>\n",
       "      <td>278044</td>\n",
       "      <td>86.88</td>\n",
       "      <td>2019-01-02</td>\n",
       "      <td>406</td>\n",
       "      <td>86.88</td>\n",
       "      <td>TOTAL</td>\n",
       "      <td>CONVENIO</td>\n",
       "    </tr>\n",
       "  </tbody>\n",
       "</table>\n",
       "</div>"
      ],
      "text/plain": [
       "          CED  INFRACCION  MONTO  FECHAPAGO  MORA   PAGO TIPOPAGO  SEGMENTO\n",
       "0  0919719815      237115  65.88 2019-01-02   576  65.88    TOTAL  CONVENIO\n",
       "1  0919719815      237115  65.88 2019-01-02   637  65.88    TOTAL  CONVENIO\n",
       "2  0919719815      237115  65.88 2019-01-02   607  65.88    TOTAL  CONVENIO\n",
       "3  0924821762      278044  86.88 2019-01-02   376  86.88    TOTAL  CONVENIO\n",
       "4  0924821762      278044  86.88 2019-01-02   406  86.88    TOTAL  CONVENIO"
      ]
     },
     "execution_count": 28,
     "metadata": {},
     "output_type": "execute_result"
    }
   ],
   "source": [
    "pagos_conv.rename(columns={'ID':'CED','ID_CONVENIO':'INFRACCION','VALOR_PAGAR_CUOTA':'MONTO',\\\n",
    "                           'FECHA_PAGO':'FECHAPAGO','FECHA_VENCIMIENTO':'FECHAMORA'},inplace=True)\n",
    "pagos_conv['CED']=pagos_conv.apply(agregar_ceros,axis=1)\n",
    "try:\n",
    "    pagos_conv['MORA']=pagos_conv.apply(dias_mora,axis=1)\n",
    "except:\n",
    "    pagos_conv['MORA']=pagos_conv['DIAS_MORA']\n",
    "pagos_conv['PAGO']=pagos_conv['MONTO']\n",
    "pagos_conv['TIPOPAGO']='TOTAL'\n",
    "pagos_conv['SEGMENTO']='CONVENIO'\n",
    "try:\n",
    "    pagos_conv.drop(['CASA COBRO','NRO_CUOTA_EMISION','FECHAMORA'],axis=1,inplace=True)\n",
    "except:\n",
    "    pass\n",
    "pagos_conv = order(pagos_conv,ordenColumn)\n",
    "pagos_conv.head()"
   ]
  },
  {
   "cell_type": "markdown",
   "metadata": {},
   "source": [
    " "
   ]
  },
  {
   "cell_type": "markdown",
   "metadata": {},
   "source": [
    "### UNIR BASE DE PAGOS"
   ]
  },
  {
   "cell_type": "code",
   "execution_count": 29,
   "metadata": {},
   "outputs": [
    {
     "name": "stderr",
     "output_type": "stream",
     "text": [
      "c:\\users\\michael\\appdata\\local\\programs\\python\\python36-32\\lib\\site-packages\\ipykernel_launcher.py:2: FutureWarning: Sorting because non-concatenation axis is not aligned. A future version\n",
      "of pandas will change to not sort by default.\n",
      "\n",
      "To accept the future behavior, pass 'sort=True'.\n",
      "\n",
      "To retain the current behavior and silence the warning, pass sort=False\n",
      "\n",
      "  \n"
     ]
    },
    {
     "data": {
      "text/html": [
       "<div>\n",
       "<style scoped>\n",
       "    .dataframe tbody tr th:only-of-type {\n",
       "        vertical-align: middle;\n",
       "    }\n",
       "\n",
       "    .dataframe tbody tr th {\n",
       "        vertical-align: top;\n",
       "    }\n",
       "\n",
       "    .dataframe thead th {\n",
       "        text-align: right;\n",
       "    }\n",
       "</style>\n",
       "<table border=\"1\" class=\"dataframe\">\n",
       "  <thead>\n",
       "    <tr style=\"text-align: right;\">\n",
       "      <th></th>\n",
       "      <th>CASA COBRO</th>\n",
       "      <th>CED</th>\n",
       "      <th>FECHAPAGO</th>\n",
       "      <th>FECHA_EMISION_FINANC</th>\n",
       "      <th>FECHA_EMISION_INFRACCION</th>\n",
       "      <th>ID_CONVENIO</th>\n",
       "      <th>INFRACCION</th>\n",
       "      <th>MONTO</th>\n",
       "      <th>MORA</th>\n",
       "      <th>NRO_CUOTA_EMISION</th>\n",
       "      <th>PAGO</th>\n",
       "      <th>SEGMENTO</th>\n",
       "      <th>TIPOPAGO</th>\n",
       "      <th>VALOR_CAPITAL</th>\n",
       "    </tr>\n",
       "  </thead>\n",
       "  <tbody>\n",
       "    <tr>\n",
       "      <th>0</th>\n",
       "      <td>NaN</td>\n",
       "      <td>0920819265</td>\n",
       "      <td>2019-01-02</td>\n",
       "      <td>NaT</td>\n",
       "      <td>NaT</td>\n",
       "      <td>NaN</td>\n",
       "      <td>5297974</td>\n",
       "      <td>57.9</td>\n",
       "      <td>0</td>\n",
       "      <td>NaN</td>\n",
       "      <td>57.9</td>\n",
       "      <td>SIN DEFINIR</td>\n",
       "      <td>TOTAL</td>\n",
       "      <td>NaN</td>\n",
       "    </tr>\n",
       "    <tr>\n",
       "      <th>1</th>\n",
       "      <td>NaN</td>\n",
       "      <td>0908634785</td>\n",
       "      <td>2019-01-02</td>\n",
       "      <td>NaT</td>\n",
       "      <td>NaT</td>\n",
       "      <td>NaN</td>\n",
       "      <td>4294228</td>\n",
       "      <td>37.5</td>\n",
       "      <td>0</td>\n",
       "      <td>NaN</td>\n",
       "      <td>37.5</td>\n",
       "      <td>SIN DEFINIR</td>\n",
       "      <td>TOTAL</td>\n",
       "      <td>NaN</td>\n",
       "    </tr>\n",
       "    <tr>\n",
       "      <th>2</th>\n",
       "      <td>NaN</td>\n",
       "      <td>0909391609</td>\n",
       "      <td>2019-01-02</td>\n",
       "      <td>NaT</td>\n",
       "      <td>NaT</td>\n",
       "      <td>NaN</td>\n",
       "      <td>5375532</td>\n",
       "      <td>57.9</td>\n",
       "      <td>0</td>\n",
       "      <td>NaN</td>\n",
       "      <td>57.9</td>\n",
       "      <td>SIN DEFINIR</td>\n",
       "      <td>TOTAL</td>\n",
       "      <td>NaN</td>\n",
       "    </tr>\n",
       "    <tr>\n",
       "      <th>3</th>\n",
       "      <td>NaN</td>\n",
       "      <td>0930881529</td>\n",
       "      <td>2019-01-02</td>\n",
       "      <td>NaT</td>\n",
       "      <td>NaT</td>\n",
       "      <td>NaN</td>\n",
       "      <td>5107022</td>\n",
       "      <td>38.6</td>\n",
       "      <td>0</td>\n",
       "      <td>NaN</td>\n",
       "      <td>38.6</td>\n",
       "      <td>SIN DEFINIR</td>\n",
       "      <td>TOTAL</td>\n",
       "      <td>NaN</td>\n",
       "    </tr>\n",
       "    <tr>\n",
       "      <th>4</th>\n",
       "      <td>NaN</td>\n",
       "      <td>0922490297</td>\n",
       "      <td>2019-01-02</td>\n",
       "      <td>NaT</td>\n",
       "      <td>NaT</td>\n",
       "      <td>NaN</td>\n",
       "      <td>5436594</td>\n",
       "      <td>19.3</td>\n",
       "      <td>0</td>\n",
       "      <td>NaN</td>\n",
       "      <td>19.3</td>\n",
       "      <td>SIN DEFINIR</td>\n",
       "      <td>TOTAL</td>\n",
       "      <td>NaN</td>\n",
       "    </tr>\n",
       "  </tbody>\n",
       "</table>\n",
       "</div>"
      ],
      "text/plain": [
       "  CASA COBRO         CED  FECHAPAGO FECHA_EMISION_FINANC  \\\n",
       "0        NaN  0920819265 2019-01-02                  NaT   \n",
       "1        NaN  0908634785 2019-01-02                  NaT   \n",
       "2        NaN  0909391609 2019-01-02                  NaT   \n",
       "3        NaN  0930881529 2019-01-02                  NaT   \n",
       "4        NaN  0922490297 2019-01-02                  NaT   \n",
       "\n",
       "  FECHA_EMISION_INFRACCION  ID_CONVENIO  INFRACCION  MONTO  MORA  \\\n",
       "0                      NaT          NaN     5297974   57.9     0   \n",
       "1                      NaT          NaN     4294228   37.5     0   \n",
       "2                      NaT          NaN     5375532   57.9     0   \n",
       "3                      NaT          NaN     5107022   38.6     0   \n",
       "4                      NaT          NaN     5436594   19.3     0   \n",
       "\n",
       "   NRO_CUOTA_EMISION  PAGO     SEGMENTO TIPOPAGO  VALOR_CAPITAL  \n",
       "0                NaN  57.9  SIN DEFINIR    TOTAL            NaN  \n",
       "1                NaN  37.5  SIN DEFINIR    TOTAL            NaN  \n",
       "2                NaN  57.9  SIN DEFINIR    TOTAL            NaN  \n",
       "3                NaN  38.6  SIN DEFINIR    TOTAL            NaN  \n",
       "4                NaN  19.3  SIN DEFINIR    TOTAL            NaN  "
      ]
     },
     "execution_count": 29,
     "metadata": {},
     "output_type": "execute_result"
    }
   ],
   "source": [
    "basePagos = [pagos_corr,pagos_cuot,pagos_conv]\n",
    "total_pagos=pd.concat(basePagos)\n",
    "total_pagos.head()"
   ]
  },
  {
   "cell_type": "markdown",
   "metadata": {},
   "source": [
    " "
   ]
  },
  {
   "cell_type": "markdown",
   "metadata": {},
   "source": [
    "# BASE DE MULTAS ASIGNADAS"
   ]
  },
  {
   "cell_type": "code",
   "execution_count": 30,
   "metadata": {},
   "outputs": [],
   "source": [
    "multas=\"\"\"SELECT No_multa AS 'INFRACCION',Dias_mora,Cartera FROM SISTEMECUADOR_ATM.MULTAS_MENSUALES where Mes={0}\"\"\".format(Mes)\n",
    "resultado_multas=pd.read_sql(multas, con=db)\n",
    "resultado_multas['INFRACCION'] = resultado_multas['INFRACCION'].astype(int)"
   ]
  },
  {
   "cell_type": "code",
   "execution_count": 31,
   "metadata": {},
   "outputs": [
    {
     "data": {
      "text/html": [
       "<div>\n",
       "<style scoped>\n",
       "    .dataframe tbody tr th:only-of-type {\n",
       "        vertical-align: middle;\n",
       "    }\n",
       "\n",
       "    .dataframe tbody tr th {\n",
       "        vertical-align: top;\n",
       "    }\n",
       "\n",
       "    .dataframe thead th {\n",
       "        text-align: right;\n",
       "    }\n",
       "</style>\n",
       "<table border=\"1\" class=\"dataframe\">\n",
       "  <thead>\n",
       "    <tr style=\"text-align: right;\">\n",
       "      <th></th>\n",
       "      <th>INFRACCION</th>\n",
       "      <th>Dias_mora</th>\n",
       "      <th>Cartera</th>\n",
       "    </tr>\n",
       "  </thead>\n",
       "  <tbody>\n",
       "    <tr>\n",
       "      <th>0</th>\n",
       "      <td>5722394</td>\n",
       "      <td>72</td>\n",
       "      <td>CORRIENTE</td>\n",
       "    </tr>\n",
       "    <tr>\n",
       "      <th>1</th>\n",
       "      <td>4929258</td>\n",
       "      <td>249</td>\n",
       "      <td>MENOR</td>\n",
       "    </tr>\n",
       "    <tr>\n",
       "      <th>2</th>\n",
       "      <td>4171791</td>\n",
       "      <td>429</td>\n",
       "      <td>CORRIENTE</td>\n",
       "    </tr>\n",
       "    <tr>\n",
       "      <th>3</th>\n",
       "      <td>4171793</td>\n",
       "      <td>429</td>\n",
       "      <td>CORRIENTE</td>\n",
       "    </tr>\n",
       "    <tr>\n",
       "      <th>4</th>\n",
       "      <td>5433481</td>\n",
       "      <td>138</td>\n",
       "      <td>CORRIENTE</td>\n",
       "    </tr>\n",
       "  </tbody>\n",
       "</table>\n",
       "</div>"
      ],
      "text/plain": [
       "   INFRACCION  Dias_mora    Cartera\n",
       "0     5722394         72  CORRIENTE\n",
       "1     4929258        249      MENOR\n",
       "2     4171791        429  CORRIENTE\n",
       "3     4171793        429  CORRIENTE\n",
       "4     5433481        138  CORRIENTE"
      ]
     },
     "execution_count": 31,
     "metadata": {},
     "output_type": "execute_result"
    }
   ],
   "source": [
    "resultado_multas.head()"
   ]
  },
  {
   "cell_type": "markdown",
   "metadata": {},
   "source": [
    "### CRUZAR LOS PAGOS CON LA ASIGNACION"
   ]
  },
  {
   "cell_type": "code",
   "execution_count": 32,
   "metadata": {},
   "outputs": [
    {
     "data": {
      "text/html": [
       "<div>\n",
       "<style scoped>\n",
       "    .dataframe tbody tr th:only-of-type {\n",
       "        vertical-align: middle;\n",
       "    }\n",
       "\n",
       "    .dataframe tbody tr th {\n",
       "        vertical-align: top;\n",
       "    }\n",
       "\n",
       "    .dataframe thead th {\n",
       "        text-align: right;\n",
       "    }\n",
       "</style>\n",
       "<table border=\"1\" class=\"dataframe\">\n",
       "  <thead>\n",
       "    <tr style=\"text-align: right;\">\n",
       "      <th></th>\n",
       "      <th>CASA COBRO</th>\n",
       "      <th>CED</th>\n",
       "      <th>FECHAPAGO</th>\n",
       "      <th>FECHA_EMISION_FINANC</th>\n",
       "      <th>FECHA_EMISION_INFRACCION</th>\n",
       "      <th>ID_CONVENIO</th>\n",
       "      <th>INFRACCION</th>\n",
       "      <th>MONTO</th>\n",
       "      <th>MORA</th>\n",
       "      <th>NRO_CUOTA_EMISION</th>\n",
       "      <th>PAGO</th>\n",
       "      <th>SEGMENTO</th>\n",
       "      <th>TIPOPAGO</th>\n",
       "      <th>VALOR_CAPITAL</th>\n",
       "    </tr>\n",
       "  </thead>\n",
       "  <tbody>\n",
       "    <tr>\n",
       "      <th>0</th>\n",
       "      <td>NaN</td>\n",
       "      <td>0920819265</td>\n",
       "      <td>2019-01-02</td>\n",
       "      <td>NaT</td>\n",
       "      <td>NaT</td>\n",
       "      <td>NaN</td>\n",
       "      <td>5297974</td>\n",
       "      <td>57.9</td>\n",
       "      <td>166</td>\n",
       "      <td>NaN</td>\n",
       "      <td>57.9</td>\n",
       "      <td>MENOR</td>\n",
       "      <td>TOTAL</td>\n",
       "      <td>NaN</td>\n",
       "    </tr>\n",
       "    <tr>\n",
       "      <th>1</th>\n",
       "      <td>NaN</td>\n",
       "      <td>0908634785</td>\n",
       "      <td>2019-01-02</td>\n",
       "      <td>NaT</td>\n",
       "      <td>NaT</td>\n",
       "      <td>NaN</td>\n",
       "      <td>4294228</td>\n",
       "      <td>37.5</td>\n",
       "      <td>399</td>\n",
       "      <td>NaN</td>\n",
       "      <td>37.5</td>\n",
       "      <td>CORRIENTE</td>\n",
       "      <td>TOTAL</td>\n",
       "      <td>NaN</td>\n",
       "    </tr>\n",
       "    <tr>\n",
       "      <th>2</th>\n",
       "      <td>NaN</td>\n",
       "      <td>0909391609</td>\n",
       "      <td>2019-01-02</td>\n",
       "      <td>NaT</td>\n",
       "      <td>NaT</td>\n",
       "      <td>NaN</td>\n",
       "      <td>5375532</td>\n",
       "      <td>57.9</td>\n",
       "      <td>159</td>\n",
       "      <td>NaN</td>\n",
       "      <td>57.9</td>\n",
       "      <td>MENOR</td>\n",
       "      <td>TOTAL</td>\n",
       "      <td>NaN</td>\n",
       "    </tr>\n",
       "    <tr>\n",
       "      <th>3</th>\n",
       "      <td>NaN</td>\n",
       "      <td>0930881529</td>\n",
       "      <td>2019-01-02</td>\n",
       "      <td>NaT</td>\n",
       "      <td>NaT</td>\n",
       "      <td>NaN</td>\n",
       "      <td>5107022</td>\n",
       "      <td>38.6</td>\n",
       "      <td>208</td>\n",
       "      <td>NaN</td>\n",
       "      <td>38.6</td>\n",
       "      <td>CORRIENTE</td>\n",
       "      <td>TOTAL</td>\n",
       "      <td>NaN</td>\n",
       "    </tr>\n",
       "    <tr>\n",
       "      <th>4</th>\n",
       "      <td>NaN</td>\n",
       "      <td>0922490297</td>\n",
       "      <td>2019-01-02</td>\n",
       "      <td>NaT</td>\n",
       "      <td>NaT</td>\n",
       "      <td>NaN</td>\n",
       "      <td>5436594</td>\n",
       "      <td>19.3</td>\n",
       "      <td>138</td>\n",
       "      <td>NaN</td>\n",
       "      <td>19.3</td>\n",
       "      <td>MENOR</td>\n",
       "      <td>TOTAL</td>\n",
       "      <td>NaN</td>\n",
       "    </tr>\n",
       "  </tbody>\n",
       "</table>\n",
       "</div>"
      ],
      "text/plain": [
       "  CASA COBRO         CED  FECHAPAGO FECHA_EMISION_FINANC  \\\n",
       "0        NaN  0920819265 2019-01-02                  NaT   \n",
       "1        NaN  0908634785 2019-01-02                  NaT   \n",
       "2        NaN  0909391609 2019-01-02                  NaT   \n",
       "3        NaN  0930881529 2019-01-02                  NaT   \n",
       "4        NaN  0922490297 2019-01-02                  NaT   \n",
       "\n",
       "  FECHA_EMISION_INFRACCION  ID_CONVENIO  INFRACCION  MONTO  MORA  \\\n",
       "0                      NaT          NaN     5297974   57.9   166   \n",
       "1                      NaT          NaN     4294228   37.5   399   \n",
       "2                      NaT          NaN     5375532   57.9   159   \n",
       "3                      NaT          NaN     5107022   38.6   208   \n",
       "4                      NaT          NaN     5436594   19.3   138   \n",
       "\n",
       "   NRO_CUOTA_EMISION  PAGO   SEGMENTO TIPOPAGO  VALOR_CAPITAL  \n",
       "0                NaN  57.9      MENOR    TOTAL            NaN  \n",
       "1                NaN  37.5  CORRIENTE    TOTAL            NaN  \n",
       "2                NaN  57.9      MENOR    TOTAL            NaN  \n",
       "3                NaN  38.6  CORRIENTE    TOTAL            NaN  \n",
       "4                NaN  19.3      MENOR    TOTAL            NaN  "
      ]
     },
     "execution_count": 32,
     "metadata": {},
     "output_type": "execute_result"
    }
   ],
   "source": [
    "crucepagos=pd.merge(total_pagos,resultado_multas,on=['INFRACCION'],how='left')\n",
    "crucepagos.Dias_mora = crucepagos.Dias_mora.fillna(1)\n",
    "crucepagos['Dias_mora'] = crucepagos['Dias_mora'].astype(int)\n",
    "crucepagos['SEGMENTO'] = crucepagos.apply(cartera,axis = 1)\n",
    "crucepagos['MORA'] = crucepagos.apply(mora,axis = 1)\n",
    "try:\n",
    "    crucepagos.drop(['Dias_mora','Cartera'],axis=1,inplace=True)\n",
    "except:\n",
    "    pass\n",
    "crucepagos.head()"
   ]
  },
  {
   "cell_type": "code",
   "execution_count": 33,
   "metadata": {},
   "outputs": [
    {
     "data": {
      "text/plain": [
       "<matplotlib.axes._subplots.AxesSubplot at 0xd2b5d50>"
      ]
     },
     "execution_count": 33,
     "metadata": {},
     "output_type": "execute_result"
    }
   ],
   "source": [
    "crucepagos.TIPOPAGO.value_counts().plot.bar()"
   ]
  },
  {
   "cell_type": "code",
   "execution_count": 34,
   "metadata": {},
   "outputs": [
    {
     "data": {
      "text/plain": [
       "<matplotlib.axes._subplots.AxesSubplot at 0xd29cd90>"
      ]
     },
     "execution_count": 34,
     "metadata": {},
     "output_type": "execute_result"
    },
    {
     "data": {
      "image/png": "[encoded data removed]",
      "text/plain": [
       "<Figure size 432x288 with 1 Axes>"
      ]
     },
     "metadata": {},
     "output_type": "display_data"
    }
   ],
   "source": [
    "crucepagos.SEGMENTO.value_counts().plot.bar()"
   ]
  },
  {
   "cell_type": "code",
   "execution_count": 35,
   "metadata": {},
   "outputs": [],
   "source": [
    "def honorarios(base):\n",
    "    cartera=base['SEGMENTO']\n",
    "    tipo=base['TIPOPAGO']\n",
    "    mora=base['MORA']\n",
    "    valor=base['MONTO']\n",
    "    pago=base['PAGO']\n",
    "    if cartera=='CONVENIO':\n",
    "        return pago*0.035\n",
    "    if tipo=='PARCIAL'and mora>180:\n",
    "        return valor*0.05\n",
    "    if mora<61:\n",
    "        return pago*0.02\n",
    "    if mora<181:\n",
    "        return pago*0.04\n",
    "    if mora<361:\n",
    "        return pago*0.05\n",
    "    if mora>360:\n",
    "        return pago*0.06\n",
    "    return 0.0"
   ]
  },
  {
   "cell_type": "code",
   "execution_count": 36,
   "metadata": {},
   "outputs": [],
   "source": [
    "crucepagos['HONORARIOS']=crucepagos.apply(honorarios,axis=1)"
   ]
  },
  {
   "cell_type": "code",
   "execution_count": 40,
   "metadata": {},
   "outputs": [
    {
     "data": {
      "text/plain": [
       "837"
      ]
     },
     "execution_count": 40,
     "metadata": {},
     "output_type": "execute_result"
    }
   ],
   "source": [
    "crucepagos.CED.count()"
   ]
  },
  {
   "cell_type": "code",
   "execution_count": 37,
   "metadata": {},
   "outputs": [
    {
     "data": {
      "text/html": [
       "<div>\n",
       "<style scoped>\n",
       "    .dataframe tbody tr th:only-of-type {\n",
       "        vertical-align: middle;\n",
       "    }\n",
       "\n",
       "    .dataframe tbody tr th {\n",
       "        vertical-align: top;\n",
       "    }\n",
       "\n",
       "    .dataframe thead th {\n",
       "        text-align: right;\n",
       "    }\n",
       "</style>\n",
       "<table border=\"1\" class=\"dataframe\">\n",
       "  <thead>\n",
       "    <tr style=\"text-align: right;\">\n",
       "      <th></th>\n",
       "      <th>CASA COBRO</th>\n",
       "      <th>CED</th>\n",
       "      <th>FECHAPAGO</th>\n",
       "      <th>FECHA_EMISION_FINANC</th>\n",
       "      <th>FECHA_EMISION_INFRACCION</th>\n",
       "      <th>ID_CONVENIO</th>\n",
       "      <th>INFRACCION</th>\n",
       "      <th>MONTO</th>\n",
       "      <th>MORA</th>\n",
       "      <th>NRO_CUOTA_EMISION</th>\n",
       "      <th>PAGO</th>\n",
       "      <th>SEGMENTO</th>\n",
       "      <th>TIPOPAGO</th>\n",
       "      <th>VALOR_CAPITAL</th>\n",
       "      <th>HONORARIOS</th>\n",
       "    </tr>\n",
       "  </thead>\n",
       "  <tbody>\n",
       "    <tr>\n",
       "      <th>0</th>\n",
       "      <td>NaN</td>\n",
       "      <td>0920819265</td>\n",
       "      <td>2019-01-02</td>\n",
       "      <td>NaT</td>\n",
       "      <td>NaT</td>\n",
       "      <td>NaN</td>\n",
       "      <td>5297974</td>\n",
       "      <td>57.9</td>\n",
       "      <td>166</td>\n",
       "      <td>NaN</td>\n",
       "      <td>57.9</td>\n",
       "      <td>MENOR</td>\n",
       "      <td>TOTAL</td>\n",
       "      <td>NaN</td>\n",
       "      <td>2.316</td>\n",
       "    </tr>\n",
       "    <tr>\n",
       "      <th>1</th>\n",
       "      <td>NaN</td>\n",
       "      <td>0908634785</td>\n",
       "      <td>2019-01-02</td>\n",
       "      <td>NaT</td>\n",
       "      <td>NaT</td>\n",
       "      <td>NaN</td>\n",
       "      <td>4294228</td>\n",
       "      <td>37.5</td>\n",
       "      <td>399</td>\n",
       "      <td>NaN</td>\n",
       "      <td>37.5</td>\n",
       "      <td>CORRIENTE</td>\n",
       "      <td>TOTAL</td>\n",
       "      <td>NaN</td>\n",
       "      <td>2.250</td>\n",
       "    </tr>\n",
       "    <tr>\n",
       "      <th>2</th>\n",
       "      <td>NaN</td>\n",
       "      <td>0909391609</td>\n",
       "      <td>2019-01-02</td>\n",
       "      <td>NaT</td>\n",
       "      <td>NaT</td>\n",
       "      <td>NaN</td>\n",
       "      <td>5375532</td>\n",
       "      <td>57.9</td>\n",
       "      <td>159</td>\n",
       "      <td>NaN</td>\n",
       "      <td>57.9</td>\n",
       "      <td>MENOR</td>\n",
       "      <td>TOTAL</td>\n",
       "      <td>NaN</td>\n",
       "      <td>2.316</td>\n",
       "    </tr>\n",
       "    <tr>\n",
       "      <th>3</th>\n",
       "      <td>NaN</td>\n",
       "      <td>0930881529</td>\n",
       "      <td>2019-01-02</td>\n",
       "      <td>NaT</td>\n",
       "      <td>NaT</td>\n",
       "      <td>NaN</td>\n",
       "      <td>5107022</td>\n",
       "      <td>38.6</td>\n",
       "      <td>208</td>\n",
       "      <td>NaN</td>\n",
       "      <td>38.6</td>\n",
       "      <td>CORRIENTE</td>\n",
       "      <td>TOTAL</td>\n",
       "      <td>NaN</td>\n",
       "      <td>1.930</td>\n",
       "    </tr>\n",
       "    <tr>\n",
       "      <th>4</th>\n",
       "      <td>NaN</td>\n",
       "      <td>0922490297</td>\n",
       "      <td>2019-01-02</td>\n",
       "      <td>NaT</td>\n",
       "      <td>NaT</td>\n",
       "      <td>NaN</td>\n",
       "      <td>5436594</td>\n",
       "      <td>19.3</td>\n",
       "      <td>138</td>\n",
       "      <td>NaN</td>\n",
       "      <td>19.3</td>\n",
       "      <td>MENOR</td>\n",
       "      <td>TOTAL</td>\n",
       "      <td>NaN</td>\n",
       "      <td>0.772</td>\n",
       "    </tr>\n",
       "  </tbody>\n",
       "</table>\n",
       "</div>"
      ],
      "text/plain": [
       "  CASA COBRO         CED  FECHAPAGO FECHA_EMISION_FINANC  \\\n",
       "0        NaN  0920819265 2019-01-02                  NaT   \n",
       "1        NaN  0908634785 2019-01-02                  NaT   \n",
       "2        NaN  0909391609 2019-01-02                  NaT   \n",
       "3        NaN  0930881529 2019-01-02                  NaT   \n",
       "4        NaN  0922490297 2019-01-02                  NaT   \n",
       "\n",
       "  FECHA_EMISION_INFRACCION  ID_CONVENIO  INFRACCION  MONTO  MORA  \\\n",
       "0                      NaT          NaN     5297974   57.9   166   \n",
       "1                      NaT          NaN     4294228   37.5   399   \n",
       "2                      NaT          NaN     5375532   57.9   159   \n",
       "3                      NaT          NaN     5107022   38.6   208   \n",
       "4                      NaT          NaN     5436594   19.3   138   \n",
       "\n",
       "   NRO_CUOTA_EMISION  PAGO   SEGMENTO TIPOPAGO  VALOR_CAPITAL  HONORARIOS  \n",
       "0                NaN  57.9      MENOR    TOTAL            NaN       2.316  \n",
       "1                NaN  37.5  CORRIENTE    TOTAL            NaN       2.250  \n",
       "2                NaN  57.9      MENOR    TOTAL            NaN       2.316  \n",
       "3                NaN  38.6  CORRIENTE    TOTAL            NaN       1.930  \n",
       "4                NaN  19.3      MENOR    TOTAL            NaN       0.772  "
      ]
     },
     "execution_count": 37,
     "metadata": {},
     "output_type": "execute_result"
    }
   ],
   "source": [
    "crucepagos.head()"
   ]
  },
  {
   "cell_type": "code",
   "execution_count": 38,
   "metadata": {},
   "outputs": [
    {
     "data": {
      "text/plain": [
       "837"
      ]
     },
     "execution_count": 38,
     "metadata": {},
     "output_type": "execute_result"
    }
   ],
   "source": [
    "crucepagos.SEGMENTO.count()"
   ]
  },
  {
   "cell_type": "code",
   "execution_count": 39,
   "metadata": {},
   "outputs": [
    {
     "name": "stdout",
     "output_type": "stream",
     "text": [
      "711\n"
     ]
    }
   ],
   "source": [
    "subidos=0\n",
    "nosubido=0\n",
    "for row in crucepagos.itertuples():\n",
    "    insert_querry=\"\"\"INSERT INTO `sistemecuador_atm`.`pagos_atm`\n",
    "        (`IDENTIFICACION`,\n",
    "        `COD_INFRACION`,\n",
    "        `MONTO_ASIGNADO`,\n",
    "        `fecha_pago`,\n",
    "        `DIAS_MORA`,\n",
    "        `monto_pago`,\n",
    "        `tipo_pago`,\n",
    "        `cartera`,\n",
    "        `honorario`)\n",
    "        VALUES\n",
    "        ('{0}',\n",
    "        '{1}',\n",
    "        '{2}',\n",
    "        '{3}',\n",
    "        '{4}',\n",
    "        '{5}',\n",
    "        '{6}',\n",
    "        '{7}',\n",
    "        '{8}'); \"\"\".format(row.CED,row.INFRACCION,row.MONTO,row.FECHAPAGO,row.MORA,row.PAGO,row.TIPOPAGO,row.SEGMENTO,row.HONORARIOS)\n",
    "    try:\n",
    "        cur.execute(insert_querry)\n",
    "        db.commit()\n",
    "        subidos = subidos+1\n",
    "    except:\n",
    "        db.rollback()\n",
    "        nosubido=nosubido+1\n",
    "        \n",
    "print(subidos)"
   ]
  },
  {
   "cell_type": "code",
   "execution_count": null,
   "metadata": {},
   "outputs": [],
   "source": []
  },
  {
   "cell_type": "code",
   "execution_count": null,
   "metadata": {},
   "outputs": [],
   "source": []
  }
 ],
 "metadata": {
  "kernelspec": {
   "display_name": "Python 3",
   "language": "python",
   "name": "python3"
  },
  "language_info": {
   "codemirror_mode": {
    "name": "ipython",
    "version": 3
   },
   "file_extension": ".py",
   "mimetype": "text/x-python",
   "name": "python",
   "nbconvert_exporter": "python",
   "pygments_lexer": "ipython3",
   "version": "3.6.5"
  }
 },
 "nbformat": 4,
 "nbformat_minor": 2
}
