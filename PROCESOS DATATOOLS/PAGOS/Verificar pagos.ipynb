{
 "cells": [
  {
   "cell_type": "code",
   "execution_count": 516,
   "metadata": {},
   "outputs": [],
   "source": [
    "import pandas as pd\n",
    "import mysql.connector as mc\n",
    "import matplotlib\n",
    "import calendar"
   ]
  },
  {
   "cell_type": "code",
   "execution_count": 517,
   "metadata": {},
   "outputs": [],
   "source": [
    "db = mc.connect(\n",
    "  host='172.18.55.6',\n",
    "  user='comandato',\n",
    "  passwd='comandato123',\n",
    ")\n",
    "cur= db.cursor()"
   ]
  },
  {
   "cell_type": "code",
   "execution_count": 518,
   "metadata": {},
   "outputs": [],
   "source": [
    "Dia='24'\n",
    "Mes='03'\n",
    "Anio='2019'\n",
    "fecha_pago=Dia+Mes+Anio"
   ]
  },
  {
   "cell_type": "code",
   "execution_count": 519,
   "metadata": {},
   "outputs": [],
   "source": [
    "F_Mes='MARZO'"
   ]
  },
  {
   "cell_type": "markdown",
   "metadata": {},
   "source": [
    "# OBTENER GESTION DE ASESOR"
   ]
  },
  {
   "cell_type": "markdown",
   "metadata": {},
   "source": [
    "### CONVENIO"
   ]
  },
  {
   "cell_type": "code",
   "execution_count": 520,
   "metadata": {},
   "outputs": [],
   "source": [
    "querry_gestion_cuotas=\"\"\"SELECT NRO_IDENTIFICACION_CLIENTE,COD_AGENTE,CAST(DATE_FORMAT(FECHA_GESTION,'%d') as UNSIGNED) as FECHA_GESTION,CONTACTO_GESTIONO,ACCION_REALIZADA,RESPUESTA_OBTENIDA,NUMERO_GESTION FROM SISTEMECUADOR_ATM.GESTION where FECHA_GESTION BETWEEN '{0}-{1}-00 00:00:00' AND '{0}-{1}-{2} 21:00:00';\"\"\".format(Anio,Mes,Dia)\n",
    "gestion_cuotas=pd.read_sql(querry_gestion_cuotas, con=db)"
   ]
  },
  {
   "cell_type": "code",
   "execution_count": 521,
   "metadata": {},
   "outputs": [
    {
     "data": {
      "text/html": [
       "<div>\n",
       "<style scoped>\n",
       "    .dataframe tbody tr th:only-of-type {\n",
       "        vertical-align: middle;\n",
       "    }\n",
       "\n",
       "    .dataframe tbody tr th {\n",
       "        vertical-align: top;\n",
       "    }\n",
       "\n",
       "    .dataframe thead th {\n",
       "        text-align: right;\n",
       "    }\n",
       "</style>\n",
       "<table border=\"1\" class=\"dataframe\">\n",
       "  <thead>\n",
       "    <tr style=\"text-align: right;\">\n",
       "      <th></th>\n",
       "      <th>NRO_IDENTIFICACION_CLIENTE</th>\n",
       "      <th>COD_AGENTE</th>\n",
       "      <th>FECHA_GESTION</th>\n",
       "      <th>CONTACTO_GESTIONO</th>\n",
       "      <th>ACCION_REALIZADA</th>\n",
       "      <th>RESPUESTA_OBTENIDA</th>\n",
       "      <th>NUMERO_GESTION</th>\n",
       "    </tr>\n",
       "  </thead>\n",
       "  <tbody>\n",
       "    <tr>\n",
       "      <th>0</th>\n",
       "      <td>0917270357</td>\n",
       "      <td>D013101</td>\n",
       "      <td>1</td>\n",
       "      <td>CLIENTE</td>\n",
       "      <td>HACER LLAMADA</td>\n",
       "      <td>ACUERDO DE PAGO</td>\n",
       "      <td>0993269746</td>\n",
       "    </tr>\n",
       "    <tr>\n",
       "      <th>1</th>\n",
       "      <td>0913563276</td>\n",
       "      <td>D013101</td>\n",
       "      <td>1</td>\n",
       "      <td>CLIENTE</td>\n",
       "      <td>HACER LLAMADA</td>\n",
       "      <td>ACUERDO DE PAGO</td>\n",
       "      <td>0992068655</td>\n",
       "    </tr>\n",
       "    <tr>\n",
       "      <th>2</th>\n",
       "      <td>0912533809</td>\n",
       "      <td>D013101</td>\n",
       "      <td>1</td>\n",
       "      <td>CLIENTE</td>\n",
       "      <td>HACER LLAMADA</td>\n",
       "      <td>ACUERDO DE PAGO</td>\n",
       "      <td>0999684088</td>\n",
       "    </tr>\n",
       "    <tr>\n",
       "      <th>3</th>\n",
       "      <td>0904823093</td>\n",
       "      <td>D013101</td>\n",
       "      <td>1</td>\n",
       "      <td>CLIENTE</td>\n",
       "      <td>HACER LLAMADA</td>\n",
       "      <td>ACUERDO DE PAGO</td>\n",
       "      <td>0967788875</td>\n",
       "    </tr>\n",
       "    <tr>\n",
       "      <th>4</th>\n",
       "      <td>0906134523</td>\n",
       "      <td>D013101</td>\n",
       "      <td>1</td>\n",
       "      <td>NO CONTACTO</td>\n",
       "      <td>HACER LLAMADA</td>\n",
       "      <td>BUZON DE MENSAJES</td>\n",
       "      <td>0969666819</td>\n",
       "    </tr>\n",
       "  </tbody>\n",
       "</table>\n",
       "</div>"
      ],
      "text/plain": [
       "  NRO_IDENTIFICACION_CLIENTE COD_AGENTE  FECHA_GESTION CONTACTO_GESTIONO  \\\n",
       "0                 0917270357    D013101              1           CLIENTE   \n",
       "1                 0913563276    D013101              1           CLIENTE   \n",
       "2                 0912533809    D013101              1           CLIENTE   \n",
       "3                 0904823093    D013101              1           CLIENTE   \n",
       "4                 0906134523    D013101              1       NO CONTACTO   \n",
       "\n",
       "  ACCION_REALIZADA RESPUESTA_OBTENIDA NUMERO_GESTION  \n",
       "0    HACER LLAMADA    ACUERDO DE PAGO     0993269746  \n",
       "1    HACER LLAMADA    ACUERDO DE PAGO     0992068655  \n",
       "2    HACER LLAMADA    ACUERDO DE PAGO     0999684088  \n",
       "3    HACER LLAMADA    ACUERDO DE PAGO     0967788875  \n",
       "4    HACER LLAMADA  BUZON DE MENSAJES     0969666819  "
      ]
     },
     "execution_count": 521,
     "metadata": {},
     "output_type": "execute_result"
    }
   ],
   "source": [
    "gestion_cuotas.head()"
   ]
  },
  {
   "cell_type": "code",
   "execution_count": 522,
   "metadata": {},
   "outputs": [],
   "source": [
    "gestion_asesor_cuotas=gestion_cuotas[(gestion_cuotas['ACCION_REALIZADA']=='HACER LLAMADA') & ((gestion_cuotas['CONTACTO_GESTIONO']=='CLIENTE') | (gestion_cuotas['CONTACTO_GESTIONO']=='TITULAR') |(gestion_cuotas['CONTACTO_GESTIONO']=='TERC. VALIDO'))& (gestion_cuotas['RESPUESTA_OBTENIDA']!='YA PAGO')]"
   ]
  },
  {
   "cell_type": "code",
   "execution_count": 523,
   "metadata": {},
   "outputs": [],
   "source": [
    "gestion_asesor_cuotas=gestion_asesor_cuotas.sort_values(by=['FECHA_GESTION'],ascending=[True])\n",
    "gestion_asesor_cuotas=gestion_asesor_cuotas.drop_duplicates(['NRO_IDENTIFICACION_CLIENTE'], keep='first')\n",
    "gestion_asesor_cuotas = gestion_asesor_cuotas.rename(columns={'NRO_IDENTIFICACION_CLIENTE':'IDENTIFICACION'})"
   ]
  },
  {
   "cell_type": "markdown",
   "metadata": {},
   "source": [
    "### CORRIENTE"
   ]
  },
  {
   "cell_type": "code",
   "execution_count": 524,
   "metadata": {},
   "outputs": [],
   "source": [
    "querry_gestion=\"\"\"SELECT NRO_IDENTIFICACION_CLIENTE,COD_AGENTE,CAST(DATE_FORMAT(FECHA_GESTION,'%d') as UNSIGNED) as FECHA_GESTION,CONTACTO_GESTIONO,ACCION_REALIZADA,RESPUESTA_OBTENIDA,NUMERO_GESTION FROM SISTEMECUADOR_ATM.GESTION where FECHA_GESTION BETWEEN '{0}-{1}-00 00:00:00' AND '{0}-{1}-{2} 21:00:00' AND COMENTARIOS_GESTIONO NOT LIKE '%CAMPAÑA CONVENIO%';\"\"\".format(Anio,Mes,Dia)\n",
    "gestion=pd.read_sql(querry_gestion, con=db)"
   ]
  },
  {
   "cell_type": "code",
   "execution_count": 525,
   "metadata": {},
   "outputs": [],
   "source": [
    "gestion_asesor=gestion[(gestion['ACCION_REALIZADA']=='HACER LLAMADA') & ((gestion['CONTACTO_GESTIONO']=='CLIENTE') | (gestion['CONTACTO_GESTIONO']=='TITULAR') |(gestion['CONTACTO_GESTIONO']=='TERC. VALIDO'))& (gestion['RESPUESTA_OBTENIDA']!='YA PAGO')]"
   ]
  },
  {
   "cell_type": "code",
   "execution_count": 526,
   "metadata": {},
   "outputs": [],
   "source": [
    "gestion_asesor=gestion_asesor.sort_values(by=['FECHA_GESTION'],ascending=[True])"
   ]
  },
  {
   "cell_type": "code",
   "execution_count": 527,
   "metadata": {},
   "outputs": [],
   "source": [
    "gestion_asesor=gestion_asesor.drop_duplicates(['NRO_IDENTIFICACION_CLIENTE'], keep='first')"
   ]
  },
  {
   "cell_type": "code",
   "execution_count": 528,
   "metadata": {},
   "outputs": [
    {
     "data": {
      "text/html": [
       "<div>\n",
       "<style scoped>\n",
       "    .dataframe tbody tr th:only-of-type {\n",
       "        vertical-align: middle;\n",
       "    }\n",
       "\n",
       "    .dataframe tbody tr th {\n",
       "        vertical-align: top;\n",
       "    }\n",
       "\n",
       "    .dataframe thead th {\n",
       "        text-align: right;\n",
       "    }\n",
       "</style>\n",
       "<table border=\"1\" class=\"dataframe\">\n",
       "  <thead>\n",
       "    <tr style=\"text-align: right;\">\n",
       "      <th></th>\n",
       "      <th>NRO_IDENTIFICACION_CLIENTE</th>\n",
       "      <th>COD_AGENTE</th>\n",
       "      <th>FECHA_GESTION</th>\n",
       "      <th>CONTACTO_GESTIONO</th>\n",
       "      <th>ACCION_REALIZADA</th>\n",
       "      <th>RESPUESTA_OBTENIDA</th>\n",
       "      <th>NUMERO_GESTION</th>\n",
       "    </tr>\n",
       "  </thead>\n",
       "  <tbody>\n",
       "    <tr>\n",
       "      <th>0</th>\n",
       "      <td>0917270357</td>\n",
       "      <td>D013101</td>\n",
       "      <td>1</td>\n",
       "      <td>CLIENTE</td>\n",
       "      <td>HACER LLAMADA</td>\n",
       "      <td>ACUERDO DE PAGO</td>\n",
       "      <td>0993269746</td>\n",
       "    </tr>\n",
       "    <tr>\n",
       "      <th>566</th>\n",
       "      <td>0913883757</td>\n",
       "      <td>D013140</td>\n",
       "      <td>1</td>\n",
       "      <td>TERC. VALIDO</td>\n",
       "      <td>HACER LLAMADA</td>\n",
       "      <td>MENSAJE CON TERCERO</td>\n",
       "      <td>0996670208</td>\n",
       "    </tr>\n",
       "    <tr>\n",
       "      <th>564</th>\n",
       "      <td>0913719076</td>\n",
       "      <td>D013140</td>\n",
       "      <td>1</td>\n",
       "      <td>TITULAR</td>\n",
       "      <td>HACER LLAMADA</td>\n",
       "      <td>VOLVER A LLAMAR</td>\n",
       "      <td>0983975019</td>\n",
       "    </tr>\n",
       "    <tr>\n",
       "      <th>556</th>\n",
       "      <td>0912343712</td>\n",
       "      <td>D013116</td>\n",
       "      <td>1</td>\n",
       "      <td>TITULAR</td>\n",
       "      <td>HACER LLAMADA</td>\n",
       "      <td>LOCALIZADO SIN ACUERDO</td>\n",
       "      <td>0982708013</td>\n",
       "    </tr>\n",
       "    <tr>\n",
       "      <th>554</th>\n",
       "      <td>0925588980</td>\n",
       "      <td>D013142</td>\n",
       "      <td>1</td>\n",
       "      <td>TERC. VALIDO</td>\n",
       "      <td>HACER LLAMADA</td>\n",
       "      <td>MENSAJE CON TERCERO</td>\n",
       "      <td>0992340441</td>\n",
       "    </tr>\n",
       "  </tbody>\n",
       "</table>\n",
       "</div>"
      ],
      "text/plain": [
       "    NRO_IDENTIFICACION_CLIENTE COD_AGENTE  FECHA_GESTION CONTACTO_GESTIONO  \\\n",
       "0                   0917270357    D013101              1           CLIENTE   \n",
       "566                 0913883757    D013140              1      TERC. VALIDO   \n",
       "564                 0913719076    D013140              1           TITULAR   \n",
       "556                 0912343712    D013116              1           TITULAR   \n",
       "554                 0925588980    D013142              1      TERC. VALIDO   \n",
       "\n",
       "    ACCION_REALIZADA      RESPUESTA_OBTENIDA NUMERO_GESTION  \n",
       "0      HACER LLAMADA         ACUERDO DE PAGO     0993269746  \n",
       "566    HACER LLAMADA     MENSAJE CON TERCERO     0996670208  \n",
       "564    HACER LLAMADA         VOLVER A LLAMAR     0983975019  \n",
       "556    HACER LLAMADA  LOCALIZADO SIN ACUERDO     0982708013  \n",
       "554    HACER LLAMADA     MENSAJE CON TERCERO     0992340441  "
      ]
     },
     "execution_count": 528,
     "metadata": {},
     "output_type": "execute_result"
    }
   ],
   "source": [
    "gestion_asesor.head()"
   ]
  },
  {
   "cell_type": "markdown",
   "metadata": {},
   "source": [
    "# OBTENER GESTION IVR"
   ]
  },
  {
   "cell_type": "code",
   "execution_count": 529,
   "metadata": {},
   "outputs": [],
   "source": [
    "querry_masivos=\"\"\"SELECT NRO_IDENTIFICACION_CLIENTE,COD_AGENTE,CAST(DATE_FORMAT(FECHA_GESTION,'%d') as UNSIGNED) as FECHA_GESTION,CONTACTO_GESTIONO,ACCION_REALIZADA,RESPUESTA_OBTENIDA,NUMERO_GESTION FROM SISTEMECUADOR_ATM.gestion_ivr where FECHA_GESTION BETWEEN '{0}-{1}-00 00:00:00' AND '{0}-{1}-{2} 21:00:00';\"\"\".format(Anio,Mes,Dia)\n",
    "gestion_masivos=pd.read_sql(querry_masivos, con=db)"
   ]
  },
  {
   "cell_type": "code",
   "execution_count": 530,
   "metadata": {},
   "outputs": [],
   "source": [
    "gestion_ivr=gestion_masivos[((gestion_masivos['ACCION_REALIZADA']=='ENVIAR IVR') & (gestion_masivos['RESPUESTA_OBTENIDA']=='CONTESTA IVR'))|((gestion_masivos['ACCION_REALIZADA']=='ENVIAR SMS') & (gestion_masivos['RESPUESTA_OBTENIDA']=='SMS ENVIADO'))|((gestion_masivos['ACCION_REALIZADA']=='ENVIAR WHATSAPP') & (gestion_masivos['RESPUESTA_OBTENIDA']=='ENVIO WHATSAPP'))]"
   ]
  },
  {
   "cell_type": "code",
   "execution_count": 531,
   "metadata": {},
   "outputs": [
    {
     "data": {
      "text/html": [
       "<div>\n",
       "<style scoped>\n",
       "    .dataframe tbody tr th:only-of-type {\n",
       "        vertical-align: middle;\n",
       "    }\n",
       "\n",
       "    .dataframe tbody tr th {\n",
       "        vertical-align: top;\n",
       "    }\n",
       "\n",
       "    .dataframe thead th {\n",
       "        text-align: right;\n",
       "    }\n",
       "</style>\n",
       "<table border=\"1\" class=\"dataframe\">\n",
       "  <thead>\n",
       "    <tr style=\"text-align: right;\">\n",
       "      <th></th>\n",
       "      <th>NRO_IDENTIFICACION_CLIENTE</th>\n",
       "      <th>COD_AGENTE</th>\n",
       "      <th>FECHA_GESTION</th>\n",
       "      <th>CONTACTO_GESTIONO</th>\n",
       "      <th>ACCION_REALIZADA</th>\n",
       "      <th>RESPUESTA_OBTENIDA</th>\n",
       "      <th>NUMERO_GESTION</th>\n",
       "    </tr>\n",
       "  </thead>\n",
       "  <tbody>\n",
       "    <tr>\n",
       "      <th>49339</th>\n",
       "      <td>0992686812001</td>\n",
       "      <td>D05554</td>\n",
       "      <td>22</td>\n",
       "      <td>TITULAR</td>\n",
       "      <td>ENVIAR SMS</td>\n",
       "      <td>SMS ENVIADO</td>\n",
       "      <td>0997486876</td>\n",
       "    </tr>\n",
       "    <tr>\n",
       "      <th>49340</th>\n",
       "      <td>0992695447001</td>\n",
       "      <td>D05554</td>\n",
       "      <td>22</td>\n",
       "      <td>TITULAR</td>\n",
       "      <td>ENVIAR SMS</td>\n",
       "      <td>SMS ENVIADO</td>\n",
       "      <td>0994436615</td>\n",
       "    </tr>\n",
       "    <tr>\n",
       "      <th>49341</th>\n",
       "      <td>0992744758001</td>\n",
       "      <td>D05554</td>\n",
       "      <td>22</td>\n",
       "      <td>TITULAR</td>\n",
       "      <td>ENVIAR SMS</td>\n",
       "      <td>SMS ENVIADO</td>\n",
       "      <td>0994993424</td>\n",
       "    </tr>\n",
       "    <tr>\n",
       "      <th>49342</th>\n",
       "      <td>0992783621001</td>\n",
       "      <td>D05554</td>\n",
       "      <td>22</td>\n",
       "      <td>TITULAR</td>\n",
       "      <td>ENVIAR SMS</td>\n",
       "      <td>SMS ENVIADO</td>\n",
       "      <td>0996038681</td>\n",
       "    </tr>\n",
       "    <tr>\n",
       "      <th>49343</th>\n",
       "      <td>0992901969001</td>\n",
       "      <td>D05554</td>\n",
       "      <td>22</td>\n",
       "      <td>TITULAR</td>\n",
       "      <td>ENVIAR SMS</td>\n",
       "      <td>SMS ENVIADO</td>\n",
       "      <td>0995432910</td>\n",
       "    </tr>\n",
       "  </tbody>\n",
       "</table>\n",
       "</div>"
      ],
      "text/plain": [
       "      NRO_IDENTIFICACION_CLIENTE COD_AGENTE  FECHA_GESTION CONTACTO_GESTIONO  \\\n",
       "49339              0992686812001     D05554             22           TITULAR   \n",
       "49340              0992695447001     D05554             22           TITULAR   \n",
       "49341              0992744758001     D05554             22           TITULAR   \n",
       "49342              0992783621001     D05554             22           TITULAR   \n",
       "49343              0992901969001     D05554             22           TITULAR   \n",
       "\n",
       "      ACCION_REALIZADA RESPUESTA_OBTENIDA NUMERO_GESTION  \n",
       "49339       ENVIAR SMS        SMS ENVIADO     0997486876  \n",
       "49340       ENVIAR SMS        SMS ENVIADO     0994436615  \n",
       "49341       ENVIAR SMS        SMS ENVIADO     0994993424  \n",
       "49342       ENVIAR SMS        SMS ENVIADO     0996038681  \n",
       "49343       ENVIAR SMS        SMS ENVIADO     0995432910  "
      ]
     },
     "execution_count": 531,
     "metadata": {},
     "output_type": "execute_result"
    }
   ],
   "source": [
    "gestion_ivr.tail()"
   ]
  },
  {
   "cell_type": "markdown",
   "metadata": {},
   "source": [
    "# OBTENER GESTION SMS"
   ]
  },
  {
   "cell_type": "code",
   "execution_count": 532,
   "metadata": {},
   "outputs": [],
   "source": [
    "gestion_sms=gestion_masivos[gestion_masivos['ACCION_REALIZADA']=='ENVIAR SMS']"
   ]
  },
  {
   "cell_type": "code",
   "execution_count": 533,
   "metadata": {},
   "outputs": [
    {
     "data": {
      "text/html": [
       "<div>\n",
       "<style scoped>\n",
       "    .dataframe tbody tr th:only-of-type {\n",
       "        vertical-align: middle;\n",
       "    }\n",
       "\n",
       "    .dataframe tbody tr th {\n",
       "        vertical-align: top;\n",
       "    }\n",
       "\n",
       "    .dataframe thead th {\n",
       "        text-align: right;\n",
       "    }\n",
       "</style>\n",
       "<table border=\"1\" class=\"dataframe\">\n",
       "  <thead>\n",
       "    <tr style=\"text-align: right;\">\n",
       "      <th></th>\n",
       "      <th>NRO_IDENTIFICACION_CLIENTE</th>\n",
       "      <th>COD_AGENTE</th>\n",
       "      <th>FECHA_GESTION</th>\n",
       "      <th>CONTACTO_GESTIONO</th>\n",
       "      <th>ACCION_REALIZADA</th>\n",
       "      <th>RESPUESTA_OBTENIDA</th>\n",
       "      <th>NUMERO_GESTION</th>\n",
       "    </tr>\n",
       "  </thead>\n",
       "  <tbody>\n",
       "    <tr>\n",
       "      <th>0</th>\n",
       "      <td>1000559797</td>\n",
       "      <td>D05554</td>\n",
       "      <td>1</td>\n",
       "      <td>TITULAR</td>\n",
       "      <td>ENVIAR SMS</td>\n",
       "      <td>SMS ENVIADO</td>\n",
       "      <td>0997209664</td>\n",
       "    </tr>\n",
       "    <tr>\n",
       "      <th>1</th>\n",
       "      <td>1001296837</td>\n",
       "      <td>D05554</td>\n",
       "      <td>1</td>\n",
       "      <td>TITULAR</td>\n",
       "      <td>ENVIAR SMS</td>\n",
       "      <td>SMS ENVIADO</td>\n",
       "      <td>0995054008</td>\n",
       "    </tr>\n",
       "    <tr>\n",
       "      <th>2</th>\n",
       "      <td>1002018370</td>\n",
       "      <td>D05554</td>\n",
       "      <td>1</td>\n",
       "      <td>TITULAR</td>\n",
       "      <td>ENVIAR SMS</td>\n",
       "      <td>SMS ENVIADO</td>\n",
       "      <td>0980561506</td>\n",
       "    </tr>\n",
       "    <tr>\n",
       "      <th>3</th>\n",
       "      <td>1002039863</td>\n",
       "      <td>D05554</td>\n",
       "      <td>1</td>\n",
       "      <td>TITULAR</td>\n",
       "      <td>ENVIAR SMS</td>\n",
       "      <td>SMS ENVIADO</td>\n",
       "      <td>0997856430</td>\n",
       "    </tr>\n",
       "    <tr>\n",
       "      <th>4</th>\n",
       "      <td>1002339149</td>\n",
       "      <td>D05554</td>\n",
       "      <td>1</td>\n",
       "      <td>TITULAR</td>\n",
       "      <td>ENVIAR SMS</td>\n",
       "      <td>SMS ENVIADO</td>\n",
       "      <td>0991965227</td>\n",
       "    </tr>\n",
       "  </tbody>\n",
       "</table>\n",
       "</div>"
      ],
      "text/plain": [
       "  NRO_IDENTIFICACION_CLIENTE COD_AGENTE  FECHA_GESTION CONTACTO_GESTIONO  \\\n",
       "0                 1000559797     D05554              1           TITULAR   \n",
       "1                 1001296837     D05554              1           TITULAR   \n",
       "2                 1002018370     D05554              1           TITULAR   \n",
       "3                 1002039863     D05554              1           TITULAR   \n",
       "4                 1002339149     D05554              1           TITULAR   \n",
       "\n",
       "  ACCION_REALIZADA RESPUESTA_OBTENIDA NUMERO_GESTION  \n",
       "0       ENVIAR SMS        SMS ENVIADO     0997209664  \n",
       "1       ENVIAR SMS        SMS ENVIADO     0995054008  \n",
       "2       ENVIAR SMS        SMS ENVIADO     0980561506  \n",
       "3       ENVIAR SMS        SMS ENVIADO     0997856430  \n",
       "4       ENVIAR SMS        SMS ENVIADO     0991965227  "
      ]
     },
     "execution_count": 533,
     "metadata": {},
     "output_type": "execute_result"
    }
   ],
   "source": [
    "gestion_sms.head()"
   ]
  },
  {
   "cell_type": "code",
   "execution_count": 534,
   "metadata": {},
   "outputs": [],
   "source": [
    "gestiones=[gestion_asesor,gestion_ivr,gestion_sms]\n",
    "total_gestiones=pd.concat(gestiones)"
   ]
  },
  {
   "cell_type": "code",
   "execution_count": 535,
   "metadata": {},
   "outputs": [
    {
     "data": {
      "text/html": [
       "<div>\n",
       "<style scoped>\n",
       "    .dataframe tbody tr th:only-of-type {\n",
       "        vertical-align: middle;\n",
       "    }\n",
       "\n",
       "    .dataframe tbody tr th {\n",
       "        vertical-align: top;\n",
       "    }\n",
       "\n",
       "    .dataframe thead th {\n",
       "        text-align: right;\n",
       "    }\n",
       "</style>\n",
       "<table border=\"1\" class=\"dataframe\">\n",
       "  <thead>\n",
       "    <tr style=\"text-align: right;\">\n",
       "      <th></th>\n",
       "      <th>NRO_IDENTIFICACION_CLIENTE</th>\n",
       "      <th>COD_AGENTE</th>\n",
       "      <th>FECHA_GESTION</th>\n",
       "      <th>CONTACTO_GESTIONO</th>\n",
       "      <th>ACCION_REALIZADA</th>\n",
       "      <th>RESPUESTA_OBTENIDA</th>\n",
       "      <th>NUMERO_GESTION</th>\n",
       "    </tr>\n",
       "  </thead>\n",
       "  <tbody>\n",
       "    <tr>\n",
       "      <th>0</th>\n",
       "      <td>0917270357</td>\n",
       "      <td>D013101</td>\n",
       "      <td>1</td>\n",
       "      <td>CLIENTE</td>\n",
       "      <td>HACER LLAMADA</td>\n",
       "      <td>ACUERDO DE PAGO</td>\n",
       "      <td>0993269746</td>\n",
       "    </tr>\n",
       "    <tr>\n",
       "      <th>566</th>\n",
       "      <td>0913883757</td>\n",
       "      <td>D013140</td>\n",
       "      <td>1</td>\n",
       "      <td>TERC. VALIDO</td>\n",
       "      <td>HACER LLAMADA</td>\n",
       "      <td>MENSAJE CON TERCERO</td>\n",
       "      <td>0996670208</td>\n",
       "    </tr>\n",
       "    <tr>\n",
       "      <th>564</th>\n",
       "      <td>0913719076</td>\n",
       "      <td>D013140</td>\n",
       "      <td>1</td>\n",
       "      <td>TITULAR</td>\n",
       "      <td>HACER LLAMADA</td>\n",
       "      <td>VOLVER A LLAMAR</td>\n",
       "      <td>0983975019</td>\n",
       "    </tr>\n",
       "    <tr>\n",
       "      <th>556</th>\n",
       "      <td>0912343712</td>\n",
       "      <td>D013116</td>\n",
       "      <td>1</td>\n",
       "      <td>TITULAR</td>\n",
       "      <td>HACER LLAMADA</td>\n",
       "      <td>LOCALIZADO SIN ACUERDO</td>\n",
       "      <td>0982708013</td>\n",
       "    </tr>\n",
       "    <tr>\n",
       "      <th>554</th>\n",
       "      <td>0925588980</td>\n",
       "      <td>D013142</td>\n",
       "      <td>1</td>\n",
       "      <td>TERC. VALIDO</td>\n",
       "      <td>HACER LLAMADA</td>\n",
       "      <td>MENSAJE CON TERCERO</td>\n",
       "      <td>0992340441</td>\n",
       "    </tr>\n",
       "  </tbody>\n",
       "</table>\n",
       "</div>"
      ],
      "text/plain": [
       "    NRO_IDENTIFICACION_CLIENTE COD_AGENTE  FECHA_GESTION CONTACTO_GESTIONO  \\\n",
       "0                   0917270357    D013101              1           CLIENTE   \n",
       "566                 0913883757    D013140              1      TERC. VALIDO   \n",
       "564                 0913719076    D013140              1           TITULAR   \n",
       "556                 0912343712    D013116              1           TITULAR   \n",
       "554                 0925588980    D013142              1      TERC. VALIDO   \n",
       "\n",
       "    ACCION_REALIZADA      RESPUESTA_OBTENIDA NUMERO_GESTION  \n",
       "0      HACER LLAMADA         ACUERDO DE PAGO     0993269746  \n",
       "566    HACER LLAMADA     MENSAJE CON TERCERO     0996670208  \n",
       "564    HACER LLAMADA         VOLVER A LLAMAR     0983975019  \n",
       "556    HACER LLAMADA  LOCALIZADO SIN ACUERDO     0982708013  \n",
       "554    HACER LLAMADA     MENSAJE CON TERCERO     0992340441  "
      ]
     },
     "execution_count": 535,
     "metadata": {},
     "output_type": "execute_result"
    }
   ],
   "source": [
    "total_gestiones.head()"
   ]
  },
  {
   "cell_type": "code",
   "execution_count": 536,
   "metadata": {},
   "outputs": [],
   "source": [
    "total_gestiones=total_gestiones.drop_duplicates(['NRO_IDENTIFICACION_CLIENTE'], keep='first')"
   ]
  },
  {
   "cell_type": "code",
   "execution_count": 537,
   "metadata": {},
   "outputs": [],
   "source": [
    "total_gestiones = total_gestiones.rename(columns={'NRO_IDENTIFICACION_CLIENTE':'IDENTIFICACION'})"
   ]
  },
  {
   "cell_type": "code",
   "execution_count": 538,
   "metadata": {},
   "outputs": [
    {
     "data": {
      "text/html": [
       "<div>\n",
       "<style scoped>\n",
       "    .dataframe tbody tr th:only-of-type {\n",
       "        vertical-align: middle;\n",
       "    }\n",
       "\n",
       "    .dataframe tbody tr th {\n",
       "        vertical-align: top;\n",
       "    }\n",
       "\n",
       "    .dataframe thead th {\n",
       "        text-align: right;\n",
       "    }\n",
       "</style>\n",
       "<table border=\"1\" class=\"dataframe\">\n",
       "  <thead>\n",
       "    <tr style=\"text-align: right;\">\n",
       "      <th></th>\n",
       "      <th>IDENTIFICACION</th>\n",
       "      <th>COD_AGENTE</th>\n",
       "      <th>FECHA_GESTION</th>\n",
       "      <th>CONTACTO_GESTIONO</th>\n",
       "      <th>ACCION_REALIZADA</th>\n",
       "      <th>RESPUESTA_OBTENIDA</th>\n",
       "      <th>NUMERO_GESTION</th>\n",
       "    </tr>\n",
       "  </thead>\n",
       "  <tbody>\n",
       "    <tr>\n",
       "      <th>0</th>\n",
       "      <td>0917270357</td>\n",
       "      <td>D013101</td>\n",
       "      <td>1</td>\n",
       "      <td>CLIENTE</td>\n",
       "      <td>HACER LLAMADA</td>\n",
       "      <td>ACUERDO DE PAGO</td>\n",
       "      <td>0993269746</td>\n",
       "    </tr>\n",
       "    <tr>\n",
       "      <th>566</th>\n",
       "      <td>0913883757</td>\n",
       "      <td>D013140</td>\n",
       "      <td>1</td>\n",
       "      <td>TERC. VALIDO</td>\n",
       "      <td>HACER LLAMADA</td>\n",
       "      <td>MENSAJE CON TERCERO</td>\n",
       "      <td>0996670208</td>\n",
       "    </tr>\n",
       "    <tr>\n",
       "      <th>564</th>\n",
       "      <td>0913719076</td>\n",
       "      <td>D013140</td>\n",
       "      <td>1</td>\n",
       "      <td>TITULAR</td>\n",
       "      <td>HACER LLAMADA</td>\n",
       "      <td>VOLVER A LLAMAR</td>\n",
       "      <td>0983975019</td>\n",
       "    </tr>\n",
       "    <tr>\n",
       "      <th>556</th>\n",
       "      <td>0912343712</td>\n",
       "      <td>D013116</td>\n",
       "      <td>1</td>\n",
       "      <td>TITULAR</td>\n",
       "      <td>HACER LLAMADA</td>\n",
       "      <td>LOCALIZADO SIN ACUERDO</td>\n",
       "      <td>0982708013</td>\n",
       "    </tr>\n",
       "    <tr>\n",
       "      <th>554</th>\n",
       "      <td>0925588980</td>\n",
       "      <td>D013142</td>\n",
       "      <td>1</td>\n",
       "      <td>TERC. VALIDO</td>\n",
       "      <td>HACER LLAMADA</td>\n",
       "      <td>MENSAJE CON TERCERO</td>\n",
       "      <td>0992340441</td>\n",
       "    </tr>\n",
       "  </tbody>\n",
       "</table>\n",
       "</div>"
      ],
      "text/plain": [
       "    IDENTIFICACION COD_AGENTE  FECHA_GESTION CONTACTO_GESTIONO  \\\n",
       "0       0917270357    D013101              1           CLIENTE   \n",
       "566     0913883757    D013140              1      TERC. VALIDO   \n",
       "564     0913719076    D013140              1           TITULAR   \n",
       "556     0912343712    D013116              1           TITULAR   \n",
       "554     0925588980    D013142              1      TERC. VALIDO   \n",
       "\n",
       "    ACCION_REALIZADA      RESPUESTA_OBTENIDA NUMERO_GESTION  \n",
       "0      HACER LLAMADA         ACUERDO DE PAGO     0993269746  \n",
       "566    HACER LLAMADA     MENSAJE CON TERCERO     0996670208  \n",
       "564    HACER LLAMADA         VOLVER A LLAMAR     0983975019  \n",
       "556    HACER LLAMADA  LOCALIZADO SIN ACUERDO     0982708013  \n",
       "554    HACER LLAMADA     MENSAJE CON TERCERO     0992340441  "
      ]
     },
     "execution_count": 538,
     "metadata": {},
     "output_type": "execute_result"
    }
   ],
   "source": [
    "total_gestiones.head()"
   ]
  },
  {
   "cell_type": "markdown",
   "metadata": {},
   "source": [
    "# MULTAS ASIGNADAS"
   ]
  },
  {
   "cell_type": "code",
   "execution_count": 539,
   "metadata": {},
   "outputs": [],
   "source": [
    "multas=\"\"\"SELECT *   FROM SISTEMECUADOR_ATM.MULTAS_MENSUALES where Mes={0}\"\"\".format(Mes)\n",
    "resultado_multas=pd.read_sql(multas, con=db)"
   ]
  },
  {
   "cell_type": "code",
   "execution_count": 540,
   "metadata": {},
   "outputs": [
    {
     "data": {
      "text/html": [
       "<div>\n",
       "<style scoped>\n",
       "    .dataframe tbody tr th:only-of-type {\n",
       "        vertical-align: middle;\n",
       "    }\n",
       "\n",
       "    .dataframe tbody tr th {\n",
       "        vertical-align: top;\n",
       "    }\n",
       "\n",
       "    .dataframe thead th {\n",
       "        text-align: right;\n",
       "    }\n",
       "</style>\n",
       "<table border=\"1\" class=\"dataframe\">\n",
       "  <thead>\n",
       "    <tr style=\"text-align: right;\">\n",
       "      <th></th>\n",
       "      <th>Cedula</th>\n",
       "      <th>No_multa</th>\n",
       "      <th>Anio</th>\n",
       "      <th>Mes</th>\n",
       "      <th>Dia</th>\n",
       "      <th>Dia_retiro</th>\n",
       "      <th>Dias_mora</th>\n",
       "      <th>Saldo</th>\n",
       "      <th>Cartera</th>\n",
       "      <th>Segmento</th>\n",
       "      <th>Descripcion</th>\n",
       "      <th>Placa</th>\n",
       "      <th>Pago</th>\n",
       "      <th>dia_pago</th>\n",
       "      <th>tipo</th>\n",
       "    </tr>\n",
       "  </thead>\n",
       "  <tbody>\n",
       "    <tr>\n",
       "      <th>0</th>\n",
       "      <td>00042448K</td>\n",
       "      <td>5722394</td>\n",
       "      <td>2019</td>\n",
       "      <td>3</td>\n",
       "      <td>6</td>\n",
       "      <td>None</td>\n",
       "      <td>135</td>\n",
       "      <td>115.80</td>\n",
       "      <td>CORRIENTE</td>\n",
       "      <td>MULTAS NUEVAS</td>\n",
       "      <td>COND.EXCEDA DENTRO RANGO MODERADO LÍMITES DE V...</td>\n",
       "      <td>GRP0269</td>\n",
       "      <td>None</td>\n",
       "      <td>None</td>\n",
       "      <td>None</td>\n",
       "    </tr>\n",
       "    <tr>\n",
       "      <th>1</th>\n",
       "      <td>100025030</td>\n",
       "      <td>4929258</td>\n",
       "      <td>2019</td>\n",
       "      <td>3</td>\n",
       "      <td>6</td>\n",
       "      <td>None</td>\n",
       "      <td>312</td>\n",
       "      <td>19.30</td>\n",
       "      <td>CORRIENTE</td>\n",
       "      <td>MULTAS NUEVAS</td>\n",
       "      <td>COND. QUE NO UTILICE CINTURON DE SEGURIDAD.</td>\n",
       "      <td>nan</td>\n",
       "      <td>None</td>\n",
       "      <td>None</td>\n",
       "      <td>None</td>\n",
       "    </tr>\n",
       "    <tr>\n",
       "      <th>2</th>\n",
       "      <td>1000400828</td>\n",
       "      <td>5512924</td>\n",
       "      <td>2019</td>\n",
       "      <td>3</td>\n",
       "      <td>8</td>\n",
       "      <td>None</td>\n",
       "      <td>187</td>\n",
       "      <td>115.80</td>\n",
       "      <td>CORRIENTE</td>\n",
       "      <td>MULTAS NUEVAS</td>\n",
       "      <td>COND.EXCEDA DENTRO RANGO MODERADO LÍMITES DE V...</td>\n",
       "      <td>TBF1577</td>\n",
       "      <td>None</td>\n",
       "      <td>None</td>\n",
       "      <td>None</td>\n",
       "    </tr>\n",
       "    <tr>\n",
       "      <th>3</th>\n",
       "      <td>1000558195</td>\n",
       "      <td>6243589</td>\n",
       "      <td>2019</td>\n",
       "      <td>3</td>\n",
       "      <td>6</td>\n",
       "      <td>None</td>\n",
       "      <td>12</td>\n",
       "      <td>394.00</td>\n",
       "      <td>CORRIENTE</td>\n",
       "      <td>5. VENCIDA FASE II</td>\n",
       "      <td>MULTA POR INVASIÓN AL CARRIL DE USO EXCLUSIVO ...</td>\n",
       "      <td>GBN0383</td>\n",
       "      <td>None</td>\n",
       "      <td>None</td>\n",
       "      <td>None</td>\n",
       "    </tr>\n",
       "    <tr>\n",
       "      <th>4</th>\n",
       "      <td>1000559797</td>\n",
       "      <td>4171791</td>\n",
       "      <td>2019</td>\n",
       "      <td>3</td>\n",
       "      <td>6</td>\n",
       "      <td>None</td>\n",
       "      <td>492</td>\n",
       "      <td>56.25</td>\n",
       "      <td>CORRIENTE</td>\n",
       "      <td>MULTAS NUEVAS</td>\n",
       "      <td>DOBLE COLUMNA / ESTACIONAR SITIOS PROHIB. FUER...</td>\n",
       "      <td>LBG0289</td>\n",
       "      <td>None</td>\n",
       "      <td>None</td>\n",
       "      <td>None</td>\n",
       "    </tr>\n",
       "  </tbody>\n",
       "</table>\n",
       "</div>"
      ],
      "text/plain": [
       "       Cedula No_multa  Anio  Mes  Dia Dia_retiro  Dias_mora   Saldo  \\\n",
       "0   00042448K  5722394  2019    3    6       None        135  115.80   \n",
       "1   100025030  4929258  2019    3    6       None        312   19.30   \n",
       "2  1000400828  5512924  2019    3    8       None        187  115.80   \n",
       "3  1000558195  6243589  2019    3    6       None         12  394.00   \n",
       "4  1000559797  4171791  2019    3    6       None        492   56.25   \n",
       "\n",
       "     Cartera            Segmento  \\\n",
       "0  CORRIENTE       MULTAS NUEVAS   \n",
       "1  CORRIENTE       MULTAS NUEVAS   \n",
       "2  CORRIENTE       MULTAS NUEVAS   \n",
       "3  CORRIENTE  5. VENCIDA FASE II   \n",
       "4  CORRIENTE       MULTAS NUEVAS   \n",
       "\n",
       "                                         Descripcion    Placa  Pago dia_pago  \\\n",
       "0  COND.EXCEDA DENTRO RANGO MODERADO LÍMITES DE V...  GRP0269  None     None   \n",
       "1        COND. QUE NO UTILICE CINTURON DE SEGURIDAD.      nan  None     None   \n",
       "2  COND.EXCEDA DENTRO RANGO MODERADO LÍMITES DE V...  TBF1577  None     None   \n",
       "3  MULTA POR INVASIÓN AL CARRIL DE USO EXCLUSIVO ...  GBN0383  None     None   \n",
       "4  DOBLE COLUMNA / ESTACIONAR SITIOS PROHIB. FUER...  LBG0289  None     None   \n",
       "\n",
       "   tipo  \n",
       "0  None  \n",
       "1  None  \n",
       "2  None  \n",
       "3  None  \n",
       "4  None  "
      ]
     },
     "execution_count": 540,
     "metadata": {},
     "output_type": "execute_result"
    }
   ],
   "source": [
    "resultado_multas.head()"
   ]
  },
  {
   "cell_type": "code",
   "execution_count": 541,
   "metadata": {},
   "outputs": [],
   "source": [
    "dias_mora_multa=resultado_multas[['No_multa','Dias_mora']].copy()"
   ]
  },
  {
   "cell_type": "code",
   "execution_count": 542,
   "metadata": {},
   "outputs": [],
   "source": [
    "dias_mora_multa = dias_mora_multa.rename(columns={'No_multa':'ID_FACTURA','Dias_mora':'DIAS_MORA'})\n",
    "dias_mora_multa['ID_FACTURA']=dias_mora_multa['ID_FACTURA'].apply(int)"
   ]
  },
  {
   "cell_type": "code",
   "execution_count": 543,
   "metadata": {},
   "outputs": [
    {
     "data": {
      "text/html": [
       "<div>\n",
       "<style scoped>\n",
       "    .dataframe tbody tr th:only-of-type {\n",
       "        vertical-align: middle;\n",
       "    }\n",
       "\n",
       "    .dataframe tbody tr th {\n",
       "        vertical-align: top;\n",
       "    }\n",
       "\n",
       "    .dataframe thead th {\n",
       "        text-align: right;\n",
       "    }\n",
       "</style>\n",
       "<table border=\"1\" class=\"dataframe\">\n",
       "  <thead>\n",
       "    <tr style=\"text-align: right;\">\n",
       "      <th></th>\n",
       "      <th>ID_FACTURA</th>\n",
       "      <th>DIAS_MORA</th>\n",
       "    </tr>\n",
       "  </thead>\n",
       "  <tbody>\n",
       "    <tr>\n",
       "      <th>0</th>\n",
       "      <td>5722394</td>\n",
       "      <td>135</td>\n",
       "    </tr>\n",
       "    <tr>\n",
       "      <th>1</th>\n",
       "      <td>4929258</td>\n",
       "      <td>312</td>\n",
       "    </tr>\n",
       "    <tr>\n",
       "      <th>2</th>\n",
       "      <td>5512924</td>\n",
       "      <td>187</td>\n",
       "    </tr>\n",
       "    <tr>\n",
       "      <th>3</th>\n",
       "      <td>6243589</td>\n",
       "      <td>12</td>\n",
       "    </tr>\n",
       "    <tr>\n",
       "      <th>4</th>\n",
       "      <td>4171791</td>\n",
       "      <td>492</td>\n",
       "    </tr>\n",
       "  </tbody>\n",
       "</table>\n",
       "</div>"
      ],
      "text/plain": [
       "   ID_FACTURA  DIAS_MORA\n",
       "0     5722394        135\n",
       "1     4929258        312\n",
       "2     5512924        187\n",
       "3     6243589         12\n",
       "4     4171791        492"
      ]
     },
     "execution_count": 543,
     "metadata": {},
     "output_type": "execute_result"
    }
   ],
   "source": [
    "dias_mora_multa.head()"
   ]
  },
  {
   "cell_type": "markdown",
   "metadata": {},
   "source": [
    "# PAGOS"
   ]
  },
  {
   "cell_type": "code",
   "execution_count": 544,
   "metadata": {},
   "outputs": [],
   "source": [
    "pago_corr={\n",
    "    'ruta':'..\\..\\..\\BASES DATATOOLS\\PAGOS\\\\2019\\\\'+F_Mes+'\\Sitema de cobro '+fecha_pago+'.xlsx',\n",
    "    'hoja':'PAGOS_CORRIENTE',\n",
    "    'cartera':'CORRIENTE',\n",
    "    'identificador':'IDENTIFICACION'\n",
    "}\n",
    "\n",
    "pago_cuot={\n",
    "    'ruta':'..\\..\\..\\BASES DATATOOLS\\PAGOS\\\\2019\\\\'+F_Mes+'\\\\Sitema de cobro '+fecha_pago+'.xlsx',\n",
    "    'hoja':'PAGOS_CUOTA_CERO',\n",
    "    'cartera':'CUOTA',\n",
    "    'identificador':'ID'\n",
    "}\n",
    "\n",
    "pago_conv={\n",
    "    'ruta':'..\\..\\..\\BASES DATATOOLS\\PAGOS\\\\2019\\\\'+F_Mes+'\\\\Sitema de cobro '+fecha_pago+'.xlsx',\n",
    "    'hoja':'PAGOS_CONVENIOS',\n",
    "    'cartera':'CONVENIO',\n",
    "    'identificador':'ID'\n",
    "}"
   ]
  },
  {
   "cell_type": "code",
   "execution_count": 545,
   "metadata": {},
   "outputs": [],
   "source": [
    "pagos_corr=pd.read_excel(open(pago_corr['ruta'],'rb'), sheet_name=pago_corr['hoja'], dtype={pago_corr['identificador']: str})\n",
    "pagos_cuot=pd.read_excel(open(pago_cuot['ruta'],'rb'), sheet_name=pago_cuot['hoja'], dtype={pago_cuot['identificador']: str})\n",
    "pagos_conv=pd.read_excel(open(pago_conv['ruta'],'rb'), sheet_name=pago_conv['hoja'], dtype={pago_conv['identificador']: str})"
   ]
  },
  {
   "cell_type": "code",
   "execution_count": 546,
   "metadata": {},
   "outputs": [],
   "source": [
    "def agregar_ceros(base):\n",
    "    ced=base['ID']\n",
    "    if len(ced)==9 or len(ced)==12 :\n",
    "        if ced.isdigit():\n",
    "            return '0'+ced\n",
    "    return ced"
   ]
  },
  {
   "cell_type": "code",
   "execution_count": 547,
   "metadata": {},
   "outputs": [],
   "source": [
    "pagos_cuot['ID']=pagos_cuot.apply(agregar_ceros,axis=1)"
   ]
  },
  {
   "cell_type": "markdown",
   "metadata": {},
   "source": [
    "### CORRIENTE"
   ]
  },
  {
   "cell_type": "code",
   "execution_count": 548,
   "metadata": {},
   "outputs": [],
   "source": [
    "def agregar_ceros2(base):\n",
    "    ced=base['IDENTIFICACION']\n",
    "    if len(ced)==9 or len(ced)==12 :\n",
    "        if ced.isdigit():\n",
    "            return '0'+ced\n",
    "    return ced"
   ]
  },
  {
   "cell_type": "code",
   "execution_count": 549,
   "metadata": {},
   "outputs": [],
   "source": [
    "pagos_corr['IDENTIFICACION']=pagos_corr.apply(agregar_ceros2,axis=1)"
   ]
  },
  {
   "cell_type": "code",
   "execution_count": 550,
   "metadata": {},
   "outputs": [],
   "source": [
    "def tipo(base):\n",
    "    casa=base['CASA_COBRO']\n",
    "    if casa=='SISTEMA SALDO MENORES':\n",
    "        return 'MENORES'\n",
    "    else:\n",
    "        return 'CORRIENTE'"
   ]
  },
  {
   "cell_type": "code",
   "execution_count": 551,
   "metadata": {},
   "outputs": [
    {
     "data": {
      "text/html": [
       "<div>\n",
       "<style scoped>\n",
       "    .dataframe tbody tr th:only-of-type {\n",
       "        vertical-align: middle;\n",
       "    }\n",
       "\n",
       "    .dataframe tbody tr th {\n",
       "        vertical-align: top;\n",
       "    }\n",
       "\n",
       "    .dataframe thead th {\n",
       "        text-align: right;\n",
       "    }\n",
       "</style>\n",
       "<table border=\"1\" class=\"dataframe\">\n",
       "  <thead>\n",
       "    <tr style=\"text-align: right;\">\n",
       "      <th></th>\n",
       "      <th>IDENTIFICACION</th>\n",
       "      <th>ID_FACTURA</th>\n",
       "      <th>VALOR_INFRACCION</th>\n",
       "      <th>FECHA_PAGO</th>\n",
       "      <th>DIA_PAGO</th>\n",
       "      <th>TIPO</th>\n",
       "      <th>DIAS_MORA</th>\n",
       "    </tr>\n",
       "  </thead>\n",
       "  <tbody>\n",
       "    <tr>\n",
       "      <th>0</th>\n",
       "      <td>1804423620</td>\n",
       "      <td>5579784</td>\n",
       "      <td>19.3</td>\n",
       "      <td>2019-03-06</td>\n",
       "      <td>6</td>\n",
       "      <td>CORRIENTE</td>\n",
       "      <td>169</td>\n",
       "    </tr>\n",
       "    <tr>\n",
       "      <th>1</th>\n",
       "      <td>0600890420</td>\n",
       "      <td>5940627</td>\n",
       "      <td>115.8</td>\n",
       "      <td>2019-03-06</td>\n",
       "      <td>6</td>\n",
       "      <td>CORRIENTE</td>\n",
       "      <td>81</td>\n",
       "    </tr>\n",
       "    <tr>\n",
       "      <th>2</th>\n",
       "      <td>2400196073</td>\n",
       "      <td>5216205</td>\n",
       "      <td>57.9</td>\n",
       "      <td>2019-03-06</td>\n",
       "      <td>6</td>\n",
       "      <td>CORRIENTE</td>\n",
       "      <td>248</td>\n",
       "    </tr>\n",
       "    <tr>\n",
       "      <th>3</th>\n",
       "      <td>0916739592</td>\n",
       "      <td>5327448</td>\n",
       "      <td>57.9</td>\n",
       "      <td>2019-03-06</td>\n",
       "      <td>6</td>\n",
       "      <td>CORRIENTE</td>\n",
       "      <td>224</td>\n",
       "    </tr>\n",
       "    <tr>\n",
       "      <th>4</th>\n",
       "      <td>0201142536</td>\n",
       "      <td>5543813</td>\n",
       "      <td>57.9</td>\n",
       "      <td>2019-03-06</td>\n",
       "      <td>6</td>\n",
       "      <td>CORRIENTE</td>\n",
       "      <td>177</td>\n",
       "    </tr>\n",
       "  </tbody>\n",
       "</table>\n",
       "</div>"
      ],
      "text/plain": [
       "  IDENTIFICACION  ID_FACTURA  VALOR_INFRACCION FECHA_PAGO  DIA_PAGO  \\\n",
       "0     1804423620     5579784              19.3 2019-03-06         6   \n",
       "1     0600890420     5940627             115.8 2019-03-06         6   \n",
       "2     2400196073     5216205              57.9 2019-03-06         6   \n",
       "3     0916739592     5327448              57.9 2019-03-06         6   \n",
       "4     0201142536     5543813              57.9 2019-03-06         6   \n",
       "\n",
       "        TIPO  DIAS_MORA  \n",
       "0  CORRIENTE        169  \n",
       "1  CORRIENTE         81  \n",
       "2  CORRIENTE        248  \n",
       "3  CORRIENTE        224  \n",
       "4  CORRIENTE        177  "
      ]
     },
     "execution_count": 551,
     "metadata": {},
     "output_type": "execute_result"
    }
   ],
   "source": [
    "pagos_corr['DIA_PAGO'] = pagos_corr['FECHA_PAGO'].dt.day\n",
    "pagos_corr = pagos_corr.rename(columns={'CASA COBRO':'CASA_COBRO'})\n",
    "pagos_corr['TIPO']=pagos_corr.apply(tipo,axis=1)\n",
    "cruce_pag_corr=pd.merge(pagos_corr,dias_mora_multa,on=['ID_FACTURA'],how='left')\n",
    "cruce_pag_corr=cruce_pag_corr[['IDENTIFICACION','ID_FACTURA','VALOR_INFRACCION','FECHA_PAGO','DIA_PAGO','TIPO','DIAS_MORA']]\n",
    "cruce_pag_corr.head()"
   ]
  },
  {
   "cell_type": "markdown",
   "metadata": {},
   "source": [
    "## MENORES"
   ]
  },
  {
   "cell_type": "code",
   "execution_count": 552,
   "metadata": {},
   "outputs": [],
   "source": [
    "def identificar_pago(base):\n",
    "    valor1 = base['VALOR_INFRACCION']\n",
    "    valor2 = base['VALOR_PAGO_CAPITAL']\n",
    "    mora = base['DIAS_MORA']\n",
    "    if mora<=180:\n",
    "        return valor2\n",
    "    return valor1"
   ]
  },
  {
   "cell_type": "code",
   "execution_count": 553,
   "metadata": {},
   "outputs": [
    {
     "data": {
      "text/html": [
       "<div>\n",
       "<style scoped>\n",
       "    .dataframe tbody tr th:only-of-type {\n",
       "        vertical-align: middle;\n",
       "    }\n",
       "\n",
       "    .dataframe tbody tr th {\n",
       "        vertical-align: top;\n",
       "    }\n",
       "\n",
       "    .dataframe thead th {\n",
       "        text-align: right;\n",
       "    }\n",
       "</style>\n",
       "<table border=\"1\" class=\"dataframe\">\n",
       "  <thead>\n",
       "    <tr style=\"text-align: right;\">\n",
       "      <th></th>\n",
       "      <th>IDENTIFICACION</th>\n",
       "      <th>ID_FACTURA</th>\n",
       "      <th>VALOR_INFRACCION</th>\n",
       "      <th>FECHA_PAGO</th>\n",
       "      <th>DIA_PAGO</th>\n",
       "      <th>TIPO</th>\n",
       "      <th>DIAS_MORA</th>\n",
       "    </tr>\n",
       "  </thead>\n",
       "  <tbody>\n",
       "    <tr>\n",
       "      <th>0</th>\n",
       "      <td>0300694957</td>\n",
       "      <td>1434635</td>\n",
       "      <td>732.00</td>\n",
       "      <td>2019-03-06 14:01:58</td>\n",
       "      <td>6</td>\n",
       "      <td>CUOTA</td>\n",
       "      <td>1141</td>\n",
       "    </tr>\n",
       "    <tr>\n",
       "      <th>1</th>\n",
       "      <td>0906777818</td>\n",
       "      <td>6225502</td>\n",
       "      <td>30.00</td>\n",
       "      <td>2019-03-06 12:59:37</td>\n",
       "      <td>6</td>\n",
       "      <td>CUOTA</td>\n",
       "      <td>15</td>\n",
       "    </tr>\n",
       "    <tr>\n",
       "      <th>2</th>\n",
       "      <td>0908016892</td>\n",
       "      <td>5158093</td>\n",
       "      <td>57.90</td>\n",
       "      <td>2019-03-07 09:20:35</td>\n",
       "      <td>7</td>\n",
       "      <td>CUOTA</td>\n",
       "      <td>259</td>\n",
       "    </tr>\n",
       "    <tr>\n",
       "      <th>3</th>\n",
       "      <td>0914839717</td>\n",
       "      <td>6266667</td>\n",
       "      <td>600.02</td>\n",
       "      <td>2019-03-06 10:08:46</td>\n",
       "      <td>6</td>\n",
       "      <td>CUOTA</td>\n",
       "      <td>16</td>\n",
       "    </tr>\n",
       "    <tr>\n",
       "      <th>4</th>\n",
       "      <td>0916000011</td>\n",
       "      <td>6094543</td>\n",
       "      <td>23.64</td>\n",
       "      <td>2019-03-06 13:46:38</td>\n",
       "      <td>6</td>\n",
       "      <td>CUOTA</td>\n",
       "      <td>49</td>\n",
       "    </tr>\n",
       "  </tbody>\n",
       "</table>\n",
       "</div>"
      ],
      "text/plain": [
       "  IDENTIFICACION  ID_FACTURA  VALOR_INFRACCION          FECHA_PAGO  DIA_PAGO  \\\n",
       "0     0300694957     1434635            732.00 2019-03-06 14:01:58         6   \n",
       "1     0906777818     6225502             30.00 2019-03-06 12:59:37         6   \n",
       "2     0908016892     5158093             57.90 2019-03-07 09:20:35         7   \n",
       "3     0914839717     6266667            600.02 2019-03-06 10:08:46         6   \n",
       "4     0916000011     6094543             23.64 2019-03-06 13:46:38         6   \n",
       "\n",
       "    TIPO  DIAS_MORA  \n",
       "0  CUOTA       1141  \n",
       "1  CUOTA         15  \n",
       "2  CUOTA        259  \n",
       "3  CUOTA         16  \n",
       "4  CUOTA         49  "
      ]
     },
     "execution_count": 553,
     "metadata": {},
     "output_type": "execute_result"
    }
   ],
   "source": [
    "pagos_cuot['TIPO']='CUOTA'\n",
    "pagos_cuot['DIA_PAGO'] = pagos_cuot['FECHA_RE'].dt.day\n",
    "pagos_cuot['MONTO_PAGO']=pagos_cuot.apply(identificar_pago,axis=1)\n",
    "pagos_cuot_resumen=pagos_cuot[['ID','ID_FACTURA_INICIAL','MONTO_PAGO','FECHA_RE','DIA_PAGO','TIPO']]\n",
    "pagos_cuot_resumen = pagos_cuot_resumen.rename(columns={'ID':'IDENTIFICACION','ID_FACTURA_INICIAL':'ID_FACTURA','MONTO_PAGO':'VALOR_INFRACCION','FECHA_RE':'FECHA_PAGO'})\n",
    "cruce_pag_cuot=pd.merge(pagos_cuot_resumen,dias_mora_multa,on=['ID_FACTURA'],how='left')\n",
    "cruce_pag_cuot.head()"
   ]
  },
  {
   "cell_type": "code",
   "execution_count": 554,
   "metadata": {},
   "outputs": [
    {
     "data": {
      "text/plain": [
       "Index(['IDENTIFICACION', 'ID_FACTURA', 'VALOR_INFRACCION', 'FECHA_PAGO',\n",
       "       'DIA_PAGO', 'TIPO', 'DIAS_MORA'],\n",
       "      dtype='object')"
      ]
     },
     "execution_count": 554,
     "metadata": {},
     "output_type": "execute_result"
    }
   ],
   "source": [
    "cruce_pag_cuot.columns"
   ]
  },
  {
   "cell_type": "markdown",
   "metadata": {},
   "source": [
    "# CONVENIO"
   ]
  },
  {
   "cell_type": "code",
   "execution_count": 555,
   "metadata": {},
   "outputs": [],
   "source": [
    "def agregar_ceros3(base):\n",
    "    ced=base['ID']\n",
    "    if len(ced)==9 or len(ced)==12:\n",
    "        if ced.isdigit():\n",
    "            return '0'+ced\n",
    "    return ced"
   ]
  },
  {
   "cell_type": "code",
   "execution_count": 556,
   "metadata": {},
   "outputs": [],
   "source": [
    "pagos_conv['TIPO']='CONVENIO'\n",
    "pagos_conv['DIA_PAGO'] = pagos_conv['FECHA_PAGO'].dt.day"
   ]
  },
  {
   "cell_type": "code",
   "execution_count": 557,
   "metadata": {},
   "outputs": [],
   "source": [
    "pagos_conv['ID']=pagos_conv.apply(agregar_ceros3,axis=1)"
   ]
  },
  {
   "cell_type": "code",
   "execution_count": 558,
   "metadata": {},
   "outputs": [
    {
     "data": {
      "text/html": [
       "<div>\n",
       "<style scoped>\n",
       "    .dataframe tbody tr th:only-of-type {\n",
       "        vertical-align: middle;\n",
       "    }\n",
       "\n",
       "    .dataframe tbody tr th {\n",
       "        vertical-align: top;\n",
       "    }\n",
       "\n",
       "    .dataframe thead th {\n",
       "        text-align: right;\n",
       "    }\n",
       "</style>\n",
       "<table border=\"1\" class=\"dataframe\">\n",
       "  <thead>\n",
       "    <tr style=\"text-align: right;\">\n",
       "      <th></th>\n",
       "      <th>ID</th>\n",
       "      <th>ID_CONVENIO</th>\n",
       "      <th>NRO_CUOTA_EMISION</th>\n",
       "      <th>VALOR_PAGAR_CUOTA</th>\n",
       "      <th>FECHA_PAGO</th>\n",
       "      <th>FECHA_VENCIMIENTO</th>\n",
       "      <th>CASA COBRO</th>\n",
       "      <th>TIPO</th>\n",
       "      <th>DIA_PAGO</th>\n",
       "    </tr>\n",
       "  </thead>\n",
       "  <tbody>\n",
       "    <tr>\n",
       "      <th>0</th>\n",
       "      <td>0919454710</td>\n",
       "      <td>291961</td>\n",
       "      <td>2</td>\n",
       "      <td>59.64</td>\n",
       "      <td>2019-03-01</td>\n",
       "      <td>2018-02-26</td>\n",
       "      <td>SISTEMA DE COBRO DEL ECUADOR</td>\n",
       "      <td>CONVENIO</td>\n",
       "      <td>1</td>\n",
       "    </tr>\n",
       "    <tr>\n",
       "      <th>1</th>\n",
       "      <td>0919454710</td>\n",
       "      <td>291961</td>\n",
       "      <td>1</td>\n",
       "      <td>59.64</td>\n",
       "      <td>2019-03-01</td>\n",
       "      <td>2018-01-26</td>\n",
       "      <td>SISTEMA DE COBRO DEL ECUADOR</td>\n",
       "      <td>CONVENIO</td>\n",
       "      <td>1</td>\n",
       "    </tr>\n",
       "    <tr>\n",
       "      <th>2</th>\n",
       "      <td>0919454710</td>\n",
       "      <td>291961</td>\n",
       "      <td>5</td>\n",
       "      <td>59.64</td>\n",
       "      <td>2019-03-01</td>\n",
       "      <td>2018-05-26</td>\n",
       "      <td>SISTEMA DE COBRO DEL ECUADOR</td>\n",
       "      <td>CONVENIO</td>\n",
       "      <td>1</td>\n",
       "    </tr>\n",
       "    <tr>\n",
       "      <th>3</th>\n",
       "      <td>0919454710</td>\n",
       "      <td>291961</td>\n",
       "      <td>3</td>\n",
       "      <td>59.64</td>\n",
       "      <td>2019-03-01</td>\n",
       "      <td>2018-03-26</td>\n",
       "      <td>SISTEMA DE COBRO DEL ECUADOR</td>\n",
       "      <td>CONVENIO</td>\n",
       "      <td>1</td>\n",
       "    </tr>\n",
       "    <tr>\n",
       "      <th>4</th>\n",
       "      <td>0919454710</td>\n",
       "      <td>291961</td>\n",
       "      <td>4</td>\n",
       "      <td>59.64</td>\n",
       "      <td>2019-03-01</td>\n",
       "      <td>2018-04-26</td>\n",
       "      <td>SISTEMA DE COBRO DEL ECUADOR</td>\n",
       "      <td>CONVENIO</td>\n",
       "      <td>1</td>\n",
       "    </tr>\n",
       "  </tbody>\n",
       "</table>\n",
       "</div>"
      ],
      "text/plain": [
       "           ID  ID_CONVENIO  NRO_CUOTA_EMISION  VALOR_PAGAR_CUOTA FECHA_PAGO  \\\n",
       "0  0919454710       291961                  2              59.64 2019-03-01   \n",
       "1  0919454710       291961                  1              59.64 2019-03-01   \n",
       "2  0919454710       291961                  5              59.64 2019-03-01   \n",
       "3  0919454710       291961                  3              59.64 2019-03-01   \n",
       "4  0919454710       291961                  4              59.64 2019-03-01   \n",
       "\n",
       "  FECHA_VENCIMIENTO                    CASA COBRO      TIPO  DIA_PAGO  \n",
       "0        2018-02-26  SISTEMA DE COBRO DEL ECUADOR  CONVENIO         1  \n",
       "1        2018-01-26  SISTEMA DE COBRO DEL ECUADOR  CONVENIO         1  \n",
       "2        2018-05-26  SISTEMA DE COBRO DEL ECUADOR  CONVENIO         1  \n",
       "3        2018-03-26  SISTEMA DE COBRO DEL ECUADOR  CONVENIO         1  \n",
       "4        2018-04-26  SISTEMA DE COBRO DEL ECUADOR  CONVENIO         1  "
      ]
     },
     "execution_count": 558,
     "metadata": {},
     "output_type": "execute_result"
    }
   ],
   "source": [
    "pagos_conv.head()"
   ]
  },
  {
   "cell_type": "code",
   "execution_count": 559,
   "metadata": {},
   "outputs": [],
   "source": [
    "pagos_conv_resumen=pagos_conv[['ID','ID_CONVENIO','VALOR_PAGAR_CUOTA','FECHA_PAGO','DIA_PAGO','TIPO','NRO_CUOTA_EMISION']]\n",
    "pagos_conv_resumen = pagos_conv_resumen.rename(columns={'ID':'IDENTIFICACION','ID_CONVENIO':'ID_FACTURA','VALOR_PAGAR_CUOTA':'VALOR_INFRACCION','NRO_CUOTA_EMISION':'DIAS_MORA'})\n",
    "\n",
    "cruce_pag_conv=pd.merge(pagos_conv_resumen,gestion_asesor_cuotas,on=['IDENTIFICACION'],how='left')"
   ]
  },
  {
   "cell_type": "code",
   "execution_count": 560,
   "metadata": {},
   "outputs": [
    {
     "data": {
      "text/html": [
       "<div>\n",
       "<style scoped>\n",
       "    .dataframe tbody tr th:only-of-type {\n",
       "        vertical-align: middle;\n",
       "    }\n",
       "\n",
       "    .dataframe tbody tr th {\n",
       "        vertical-align: top;\n",
       "    }\n",
       "\n",
       "    .dataframe thead th {\n",
       "        text-align: right;\n",
       "    }\n",
       "</style>\n",
       "<table border=\"1\" class=\"dataframe\">\n",
       "  <thead>\n",
       "    <tr style=\"text-align: right;\">\n",
       "      <th></th>\n",
       "      <th>IDENTIFICACION</th>\n",
       "      <th>ID_FACTURA</th>\n",
       "      <th>VALOR_INFRACCION</th>\n",
       "      <th>FECHA_PAGO</th>\n",
       "      <th>DIA_PAGO</th>\n",
       "      <th>TIPO</th>\n",
       "      <th>DIAS_MORA</th>\n",
       "      <th>COD_AGENTE</th>\n",
       "      <th>FECHA_GESTION</th>\n",
       "      <th>CONTACTO_GESTIONO</th>\n",
       "      <th>ACCION_REALIZADA</th>\n",
       "      <th>RESPUESTA_OBTENIDA</th>\n",
       "      <th>NUMERO_GESTION</th>\n",
       "    </tr>\n",
       "  </thead>\n",
       "  <tbody>\n",
       "    <tr>\n",
       "      <th>0</th>\n",
       "      <td>0919454710</td>\n",
       "      <td>291961</td>\n",
       "      <td>59.64</td>\n",
       "      <td>2019-03-01</td>\n",
       "      <td>1</td>\n",
       "      <td>CONVENIO</td>\n",
       "      <td>2</td>\n",
       "      <td>NaN</td>\n",
       "      <td>NaN</td>\n",
       "      <td>NaN</td>\n",
       "      <td>NaN</td>\n",
       "      <td>NaN</td>\n",
       "      <td>NaN</td>\n",
       "    </tr>\n",
       "    <tr>\n",
       "      <th>1</th>\n",
       "      <td>0919454710</td>\n",
       "      <td>291961</td>\n",
       "      <td>59.64</td>\n",
       "      <td>2019-03-01</td>\n",
       "      <td>1</td>\n",
       "      <td>CONVENIO</td>\n",
       "      <td>1</td>\n",
       "      <td>NaN</td>\n",
       "      <td>NaN</td>\n",
       "      <td>NaN</td>\n",
       "      <td>NaN</td>\n",
       "      <td>NaN</td>\n",
       "      <td>NaN</td>\n",
       "    </tr>\n",
       "    <tr>\n",
       "      <th>2</th>\n",
       "      <td>0919454710</td>\n",
       "      <td>291961</td>\n",
       "      <td>59.64</td>\n",
       "      <td>2019-03-01</td>\n",
       "      <td>1</td>\n",
       "      <td>CONVENIO</td>\n",
       "      <td>5</td>\n",
       "      <td>NaN</td>\n",
       "      <td>NaN</td>\n",
       "      <td>NaN</td>\n",
       "      <td>NaN</td>\n",
       "      <td>NaN</td>\n",
       "      <td>NaN</td>\n",
       "    </tr>\n",
       "    <tr>\n",
       "      <th>3</th>\n",
       "      <td>0919454710</td>\n",
       "      <td>291961</td>\n",
       "      <td>59.64</td>\n",
       "      <td>2019-03-01</td>\n",
       "      <td>1</td>\n",
       "      <td>CONVENIO</td>\n",
       "      <td>3</td>\n",
       "      <td>NaN</td>\n",
       "      <td>NaN</td>\n",
       "      <td>NaN</td>\n",
       "      <td>NaN</td>\n",
       "      <td>NaN</td>\n",
       "      <td>NaN</td>\n",
       "    </tr>\n",
       "    <tr>\n",
       "      <th>4</th>\n",
       "      <td>0919454710</td>\n",
       "      <td>291961</td>\n",
       "      <td>59.64</td>\n",
       "      <td>2019-03-01</td>\n",
       "      <td>1</td>\n",
       "      <td>CONVENIO</td>\n",
       "      <td>4</td>\n",
       "      <td>NaN</td>\n",
       "      <td>NaN</td>\n",
       "      <td>NaN</td>\n",
       "      <td>NaN</td>\n",
       "      <td>NaN</td>\n",
       "      <td>NaN</td>\n",
       "    </tr>\n",
       "  </tbody>\n",
       "</table>\n",
       "</div>"
      ],
      "text/plain": [
       "  IDENTIFICACION  ID_FACTURA  VALOR_INFRACCION FECHA_PAGO  DIA_PAGO      TIPO  \\\n",
       "0     0919454710      291961             59.64 2019-03-01         1  CONVENIO   \n",
       "1     0919454710      291961             59.64 2019-03-01         1  CONVENIO   \n",
       "2     0919454710      291961             59.64 2019-03-01         1  CONVENIO   \n",
       "3     0919454710      291961             59.64 2019-03-01         1  CONVENIO   \n",
       "4     0919454710      291961             59.64 2019-03-01         1  CONVENIO   \n",
       "\n",
       "   DIAS_MORA COD_AGENTE  FECHA_GESTION CONTACTO_GESTIONO ACCION_REALIZADA  \\\n",
       "0          2        NaN            NaN               NaN              NaN   \n",
       "1          1        NaN            NaN               NaN              NaN   \n",
       "2          5        NaN            NaN               NaN              NaN   \n",
       "3          3        NaN            NaN               NaN              NaN   \n",
       "4          4        NaN            NaN               NaN              NaN   \n",
       "\n",
       "  RESPUESTA_OBTENIDA NUMERO_GESTION  \n",
       "0                NaN            NaN  \n",
       "1                NaN            NaN  \n",
       "2                NaN            NaN  \n",
       "3                NaN            NaN  \n",
       "4                NaN            NaN  "
      ]
     },
     "execution_count": 560,
     "metadata": {},
     "output_type": "execute_result"
    }
   ],
   "source": [
    "cruce_pag_conv.head()"
   ]
  },
  {
   "cell_type": "code",
   "execution_count": 561,
   "metadata": {},
   "outputs": [],
   "source": [
    "#cruce_pag_conv=cruce_pag_conv[['IDENTIFICACION', 'ID_FACTURA', 'VALOR_INFRACCION', 'FECHA_PAGO','DIA_PAGO', 'TIPO', 'DIAS_MORA']]"
   ]
  },
  {
   "cell_type": "markdown",
   "metadata": {},
   "source": [
    "## UNIR LOS PAGOS"
   ]
  },
  {
   "cell_type": "code",
   "execution_count": 562,
   "metadata": {},
   "outputs": [],
   "source": [
    "pagos=[cruce_pag_cuot,cruce_pag_corr]\n",
    "total_pagos=pd.concat(pagos)"
   ]
  },
  {
   "cell_type": "code",
   "execution_count": 563,
   "metadata": {},
   "outputs": [
    {
     "data": {
      "text/plain": [
       "CORRIENTE    1853\n",
       "CUOTA         681\n",
       "Name: TIPO, dtype: int64"
      ]
     },
     "execution_count": 563,
     "metadata": {},
     "output_type": "execute_result"
    }
   ],
   "source": [
    "total_pagos['TIPO'].value_counts()"
   ]
  },
  {
   "cell_type": "code",
   "execution_count": 564,
   "metadata": {},
   "outputs": [],
   "source": [
    "def honorarios(base):\n",
    "    tipo=base['TIPO']\n",
    "    mora=base['DIAS_MORA']\n",
    "    valor=base['VALOR_INFRACCION']\n",
    "    if tipo=='CONVENIO':\n",
    "        return valor*0.035\n",
    "    if tipo=='CUOTA'and mora>180:\n",
    "        return valor*0.05\n",
    "    if mora<61:\n",
    "        return valor*0.02\n",
    "    if mora<181:\n",
    "        return valor*0.04\n",
    "    if mora<361:\n",
    "        return valor*0.05\n",
    "    if mora>360:\n",
    "        return valor*0.06\n",
    "    return 0.0"
   ]
  },
  {
   "cell_type": "code",
   "execution_count": 565,
   "metadata": {},
   "outputs": [
    {
     "data": {
      "text/html": [
       "<div>\n",
       "<style scoped>\n",
       "    .dataframe tbody tr th:only-of-type {\n",
       "        vertical-align: middle;\n",
       "    }\n",
       "\n",
       "    .dataframe tbody tr th {\n",
       "        vertical-align: top;\n",
       "    }\n",
       "\n",
       "    .dataframe thead th {\n",
       "        text-align: right;\n",
       "    }\n",
       "</style>\n",
       "<table border=\"1\" class=\"dataframe\">\n",
       "  <thead>\n",
       "    <tr style=\"text-align: right;\">\n",
       "      <th></th>\n",
       "      <th>IDENTIFICACION</th>\n",
       "      <th>ID_FACTURA</th>\n",
       "      <th>VALOR_INFRACCION</th>\n",
       "      <th>FECHA_PAGO</th>\n",
       "      <th>DIA_PAGO</th>\n",
       "      <th>TIPO</th>\n",
       "      <th>DIAS_MORA</th>\n",
       "      <th>HONORARIOS</th>\n",
       "    </tr>\n",
       "  </thead>\n",
       "  <tbody>\n",
       "    <tr>\n",
       "      <th>0</th>\n",
       "      <td>0300694957</td>\n",
       "      <td>1434635</td>\n",
       "      <td>732.00</td>\n",
       "      <td>2019-03-06 14:01:58</td>\n",
       "      <td>6</td>\n",
       "      <td>CUOTA</td>\n",
       "      <td>1141</td>\n",
       "      <td>36.6000</td>\n",
       "    </tr>\n",
       "    <tr>\n",
       "      <th>1</th>\n",
       "      <td>0906777818</td>\n",
       "      <td>6225502</td>\n",
       "      <td>30.00</td>\n",
       "      <td>2019-03-06 12:59:37</td>\n",
       "      <td>6</td>\n",
       "      <td>CUOTA</td>\n",
       "      <td>15</td>\n",
       "      <td>0.6000</td>\n",
       "    </tr>\n",
       "    <tr>\n",
       "      <th>2</th>\n",
       "      <td>0908016892</td>\n",
       "      <td>5158093</td>\n",
       "      <td>57.90</td>\n",
       "      <td>2019-03-07 09:20:35</td>\n",
       "      <td>7</td>\n",
       "      <td>CUOTA</td>\n",
       "      <td>259</td>\n",
       "      <td>2.8950</td>\n",
       "    </tr>\n",
       "    <tr>\n",
       "      <th>3</th>\n",
       "      <td>0914839717</td>\n",
       "      <td>6266667</td>\n",
       "      <td>600.02</td>\n",
       "      <td>2019-03-06 10:08:46</td>\n",
       "      <td>6</td>\n",
       "      <td>CUOTA</td>\n",
       "      <td>16</td>\n",
       "      <td>12.0004</td>\n",
       "    </tr>\n",
       "    <tr>\n",
       "      <th>4</th>\n",
       "      <td>0916000011</td>\n",
       "      <td>6094543</td>\n",
       "      <td>23.64</td>\n",
       "      <td>2019-03-06 13:46:38</td>\n",
       "      <td>6</td>\n",
       "      <td>CUOTA</td>\n",
       "      <td>49</td>\n",
       "      <td>0.4728</td>\n",
       "    </tr>\n",
       "  </tbody>\n",
       "</table>\n",
       "</div>"
      ],
      "text/plain": [
       "  IDENTIFICACION  ID_FACTURA  VALOR_INFRACCION          FECHA_PAGO  DIA_PAGO  \\\n",
       "0     0300694957     1434635            732.00 2019-03-06 14:01:58         6   \n",
       "1     0906777818     6225502             30.00 2019-03-06 12:59:37         6   \n",
       "2     0908016892     5158093             57.90 2019-03-07 09:20:35         7   \n",
       "3     0914839717     6266667            600.02 2019-03-06 10:08:46         6   \n",
       "4     0916000011     6094543             23.64 2019-03-06 13:46:38         6   \n",
       "\n",
       "    TIPO  DIAS_MORA  HONORARIOS  \n",
       "0  CUOTA       1141     36.6000  \n",
       "1  CUOTA         15      0.6000  \n",
       "2  CUOTA        259      2.8950  \n",
       "3  CUOTA         16     12.0004  \n",
       "4  CUOTA         49      0.4728  "
      ]
     },
     "execution_count": 565,
     "metadata": {},
     "output_type": "execute_result"
    }
   ],
   "source": [
    "total_pagos['HONORARIOS']=total_pagos.apply(honorarios,axis=1)\n",
    "total_pagos.head()"
   ]
  },
  {
   "cell_type": "code",
   "execution_count": 566,
   "metadata": {},
   "outputs": [
    {
     "data": {
      "text/plain": [
       "CORRIENTE    1853\n",
       "CUOTA         681\n",
       "Name: TIPO, dtype: int64"
      ]
     },
     "execution_count": 566,
     "metadata": {},
     "output_type": "execute_result"
    }
   ],
   "source": [
    "total_pagos['TIPO'].value_counts()"
   ]
  },
  {
   "cell_type": "markdown",
   "metadata": {},
   "source": [
    "## CRUCE CON GESTIONES"
   ]
  },
  {
   "cell_type": "code",
   "execution_count": 567,
   "metadata": {},
   "outputs": [],
   "source": [
    "cruce_honorario=pd.merge(total_pagos,total_gestiones,on=['IDENTIFICACION'],how='left')"
   ]
  },
  {
   "cell_type": "code",
   "execution_count": 568,
   "metadata": {},
   "outputs": [
    {
     "data": {
      "text/html": [
       "<div>\n",
       "<style scoped>\n",
       "    .dataframe tbody tr th:only-of-type {\n",
       "        vertical-align: middle;\n",
       "    }\n",
       "\n",
       "    .dataframe tbody tr th {\n",
       "        vertical-align: top;\n",
       "    }\n",
       "\n",
       "    .dataframe thead th {\n",
       "        text-align: right;\n",
       "    }\n",
       "</style>\n",
       "<table border=\"1\" class=\"dataframe\">\n",
       "  <thead>\n",
       "    <tr style=\"text-align: right;\">\n",
       "      <th></th>\n",
       "      <th>IDENTIFICACION</th>\n",
       "      <th>ID_FACTURA</th>\n",
       "      <th>VALOR_INFRACCION</th>\n",
       "      <th>FECHA_PAGO</th>\n",
       "      <th>DIA_PAGO</th>\n",
       "      <th>TIPO</th>\n",
       "      <th>DIAS_MORA</th>\n",
       "      <th>HONORARIOS</th>\n",
       "      <th>COD_AGENTE</th>\n",
       "      <th>FECHA_GESTION</th>\n",
       "      <th>CONTACTO_GESTIONO</th>\n",
       "      <th>ACCION_REALIZADA</th>\n",
       "      <th>RESPUESTA_OBTENIDA</th>\n",
       "      <th>NUMERO_GESTION</th>\n",
       "    </tr>\n",
       "  </thead>\n",
       "  <tbody>\n",
       "    <tr>\n",
       "      <th>0</th>\n",
       "      <td>0300694957</td>\n",
       "      <td>1434635</td>\n",
       "      <td>732.00</td>\n",
       "      <td>2019-03-06 14:01:58</td>\n",
       "      <td>6</td>\n",
       "      <td>CUOTA</td>\n",
       "      <td>1141</td>\n",
       "      <td>36.6000</td>\n",
       "      <td>NaN</td>\n",
       "      <td>NaN</td>\n",
       "      <td>NaN</td>\n",
       "      <td>NaN</td>\n",
       "      <td>NaN</td>\n",
       "      <td>NaN</td>\n",
       "    </tr>\n",
       "    <tr>\n",
       "      <th>1</th>\n",
       "      <td>0906777818</td>\n",
       "      <td>6225502</td>\n",
       "      <td>30.00</td>\n",
       "      <td>2019-03-06 12:59:37</td>\n",
       "      <td>6</td>\n",
       "      <td>CUOTA</td>\n",
       "      <td>15</td>\n",
       "      <td>0.6000</td>\n",
       "      <td>D05554</td>\n",
       "      <td>6.0</td>\n",
       "      <td>TITULAR</td>\n",
       "      <td>ENVIAR SMS</td>\n",
       "      <td>SMS ENVIADO</td>\n",
       "      <td>0980098603</td>\n",
       "    </tr>\n",
       "    <tr>\n",
       "      <th>2</th>\n",
       "      <td>0908016892</td>\n",
       "      <td>5158093</td>\n",
       "      <td>57.90</td>\n",
       "      <td>2019-03-07 09:20:35</td>\n",
       "      <td>7</td>\n",
       "      <td>CUOTA</td>\n",
       "      <td>259</td>\n",
       "      <td>2.8950</td>\n",
       "      <td>D013143</td>\n",
       "      <td>6.0</td>\n",
       "      <td>TITULAR</td>\n",
       "      <td>HACER LLAMADA</td>\n",
       "      <td>ACUERDO DE CONVENIO</td>\n",
       "      <td>0939210577</td>\n",
       "    </tr>\n",
       "    <tr>\n",
       "      <th>3</th>\n",
       "      <td>0914839717</td>\n",
       "      <td>6266667</td>\n",
       "      <td>600.02</td>\n",
       "      <td>2019-03-06 10:08:46</td>\n",
       "      <td>6</td>\n",
       "      <td>CUOTA</td>\n",
       "      <td>16</td>\n",
       "      <td>12.0004</td>\n",
       "      <td>NaN</td>\n",
       "      <td>NaN</td>\n",
       "      <td>NaN</td>\n",
       "      <td>NaN</td>\n",
       "      <td>NaN</td>\n",
       "      <td>NaN</td>\n",
       "    </tr>\n",
       "    <tr>\n",
       "      <th>4</th>\n",
       "      <td>0916000011</td>\n",
       "      <td>6094543</td>\n",
       "      <td>23.64</td>\n",
       "      <td>2019-03-06 13:46:38</td>\n",
       "      <td>6</td>\n",
       "      <td>CUOTA</td>\n",
       "      <td>49</td>\n",
       "      <td>0.4728</td>\n",
       "      <td>D013124</td>\n",
       "      <td>6.0</td>\n",
       "      <td>TITULAR</td>\n",
       "      <td>HACER LLAMADA</td>\n",
       "      <td>ACUERDO DE CONVENIO</td>\n",
       "      <td>0997835047</td>\n",
       "    </tr>\n",
       "  </tbody>\n",
       "</table>\n",
       "</div>"
      ],
      "text/plain": [
       "  IDENTIFICACION  ID_FACTURA  VALOR_INFRACCION          FECHA_PAGO  DIA_PAGO  \\\n",
       "0     0300694957     1434635            732.00 2019-03-06 14:01:58         6   \n",
       "1     0906777818     6225502             30.00 2019-03-06 12:59:37         6   \n",
       "2     0908016892     5158093             57.90 2019-03-07 09:20:35         7   \n",
       "3     0914839717     6266667            600.02 2019-03-06 10:08:46         6   \n",
       "4     0916000011     6094543             23.64 2019-03-06 13:46:38         6   \n",
       "\n",
       "    TIPO  DIAS_MORA  HONORARIOS COD_AGENTE  FECHA_GESTION CONTACTO_GESTIONO  \\\n",
       "0  CUOTA       1141     36.6000        NaN            NaN               NaN   \n",
       "1  CUOTA         15      0.6000     D05554            6.0           TITULAR   \n",
       "2  CUOTA        259      2.8950    D013143            6.0           TITULAR   \n",
       "3  CUOTA         16     12.0004        NaN            NaN               NaN   \n",
       "4  CUOTA         49      0.4728    D013124            6.0           TITULAR   \n",
       "\n",
       "  ACCION_REALIZADA   RESPUESTA_OBTENIDA NUMERO_GESTION  \n",
       "0              NaN                  NaN            NaN  \n",
       "1       ENVIAR SMS          SMS ENVIADO     0980098603  \n",
       "2    HACER LLAMADA  ACUERDO DE CONVENIO     0939210577  \n",
       "3              NaN                  NaN            NaN  \n",
       "4    HACER LLAMADA  ACUERDO DE CONVENIO     0997835047  "
      ]
     },
     "execution_count": 568,
     "metadata": {},
     "output_type": "execute_result"
    }
   ],
   "source": [
    "cruce_honorario.head()"
   ]
  },
  {
   "cell_type": "code",
   "execution_count": 569,
   "metadata": {},
   "outputs": [],
   "source": [
    "def validar(base):\n",
    "    dia_pago=base['DIA_PAGO']\n",
    "    dia_gestion=base['FECHA_GESTION']\n",
    "    if dia_gestion<=dia_pago:\n",
    "        return 'SI'\n",
    "    return 'NO'"
   ]
  },
  {
   "cell_type": "code",
   "execution_count": 570,
   "metadata": {},
   "outputs": [],
   "source": [
    "cruce_honorario['VALIDO']=cruce_honorario.apply(validar,axis=1)"
   ]
  },
  {
   "cell_type": "code",
   "execution_count": 571,
   "metadata": {},
   "outputs": [],
   "source": [
    "cruce_pag_conv['HONORARIOS']=cruce_pag_conv.apply(honorarios,axis=1)\n",
    "cruce_pag_conv['VALIDO']=cruce_pag_conv.apply(validar,axis=1)"
   ]
  },
  {
   "cell_type": "code",
   "execution_count": 572,
   "metadata": {},
   "outputs": [
    {
     "name": "stderr",
     "output_type": "stream",
     "text": [
      "c:\\users\\michael\\appdata\\local\\programs\\python\\python36-32\\lib\\site-packages\\ipykernel_launcher.py:2: FutureWarning: Sorting because non-concatenation axis is not aligned. A future version\n",
      "of pandas will change to not sort by default.\n",
      "\n",
      "To accept the future behavior, pass 'sort=True'.\n",
      "\n",
      "To retain the current behavior and silence the warning, pass sort=False\n",
      "\n",
      "  \n"
     ]
    }
   ],
   "source": [
    "pagos_total=[cruce_honorario,cruce_pag_conv]\n",
    "total_pagos_all=pd.concat(pagos_total)"
   ]
  },
  {
   "cell_type": "code",
   "execution_count": 573,
   "metadata": {},
   "outputs": [
    {
     "data": {
      "text/plain": [
       "CORRIENTE    1853\n",
       "CONVENIO      752\n",
       "CUOTA         681\n",
       "Name: TIPO, dtype: int64"
      ]
     },
     "execution_count": 573,
     "metadata": {},
     "output_type": "execute_result"
    }
   ],
   "source": [
    "total_pagos_all['TIPO'].value_counts()"
   ]
  },
  {
   "cell_type": "markdown",
   "metadata": {},
   "source": [
    "## HONORARIOS VALIDOS"
   ]
  },
  {
   "cell_type": "code",
   "execution_count": 574,
   "metadata": {},
   "outputs": [
    {
     "name": "stdout",
     "output_type": "stream",
     "text": [
      "           VALOR_INFRACCION  HONORARIOS\n",
      "TIPO                                   \n",
      "CONVENIO            9901.72    346.5602\n",
      "CORRIENTE          64060.20   1993.3180\n",
      "CUOTA              29450.39   1216.0426\n",
      "VALOR_INFRACCION    103412.3100\n",
      "HONORARIOS            3555.9208\n",
      "dtype: float64\n"
     ]
    }
   ],
   "source": [
    "print(total_pagos_all[total_pagos_all['VALIDO']=='SI'].groupby('TIPO').agg({'VALOR_INFRACCION':'sum','HONORARIOS':'sum'}))\n",
    "print(total_pagos_all[total_pagos_all['VALIDO']=='SI'].groupby('TIPO').agg({'VALOR_INFRACCION':'sum','HONORARIOS':'sum'}).sum())"
   ]
  },
  {
   "cell_type": "code",
   "execution_count": 575,
   "metadata": {},
   "outputs": [
    {
     "data": {
      "text/plain": [
       "<matplotlib.axes._subplots.AxesSubplot at 0x23eba050>"
      ]
     },
     "execution_count": 575,
     "metadata": {},
     "output_type": "execute_result"
    },
    {
     "data": {
      "image/png": "[encoded data removed]",
      "text/plain": [
       "<Figure size 432x288 with 1 Axes>"
      ]
     },
     "metadata": {},
     "output_type": "display_data"
    }
   ],
   "source": [
    "total_pagos_all[total_pagos_all['VALIDO']=='SI'].groupby('TIPO').agg({'VALOR_INFRACCION':'sum','HONORARIOS':'sum'}).plot.line()"
   ]
  },
  {
   "cell_type": "markdown",
   "metadata": {},
   "source": [
    "## HONORARIOS TOTALES"
   ]
  },
  {
   "cell_type": "code",
   "execution_count": 576,
   "metadata": {},
   "outputs": [
    {
     "name": "stdout",
     "output_type": "stream",
     "text": [
      "           VALOR_INFRACCION  HONORARIOS\n",
      "TIPO                                   \n",
      "CONVENIO           46090.06   1613.1521\n",
      "CORRIENTE         151664.85   4888.4830\n",
      "CUOTA              46287.76   1884.5383\n",
      "VALOR_INFRACCION    244042.6700\n",
      "HONORARIOS            8386.1734\n",
      "dtype: float64\n"
     ]
    }
   ],
   "source": [
    "print(total_pagos_all.groupby('TIPO').agg({'VALOR_INFRACCION':'sum','HONORARIOS':'sum'}))\n",
    "print(total_pagos_all.groupby('TIPO').agg({'VALOR_INFRACCION':'sum','HONORARIOS':'sum'}).sum())"
   ]
  },
  {
   "cell_type": "code",
   "execution_count": null,
   "metadata": {},
   "outputs": [],
   "source": []
  },
  {
   "cell_type": "markdown",
   "metadata": {},
   "source": [
    "## HONORARIOS NO VALIDOS"
   ]
  },
  {
   "cell_type": "code",
   "execution_count": 577,
   "metadata": {},
   "outputs": [
    {
     "name": "stdout",
     "output_type": "stream",
     "text": [
      "           VALOR_INFRACCION  HONORARIOS\n",
      "TIPO                                   \n",
      "CONVENIO           36188.34   1266.5919\n",
      "CORRIENTE          87604.65   2895.1650\n",
      "CUOTA              16837.37    668.4957\n",
      "VALOR_INFRACCION    140630.3600\n",
      "HONORARIOS            4830.2526\n",
      "dtype: float64\n"
     ]
    }
   ],
   "source": [
    "print(total_pagos_all[total_pagos_all['VALIDO']=='NO'].groupby('TIPO').agg({'VALOR_INFRACCION':'sum','HONORARIOS':'sum'}))\n",
    "print(total_pagos_all[total_pagos_all['VALIDO']=='NO'].groupby('TIPO').agg({'VALOR_INFRACCION':'sum','HONORARIOS':'sum'}).sum())"
   ]
  },
  {
   "cell_type": "code",
   "execution_count": 578,
   "metadata": {},
   "outputs": [],
   "source": [
    "nuevo_archivo='ANALISIS DE PAGOS.xlsx'\n",
    "writer = pd.ExcelWriter(nuevo_archivo, engine='xlsxwriter')\n",
    "total_pagos_all.to_excel(writer, sheet_name='GESTION TOTAL')\n",
    "worksheet = writer.sheets['GESTION TOTAL']\n",
    "writer.save()"
   ]
  },
  {
   "cell_type": "code",
   "execution_count": 579,
   "metadata": {},
   "outputs": [],
   "source": [
    "nuevo_archivo='GESTION ASESOR.xlsx'\n",
    "writer = pd.ExcelWriter(nuevo_archivo, engine='xlsxwriter')\n",
    "gestion_asesor.to_excel(writer, sheet_name='GESTION TOTAL')\n",
    "worksheet = writer.sheets['GESTION TOTAL']\n",
    "writer.save()"
   ]
  },
  {
   "cell_type": "code",
   "execution_count": null,
   "metadata": {},
   "outputs": [],
   "source": []
  },
  {
   "cell_type": "code",
   "execution_count": null,
   "metadata": {},
   "outputs": [],
   "source": []
  },
  {
   "cell_type": "code",
   "execution_count": null,
   "metadata": {},
   "outputs": [],
   "source": []
  },
  {
   "cell_type": "code",
   "execution_count": null,
   "metadata": {},
   "outputs": [],
   "source": []
  }
 ],
 "metadata": {
  "kernelspec": {
   "display_name": "Python 3",
   "language": "python",
   "name": "python3"
  },
  "language_info": {
   "codemirror_mode": {
    "name": "ipython",
    "version": 3
   },
   "file_extension": ".py",
   "mimetype": "text/x-python",
   "name": "python",
   "nbconvert_exporter": "python",
   "pygments_lexer": "ipython3",
   "version": "3.6.5"
  }
 },
 "nbformat": 4,
 "nbformat_minor": 2
}
