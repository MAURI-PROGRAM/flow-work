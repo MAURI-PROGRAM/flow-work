{
 "cells": [
  {
   "cell_type": "code",
   "execution_count": 1,
   "metadata": {},
   "outputs": [],
   "source": [
    "import pandas as pd\n",
    "import mysql.connector as mc\n",
    "import matplotlib\n",
    "import calendar"
   ]
  },
  {
   "cell_type": "code",
   "execution_count": 2,
   "metadata": {},
   "outputs": [],
   "source": [
    "db = mc.connect(\n",
    "  host='172.18.55.6',\n",
    "  user='comandato',\n",
    "  passwd='comandato123',\n",
    ")\n",
    "cur= db.cursor()"
   ]
  },
  {
   "cell_type": "code",
   "execution_count": 3,
   "metadata": {},
   "outputs": [],
   "source": [
    "Dia='16'\n",
    "Mes='05'\n",
    "Anio='2019'\n",
    "fecha_pago=Dia+Mes+Anio"
   ]
  },
  {
   "cell_type": "code",
   "execution_count": 4,
   "metadata": {},
   "outputs": [],
   "source": [
    "F_Mes='MAYO'"
   ]
  },
  {
   "cell_type": "markdown",
   "metadata": {},
   "source": [
    "# OBTENER GESTION DE ASESOR"
   ]
  },
  {
   "cell_type": "markdown",
   "metadata": {},
   "source": [
    "### CONVENIO"
   ]
  },
  {
   "cell_type": "code",
   "execution_count": 5,
   "metadata": {},
   "outputs": [],
   "source": [
    "querry_gestion_cuotas=\"\"\"SELECT NRO_IDENTIFICACION_CLIENTE,COD_AGENTE,CAST(DATE_FORMAT(FECHA_GESTION,'%d') as UNSIGNED) as FECHA_GESTION,CONTACTO_GESTIONO,ACCION_REALIZADA,RESPUESTA_OBTENIDA,NUMERO_GESTION FROM SISTEMECUADOR_ATM.GESTION where FECHA_GESTION BETWEEN '{0}-{1}-00 00:00:00' AND '{0}-{1}-{2} 21:00:00';\"\"\".format(Anio,Mes,Dia)\n",
    "gestion_cuotas=pd.read_sql(querry_gestion_cuotas, con=db)"
   ]
  },
  {
   "cell_type": "code",
   "execution_count": 6,
   "metadata": {},
   "outputs": [
    {
     "data": {
      "text/html": [
       "<div>\n",
       "<style scoped>\n",
       "    .dataframe tbody tr th:only-of-type {\n",
       "        vertical-align: middle;\n",
       "    }\n",
       "\n",
       "    .dataframe tbody tr th {\n",
       "        vertical-align: top;\n",
       "    }\n",
       "\n",
       "    .dataframe thead th {\n",
       "        text-align: right;\n",
       "    }\n",
       "</style>\n",
       "<table border=\"1\" class=\"dataframe\">\n",
       "  <thead>\n",
       "    <tr style=\"text-align: right;\">\n",
       "      <th></th>\n",
       "      <th>NRO_IDENTIFICACION_CLIENTE</th>\n",
       "      <th>COD_AGENTE</th>\n",
       "      <th>FECHA_GESTION</th>\n",
       "      <th>CONTACTO_GESTIONO</th>\n",
       "      <th>ACCION_REALIZADA</th>\n",
       "      <th>RESPUESTA_OBTENIDA</th>\n",
       "      <th>NUMERO_GESTION</th>\n",
       "    </tr>\n",
       "  </thead>\n",
       "  <tbody>\n",
       "    <tr>\n",
       "      <th>0</th>\n",
       "      <td>0104772363</td>\n",
       "      <td>D013113</td>\n",
       "      <td>2</td>\n",
       "      <td>NO CONTACTO</td>\n",
       "      <td>HACER LLAMADA</td>\n",
       "      <td>NO CONTESTA</td>\n",
       "      <td>0984386351</td>\n",
       "    </tr>\n",
       "    <tr>\n",
       "      <th>1</th>\n",
       "      <td>0917597551</td>\n",
       "      <td>D013110</td>\n",
       "      <td>2</td>\n",
       "      <td>NO CONTACTO</td>\n",
       "      <td>HACER LLAMADA</td>\n",
       "      <td>BUZON DE MENSAJES</td>\n",
       "      <td>0991138842</td>\n",
       "    </tr>\n",
       "    <tr>\n",
       "      <th>2</th>\n",
       "      <td>0916719172</td>\n",
       "      <td>D013113</td>\n",
       "      <td>2</td>\n",
       "      <td>TITULAR</td>\n",
       "      <td>HACER LLAMADA</td>\n",
       "      <td>VOLVER A LLAMAR</td>\n",
       "      <td>0979811719</td>\n",
       "    </tr>\n",
       "    <tr>\n",
       "      <th>3</th>\n",
       "      <td>0911637395</td>\n",
       "      <td>D013113</td>\n",
       "      <td>2</td>\n",
       "      <td>NO CONTACTO</td>\n",
       "      <td>HACER LLAMADA</td>\n",
       "      <td>NO CONTESTA</td>\n",
       "      <td>0999508037</td>\n",
       "    </tr>\n",
       "    <tr>\n",
       "      <th>4</th>\n",
       "      <td>0909622037</td>\n",
       "      <td>D013110</td>\n",
       "      <td>2</td>\n",
       "      <td>TITULAR</td>\n",
       "      <td>HACER LLAMADA</td>\n",
       "      <td>ACUERDO DE PAGO</td>\n",
       "      <td>0999113107</td>\n",
       "    </tr>\n",
       "  </tbody>\n",
       "</table>\n",
       "</div>"
      ],
      "text/plain": [
       "  NRO_IDENTIFICACION_CLIENTE COD_AGENTE  FECHA_GESTION CONTACTO_GESTIONO  \\\n",
       "0                 0104772363    D013113              2       NO CONTACTO   \n",
       "1                 0917597551    D013110              2       NO CONTACTO   \n",
       "2                 0916719172    D013113              2           TITULAR   \n",
       "3                 0911637395    D013113              2       NO CONTACTO   \n",
       "4                 0909622037    D013110              2           TITULAR   \n",
       "\n",
       "  ACCION_REALIZADA RESPUESTA_OBTENIDA NUMERO_GESTION  \n",
       "0    HACER LLAMADA        NO CONTESTA     0984386351  \n",
       "1    HACER LLAMADA  BUZON DE MENSAJES     0991138842  \n",
       "2    HACER LLAMADA    VOLVER A LLAMAR     0979811719  \n",
       "3    HACER LLAMADA        NO CONTESTA     0999508037  \n",
       "4    HACER LLAMADA    ACUERDO DE PAGO     0999113107  "
      ]
     },
     "execution_count": 6,
     "metadata": {},
     "output_type": "execute_result"
    }
   ],
   "source": [
    "gestion_cuotas.head()"
   ]
  },
  {
   "cell_type": "code",
   "execution_count": 7,
   "metadata": {},
   "outputs": [],
   "source": [
    "gestion_asesor_cuotas=gestion_cuotas[(gestion_cuotas['ACCION_REALIZADA']=='HACER LLAMADA') & ((gestion_cuotas['CONTACTO_GESTIONO']=='CLIENTE') | (gestion_cuotas['CONTACTO_GESTIONO']=='TITULAR') |(gestion_cuotas['CONTACTO_GESTIONO']=='TERC. VALIDO'))& (gestion_cuotas['RESPUESTA_OBTENIDA']!='YA PAGO')]"
   ]
  },
  {
   "cell_type": "code",
   "execution_count": 8,
   "metadata": {},
   "outputs": [],
   "source": [
    "gestion_asesor_cuotas=gestion_asesor_cuotas.sort_values(by=['FECHA_GESTION'],ascending=[True])\n",
    "gestion_asesor_cuotas=gestion_asesor_cuotas.drop_duplicates(['NRO_IDENTIFICACION_CLIENTE'], keep='first')\n",
    "gestion_asesor_cuotas = gestion_asesor_cuotas.rename(columns={'NRO_IDENTIFICACION_CLIENTE':'IDENTIFICACION'})"
   ]
  },
  {
   "cell_type": "markdown",
   "metadata": {},
   "source": [
    "### CORRIENTE"
   ]
  },
  {
   "cell_type": "code",
   "execution_count": 9,
   "metadata": {},
   "outputs": [],
   "source": [
    "querry_gestion=\"\"\"SELECT NRO_IDENTIFICACION_CLIENTE,COD_AGENTE,CAST(DATE_FORMAT(FECHA_GESTION,'%d') as UNSIGNED) as FECHA_GESTION,CONTACTO_GESTIONO,ACCION_REALIZADA,RESPUESTA_OBTENIDA,NUMERO_GESTION FROM SISTEMECUADOR_ATM.GESTION where FECHA_GESTION BETWEEN '{0}-{1}-00 00:00:00' AND '{0}-{1}-{2} 21:00:00' AND COMENTARIOS_GESTIONO NOT LIKE '%CAMPAÑA CONVENIO%';\"\"\".format(Anio,Mes,Dia)\n",
    "gestion=pd.read_sql(querry_gestion, con=db)"
   ]
  },
  {
   "cell_type": "code",
   "execution_count": 10,
   "metadata": {},
   "outputs": [],
   "source": [
    "gestion_asesor=gestion[(gestion['ACCION_REALIZADA']=='HACER LLAMADA') & ((gestion['CONTACTO_GESTIONO']=='CLIENTE') | (gestion['CONTACTO_GESTIONO']=='TITULAR') |(gestion['CONTACTO_GESTIONO']=='TERC. VALIDO'))& (gestion['RESPUESTA_OBTENIDA']!='YA PAGO')]"
   ]
  },
  {
   "cell_type": "code",
   "execution_count": 11,
   "metadata": {},
   "outputs": [],
   "source": [
    "gestion_asesor=gestion_asesor.sort_values(by=['FECHA_GESTION'],ascending=[True])"
   ]
  },
  {
   "cell_type": "code",
   "execution_count": 12,
   "metadata": {},
   "outputs": [],
   "source": [
    "gestion_asesor=gestion_asesor.drop_duplicates(['NRO_IDENTIFICACION_CLIENTE'], keep='first')"
   ]
  },
  {
   "cell_type": "code",
   "execution_count": 13,
   "metadata": {},
   "outputs": [
    {
     "data": {
      "text/html": [
       "<div>\n",
       "<style scoped>\n",
       "    .dataframe tbody tr th:only-of-type {\n",
       "        vertical-align: middle;\n",
       "    }\n",
       "\n",
       "    .dataframe tbody tr th {\n",
       "        vertical-align: top;\n",
       "    }\n",
       "\n",
       "    .dataframe thead th {\n",
       "        text-align: right;\n",
       "    }\n",
       "</style>\n",
       "<table border=\"1\" class=\"dataframe\">\n",
       "  <thead>\n",
       "    <tr style=\"text-align: right;\">\n",
       "      <th></th>\n",
       "      <th>NRO_IDENTIFICACION_CLIENTE</th>\n",
       "      <th>COD_AGENTE</th>\n",
       "      <th>FECHA_GESTION</th>\n",
       "      <th>CONTACTO_GESTIONO</th>\n",
       "      <th>ACCION_REALIZADA</th>\n",
       "      <th>RESPUESTA_OBTENIDA</th>\n",
       "      <th>NUMERO_GESTION</th>\n",
       "    </tr>\n",
       "  </thead>\n",
       "  <tbody>\n",
       "    <tr>\n",
       "      <th>2</th>\n",
       "      <td>0916719172</td>\n",
       "      <td>D013113</td>\n",
       "      <td>2</td>\n",
       "      <td>TITULAR</td>\n",
       "      <td>HACER LLAMADA</td>\n",
       "      <td>VOLVER A LLAMAR</td>\n",
       "      <td>0979811719</td>\n",
       "    </tr>\n",
       "    <tr>\n",
       "      <th>482</th>\n",
       "      <td>0923008759</td>\n",
       "      <td>D013116</td>\n",
       "      <td>2</td>\n",
       "      <td>TITULAR</td>\n",
       "      <td>HACER LLAMADA</td>\n",
       "      <td>INFRACTOR CUELGA LLAMADA</td>\n",
       "      <td>0980571447</td>\n",
       "    </tr>\n",
       "    <tr>\n",
       "      <th>481</th>\n",
       "      <td>1312954082</td>\n",
       "      <td>D013126</td>\n",
       "      <td>2</td>\n",
       "      <td>TITULAR</td>\n",
       "      <td>HACER LLAMADA</td>\n",
       "      <td>LOCALIZADO SIN ACUERDO</td>\n",
       "      <td>0996780491</td>\n",
       "    </tr>\n",
       "    <tr>\n",
       "      <th>479</th>\n",
       "      <td>0911723658</td>\n",
       "      <td>D013133</td>\n",
       "      <td>2</td>\n",
       "      <td>TITULAR</td>\n",
       "      <td>HACER LLAMADA</td>\n",
       "      <td>INFRACTOR CUELGA LLAMADA</td>\n",
       "      <td>0988307748</td>\n",
       "    </tr>\n",
       "    <tr>\n",
       "      <th>478</th>\n",
       "      <td>0913775326</td>\n",
       "      <td>D013116</td>\n",
       "      <td>2</td>\n",
       "      <td>TITULAR</td>\n",
       "      <td>HACER LLAMADA</td>\n",
       "      <td>ACUERDO DE PAGO</td>\n",
       "      <td>0939589900</td>\n",
       "    </tr>\n",
       "  </tbody>\n",
       "</table>\n",
       "</div>"
      ],
      "text/plain": [
       "    NRO_IDENTIFICACION_CLIENTE COD_AGENTE  FECHA_GESTION CONTACTO_GESTIONO  \\\n",
       "2                   0916719172    D013113              2           TITULAR   \n",
       "482                 0923008759    D013116              2           TITULAR   \n",
       "481                 1312954082    D013126              2           TITULAR   \n",
       "479                 0911723658    D013133              2           TITULAR   \n",
       "478                 0913775326    D013116              2           TITULAR   \n",
       "\n",
       "    ACCION_REALIZADA        RESPUESTA_OBTENIDA NUMERO_GESTION  \n",
       "2      HACER LLAMADA           VOLVER A LLAMAR     0979811719  \n",
       "482    HACER LLAMADA  INFRACTOR CUELGA LLAMADA     0980571447  \n",
       "481    HACER LLAMADA    LOCALIZADO SIN ACUERDO     0996780491  \n",
       "479    HACER LLAMADA  INFRACTOR CUELGA LLAMADA     0988307748  \n",
       "478    HACER LLAMADA           ACUERDO DE PAGO     0939589900  "
      ]
     },
     "execution_count": 13,
     "metadata": {},
     "output_type": "execute_result"
    }
   ],
   "source": [
    "gestion_asesor.head()"
   ]
  },
  {
   "cell_type": "markdown",
   "metadata": {},
   "source": [
    "# OBTENER GESTION IVR"
   ]
  },
  {
   "cell_type": "code",
   "execution_count": 14,
   "metadata": {},
   "outputs": [],
   "source": [
    "querry_masivos=\"\"\"SELECT NRO_IDENTIFICACION_CLIENTE,COD_AGENTE,CAST(DATE_FORMAT(FECHA_GESTION,'%d') as UNSIGNED) as FECHA_GESTION,CONTACTO_GESTIONO,ACCION_REALIZADA,RESPUESTA_OBTENIDA,NUMERO_GESTION FROM SISTEMECUADOR_ATM.gestion_ivr where FECHA_GESTION BETWEEN '{0}-{1}-00 00:00:00' AND '{0}-{1}-{2} 21:00:00';\"\"\".format(Anio,Mes,Dia)\n",
    "gestion_masivos=pd.read_sql(querry_masivos, con=db)"
   ]
  },
  {
   "cell_type": "code",
   "execution_count": 15,
   "metadata": {},
   "outputs": [],
   "source": [
    "gestion_ivr=gestion_masivos[((gestion_masivos['ACCION_REALIZADA']=='ENVIAR IVR') & (gestion_masivos['RESPUESTA_OBTENIDA']=='CONTESTA IVR'))|((gestion_masivos['ACCION_REALIZADA']=='ENVIAR SMS') & (gestion_masivos['RESPUESTA_OBTENIDA']=='SMS ENVIADO'))|((gestion_masivos['ACCION_REALIZADA']=='ENVIAR WHATSAPP') & (gestion_masivos['RESPUESTA_OBTENIDA']=='ENVIO WHATSAPP'))]"
   ]
  },
  {
   "cell_type": "code",
   "execution_count": 16,
   "metadata": {},
   "outputs": [
    {
     "data": {
      "text/html": [
       "<div>\n",
       "<style scoped>\n",
       "    .dataframe tbody tr th:only-of-type {\n",
       "        vertical-align: middle;\n",
       "    }\n",
       "\n",
       "    .dataframe tbody tr th {\n",
       "        vertical-align: top;\n",
       "    }\n",
       "\n",
       "    .dataframe thead th {\n",
       "        text-align: right;\n",
       "    }\n",
       "</style>\n",
       "<table border=\"1\" class=\"dataframe\">\n",
       "  <thead>\n",
       "    <tr style=\"text-align: right;\">\n",
       "      <th></th>\n",
       "      <th>NRO_IDENTIFICACION_CLIENTE</th>\n",
       "      <th>COD_AGENTE</th>\n",
       "      <th>FECHA_GESTION</th>\n",
       "      <th>CONTACTO_GESTIONO</th>\n",
       "      <th>ACCION_REALIZADA</th>\n",
       "      <th>RESPUESTA_OBTENIDA</th>\n",
       "      <th>NUMERO_GESTION</th>\n",
       "    </tr>\n",
       "  </thead>\n",
       "  <tbody>\n",
       "    <tr>\n",
       "      <th>67647</th>\n",
       "      <td>0924932684</td>\n",
       "      <td>D05554</td>\n",
       "      <td>16</td>\n",
       "      <td>TITULAR</td>\n",
       "      <td>ENVIAR IVR</td>\n",
       "      <td>CONTESTA IVR</td>\n",
       "      <td>0996793546</td>\n",
       "    </tr>\n",
       "    <tr>\n",
       "      <th>67648</th>\n",
       "      <td>0928443639</td>\n",
       "      <td>D05554</td>\n",
       "      <td>16</td>\n",
       "      <td>TITULAR</td>\n",
       "      <td>ENVIAR IVR</td>\n",
       "      <td>CONTESTA IVR</td>\n",
       "      <td>0985184760</td>\n",
       "    </tr>\n",
       "    <tr>\n",
       "      <th>67649</th>\n",
       "      <td>0929222313</td>\n",
       "      <td>D05554</td>\n",
       "      <td>16</td>\n",
       "      <td>TITULAR</td>\n",
       "      <td>ENVIAR IVR</td>\n",
       "      <td>CONTESTA IVR</td>\n",
       "      <td>042378488</td>\n",
       "    </tr>\n",
       "    <tr>\n",
       "      <th>67650</th>\n",
       "      <td>0931070072</td>\n",
       "      <td>D05554</td>\n",
       "      <td>16</td>\n",
       "      <td>TITULAR</td>\n",
       "      <td>ENVIAR IVR</td>\n",
       "      <td>CONTESTA IVR</td>\n",
       "      <td>0996815947</td>\n",
       "    </tr>\n",
       "    <tr>\n",
       "      <th>67651</th>\n",
       "      <td>0940393309</td>\n",
       "      <td>D05554</td>\n",
       "      <td>16</td>\n",
       "      <td>TITULAR</td>\n",
       "      <td>ENVIAR IVR</td>\n",
       "      <td>CONTESTA IVR</td>\n",
       "      <td>0996340027</td>\n",
       "    </tr>\n",
       "  </tbody>\n",
       "</table>\n",
       "</div>"
      ],
      "text/plain": [
       "      NRO_IDENTIFICACION_CLIENTE COD_AGENTE  FECHA_GESTION CONTACTO_GESTIONO  \\\n",
       "67647                 0924932684     D05554             16           TITULAR   \n",
       "67648                 0928443639     D05554             16           TITULAR   \n",
       "67649                 0929222313     D05554             16           TITULAR   \n",
       "67650                 0931070072     D05554             16           TITULAR   \n",
       "67651                 0940393309     D05554             16           TITULAR   \n",
       "\n",
       "      ACCION_REALIZADA RESPUESTA_OBTENIDA NUMERO_GESTION  \n",
       "67647       ENVIAR IVR       CONTESTA IVR     0996793546  \n",
       "67648       ENVIAR IVR       CONTESTA IVR     0985184760  \n",
       "67649       ENVIAR IVR       CONTESTA IVR      042378488  \n",
       "67650       ENVIAR IVR       CONTESTA IVR     0996815947  \n",
       "67651       ENVIAR IVR       CONTESTA IVR     0996340027  "
      ]
     },
     "execution_count": 16,
     "metadata": {},
     "output_type": "execute_result"
    }
   ],
   "source": [
    "gestion_ivr.tail()"
   ]
  },
  {
   "cell_type": "markdown",
   "metadata": {},
   "source": [
    "# OBTENER GESTION SMS"
   ]
  },
  {
   "cell_type": "code",
   "execution_count": 17,
   "metadata": {},
   "outputs": [],
   "source": [
    "gestion_sms=gestion_masivos[gestion_masivos['ACCION_REALIZADA']=='ENVIAR SMS']"
   ]
  },
  {
   "cell_type": "code",
   "execution_count": 18,
   "metadata": {},
   "outputs": [
    {
     "data": {
      "text/html": [
       "<div>\n",
       "<style scoped>\n",
       "    .dataframe tbody tr th:only-of-type {\n",
       "        vertical-align: middle;\n",
       "    }\n",
       "\n",
       "    .dataframe tbody tr th {\n",
       "        vertical-align: top;\n",
       "    }\n",
       "\n",
       "    .dataframe thead th {\n",
       "        text-align: right;\n",
       "    }\n",
       "</style>\n",
       "<table border=\"1\" class=\"dataframe\">\n",
       "  <thead>\n",
       "    <tr style=\"text-align: right;\">\n",
       "      <th></th>\n",
       "      <th>NRO_IDENTIFICACION_CLIENTE</th>\n",
       "      <th>COD_AGENTE</th>\n",
       "      <th>FECHA_GESTION</th>\n",
       "      <th>CONTACTO_GESTIONO</th>\n",
       "      <th>ACCION_REALIZADA</th>\n",
       "      <th>RESPUESTA_OBTENIDA</th>\n",
       "      <th>NUMERO_GESTION</th>\n",
       "    </tr>\n",
       "  </thead>\n",
       "  <tbody>\n",
       "    <tr>\n",
       "      <th>11170</th>\n",
       "      <td>0102381803</td>\n",
       "      <td>D05554</td>\n",
       "      <td>6</td>\n",
       "      <td>TITULAR</td>\n",
       "      <td>ENVIAR SMS</td>\n",
       "      <td>SMS ENVIADO</td>\n",
       "      <td>0992139760</td>\n",
       "    </tr>\n",
       "    <tr>\n",
       "      <th>11171</th>\n",
       "      <td>1102427356</td>\n",
       "      <td>D05554</td>\n",
       "      <td>6</td>\n",
       "      <td>TITULAR</td>\n",
       "      <td>ENVIAR SMS</td>\n",
       "      <td>SMS ENVIADO</td>\n",
       "      <td>0993404025</td>\n",
       "    </tr>\n",
       "    <tr>\n",
       "      <th>11172</th>\n",
       "      <td>1203176514</td>\n",
       "      <td>D05554</td>\n",
       "      <td>6</td>\n",
       "      <td>TITULAR</td>\n",
       "      <td>ENVIAR SMS</td>\n",
       "      <td>SMS ENVIADO</td>\n",
       "      <td>0993096912</td>\n",
       "    </tr>\n",
       "    <tr>\n",
       "      <th>11173</th>\n",
       "      <td>1205250648</td>\n",
       "      <td>D05554</td>\n",
       "      <td>6</td>\n",
       "      <td>TITULAR</td>\n",
       "      <td>ENVIAR SMS</td>\n",
       "      <td>SMS ENVIADO</td>\n",
       "      <td>0967399139</td>\n",
       "    </tr>\n",
       "    <tr>\n",
       "      <th>11174</th>\n",
       "      <td>1207073964</td>\n",
       "      <td>D05554</td>\n",
       "      <td>6</td>\n",
       "      <td>TITULAR</td>\n",
       "      <td>ENVIAR SMS</td>\n",
       "      <td>SMS ENVIADO</td>\n",
       "      <td>0996528201</td>\n",
       "    </tr>\n",
       "  </tbody>\n",
       "</table>\n",
       "</div>"
      ],
      "text/plain": [
       "      NRO_IDENTIFICACION_CLIENTE COD_AGENTE  FECHA_GESTION CONTACTO_GESTIONO  \\\n",
       "11170                 0102381803     D05554              6           TITULAR   \n",
       "11171                 1102427356     D05554              6           TITULAR   \n",
       "11172                 1203176514     D05554              6           TITULAR   \n",
       "11173                 1205250648     D05554              6           TITULAR   \n",
       "11174                 1207073964     D05554              6           TITULAR   \n",
       "\n",
       "      ACCION_REALIZADA RESPUESTA_OBTENIDA NUMERO_GESTION  \n",
       "11170       ENVIAR SMS        SMS ENVIADO     0992139760  \n",
       "11171       ENVIAR SMS        SMS ENVIADO     0993404025  \n",
       "11172       ENVIAR SMS        SMS ENVIADO     0993096912  \n",
       "11173       ENVIAR SMS        SMS ENVIADO     0967399139  \n",
       "11174       ENVIAR SMS        SMS ENVIADO     0996528201  "
      ]
     },
     "execution_count": 18,
     "metadata": {},
     "output_type": "execute_result"
    }
   ],
   "source": [
    "gestion_sms.head()"
   ]
  },
  {
   "cell_type": "code",
   "execution_count": 19,
   "metadata": {},
   "outputs": [],
   "source": [
    "gestiones=[gestion_asesor,gestion_ivr,gestion_sms]\n",
    "total_gestiones=pd.concat(gestiones)"
   ]
  },
  {
   "cell_type": "code",
   "execution_count": 20,
   "metadata": {},
   "outputs": [
    {
     "data": {
      "text/html": [
       "<div>\n",
       "<style scoped>\n",
       "    .dataframe tbody tr th:only-of-type {\n",
       "        vertical-align: middle;\n",
       "    }\n",
       "\n",
       "    .dataframe tbody tr th {\n",
       "        vertical-align: top;\n",
       "    }\n",
       "\n",
       "    .dataframe thead th {\n",
       "        text-align: right;\n",
       "    }\n",
       "</style>\n",
       "<table border=\"1\" class=\"dataframe\">\n",
       "  <thead>\n",
       "    <tr style=\"text-align: right;\">\n",
       "      <th></th>\n",
       "      <th>NRO_IDENTIFICACION_CLIENTE</th>\n",
       "      <th>COD_AGENTE</th>\n",
       "      <th>FECHA_GESTION</th>\n",
       "      <th>CONTACTO_GESTIONO</th>\n",
       "      <th>ACCION_REALIZADA</th>\n",
       "      <th>RESPUESTA_OBTENIDA</th>\n",
       "      <th>NUMERO_GESTION</th>\n",
       "    </tr>\n",
       "  </thead>\n",
       "  <tbody>\n",
       "    <tr>\n",
       "      <th>2</th>\n",
       "      <td>0916719172</td>\n",
       "      <td>D013113</td>\n",
       "      <td>2</td>\n",
       "      <td>TITULAR</td>\n",
       "      <td>HACER LLAMADA</td>\n",
       "      <td>VOLVER A LLAMAR</td>\n",
       "      <td>0979811719</td>\n",
       "    </tr>\n",
       "    <tr>\n",
       "      <th>482</th>\n",
       "      <td>0923008759</td>\n",
       "      <td>D013116</td>\n",
       "      <td>2</td>\n",
       "      <td>TITULAR</td>\n",
       "      <td>HACER LLAMADA</td>\n",
       "      <td>INFRACTOR CUELGA LLAMADA</td>\n",
       "      <td>0980571447</td>\n",
       "    </tr>\n",
       "    <tr>\n",
       "      <th>481</th>\n",
       "      <td>1312954082</td>\n",
       "      <td>D013126</td>\n",
       "      <td>2</td>\n",
       "      <td>TITULAR</td>\n",
       "      <td>HACER LLAMADA</td>\n",
       "      <td>LOCALIZADO SIN ACUERDO</td>\n",
       "      <td>0996780491</td>\n",
       "    </tr>\n",
       "    <tr>\n",
       "      <th>479</th>\n",
       "      <td>0911723658</td>\n",
       "      <td>D013133</td>\n",
       "      <td>2</td>\n",
       "      <td>TITULAR</td>\n",
       "      <td>HACER LLAMADA</td>\n",
       "      <td>INFRACTOR CUELGA LLAMADA</td>\n",
       "      <td>0988307748</td>\n",
       "    </tr>\n",
       "    <tr>\n",
       "      <th>478</th>\n",
       "      <td>0913775326</td>\n",
       "      <td>D013116</td>\n",
       "      <td>2</td>\n",
       "      <td>TITULAR</td>\n",
       "      <td>HACER LLAMADA</td>\n",
       "      <td>ACUERDO DE PAGO</td>\n",
       "      <td>0939589900</td>\n",
       "    </tr>\n",
       "  </tbody>\n",
       "</table>\n",
       "</div>"
      ],
      "text/plain": [
       "    NRO_IDENTIFICACION_CLIENTE COD_AGENTE  FECHA_GESTION CONTACTO_GESTIONO  \\\n",
       "2                   0916719172    D013113              2           TITULAR   \n",
       "482                 0923008759    D013116              2           TITULAR   \n",
       "481                 1312954082    D013126              2           TITULAR   \n",
       "479                 0911723658    D013133              2           TITULAR   \n",
       "478                 0913775326    D013116              2           TITULAR   \n",
       "\n",
       "    ACCION_REALIZADA        RESPUESTA_OBTENIDA NUMERO_GESTION  \n",
       "2      HACER LLAMADA           VOLVER A LLAMAR     0979811719  \n",
       "482    HACER LLAMADA  INFRACTOR CUELGA LLAMADA     0980571447  \n",
       "481    HACER LLAMADA    LOCALIZADO SIN ACUERDO     0996780491  \n",
       "479    HACER LLAMADA  INFRACTOR CUELGA LLAMADA     0988307748  \n",
       "478    HACER LLAMADA           ACUERDO DE PAGO     0939589900  "
      ]
     },
     "execution_count": 20,
     "metadata": {},
     "output_type": "execute_result"
    }
   ],
   "source": [
    "total_gestiones.head()"
   ]
  },
  {
   "cell_type": "code",
   "execution_count": 21,
   "metadata": {},
   "outputs": [],
   "source": [
    "total_gestiones=total_gestiones.drop_duplicates(['NRO_IDENTIFICACION_CLIENTE'], keep='first')"
   ]
  },
  {
   "cell_type": "code",
   "execution_count": 22,
   "metadata": {},
   "outputs": [],
   "source": [
    "total_gestiones = total_gestiones.rename(columns={'NRO_IDENTIFICACION_CLIENTE':'IDENTIFICACION'})"
   ]
  },
  {
   "cell_type": "code",
   "execution_count": 23,
   "metadata": {},
   "outputs": [
    {
     "data": {
      "text/html": [
       "<div>\n",
       "<style scoped>\n",
       "    .dataframe tbody tr th:only-of-type {\n",
       "        vertical-align: middle;\n",
       "    }\n",
       "\n",
       "    .dataframe tbody tr th {\n",
       "        vertical-align: top;\n",
       "    }\n",
       "\n",
       "    .dataframe thead th {\n",
       "        text-align: right;\n",
       "    }\n",
       "</style>\n",
       "<table border=\"1\" class=\"dataframe\">\n",
       "  <thead>\n",
       "    <tr style=\"text-align: right;\">\n",
       "      <th></th>\n",
       "      <th>IDENTIFICACION</th>\n",
       "      <th>COD_AGENTE</th>\n",
       "      <th>FECHA_GESTION</th>\n",
       "      <th>CONTACTO_GESTIONO</th>\n",
       "      <th>ACCION_REALIZADA</th>\n",
       "      <th>RESPUESTA_OBTENIDA</th>\n",
       "      <th>NUMERO_GESTION</th>\n",
       "    </tr>\n",
       "  </thead>\n",
       "  <tbody>\n",
       "    <tr>\n",
       "      <th>2</th>\n",
       "      <td>0916719172</td>\n",
       "      <td>D013113</td>\n",
       "      <td>2</td>\n",
       "      <td>TITULAR</td>\n",
       "      <td>HACER LLAMADA</td>\n",
       "      <td>VOLVER A LLAMAR</td>\n",
       "      <td>0979811719</td>\n",
       "    </tr>\n",
       "    <tr>\n",
       "      <th>482</th>\n",
       "      <td>0923008759</td>\n",
       "      <td>D013116</td>\n",
       "      <td>2</td>\n",
       "      <td>TITULAR</td>\n",
       "      <td>HACER LLAMADA</td>\n",
       "      <td>INFRACTOR CUELGA LLAMADA</td>\n",
       "      <td>0980571447</td>\n",
       "    </tr>\n",
       "    <tr>\n",
       "      <th>481</th>\n",
       "      <td>1312954082</td>\n",
       "      <td>D013126</td>\n",
       "      <td>2</td>\n",
       "      <td>TITULAR</td>\n",
       "      <td>HACER LLAMADA</td>\n",
       "      <td>LOCALIZADO SIN ACUERDO</td>\n",
       "      <td>0996780491</td>\n",
       "    </tr>\n",
       "    <tr>\n",
       "      <th>479</th>\n",
       "      <td>0911723658</td>\n",
       "      <td>D013133</td>\n",
       "      <td>2</td>\n",
       "      <td>TITULAR</td>\n",
       "      <td>HACER LLAMADA</td>\n",
       "      <td>INFRACTOR CUELGA LLAMADA</td>\n",
       "      <td>0988307748</td>\n",
       "    </tr>\n",
       "    <tr>\n",
       "      <th>478</th>\n",
       "      <td>0913775326</td>\n",
       "      <td>D013116</td>\n",
       "      <td>2</td>\n",
       "      <td>TITULAR</td>\n",
       "      <td>HACER LLAMADA</td>\n",
       "      <td>ACUERDO DE PAGO</td>\n",
       "      <td>0939589900</td>\n",
       "    </tr>\n",
       "  </tbody>\n",
       "</table>\n",
       "</div>"
      ],
      "text/plain": [
       "    IDENTIFICACION COD_AGENTE  FECHA_GESTION CONTACTO_GESTIONO  \\\n",
       "2       0916719172    D013113              2           TITULAR   \n",
       "482     0923008759    D013116              2           TITULAR   \n",
       "481     1312954082    D013126              2           TITULAR   \n",
       "479     0911723658    D013133              2           TITULAR   \n",
       "478     0913775326    D013116              2           TITULAR   \n",
       "\n",
       "    ACCION_REALIZADA        RESPUESTA_OBTENIDA NUMERO_GESTION  \n",
       "2      HACER LLAMADA           VOLVER A LLAMAR     0979811719  \n",
       "482    HACER LLAMADA  INFRACTOR CUELGA LLAMADA     0980571447  \n",
       "481    HACER LLAMADA    LOCALIZADO SIN ACUERDO     0996780491  \n",
       "479    HACER LLAMADA  INFRACTOR CUELGA LLAMADA     0988307748  \n",
       "478    HACER LLAMADA           ACUERDO DE PAGO     0939589900  "
      ]
     },
     "execution_count": 23,
     "metadata": {},
     "output_type": "execute_result"
    }
   ],
   "source": [
    "total_gestiones.head()"
   ]
  },
  {
   "cell_type": "markdown",
   "metadata": {},
   "source": [
    "# MULTAS ASIGNADAS"
   ]
  },
  {
   "cell_type": "code",
   "execution_count": 24,
   "metadata": {},
   "outputs": [],
   "source": [
    "multas=\"\"\"SELECT *   FROM SISTEMECUADOR_ATM.MULTAS_MENSUALES where Mes={0}\"\"\".format(Mes)\n",
    "resultado_multas=pd.read_sql(multas, con=db)"
   ]
  },
  {
   "cell_type": "code",
   "execution_count": 25,
   "metadata": {},
   "outputs": [
    {
     "data": {
      "text/html": [
       "<div>\n",
       "<style scoped>\n",
       "    .dataframe tbody tr th:only-of-type {\n",
       "        vertical-align: middle;\n",
       "    }\n",
       "\n",
       "    .dataframe tbody tr th {\n",
       "        vertical-align: top;\n",
       "    }\n",
       "\n",
       "    .dataframe thead th {\n",
       "        text-align: right;\n",
       "    }\n",
       "</style>\n",
       "<table border=\"1\" class=\"dataframe\">\n",
       "  <thead>\n",
       "    <tr style=\"text-align: right;\">\n",
       "      <th></th>\n",
       "      <th>Cedula</th>\n",
       "      <th>No_multa</th>\n",
       "      <th>Anio</th>\n",
       "      <th>Mes</th>\n",
       "      <th>Dia</th>\n",
       "      <th>Dia_retiro</th>\n",
       "      <th>Dias_mora</th>\n",
       "      <th>Saldo</th>\n",
       "      <th>Cartera</th>\n",
       "      <th>Segmento</th>\n",
       "      <th>Descripcion</th>\n",
       "      <th>Placa</th>\n",
       "      <th>Pago</th>\n",
       "      <th>dia_pago</th>\n",
       "      <th>tipo</th>\n",
       "    </tr>\n",
       "  </thead>\n",
       "  <tbody>\n",
       "    <tr>\n",
       "      <th>0</th>\n",
       "      <td>00042448K</td>\n",
       "      <td>5722394</td>\n",
       "      <td>2019</td>\n",
       "      <td>5</td>\n",
       "      <td>1</td>\n",
       "      <td>None</td>\n",
       "      <td>191.0</td>\n",
       "      <td>115.80</td>\n",
       "      <td>CORRIENTE</td>\n",
       "      <td>MULTAS NUEVAS</td>\n",
       "      <td>COND.EXCEDA DENTRO RANGO MODERADO LÍMITES DE V...</td>\n",
       "      <td>GRP0269</td>\n",
       "      <td>None</td>\n",
       "      <td>None</td>\n",
       "      <td>None</td>\n",
       "    </tr>\n",
       "    <tr>\n",
       "      <th>1</th>\n",
       "      <td>1000005262</td>\n",
       "      <td>4854542</td>\n",
       "      <td>2018</td>\n",
       "      <td>5</td>\n",
       "      <td>2</td>\n",
       "      <td>None</td>\n",
       "      <td>52.0</td>\n",
       "      <td>75.86</td>\n",
       "      <td>CONVENIO</td>\n",
       "      <td>CUOTA</td>\n",
       "      <td>Atraso</td>\n",
       "      <td>nan</td>\n",
       "      <td>None</td>\n",
       "      <td>None</td>\n",
       "      <td>None</td>\n",
       "    </tr>\n",
       "    <tr>\n",
       "      <th>2</th>\n",
       "      <td>1000041952</td>\n",
       "      <td>4087528</td>\n",
       "      <td>2018</td>\n",
       "      <td>5</td>\n",
       "      <td>2</td>\n",
       "      <td>None</td>\n",
       "      <td>232.0</td>\n",
       "      <td>112.50</td>\n",
       "      <td>CORRIENTE</td>\n",
       "      <td>FASE II</td>\n",
       "      <td>COND.EXCEDA DENTRO RANGO MODERADO LÍMITES DE V...</td>\n",
       "      <td>ABA1143</td>\n",
       "      <td>None</td>\n",
       "      <td>None</td>\n",
       "      <td>None</td>\n",
       "    </tr>\n",
       "    <tr>\n",
       "      <th>3</th>\n",
       "      <td>1000131977</td>\n",
       "      <td>1786073</td>\n",
       "      <td>2018</td>\n",
       "      <td>5</td>\n",
       "      <td>2</td>\n",
       "      <td>None</td>\n",
       "      <td>737.0</td>\n",
       "      <td>54.90</td>\n",
       "      <td>CORRIENTE</td>\n",
       "      <td>MENOR CUANTIA</td>\n",
       "      <td>DETEN.ESTAC.VEH.LUGAR NO PERMITIDO DEJAR/RECIB...</td>\n",
       "      <td>PAA6834</td>\n",
       "      <td>None</td>\n",
       "      <td>None</td>\n",
       "      <td>None</td>\n",
       "    </tr>\n",
       "    <tr>\n",
       "      <th>4</th>\n",
       "      <td>1000203719</td>\n",
       "      <td>5039556</td>\n",
       "      <td>2018</td>\n",
       "      <td>5</td>\n",
       "      <td>2</td>\n",
       "      <td>None</td>\n",
       "      <td>45.0</td>\n",
       "      <td>64.55</td>\n",
       "      <td>CONVENIO</td>\n",
       "      <td>CUOTA</td>\n",
       "      <td>Atraso</td>\n",
       "      <td>nan</td>\n",
       "      <td>None</td>\n",
       "      <td>None</td>\n",
       "      <td>None</td>\n",
       "    </tr>\n",
       "  </tbody>\n",
       "</table>\n",
       "</div>"
      ],
      "text/plain": [
       "       Cedula No_multa  Anio  Mes  Dia Dia_retiro  Dias_mora   Saldo  \\\n",
       "0   00042448K  5722394  2019    5    1       None      191.0  115.80   \n",
       "1  1000005262  4854542  2018    5    2       None       52.0   75.86   \n",
       "2  1000041952  4087528  2018    5    2       None      232.0  112.50   \n",
       "3  1000131977  1786073  2018    5    2       None      737.0   54.90   \n",
       "4  1000203719  5039556  2018    5    2       None       45.0   64.55   \n",
       "\n",
       "     Cartera       Segmento  \\\n",
       "0  CORRIENTE  MULTAS NUEVAS   \n",
       "1   CONVENIO          CUOTA   \n",
       "2  CORRIENTE        FASE II   \n",
       "3  CORRIENTE  MENOR CUANTIA   \n",
       "4   CONVENIO          CUOTA   \n",
       "\n",
       "                                         Descripcion    Placa  Pago dia_pago  \\\n",
       "0  COND.EXCEDA DENTRO RANGO MODERADO LÍMITES DE V...  GRP0269  None     None   \n",
       "1                                             Atraso      nan  None     None   \n",
       "2  COND.EXCEDA DENTRO RANGO MODERADO LÍMITES DE V...  ABA1143  None     None   \n",
       "3  DETEN.ESTAC.VEH.LUGAR NO PERMITIDO DEJAR/RECIB...  PAA6834  None     None   \n",
       "4                                             Atraso      nan  None     None   \n",
       "\n",
       "   tipo  \n",
       "0  None  \n",
       "1  None  \n",
       "2  None  \n",
       "3  None  \n",
       "4  None  "
      ]
     },
     "execution_count": 25,
     "metadata": {},
     "output_type": "execute_result"
    }
   ],
   "source": [
    "resultado_multas.head()"
   ]
  },
  {
   "cell_type": "code",
   "execution_count": 26,
   "metadata": {},
   "outputs": [],
   "source": [
    "dias_mora_multa=resultado_multas[['No_multa','Dias_mora']].copy()"
   ]
  },
  {
   "cell_type": "code",
   "execution_count": 27,
   "metadata": {},
   "outputs": [],
   "source": [
    "dias_mora_multa = dias_mora_multa.rename(columns={'No_multa':'ID_FACTURA','Dias_mora':'DIAS_MORA'})\n",
    "dias_mora_multa['ID_FACTURA']=dias_mora_multa['ID_FACTURA'].apply(int)"
   ]
  },
  {
   "cell_type": "code",
   "execution_count": 28,
   "metadata": {},
   "outputs": [
    {
     "data": {
      "text/html": [
       "<div>\n",
       "<style scoped>\n",
       "    .dataframe tbody tr th:only-of-type {\n",
       "        vertical-align: middle;\n",
       "    }\n",
       "\n",
       "    .dataframe tbody tr th {\n",
       "        vertical-align: top;\n",
       "    }\n",
       "\n",
       "    .dataframe thead th {\n",
       "        text-align: right;\n",
       "    }\n",
       "</style>\n",
       "<table border=\"1\" class=\"dataframe\">\n",
       "  <thead>\n",
       "    <tr style=\"text-align: right;\">\n",
       "      <th></th>\n",
       "      <th>ID_FACTURA</th>\n",
       "      <th>DIAS_MORA</th>\n",
       "    </tr>\n",
       "  </thead>\n",
       "  <tbody>\n",
       "    <tr>\n",
       "      <th>0</th>\n",
       "      <td>5722394</td>\n",
       "      <td>191.0</td>\n",
       "    </tr>\n",
       "    <tr>\n",
       "      <th>1</th>\n",
       "      <td>4854542</td>\n",
       "      <td>52.0</td>\n",
       "    </tr>\n",
       "    <tr>\n",
       "      <th>2</th>\n",
       "      <td>4087528</td>\n",
       "      <td>232.0</td>\n",
       "    </tr>\n",
       "    <tr>\n",
       "      <th>3</th>\n",
       "      <td>1786073</td>\n",
       "      <td>737.0</td>\n",
       "    </tr>\n",
       "    <tr>\n",
       "      <th>4</th>\n",
       "      <td>5039556</td>\n",
       "      <td>45.0</td>\n",
       "    </tr>\n",
       "  </tbody>\n",
       "</table>\n",
       "</div>"
      ],
      "text/plain": [
       "   ID_FACTURA  DIAS_MORA\n",
       "0     5722394      191.0\n",
       "1     4854542       52.0\n",
       "2     4087528      232.0\n",
       "3     1786073      737.0\n",
       "4     5039556       45.0"
      ]
     },
     "execution_count": 28,
     "metadata": {},
     "output_type": "execute_result"
    }
   ],
   "source": [
    "dias_mora_multa.head()"
   ]
  },
  {
   "cell_type": "markdown",
   "metadata": {},
   "source": [
    "# PAGOS"
   ]
  },
  {
   "cell_type": "code",
   "execution_count": 29,
   "metadata": {},
   "outputs": [],
   "source": [
    "pago_corr={\n",
    "    'ruta':'..\\..\\..\\BASES DATATOOLS\\PAGOS\\\\2019\\\\'+F_Mes+'\\Sitema de cobro '+fecha_pago+'.xlsx',\n",
    "    'hoja':'PAGOS_CORRIENTE',\n",
    "    'cartera':'CORRIENTE',\n",
    "    'identificador':'IDENTIFICACION'\n",
    "}\n",
    "\n",
    "pago_cuot={\n",
    "    'ruta':'..\\..\\..\\BASES DATATOOLS\\PAGOS\\\\2019\\\\'+F_Mes+'\\\\Sitema de cobro '+fecha_pago+'.xlsx',\n",
    "    'hoja':'PAGOS_CUOTACERO',\n",
    "    'cartera':'CUOTA',\n",
    "    'identificador':'ID'\n",
    "}\n",
    "\n",
    "pago_conv={\n",
    "    'ruta':'..\\..\\..\\BASES DATATOOLS\\PAGOS\\\\2019\\\\'+F_Mes+'\\\\Sitema de cobro '+fecha_pago+'.xlsx',\n",
    "    'hoja':'PAGOS_CONVENIOS',\n",
    "    'cartera':'CONVENIO',\n",
    "    'identificador':'ID'\n",
    "}"
   ]
  },
  {
   "cell_type": "code",
   "execution_count": 30,
   "metadata": {},
   "outputs": [],
   "source": [
    "pagos_corr=pd.read_excel(open(pago_corr['ruta'],'rb'), sheet_name=pago_corr['hoja'], dtype={pago_corr['identificador']: str})\n",
    "pagos_cuot=pd.read_excel(open(pago_cuot['ruta'],'rb'), sheet_name=pago_cuot['hoja'], dtype={pago_cuot['identificador']: str})\n",
    "pagos_conv=pd.read_excel(open(pago_conv['ruta'],'rb'), sheet_name=pago_conv['hoja'], dtype={pago_conv['identificador']: str})"
   ]
  },
  {
   "cell_type": "code",
   "execution_count": 31,
   "metadata": {},
   "outputs": [],
   "source": [
    "def agregar_ceros(base):\n",
    "    ced=base['ID']\n",
    "    if len(ced)==9 or len(ced)==12 :\n",
    "        if ced.isdigit():\n",
    "            return '0'+ced\n",
    "    return ced"
   ]
  },
  {
   "cell_type": "code",
   "execution_count": 32,
   "metadata": {},
   "outputs": [],
   "source": [
    "pagos_cuot['ID']=pagos_cuot.apply(agregar_ceros,axis=1)"
   ]
  },
  {
   "cell_type": "markdown",
   "metadata": {},
   "source": [
    "### CORRIENTE"
   ]
  },
  {
   "cell_type": "code",
   "execution_count": 33,
   "metadata": {},
   "outputs": [],
   "source": [
    "def agregar_ceros2(base):\n",
    "    ced=base['IDENTIFICACION']\n",
    "    if len(ced)==9 or len(ced)==12 :\n",
    "        if ced.isdigit():\n",
    "            return '0'+ced\n",
    "    return ced"
   ]
  },
  {
   "cell_type": "code",
   "execution_count": 34,
   "metadata": {},
   "outputs": [],
   "source": [
    "pagos_corr['IDENTIFICACION']=pagos_corr.apply(agregar_ceros2,axis=1)"
   ]
  },
  {
   "cell_type": "code",
   "execution_count": 35,
   "metadata": {},
   "outputs": [],
   "source": [
    "def tipo(base):\n",
    "    casa=base['CASA_COBRO']\n",
    "    if casa=='SISTEMA SALDO MENORES':\n",
    "        return 'MENORES'\n",
    "    else:\n",
    "        return 'CORRIENTE'"
   ]
  },
  {
   "cell_type": "code",
   "execution_count": 36,
   "metadata": {},
   "outputs": [],
   "source": [
    "pagos_corr['DIA_PAGO'] = pagos_corr['FECHA_PAGO'].dt.day\n",
    "pagos_corr = pagos_corr.rename(columns={'CASA COBRO':'CASA_COBRO'})"
   ]
  },
  {
   "cell_type": "code",
   "execution_count": 37,
   "metadata": {},
   "outputs": [
    {
     "data": {
      "text/html": [
       "<div>\n",
       "<style scoped>\n",
       "    .dataframe tbody tr th:only-of-type {\n",
       "        vertical-align: middle;\n",
       "    }\n",
       "\n",
       "    .dataframe tbody tr th {\n",
       "        vertical-align: top;\n",
       "    }\n",
       "\n",
       "    .dataframe thead th {\n",
       "        text-align: right;\n",
       "    }\n",
       "</style>\n",
       "<table border=\"1\" class=\"dataframe\">\n",
       "  <thead>\n",
       "    <tr style=\"text-align: right;\">\n",
       "      <th></th>\n",
       "      <th>IDENTIFICACION</th>\n",
       "      <th>ID_FACTURA</th>\n",
       "      <th>VALOR_INFRACCION</th>\n",
       "      <th>FECHA_PAGO</th>\n",
       "      <th>DIA_PAGO</th>\n",
       "      <th>TIPO</th>\n",
       "      <th>DIAS_MORA</th>\n",
       "    </tr>\n",
       "  </thead>\n",
       "  <tbody>\n",
       "    <tr>\n",
       "      <th>0</th>\n",
       "      <td>0907964464</td>\n",
       "      <td>6347039</td>\n",
       "      <td>115.8</td>\n",
       "      <td>2019-05-01</td>\n",
       "      <td>1</td>\n",
       "      <td>CORRIENTE</td>\n",
       "      <td>172.0</td>\n",
       "    </tr>\n",
       "    <tr>\n",
       "      <th>1</th>\n",
       "      <td>1711723831</td>\n",
       "      <td>5112985</td>\n",
       "      <td>19.3</td>\n",
       "      <td>2019-05-01</td>\n",
       "      <td>1</td>\n",
       "      <td>CORRIENTE</td>\n",
       "      <td>326.0</td>\n",
       "    </tr>\n",
       "    <tr>\n",
       "      <th>2</th>\n",
       "      <td>1304396581</td>\n",
       "      <td>5063205</td>\n",
       "      <td>19.3</td>\n",
       "      <td>2019-05-01</td>\n",
       "      <td>1</td>\n",
       "      <td>CORRIENTE</td>\n",
       "      <td>335.0</td>\n",
       "    </tr>\n",
       "    <tr>\n",
       "      <th>3</th>\n",
       "      <td>1304396581</td>\n",
       "      <td>5055893</td>\n",
       "      <td>19.3</td>\n",
       "      <td>2019-05-01</td>\n",
       "      <td>1</td>\n",
       "      <td>CORRIENTE</td>\n",
       "      <td>337.0</td>\n",
       "    </tr>\n",
       "    <tr>\n",
       "      <th>4</th>\n",
       "      <td>0912125002</td>\n",
       "      <td>6382875</td>\n",
       "      <td>19.7</td>\n",
       "      <td>2019-05-01</td>\n",
       "      <td>1</td>\n",
       "      <td>CORRIENTE</td>\n",
       "      <td>32.0</td>\n",
       "    </tr>\n",
       "  </tbody>\n",
       "</table>\n",
       "</div>"
      ],
      "text/plain": [
       "  IDENTIFICACION  ID_FACTURA  VALOR_INFRACCION FECHA_PAGO  DIA_PAGO  \\\n",
       "0     0907964464     6347039             115.8 2019-05-01         1   \n",
       "1     1711723831     5112985              19.3 2019-05-01         1   \n",
       "2     1304396581     5063205              19.3 2019-05-01         1   \n",
       "3     1304396581     5055893              19.3 2019-05-01         1   \n",
       "4     0912125002     6382875              19.7 2019-05-01         1   \n",
       "\n",
       "        TIPO  DIAS_MORA  \n",
       "0  CORRIENTE      172.0  \n",
       "1  CORRIENTE      326.0  \n",
       "2  CORRIENTE      335.0  \n",
       "3  CORRIENTE      337.0  \n",
       "4  CORRIENTE       32.0  "
      ]
     },
     "execution_count": 37,
     "metadata": {},
     "output_type": "execute_result"
    }
   ],
   "source": [
    "pagos_corr['TIPO']=pagos_corr.apply(tipo,axis=1)\n",
    "cruce_pag_corr=pd.merge(pagos_corr,dias_mora_multa,on=['ID_FACTURA'],how='left')\n",
    "cruce_pag_corr=cruce_pag_corr[['IDENTIFICACION','ID_FACTURA','VALOR_INFRACCION','FECHA_PAGO','DIA_PAGO','TIPO','DIAS_MORA']]\n",
    "cruce_pag_corr.head()"
   ]
  },
  {
   "cell_type": "markdown",
   "metadata": {},
   "source": [
    "## MENORES"
   ]
  },
  {
   "cell_type": "code",
   "execution_count": 38,
   "metadata": {},
   "outputs": [],
   "source": [
    "def identificar_pago(base):\n",
    "    valor1 = base['VALOR_INFRACCION']\n",
    "    valor2 = base['VALOR_PAGO_CAPITAL']\n",
    "    mora = base['DIAS_MORA']\n",
    "    if mora<=180:\n",
    "        return valor2\n",
    "    return valor1"
   ]
  },
  {
   "cell_type": "code",
   "execution_count": 39,
   "metadata": {},
   "outputs": [
    {
     "data": {
      "text/html": [
       "<div>\n",
       "<style scoped>\n",
       "    .dataframe tbody tr th:only-of-type {\n",
       "        vertical-align: middle;\n",
       "    }\n",
       "\n",
       "    .dataframe tbody tr th {\n",
       "        vertical-align: top;\n",
       "    }\n",
       "\n",
       "    .dataframe thead th {\n",
       "        text-align: right;\n",
       "    }\n",
       "</style>\n",
       "<table border=\"1\" class=\"dataframe\">\n",
       "  <thead>\n",
       "    <tr style=\"text-align: right;\">\n",
       "      <th></th>\n",
       "      <th>IDENTIFICACION</th>\n",
       "      <th>ID_FACTURA</th>\n",
       "      <th>VALOR_INFRACCION</th>\n",
       "      <th>FECHA_PAGO</th>\n",
       "      <th>DIA_PAGO</th>\n",
       "      <th>TIPO</th>\n",
       "      <th>DIAS_MORA</th>\n",
       "    </tr>\n",
       "  </thead>\n",
       "  <tbody>\n",
       "    <tr>\n",
       "      <th>0</th>\n",
       "      <td>0919709139</td>\n",
       "      <td>5533365</td>\n",
       "      <td>19.30</td>\n",
       "      <td>2019-05-01</td>\n",
       "      <td>1</td>\n",
       "      <td>CUOTA</td>\n",
       "      <td>236.0</td>\n",
       "    </tr>\n",
       "    <tr>\n",
       "      <th>1</th>\n",
       "      <td>0919709139</td>\n",
       "      <td>5608800</td>\n",
       "      <td>386.00</td>\n",
       "      <td>2019-05-01</td>\n",
       "      <td>1</td>\n",
       "      <td>CUOTA</td>\n",
       "      <td>218.0</td>\n",
       "    </tr>\n",
       "    <tr>\n",
       "      <th>2</th>\n",
       "      <td>0919709139</td>\n",
       "      <td>5973029</td>\n",
       "      <td>112.04</td>\n",
       "      <td>2019-05-01</td>\n",
       "      <td>1</td>\n",
       "      <td>CUOTA</td>\n",
       "      <td>128.0</td>\n",
       "    </tr>\n",
       "    <tr>\n",
       "      <th>3</th>\n",
       "      <td>0918099920</td>\n",
       "      <td>6348438</td>\n",
       "      <td>90.64</td>\n",
       "      <td>2019-05-01</td>\n",
       "      <td>1</td>\n",
       "      <td>CUOTA</td>\n",
       "      <td>40.0</td>\n",
       "    </tr>\n",
       "    <tr>\n",
       "      <th>4</th>\n",
       "      <td>0919709139</td>\n",
       "      <td>5358553</td>\n",
       "      <td>19.30</td>\n",
       "      <td>2019-05-01</td>\n",
       "      <td>1</td>\n",
       "      <td>CUOTA</td>\n",
       "      <td>273.0</td>\n",
       "    </tr>\n",
       "  </tbody>\n",
       "</table>\n",
       "</div>"
      ],
      "text/plain": [
       "  IDENTIFICACION  ID_FACTURA  VALOR_INFRACCION FECHA_PAGO  DIA_PAGO   TIPO  \\\n",
       "0     0919709139     5533365             19.30 2019-05-01         1  CUOTA   \n",
       "1     0919709139     5608800            386.00 2019-05-01         1  CUOTA   \n",
       "2     0919709139     5973029            112.04 2019-05-01         1  CUOTA   \n",
       "3     0918099920     6348438             90.64 2019-05-01         1  CUOTA   \n",
       "4     0919709139     5358553             19.30 2019-05-01         1  CUOTA   \n",
       "\n",
       "   DIAS_MORA  \n",
       "0      236.0  \n",
       "1      218.0  \n",
       "2      128.0  \n",
       "3       40.0  \n",
       "4      273.0  "
      ]
     },
     "execution_count": 39,
     "metadata": {},
     "output_type": "execute_result"
    }
   ],
   "source": [
    "pagos_cuot['TIPO']='CUOTA'\n",
    "pagos_cuot['DIA_PAGO'] = pagos_cuot['FECHA_REGISTRO_PAGO'].dt.day\n",
    "pagos_cuot['MONTO_PAGO']=pagos_cuot.apply(identificar_pago,axis=1)\n",
    "pagos_cuot_resumen=pagos_cuot[['ID','ID_FACTURA_INICIAL','MONTO_PAGO','FECHA_REGISTRO_PAGO','DIA_PAGO','TIPO']]\n",
    "pagos_cuot_resumen = pagos_cuot_resumen.rename(columns={'ID':'IDENTIFICACION','ID_FACTURA_INICIAL':'ID_FACTURA','MONTO_PAGO':'VALOR_INFRACCION','FECHA_REGISTRO_PAGO':'FECHA_PAGO'})\n",
    "cruce_pag_cuot=pd.merge(pagos_cuot_resumen,dias_mora_multa,on=['ID_FACTURA'],how='left')\n",
    "cruce_pag_cuot.head()"
   ]
  },
  {
   "cell_type": "code",
   "execution_count": 40,
   "metadata": {},
   "outputs": [
    {
     "data": {
      "text/plain": [
       "Index(['IDENTIFICACION', 'ID_FACTURA', 'VALOR_INFRACCION', 'FECHA_PAGO',\n",
       "       'DIA_PAGO', 'TIPO', 'DIAS_MORA'],\n",
       "      dtype='object')"
      ]
     },
     "execution_count": 40,
     "metadata": {},
     "output_type": "execute_result"
    }
   ],
   "source": [
    "cruce_pag_cuot.columns"
   ]
  },
  {
   "cell_type": "markdown",
   "metadata": {},
   "source": [
    "# CONVENIO"
   ]
  },
  {
   "cell_type": "code",
   "execution_count": 41,
   "metadata": {},
   "outputs": [],
   "source": [
    "def agregar_ceros3(base):\n",
    "    ced=base['ID']\n",
    "    if len(ced)==9 or len(ced)==12:\n",
    "        if ced.isdigit():\n",
    "            return '0'+ced\n",
    "    return ced"
   ]
  },
  {
   "cell_type": "code",
   "execution_count": 42,
   "metadata": {},
   "outputs": [],
   "source": [
    "pagos_conv['TIPO']='CONVENIO'\n",
    "pagos_conv['DIA_PAGO'] = pagos_conv['FECHA_PAGO'].dt.day"
   ]
  },
  {
   "cell_type": "code",
   "execution_count": 43,
   "metadata": {},
   "outputs": [],
   "source": [
    "pagos_conv['ID']=pagos_conv.apply(agregar_ceros3,axis=1)"
   ]
  },
  {
   "cell_type": "code",
   "execution_count": 44,
   "metadata": {},
   "outputs": [
    {
     "data": {
      "text/html": [
       "<div>\n",
       "<style scoped>\n",
       "    .dataframe tbody tr th:only-of-type {\n",
       "        vertical-align: middle;\n",
       "    }\n",
       "\n",
       "    .dataframe tbody tr th {\n",
       "        vertical-align: top;\n",
       "    }\n",
       "\n",
       "    .dataframe thead th {\n",
       "        text-align: right;\n",
       "    }\n",
       "</style>\n",
       "<table border=\"1\" class=\"dataframe\">\n",
       "  <thead>\n",
       "    <tr style=\"text-align: right;\">\n",
       "      <th></th>\n",
       "      <th>ID</th>\n",
       "      <th>ID_CONVENIO</th>\n",
       "      <th>NRO_CUOTA_EMISION</th>\n",
       "      <th>VALOR_PAGAR_CUOTA</th>\n",
       "      <th>FECHA_PAGO</th>\n",
       "      <th>FECHA_VENCIMIENTO</th>\n",
       "      <th>CASA COBRO</th>\n",
       "      <th>TIPO</th>\n",
       "      <th>DIA_PAGO</th>\n",
       "    </tr>\n",
       "  </thead>\n",
       "  <tbody>\n",
       "    <tr>\n",
       "      <th>0</th>\n",
       "      <td>0922469549</td>\n",
       "      <td>306207</td>\n",
       "      <td>6</td>\n",
       "      <td>102.93</td>\n",
       "      <td>2019-05-01</td>\n",
       "      <td>2018-09-19</td>\n",
       "      <td>SISTEMA DE COBRO DEL ECUADOR</td>\n",
       "      <td>CONVENIO</td>\n",
       "      <td>1</td>\n",
       "    </tr>\n",
       "    <tr>\n",
       "      <th>1</th>\n",
       "      <td>0922469549</td>\n",
       "      <td>306207</td>\n",
       "      <td>2</td>\n",
       "      <td>102.93</td>\n",
       "      <td>2019-05-01</td>\n",
       "      <td>2018-05-21</td>\n",
       "      <td>SISTEMA DE COBRO DEL ECUADOR</td>\n",
       "      <td>CONVENIO</td>\n",
       "      <td>1</td>\n",
       "    </tr>\n",
       "    <tr>\n",
       "      <th>2</th>\n",
       "      <td>0922469549</td>\n",
       "      <td>306207</td>\n",
       "      <td>3</td>\n",
       "      <td>102.93</td>\n",
       "      <td>2019-05-01</td>\n",
       "      <td>2018-06-19</td>\n",
       "      <td>SISTEMA DE COBRO DEL ECUADOR</td>\n",
       "      <td>CONVENIO</td>\n",
       "      <td>1</td>\n",
       "    </tr>\n",
       "    <tr>\n",
       "      <th>3</th>\n",
       "      <td>0941443665</td>\n",
       "      <td>350631</td>\n",
       "      <td>1</td>\n",
       "      <td>30.88</td>\n",
       "      <td>2019-05-01</td>\n",
       "      <td>2019-03-18</td>\n",
       "      <td>SISTEMA DE COBRO DEL ECUADOR</td>\n",
       "      <td>CONVENIO</td>\n",
       "      <td>1</td>\n",
       "    </tr>\n",
       "    <tr>\n",
       "      <th>4</th>\n",
       "      <td>0941443665</td>\n",
       "      <td>350631</td>\n",
       "      <td>2</td>\n",
       "      <td>30.88</td>\n",
       "      <td>2019-05-01</td>\n",
       "      <td>2019-04-18</td>\n",
       "      <td>SISTEMA DE COBRO DEL ECUADOR</td>\n",
       "      <td>CONVENIO</td>\n",
       "      <td>1</td>\n",
       "    </tr>\n",
       "  </tbody>\n",
       "</table>\n",
       "</div>"
      ],
      "text/plain": [
       "           ID  ID_CONVENIO  NRO_CUOTA_EMISION  VALOR_PAGAR_CUOTA FECHA_PAGO  \\\n",
       "0  0922469549       306207                  6             102.93 2019-05-01   \n",
       "1  0922469549       306207                  2             102.93 2019-05-01   \n",
       "2  0922469549       306207                  3             102.93 2019-05-01   \n",
       "3  0941443665       350631                  1              30.88 2019-05-01   \n",
       "4  0941443665       350631                  2              30.88 2019-05-01   \n",
       "\n",
       "  FECHA_VENCIMIENTO                    CASA COBRO      TIPO  DIA_PAGO  \n",
       "0        2018-09-19  SISTEMA DE COBRO DEL ECUADOR  CONVENIO         1  \n",
       "1        2018-05-21  SISTEMA DE COBRO DEL ECUADOR  CONVENIO         1  \n",
       "2        2018-06-19  SISTEMA DE COBRO DEL ECUADOR  CONVENIO         1  \n",
       "3        2019-03-18  SISTEMA DE COBRO DEL ECUADOR  CONVENIO         1  \n",
       "4        2019-04-18  SISTEMA DE COBRO DEL ECUADOR  CONVENIO         1  "
      ]
     },
     "execution_count": 44,
     "metadata": {},
     "output_type": "execute_result"
    }
   ],
   "source": [
    "pagos_conv.head()"
   ]
  },
  {
   "cell_type": "code",
   "execution_count": 45,
   "metadata": {},
   "outputs": [],
   "source": [
    "pagos_conv_resumen=pagos_conv[['ID','ID_CONVENIO','VALOR_PAGAR_CUOTA','FECHA_PAGO','DIA_PAGO','TIPO','NRO_CUOTA_EMISION']]\n",
    "pagos_conv_resumen = pagos_conv_resumen.rename(columns={'ID':'IDENTIFICACION','ID_CONVENIO':'ID_FACTURA','VALOR_PAGAR_CUOTA':'VALOR_INFRACCION','NRO_CUOTA_EMISION':'DIAS_MORA'})\n",
    "\n",
    "cruce_pag_conv=pd.merge(pagos_conv_resumen,gestion_asesor_cuotas,on=['IDENTIFICACION'],how='left')"
   ]
  },
  {
   "cell_type": "code",
   "execution_count": 46,
   "metadata": {},
   "outputs": [
    {
     "data": {
      "text/html": [
       "<div>\n",
       "<style scoped>\n",
       "    .dataframe tbody tr th:only-of-type {\n",
       "        vertical-align: middle;\n",
       "    }\n",
       "\n",
       "    .dataframe tbody tr th {\n",
       "        vertical-align: top;\n",
       "    }\n",
       "\n",
       "    .dataframe thead th {\n",
       "        text-align: right;\n",
       "    }\n",
       "</style>\n",
       "<table border=\"1\" class=\"dataframe\">\n",
       "  <thead>\n",
       "    <tr style=\"text-align: right;\">\n",
       "      <th></th>\n",
       "      <th>IDENTIFICACION</th>\n",
       "      <th>ID_FACTURA</th>\n",
       "      <th>VALOR_INFRACCION</th>\n",
       "      <th>FECHA_PAGO</th>\n",
       "      <th>DIA_PAGO</th>\n",
       "      <th>TIPO</th>\n",
       "      <th>DIAS_MORA</th>\n",
       "      <th>COD_AGENTE</th>\n",
       "      <th>FECHA_GESTION</th>\n",
       "      <th>CONTACTO_GESTIONO</th>\n",
       "      <th>ACCION_REALIZADA</th>\n",
       "      <th>RESPUESTA_OBTENIDA</th>\n",
       "      <th>NUMERO_GESTION</th>\n",
       "    </tr>\n",
       "  </thead>\n",
       "  <tbody>\n",
       "    <tr>\n",
       "      <th>0</th>\n",
       "      <td>0922469549</td>\n",
       "      <td>306207</td>\n",
       "      <td>102.93</td>\n",
       "      <td>2019-05-01</td>\n",
       "      <td>1</td>\n",
       "      <td>CONVENIO</td>\n",
       "      <td>6</td>\n",
       "      <td>NaN</td>\n",
       "      <td>NaN</td>\n",
       "      <td>NaN</td>\n",
       "      <td>NaN</td>\n",
       "      <td>NaN</td>\n",
       "      <td>NaN</td>\n",
       "    </tr>\n",
       "    <tr>\n",
       "      <th>1</th>\n",
       "      <td>0922469549</td>\n",
       "      <td>306207</td>\n",
       "      <td>102.93</td>\n",
       "      <td>2019-05-01</td>\n",
       "      <td>1</td>\n",
       "      <td>CONVENIO</td>\n",
       "      <td>2</td>\n",
       "      <td>NaN</td>\n",
       "      <td>NaN</td>\n",
       "      <td>NaN</td>\n",
       "      <td>NaN</td>\n",
       "      <td>NaN</td>\n",
       "      <td>NaN</td>\n",
       "    </tr>\n",
       "    <tr>\n",
       "      <th>2</th>\n",
       "      <td>0922469549</td>\n",
       "      <td>306207</td>\n",
       "      <td>102.93</td>\n",
       "      <td>2019-05-01</td>\n",
       "      <td>1</td>\n",
       "      <td>CONVENIO</td>\n",
       "      <td>3</td>\n",
       "      <td>NaN</td>\n",
       "      <td>NaN</td>\n",
       "      <td>NaN</td>\n",
       "      <td>NaN</td>\n",
       "      <td>NaN</td>\n",
       "      <td>NaN</td>\n",
       "    </tr>\n",
       "    <tr>\n",
       "      <th>3</th>\n",
       "      <td>0941443665</td>\n",
       "      <td>350631</td>\n",
       "      <td>30.88</td>\n",
       "      <td>2019-05-01</td>\n",
       "      <td>1</td>\n",
       "      <td>CONVENIO</td>\n",
       "      <td>1</td>\n",
       "      <td>NaN</td>\n",
       "      <td>NaN</td>\n",
       "      <td>NaN</td>\n",
       "      <td>NaN</td>\n",
       "      <td>NaN</td>\n",
       "      <td>NaN</td>\n",
       "    </tr>\n",
       "    <tr>\n",
       "      <th>4</th>\n",
       "      <td>0941443665</td>\n",
       "      <td>350631</td>\n",
       "      <td>30.88</td>\n",
       "      <td>2019-05-01</td>\n",
       "      <td>1</td>\n",
       "      <td>CONVENIO</td>\n",
       "      <td>2</td>\n",
       "      <td>NaN</td>\n",
       "      <td>NaN</td>\n",
       "      <td>NaN</td>\n",
       "      <td>NaN</td>\n",
       "      <td>NaN</td>\n",
       "      <td>NaN</td>\n",
       "    </tr>\n",
       "  </tbody>\n",
       "</table>\n",
       "</div>"
      ],
      "text/plain": [
       "  IDENTIFICACION  ID_FACTURA  VALOR_INFRACCION FECHA_PAGO  DIA_PAGO      TIPO  \\\n",
       "0     0922469549      306207            102.93 2019-05-01         1  CONVENIO   \n",
       "1     0922469549      306207            102.93 2019-05-01         1  CONVENIO   \n",
       "2     0922469549      306207            102.93 2019-05-01         1  CONVENIO   \n",
       "3     0941443665      350631             30.88 2019-05-01         1  CONVENIO   \n",
       "4     0941443665      350631             30.88 2019-05-01         1  CONVENIO   \n",
       "\n",
       "   DIAS_MORA COD_AGENTE  FECHA_GESTION CONTACTO_GESTIONO ACCION_REALIZADA  \\\n",
       "0          6        NaN            NaN               NaN              NaN   \n",
       "1          2        NaN            NaN               NaN              NaN   \n",
       "2          3        NaN            NaN               NaN              NaN   \n",
       "3          1        NaN            NaN               NaN              NaN   \n",
       "4          2        NaN            NaN               NaN              NaN   \n",
       "\n",
       "  RESPUESTA_OBTENIDA NUMERO_GESTION  \n",
       "0                NaN            NaN  \n",
       "1                NaN            NaN  \n",
       "2                NaN            NaN  \n",
       "3                NaN            NaN  \n",
       "4                NaN            NaN  "
      ]
     },
     "execution_count": 46,
     "metadata": {},
     "output_type": "execute_result"
    }
   ],
   "source": [
    "cruce_pag_conv.head()"
   ]
  },
  {
   "cell_type": "code",
   "execution_count": 47,
   "metadata": {},
   "outputs": [],
   "source": [
    "#cruce_pag_conv=cruce_pag_conv[['IDENTIFICACION', 'ID_FACTURA', 'VALOR_INFRACCION', 'FECHA_PAGO','DIA_PAGO', 'TIPO', 'DIAS_MORA']]"
   ]
  },
  {
   "cell_type": "markdown",
   "metadata": {},
   "source": [
    "## UNIR LOS PAGOS"
   ]
  },
  {
   "cell_type": "code",
   "execution_count": 48,
   "metadata": {},
   "outputs": [],
   "source": [
    "pagos=[cruce_pag_cuot,cruce_pag_corr]\n",
    "total_pagos=pd.concat(pagos)"
   ]
  },
  {
   "cell_type": "code",
   "execution_count": 49,
   "metadata": {},
   "outputs": [
    {
     "data": {
      "text/plain": [
       "CORRIENTE    1019\n",
       "CUOTA         344\n",
       "Name: TIPO, dtype: int64"
      ]
     },
     "execution_count": 49,
     "metadata": {},
     "output_type": "execute_result"
    }
   ],
   "source": [
    "total_pagos['TIPO'].value_counts()"
   ]
  },
  {
   "cell_type": "code",
   "execution_count": 50,
   "metadata": {},
   "outputs": [],
   "source": [
    "def honorarios(base):\n",
    "    tipo=base['TIPO']\n",
    "    mora=base['DIAS_MORA']\n",
    "    valor=base['VALOR_INFRACCION']\n",
    "    if tipo=='CONVENIO':\n",
    "        return valor*0.035\n",
    "    if tipo=='CUOTA'and mora>180:\n",
    "        return valor*0.05\n",
    "    if mora<61:\n",
    "        return valor*0.02\n",
    "    if mora<181:\n",
    "        return valor*0.04\n",
    "    if mora<361:\n",
    "        return valor*0.05\n",
    "    if mora>360:\n",
    "        return valor*0.06\n",
    "    return 0.0"
   ]
  },
  {
   "cell_type": "code",
   "execution_count": 51,
   "metadata": {},
   "outputs": [
    {
     "data": {
      "text/html": [
       "<div>\n",
       "<style scoped>\n",
       "    .dataframe tbody tr th:only-of-type {\n",
       "        vertical-align: middle;\n",
       "    }\n",
       "\n",
       "    .dataframe tbody tr th {\n",
       "        vertical-align: top;\n",
       "    }\n",
       "\n",
       "    .dataframe thead th {\n",
       "        text-align: right;\n",
       "    }\n",
       "</style>\n",
       "<table border=\"1\" class=\"dataframe\">\n",
       "  <thead>\n",
       "    <tr style=\"text-align: right;\">\n",
       "      <th></th>\n",
       "      <th>IDENTIFICACION</th>\n",
       "      <th>ID_FACTURA</th>\n",
       "      <th>VALOR_INFRACCION</th>\n",
       "      <th>FECHA_PAGO</th>\n",
       "      <th>DIA_PAGO</th>\n",
       "      <th>TIPO</th>\n",
       "      <th>DIAS_MORA</th>\n",
       "      <th>HONORARIOS</th>\n",
       "    </tr>\n",
       "  </thead>\n",
       "  <tbody>\n",
       "    <tr>\n",
       "      <th>0</th>\n",
       "      <td>0919709139</td>\n",
       "      <td>5533365</td>\n",
       "      <td>19.30</td>\n",
       "      <td>2019-05-01</td>\n",
       "      <td>1</td>\n",
       "      <td>CUOTA</td>\n",
       "      <td>236.0</td>\n",
       "      <td>0.9650</td>\n",
       "    </tr>\n",
       "    <tr>\n",
       "      <th>1</th>\n",
       "      <td>0919709139</td>\n",
       "      <td>5608800</td>\n",
       "      <td>386.00</td>\n",
       "      <td>2019-05-01</td>\n",
       "      <td>1</td>\n",
       "      <td>CUOTA</td>\n",
       "      <td>218.0</td>\n",
       "      <td>19.3000</td>\n",
       "    </tr>\n",
       "    <tr>\n",
       "      <th>2</th>\n",
       "      <td>0919709139</td>\n",
       "      <td>5973029</td>\n",
       "      <td>112.04</td>\n",
       "      <td>2019-05-01</td>\n",
       "      <td>1</td>\n",
       "      <td>CUOTA</td>\n",
       "      <td>128.0</td>\n",
       "      <td>4.4816</td>\n",
       "    </tr>\n",
       "    <tr>\n",
       "      <th>3</th>\n",
       "      <td>0918099920</td>\n",
       "      <td>6348438</td>\n",
       "      <td>90.64</td>\n",
       "      <td>2019-05-01</td>\n",
       "      <td>1</td>\n",
       "      <td>CUOTA</td>\n",
       "      <td>40.0</td>\n",
       "      <td>1.8128</td>\n",
       "    </tr>\n",
       "    <tr>\n",
       "      <th>4</th>\n",
       "      <td>0919709139</td>\n",
       "      <td>5358553</td>\n",
       "      <td>19.30</td>\n",
       "      <td>2019-05-01</td>\n",
       "      <td>1</td>\n",
       "      <td>CUOTA</td>\n",
       "      <td>273.0</td>\n",
       "      <td>0.9650</td>\n",
       "    </tr>\n",
       "  </tbody>\n",
       "</table>\n",
       "</div>"
      ],
      "text/plain": [
       "  IDENTIFICACION  ID_FACTURA  VALOR_INFRACCION FECHA_PAGO  DIA_PAGO   TIPO  \\\n",
       "0     0919709139     5533365             19.30 2019-05-01         1  CUOTA   \n",
       "1     0919709139     5608800            386.00 2019-05-01         1  CUOTA   \n",
       "2     0919709139     5973029            112.04 2019-05-01         1  CUOTA   \n",
       "3     0918099920     6348438             90.64 2019-05-01         1  CUOTA   \n",
       "4     0919709139     5358553             19.30 2019-05-01         1  CUOTA   \n",
       "\n",
       "   DIAS_MORA  HONORARIOS  \n",
       "0      236.0      0.9650  \n",
       "1      218.0     19.3000  \n",
       "2      128.0      4.4816  \n",
       "3       40.0      1.8128  \n",
       "4      273.0      0.9650  "
      ]
     },
     "execution_count": 51,
     "metadata": {},
     "output_type": "execute_result"
    }
   ],
   "source": [
    "total_pagos['HONORARIOS']=total_pagos.apply(honorarios,axis=1)\n",
    "total_pagos.head()"
   ]
  },
  {
   "cell_type": "code",
   "execution_count": 52,
   "metadata": {},
   "outputs": [
    {
     "data": {
      "text/plain": [
       "CORRIENTE    1019\n",
       "CUOTA         344\n",
       "Name: TIPO, dtype: int64"
      ]
     },
     "execution_count": 52,
     "metadata": {},
     "output_type": "execute_result"
    }
   ],
   "source": [
    "total_pagos['TIPO'].value_counts()"
   ]
  },
  {
   "cell_type": "markdown",
   "metadata": {},
   "source": [
    "## CRUCE CON GESTIONES"
   ]
  },
  {
   "cell_type": "code",
   "execution_count": 53,
   "metadata": {},
   "outputs": [],
   "source": [
    "cruce_honorario=pd.merge(total_pagos,total_gestiones,on=['IDENTIFICACION'],how='left')"
   ]
  },
  {
   "cell_type": "code",
   "execution_count": 54,
   "metadata": {},
   "outputs": [
    {
     "data": {
      "text/html": [
       "<div>\n",
       "<style scoped>\n",
       "    .dataframe tbody tr th:only-of-type {\n",
       "        vertical-align: middle;\n",
       "    }\n",
       "\n",
       "    .dataframe tbody tr th {\n",
       "        vertical-align: top;\n",
       "    }\n",
       "\n",
       "    .dataframe thead th {\n",
       "        text-align: right;\n",
       "    }\n",
       "</style>\n",
       "<table border=\"1\" class=\"dataframe\">\n",
       "  <thead>\n",
       "    <tr style=\"text-align: right;\">\n",
       "      <th></th>\n",
       "      <th>IDENTIFICACION</th>\n",
       "      <th>ID_FACTURA</th>\n",
       "      <th>VALOR_INFRACCION</th>\n",
       "      <th>FECHA_PAGO</th>\n",
       "      <th>DIA_PAGO</th>\n",
       "      <th>TIPO</th>\n",
       "      <th>DIAS_MORA</th>\n",
       "      <th>HONORARIOS</th>\n",
       "      <th>COD_AGENTE</th>\n",
       "      <th>FECHA_GESTION</th>\n",
       "      <th>CONTACTO_GESTIONO</th>\n",
       "      <th>ACCION_REALIZADA</th>\n",
       "      <th>RESPUESTA_OBTENIDA</th>\n",
       "      <th>NUMERO_GESTION</th>\n",
       "    </tr>\n",
       "  </thead>\n",
       "  <tbody>\n",
       "    <tr>\n",
       "      <th>0</th>\n",
       "      <td>0919709139</td>\n",
       "      <td>5533365</td>\n",
       "      <td>19.30</td>\n",
       "      <td>2019-05-01</td>\n",
       "      <td>1</td>\n",
       "      <td>CUOTA</td>\n",
       "      <td>236.0</td>\n",
       "      <td>0.9650</td>\n",
       "      <td>NaN</td>\n",
       "      <td>NaN</td>\n",
       "      <td>NaN</td>\n",
       "      <td>NaN</td>\n",
       "      <td>NaN</td>\n",
       "      <td>NaN</td>\n",
       "    </tr>\n",
       "    <tr>\n",
       "      <th>1</th>\n",
       "      <td>0919709139</td>\n",
       "      <td>5608800</td>\n",
       "      <td>386.00</td>\n",
       "      <td>2019-05-01</td>\n",
       "      <td>1</td>\n",
       "      <td>CUOTA</td>\n",
       "      <td>218.0</td>\n",
       "      <td>19.3000</td>\n",
       "      <td>NaN</td>\n",
       "      <td>NaN</td>\n",
       "      <td>NaN</td>\n",
       "      <td>NaN</td>\n",
       "      <td>NaN</td>\n",
       "      <td>NaN</td>\n",
       "    </tr>\n",
       "    <tr>\n",
       "      <th>2</th>\n",
       "      <td>0919709139</td>\n",
       "      <td>5973029</td>\n",
       "      <td>112.04</td>\n",
       "      <td>2019-05-01</td>\n",
       "      <td>1</td>\n",
       "      <td>CUOTA</td>\n",
       "      <td>128.0</td>\n",
       "      <td>4.4816</td>\n",
       "      <td>NaN</td>\n",
       "      <td>NaN</td>\n",
       "      <td>NaN</td>\n",
       "      <td>NaN</td>\n",
       "      <td>NaN</td>\n",
       "      <td>NaN</td>\n",
       "    </tr>\n",
       "    <tr>\n",
       "      <th>3</th>\n",
       "      <td>0918099920</td>\n",
       "      <td>6348438</td>\n",
       "      <td>90.64</td>\n",
       "      <td>2019-05-01</td>\n",
       "      <td>1</td>\n",
       "      <td>CUOTA</td>\n",
       "      <td>40.0</td>\n",
       "      <td>1.8128</td>\n",
       "      <td>NaN</td>\n",
       "      <td>NaN</td>\n",
       "      <td>NaN</td>\n",
       "      <td>NaN</td>\n",
       "      <td>NaN</td>\n",
       "      <td>NaN</td>\n",
       "    </tr>\n",
       "    <tr>\n",
       "      <th>4</th>\n",
       "      <td>0919709139</td>\n",
       "      <td>5358553</td>\n",
       "      <td>19.30</td>\n",
       "      <td>2019-05-01</td>\n",
       "      <td>1</td>\n",
       "      <td>CUOTA</td>\n",
       "      <td>273.0</td>\n",
       "      <td>0.9650</td>\n",
       "      <td>NaN</td>\n",
       "      <td>NaN</td>\n",
       "      <td>NaN</td>\n",
       "      <td>NaN</td>\n",
       "      <td>NaN</td>\n",
       "      <td>NaN</td>\n",
       "    </tr>\n",
       "  </tbody>\n",
       "</table>\n",
       "</div>"
      ],
      "text/plain": [
       "  IDENTIFICACION  ID_FACTURA  VALOR_INFRACCION FECHA_PAGO  DIA_PAGO   TIPO  \\\n",
       "0     0919709139     5533365             19.30 2019-05-01         1  CUOTA   \n",
       "1     0919709139     5608800            386.00 2019-05-01         1  CUOTA   \n",
       "2     0919709139     5973029            112.04 2019-05-01         1  CUOTA   \n",
       "3     0918099920     6348438             90.64 2019-05-01         1  CUOTA   \n",
       "4     0919709139     5358553             19.30 2019-05-01         1  CUOTA   \n",
       "\n",
       "   DIAS_MORA  HONORARIOS COD_AGENTE  FECHA_GESTION CONTACTO_GESTIONO  \\\n",
       "0      236.0      0.9650        NaN            NaN               NaN   \n",
       "1      218.0     19.3000        NaN            NaN               NaN   \n",
       "2      128.0      4.4816        NaN            NaN               NaN   \n",
       "3       40.0      1.8128        NaN            NaN               NaN   \n",
       "4      273.0      0.9650        NaN            NaN               NaN   \n",
       "\n",
       "  ACCION_REALIZADA RESPUESTA_OBTENIDA NUMERO_GESTION  \n",
       "0              NaN                NaN            NaN  \n",
       "1              NaN                NaN            NaN  \n",
       "2              NaN                NaN            NaN  \n",
       "3              NaN                NaN            NaN  \n",
       "4              NaN                NaN            NaN  "
      ]
     },
     "execution_count": 54,
     "metadata": {},
     "output_type": "execute_result"
    }
   ],
   "source": [
    "cruce_honorario.head()"
   ]
  },
  {
   "cell_type": "code",
   "execution_count": 55,
   "metadata": {},
   "outputs": [],
   "source": [
    "def validar(base):\n",
    "    dia_pago=base['DIA_PAGO']\n",
    "    dia_gestion=base['FECHA_GESTION']\n",
    "    if dia_gestion<=dia_pago:\n",
    "        return 'SI'\n",
    "    return 'NO'"
   ]
  },
  {
   "cell_type": "code",
   "execution_count": 56,
   "metadata": {},
   "outputs": [],
   "source": [
    "cruce_honorario['VALIDO']=cruce_honorario.apply(validar,axis=1)"
   ]
  },
  {
   "cell_type": "code",
   "execution_count": 57,
   "metadata": {},
   "outputs": [],
   "source": [
    "cruce_pag_conv['HONORARIOS']=cruce_pag_conv.apply(honorarios,axis=1)\n",
    "cruce_pag_conv['VALIDO']=cruce_pag_conv.apply(validar,axis=1)"
   ]
  },
  {
   "cell_type": "code",
   "execution_count": 58,
   "metadata": {},
   "outputs": [
    {
     "name": "stderr",
     "output_type": "stream",
     "text": [
      "c:\\users\\michael\\appdata\\local\\programs\\python\\python36-32\\lib\\site-packages\\ipykernel_launcher.py:2: FutureWarning: Sorting because non-concatenation axis is not aligned. A future version\n",
      "of pandas will change to not sort by default.\n",
      "\n",
      "To accept the future behavior, pass 'sort=True'.\n",
      "\n",
      "To retain the current behavior and silence the warning, pass sort=False\n",
      "\n",
      "  \n"
     ]
    }
   ],
   "source": [
    "pagos_total=[cruce_honorario,cruce_pag_conv]\n",
    "total_pagos_all=pd.concat(pagos_total)"
   ]
  },
  {
   "cell_type": "code",
   "execution_count": 59,
   "metadata": {},
   "outputs": [
    {
     "data": {
      "text/plain": [
       "CORRIENTE    1019\n",
       "CONVENIO      486\n",
       "CUOTA         344\n",
       "Name: TIPO, dtype: int64"
      ]
     },
     "execution_count": 59,
     "metadata": {},
     "output_type": "execute_result"
    }
   ],
   "source": [
    "total_pagos_all['TIPO'].value_counts()"
   ]
  },
  {
   "cell_type": "markdown",
   "metadata": {},
   "source": [
    "## HONORARIOS VALIDOS"
   ]
  },
  {
   "cell_type": "code",
   "execution_count": 60,
   "metadata": {},
   "outputs": [
    {
     "name": "stdout",
     "output_type": "stream",
     "text": [
      "           VALOR_INFRACCION  HONORARIOS\n",
      "TIPO                                   \n",
      "CONVENIO            8706.10    304.7135\n",
      "CORRIENTE          63404.65   2215.1745\n",
      "CUOTA              25753.87    961.0088\n",
      "VALOR_INFRACCION    97864.6200\n",
      "HONORARIOS           3480.8968\n",
      "dtype: float64\n"
     ]
    }
   ],
   "source": [
    "print(total_pagos_all[total_pagos_all['VALIDO']=='SI'].groupby('TIPO').agg({'VALOR_INFRACCION':'sum','HONORARIOS':'sum'}))\n",
    "print(total_pagos_all[total_pagos_all['VALIDO']=='SI'].groupby('TIPO').agg({'VALOR_INFRACCION':'sum','HONORARIOS':'sum'}).sum())"
   ]
  },
  {
   "cell_type": "code",
   "execution_count": 61,
   "metadata": {},
   "outputs": [
    {
     "data": {
      "text/plain": [
       "<matplotlib.axes._subplots.AxesSubplot at 0x1507a3b0>"
      ]
     },
     "execution_count": 61,
     "metadata": {},
     "output_type": "execute_result"
    }
   ],
   "source": [
    "total_pagos_all[total_pagos_all['VALIDO']=='SI'].groupby('TIPO').agg({'VALOR_INFRACCION':'sum','HONORARIOS':'sum'}).plot.line()"
   ]
  },
  {
   "cell_type": "markdown",
   "metadata": {},
   "source": [
    "## HONORARIOS TOTALES"
   ]
  },
  {
   "cell_type": "code",
   "execution_count": 62,
   "metadata": {},
   "outputs": [
    {
     "name": "stdout",
     "output_type": "stream",
     "text": [
      "           VALOR_INFRACCION  HONORARIOS\n",
      "TIPO                                   \n",
      "CONVENIO           31985.27  1119.48445\n",
      "CORRIENTE          81017.95  2916.22250\n",
      "CUOTA              30593.03  1148.70090\n",
      "VALOR_INFRACCION    143596.25000\n",
      "HONORARIOS            5184.40785\n",
      "dtype: float64\n"
     ]
    }
   ],
   "source": [
    "print(total_pagos_all.groupby('TIPO').agg({'VALOR_INFRACCION':'sum','HONORARIOS':'sum'}))\n",
    "print(total_pagos_all.groupby('TIPO').agg({'VALOR_INFRACCION':'sum','HONORARIOS':'sum'}).sum())"
   ]
  },
  {
   "cell_type": "code",
   "execution_count": null,
   "metadata": {},
   "outputs": [],
   "source": []
  },
  {
   "cell_type": "markdown",
   "metadata": {},
   "source": [
    "## HONORARIOS NO VALIDOS"
   ]
  },
  {
   "cell_type": "code",
   "execution_count": 63,
   "metadata": {},
   "outputs": [
    {
     "name": "stdout",
     "output_type": "stream",
     "text": [
      "           VALOR_INFRACCION  HONORARIOS\n",
      "TIPO                                   \n",
      "CONVENIO           23279.17   814.77095\n",
      "CORRIENTE          17613.30   701.04800\n",
      "CUOTA               4839.16   187.69210\n",
      "VALOR_INFRACCION    45731.63000\n",
      "HONORARIOS           1703.51105\n",
      "dtype: float64\n"
     ]
    }
   ],
   "source": [
    "print(total_pagos_all[total_pagos_all['VALIDO']=='NO'].groupby('TIPO').agg({'VALOR_INFRACCION':'sum','HONORARIOS':'sum'}))\n",
    "print(total_pagos_all[total_pagos_all['VALIDO']=='NO'].groupby('TIPO').agg({'VALOR_INFRACCION':'sum','HONORARIOS':'sum'}).sum())"
   ]
  },
  {
   "cell_type": "code",
   "execution_count": 64,
   "metadata": {},
   "outputs": [],
   "source": [
    "nuevo_archivo='ANALISIS DE PAGOS ANTIGUAS.xlsx'\n",
    "writer = pd.ExcelWriter(nuevo_archivo, engine='xlsxwriter')\n",
    "total_pagos_all.to_excel(writer, sheet_name='GESTION TOTAL')\n",
    "worksheet = writer.sheets['GESTION TOTAL']\n",
    "writer.save()"
   ]
  },
  {
   "cell_type": "code",
   "execution_count": 65,
   "metadata": {},
   "outputs": [],
   "source": [
    "nuevo_archivo='GESTION ASESOR.xlsx'\n",
    "writer = pd.ExcelWriter(nuevo_archivo, engine='xlsxwriter')\n",
    "gestion_asesor.to_excel(writer, sheet_name='GESTION TOTAL')\n",
    "worksheet = writer.sheets['GESTION TOTAL']\n",
    "writer.save()"
   ]
  },
  {
   "cell_type": "code",
   "execution_count": null,
   "metadata": {},
   "outputs": [],
   "source": []
  },
  {
   "cell_type": "code",
   "execution_count": null,
   "metadata": {},
   "outputs": [],
   "source": []
  },
  {
   "cell_type": "code",
   "execution_count": null,
   "metadata": {},
   "outputs": [],
   "source": []
  }
 ],
 "metadata": {
  "kernelspec": {
   "display_name": "Python 3",
   "language": "python",
   "name": "python3"
  },
  "language_info": {
   "codemirror_mode": {
    "name": "ipython",
    "version": 3
   },
   "file_extension": ".py",
   "mimetype": "text/x-python",
   "name": "python",
   "nbconvert_exporter": "python",
   "pygments_lexer": "ipython3",
   "version": "3.6.5"
  }
 },
 "nbformat": 4,
 "nbformat_minor": 2
}
