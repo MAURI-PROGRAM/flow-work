{
 "cells": [
  {
   "cell_type": "markdown",
   "metadata": {},
   "source": [
    "# INFORMACION DE PAGOS DATATOOLS"
   ]
  },
  {
   "cell_type": "markdown",
   "metadata": {},
   "source": [
    "### LIBRERIAS A UTILIZAR"
   ]
  },
  {
   "cell_type": "code",
   "execution_count": 71,
   "metadata": {},
   "outputs": [],
   "source": [
    "import pandas as pd\n",
    "from datetime import datetime\n",
    "import mysql.connector as mc"
   ]
  },
  {
   "cell_type": "markdown",
   "metadata": {},
   "source": [
    "### VARIABLES PARA IDENTIFICAR HONORARIOS"
   ]
  },
  {
   "cell_type": "code",
   "execution_count": 72,
   "metadata": {},
   "outputs": [],
   "source": [
    "Dia='29'\n",
    "Mes='11'\n",
    "Anio='2018'\n",
    "fecha_pago=Anio+Mes+Dia\n",
    "F_Mes='NOVIEMBRE'"
   ]
  },
  {
   "cell_type": "markdown",
   "metadata": {},
   "source": [
    " "
   ]
  },
  {
   "cell_type": "markdown",
   "metadata": {},
   "source": [
    "### CONECCION A BD"
   ]
  },
  {
   "cell_type": "code",
   "execution_count": 73,
   "metadata": {},
   "outputs": [],
   "source": [
    "host = '172.18.55.6'\n",
    "user = 'comandato'\n",
    "passwd='comandato123'\n",
    "db = mc.connect(host=host,user=user,passwd=passwd)\n",
    "cur= db.cursor()"
   ]
  },
  {
   "cell_type": "markdown",
   "metadata": {},
   "source": [
    " "
   ]
  },
  {
   "cell_type": "markdown",
   "metadata": {},
   "source": [
    "### FUNCIONES A UTILIZAR"
   ]
  },
  {
   "cell_type": "code",
   "execution_count": 74,
   "metadata": {},
   "outputs": [],
   "source": [
    "def order(frame,var):\n",
    "    if type(var) is str:\n",
    "        var = [var] #let the command take a string or list\n",
    "    varlist =[w for w in frame.columns if w not in var]\n",
    "    frame = frame[var+varlist]\n",
    "    return frame "
   ]
  },
  {
   "cell_type": "code",
   "execution_count": 75,
   "metadata": {},
   "outputs": [],
   "source": [
    "def agregar_ceros(base):\n",
    "    ced=base['CED']\n",
    "    if len(ced)==9 or len(ced)==12 :\n",
    "        if ced.isdigit():\n",
    "            return '0'+ced\n",
    "    return ced"
   ]
  },
  {
   "cell_type": "code",
   "execution_count": 76,
   "metadata": {},
   "outputs": [],
   "source": [
    "def dias_mora(base):\n",
    "    return (datetime.now()-base['FECHAMORA']).days"
   ]
  },
  {
   "cell_type": "code",
   "execution_count": 77,
   "metadata": {},
   "outputs": [],
   "source": [
    "def cartera(base):\n",
    "    segmento = base['SEGMENTO']\n",
    "    cartetra = base['Cartera']\n",
    "    if cartetra is None:\n",
    "        cartetra = 'NO ASIGNADO'\n",
    "    if segmento == 'SIN DEFINIR':\n",
    "        return cartetra\n",
    "    return segmento"
   ]
  },
  {
   "cell_type": "markdown",
   "metadata": {},
   "source": [
    " "
   ]
  },
  {
   "cell_type": "code",
   "execution_count": 78,
   "metadata": {},
   "outputs": [],
   "source": [
    "def mora(base):\n",
    "    mora1 = base['MORA']\n",
    "    mora2 = base['Dias_mora']\n",
    "    if mora1 == 0:\n",
    "        return mora2\n",
    "    return mora1"
   ]
  },
  {
   "cell_type": "markdown",
   "metadata": {},
   "source": [
    " "
   ]
  },
  {
   "cell_type": "markdown",
   "metadata": {},
   "source": [
    "# UNIFICACION BASE DE PAGOS"
   ]
  },
  {
   "cell_type": "markdown",
   "metadata": {},
   "source": [
    "### RUTAS Y NOMBRES DE LOS ARCHIVOS"
   ]
  },
  {
   "cell_type": "code",
   "execution_count": 79,
   "metadata": {},
   "outputs": [],
   "source": [
    "pago_corr={\n",
    "    'ruta':'..\\..\\..\\BASES DATATOOLS\\PAGOS\\\\2018\\\\'+F_Mes+'\\Sistema de cobro - '+fecha_pago+'.xlsx',\n",
    "    'hoja':'PAGOS_CORRIENTE',\n",
    "    'cartera':'CORRIENTE',\n",
    "    'identificador':'IDENTIFICACION'\n",
    "}\n",
    "\n",
    "pago_cuot={\n",
    "    'ruta':'..\\..\\..\\BASES DATATOOLS\\PAGOS\\\\2018\\\\'+F_Mes+'\\\\Sistema de cobro - '+fecha_pago+'.xlsx',\n",
    "    'hoja':'PAGOS_CUOTA_CERO',\n",
    "    'cartera':'CUOTA',\n",
    "    'identificador':'ID'\n",
    "}\n",
    "\n",
    "pago_conv={\n",
    "    'ruta':'..\\..\\..\\BASES DATATOOLS\\PAGOS\\\\2018\\\\'+F_Mes+'\\\\Sistema de cobro - '+fecha_pago+'.xlsx',\n",
    "    'hoja':'PAGOS_CONVENIOS',\n",
    "    'cartera':'CONVENIO',\n",
    "    'identificador':'ID'\n",
    "}"
   ]
  },
  {
   "cell_type": "markdown",
   "metadata": {},
   "source": [
    "### CARGAR LOS ARCHIVOS"
   ]
  },
  {
   "cell_type": "code",
   "execution_count": 80,
   "metadata": {},
   "outputs": [],
   "source": [
    "pagos_corr=pd.read_excel(open(pago_corr['ruta'],'rb'), sheet_name=pago_corr['hoja'], dtype={pago_corr['identificador']: str})\n",
    "pagos_cuot=pd.read_excel(open(pago_cuot['ruta'],'rb'), sheet_name=pago_cuot['hoja'], dtype={pago_cuot['identificador']: str})\n",
    "pagos_conv=pd.read_excel(open(pago_conv['ruta'],'rb'), sheet_name=pago_conv['hoja'], dtype={pago_conv['identificador']: str})"
   ]
  },
  {
   "cell_type": "markdown",
   "metadata": {},
   "source": [
    " "
   ]
  },
  {
   "cell_type": "markdown",
   "metadata": {},
   "source": [
    "### PAGOS CORRIENTE"
   ]
  },
  {
   "cell_type": "code",
   "execution_count": 81,
   "metadata": {},
   "outputs": [],
   "source": [
    "ordenColumn = ['CED','INFRACCION','MONTO','FECHAPAGO','MORA','PAGO','TIPOPAGO','SEGMENTO']"
   ]
  },
  {
   "cell_type": "code",
   "execution_count": 82,
   "metadata": {},
   "outputs": [
    {
     "data": {
      "text/html": [
       "<div>\n",
       "<style scoped>\n",
       "    .dataframe tbody tr th:only-of-type {\n",
       "        vertical-align: middle;\n",
       "    }\n",
       "\n",
       "    .dataframe tbody tr th {\n",
       "        vertical-align: top;\n",
       "    }\n",
       "\n",
       "    .dataframe thead th {\n",
       "        text-align: right;\n",
       "    }\n",
       "</style>\n",
       "<table border=\"1\" class=\"dataframe\">\n",
       "  <thead>\n",
       "    <tr style=\"text-align: right;\">\n",
       "      <th></th>\n",
       "      <th>CED</th>\n",
       "      <th>INFRACCION</th>\n",
       "      <th>MONTO</th>\n",
       "      <th>FECHAPAGO</th>\n",
       "      <th>MORA</th>\n",
       "      <th>PAGO</th>\n",
       "      <th>TIPOPAGO</th>\n",
       "      <th>SEGMENTO</th>\n",
       "    </tr>\n",
       "  </thead>\n",
       "  <tbody>\n",
       "    <tr>\n",
       "      <th>0</th>\n",
       "      <td>1722466651</td>\n",
       "      <td>3189206</td>\n",
       "      <td>$ 56.25</td>\n",
       "      <td>2018-11-02</td>\n",
       "      <td>0</td>\n",
       "      <td>$ 56.25</td>\n",
       "      <td>TOTAL</td>\n",
       "      <td>SIN DEFINIR</td>\n",
       "    </tr>\n",
       "    <tr>\n",
       "      <th>1</th>\n",
       "      <td>0926699976</td>\n",
       "      <td>4412142</td>\n",
       "      <td>$ 56.25</td>\n",
       "      <td>2018-11-02</td>\n",
       "      <td>0</td>\n",
       "      <td>$ 56.25</td>\n",
       "      <td>TOTAL</td>\n",
       "      <td>SIN DEFINIR</td>\n",
       "    </tr>\n",
       "    <tr>\n",
       "      <th>2</th>\n",
       "      <td>0910499805</td>\n",
       "      <td>4928768</td>\n",
       "      <td>$ 57.90</td>\n",
       "      <td>2018-11-02</td>\n",
       "      <td>0</td>\n",
       "      <td>$ 57.90</td>\n",
       "      <td>TOTAL</td>\n",
       "      <td>SIN DEFINIR</td>\n",
       "    </tr>\n",
       "    <tr>\n",
       "      <th>3</th>\n",
       "      <td>0927809715</td>\n",
       "      <td>5341308</td>\n",
       "      <td>$ 19.30</td>\n",
       "      <td>2018-11-02</td>\n",
       "      <td>0</td>\n",
       "      <td>$ 19.30</td>\n",
       "      <td>TOTAL</td>\n",
       "      <td>SIN DEFINIR</td>\n",
       "    </tr>\n",
       "    <tr>\n",
       "      <th>4</th>\n",
       "      <td>0924255250</td>\n",
       "      <td>3689018</td>\n",
       "      <td>$ 37.50</td>\n",
       "      <td>2018-11-02</td>\n",
       "      <td>0</td>\n",
       "      <td>$ 37.50</td>\n",
       "      <td>TOTAL</td>\n",
       "      <td>SIN DEFINIR</td>\n",
       "    </tr>\n",
       "  </tbody>\n",
       "</table>\n",
       "</div>"
      ],
      "text/plain": [
       "          CED  INFRACCION   MONTO  FECHAPAGO  MORA    PAGO TIPOPAGO  \\\n",
       "0  1722466651     3189206 $ 56.25 2018-11-02     0 $ 56.25    TOTAL   \n",
       "1  0926699976     4412142 $ 56.25 2018-11-02     0 $ 56.25    TOTAL   \n",
       "2  0910499805     4928768 $ 57.90 2018-11-02     0 $ 57.90    TOTAL   \n",
       "3  0927809715     5341308 $ 19.30 2018-11-02     0 $ 19.30    TOTAL   \n",
       "4  0924255250     3689018 $ 37.50 2018-11-02     0 $ 37.50    TOTAL   \n",
       "\n",
       "      SEGMENTO  \n",
       "0  SIN DEFINIR  \n",
       "1  SIN DEFINIR  \n",
       "2  SIN DEFINIR  \n",
       "3  SIN DEFINIR  \n",
       "4  SIN DEFINIR  "
      ]
     },
     "execution_count": 82,
     "metadata": {},
     "output_type": "execute_result"
    }
   ],
   "source": [
    "pagos_corr.rename(columns={'IDENTIFICACION':'CED','ID_FACTURA':'INFRACCION','VALOR_INFRACCION':'MONTO',\\\n",
    "                           'FECHA_PAGO':'FECHAPAGO'},inplace=True)\n",
    "pagos_corr['CED']=pagos_corr.apply(agregar_ceros,axis=1)\n",
    "pagos_corr['MORA']=0\n",
    "pagos_corr['PAGO']=pagos_corr['MONTO']\n",
    "pagos_corr['TIPOPAGO']='TOTAL'\n",
    "pagos_corr['SEGMENTO']='SIN DEFINIR'\n",
    "try:\n",
    "    pagos_corr.drop('CASA COBRO', axis=1, inplace=True)\n",
    "except:\n",
    "    pass\n",
    "pagos_corr = order(pagos_corr,ordenColumn)\n",
    "pagos_corr.head()"
   ]
  },
  {
   "cell_type": "markdown",
   "metadata": {},
   "source": [
    " "
   ]
  },
  {
   "cell_type": "markdown",
   "metadata": {},
   "source": [
    "### PAGOS CUOTA CERO"
   ]
  },
  {
   "cell_type": "code",
   "execution_count": 83,
   "metadata": {},
   "outputs": [
    {
     "data": {
      "text/html": [
       "<div>\n",
       "<style scoped>\n",
       "    .dataframe tbody tr th:only-of-type {\n",
       "        vertical-align: middle;\n",
       "    }\n",
       "\n",
       "    .dataframe tbody tr th {\n",
       "        vertical-align: top;\n",
       "    }\n",
       "\n",
       "    .dataframe thead th {\n",
       "        text-align: right;\n",
       "    }\n",
       "</style>\n",
       "<table border=\"1\" class=\"dataframe\">\n",
       "  <thead>\n",
       "    <tr style=\"text-align: right;\">\n",
       "      <th></th>\n",
       "      <th>CED</th>\n",
       "      <th>INFRACCION</th>\n",
       "      <th>MONTO</th>\n",
       "      <th>FECHAPAGO</th>\n",
       "      <th>MORA</th>\n",
       "      <th>PAGO</th>\n",
       "      <th>TIPOPAGO</th>\n",
       "      <th>SEGMENTO</th>\n",
       "    </tr>\n",
       "  </thead>\n",
       "  <tbody>\n",
       "    <tr>\n",
       "      <th>0</th>\n",
       "      <td>0301082681</td>\n",
       "      <td>5273062</td>\n",
       "      <td>$ 115.80</td>\n",
       "      <td>2018-11-05 12:41:25</td>\n",
       "      <td>114</td>\n",
       "      <td>$ 23.16</td>\n",
       "      <td>PARCIAL</td>\n",
       "      <td>SIN DEFINIR</td>\n",
       "    </tr>\n",
       "    <tr>\n",
       "      <th>1</th>\n",
       "      <td>0907877856</td>\n",
       "      <td>4868569</td>\n",
       "      <td>$ 115.80</td>\n",
       "      <td>2018-11-05 15:54:16</td>\n",
       "      <td>205</td>\n",
       "      <td>$ 29.76</td>\n",
       "      <td>PARCIAL</td>\n",
       "      <td>SIN DEFINIR</td>\n",
       "    </tr>\n",
       "    <tr>\n",
       "      <th>2</th>\n",
       "      <td>0911611457</td>\n",
       "      <td>4362490</td>\n",
       "      <td>$ 112.50</td>\n",
       "      <td>2018-11-05 12:32:25</td>\n",
       "      <td>325</td>\n",
       "      <td>$ 22.50</td>\n",
       "      <td>PARCIAL</td>\n",
       "      <td>SIN DEFINIR</td>\n",
       "    </tr>\n",
       "    <tr>\n",
       "      <th>3</th>\n",
       "      <td>0911611457</td>\n",
       "      <td>4362488</td>\n",
       "      <td>$ 150.00</td>\n",
       "      <td>2018-11-05 12:32:25</td>\n",
       "      <td>325</td>\n",
       "      <td>$ 30.00</td>\n",
       "      <td>PARCIAL</td>\n",
       "      <td>SIN DEFINIR</td>\n",
       "    </tr>\n",
       "    <tr>\n",
       "      <th>4</th>\n",
       "      <td>0911611457</td>\n",
       "      <td>5285742</td>\n",
       "      <td>$ 109.80</td>\n",
       "      <td>2018-11-05 12:32:25</td>\n",
       "      <td>110</td>\n",
       "      <td>$ 21.96</td>\n",
       "      <td>PARCIAL</td>\n",
       "      <td>SIN DEFINIR</td>\n",
       "    </tr>\n",
       "  </tbody>\n",
       "</table>\n",
       "</div>"
      ],
      "text/plain": [
       "          CED  INFRACCION    MONTO           FECHAPAGO  MORA    PAGO TIPOPAGO  \\\n",
       "0  0301082681     5273062 $ 115.80 2018-11-05 12:41:25   114 $ 23.16  PARCIAL   \n",
       "1  0907877856     4868569 $ 115.80 2018-11-05 15:54:16   205 $ 29.76  PARCIAL   \n",
       "2  0911611457     4362490 $ 112.50 2018-11-05 12:32:25   325 $ 22.50  PARCIAL   \n",
       "3  0911611457     4362488 $ 150.00 2018-11-05 12:32:25   325 $ 30.00  PARCIAL   \n",
       "4  0911611457     5285742 $ 109.80 2018-11-05 12:32:25   110 $ 21.96  PARCIAL   \n",
       "\n",
       "      SEGMENTO  \n",
       "0  SIN DEFINIR  \n",
       "1  SIN DEFINIR  \n",
       "2  SIN DEFINIR  \n",
       "3  SIN DEFINIR  \n",
       "4  SIN DEFINIR  "
      ]
     },
     "execution_count": 83,
     "metadata": {},
     "output_type": "execute_result"
    }
   ],
   "source": [
    "pagos_cuot.rename(columns={'ID':'CED','ID_FACTURA_INICIAL':'INFRACCION','VALOR_INFRACCION':'MONTO',\\\n",
    "                           'VALOR_PAGO_CAPITAL':'PAGO','FECHA_RE':'FECHAPAGO','DIAS_MORA':'MORA'},inplace=True)\n",
    "pagos_cuot['CED']=pagos_cuot.apply(agregar_ceros,axis=1)\n",
    "pagos_cuot['TIPOPAGO']='PARCIAL'\n",
    "pagos_cuot['SEGMENTO']='SIN DEFINIR'\n",
    "try:\n",
    "    pagos_cuot.drop(['ID_CONVENIO','FECHA_EMISION_FINANC','VALOR_CAPITAL','NRO_CUOTA_EMISION'\\\n",
    "                 ,'FECHA_EMISION_INFRACCION','CASA COBRO'],axis=1,inplace=True)\n",
    "except:\n",
    "    pass\n",
    "\n",
    "pagos_cuot = order(pagos_cuot,ordenColumn)\n",
    "pagos_cuot.head()"
   ]
  },
  {
   "cell_type": "markdown",
   "metadata": {},
   "source": [
    " "
   ]
  },
  {
   "cell_type": "markdown",
   "metadata": {},
   "source": [
    "### PAGOS CUOTA VENCIDA"
   ]
  },
  {
   "cell_type": "code",
   "execution_count": 84,
   "metadata": {},
   "outputs": [
    {
     "data": {
      "text/html": [
       "<div>\n",
       "<style scoped>\n",
       "    .dataframe tbody tr th:only-of-type {\n",
       "        vertical-align: middle;\n",
       "    }\n",
       "\n",
       "    .dataframe tbody tr th {\n",
       "        vertical-align: top;\n",
       "    }\n",
       "\n",
       "    .dataframe thead th {\n",
       "        text-align: right;\n",
       "    }\n",
       "</style>\n",
       "<table border=\"1\" class=\"dataframe\">\n",
       "  <thead>\n",
       "    <tr style=\"text-align: right;\">\n",
       "      <th></th>\n",
       "      <th>CED</th>\n",
       "      <th>INFRACCION</th>\n",
       "      <th>MONTO</th>\n",
       "      <th>FECHAPAGO</th>\n",
       "      <th>MORA</th>\n",
       "      <th>PAGO</th>\n",
       "      <th>TIPOPAGO</th>\n",
       "      <th>SEGMENTO</th>\n",
       "    </tr>\n",
       "  </thead>\n",
       "  <tbody>\n",
       "    <tr>\n",
       "      <th>0</th>\n",
       "      <td>0912451713</td>\n",
       "      <td>234781</td>\n",
       "      <td>$ 66.55</td>\n",
       "      <td>2018-11-01</td>\n",
       "      <td>648</td>\n",
       "      <td>$ 66.55</td>\n",
       "      <td>TOTAL</td>\n",
       "      <td>CONVENIO</td>\n",
       "    </tr>\n",
       "    <tr>\n",
       "      <th>1</th>\n",
       "      <td>0908951080</td>\n",
       "      <td>281258</td>\n",
       "      <td>$ 30.00</td>\n",
       "      <td>2018-11-01</td>\n",
       "      <td>357</td>\n",
       "      <td>$ 30.00</td>\n",
       "      <td>TOTAL</td>\n",
       "      <td>CONVENIO</td>\n",
       "    </tr>\n",
       "    <tr>\n",
       "      <th>2</th>\n",
       "      <td>0906542774</td>\n",
       "      <td>277630</td>\n",
       "      <td>$ 53.99</td>\n",
       "      <td>2018-11-01</td>\n",
       "      <td>378</td>\n",
       "      <td>$ 53.99</td>\n",
       "      <td>TOTAL</td>\n",
       "      <td>CONVENIO</td>\n",
       "    </tr>\n",
       "    <tr>\n",
       "      <th>3</th>\n",
       "      <td>0923126882</td>\n",
       "      <td>325296</td>\n",
       "      <td>$ 30.88</td>\n",
       "      <td>2018-11-01</td>\n",
       "      <td>92</td>\n",
       "      <td>$ 30.88</td>\n",
       "      <td>TOTAL</td>\n",
       "      <td>CONVENIO</td>\n",
       "    </tr>\n",
       "    <tr>\n",
       "      <th>4</th>\n",
       "      <td>0923126882</td>\n",
       "      <td>325296</td>\n",
       "      <td>$ 30.88</td>\n",
       "      <td>2018-11-01</td>\n",
       "      <td>125</td>\n",
       "      <td>$ 30.88</td>\n",
       "      <td>TOTAL</td>\n",
       "      <td>CONVENIO</td>\n",
       "    </tr>\n",
       "  </tbody>\n",
       "</table>\n",
       "</div>"
      ],
      "text/plain": [
       "          CED  INFRACCION   MONTO  FECHAPAGO  MORA    PAGO TIPOPAGO  SEGMENTO\n",
       "0  0912451713      234781 $ 66.55 2018-11-01   648 $ 66.55    TOTAL  CONVENIO\n",
       "1  0908951080      281258 $ 30.00 2018-11-01   357 $ 30.00    TOTAL  CONVENIO\n",
       "2  0906542774      277630 $ 53.99 2018-11-01   378 $ 53.99    TOTAL  CONVENIO\n",
       "3  0923126882      325296 $ 30.88 2018-11-01    92 $ 30.88    TOTAL  CONVENIO\n",
       "4  0923126882      325296 $ 30.88 2018-11-01   125 $ 30.88    TOTAL  CONVENIO"
      ]
     },
     "execution_count": 84,
     "metadata": {},
     "output_type": "execute_result"
    }
   ],
   "source": [
    "pagos_conv.rename(columns={'ID':'CED','ID_CONVENIO':'INFRACCION','VALOR_PAGAR_CUOTA':'MONTO',\\\n",
    "                           'FECHA_PAGO':'FECHAPAGO','FECHA_VENCIMIENTO':'FECHAMORA'},inplace=True)\n",
    "pagos_conv['CED']=pagos_conv.apply(agregar_ceros,axis=1)\n",
    "try:\n",
    "    pagos_conv['MORA']=pagos_conv.apply(dias_mora,axis=1)\n",
    "except:\n",
    "    pass\n",
    "pagos_conv['PAGO']=pagos_conv['MONTO']\n",
    "pagos_conv['TIPOPAGO']='TOTAL'\n",
    "pagos_conv['SEGMENTO']='CONVENIO'\n",
    "try:\n",
    "    pagos_conv.drop(['CASA COBRO','NRO_CUOTA_EMISION','FECHAMORA'],axis=1,inplace=True)\n",
    "except:\n",
    "    pass\n",
    "pagos_conv = order(pagos_conv,ordenColumn)\n",
    "pagos_conv.head()"
   ]
  },
  {
   "cell_type": "markdown",
   "metadata": {},
   "source": [
    " "
   ]
  },
  {
   "cell_type": "markdown",
   "metadata": {},
   "source": [
    "### UNIR BASE DE PAGOS"
   ]
  },
  {
   "cell_type": "code",
   "execution_count": 85,
   "metadata": {},
   "outputs": [
    {
     "data": {
      "text/html": [
       "<div>\n",
       "<style scoped>\n",
       "    .dataframe tbody tr th:only-of-type {\n",
       "        vertical-align: middle;\n",
       "    }\n",
       "\n",
       "    .dataframe tbody tr th {\n",
       "        vertical-align: top;\n",
       "    }\n",
       "\n",
       "    .dataframe thead th {\n",
       "        text-align: right;\n",
       "    }\n",
       "</style>\n",
       "<table border=\"1\" class=\"dataframe\">\n",
       "  <thead>\n",
       "    <tr style=\"text-align: right;\">\n",
       "      <th></th>\n",
       "      <th>CED</th>\n",
       "      <th>INFRACCION</th>\n",
       "      <th>MONTO</th>\n",
       "      <th>FECHAPAGO</th>\n",
       "      <th>MORA</th>\n",
       "      <th>PAGO</th>\n",
       "      <th>TIPOPAGO</th>\n",
       "      <th>SEGMENTO</th>\n",
       "    </tr>\n",
       "  </thead>\n",
       "  <tbody>\n",
       "    <tr>\n",
       "      <th>0</th>\n",
       "      <td>1722466651</td>\n",
       "      <td>3189206</td>\n",
       "      <td>$ 56.25</td>\n",
       "      <td>2018-11-02</td>\n",
       "      <td>0</td>\n",
       "      <td>$ 56.25</td>\n",
       "      <td>TOTAL</td>\n",
       "      <td>SIN DEFINIR</td>\n",
       "    </tr>\n",
       "    <tr>\n",
       "      <th>1</th>\n",
       "      <td>0926699976</td>\n",
       "      <td>4412142</td>\n",
       "      <td>$ 56.25</td>\n",
       "      <td>2018-11-02</td>\n",
       "      <td>0</td>\n",
       "      <td>$ 56.25</td>\n",
       "      <td>TOTAL</td>\n",
       "      <td>SIN DEFINIR</td>\n",
       "    </tr>\n",
       "    <tr>\n",
       "      <th>2</th>\n",
       "      <td>0910499805</td>\n",
       "      <td>4928768</td>\n",
       "      <td>$ 57.90</td>\n",
       "      <td>2018-11-02</td>\n",
       "      <td>0</td>\n",
       "      <td>$ 57.90</td>\n",
       "      <td>TOTAL</td>\n",
       "      <td>SIN DEFINIR</td>\n",
       "    </tr>\n",
       "    <tr>\n",
       "      <th>3</th>\n",
       "      <td>0927809715</td>\n",
       "      <td>5341308</td>\n",
       "      <td>$ 19.30</td>\n",
       "      <td>2018-11-02</td>\n",
       "      <td>0</td>\n",
       "      <td>$ 19.30</td>\n",
       "      <td>TOTAL</td>\n",
       "      <td>SIN DEFINIR</td>\n",
       "    </tr>\n",
       "    <tr>\n",
       "      <th>4</th>\n",
       "      <td>0924255250</td>\n",
       "      <td>3689018</td>\n",
       "      <td>$ 37.50</td>\n",
       "      <td>2018-11-02</td>\n",
       "      <td>0</td>\n",
       "      <td>$ 37.50</td>\n",
       "      <td>TOTAL</td>\n",
       "      <td>SIN DEFINIR</td>\n",
       "    </tr>\n",
       "  </tbody>\n",
       "</table>\n",
       "</div>"
      ],
      "text/plain": [
       "          CED  INFRACCION   MONTO  FECHAPAGO  MORA    PAGO TIPOPAGO  \\\n",
       "0  1722466651     3189206 $ 56.25 2018-11-02     0 $ 56.25    TOTAL   \n",
       "1  0926699976     4412142 $ 56.25 2018-11-02     0 $ 56.25    TOTAL   \n",
       "2  0910499805     4928768 $ 57.90 2018-11-02     0 $ 57.90    TOTAL   \n",
       "3  0927809715     5341308 $ 19.30 2018-11-02     0 $ 19.30    TOTAL   \n",
       "4  0924255250     3689018 $ 37.50 2018-11-02     0 $ 37.50    TOTAL   \n",
       "\n",
       "      SEGMENTO  \n",
       "0  SIN DEFINIR  \n",
       "1  SIN DEFINIR  \n",
       "2  SIN DEFINIR  \n",
       "3  SIN DEFINIR  \n",
       "4  SIN DEFINIR  "
      ]
     },
     "execution_count": 85,
     "metadata": {},
     "output_type": "execute_result"
    }
   ],
   "source": [
    "basePagos = [pagos_corr,pagos_cuot,pagos_conv]\n",
    "total_pagos=pd.concat(basePagos)\n",
    "total_pagos.head()"
   ]
  },
  {
   "cell_type": "markdown",
   "metadata": {},
   "source": [
    " "
   ]
  },
  {
   "cell_type": "markdown",
   "metadata": {},
   "source": [
    "# BASE DE MULTAS ASIGNADAS"
   ]
  },
  {
   "cell_type": "code",
   "execution_count": 86,
   "metadata": {},
   "outputs": [],
   "source": [
    "multas=\"\"\"SELECT No_multa AS 'INFRACCION',Dias_mora,Cartera FROM SISTEMECUADOR_ATM.MULTAS_MENSUALES where Mes={0}\"\"\".format(Mes)\n",
    "resultado_multas=pd.read_sql(multas, con=db)\n",
    "resultado_multas['INFRACCION'] = resultado_multas['INFRACCION'].astype(int)"
   ]
  },
  {
   "cell_type": "code",
   "execution_count": 87,
   "metadata": {},
   "outputs": [
    {
     "data": {
      "text/html": [
       "<div>\n",
       "<style scoped>\n",
       "    .dataframe tbody tr th:only-of-type {\n",
       "        vertical-align: middle;\n",
       "    }\n",
       "\n",
       "    .dataframe tbody tr th {\n",
       "        vertical-align: top;\n",
       "    }\n",
       "\n",
       "    .dataframe thead th {\n",
       "        text-align: right;\n",
       "    }\n",
       "</style>\n",
       "<table border=\"1\" class=\"dataframe\">\n",
       "  <thead>\n",
       "    <tr style=\"text-align: right;\">\n",
       "      <th></th>\n",
       "      <th>INFRACCION</th>\n",
       "      <th>Dias_mora</th>\n",
       "      <th>Cartera</th>\n",
       "    </tr>\n",
       "  </thead>\n",
       "  <tbody>\n",
       "    <tr>\n",
       "      <th>0</th>\n",
       "      <td>4773820</td>\n",
       "      <td>223</td>\n",
       "      <td>MENOR</td>\n",
       "    </tr>\n",
       "    <tr>\n",
       "      <th>1</th>\n",
       "      <td>5722394</td>\n",
       "      <td>11</td>\n",
       "      <td>MENOR</td>\n",
       "    </tr>\n",
       "    <tr>\n",
       "      <th>2</th>\n",
       "      <td>5042227</td>\n",
       "      <td>159</td>\n",
       "      <td>MENOR</td>\n",
       "    </tr>\n",
       "    <tr>\n",
       "      <th>3</th>\n",
       "      <td>5692266</td>\n",
       "      <td>38</td>\n",
       "      <td>MENOR</td>\n",
       "    </tr>\n",
       "    <tr>\n",
       "      <th>4</th>\n",
       "      <td>1605249</td>\n",
       "      <td>966</td>\n",
       "      <td>MENOR</td>\n",
       "    </tr>\n",
       "  </tbody>\n",
       "</table>\n",
       "</div>"
      ],
      "text/plain": [
       "   INFRACCION  Dias_mora Cartera\n",
       "0     4773820        223   MENOR\n",
       "1     5722394         11   MENOR\n",
       "2     5042227        159   MENOR\n",
       "3     5692266         38   MENOR\n",
       "4     1605249        966   MENOR"
      ]
     },
     "execution_count": 87,
     "metadata": {},
     "output_type": "execute_result"
    }
   ],
   "source": [
    "resultado_multas.head()"
   ]
  },
  {
   "cell_type": "markdown",
   "metadata": {},
   "source": [
    "### CRUZAR LOS PAGOS CON LA ASIGNACION"
   ]
  },
  {
   "cell_type": "code",
   "execution_count": 88,
   "metadata": {},
   "outputs": [
    {
     "data": {
      "text/html": [
       "<div>\n",
       "<style scoped>\n",
       "    .dataframe tbody tr th:only-of-type {\n",
       "        vertical-align: middle;\n",
       "    }\n",
       "\n",
       "    .dataframe tbody tr th {\n",
       "        vertical-align: top;\n",
       "    }\n",
       "\n",
       "    .dataframe thead th {\n",
       "        text-align: right;\n",
       "    }\n",
       "</style>\n",
       "<table border=\"1\" class=\"dataframe\">\n",
       "  <thead>\n",
       "    <tr style=\"text-align: right;\">\n",
       "      <th></th>\n",
       "      <th>CED</th>\n",
       "      <th>INFRACCION</th>\n",
       "      <th>MONTO</th>\n",
       "      <th>FECHAPAGO</th>\n",
       "      <th>MORA</th>\n",
       "      <th>PAGO</th>\n",
       "      <th>TIPOPAGO</th>\n",
       "      <th>SEGMENTO</th>\n",
       "    </tr>\n",
       "  </thead>\n",
       "  <tbody>\n",
       "    <tr>\n",
       "      <th>0</th>\n",
       "      <td>1722466651</td>\n",
       "      <td>3189206</td>\n",
       "      <td>$ 56.25</td>\n",
       "      <td>2018-11-02</td>\n",
       "      <td>574</td>\n",
       "      <td>$ 56.25</td>\n",
       "      <td>TOTAL</td>\n",
       "      <td>MENOR</td>\n",
       "    </tr>\n",
       "    <tr>\n",
       "      <th>1</th>\n",
       "      <td>0926699976</td>\n",
       "      <td>4412142</td>\n",
       "      <td>$ 56.25</td>\n",
       "      <td>2018-11-02</td>\n",
       "      <td>310</td>\n",
       "      <td>$ 56.25</td>\n",
       "      <td>TOTAL</td>\n",
       "      <td>MENOR</td>\n",
       "    </tr>\n",
       "    <tr>\n",
       "      <th>2</th>\n",
       "      <td>0910499805</td>\n",
       "      <td>4928768</td>\n",
       "      <td>$ 57.90</td>\n",
       "      <td>2018-11-02</td>\n",
       "      <td>188</td>\n",
       "      <td>$ 57.90</td>\n",
       "      <td>TOTAL</td>\n",
       "      <td>MENOR</td>\n",
       "    </tr>\n",
       "    <tr>\n",
       "      <th>3</th>\n",
       "      <td>0927809715</td>\n",
       "      <td>5341308</td>\n",
       "      <td>$ 19.30</td>\n",
       "      <td>2018-11-02</td>\n",
       "      <td>96</td>\n",
       "      <td>$ 19.30</td>\n",
       "      <td>TOTAL</td>\n",
       "      <td>MENOR</td>\n",
       "    </tr>\n",
       "    <tr>\n",
       "      <th>4</th>\n",
       "      <td>0924255250</td>\n",
       "      <td>3689018</td>\n",
       "      <td>$ 37.50</td>\n",
       "      <td>2018-11-02</td>\n",
       "      <td>466</td>\n",
       "      <td>$ 37.50</td>\n",
       "      <td>TOTAL</td>\n",
       "      <td>MENOR</td>\n",
       "    </tr>\n",
       "  </tbody>\n",
       "</table>\n",
       "</div>"
      ],
      "text/plain": [
       "          CED  INFRACCION   MONTO  FECHAPAGO  MORA    PAGO TIPOPAGO SEGMENTO\n",
       "0  1722466651     3189206 $ 56.25 2018-11-02   574 $ 56.25    TOTAL    MENOR\n",
       "1  0926699976     4412142 $ 56.25 2018-11-02   310 $ 56.25    TOTAL    MENOR\n",
       "2  0910499805     4928768 $ 57.90 2018-11-02   188 $ 57.90    TOTAL    MENOR\n",
       "3  0927809715     5341308 $ 19.30 2018-11-02    96 $ 19.30    TOTAL    MENOR\n",
       "4  0924255250     3689018 $ 37.50 2018-11-02   466 $ 37.50    TOTAL    MENOR"
      ]
     },
     "execution_count": 88,
     "metadata": {},
     "output_type": "execute_result"
    }
   ],
   "source": [
    "crucepagos=pd.merge(total_pagos,resultado_multas,on=['INFRACCION'],how='left')\n",
    "crucepagos.Dias_mora = crucepagos.Dias_mora.fillna(1)\n",
    "crucepagos['Dias_mora'] = crucepagos['Dias_mora'].astype(int)\n",
    "crucepagos['SEGMENTO'] = crucepagos.apply(cartera,axis = 1)\n",
    "crucepagos['MORA'] = crucepagos.apply(mora,axis = 1)\n",
    "try:\n",
    "    crucepagos.drop(['Dias_mora','Cartera'],axis=1,inplace=True)\n",
    "except:\n",
    "    pass\n",
    "crucepagos.head()"
   ]
  },
  {
   "cell_type": "code",
   "execution_count": 89,
   "metadata": {},
   "outputs": [
    {
     "data": {
      "text/plain": [
       "<matplotlib.axes._subplots.AxesSubplot at 0x1038a470>"
      ]
     },
     "execution_count": 89,
     "metadata": {},
     "output_type": "execute_result"
    },
    {
     "data": {
      "image/png": "[encoded data removed]",
      "text/plain": [
       "<Figure size 432x288 with 1 Axes>"
      ]
     },
     "metadata": {},
     "output_type": "display_data"
    }
   ],
   "source": [
    "crucepagos.TIPOPAGO.value_counts().plot.bar()"
   ]
  },
  {
   "cell_type": "code",
   "execution_count": 90,
   "metadata": {},
   "outputs": [
    {
     "data": {
      "text/plain": [
       "<matplotlib.axes._subplots.AxesSubplot at 0x10375f30>"
      ]
     },
     "execution_count": 90,
     "metadata": {},
     "output_type": "execute_result"
    },
    {
     "data": {
      "image/png": "[encoded data removed]",
      "text/plain": [
       "<Figure size 432x288 with 1 Axes>"
      ]
     },
     "metadata": {},
     "output_type": "display_data"
    }
   ],
   "source": [
    "crucepagos.SEGMENTO.value_counts().plot.bar()"
   ]
  },
  {
   "cell_type": "code",
   "execution_count": 91,
   "metadata": {},
   "outputs": [],
   "source": [
    "def honorarios(base):\n",
    "    cartera=base['SEGMENTO']\n",
    "    tipo=base['TIPOPAGO']\n",
    "    mora=base['MORA']\n",
    "    valor=base['MONTO']\n",
    "    pago=base['PAGO']\n",
    "    if cartera=='CONVENIO':\n",
    "        return pago*0.035\n",
    "    if tipo=='PARCIAL'and mora>180:\n",
    "        return valor*0.05\n",
    "    if mora<61:\n",
    "        return pago*0.02\n",
    "    if mora<181:\n",
    "        return pago*0.04\n",
    "    if mora<361:\n",
    "        return pago*0.05\n",
    "    if mora>360:\n",
    "        return pago*0.06\n",
    "    return 0.0"
   ]
  },
  {
   "cell_type": "code",
   "execution_count": 92,
   "metadata": {},
   "outputs": [],
   "source": [
    "crucepagos['HONORARIOS']=crucepagos.apply(honorarios,axis=1)"
   ]
  },
  {
   "cell_type": "code",
   "execution_count": 93,
   "metadata": {},
   "outputs": [
    {
     "data": {
      "text/html": [
       "<div>\n",
       "<style scoped>\n",
       "    .dataframe tbody tr th:only-of-type {\n",
       "        vertical-align: middle;\n",
       "    }\n",
       "\n",
       "    .dataframe tbody tr th {\n",
       "        vertical-align: top;\n",
       "    }\n",
       "\n",
       "    .dataframe thead th {\n",
       "        text-align: right;\n",
       "    }\n",
       "</style>\n",
       "<table border=\"1\" class=\"dataframe\">\n",
       "  <thead>\n",
       "    <tr style=\"text-align: right;\">\n",
       "      <th></th>\n",
       "      <th>CED</th>\n",
       "      <th>INFRACCION</th>\n",
       "      <th>MONTO</th>\n",
       "      <th>FECHAPAGO</th>\n",
       "      <th>MORA</th>\n",
       "      <th>PAGO</th>\n",
       "      <th>TIPOPAGO</th>\n",
       "      <th>SEGMENTO</th>\n",
       "      <th>HONORARIOS</th>\n",
       "    </tr>\n",
       "  </thead>\n",
       "  <tbody>\n",
       "    <tr>\n",
       "      <th>0</th>\n",
       "      <td>1722466651</td>\n",
       "      <td>3189206</td>\n",
       "      <td>$ 56.25</td>\n",
       "      <td>2018-11-02</td>\n",
       "      <td>574</td>\n",
       "      <td>$ 56.25</td>\n",
       "      <td>TOTAL</td>\n",
       "      <td>MENOR</td>\n",
       "      <td>$ 3.38</td>\n",
       "    </tr>\n",
       "    <tr>\n",
       "      <th>1</th>\n",
       "      <td>0926699976</td>\n",
       "      <td>4412142</td>\n",
       "      <td>$ 56.25</td>\n",
       "      <td>2018-11-02</td>\n",
       "      <td>310</td>\n",
       "      <td>$ 56.25</td>\n",
       "      <td>TOTAL</td>\n",
       "      <td>MENOR</td>\n",
       "      <td>$ 2.81</td>\n",
       "    </tr>\n",
       "    <tr>\n",
       "      <th>2</th>\n",
       "      <td>0910499805</td>\n",
       "      <td>4928768</td>\n",
       "      <td>$ 57.90</td>\n",
       "      <td>2018-11-02</td>\n",
       "      <td>188</td>\n",
       "      <td>$ 57.90</td>\n",
       "      <td>TOTAL</td>\n",
       "      <td>MENOR</td>\n",
       "      <td>$ 2.90</td>\n",
       "    </tr>\n",
       "    <tr>\n",
       "      <th>3</th>\n",
       "      <td>0927809715</td>\n",
       "      <td>5341308</td>\n",
       "      <td>$ 19.30</td>\n",
       "      <td>2018-11-02</td>\n",
       "      <td>96</td>\n",
       "      <td>$ 19.30</td>\n",
       "      <td>TOTAL</td>\n",
       "      <td>MENOR</td>\n",
       "      <td>$ 0.77</td>\n",
       "    </tr>\n",
       "    <tr>\n",
       "      <th>4</th>\n",
       "      <td>0924255250</td>\n",
       "      <td>3689018</td>\n",
       "      <td>$ 37.50</td>\n",
       "      <td>2018-11-02</td>\n",
       "      <td>466</td>\n",
       "      <td>$ 37.50</td>\n",
       "      <td>TOTAL</td>\n",
       "      <td>MENOR</td>\n",
       "      <td>$ 2.25</td>\n",
       "    </tr>\n",
       "  </tbody>\n",
       "</table>\n",
       "</div>"
      ],
      "text/plain": [
       "          CED  INFRACCION   MONTO  FECHAPAGO  MORA    PAGO TIPOPAGO SEGMENTO  \\\n",
       "0  1722466651     3189206 $ 56.25 2018-11-02   574 $ 56.25    TOTAL    MENOR   \n",
       "1  0926699976     4412142 $ 56.25 2018-11-02   310 $ 56.25    TOTAL    MENOR   \n",
       "2  0910499805     4928768 $ 57.90 2018-11-02   188 $ 57.90    TOTAL    MENOR   \n",
       "3  0927809715     5341308 $ 19.30 2018-11-02    96 $ 19.30    TOTAL    MENOR   \n",
       "4  0924255250     3689018 $ 37.50 2018-11-02   466 $ 37.50    TOTAL    MENOR   \n",
       "\n",
       "   HONORARIOS  \n",
       "0      $ 3.38  \n",
       "1      $ 2.81  \n",
       "2      $ 2.90  \n",
       "3      $ 0.77  \n",
       "4      $ 2.25  "
      ]
     },
     "execution_count": 93,
     "metadata": {},
     "output_type": "execute_result"
    }
   ],
   "source": [
    "crucepagos.head()"
   ]
  },
  {
   "cell_type": "code",
   "execution_count": 94,
   "metadata": {},
   "outputs": [
    {
     "data": {
      "text/html": [
       "<div>\n",
       "<style scoped>\n",
       "    .dataframe tbody tr th:only-of-type {\n",
       "        vertical-align: middle;\n",
       "    }\n",
       "\n",
       "    .dataframe tbody tr th {\n",
       "        vertical-align: top;\n",
       "    }\n",
       "\n",
       "    .dataframe thead th {\n",
       "        text-align: right;\n",
       "    }\n",
       "</style>\n",
       "<table border=\"1\" class=\"dataframe\">\n",
       "  <thead>\n",
       "    <tr style=\"text-align: right;\">\n",
       "      <th></th>\n",
       "      <th>CED</th>\n",
       "      <th>INFRACCION</th>\n",
       "      <th>MONTO</th>\n",
       "      <th>FECHAPAGO</th>\n",
       "      <th>MORA</th>\n",
       "      <th>PAGO</th>\n",
       "      <th>TIPOPAGO</th>\n",
       "      <th>SEGMENTO</th>\n",
       "      <th>HONORARIOS</th>\n",
       "    </tr>\n",
       "  </thead>\n",
       "  <tbody>\n",
       "  </tbody>\n",
       "</table>\n",
       "</div>"
      ],
      "text/plain": [
       "Empty DataFrame\n",
       "Columns: [CED, INFRACCION, MONTO, FECHAPAGO, MORA, PAGO, TIPOPAGO, SEGMENTO, HONORARIOS]\n",
       "Index: []"
      ]
     },
     "execution_count": 94,
     "metadata": {},
     "output_type": "execute_result"
    }
   ],
   "source": [
    "crucepagos[crucepagos['HONORARIOS']==3.38]"
   ]
  },
  {
   "cell_type": "code",
   "execution_count": null,
   "metadata": {},
   "outputs": [],
   "source": []
  }
 ],
 "metadata": {
  "kernelspec": {
   "display_name": "Python 3",
   "language": "python",
   "name": "python3"
  },
  "language_info": {
   "codemirror_mode": {
    "name": "ipython",
    "version": 3
   },
   "file_extension": ".py",
   "mimetype": "text/x-python",
   "name": "python",
   "nbconvert_exporter": "python",
   "pygments_lexer": "ipython3",
   "version": "3.6.5"
  }
 },
 "nbformat": 4,
 "nbformat_minor": 2
}
