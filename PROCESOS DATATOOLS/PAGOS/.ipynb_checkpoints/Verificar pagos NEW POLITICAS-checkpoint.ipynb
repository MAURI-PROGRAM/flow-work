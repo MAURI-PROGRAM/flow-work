{
 "cells": [
  {
   "cell_type": "code",
   "execution_count": 1,
   "metadata": {},
   "outputs": [],
   "source": [
    "import pandas as pd\n",
    "import mysql.connector as mc\n",
    "import matplotlib\n",
    "import calendar"
   ]
  },
  {
   "cell_type": "code",
   "execution_count": 2,
   "metadata": {},
   "outputs": [],
   "source": [
    "db = mc.connect(\n",
    "  host='172.18.55.6',\n",
    "  user='comandato',\n",
    "  passwd='comandato123',\n",
    ")\n",
    "cur= db.cursor()"
   ]
  },
  {
   "cell_type": "code",
   "execution_count": 3,
   "metadata": {},
   "outputs": [],
   "source": [
    "Dia='14'\n",
    "Mes='05'\n",
    "Anio='2019'\n",
    "fecha_pago=Dia+Mes+Anio"
   ]
  },
  {
   "cell_type": "code",
   "execution_count": 4,
   "metadata": {},
   "outputs": [],
   "source": [
    "F_Mes='MAYO'"
   ]
  },
  {
   "cell_type": "markdown",
   "metadata": {},
   "source": [
    "# OBTENER GESTION DE ASESOR"
   ]
  },
  {
   "cell_type": "code",
   "execution_count": 5,
   "metadata": {},
   "outputs": [],
   "source": [
    "querry_gestion=\"\"\"SELECT NRO_IDENTIFICACION_CLIENTE,COD_AGENTE,CAST(DATE_FORMAT(FECHA_GESTION,'%d') as UNSIGNED) as FECHA_GESTION,CONTACTO_GESTIONO,ACCION_REALIZADA,RESPUESTA_OBTENIDA,NUMERO_GESTION FROM SISTEMECUADOR_ATM.GESTION where FECHA_GESTION BETWEEN '{0}-{1}-00 00:00:00' AND '{0}-{1}-{2} 21:00:00';\"\"\".format(Anio,Mes,Dia)\n",
    "gestion=pd.read_sql(querry_gestion, con=db)"
   ]
  },
  {
   "cell_type": "code",
   "execution_count": 6,
   "metadata": {},
   "outputs": [
    {
     "data": {
      "text/html": [
       "<div>\n",
       "<style scoped>\n",
       "    .dataframe tbody tr th:only-of-type {\n",
       "        vertical-align: middle;\n",
       "    }\n",
       "\n",
       "    .dataframe tbody tr th {\n",
       "        vertical-align: top;\n",
       "    }\n",
       "\n",
       "    .dataframe thead th {\n",
       "        text-align: right;\n",
       "    }\n",
       "</style>\n",
       "<table border=\"1\" class=\"dataframe\">\n",
       "  <thead>\n",
       "    <tr style=\"text-align: right;\">\n",
       "      <th></th>\n",
       "      <th>NRO_IDENTIFICACION_CLIENTE</th>\n",
       "      <th>COD_AGENTE</th>\n",
       "      <th>FECHA_GESTION</th>\n",
       "      <th>CONTACTO_GESTIONO</th>\n",
       "      <th>ACCION_REALIZADA</th>\n",
       "      <th>RESPUESTA_OBTENIDA</th>\n",
       "      <th>NUMERO_GESTION</th>\n",
       "    </tr>\n",
       "  </thead>\n",
       "  <tbody>\n",
       "    <tr>\n",
       "      <th>0</th>\n",
       "      <td>0104772363</td>\n",
       "      <td>D013113</td>\n",
       "      <td>2</td>\n",
       "      <td>NO CONTACTO</td>\n",
       "      <td>HACER LLAMADA</td>\n",
       "      <td>NO CONTESTA</td>\n",
       "      <td>0984386351</td>\n",
       "    </tr>\n",
       "    <tr>\n",
       "      <th>1</th>\n",
       "      <td>0917597551</td>\n",
       "      <td>D013110</td>\n",
       "      <td>2</td>\n",
       "      <td>NO CONTACTO</td>\n",
       "      <td>HACER LLAMADA</td>\n",
       "      <td>BUZON DE MENSAJES</td>\n",
       "      <td>0991138842</td>\n",
       "    </tr>\n",
       "    <tr>\n",
       "      <th>2</th>\n",
       "      <td>0916719172</td>\n",
       "      <td>D013113</td>\n",
       "      <td>2</td>\n",
       "      <td>TITULAR</td>\n",
       "      <td>HACER LLAMADA</td>\n",
       "      <td>VOLVER A LLAMAR</td>\n",
       "      <td>0979811719</td>\n",
       "    </tr>\n",
       "    <tr>\n",
       "      <th>3</th>\n",
       "      <td>0911637395</td>\n",
       "      <td>D013113</td>\n",
       "      <td>2</td>\n",
       "      <td>NO CONTACTO</td>\n",
       "      <td>HACER LLAMADA</td>\n",
       "      <td>NO CONTESTA</td>\n",
       "      <td>0999508037</td>\n",
       "    </tr>\n",
       "    <tr>\n",
       "      <th>4</th>\n",
       "      <td>0909622037</td>\n",
       "      <td>D013110</td>\n",
       "      <td>2</td>\n",
       "      <td>TITULAR</td>\n",
       "      <td>HACER LLAMADA</td>\n",
       "      <td>ACUERDO DE PAGO</td>\n",
       "      <td>0999113107</td>\n",
       "    </tr>\n",
       "  </tbody>\n",
       "</table>\n",
       "</div>"
      ],
      "text/plain": [
       "  NRO_IDENTIFICACION_CLIENTE COD_AGENTE  FECHA_GESTION CONTACTO_GESTIONO  \\\n",
       "0                 0104772363    D013113              2       NO CONTACTO   \n",
       "1                 0917597551    D013110              2       NO CONTACTO   \n",
       "2                 0916719172    D013113              2           TITULAR   \n",
       "3                 0911637395    D013113              2       NO CONTACTO   \n",
       "4                 0909622037    D013110              2           TITULAR   \n",
       "\n",
       "  ACCION_REALIZADA RESPUESTA_OBTENIDA NUMERO_GESTION  \n",
       "0    HACER LLAMADA        NO CONTESTA     0984386351  \n",
       "1    HACER LLAMADA  BUZON DE MENSAJES     0991138842  \n",
       "2    HACER LLAMADA    VOLVER A LLAMAR     0979811719  \n",
       "3    HACER LLAMADA        NO CONTESTA     0999508037  \n",
       "4    HACER LLAMADA    ACUERDO DE PAGO     0999113107  "
      ]
     },
     "execution_count": 6,
     "metadata": {},
     "output_type": "execute_result"
    }
   ],
   "source": [
    "gestion.head()"
   ]
  },
  {
   "cell_type": "code",
   "execution_count": 7,
   "metadata": {},
   "outputs": [],
   "source": [
    "gestion_asesor=gestion[(gestion['ACCION_REALIZADA']=='HACER LLAMADA') & ((gestion['CONTACTO_GESTIONO']=='TITULAR') | (gestion['CONTACTO_GESTIONO']=='TERC. VALIDO'))]"
   ]
  },
  {
   "cell_type": "code",
   "execution_count": 8,
   "metadata": {},
   "outputs": [],
   "source": [
    "gestion_asesor=gestion_asesor.sort_values(by=['FECHA_GESTION'],ascending=[True])\n",
    "gestion_asesor=gestion_asesor.drop_duplicates(['NRO_IDENTIFICACION_CLIENTE'], keep='first')\n",
    "gestion_asesor = gestion_asesor.rename(columns={'NRO_IDENTIFICACION_CLIENTE':'IDENTIFICACION'})"
   ]
  },
  {
   "cell_type": "markdown",
   "metadata": {},
   "source": [
    "# OBTENER GESTION MASIVOS"
   ]
  },
  {
   "cell_type": "code",
   "execution_count": 9,
   "metadata": {},
   "outputs": [],
   "source": [
    "querry_masivos=\"\"\"SELECT NRO_IDENTIFICACION_CLIENTE,COD_AGENTE,CAST(DATE_FORMAT(FECHA_GESTION,'%d') as UNSIGNED) as FECHA_GESTION,CONTACTO_GESTIONO,ACCION_REALIZADA,RESPUESTA_OBTENIDA,NUMERO_GESTION FROM SISTEMECUADOR_ATM.gestion_ivr where FECHA_GESTION BETWEEN '{0}-{1}-00 00:00:00' AND '{0}-{1}-{2} 21:00:00';\"\"\".format(Anio,Mes,Dia)\n",
    "gestion_masivos=pd.read_sql(querry_masivos, con=db)"
   ]
  },
  {
   "cell_type": "code",
   "execution_count": 10,
   "metadata": {},
   "outputs": [
    {
     "data": {
      "text/html": [
       "<div>\n",
       "<style scoped>\n",
       "    .dataframe tbody tr th:only-of-type {\n",
       "        vertical-align: middle;\n",
       "    }\n",
       "\n",
       "    .dataframe tbody tr th {\n",
       "        vertical-align: top;\n",
       "    }\n",
       "\n",
       "    .dataframe thead th {\n",
       "        text-align: right;\n",
       "    }\n",
       "</style>\n",
       "<table border=\"1\" class=\"dataframe\">\n",
       "  <thead>\n",
       "    <tr style=\"text-align: right;\">\n",
       "      <th></th>\n",
       "      <th>NRO_IDENTIFICACION_CLIENTE</th>\n",
       "      <th>COD_AGENTE</th>\n",
       "      <th>FECHA_GESTION</th>\n",
       "      <th>CONTACTO_GESTIONO</th>\n",
       "      <th>ACCION_REALIZADA</th>\n",
       "      <th>RESPUESTA_OBTENIDA</th>\n",
       "      <th>NUMERO_GESTION</th>\n",
       "    </tr>\n",
       "  </thead>\n",
       "  <tbody>\n",
       "    <tr>\n",
       "      <th>33522</th>\n",
       "      <td>0928640804</td>\n",
       "      <td>D05554</td>\n",
       "      <td>9</td>\n",
       "      <td>TITULAR</td>\n",
       "      <td>ENVIAR IVR</td>\n",
       "      <td>CONTESTA IVR</td>\n",
       "      <td>0995696163</td>\n",
       "    </tr>\n",
       "    <tr>\n",
       "      <th>33523</th>\n",
       "      <td>1302738693</td>\n",
       "      <td>D05554</td>\n",
       "      <td>9</td>\n",
       "      <td>TITULAR</td>\n",
       "      <td>ENVIAR IVR</td>\n",
       "      <td>CONTESTA IVR</td>\n",
       "      <td>0959093486</td>\n",
       "    </tr>\n",
       "    <tr>\n",
       "      <th>33524</th>\n",
       "      <td>0601418361</td>\n",
       "      <td>D05554</td>\n",
       "      <td>9</td>\n",
       "      <td>TITULAR</td>\n",
       "      <td>ENVIAR IVR</td>\n",
       "      <td>CONTESTA IVR</td>\n",
       "      <td>042360678</td>\n",
       "    </tr>\n",
       "    <tr>\n",
       "      <th>33525</th>\n",
       "      <td>0919731232</td>\n",
       "      <td>D05554</td>\n",
       "      <td>9</td>\n",
       "      <td>TITULAR</td>\n",
       "      <td>ENVIAR IVR</td>\n",
       "      <td>CONTESTA IVR</td>\n",
       "      <td>042383825</td>\n",
       "    </tr>\n",
       "    <tr>\n",
       "      <th>33526</th>\n",
       "      <td>0924026057</td>\n",
       "      <td>D05554</td>\n",
       "      <td>9</td>\n",
       "      <td>TITULAR</td>\n",
       "      <td>ENVIAR IVR</td>\n",
       "      <td>CONTESTA IVR</td>\n",
       "      <td>0980072595</td>\n",
       "    </tr>\n",
       "  </tbody>\n",
       "</table>\n",
       "</div>"
      ],
      "text/plain": [
       "      NRO_IDENTIFICACION_CLIENTE COD_AGENTE  FECHA_GESTION CONTACTO_GESTIONO  \\\n",
       "33522                 0928640804     D05554              9           TITULAR   \n",
       "33523                 1302738693     D05554              9           TITULAR   \n",
       "33524                 0601418361     D05554              9           TITULAR   \n",
       "33525                 0919731232     D05554              9           TITULAR   \n",
       "33526                 0924026057     D05554              9           TITULAR   \n",
       "\n",
       "      ACCION_REALIZADA RESPUESTA_OBTENIDA NUMERO_GESTION  \n",
       "33522       ENVIAR IVR       CONTESTA IVR     0995696163  \n",
       "33523       ENVIAR IVR       CONTESTA IVR     0959093486  \n",
       "33524       ENVIAR IVR       CONTESTA IVR      042360678  \n",
       "33525       ENVIAR IVR       CONTESTA IVR      042383825  \n",
       "33526       ENVIAR IVR       CONTESTA IVR     0980072595  "
      ]
     },
     "execution_count": 10,
     "metadata": {},
     "output_type": "execute_result"
    }
   ],
   "source": [
    "gestion_masivos.tail()"
   ]
  },
  {
   "cell_type": "code",
   "execution_count": 11,
   "metadata": {},
   "outputs": [],
   "source": [
    "gestion_masivos=gestion_masivos[gestion_masivos['RESPUESTA_OBTENIDA']!='NO CONTESTA IVR']"
   ]
  },
  {
   "cell_type": "code",
   "execution_count": 12,
   "metadata": {},
   "outputs": [],
   "source": [
    "gestion_masivos=gestion_masivos.sort_values(by=['FECHA_GESTION'],ascending=[True])\n",
    "gestion_masivos=gestion_masivos.drop_duplicates(['NRO_IDENTIFICACION_CLIENTE'], keep='first')\n",
    "gestion_masivos = gestion_masivos.rename(columns={'NRO_IDENTIFICACION_CLIENTE':'IDENTIFICACION'})\n",
    "gestion_masivos['CONTACTO_GESTIONO']=gestion_masivos['ACCION_REALIZADA']\n",
    "gestion_masivos['ACCION_REALIZADA']='GESTION MASIVOS'"
   ]
  },
  {
   "cell_type": "markdown",
   "metadata": {},
   "source": [
    "# TOTAL GESTIONES PRODUCTIVAS"
   ]
  },
  {
   "cell_type": "code",
   "execution_count": 13,
   "metadata": {},
   "outputs": [],
   "source": [
    "gestion_total= pd.concat([gestion_asesor,gestion_masivos])\n",
    "# gestion_total=gestion_total.sort_values(by=['FECHA_GESTION'],ascending=[True])\n",
    "gestion_total=gestion_total.drop_duplicates(['IDENTIFICACION'], keep='first')"
   ]
  },
  {
   "cell_type": "markdown",
   "metadata": {},
   "source": [
    "# MULTAS ASIGNADAS"
   ]
  },
  {
   "cell_type": "code",
   "execution_count": 14,
   "metadata": {},
   "outputs": [],
   "source": [
    "multas=\"\"\"SELECT *   FROM SISTEMECUADOR_ATM.MULTAS_MENSUALES where Mes={0}\"\"\".format(Mes)\n",
    "resultado_multas=pd.read_sql(multas, con=db)"
   ]
  },
  {
   "cell_type": "code",
   "execution_count": 15,
   "metadata": {},
   "outputs": [
    {
     "data": {
      "text/html": [
       "<div>\n",
       "<style scoped>\n",
       "    .dataframe tbody tr th:only-of-type {\n",
       "        vertical-align: middle;\n",
       "    }\n",
       "\n",
       "    .dataframe tbody tr th {\n",
       "        vertical-align: top;\n",
       "    }\n",
       "\n",
       "    .dataframe thead th {\n",
       "        text-align: right;\n",
       "    }\n",
       "</style>\n",
       "<table border=\"1\" class=\"dataframe\">\n",
       "  <thead>\n",
       "    <tr style=\"text-align: right;\">\n",
       "      <th></th>\n",
       "      <th>Cedula</th>\n",
       "      <th>No_multa</th>\n",
       "      <th>Anio</th>\n",
       "      <th>Mes</th>\n",
       "      <th>Dia</th>\n",
       "      <th>Dia_retiro</th>\n",
       "      <th>Dias_mora</th>\n",
       "      <th>Saldo</th>\n",
       "      <th>Cartera</th>\n",
       "      <th>Segmento</th>\n",
       "      <th>Descripcion</th>\n",
       "      <th>Placa</th>\n",
       "      <th>Pago</th>\n",
       "      <th>dia_pago</th>\n",
       "      <th>tipo</th>\n",
       "    </tr>\n",
       "  </thead>\n",
       "  <tbody>\n",
       "    <tr>\n",
       "      <th>0</th>\n",
       "      <td>00042448K</td>\n",
       "      <td>5722394</td>\n",
       "      <td>2019</td>\n",
       "      <td>5</td>\n",
       "      <td>1</td>\n",
       "      <td>None</td>\n",
       "      <td>191.0</td>\n",
       "      <td>115.80</td>\n",
       "      <td>CORRIENTE</td>\n",
       "      <td>MULTAS NUEVAS</td>\n",
       "      <td>COND.EXCEDA DENTRO RANGO MODERADO LÍMITES DE V...</td>\n",
       "      <td>GRP0269</td>\n",
       "      <td>None</td>\n",
       "      <td>None</td>\n",
       "      <td>None</td>\n",
       "    </tr>\n",
       "    <tr>\n",
       "      <th>1</th>\n",
       "      <td>1000005262</td>\n",
       "      <td>4854542</td>\n",
       "      <td>2018</td>\n",
       "      <td>5</td>\n",
       "      <td>2</td>\n",
       "      <td>None</td>\n",
       "      <td>52.0</td>\n",
       "      <td>75.86</td>\n",
       "      <td>CONVENIO</td>\n",
       "      <td>CUOTA</td>\n",
       "      <td>Atraso</td>\n",
       "      <td>nan</td>\n",
       "      <td>None</td>\n",
       "      <td>None</td>\n",
       "      <td>None</td>\n",
       "    </tr>\n",
       "    <tr>\n",
       "      <th>2</th>\n",
       "      <td>1000041952</td>\n",
       "      <td>4087528</td>\n",
       "      <td>2018</td>\n",
       "      <td>5</td>\n",
       "      <td>2</td>\n",
       "      <td>None</td>\n",
       "      <td>232.0</td>\n",
       "      <td>112.50</td>\n",
       "      <td>CORRIENTE</td>\n",
       "      <td>FASE II</td>\n",
       "      <td>COND.EXCEDA DENTRO RANGO MODERADO LÍMITES DE V...</td>\n",
       "      <td>ABA1143</td>\n",
       "      <td>None</td>\n",
       "      <td>None</td>\n",
       "      <td>None</td>\n",
       "    </tr>\n",
       "    <tr>\n",
       "      <th>3</th>\n",
       "      <td>1000131977</td>\n",
       "      <td>1786073</td>\n",
       "      <td>2018</td>\n",
       "      <td>5</td>\n",
       "      <td>2</td>\n",
       "      <td>None</td>\n",
       "      <td>737.0</td>\n",
       "      <td>54.90</td>\n",
       "      <td>CORRIENTE</td>\n",
       "      <td>MENOR CUANTIA</td>\n",
       "      <td>DETEN.ESTAC.VEH.LUGAR NO PERMITIDO DEJAR/RECIB...</td>\n",
       "      <td>PAA6834</td>\n",
       "      <td>None</td>\n",
       "      <td>None</td>\n",
       "      <td>None</td>\n",
       "    </tr>\n",
       "    <tr>\n",
       "      <th>4</th>\n",
       "      <td>1000203719</td>\n",
       "      <td>5039556</td>\n",
       "      <td>2018</td>\n",
       "      <td>5</td>\n",
       "      <td>2</td>\n",
       "      <td>None</td>\n",
       "      <td>45.0</td>\n",
       "      <td>64.55</td>\n",
       "      <td>CONVENIO</td>\n",
       "      <td>CUOTA</td>\n",
       "      <td>Atraso</td>\n",
       "      <td>nan</td>\n",
       "      <td>None</td>\n",
       "      <td>None</td>\n",
       "      <td>None</td>\n",
       "    </tr>\n",
       "  </tbody>\n",
       "</table>\n",
       "</div>"
      ],
      "text/plain": [
       "       Cedula No_multa  Anio  Mes  Dia Dia_retiro  Dias_mora   Saldo  \\\n",
       "0   00042448K  5722394  2019    5    1       None      191.0  115.80   \n",
       "1  1000005262  4854542  2018    5    2       None       52.0   75.86   \n",
       "2  1000041952  4087528  2018    5    2       None      232.0  112.50   \n",
       "3  1000131977  1786073  2018    5    2       None      737.0   54.90   \n",
       "4  1000203719  5039556  2018    5    2       None       45.0   64.55   \n",
       "\n",
       "     Cartera       Segmento  \\\n",
       "0  CORRIENTE  MULTAS NUEVAS   \n",
       "1   CONVENIO          CUOTA   \n",
       "2  CORRIENTE        FASE II   \n",
       "3  CORRIENTE  MENOR CUANTIA   \n",
       "4   CONVENIO          CUOTA   \n",
       "\n",
       "                                         Descripcion    Placa  Pago dia_pago  \\\n",
       "0  COND.EXCEDA DENTRO RANGO MODERADO LÍMITES DE V...  GRP0269  None     None   \n",
       "1                                             Atraso      nan  None     None   \n",
       "2  COND.EXCEDA DENTRO RANGO MODERADO LÍMITES DE V...  ABA1143  None     None   \n",
       "3  DETEN.ESTAC.VEH.LUGAR NO PERMITIDO DEJAR/RECIB...  PAA6834  None     None   \n",
       "4                                             Atraso      nan  None     None   \n",
       "\n",
       "   tipo  \n",
       "0  None  \n",
       "1  None  \n",
       "2  None  \n",
       "3  None  \n",
       "4  None  "
      ]
     },
     "execution_count": 15,
     "metadata": {},
     "output_type": "execute_result"
    }
   ],
   "source": [
    "resultado_multas.head()"
   ]
  },
  {
   "cell_type": "code",
   "execution_count": 16,
   "metadata": {},
   "outputs": [],
   "source": [
    "dias_mora_multa=resultado_multas[['No_multa','Dias_mora']].copy()"
   ]
  },
  {
   "cell_type": "code",
   "execution_count": 17,
   "metadata": {},
   "outputs": [],
   "source": [
    "dias_mora_multa = dias_mora_multa.rename(columns={'No_multa':'ID_FACTURA','Dias_mora':'DIAS_MORA'})\n",
    "dias_mora_multa['ID_FACTURA']=dias_mora_multa['ID_FACTURA'].apply(int)"
   ]
  },
  {
   "cell_type": "code",
   "execution_count": 18,
   "metadata": {},
   "outputs": [
    {
     "data": {
      "text/html": [
       "<div>\n",
       "<style scoped>\n",
       "    .dataframe tbody tr th:only-of-type {\n",
       "        vertical-align: middle;\n",
       "    }\n",
       "\n",
       "    .dataframe tbody tr th {\n",
       "        vertical-align: top;\n",
       "    }\n",
       "\n",
       "    .dataframe thead th {\n",
       "        text-align: right;\n",
       "    }\n",
       "</style>\n",
       "<table border=\"1\" class=\"dataframe\">\n",
       "  <thead>\n",
       "    <tr style=\"text-align: right;\">\n",
       "      <th></th>\n",
       "      <th>ID_FACTURA</th>\n",
       "      <th>DIAS_MORA</th>\n",
       "    </tr>\n",
       "  </thead>\n",
       "  <tbody>\n",
       "    <tr>\n",
       "      <th>0</th>\n",
       "      <td>5722394</td>\n",
       "      <td>191.0</td>\n",
       "    </tr>\n",
       "    <tr>\n",
       "      <th>1</th>\n",
       "      <td>4854542</td>\n",
       "      <td>52.0</td>\n",
       "    </tr>\n",
       "    <tr>\n",
       "      <th>2</th>\n",
       "      <td>4087528</td>\n",
       "      <td>232.0</td>\n",
       "    </tr>\n",
       "    <tr>\n",
       "      <th>3</th>\n",
       "      <td>1786073</td>\n",
       "      <td>737.0</td>\n",
       "    </tr>\n",
       "    <tr>\n",
       "      <th>4</th>\n",
       "      <td>5039556</td>\n",
       "      <td>45.0</td>\n",
       "    </tr>\n",
       "  </tbody>\n",
       "</table>\n",
       "</div>"
      ],
      "text/plain": [
       "   ID_FACTURA  DIAS_MORA\n",
       "0     5722394      191.0\n",
       "1     4854542       52.0\n",
       "2     4087528      232.0\n",
       "3     1786073      737.0\n",
       "4     5039556       45.0"
      ]
     },
     "execution_count": 18,
     "metadata": {},
     "output_type": "execute_result"
    }
   ],
   "source": [
    "dias_mora_multa.head()"
   ]
  },
  {
   "cell_type": "markdown",
   "metadata": {},
   "source": [
    "# PAGOS"
   ]
  },
  {
   "cell_type": "code",
   "execution_count": 19,
   "metadata": {},
   "outputs": [],
   "source": [
    "pago_corr={\n",
    "    'ruta':'..\\..\\..\\BASES DATATOOLS\\PAGOS\\\\2019\\\\'+F_Mes+'\\Sitema de cobro '+fecha_pago+'.xlsx',\n",
    "    'hoja':'PAGOS_CORRIENTE',\n",
    "    'cartera':'CORRIENTE',\n",
    "    'identificador':'IDENTIFICACION'\n",
    "}\n",
    "\n",
    "pago_cuot={\n",
    "    'ruta':'..\\..\\..\\BASES DATATOOLS\\PAGOS\\\\2019\\\\'+F_Mes+'\\\\Sitema de cobro '+fecha_pago+'.xlsx',\n",
    "    'hoja':'PAGOS_CUOTACERO',\n",
    "    'cartera':'CUOTA',\n",
    "    'identificador':'ID'\n",
    "}\n",
    "\n",
    "pago_conv={\n",
    "    'ruta':'..\\..\\..\\BASES DATATOOLS\\PAGOS\\\\2019\\\\'+F_Mes+'\\\\Sitema de cobro '+fecha_pago+'.xlsx',\n",
    "    'hoja':'PAGOS_CONVENIOS',\n",
    "    'cartera':'CONVENIO',\n",
    "    'identificador':'ID'\n",
    "}"
   ]
  },
  {
   "cell_type": "code",
   "execution_count": 20,
   "metadata": {},
   "outputs": [],
   "source": [
    "pagos_corr=pd.read_excel(open(pago_corr['ruta'],'rb'), sheet_name=pago_corr['hoja'], dtype={pago_corr['identificador']: str})\n",
    "pagos_cuot=pd.read_excel(open(pago_cuot['ruta'],'rb'), sheet_name=pago_cuot['hoja'], dtype={pago_cuot['identificador']: str})\n",
    "pagos_conv=pd.read_excel(open(pago_conv['ruta'],'rb'), sheet_name=pago_conv['hoja'], dtype={pago_conv['identificador']: str})"
   ]
  },
  {
   "cell_type": "code",
   "execution_count": 21,
   "metadata": {},
   "outputs": [],
   "source": [
    "def agregar_ceros(base):\n",
    "    ced=base['IDENTIFICACION']\n",
    "    if len(ced)==9 or len(ced)==12 :\n",
    "        if ced.isdigit():\n",
    "            return '0'+ced\n",
    "    return ced"
   ]
  },
  {
   "cell_type": "markdown",
   "metadata": {},
   "source": [
    "### CORRIENTE"
   ]
  },
  {
   "cell_type": "code",
   "execution_count": 22,
   "metadata": {},
   "outputs": [],
   "source": [
    "pagos_corr['IDENTIFICACION']=pagos_corr.apply(agregar_ceros,axis=1)"
   ]
  },
  {
   "cell_type": "code",
   "execution_count": 23,
   "metadata": {},
   "outputs": [],
   "source": [
    "pagos_corr['DIA_PAGO'] = pagos_corr['FECHA_PAGO'].dt.day\n",
    "pagos_corr = pagos_corr.rename(columns={'CASA COBRO':'CASA_COBRO'})"
   ]
  },
  {
   "cell_type": "code",
   "execution_count": 24,
   "metadata": {},
   "outputs": [
    {
     "data": {
      "text/html": [
       "<div>\n",
       "<style scoped>\n",
       "    .dataframe tbody tr th:only-of-type {\n",
       "        vertical-align: middle;\n",
       "    }\n",
       "\n",
       "    .dataframe tbody tr th {\n",
       "        vertical-align: top;\n",
       "    }\n",
       "\n",
       "    .dataframe thead th {\n",
       "        text-align: right;\n",
       "    }\n",
       "</style>\n",
       "<table border=\"1\" class=\"dataframe\">\n",
       "  <thead>\n",
       "    <tr style=\"text-align: right;\">\n",
       "      <th></th>\n",
       "      <th>IDENTIFICACION</th>\n",
       "      <th>ID_FACTURA</th>\n",
       "      <th>VALOR_INFRACCION</th>\n",
       "      <th>FECHA_PAGO</th>\n",
       "      <th>DIA_PAGO</th>\n",
       "      <th>TIPO</th>\n",
       "      <th>DIAS_MORA</th>\n",
       "    </tr>\n",
       "  </thead>\n",
       "  <tbody>\n",
       "    <tr>\n",
       "      <th>0</th>\n",
       "      <td>0907964464</td>\n",
       "      <td>6347039</td>\n",
       "      <td>115.8</td>\n",
       "      <td>2019-05-01</td>\n",
       "      <td>1</td>\n",
       "      <td>CORRIENTE</td>\n",
       "      <td>172.0</td>\n",
       "    </tr>\n",
       "    <tr>\n",
       "      <th>1</th>\n",
       "      <td>1711723831</td>\n",
       "      <td>5112985</td>\n",
       "      <td>19.3</td>\n",
       "      <td>2019-05-01</td>\n",
       "      <td>1</td>\n",
       "      <td>CORRIENTE</td>\n",
       "      <td>326.0</td>\n",
       "    </tr>\n",
       "    <tr>\n",
       "      <th>2</th>\n",
       "      <td>1304396581</td>\n",
       "      <td>5063205</td>\n",
       "      <td>19.3</td>\n",
       "      <td>2019-05-01</td>\n",
       "      <td>1</td>\n",
       "      <td>CORRIENTE</td>\n",
       "      <td>335.0</td>\n",
       "    </tr>\n",
       "    <tr>\n",
       "      <th>3</th>\n",
       "      <td>1304396581</td>\n",
       "      <td>5055893</td>\n",
       "      <td>19.3</td>\n",
       "      <td>2019-05-01</td>\n",
       "      <td>1</td>\n",
       "      <td>CORRIENTE</td>\n",
       "      <td>337.0</td>\n",
       "    </tr>\n",
       "    <tr>\n",
       "      <th>4</th>\n",
       "      <td>0912125002</td>\n",
       "      <td>6382875</td>\n",
       "      <td>19.7</td>\n",
       "      <td>2019-05-01</td>\n",
       "      <td>1</td>\n",
       "      <td>CORRIENTE</td>\n",
       "      <td>32.0</td>\n",
       "    </tr>\n",
       "  </tbody>\n",
       "</table>\n",
       "</div>"
      ],
      "text/plain": [
       "  IDENTIFICACION  ID_FACTURA  VALOR_INFRACCION FECHA_PAGO  DIA_PAGO  \\\n",
       "0     0907964464     6347039             115.8 2019-05-01         1   \n",
       "1     1711723831     5112985              19.3 2019-05-01         1   \n",
       "2     1304396581     5063205              19.3 2019-05-01         1   \n",
       "3     1304396581     5055893              19.3 2019-05-01         1   \n",
       "4     0912125002     6382875              19.7 2019-05-01         1   \n",
       "\n",
       "        TIPO  DIAS_MORA  \n",
       "0  CORRIENTE      172.0  \n",
       "1  CORRIENTE      326.0  \n",
       "2  CORRIENTE      335.0  \n",
       "3  CORRIENTE      337.0  \n",
       "4  CORRIENTE       32.0  "
      ]
     },
     "execution_count": 24,
     "metadata": {},
     "output_type": "execute_result"
    }
   ],
   "source": [
    "pagos_corr['TIPO']='CORRIENTE'\n",
    "cruce_pag_corr=pd.merge(pagos_corr,dias_mora_multa,on=['ID_FACTURA'],how='left')\n",
    "cruce_pag_corr=cruce_pag_corr[['IDENTIFICACION','ID_FACTURA','VALOR_INFRACCION','FECHA_PAGO','DIA_PAGO','TIPO','DIAS_MORA']]\n",
    "cruce_pag_corr.head()"
   ]
  },
  {
   "cell_type": "markdown",
   "metadata": {},
   "source": [
    "## CUOTA CERO"
   ]
  },
  {
   "cell_type": "code",
   "execution_count": 25,
   "metadata": {},
   "outputs": [],
   "source": [
    "def identificar_pago(base):\n",
    "    valor1 = base['VALOR_INFRACCION']\n",
    "    valor2 = base['VALOR_PAGO_CAPITAL']\n",
    "    mora = base['DIAS_MORA']\n",
    "    if mora<=180:\n",
    "        return valor2\n",
    "    return valor1"
   ]
  },
  {
   "cell_type": "code",
   "execution_count": 26,
   "metadata": {},
   "outputs": [],
   "source": [
    "pagos_cuot = pagos_cuot.rename(columns={'ID':'IDENTIFICACION'})"
   ]
  },
  {
   "cell_type": "code",
   "execution_count": 27,
   "metadata": {},
   "outputs": [],
   "source": [
    "pagos_cuot['IDENTIFICACION']=pagos_cuot.apply(agregar_ceros,axis=1)"
   ]
  },
  {
   "cell_type": "code",
   "execution_count": 28,
   "metadata": {},
   "outputs": [
    {
     "data": {
      "text/html": [
       "<div>\n",
       "<style scoped>\n",
       "    .dataframe tbody tr th:only-of-type {\n",
       "        vertical-align: middle;\n",
       "    }\n",
       "\n",
       "    .dataframe tbody tr th {\n",
       "        vertical-align: top;\n",
       "    }\n",
       "\n",
       "    .dataframe thead th {\n",
       "        text-align: right;\n",
       "    }\n",
       "</style>\n",
       "<table border=\"1\" class=\"dataframe\">\n",
       "  <thead>\n",
       "    <tr style=\"text-align: right;\">\n",
       "      <th></th>\n",
       "      <th>IDENTIFICACION</th>\n",
       "      <th>ID_FACTURA</th>\n",
       "      <th>VALOR_INFRACCION</th>\n",
       "      <th>FECHA_PAGO</th>\n",
       "      <th>DIA_PAGO</th>\n",
       "      <th>TIPO</th>\n",
       "      <th>DIAS_MORA</th>\n",
       "    </tr>\n",
       "  </thead>\n",
       "  <tbody>\n",
       "    <tr>\n",
       "      <th>0</th>\n",
       "      <td>0919709139</td>\n",
       "      <td>5533365</td>\n",
       "      <td>19.30</td>\n",
       "      <td>2019-05-01</td>\n",
       "      <td>1</td>\n",
       "      <td>CUOTA CERO</td>\n",
       "      <td>236.0</td>\n",
       "    </tr>\n",
       "    <tr>\n",
       "      <th>1</th>\n",
       "      <td>0919709139</td>\n",
       "      <td>5608800</td>\n",
       "      <td>386.00</td>\n",
       "      <td>2019-05-01</td>\n",
       "      <td>1</td>\n",
       "      <td>CUOTA CERO</td>\n",
       "      <td>218.0</td>\n",
       "    </tr>\n",
       "    <tr>\n",
       "      <th>2</th>\n",
       "      <td>0919709139</td>\n",
       "      <td>5973029</td>\n",
       "      <td>112.04</td>\n",
       "      <td>2019-05-01</td>\n",
       "      <td>1</td>\n",
       "      <td>CUOTA CERO</td>\n",
       "      <td>128.0</td>\n",
       "    </tr>\n",
       "    <tr>\n",
       "      <th>3</th>\n",
       "      <td>0918099920</td>\n",
       "      <td>6348438</td>\n",
       "      <td>90.64</td>\n",
       "      <td>2019-05-01</td>\n",
       "      <td>1</td>\n",
       "      <td>CUOTA CERO</td>\n",
       "      <td>40.0</td>\n",
       "    </tr>\n",
       "    <tr>\n",
       "      <th>4</th>\n",
       "      <td>0919709139</td>\n",
       "      <td>5358553</td>\n",
       "      <td>19.30</td>\n",
       "      <td>2019-05-01</td>\n",
       "      <td>1</td>\n",
       "      <td>CUOTA CERO</td>\n",
       "      <td>273.0</td>\n",
       "    </tr>\n",
       "  </tbody>\n",
       "</table>\n",
       "</div>"
      ],
      "text/plain": [
       "  IDENTIFICACION  ID_FACTURA  VALOR_INFRACCION FECHA_PAGO  DIA_PAGO  \\\n",
       "0     0919709139     5533365             19.30 2019-05-01         1   \n",
       "1     0919709139     5608800            386.00 2019-05-01         1   \n",
       "2     0919709139     5973029            112.04 2019-05-01         1   \n",
       "3     0918099920     6348438             90.64 2019-05-01         1   \n",
       "4     0919709139     5358553             19.30 2019-05-01         1   \n",
       "\n",
       "         TIPO  DIAS_MORA  \n",
       "0  CUOTA CERO      236.0  \n",
       "1  CUOTA CERO      218.0  \n",
       "2  CUOTA CERO      128.0  \n",
       "3  CUOTA CERO       40.0  \n",
       "4  CUOTA CERO      273.0  "
      ]
     },
     "execution_count": 28,
     "metadata": {},
     "output_type": "execute_result"
    }
   ],
   "source": [
    "pagos_cuot['TIPO']='CUOTA CERO'\n",
    "pagos_cuot['DIA_PAGO'] = pagos_cuot['FECHA_REGISTRO_PAGO'].dt.day\n",
    "pagos_cuot['MONTO_PAGO']=pagos_cuot.apply(identificar_pago,axis=1)\n",
    "pagos_cuot_resumen=pagos_cuot[['IDENTIFICACION','ID_FACTURA_INICIAL','MONTO_PAGO','FECHA_REGISTRO_PAGO','DIA_PAGO','TIPO']]\n",
    "pagos_cuot_resumen = pagos_cuot_resumen.rename(columns={'ID_FACTURA_INICIAL':'ID_FACTURA','MONTO_PAGO':'VALOR_INFRACCION','FECHA_REGISTRO_PAGO':'FECHA_PAGO'})\n",
    "cruce_pag_cuot=pd.merge(pagos_cuot_resumen,dias_mora_multa,on=['ID_FACTURA'],how='left')\n",
    "cruce_pag_cuot.head()"
   ]
  },
  {
   "cell_type": "markdown",
   "metadata": {},
   "source": [
    "# CONVENIO"
   ]
  },
  {
   "cell_type": "code",
   "execution_count": 29,
   "metadata": {},
   "outputs": [],
   "source": [
    "pagos_conv = pagos_conv.rename(columns={'ID':'IDENTIFICACION'})"
   ]
  },
  {
   "cell_type": "code",
   "execution_count": 30,
   "metadata": {},
   "outputs": [],
   "source": [
    "pagos_conv['IDENTIFICACION']=pagos_conv.apply(agregar_ceros,axis=1)"
   ]
  },
  {
   "cell_type": "code",
   "execution_count": 31,
   "metadata": {},
   "outputs": [],
   "source": [
    "pagos_conv['TIPO']='CONVENIO'\n",
    "pagos_conv['DIA_PAGO'] = pagos_conv['FECHA_PAGO'].dt.day"
   ]
  },
  {
   "cell_type": "code",
   "execution_count": 32,
   "metadata": {},
   "outputs": [],
   "source": [
    "pagos_conv_resumen=pagos_conv[['IDENTIFICACION','ID_CONVENIO','VALOR_PAGAR_CUOTA','FECHA_PAGO','DIA_PAGO','TIPO','NRO_CUOTA_EMISION']]\n",
    "cruce_pag_conv = pagos_conv_resumen.rename(columns={'ID_CONVENIO':'ID_FACTURA','VALOR_PAGAR_CUOTA':'VALOR_INFRACCION','NRO_CUOTA_EMISION':'DIAS_MORA'})"
   ]
  },
  {
   "cell_type": "code",
   "execution_count": 33,
   "metadata": {},
   "outputs": [
    {
     "data": {
      "text/html": [
       "<div>\n",
       "<style scoped>\n",
       "    .dataframe tbody tr th:only-of-type {\n",
       "        vertical-align: middle;\n",
       "    }\n",
       "\n",
       "    .dataframe tbody tr th {\n",
       "        vertical-align: top;\n",
       "    }\n",
       "\n",
       "    .dataframe thead th {\n",
       "        text-align: right;\n",
       "    }\n",
       "</style>\n",
       "<table border=\"1\" class=\"dataframe\">\n",
       "  <thead>\n",
       "    <tr style=\"text-align: right;\">\n",
       "      <th></th>\n",
       "      <th>IDENTIFICACION</th>\n",
       "      <th>ID_FACTURA</th>\n",
       "      <th>VALOR_INFRACCION</th>\n",
       "      <th>FECHA_PAGO</th>\n",
       "      <th>DIA_PAGO</th>\n",
       "      <th>TIPO</th>\n",
       "      <th>DIAS_MORA</th>\n",
       "    </tr>\n",
       "  </thead>\n",
       "  <tbody>\n",
       "    <tr>\n",
       "      <th>0</th>\n",
       "      <td>0916081151</td>\n",
       "      <td>355866</td>\n",
       "      <td>68.29</td>\n",
       "      <td>2019-05-01</td>\n",
       "      <td>1</td>\n",
       "      <td>CONVENIO</td>\n",
       "      <td>1</td>\n",
       "    </tr>\n",
       "    <tr>\n",
       "      <th>1</th>\n",
       "      <td>0922469549</td>\n",
       "      <td>306207</td>\n",
       "      <td>102.93</td>\n",
       "      <td>2019-05-01</td>\n",
       "      <td>1</td>\n",
       "      <td>CONVENIO</td>\n",
       "      <td>1</td>\n",
       "    </tr>\n",
       "    <tr>\n",
       "      <th>2</th>\n",
       "      <td>0922469549</td>\n",
       "      <td>306207</td>\n",
       "      <td>102.93</td>\n",
       "      <td>2019-05-01</td>\n",
       "      <td>1</td>\n",
       "      <td>CONVENIO</td>\n",
       "      <td>4</td>\n",
       "    </tr>\n",
       "    <tr>\n",
       "      <th>3</th>\n",
       "      <td>0922469549</td>\n",
       "      <td>306207</td>\n",
       "      <td>102.93</td>\n",
       "      <td>2019-05-01</td>\n",
       "      <td>1</td>\n",
       "      <td>CONVENIO</td>\n",
       "      <td>5</td>\n",
       "    </tr>\n",
       "    <tr>\n",
       "      <th>4</th>\n",
       "      <td>0922469549</td>\n",
       "      <td>306207</td>\n",
       "      <td>102.93</td>\n",
       "      <td>2019-05-01</td>\n",
       "      <td>1</td>\n",
       "      <td>CONVENIO</td>\n",
       "      <td>6</td>\n",
       "    </tr>\n",
       "  </tbody>\n",
       "</table>\n",
       "</div>"
      ],
      "text/plain": [
       "  IDENTIFICACION  ID_FACTURA  VALOR_INFRACCION FECHA_PAGO  DIA_PAGO      TIPO  \\\n",
       "0     0916081151      355866             68.29 2019-05-01         1  CONVENIO   \n",
       "1     0922469549      306207            102.93 2019-05-01         1  CONVENIO   \n",
       "2     0922469549      306207            102.93 2019-05-01         1  CONVENIO   \n",
       "3     0922469549      306207            102.93 2019-05-01         1  CONVENIO   \n",
       "4     0922469549      306207            102.93 2019-05-01         1  CONVENIO   \n",
       "\n",
       "   DIAS_MORA  \n",
       "0          1  \n",
       "1          1  \n",
       "2          4  \n",
       "3          5  \n",
       "4          6  "
      ]
     },
     "execution_count": 33,
     "metadata": {},
     "output_type": "execute_result"
    }
   ],
   "source": [
    "cruce_pag_conv.head()"
   ]
  },
  {
   "cell_type": "markdown",
   "metadata": {},
   "source": [
    "## UNIR LOS PAGOS"
   ]
  },
  {
   "cell_type": "code",
   "execution_count": 34,
   "metadata": {},
   "outputs": [],
   "source": [
    "pagos=[cruce_pag_cuot,cruce_pag_corr,cruce_pag_conv]\n",
    "total_pagos=pd.concat(pagos)"
   ]
  },
  {
   "cell_type": "code",
   "execution_count": 35,
   "metadata": {},
   "outputs": [
    {
     "data": {
      "text/plain": [
       "CORRIENTE     811\n",
       "CONVENIO      411\n",
       "CUOTA CERO    280\n",
       "Name: TIPO, dtype: int64"
      ]
     },
     "execution_count": 35,
     "metadata": {},
     "output_type": "execute_result"
    }
   ],
   "source": [
    "total_pagos['TIPO'].value_counts()"
   ]
  },
  {
   "cell_type": "code",
   "execution_count": null,
   "metadata": {},
   "outputs": [],
   "source": []
  },
  {
   "cell_type": "markdown",
   "metadata": {},
   "source": [
    "## CRUCE CON GESTIONES"
   ]
  },
  {
   "cell_type": "code",
   "execution_count": 36,
   "metadata": {},
   "outputs": [
    {
     "data": {
      "text/html": [
       "<div>\n",
       "<style scoped>\n",
       "    .dataframe tbody tr th:only-of-type {\n",
       "        vertical-align: middle;\n",
       "    }\n",
       "\n",
       "    .dataframe tbody tr th {\n",
       "        vertical-align: top;\n",
       "    }\n",
       "\n",
       "    .dataframe thead th {\n",
       "        text-align: right;\n",
       "    }\n",
       "</style>\n",
       "<table border=\"1\" class=\"dataframe\">\n",
       "  <thead>\n",
       "    <tr style=\"text-align: right;\">\n",
       "      <th></th>\n",
       "      <th>IDENTIFICACION</th>\n",
       "      <th>ID_FACTURA</th>\n",
       "      <th>VALOR_INFRACCION</th>\n",
       "      <th>FECHA_PAGO</th>\n",
       "      <th>DIA_PAGO</th>\n",
       "      <th>TIPO</th>\n",
       "      <th>DIAS_MORA</th>\n",
       "      <th>COD_AGENTE</th>\n",
       "      <th>FECHA_GESTION</th>\n",
       "      <th>CONTACTO_GESTIONO</th>\n",
       "      <th>ACCION_REALIZADA</th>\n",
       "      <th>RESPUESTA_OBTENIDA</th>\n",
       "      <th>NUMERO_GESTION</th>\n",
       "    </tr>\n",
       "  </thead>\n",
       "  <tbody>\n",
       "    <tr>\n",
       "      <th>0</th>\n",
       "      <td>0919709139</td>\n",
       "      <td>5533365</td>\n",
       "      <td>19.30</td>\n",
       "      <td>2019-05-01</td>\n",
       "      <td>1</td>\n",
       "      <td>CUOTA CERO</td>\n",
       "      <td>236.0</td>\n",
       "      <td>NaN</td>\n",
       "      <td>NaN</td>\n",
       "      <td>NaN</td>\n",
       "      <td>NaN</td>\n",
       "      <td>NaN</td>\n",
       "      <td>NaN</td>\n",
       "    </tr>\n",
       "    <tr>\n",
       "      <th>1</th>\n",
       "      <td>0919709139</td>\n",
       "      <td>5608800</td>\n",
       "      <td>386.00</td>\n",
       "      <td>2019-05-01</td>\n",
       "      <td>1</td>\n",
       "      <td>CUOTA CERO</td>\n",
       "      <td>218.0</td>\n",
       "      <td>NaN</td>\n",
       "      <td>NaN</td>\n",
       "      <td>NaN</td>\n",
       "      <td>NaN</td>\n",
       "      <td>NaN</td>\n",
       "      <td>NaN</td>\n",
       "    </tr>\n",
       "    <tr>\n",
       "      <th>2</th>\n",
       "      <td>0919709139</td>\n",
       "      <td>5973029</td>\n",
       "      <td>112.04</td>\n",
       "      <td>2019-05-01</td>\n",
       "      <td>1</td>\n",
       "      <td>CUOTA CERO</td>\n",
       "      <td>128.0</td>\n",
       "      <td>NaN</td>\n",
       "      <td>NaN</td>\n",
       "      <td>NaN</td>\n",
       "      <td>NaN</td>\n",
       "      <td>NaN</td>\n",
       "      <td>NaN</td>\n",
       "    </tr>\n",
       "    <tr>\n",
       "      <th>3</th>\n",
       "      <td>0918099920</td>\n",
       "      <td>6348438</td>\n",
       "      <td>90.64</td>\n",
       "      <td>2019-05-01</td>\n",
       "      <td>1</td>\n",
       "      <td>CUOTA CERO</td>\n",
       "      <td>40.0</td>\n",
       "      <td>NaN</td>\n",
       "      <td>NaN</td>\n",
       "      <td>NaN</td>\n",
       "      <td>NaN</td>\n",
       "      <td>NaN</td>\n",
       "      <td>NaN</td>\n",
       "    </tr>\n",
       "    <tr>\n",
       "      <th>4</th>\n",
       "      <td>0919709139</td>\n",
       "      <td>5358553</td>\n",
       "      <td>19.30</td>\n",
       "      <td>2019-05-01</td>\n",
       "      <td>1</td>\n",
       "      <td>CUOTA CERO</td>\n",
       "      <td>273.0</td>\n",
       "      <td>NaN</td>\n",
       "      <td>NaN</td>\n",
       "      <td>NaN</td>\n",
       "      <td>NaN</td>\n",
       "      <td>NaN</td>\n",
       "      <td>NaN</td>\n",
       "    </tr>\n",
       "  </tbody>\n",
       "</table>\n",
       "</div>"
      ],
      "text/plain": [
       "  IDENTIFICACION  ID_FACTURA  VALOR_INFRACCION FECHA_PAGO  DIA_PAGO  \\\n",
       "0     0919709139     5533365             19.30 2019-05-01         1   \n",
       "1     0919709139     5608800            386.00 2019-05-01         1   \n",
       "2     0919709139     5973029            112.04 2019-05-01         1   \n",
       "3     0918099920     6348438             90.64 2019-05-01         1   \n",
       "4     0919709139     5358553             19.30 2019-05-01         1   \n",
       "\n",
       "         TIPO  DIAS_MORA COD_AGENTE  FECHA_GESTION CONTACTO_GESTIONO  \\\n",
       "0  CUOTA CERO      236.0        NaN            NaN               NaN   \n",
       "1  CUOTA CERO      218.0        NaN            NaN               NaN   \n",
       "2  CUOTA CERO      128.0        NaN            NaN               NaN   \n",
       "3  CUOTA CERO       40.0        NaN            NaN               NaN   \n",
       "4  CUOTA CERO      273.0        NaN            NaN               NaN   \n",
       "\n",
       "  ACCION_REALIZADA RESPUESTA_OBTENIDA NUMERO_GESTION  \n",
       "0              NaN                NaN            NaN  \n",
       "1              NaN                NaN            NaN  \n",
       "2              NaN                NaN            NaN  \n",
       "3              NaN                NaN            NaN  \n",
       "4              NaN                NaN            NaN  "
      ]
     },
     "execution_count": 36,
     "metadata": {},
     "output_type": "execute_result"
    }
   ],
   "source": [
    "cruce_gestion_total=pd.merge(total_pagos,gestion_total,on=['IDENTIFICACION'],how='left')\n",
    "cruce_gestion_total.head()"
   ]
  },
  {
   "cell_type": "code",
   "execution_count": 37,
   "metadata": {},
   "outputs": [
    {
     "data": {
      "text/plain": [
       "GESTION MASIVOS    1101\n",
       "HACER LLAMADA        53\n",
       "Name: ACCION_REALIZADA, dtype: int64"
      ]
     },
     "execution_count": 37,
     "metadata": {},
     "output_type": "execute_result"
    }
   ],
   "source": [
    "cruce_gestion_total['ACCION_REALIZADA'].value_counts()"
   ]
  },
  {
   "cell_type": "markdown",
   "metadata": {},
   "source": [
    "# Honorarios"
   ]
  },
  {
   "cell_type": "code",
   "execution_count": 38,
   "metadata": {},
   "outputs": [],
   "source": [
    "def altura_mora(base):\n",
    "    altura = base['DIAS_MORA']\n",
    "    if  altura>=0 and altura<11:\n",
    "        return 'DE 0 A 10'\n",
    "    if  altura>=11 and altura<61:\n",
    "        return 'DE 11 A 60'\n",
    "    if  altura>=61 and altura<181:\n",
    "        return 'DE 61 A 180'\n",
    "    if  altura>=181 and altura<361:\n",
    "        return 'DE 181 A 361'\n",
    "    if  altura>=361:\n",
    "        return 'MAYOR A 361'\n",
    "    else:\n",
    "        return 'None'"
   ]
  },
  {
   "cell_type": "code",
   "execution_count": 39,
   "metadata": {},
   "outputs": [],
   "source": [
    "cruce_gestion_total['Altura_Mora']=cruce_gestion_total.apply(altura_mora,axis=1)"
   ]
  },
  {
   "cell_type": "code",
   "execution_count": 40,
   "metadata": {},
   "outputs": [
    {
     "data": {
      "text/plain": [
       "DE 0 A 10       390\n",
       "DE 11 A 60      366\n",
       "DE 181 A 361    313\n",
       "DE 61 A 180     262\n",
       "MAYOR A 361     171\n",
       "Name: Altura_Mora, dtype: int64"
      ]
     },
     "execution_count": 40,
     "metadata": {},
     "output_type": "execute_result"
    }
   ],
   "source": [
    "cruce_gestion_total['Altura_Mora'].value_counts()"
   ]
  },
  {
   "cell_type": "code",
   "execution_count": 41,
   "metadata": {},
   "outputs": [],
   "source": [
    "def honorarios_porct(base):\n",
    "    tipo = base['TIPO']\n",
    "    accion = base['ACCION_REALIZADA']\n",
    "    altura_mora = base['Altura_Mora']\n",
    "    porct = 0.7 if accion=='GESTION MASIVOS' else 1\n",
    "    if tipo == 'CORRIENTE' or tipo == 'CONVENIO':\n",
    "        if altura_mora=='DE 0 A 10':\n",
    "            return porct*0\n",
    "        if altura_mora=='DE 11 A 60':\n",
    "            return porct*0.02\n",
    "        if altura_mora=='DE 61 A 180':\n",
    "            return porct*0.04\n",
    "        if altura_mora=='DE 181 A 361':\n",
    "            return porct*0.05\n",
    "        if altura_mora=='MAYOR A 361':\n",
    "            return porct*0.06\n",
    "    elif tipo == 'CUOTA CERO':\n",
    "        if altura_mora=='DE 0 A 10':\n",
    "            return 0\n",
    "        if altura_mora=='DE 11 A 60':\n",
    "            return 0.02\n",
    "        if altura_mora=='DE 61 A 180':\n",
    "            return 0.04\n",
    "        if altura_mora=='DE 181 A 361':\n",
    "            return 0.039\n",
    "        if altura_mora=='MAYOR A 361':\n",
    "            return 0.039\n",
    "    else:\n",
    "        return 0"
   ]
  },
  {
   "cell_type": "code",
   "execution_count": 42,
   "metadata": {},
   "outputs": [],
   "source": [
    "cruce_gestion_total['HONORARIOS_PORCENTAJE']=cruce_gestion_total.apply(honorarios_porct,axis=1)\n",
    "cruce_gestion_total['HONORARIOS']=cruce_gestion_total['HONORARIOS_PORCENTAJE']*cruce_gestion_total['VALOR_INFRACCION']"
   ]
  },
  {
   "cell_type": "code",
   "execution_count": 43,
   "metadata": {},
   "outputs": [
    {
     "data": {
      "text/plain": [
       "CORRIENTE     811\n",
       "CONVENIO      411\n",
       "CUOTA CERO    280\n",
       "Name: TIPO, dtype: int64"
      ]
     },
     "execution_count": 43,
     "metadata": {},
     "output_type": "execute_result"
    }
   ],
   "source": [
    "cruce_gestion_total['TIPO'].value_counts()"
   ]
  },
  {
   "cell_type": "code",
   "execution_count": 44,
   "metadata": {},
   "outputs": [],
   "source": [
    "def validar(base):\n",
    "    dia_pago=base['DIA_PAGO']\n",
    "    dia_gestion=base['FECHA_GESTION']\n",
    "    if dia_gestion<=dia_pago:\n",
    "        return 'SI'\n",
    "    return 'NO'"
   ]
  },
  {
   "cell_type": "code",
   "execution_count": 45,
   "metadata": {},
   "outputs": [],
   "source": [
    "cruce_gestion_total['VALIDO']=cruce_gestion_total.apply(validar,axis=1)"
   ]
  },
  {
   "cell_type": "code",
   "execution_count": 46,
   "metadata": {},
   "outputs": [
    {
     "data": {
      "text/plain": [
       "CORRIENTE     811\n",
       "CONVENIO      411\n",
       "CUOTA CERO    280\n",
       "Name: TIPO, dtype: int64"
      ]
     },
     "execution_count": 46,
     "metadata": {},
     "output_type": "execute_result"
    }
   ],
   "source": [
    "cruce_gestion_total['TIPO'].value_counts()"
   ]
  },
  {
   "cell_type": "markdown",
   "metadata": {},
   "source": [
    "## HONORARIOS VALIDOS"
   ]
  },
  {
   "cell_type": "code",
   "execution_count": 47,
   "metadata": {},
   "outputs": [
    {
     "name": "stdout",
     "output_type": "stream",
     "text": [
      "            VALOR_INFRACCION  HONORARIOS\n",
      "TIPO                                    \n",
      "CONVENIO            17890.86    23.62914\n",
      "CORRIENTE           48533.55  1173.89165\n",
      "CUOTA CERO          17528.14   595.60479\n",
      "VALOR_INFRACCION    83952.55000\n",
      "HONORARIOS           1793.12558\n",
      "dtype: float64\n"
     ]
    }
   ],
   "source": [
    "print(cruce_gestion_total[cruce_gestion_total['VALIDO']=='SI'].groupby('TIPO').agg({'VALOR_INFRACCION':'sum','HONORARIOS':'sum'}))\n",
    "print(cruce_gestion_total[cruce_gestion_total['VALIDO']=='SI'].groupby('TIPO').agg({'VALOR_INFRACCION':'sum','HONORARIOS':'sum'}).sum())"
   ]
  },
  {
   "cell_type": "code",
   "execution_count": 48,
   "metadata": {},
   "outputs": [
    {
     "data": {
      "text/plain": [
       "<matplotlib.axes._subplots.AxesSubplot at 0x139697b0>"
      ]
     },
     "execution_count": 48,
     "metadata": {},
     "output_type": "execute_result"
    }
   ],
   "source": [
    "cruce_gestion_total[cruce_gestion_total['VALIDO']=='SI'].groupby('TIPO').agg({'VALOR_INFRACCION':'sum','HONORARIOS':'sum'}).plot.line()"
   ]
  },
  {
   "cell_type": "markdown",
   "metadata": {},
   "source": [
    "## HONORARIOS TOTALES"
   ]
  },
  {
   "cell_type": "code",
   "execution_count": 49,
   "metadata": {},
   "outputs": [
    {
     "name": "stdout",
     "output_type": "stream",
     "text": [
      "            VALOR_INFRACCION  HONORARIOS\n",
      "TIPO                                    \n",
      "CONVENIO            26981.75    29.55574\n",
      "CORRIENTE           65022.95  1817.92225\n",
      "CUOTA CERO          22343.66   758.10368\n",
      "VALOR_INFRACCION    114348.36000\n",
      "HONORARIOS            2605.58167\n",
      "dtype: float64\n"
     ]
    }
   ],
   "source": [
    "print(cruce_gestion_total.groupby('TIPO').agg({'VALOR_INFRACCION':'sum','HONORARIOS':'sum'}))\n",
    "print(cruce_gestion_total.groupby('TIPO').agg({'VALOR_INFRACCION':'sum','HONORARIOS':'sum'}).sum())"
   ]
  },
  {
   "cell_type": "code",
   "execution_count": null,
   "metadata": {},
   "outputs": [],
   "source": []
  },
  {
   "cell_type": "markdown",
   "metadata": {},
   "source": [
    "## HONORARIOS NO VALIDOS"
   ]
  },
  {
   "cell_type": "code",
   "execution_count": 50,
   "metadata": {},
   "outputs": [
    {
     "name": "stdout",
     "output_type": "stream",
     "text": [
      "            VALOR_INFRACCION  HONORARIOS\n",
      "TIPO                                    \n",
      "CONVENIO             9090.89     5.92660\n",
      "CORRIENTE           16489.40   644.03060\n",
      "CUOTA CERO           4815.52   162.49889\n",
      "VALOR_INFRACCION    30395.81000\n",
      "HONORARIOS            812.45609\n",
      "dtype: float64\n"
     ]
    }
   ],
   "source": [
    "print(cruce_gestion_total[cruce_gestion_total['VALIDO']=='NO'].groupby('TIPO').agg({'VALOR_INFRACCION':'sum','HONORARIOS':'sum'}))\n",
    "print(cruce_gestion_total[cruce_gestion_total['VALIDO']=='NO'].groupby('TIPO').agg({'VALOR_INFRACCION':'sum','HONORARIOS':'sum'}).sum())"
   ]
  },
  {
   "cell_type": "code",
   "execution_count": 51,
   "metadata": {},
   "outputs": [],
   "source": [
    "nuevo_archivo='ANALISIS DE PAGOS CON PREORIDAD FECHA.xlsx'\n",
    "writer = pd.ExcelWriter(nuevo_archivo, engine='xlsxwriter')\n",
    "cruce_gestion_total.to_excel(writer, sheet_name='GESTION TOTAL')\n",
    "worksheet = writer.sheets['GESTION TOTAL']\n",
    "writer.save()"
   ]
  },
  {
   "cell_type": "code",
   "execution_count": 52,
   "metadata": {},
   "outputs": [],
   "source": [
    "nuevo_archivo='GESTION ASESOR.xlsx'\n",
    "writer = pd.ExcelWriter(nuevo_archivo, engine='xlsxwriter')\n",
    "gestion_asesor.to_excel(writer, sheet_name='GESTION TOTAL')\n",
    "worksheet = writer.sheets['GESTION TOTAL']\n",
    "writer.save()"
   ]
  },
  {
   "cell_type": "code",
   "execution_count": null,
   "metadata": {},
   "outputs": [],
   "source": []
  },
  {
   "cell_type": "code",
   "execution_count": null,
   "metadata": {},
   "outputs": [],
   "source": []
  },
  {
   "cell_type": "code",
   "execution_count": null,
   "metadata": {},
   "outputs": [],
   "source": []
  },
  {
   "cell_type": "code",
   "execution_count": null,
   "metadata": {},
   "outputs": [],
   "source": []
  }
 ],
 "metadata": {
  "kernelspec": {
   "display_name": "Python 3",
   "language": "python",
   "name": "python3"
  },
  "language_info": {
   "codemirror_mode": {
    "name": "ipython",
    "version": 3
   },
   "file_extension": ".py",
   "mimetype": "text/x-python",
   "name": "python",
   "nbconvert_exporter": "python",
   "pygments_lexer": "ipython3",
   "version": "3.6.5"
  }
 },
 "nbformat": 4,
 "nbformat_minor": 2
}
