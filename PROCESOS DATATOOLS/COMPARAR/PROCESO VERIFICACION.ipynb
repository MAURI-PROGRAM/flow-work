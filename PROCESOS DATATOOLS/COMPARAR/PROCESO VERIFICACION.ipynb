{
 "cells": [
  {
   "cell_type": "code",
   "execution_count": 10,
   "metadata": {},
   "outputs": [],
   "source": [
    "import pandas as pd\n",
    "import MySQLdb"
   ]
  },
  {
   "cell_type": "code",
   "execution_count": 11,
   "metadata": {},
   "outputs": [],
   "source": [
    "def agregar_ceros(num):\n",
    "    ced=num['IDENTIFICACION_DEUDOR']\n",
    "    if len(ced)==9 or len(ced)==12 :\n",
    "        if ced.isdigit():\n",
    "            return '0'+ced\n",
    "    return ced"
   ]
  },
  {
   "cell_type": "code",
   "execution_count": 12,
   "metadata": {},
   "outputs": [],
   "source": [
    "leer_archivo_IVR=pd.read_excel(open('IVR1.xlsx','rb'), sheet_name='Hoja1', dtype={\"CED\": str,\"NUMERO\":str})"
   ]
  },
  {
   "cell_type": "code",
   "execution_count": 13,
   "metadata": {},
   "outputs": [],
   "source": [
    "leer_demografico=pd.read_excel(open('Sistema de cobro.xlsx','rb'), sheet_name='Demografico', dtype={\"IDENTIFICACION_DEUDOR\": str,\"TELEFONO\":str})"
   ]
  },
  {
   "cell_type": "code",
   "execution_count": 14,
   "metadata": {},
   "outputs": [],
   "source": [
    "leer_demografico=leer_demografico[['IDENTIFICACION_DEUDOR','TELEFONO']]"
   ]
  },
  {
   "cell_type": "code",
   "execution_count": 15,
   "metadata": {},
   "outputs": [],
   "source": [
    "leer_demografico['IDENTIFICACION_DEUDOR']=leer_demografico.apply(agregar_ceros,axis=1)\n",
    "leer_demografico['ASIGNADOS']='SI'\n",
    "leer_demografico['TELEFONO']='0'+leer_demografico['TELEFONO']\n",
    "leer_demografico = leer_demografico.rename(columns={'IDENTIFICACION_DEUDOR':'CED','TELEFONO':'NUMERO'})"
   ]
  },
  {
   "cell_type": "code",
   "execution_count": 16,
   "metadata": {},
   "outputs": [],
   "source": [
    "verificacion = pd.merge(leer_archivo_IVR,leer_demografico,on=['CED','NUMERO'],how='left')"
   ]
  },
  {
   "cell_type": "code",
   "execution_count": 17,
   "metadata": {},
   "outputs": [],
   "source": [
    "nuevo_archivo='VERIFICADOS.xlsx'\n",
    "writer = pd.ExcelWriter(nuevo_archivo, engine='xlsxwriter')\n",
    "verificacion.to_excel(writer, sheet_name='BASE')\n",
    "worksheet = writer.sheets['BASE']\n",
    "writer.save()"
   ]
  },
  {
   "cell_type": "code",
   "execution_count": null,
   "metadata": {},
   "outputs": [],
   "source": []
  }
 ],
 "metadata": {
  "kernelspec": {
   "display_name": "Python 3",
   "language": "python",
   "name": "python3"
  },
  "language_info": {
   "codemirror_mode": {
    "name": "ipython",
    "version": 3
   },
   "file_extension": ".py",
   "mimetype": "text/x-python",
   "name": "python",
   "nbconvert_exporter": "python",
   "pygments_lexer": "ipython3",
   "version": "3.6.5"
  }
 },
 "nbformat": 4,
 "nbformat_minor": 2
}
