{
 "cells": [
  {
   "cell_type": "code",
   "execution_count": 1,
   "metadata": {},
   "outputs": [],
   "source": [
    "import pandas as pd\n",
    "import MySQLdb\n",
    "from datetime import datetime,timedelta\n",
    "import random"
   ]
  },
  {
   "cell_type": "code",
   "execution_count": 2,
   "metadata": {},
   "outputs": [],
   "source": [
    "#formato de fecha AAAA-mm-dd  ejmp 2018-04-25\n",
    "fecha_ini=\"DATE_FORMAT(DATE_SUB(NOW(), INTERVAL 0 DAY),'%Y/%m/%d 07:00:00')\"\n",
    "fecha_fin=\"DATE_FORMAT(DATE_SUB(NOW(), INTERVAL 0 DAY),'%Y/%m/%d 21:00:00')\""
   ]
  },
  {
   "cell_type": "code",
   "execution_count": 3,
   "metadata": {},
   "outputs": [],
   "source": [
    "corriente=\"in ('6665')\"\n",
    "colas=[corriente]\n",
    "nombre_colas=['CORRIENTE']\n",
    "comentarios=['']"
   ]
  },
  {
   "cell_type": "code",
   "execution_count": 4,
   "metadata": {},
   "outputs": [],
   "source": [
    "db = MySQLdb.connect(host=\"172.18.55.99\",    # tu host, usualmente localhost\n",
    "                     user=\"comandato\",         # tu usuario\n",
    "                     passwd=\"comandato123\",  # tu password\n",
    "                     db=\"call_center\")        # el nombre de la base de datos\n",
    "db2 = MySQLdb.connect(host=\"172.18.55.6\",    # tu host, usualmente localhost\n",
    "                     user=\"comandato\",         # tu usuario\n",
    "                     passwd=\"comandato123\",  # tu password\n",
    "                     db=\"SISTEMECUADOR_ATM\")        # el nombre de la base de datos"
   ]
  },
  {
   "cell_type": "code",
   "execution_count": 5,
   "metadata": {},
   "outputs": [],
   "source": [
    "cur2= db2.cursor()\n",
    "cur= db2.cursor()"
   ]
  },
  {
   "cell_type": "code",
   "execution_count": null,
   "metadata": {},
   "outputs": [],
   "source": [
    "for cola,nombre_cola,comentario in zip(colas,nombre_colas,comentarios):\n",
    "    consulta=\"\"\"\n",
    "        SELECT \n",
    "        c.id_campaign,cola.name\n",
    "        FROM\n",
    "        calls as c,(SELECT id,name FROM campaign where queue {0}) as cola\n",
    "        WHERE c.start_time between {1} and {2}\n",
    "        and c.id_campaign=cola.id GROUP BY c.id_campaign;\"\"\".format(cola,fecha_ini,fecha_fin)\n",
    "    campañas=pd.read_sql(consulta, con=db)\n",
    "    print(nombre_cola)\n",
    "    print(campañas)\n",
    "    id_camp=''\n",
    "    for row in campañas.itertuples():\n",
    "        id_camp=id_camp+','+str(row.id_campaign)\n",
    "    id_camp=id_camp[1:]\n",
    "    consulta_2=\"\"\"SELECT\n",
    "                        valores.valor AS cedula,\n",
    "                        c.phone AS telefono,\n",
    "                        c.datetime_originate AS fecha\n",
    "                    FROM\n",
    "                        calls c  LEFT JOIN\n",
    "\n",
    "                        (SELECT \n",
    "                            call_attribute.id_call AS id_call,\n",
    "                            call_attribute.value AS valor\n",
    "                        FROM\n",
    "                            calls, call_attribute\n",
    "                            WHERE\n",
    "                        call_attribute.column_number = 2\n",
    "                        AND calls.id_campaign in ({0})\n",
    "                        AND calls.id = call_attribute.id_call) AS valores\n",
    "\n",
    "                        ON valores.id_call = c.id\n",
    "\n",
    "                    WHERE\n",
    "\n",
    "                    c.id_campaign in ({0})\n",
    "                    AND (c.status = 'Success'\n",
    "                    OR c.status = 'Failure'\n",
    "                    OR c.status = 'ShortCall'\n",
    "                    OR c.status = 'NoAnswer'\n",
    "                    OR c.status = 'Abandoned')\n",
    "                    AND c.datetime_originate between {1} and {2}\n",
    "                    ORDER BY uniqueid ASC;\"\"\".format(id_camp,fecha_ini,fecha_fin)\n",
    "    resultado=pd.read_sql(consulta_2, con=db)\n",
    "    contador_ya_gestion=0\n",
    "    contador_subidos=0\n",
    "    for row2 in resultado.itertuples():\n",
    "        telefono=str(row2.telefono)\n",
    "        cedula=str(row2.cedula)\n",
    "        fech_gest=str(row2.fecha)\n",
    "        busc_querry=\"\"\"SELECT id_gestion_pycca \n",
    "                FROM sistemecuador_pycca.gestion_pycca\n",
    "                where ID_CLIENTE='{0}' \n",
    "                AND TELEFONO ='{1}'\n",
    "                and  FECHA_GESTION \n",
    "                between '{2} 07:00:00' and '{2} 20:30:00';\"\"\".format(cedula,telefono,fech_gest[:10])\n",
    "        gestionado=False\n",
    "        insert=False\n",
    "        try:\n",
    "            gestionado=cur2.execute(busc_querry)\n",
    "            db2.commit()\n",
    "            if gestionado:\n",
    "                contador_ya_gestion=contador_ya_gestion+1\n",
    "            else:\n",
    "                ini_querry=\"\"\"INSERT INTO `sistemecuador_pycca`.`gestion_pycca` (`id_cliente`,\n",
    "                            `fecha_gestion`,`seg_calltype`,`calltype`,`motivo_atraso`,`observacion`,`telefono`,\n",
    "                            `primer_nivel`,`segundo_nivel`,`agente`,`TIEMPO_GESTION`)\n",
    "                            VALUES ('{0}','{1}','NO CONTACTO','NO CONTESTA','NO CONTACTO','NC','{2}'\n",
    "                            ,'GESTION TELEFONICA','NO CONTESTA','6665','31');\n",
    "                            \"\"\".format(cedula,fech_gest,telefono)\n",
    "                try:\n",
    "                    insert=cur.execute(ini_querry)\n",
    "                    db2.commit()\n",
    "                    contador_subidos=contador_subidos+1\n",
    "                except:\n",
    "                    db2.rollback()\n",
    "        except:\n",
    "            db2.rollback()\n",
    "    print(\"CANTIDAD DE CLIENTES QUE YA FUERON GESTIONADOS : \"+str(contador_ya_gestion))\n",
    "    print(\"CANTIDAD DE CLIENTES QUE FUERON SUBIDOS : \"+str(contador_subidos))"
   ]
  }
 ],
 "metadata": {
  "kernelspec": {
   "display_name": "Python 3",
   "language": "python",
   "name": "python3"
  },
  "language_info": {
   "codemirror_mode": {
    "name": "ipython",
    "version": 3
   },
   "file_extension": ".py",
   "mimetype": "text/x-python",
   "name": "python",
   "nbconvert_exporter": "python",
   "pygments_lexer": "ipython3",
   "version": "3.6.5"
  }
 },
 "nbformat": 4,
 "nbformat_minor": 2
}
