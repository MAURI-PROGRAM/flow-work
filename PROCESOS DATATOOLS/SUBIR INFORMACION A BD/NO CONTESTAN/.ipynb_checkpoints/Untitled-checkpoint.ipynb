{
 "cells": [
  {
   "cell_type": "code",
   "execution_count": 2,
   "metadata": {},
   "outputs": [],
   "source": [
    "import pandas as pd\n",
    "import numpy as np\n",
    "import MySQLdb"
   ]
  },
  {
   "cell_type": "code",
   "execution_count": null,
   "metadata": {},
   "outputs": [],
   "source": [
    "db = MySQLdb.connect(host=\"172.18.55.99\",    # tu host, usualmente localhost\n",
    "                     user=\"comandato\",         # tu usuario\n",
    "                     passwd=\"comandato123\",  # tu password\n",
    "                     db=\"SISTEMECUADOR_ATM\")        # el nombre de la base de datos\n",
    "cur= db.cursor()"
   ]
  },
  {
   "cell_type": "code",
   "execution_count": null,
   "metadata": {},
   "outputs": [],
   "source": []
  },
  {
   "cell_type": "code",
   "execution_count": null,
   "metadata": {},
   "outputs": [],
   "source": [
    "for row2 in resultado.itertuples():\n",
    "    telefono=str(row2.telefono)\n",
    "    cedula=str(row2.cedula)\n",
    "    fech_gest=str(row2.fecha)\n",
    "    ob_fecha=datetime.strptime(fech_gest,'%Y-%m-%d %H:%M:%S')\n",
    "\tfech_prox=str(ob_fecha+ timedelta(days=3))\n",
    "\tusuario=str('SISTEMC'+str(random.randrange(1,28,1)).zfill(2))\n",
    "\taleatorio= str(random.randrange(30, 70, 1))\n",
    "\tbusc_querry=\"\"\"SELECT CASA_COBRANZA \n",
    "\t\t\t\t\tFROM SISTEMECUADOR_ATM.GESTION \n",
    "\t\t\t\t\twhere NRO_IDENTIFICACION_CLIENTE='{0}' \n",
    "\t\t\t\t\tAND NUMERO_GESTION ='{1}' \n",
    "\t\t\t\t\tand  FECHA_GESTION \n",
    "\t\t\t\t\tbetween '{2} 07:00:00' and '{2} 20:30:00';\"\"\".format(cedula,telefono,fech_gest[:10])\n",
    "\tgestionado=False\n",
    "\tinsert=False\n",
    "\ttry:\n",
    "\t\tgestionado=cur2.execute(busc_querry)\n",
    "\t\tdb2.commit()\n",
    "\t\tif gestionado:\n",
    "\t\t\tcontador_ya_gestion=contador_ya_gestion+1\n",
    "\t\telse:\n",
    "\t\t\tini_querry=\"\"\"INSERT INTO `SISTEMECUADOR_ATM`.`GESTION` (`TIPO_GESTION`, \n",
    "\t\t\t\t\t\t\t\t\t\t`NRO_IDENTIFICACION_CLIENTE`, `CASA_COBRANZA`,\n",
    "\t\t\t\t\t\t\t\t\t\t`COD_AGENTE`, `USUARIO_SAC`, `FECHA_GESTION`, \n",
    "\t\t\t\t\t\t\t\t\t\t`ACCION_REALIZADA`, `RESPUESTA_OBTENIDA`, \n",
    "\t\t\t\t\t\t\t\t\t\t`CONTACTO_GESTIONO`,`COMENTARIOS_GESTIONO`,\n",
    "\t\t\t\t\t\t\t\t\t\t`NUMERO_GESTION`, `FECHA_PROXIMA_GESTION`, \n",
    "\t\t\t\t\t\t\t\t\t\t`TIEMPO_GESTION`, `CANAL_GESTION`) \n",
    "\t\t\t\t\t\t\t\tVALUES ('1', '{0}', 'SISTEMA DE COBRO DEL ECUADOR',\n",
    "\t\t\t\t\t\t\t\t\t\t'D05554', '{1}', '{2}', \n",
    "\t\t\t\t\t\t\t\t\t\t'HACER LLAMADA','NO CONTESTA', 'NO CONTACTO',\n",
    "\t\t\t\t\t\t\t\t\t\t'{3}NO CONTESTA','{4}',\n",
    "\t\t\t\t\t\t\t\t\t\t'{5}','{6}', 'GESTION');\"\"\".format(cedula,usuario,fech_gest,comentario,telefono,fech_prox,aleatorio)\n",
    "\t\t\ttry:\n",
    "\t\t\t\tinsert=cur.execute(ini_querry)\n",
    "\t\t\t\tdb2.commit()\n",
    "\t\t\t\tcontador_subidos=contador_subidos+1\n",
    "\t\t\texcept:\n",
    "\t\t\t\tdb2.rollback()\n",
    "\texcept:\n",
    "\t\tdb2.rollback()"
   ]
  }
 ],
 "metadata": {
  "kernelspec": {
   "display_name": "Python 3",
   "language": "python",
   "name": "python3"
  },
  "language_info": {
   "codemirror_mode": {
    "name": "ipython",
    "version": 3
   },
   "file_extension": ".py",
   "mimetype": "text/x-python",
   "name": "python",
   "nbconvert_exporter": "python",
   "pygments_lexer": "ipython3",
   "version": "3.6.5"
  }
 },
 "nbformat": 4,
 "nbformat_minor": 2
}
