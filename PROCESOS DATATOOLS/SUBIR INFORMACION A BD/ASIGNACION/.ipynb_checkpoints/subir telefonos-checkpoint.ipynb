{
 "cells": [
  {
   "cell_type": "code",
   "execution_count": 1,
   "metadata": {},
   "outputs": [],
   "source": [
    "import pandas as pd\n",
    "import MySQLdb "
   ]
  },
  {
   "cell_type": "code",
   "execution_count": 2,
   "metadata": {},
   "outputs": [],
   "source": [
    "db = MySQLdb.connect(host=\"172.18.55.99\",    # tu host, usualmente localhost\n",
    "                     user=\"comandato\",         # tu usuario\n",
    "                     passwd=\"comandato123\",  # tu password\n",
    "                     db=\"SISTEMECUADOR_ATM\")        # el nombre de la base de datos\n",
    "\n",
    "cur= db.cursor()"
   ]
  },
  {
   "cell_type": "code",
   "execution_count": 3,
   "metadata": {},
   "outputs": [],
   "source": [
    "#nombre de los archivos\n",
    "nom_actual='Sistema de cobro_12_06_2018.xlsx'\n",
    "nom_anterior='Sistema de cobro_13_06_2018.xlsx'"
   ]
  },
  {
   "cell_type": "code",
   "execution_count": 4,
   "metadata": {},
   "outputs": [],
   "source": [
    "#leer archivos excel demograficos\n",
    "demo_actual=pd.read_excel(open(nom_actual,'rb'), sheet_name='Demografico', dtype={\"IDENTIFICACION_DEUDOR\": str})\n",
    "demo_ant=pd.read_excel(open(nom_anterior,'rb'), sheet_name='Demografico', dtype={\"IDENTIFICACION_DEUDOR\": str})"
   ]
  },
  {
   "cell_type": "code",
   "execution_count": 6,
   "metadata": {},
   "outputs": [],
   "source": [
    "demo_ant['new']='si'\n",
    "demo_anterior=demo_ant[['IDENTIFICACION_DEUDOR','TELEFONO','new']]"
   ]
  },
  {
   "cell_type": "code",
   "execution_count": 8,
   "metadata": {},
   "outputs": [],
   "source": [
    "cruce_demo=pd.merge(demo_actual,demo_ant,on=['IDENTIFICACION_DEUDOR','TELEFONO'],how='left')"
   ]
  },
  {
   "cell_type": "code",
   "execution_count": 12,
   "metadata": {},
   "outputs": [],
   "source": [
    "nuevos_demo=cruce_demo[cruce_demo['new'].isnull()]"
   ]
  },
  {
   "cell_type": "code",
   "execution_count": 13,
   "metadata": {},
   "outputs": [],
   "source": [
    "#NUEVAS MULTAS\n",
    "nuevo_archivo='NUEVOS NUMEROS.xlsx'\n",
    "writer = pd.ExcelWriter(nuevo_archivo, engine='xlsxwriter')\n",
    "nuevos_demo.to_excel(writer, sheet_name='DEMOGRAFICOS')\n",
    "worksheet = writer.sheets['DEMOGRAFICOS']\n",
    "writer.save()"
   ]
  }
 ],
 "metadata": {
  "kernelspec": {
   "display_name": "Python 3",
   "language": "python",
   "name": "python3"
  },
  "language_info": {
   "codemirror_mode": {
    "name": "ipython",
    "version": 3
   },
   "file_extension": ".py",
   "mimetype": "text/x-python",
   "name": "python",
   "nbconvert_exporter": "python",
   "pygments_lexer": "ipython3",
   "version": "3.6.5"
  }
 },
 "nbformat": 4,
 "nbformat_minor": 2
}
