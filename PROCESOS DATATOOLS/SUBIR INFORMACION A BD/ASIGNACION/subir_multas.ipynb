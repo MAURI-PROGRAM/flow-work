{
 "cells": [
  {
   "cell_type": "markdown",
   "metadata": {},
   "source": [
    "# SUBIR MULTAS"
   ]
  },
  {
   "cell_type": "markdown",
   "metadata": {},
   "source": [
    "# IMPORTANDO LIBRERIAS"
   ]
  },
  {
   "cell_type": "code",
   "execution_count": 1,
   "metadata": {},
   "outputs": [],
   "source": [
    "import pandas as pd\n",
    "import MySQLdb\n",
    "import time"
   ]
  },
  {
   "cell_type": "markdown",
   "metadata": {},
   "source": [
    "# CONEXION A LA BASE DE DATOS"
   ]
  },
  {
   "cell_type": "code",
   "execution_count": 2,
   "metadata": {},
   "outputs": [],
   "source": [
    "db = MySQLdb.connect(host=\"172.18.55.6\",    # tu host, usualmente localhost\n",
    "                     user=\"comandato\",         # tu usuario\n",
    "                     passwd=\"comandato123\",  # tu password\n",
    "                     db=\"SISTEMECUADOR_ATM\")    # el nombre de la base de datos\n",
    "cur= db.cursor()"
   ]
  },
  {
   "cell_type": "markdown",
   "metadata": {},
   "source": [
    "# FECHAS DE COMPARACION"
   ]
  },
  {
   "cell_type": "markdown",
   "metadata": {},
   "source": [
    "### FECHA ACTUAL"
   ]
  },
  {
   "cell_type": "code",
   "execution_count": 3,
   "metadata": {},
   "outputs": [],
   "source": [
    "Anio_act='2019'\n",
    "Mes_act='05'\n",
    "Dia_act='21'"
   ]
  },
  {
   "cell_type": "markdown",
   "metadata": {},
   "source": [
    "### FECHA ANTERIOR"
   ]
  },
  {
   "cell_type": "code",
   "execution_count": 4,
   "metadata": {},
   "outputs": [],
   "source": [
    "Anio_ant='2019'\n",
    "Mes_ant='05'\n",
    "Dia_ant='20'"
   ]
  },
  {
   "cell_type": "markdown",
   "metadata": {},
   "source": [
    "# CARACTERISTICA DE LOS ARCHIVOS"
   ]
  },
  {
   "cell_type": "markdown",
   "metadata": {},
   "source": [
    "### ACTUALES"
   ]
  },
  {
   "cell_type": "code",
   "execution_count": 5,
   "metadata": {},
   "outputs": [],
   "source": [
    "corr_act={\n",
    "    'ruta':'..\\..\\..\\..\\BASES DATATOOLS\\ASIGNACION\\\\2019\\\\MAYO\\Sistema de cobro_'+Dia_act+'_'+Mes_act+'_'+Anio_act+'.xlsx',\n",
    "    'hoja':'Asignacion',\n",
    "    'cartera':'CORRIENTE',\n",
    "    'identificador':'IDENTIFICACION_DEUDOR'\n",
    "}\n",
    "\n",
    "men_act={\n",
    "    'ruta':'..\\..\\..\\..\\BASES DATATOOLS\\ASIGNACION\\\\2019\\\\MAYO\\Sistema de cobro_'+Dia_act+'_'+Mes_act+'_'+Anio_act+'.xlsx',\n",
    "    'hoja':'Menores',\n",
    "    'cartera':'MENOR',\n",
    "    'identificador':'IDENTIFICACION_DEUDOR'\n",
    "}\n",
    "\n",
    "conv_act={\n",
    "    'ruta':'..\\..\\..\\..\\BASES DATATOOLS\\ASIGNACION\\\\2019\\\\MAYO\\CONVENIOS_SISTEM_'+Dia_act+'_'+Mes_act+'_'+Anio_act+'.xlsx',\n",
    "    'hoja':'Hoja1',\n",
    "    'cartera':'CONVENIOS',\n",
    "    'identificador':'NUMERO_IDENTIFICACION'\n",
    "}\n",
    "\n",
    "dem_act={\n",
    "    'ruta':'..\\..\\..\\..\\BASES DATATOOLS\\ASIGNACION\\\\2019\\\\MAYO\\Sistema de cobro_'+Dia_act+'_'+Mes_act+'_'+Anio_act+'.xlsx',\n",
    "    'hoja':'Demografico',\n",
    "    'cartera':'DEMOGRAFICO',\n",
    "    'identificador':'IDENTIFICACION_DEUDOR'\n",
    "}"
   ]
  },
  {
   "cell_type": "markdown",
   "metadata": {},
   "source": [
    "###  ANTERIORES"
   ]
  },
  {
   "cell_type": "code",
   "execution_count": 6,
   "metadata": {},
   "outputs": [],
   "source": [
    "corr_ant={\n",
    "    'ruta':'..\\..\\..\\..\\BASES DATATOOLS\\ASIGNACION\\\\2019\\\\MAYO\\Sistema de cobro_'+Dia_ant+'_'+Mes_ant+'_'+Anio_ant+'.xlsx',\n",
    "    'hoja':'Asignacion',\n",
    "    'cartera':'CORRIENTE',\n",
    "    'identificador':'IDENTIFICACION_DEUDOR'\n",
    "}\n",
    "\n",
    "men_ant={\n",
    "    'ruta':'..\\..\\..\\..\\BASES DATATOOLS\\ASIGNACION\\\\2019\\\\MAYO\\Sistema de cobro_'+Dia_ant+'_'+Mes_ant+'_'+Anio_ant+'.xlsx',\n",
    "    'hoja':'Menores',\n",
    "    'cartera':'MENOR',\n",
    "    'identificador':'IDENTIFICACION_DEUDOR'\n",
    "}\n",
    "conv_ant={\n",
    "    'ruta':'..\\..\\..\\..\\BASES DATATOOLS\\ASIGNACION\\\\2019\\\\MAYO\\CONVENIOS_SISTEM_'+Dia_ant+'_'+Mes_ant+'_'+Anio_ant+'.xlsx',\n",
    "    'hoja':'Hoja1',\n",
    "    'cartera':'CONVENIOS',\n",
    "    'identificador':'NUMERO_IDENTIFICACION'\n",
    "}\n",
    "dem_ant={\n",
    "    'ruta':'..\\..\\..\\..\\BASES DATATOOLS\\ASIGNACION\\\\2019\\\\MAYO\\Sistema de cobro_'+Dia_ant+'_'+Mes_ant+'_'+Anio_ant+'.xlsx',\n",
    "    'hoja':'Demografico',\n",
    "    'cartera':'DEMOGRAFICO',\n",
    "    'identificador':'IDENTIFICACION_DEUDOR'\n",
    "}"
   ]
  },
  {
   "cell_type": "markdown",
   "metadata": {},
   "source": [
    "# LEER ARCHIVOS"
   ]
  },
  {
   "cell_type": "code",
   "execution_count": 7,
   "metadata": {},
   "outputs": [],
   "source": [
    "arch_corr_act=pd.read_excel(open(corr_act['ruta'],'rb'), sheet_name=corr_act['hoja'], dtype={corr_act['identificador']: str})\n",
    "arch_corr_ant=pd.read_excel(open(corr_ant['ruta'],'rb'), sheet_name=corr_ant['hoja'], dtype={corr_ant['identificador']: str})\n",
    "# arch_menr_act=pd.read_excel(open(men_act['ruta'],'rb'), sheet_name=men_act['hoja'], dtype={men_act['identificador']: str})\n",
    "# arch_menr_ant=pd.read_excel(open(men_ant['ruta'],'rb'), sheet_name=men_ant['hoja'], dtype={men_ant['identificador']: str})\n",
    "# arch_conv_act=pd.read_excel(open(conv_act['ruta'],'rb'), sheet_name=conv_act['hoja'], dtype={conv_act['identificador']: str})\n",
    "# arch_conv_ant=pd.read_excel(open(conv_ant['ruta'],'rb'), sheet_name=conv_ant['hoja'], dtype={conv_ant['identificador']: str})"
   ]
  },
  {
   "cell_type": "markdown",
   "metadata": {},
   "source": [
    "## COLUMNA DE COMPARACION"
   ]
  },
  {
   "cell_type": "code",
   "execution_count": 8,
   "metadata": {},
   "outputs": [],
   "source": [
    "base_actual = arch_corr_act\n",
    "base_anterior = arch_corr_ant\n",
    "cartera_act = corr_act\n",
    "\n",
    "# base_actual=arch_menr_act\n",
    "# base_anterior=arch_menr_ant\n",
    "# cartera_act=men_act\n",
    "\n",
    "# base_actual=arch_conv_act\n",
    "# base_anterior=arch_conv_ant\n",
    "# cartera_act=conv_act\n",
    "\n",
    "\n",
    "\n",
    "base_anterior['new']='si'\n",
    "multa_anterior=base_anterior[['NUMERO_CUENTA','new']]\n",
    "ced_anteriores=base_anterior[['IDENTIFICACION_DEUDOR','new']]"
   ]
  },
  {
   "cell_type": "markdown",
   "metadata": {},
   "source": [
    "### CRUCE PARA COMPARAR"
   ]
  },
  {
   "cell_type": "code",
   "execution_count": 9,
   "metadata": {},
   "outputs": [],
   "source": [
    "cruce_multas=pd.merge(base_actual,multa_anterior,on='NUMERO_CUENTA',how='left')"
   ]
  },
  {
   "cell_type": "markdown",
   "metadata": {},
   "source": [
    "### FILTRO POR VALORES NULOS"
   ]
  },
  {
   "cell_type": "code",
   "execution_count": 10,
   "metadata": {},
   "outputs": [],
   "source": [
    "nuevas_multas=cruce_multas[cruce_multas['new'].isnull()]"
   ]
  },
  {
   "cell_type": "code",
   "execution_count": 11,
   "metadata": {},
   "outputs": [],
   "source": [
    "nuevas_multas = nuevas_multas.fillna('')"
   ]
  },
  {
   "cell_type": "code",
   "execution_count": 12,
   "metadata": {
    "scrolled": true
   },
   "outputs": [
    {
     "name": "stdout",
     "output_type": "stream",
     "text": [
      "CANTIDAD DE MULTAS QUE FUERON SUBIDOS : 0\n"
     ]
    }
   ],
   "source": [
    "#subir multas\n",
    "contador_subidos=0\n",
    "for row in nuevas_multas.itertuples():\n",
    "    insert_querry=\"\"\"INSERT INTO `SISTEMECUADOR_ATM`.`MULTAS_MENSUALES` \n",
    "                        (`Cedula`, `No_multa`, `Anio`, `Mes`, `Dia`, \n",
    "                         `Dias_mora`, `Saldo`, `Cartera`, `Segmento`, \n",
    "                         `Descripcion`, `Placa`) \n",
    "                  VALUES('{0}', '{1}', '{2}', '{3}', \n",
    "                          '{4}', '{5}', '{6}', '{7}', '{8}',\n",
    "                          '{9}', '{10}');\n",
    "    \"\"\".format(row.IDENTIFICACION_DEUDOR , row.NUMERO_CUENTA , Anio_act , Mes_act ,\n",
    "                 Dia_act ,row.DIAS_MORA , row.SALDO , cartera_act['cartera'] , row.SUBCAMPANAPORCUENTA ,\n",
    "                row.DESCRIPCION_INFRACION,row.PLACA_VEHICULO)\n",
    "    try:\n",
    "        insert=cur.execute(insert_querry)\n",
    "        db.commit()\n",
    "        contador_subidos=contador_subidos+1\n",
    "    except:\n",
    "        db.rollback()\n",
    "    \n",
    "print(\"CANTIDAD DE MULTAS QUE FUERON SUBIDOS : \"+str(contador_subidos))"
   ]
  },
  {
   "cell_type": "code",
   "execution_count": 13,
   "metadata": {},
   "outputs": [
    {
     "name": "stdout",
     "output_type": "stream",
     "text": [
      "CANTIDAD DE INFRACTORES QUE FUERON SUBIDOS : 0\n",
      "CANTIDAD DE MULTAS QUE FUERON SUBIDOS : 0\n"
     ]
    }
   ],
   "source": [
    "info_subidos=0\n",
    "contador_subidos=0\n",
    "for row in nuevas_multas.itertuples():\n",
    "    CEDULA=row.IDENTIFICACION_DEUDOR\n",
    "    if len(CEDULA)==9 or len(CEDULA)==12 :\n",
    "        if CEDULA.isdigit():\n",
    "            CEDULA='0'+CEDULA\n",
    "    info_querry=\"\"\"INSERT INTO `SISTEMECUADOR_ATM`.`INFORMACION_CLIENTE` \n",
    "                    (`CEDULA`, `TIPO_IDENTIFICACION`, `RAZON_SOCIAL`,`PRIMER_APELLIDO`, \n",
    "                     `SEGUNDO_APELLIDO`, `PRIMER_NOMBRE`, `SEGUNDO_NOMBRE`) \n",
    "                    VALUES ('{0}', '{1}', '{2}', '{3}', '{4}', '{5}','{6}');\n",
    "                \"\"\".format(CEDULA,row.TIPO_IDENTIFICACION,row.RAZONSOCIAL,\n",
    "                           row.PRIMER_APELLIDO,row.SEGUNDO_APELLIDO,row.PRIMER_NOMBRE,\n",
    "                          row.SEGUNDO_NOMBRE)\n",
    "    try:\n",
    "        insert=cur.execute(info_querry)\n",
    "        db.commit()\n",
    "        info_subidos=info_subidos+1\n",
    "    except:\n",
    "        db.rollback()\n",
    "        \n",
    "    insert_querry_DB=\"\"\"INSERT INTO `SISTEMECUADOR_ATM`.`MULTAS` \n",
    "                            (`NUMERO_CUENTA`, `ID_CEDULA`, \n",
    "                            `SALDO`, `DIAS_MORA`)\n",
    "                            VALUES ('{0}', '{1}', \n",
    "                            '{2}', '{3}');\n",
    "    \"\"\".format(row.NUMERO_CUENTA,CEDULA,row.SALDO,row.DIAS_MORA )\n",
    "    try:\n",
    "        insert=cur.execute(insert_querry_DB)\n",
    "        db.commit()\n",
    "        contador_subidos=contador_subidos+1\n",
    "    except:\n",
    "        db.rollback()\n",
    "        \n",
    "    \n",
    "print(\"CANTIDAD DE INFRACTORES QUE FUERON SUBIDOS : \"+str(info_subidos))\n",
    "print(\"CANTIDAD DE MULTAS QUE FUERON SUBIDOS : \"+str(contador_subidos))"
   ]
  },
  {
   "cell_type": "code",
   "execution_count": null,
   "metadata": {},
   "outputs": [],
   "source": []
  },
  {
   "cell_type": "code",
   "execution_count": 14,
   "metadata": {},
   "outputs": [],
   "source": [
    "# INFRACTORES NUEVOS|1|"
   ]
  },
  {
   "cell_type": "code",
   "execution_count": 15,
   "metadata": {},
   "outputs": [],
   "source": [
    "cruce_cedulas=pd.merge(base_actual,ced_anteriores,on='IDENTIFICACION_DEUDOR',how='left')\n",
    "nuevas_cedulas=cruce_cedulas[cruce_cedulas['new'].isnull()]\n",
    "nuevas_cedulas= nuevas_cedulas.fillna('')"
   ]
  },
  {
   "cell_type": "code",
   "execution_count": 16,
   "metadata": {},
   "outputs": [],
   "source": [
    "nuevo_archivo='NUEVAS CEDULAS CORRIENTE.xlsx'\n",
    "writer = pd.ExcelWriter(nuevo_archivo, engine='xlsxwriter')\n",
    "nuevas_cedulas.to_excel(writer, sheet_name='GESTION')\n",
    "worksheet = writer.sheets['GESTION']\n",
    "writer.save()"
   ]
  },
  {
   "cell_type": "code",
   "execution_count": null,
   "metadata": {},
   "outputs": [],
   "source": []
  },
  {
   "cell_type": "code",
   "execution_count": null,
   "metadata": {},
   "outputs": [],
   "source": []
  },
  {
   "cell_type": "code",
   "execution_count": 17,
   "metadata": {},
   "outputs": [],
   "source": [
    "# # base_actual = arch_corr_act\n",
    "# # base_anterior = arch_corr_ant\n",
    "# # cartera_act = corr_act\n",
    "\n",
    "# base_actual=arch_menr_act\n",
    "# base_anterior=arch_menr_ant\n",
    "# cartera_act=men_act\n",
    "\n",
    "# # base_actual=arch_conv_act\n",
    "# # base_anterior=arch_conv_ant\n",
    "# # cartera_act=conv_act\n",
    "\n",
    "\n",
    "\n",
    "# base_anterior['new']='si'\n",
    "# multa_anterior=base_anterior[['NUMERO_CUENTA','new']]\n",
    "# ced_anteriores=base_anterior[['IDENTIFICACION_DEUDOR','new']]"
   ]
  },
  {
   "cell_type": "code",
   "execution_count": 18,
   "metadata": {},
   "outputs": [],
   "source": [
    "# cruce_multas=pd.merge(base_actual,multa_anterior,on='NUMERO_CUENTA',how='left')\n",
    "# nuevas_multas=cruce_multas[cruce_multas['new'].isnull()]\n",
    "# nuevas_multas = nuevas_multas.fillna('')"
   ]
  },
  {
   "cell_type": "code",
   "execution_count": 19,
   "metadata": {},
   "outputs": [],
   "source": [
    "# #subir multas\n",
    "# contador_subidos=0\n",
    "# for row in nuevas_multas.itertuples():\n",
    "#     insert_querry=\"\"\"INSERT INTO `SISTEMECUADOR_ATM`.`MULTAS_MENSUALES` \n",
    "#                         (`Cedula`, `No_multa`, `Anio`, `Mes`, `Dia`, \n",
    "#                          `Dias_mora`, `Saldo`, `Cartera`, `Segmento`, \n",
    "#                          `Descripcion`, `Placa`) \n",
    "#                   VALUES('{0}', '{1}', '{2}', '{3}', \n",
    "#                           '{4}', '{5}', '{6}', '{7}', '{8}',\n",
    "#                           '{9}', '{10}');\n",
    "#     \"\"\".format(row.IDENTIFICACION_DEUDOR , row.NUMERO_CUENTA , Anio_act , Mes_act ,\n",
    "#                  Dia_act ,row.DIAS_MORA , row.SALDO , cartera_act['cartera'] , row.SUBCAMPANAPORCLIENTE ,\n",
    "#                 row.DESCRIPCION_INFRACION,row.PLACA_VEHICULO)\n",
    "#     try:\n",
    "#         insert=cur.execute(insert_querry)\n",
    "#         db.commit()\n",
    "#         contador_subidos=contador_subidos+1\n",
    "#     except:\n",
    "#         db.rollback()\n",
    "    \n",
    "# print(\"CANTIDAD DE MULTAS QUE FUERON SUBIDOS : \"+str(contador_subidos))"
   ]
  },
  {
   "cell_type": "code",
   "execution_count": 20,
   "metadata": {},
   "outputs": [],
   "source": [
    "# info_subidos=0\n",
    "# contador_subidos=0\n",
    "# for row in nuevas_multas.itertuples():\n",
    "#     CEDULA=row.IDENTIFICACION_DEUDOR\n",
    "#     if len(CEDULA)==9 or len(CEDULA)==12 :\n",
    "#         if CEDULA.isdigit():\n",
    "#             CEDULA='0'+CEDULA\n",
    "#     info_querry=\"\"\"INSERT INTO `SISTEMECUADOR_ATM`.`INFORMACION_CLIENTE` \n",
    "#                     (`CEDULA`, `TIPO_IDENTIFICACION`, `RAZON_SOCIAL`,`PRIMER_APELLIDO`, \n",
    "#                      `SEGUNDO_APELLIDO`, `PRIMER_NOMBRE`, `SEGUNDO_NOMBRE`) \n",
    "#                     VALUES ('{0}', '{1}', '{2}', '{3}', '{4}', '{5}','{6}');\n",
    "#                 \"\"\".format(CEDULA,row.TIPO_IDENTIFICACION,row.RAZONSOCIAL,\n",
    "#                            row.PRIMER_APELLIDO,row.SEGUNDO_APELLIDO,row.PRIMER_NOMBRE,\n",
    "#                           row.SEGUNDO_NOMBRE)\n",
    "#     try:\n",
    "#         insert=cur.execute(info_querry)\n",
    "#         db.commit()\n",
    "#         info_subidos=info_subidos+1\n",
    "#     except:\n",
    "#         db.rollback()\n",
    "        \n",
    "#     insert_querry_DB=\"\"\"INSERT INTO `SISTEMECUADOR_ATM`.`MULTAS` \n",
    "#                             (`NUMERO_CUENTA`, `ID_CEDULA`, \n",
    "#                             `SALDO`, `DIAS_MORA`)\n",
    "#                             VALUES ('{0}', '{1}', \n",
    "#                             '{2}', '{3}');\n",
    "#     \"\"\".format(row.NUMERO_CUENTA,CEDULA,row.SALDO,row.DIAS_MORA )\n",
    "#     try:\n",
    "#         insert=cur.execute(insert_querry_DB)\n",
    "#         db.commit()\n",
    "#         contador_subidos=contador_subidos+1\n",
    "#     except:\n",
    "#         db.rollback()\n",
    "        \n",
    "    \n",
    "# print(\"CANTIDAD DE INFRACTORES QUE FUERON SUBIDOS : \"+str(info_subidos))\n",
    "# print(\"CANTIDAD DE MULTAS QUE FUERON SUBIDOS : \"+str(contador_subidos))"
   ]
  },
  {
   "cell_type": "code",
   "execution_count": 21,
   "metadata": {},
   "outputs": [],
   "source": [
    "# cruce_cedulas=pd.merge(base_actual,ced_anteriores,on='IDENTIFICACION_DEUDOR',how='left')\n",
    "# nuevas_cedulas=cruce_cedulas[cruce_cedulas['new'].isnull()]\n",
    "# nuevas_cedulas= nuevas_cedulas.fillna('')"
   ]
  },
  {
   "cell_type": "code",
   "execution_count": 22,
   "metadata": {},
   "outputs": [],
   "source": [
    "# nuevo_archivo='NUEVAS CEDULAS DICCIEMBRE MENORES.xlsx'\n",
    "# writer = pd.ExcelWriter(nuevo_archivo, engine='xlsxwriter')\n",
    "# nuevas_cedulas.to_excel(writer, sheet_name='GESTION')\n",
    "# worksheet = writer.sheets['GESTION']\n",
    "# writer.save()"
   ]
  },
  {
   "cell_type": "code",
   "execution_count": null,
   "metadata": {},
   "outputs": [],
   "source": []
  },
  {
   "cell_type": "code",
   "execution_count": 23,
   "metadata": {},
   "outputs": [],
   "source": [
    "# DEMOGRAFICOS NUEVOS"
   ]
  },
  {
   "cell_type": "code",
   "execution_count": 24,
   "metadata": {},
   "outputs": [],
   "source": [
    "arch_dem_act=pd.read_excel(open(dem_act['ruta'],'rb'), sheet_name=dem_act['hoja'])\n",
    "arch_dem_ant=pd.read_excel('DEMOGRAFICOS.xlsx', sheet_name='DEMOGRAFICOS')"
   ]
  },
  {
   "cell_type": "code",
   "execution_count": 25,
   "metadata": {},
   "outputs": [],
   "source": [
    "arch_dem_ant = arch_dem_ant.rename(columns={'DEMO':'TELEFONO'})"
   ]
  },
  {
   "cell_type": "code",
   "execution_count": 26,
   "metadata": {},
   "outputs": [],
   "source": [
    "arch_dem_act=arch_dem_act[['IDENTIFICACION_DEUDOR','TELEFONO','PRIORIDAD']]\n",
    "arch_dem_ant=arch_dem_ant[['IDENTIFICACION_DEUDOR','TELEFONO']]"
   ]
  },
  {
   "cell_type": "code",
   "execution_count": 27,
   "metadata": {},
   "outputs": [],
   "source": [
    "arch_dem_ant['ESTADO']='si'\n",
    "cruce_demografico=pd.merge(arch_dem_act,arch_dem_ant,on=['IDENTIFICACION_DEUDOR','TELEFONO'],how='left')\n",
    "nuevas_demograficos=cruce_demografico[cruce_demografico['ESTADO'].isnull()]\n",
    "nuevas_demograficos= nuevas_demograficos.fillna('')\n",
    "del nuevas_demograficos['ESTADO']"
   ]
  },
  {
   "cell_type": "code",
   "execution_count": 28,
   "metadata": {},
   "outputs": [],
   "source": [
    "leer_demografico=pd.read_excel(open('DEMOGRAFICOS.xlsx','rb'), sheet_name='INVALIDO')"
   ]
  },
  {
   "cell_type": "code",
   "execution_count": 29,
   "metadata": {},
   "outputs": [],
   "source": [
    "campa='DATATOOLS'\n",
    "leer_demografico['ESTADO']='INCORRECTO'"
   ]
  },
  {
   "cell_type": "code",
   "execution_count": 30,
   "metadata": {},
   "outputs": [],
   "source": [
    "nuevas_demograficos_2=pd.merge(nuevas_demograficos,leer_demografico,on='TELEFONO',how='left')"
   ]
  },
  {
   "cell_type": "code",
   "execution_count": 31,
   "metadata": {},
   "outputs": [],
   "source": [
    "def definicion(base):\n",
    "    tel = str(base['TELEFONO'])\n",
    "    definicion = 'SIN IDENTIFICAR'\n",
    "    if (len(tel)==9):\n",
    "        if (tel[0]=='9'):\n",
    "            definicion='CELULAR'\n",
    "    elif (len(tel)==8):\n",
    "        if tel[1]=='2' or tel[1]=='3' or tel[1]=='4' or tel[1]=='5' or tel[1]=='6' or tel[1]=='7':\n",
    "            definicion='TELEFONO'\n",
    "        elif tel[1]==\"9\" or tel[1]=='8':\n",
    "            definicion='CELULAR'\n",
    "    elif (len(tel)==7):\n",
    "        definicion='TELEFONO'\n",
    "    elif (len(tel)==6):\n",
    "        definicion='TELEFONO'\n",
    "    else:\n",
    "        definicion = 'SIN IDENTIFICAR'\n",
    "    return definicion"
   ]
  },
  {
   "cell_type": "code",
   "execution_count": 32,
   "metadata": {},
   "outputs": [],
   "source": [
    "def arreglarNumero(base):\n",
    "    tel = str(base['TELEFONO'])\n",
    "    arreglado = 'SIN IDENTIFICAR'\n",
    "    if (len(tel)==9):\n",
    "        if (tel[0]=='9'):\n",
    "            arreglado='0'+tel\n",
    "    elif (len(tel)==8):\n",
    "        if tel[1]=='2' or tel[1]=='3' or tel[1]=='4' or tel[1]=='5' or tel[1]=='6' or tel[1]=='7':\n",
    "            arreglado='0'+tel\n",
    "        elif tel[1]==\"9\" or tel[1]=='8':\n",
    "            arreglado='09'+tel\n",
    "    elif (len(tel)==7):\n",
    "        arreglado='04'+tel\n",
    "    elif (len(tel)==6):\n",
    "        arreglado='042'+tel\n",
    "    else:\n",
    "        arreglado = 'SIN ARREGLAR'\n",
    "    return arreglado"
   ]
  },
  {
   "cell_type": "code",
   "execution_count": 33,
   "metadata": {},
   "outputs": [],
   "source": [
    "def correcto(base):\n",
    "    tel = str(base['TELEFONO'])\n",
    "    arreglado = 'INCORRECTO'\n",
    "    if (len(tel)==9):\n",
    "        if (tel[0]=='9'):\n",
    "            arreglado='CORRECTO'\n",
    "    elif (len(tel)==8):\n",
    "        if tel[1]=='2' or tel[1]=='3' or tel[1]=='4' or tel[1]=='5' or tel[1]=='6' or tel[1]=='7':\n",
    "            arreglado='CORRECTO'\n",
    "        elif tel[1]==\"9\" or tel[1]=='8':\n",
    "            arreglado='CORRECTO'\n",
    "    elif (len(tel)==7):\n",
    "        arreglado='CORRECTO'\n",
    "    elif (len(tel)==6):\n",
    "        arreglado='CORRECTO'\n",
    "    else:\n",
    "        arreglado = 'INCORRECTO'\n",
    "    return arreglado"
   ]
  },
  {
   "cell_type": "code",
   "execution_count": 34,
   "metadata": {},
   "outputs": [],
   "source": [
    "nuevas_demograficos_2['DEFINICION']=nuevas_demograficos_2.apply(definicion,axis=1)\n",
    "nuevas_demograficos_2['ARREGLADO']=nuevas_demograficos_2.apply(arreglarNumero,axis=1)\n",
    "nuevas_demograficos_2['ESTADO']=nuevas_demograficos_2.apply(correcto,axis=1)"
   ]
  },
  {
   "cell_type": "code",
   "execution_count": 35,
   "metadata": {},
   "outputs": [
    {
     "data": {
      "text/html": [
       "<div>\n",
       "<style scoped>\n",
       "    .dataframe tbody tr th:only-of-type {\n",
       "        vertical-align: middle;\n",
       "    }\n",
       "\n",
       "    .dataframe tbody tr th {\n",
       "        vertical-align: top;\n",
       "    }\n",
       "\n",
       "    .dataframe thead th {\n",
       "        text-align: right;\n",
       "    }\n",
       "</style>\n",
       "<table border=\"1\" class=\"dataframe\">\n",
       "  <thead>\n",
       "    <tr style=\"text-align: right;\">\n",
       "      <th></th>\n",
       "      <th>IDENTIFICACION_DEUDOR</th>\n",
       "      <th>TELEFONO</th>\n",
       "      <th>PRIORIDAD</th>\n",
       "      <th>ESTADO</th>\n",
       "      <th>DEFINICION</th>\n",
       "      <th>ARREGLADO</th>\n",
       "    </tr>\n",
       "  </thead>\n",
       "  <tbody>\n",
       "    <tr>\n",
       "      <th>0</th>\n",
       "      <td>911353126</td>\n",
       "      <td>42467634</td>\n",
       "      <td>3</td>\n",
       "      <td>CORRECTO</td>\n",
       "      <td>TELEFONO</td>\n",
       "      <td>042467634</td>\n",
       "    </tr>\n",
       "    <tr>\n",
       "      <th>1</th>\n",
       "      <td>924739451</td>\n",
       "      <td>43850418</td>\n",
       "      <td>3</td>\n",
       "      <td>CORRECTO</td>\n",
       "      <td>TELEFONO</td>\n",
       "      <td>043850418</td>\n",
       "    </tr>\n",
       "    <tr>\n",
       "      <th>2</th>\n",
       "      <td>300846763</td>\n",
       "      <td>42937938</td>\n",
       "      <td>2</td>\n",
       "      <td>CORRECTO</td>\n",
       "      <td>TELEFONO</td>\n",
       "      <td>042937938</td>\n",
       "    </tr>\n",
       "    <tr>\n",
       "      <th>3</th>\n",
       "      <td>1702892348</td>\n",
       "      <td>42280872</td>\n",
       "      <td>3</td>\n",
       "      <td>CORRECTO</td>\n",
       "      <td>TELEFONO</td>\n",
       "      <td>042280872</td>\n",
       "    </tr>\n",
       "    <tr>\n",
       "      <th>4</th>\n",
       "      <td>922353875</td>\n",
       "      <td>81589181</td>\n",
       "      <td></td>\n",
       "      <td>INCORRECTO</td>\n",
       "      <td>SIN IDENTIFICAR</td>\n",
       "      <td>SIN IDENTIFICAR</td>\n",
       "    </tr>\n",
       "  </tbody>\n",
       "</table>\n",
       "</div>"
      ],
      "text/plain": [
       "   IDENTIFICACION_DEUDOR  TELEFONO PRIORIDAD      ESTADO       DEFINICION  \\\n",
       "0              911353126  42467634         3    CORRECTO         TELEFONO   \n",
       "1              924739451  43850418         3    CORRECTO         TELEFONO   \n",
       "2              300846763  42937938         2    CORRECTO         TELEFONO   \n",
       "3             1702892348  42280872         3    CORRECTO         TELEFONO   \n",
       "4              922353875  81589181            INCORRECTO  SIN IDENTIFICAR   \n",
       "\n",
       "         ARREGLADO  \n",
       "0        042467634  \n",
       "1        043850418  \n",
       "2        042937938  \n",
       "3        042280872  \n",
       "4  SIN IDENTIFICAR  "
      ]
     },
     "execution_count": 35,
     "metadata": {},
     "output_type": "execute_result"
    }
   ],
   "source": [
    "nuevas_demograficos_2.head()"
   ]
  },
  {
   "cell_type": "code",
   "execution_count": 36,
   "metadata": {},
   "outputs": [
    {
     "data": {
      "text/plain": [
       "IDENTIFICACION_DEUDOR    540\n",
       "TELEFONO                 540\n",
       "PRIORIDAD                540\n",
       "ESTADO                   540\n",
       "DEFINICION               540\n",
       "ARREGLADO                540\n",
       "dtype: int64"
      ]
     },
     "execution_count": 36,
     "metadata": {},
     "output_type": "execute_result"
    }
   ],
   "source": [
    "subir_demograficos=nuevas_demograficos_2[nuevas_demograficos_2['ESTADO']=='CORRECTO']\n",
    "subir_demograficos.count()"
   ]
  },
  {
   "cell_type": "code",
   "execution_count": 37,
   "metadata": {},
   "outputs": [],
   "source": [
    "nuevo_archivo='NUEVOS DEMOGRAFICOS.xlsx'\n",
    "writer = pd.ExcelWriter(nuevo_archivo, engine='xlsxwriter')\n",
    "subir_demograficos.to_excel(writer, sheet_name='DEMOGRAFICOS')\n",
    "worksheet = writer.sheets['DEMOGRAFICOS']\n",
    "writer.save()"
   ]
  },
  {
   "cell_type": "code",
   "execution_count": 38,
   "metadata": {},
   "outputs": [
    {
     "name": "stdout",
     "output_type": "stream",
     "text": [
      "CANTIDAD DE INFRACTORES QUE FUERON SUBIDOS : 0\n",
      "CANTIDAD DE MULTAS QUE FUERON SUBIDOS : 0\n"
     ]
    }
   ],
   "source": [
    "info_subidos=0\n",
    "contador_subidos=0\n",
    "for row in subir_demograficos.itertuples():\n",
    "    CEDULA=row.IDENTIFICACION_DEUDOR\n",
    "    tel = row.ARREGLADO[1:]\n",
    "    tipo = row.DEFINICION\n",
    "    insert_querry=\"\"\"INSERT INTO `TELEFONICOS_NUMEROS`.`TELEFONOS` (`CEDULA`, `NUMERO`, `TIPO`,`CAMPAÑA`)\n",
    "                   VALUES ('{0}', '{1}', '{2}','{3}');\n",
    "                \"\"\".format(CEDULA,tel,tipo,campa)\n",
    "    try:\n",
    "        insert=cur.execute(insert_querry)\n",
    "        db.commit()\n",
    "        info_subidos=info_subidos+1\n",
    "    except:\n",
    "        db.rollback()\n",
    "        \n",
    "    \n",
    "print(\"CANTIDAD DE INFRACTORES QUE FUERON SUBIDOS : \"+str(info_subidos))\n",
    "print(\"CANTIDAD DE MULTAS QUE FUERON SUBIDOS : \"+str(contador_subidos))"
   ]
  },
  {
   "cell_type": "code",
   "execution_count": null,
   "metadata": {},
   "outputs": [],
   "source": []
  },
  {
   "cell_type": "code",
   "execution_count": null,
   "metadata": {},
   "outputs": [],
   "source": []
  },
  {
   "cell_type": "code",
   "execution_count": null,
   "metadata": {},
   "outputs": [],
   "source": []
  },
  {
   "cell_type": "code",
   "execution_count": null,
   "metadata": {},
   "outputs": [],
   "source": []
  },
  {
   "cell_type": "code",
   "execution_count": null,
   "metadata": {},
   "outputs": [],
   "source": []
  }
 ],
 "metadata": {
  "kernelspec": {
   "display_name": "Python 3",
   "language": "python",
   "name": "python3"
  },
  "language_info": {
   "codemirror_mode": {
    "name": "ipython",
    "version": 3
   },
   "file_extension": ".py",
   "mimetype": "text/x-python",
   "name": "python",
   "nbconvert_exporter": "python",
   "pygments_lexer": "ipython3",
   "version": "3.6.5"
  }
 },
 "nbformat": 4,
 "nbformat_minor": 2
}
