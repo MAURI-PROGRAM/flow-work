{
 "cells": [
  {
   "cell_type": "code",
   "execution_count": 1,
   "metadata": {},
   "outputs": [],
   "source": [
    "import pandas as pd\n",
    "import numpy as np\n",
    "import MySQLdb"
   ]
  },
  {
   "cell_type": "code",
   "execution_count": 2,
   "metadata": {},
   "outputs": [],
   "source": [
    "Anio='2018'\n",
    "Mes='12'\n",
    "Dia_act='14'"
   ]
  },
  {
   "cell_type": "code",
   "execution_count": 3,
   "metadata": {},
   "outputs": [],
   "source": [
    "fecha_ini='2018-12-01 00:00:00'\n",
    "fecha_fin='2018-12-31 21:00:00'"
   ]
  },
  {
   "cell_type": "code",
   "execution_count": 4,
   "metadata": {},
   "outputs": [],
   "source": [
    "db = MySQLdb.connect(host=\"172.18.55.6\",    # tu host, usualmente localhost\n",
    "                     user=\"comandato\",         # tu usuario\n",
    "                     passwd=\"comandato123\",  # tu password\n",
    "                     db=\"SISTEMECUADOR_ATM\")        # el nombre de la base de datos"
   ]
  },
  {
   "cell_type": "code",
   "execution_count": 5,
   "metadata": {},
   "outputs": [],
   "source": [
    "consulta=\"\"\"\n",
    "SELECT \n",
    "    NRO_IDENTIFICACION_CLIENTE, COD_AGENTE,\n",
    "    CASE CONTACTO_GESTIONO\n",
    "                WHEN 'CLIENTE' THEN 1\n",
    "                WHEN 'TERC. VALIDO' THEN 2\n",
    "                WHEN 'TERC. NO VALIDO' THEN 3\n",
    "                WHEN 'NO CONTACTO' THEN 4\n",
    "                ELSE 5\n",
    "            END AS CONTACTO,\n",
    "\tCASE RESPUESTA_OBTENIDA\n",
    "                WHEN 'ACUERDO DE PAGO' THEN 1\n",
    "                WHEN 'ACUERDO DE CONVENIO' THEN 2\n",
    "                WHEN 'LOCALIZADO SIN ACUERDO' THEN 3\n",
    "                ELSE 4\n",
    "            END AS TIPO_ACUERDO\n",
    "FROM\n",
    "    sistemecuador_atm.gestion\n",
    "WHERE\n",
    "    ACCION_REALIZADA = 'HACER LLAMADA'\n",
    "AND\n",
    "FECHA_GESTION BETWEEN '{0}' AND '{1}'\n",
    "AND\n",
    "COMENTARIOS_GESTIONO NOT LIKE '%CAMPAÑA CONVENIO%'\n",
    ";\n",
    "\"\"\".format(fecha_ini,fecha_fin)"
   ]
  },
  {
   "cell_type": "code",
   "execution_count": 6,
   "metadata": {},
   "outputs": [],
   "source": [
    "resultado=pd.read_sql(consulta, con=db)\n",
    "resultado = resultado.rename(columns={'NRO_IDENTIFICACION_CLIENTE':'ID'})\n",
    "contactabilidad=resultado.groupby('ID').agg({'CONTACTO':'min','TIPO_ACUERDO':'min'})\n",
    "contactabilidad['CONTACTO'].replace(to_replace=[1,2,3,4,5],value=['TITULAR','TERCERO','EQUIVOCADO','NO CONTACTO','SIN GESTION'],inplace=True)\n",
    "contactabilidad['TIPO_ACUERDO'].replace(to_replace=[1,2,3,4],value=['AC. PAGO','AC. CONVENIO','LOCALIZADO','OTROS'],inplace=True)"
   ]
  },
  {
   "cell_type": "code",
   "execution_count": null,
   "metadata": {},
   "outputs": [],
   "source": []
  },
  {
   "cell_type": "code",
   "execution_count": 7,
   "metadata": {},
   "outputs": [],
   "source": [
    "consulta_ivr=\"\"\"\n",
    "    SELECT NRO_IDENTIFICACION_CLIENTE as ID,\n",
    "        RESPUESTA_OBTENIDA\n",
    "    FROM\n",
    "        sistemecuador_atm.gestion_ivr\n",
    "    WHERE\n",
    "        FECHA_GESTION BETWEEN '{0}' AND '{1}';\n",
    "\"\"\".format(fecha_ini,fecha_fin)"
   ]
  },
  {
   "cell_type": "code",
   "execution_count": 8,
   "metadata": {},
   "outputs": [],
   "source": [
    "resultado_ivr=pd.read_sql(consulta_ivr, con=db)"
   ]
  },
  {
   "cell_type": "code",
   "execution_count": 9,
   "metadata": {},
   "outputs": [
    {
     "data": {
      "text/html": [
       "<div>\n",
       "<style scoped>\n",
       "    .dataframe tbody tr th:only-of-type {\n",
       "        vertical-align: middle;\n",
       "    }\n",
       "\n",
       "    .dataframe tbody tr th {\n",
       "        vertical-align: top;\n",
       "    }\n",
       "\n",
       "    .dataframe thead th {\n",
       "        text-align: right;\n",
       "    }\n",
       "</style>\n",
       "<table border=\"1\" class=\"dataframe\">\n",
       "  <thead>\n",
       "    <tr style=\"text-align: right;\">\n",
       "      <th></th>\n",
       "      <th>ID</th>\n",
       "      <th>RESPUESTA_OBTENIDA</th>\n",
       "    </tr>\n",
       "  </thead>\n",
       "  <tbody>\n",
       "    <tr>\n",
       "      <th>0</th>\n",
       "      <td>1000005262</td>\n",
       "      <td>CONTESTA IVR</td>\n",
       "    </tr>\n",
       "    <tr>\n",
       "      <th>1</th>\n",
       "      <td>1001296837</td>\n",
       "      <td>CONTESTA IVR</td>\n",
       "    </tr>\n",
       "    <tr>\n",
       "      <th>2</th>\n",
       "      <td>1001527017</td>\n",
       "      <td>CONTESTA IVR</td>\n",
       "    </tr>\n",
       "    <tr>\n",
       "      <th>3</th>\n",
       "      <td>1002339149</td>\n",
       "      <td>CONTESTA IVR</td>\n",
       "    </tr>\n",
       "    <tr>\n",
       "      <th>4</th>\n",
       "      <td>1002472304</td>\n",
       "      <td>CONTESTA IVR</td>\n",
       "    </tr>\n",
       "  </tbody>\n",
       "</table>\n",
       "</div>"
      ],
      "text/plain": [
       "           ID RESPUESTA_OBTENIDA\n",
       "0  1000005262       CONTESTA IVR\n",
       "1  1001296837       CONTESTA IVR\n",
       "2  1001527017       CONTESTA IVR\n",
       "3  1002339149       CONTESTA IVR\n",
       "4  1002472304       CONTESTA IVR"
      ]
     },
     "execution_count": 9,
     "metadata": {},
     "output_type": "execute_result"
    }
   ],
   "source": [
    "resultado_ivr.head()"
   ]
  },
  {
   "cell_type": "code",
   "execution_count": 10,
   "metadata": {},
   "outputs": [],
   "source": [
    "resultado_ivr[\"RESPUESTA_OBTENIDA\"] = resultado_ivr[\"RESPUESTA_OBTENIDA\"].astype('category')\n",
    "resultado_ivr[\"RESPUESTA_OBTENIDA\"]  = resultado_ivr[\"RESPUESTA_OBTENIDA\"].cat.set_categories([\"CONTESTA IVR\",\"CONTESTO IVR\",\"SMS ENVIADO\",\"NO CONTESTO IVR\",\"NO CONTESTA IVR\",\"SIN IVR\"])"
   ]
  },
  {
   "cell_type": "code",
   "execution_count": 11,
   "metadata": {},
   "outputs": [
    {
     "data": {
      "text/html": [
       "<div>\n",
       "<style scoped>\n",
       "    .dataframe tbody tr th:only-of-type {\n",
       "        vertical-align: middle;\n",
       "    }\n",
       "\n",
       "    .dataframe tbody tr th {\n",
       "        vertical-align: top;\n",
       "    }\n",
       "\n",
       "    .dataframe thead th {\n",
       "        text-align: right;\n",
       "    }\n",
       "</style>\n",
       "<table border=\"1\" class=\"dataframe\">\n",
       "  <thead>\n",
       "    <tr style=\"text-align: right;\">\n",
       "      <th></th>\n",
       "      <th>ID</th>\n",
       "      <th>RESPUESTA_OBTENIDA</th>\n",
       "    </tr>\n",
       "  </thead>\n",
       "  <tbody>\n",
       "    <tr>\n",
       "      <th>0</th>\n",
       "      <td>1000005262</td>\n",
       "      <td>CONTESTA IVR</td>\n",
       "    </tr>\n",
       "    <tr>\n",
       "      <th>1</th>\n",
       "      <td>1001296837</td>\n",
       "      <td>CONTESTA IVR</td>\n",
       "    </tr>\n",
       "    <tr>\n",
       "      <th>2</th>\n",
       "      <td>1001527017</td>\n",
       "      <td>CONTESTA IVR</td>\n",
       "    </tr>\n",
       "    <tr>\n",
       "      <th>3</th>\n",
       "      <td>1002339149</td>\n",
       "      <td>CONTESTA IVR</td>\n",
       "    </tr>\n",
       "    <tr>\n",
       "      <th>4</th>\n",
       "      <td>1002472304</td>\n",
       "      <td>CONTESTA IVR</td>\n",
       "    </tr>\n",
       "  </tbody>\n",
       "</table>\n",
       "</div>"
      ],
      "text/plain": [
       "           ID RESPUESTA_OBTENIDA\n",
       "0  1000005262       CONTESTA IVR\n",
       "1  1001296837       CONTESTA IVR\n",
       "2  1001527017       CONTESTA IVR\n",
       "3  1002339149       CONTESTA IVR\n",
       "4  1002472304       CONTESTA IVR"
      ]
     },
     "execution_count": 11,
     "metadata": {},
     "output_type": "execute_result"
    }
   ],
   "source": [
    "resultado_ivr.head()"
   ]
  },
  {
   "cell_type": "code",
   "execution_count": 12,
   "metadata": {},
   "outputs": [],
   "source": [
    "resultado_ivr_ordenada=resultado_ivr.sort_values(by=['RESPUESTA_OBTENIDA'],ascending=[True])"
   ]
  },
  {
   "cell_type": "code",
   "execution_count": 13,
   "metadata": {},
   "outputs": [],
   "source": [
    "resultado_sinduplicados=resultado_ivr_ordenada.drop_duplicates(['ID'], keep='first')"
   ]
  },
  {
   "cell_type": "code",
   "execution_count": 14,
   "metadata": {},
   "outputs": [],
   "source": [
    "# writer = pd.ExcelWriter('..\\..\\CRUZAR NUMEROS\\BASES PROVAR IVRS.xlsx', engine='xlsxwriter')\n",
    "\n",
    "# resultado_ivr.to_excel(writer, sheet_name='BASE TOTAL')\n",
    "# worksheet = writer.sheets['BASE TOTAL']\n",
    "\n",
    "\n",
    "# resultado_ivr_ordenada.to_excel(writer, sheet_name='BASE CORRIENTE')\n",
    "# worksheet = writer.sheets['BASE CORRIENTE']\n",
    "\n",
    "# resultado_sinduplicados.to_excel(writer, sheet_name='BASE MENORES')\n",
    "# worksheet = writer.sheets['BASE MENORES']\n",
    "\n",
    "# writer.save()"
   ]
  },
  {
   "cell_type": "code",
   "execution_count": null,
   "metadata": {},
   "outputs": [],
   "source": []
  },
  {
   "cell_type": "code",
   "execution_count": null,
   "metadata": {},
   "outputs": [],
   "source": []
  },
  {
   "cell_type": "code",
   "execution_count": 15,
   "metadata": {},
   "outputs": [],
   "source": [
    "#nombre de los archivos Asignacion normal\n",
    "nom_actual_cor='..\\..\\..\\..\\BASES DATATOOLS\\ASIGNACION\\\\2018\\\\DICIEMBRE\\Sistema de cobro_'+Dia_act+'_'+Mes+'_'+Anio+'.xlsx'\n",
    "nombre_hoja_cor='Asignacion'\n",
    "cartera_cor='CORRIENTE'\n",
    "\n",
    "# nombre de los archivos Menores\n",
    "nom_actual_men='..\\..\\..\\..\\BASES DATATOOLS\\ASIGNACION\\\\2018\\\\DICIEMBRE\\Sistema de cobro_'+Dia_act+'_'+Mes+'_'+Anio+'.xlsx'\n",
    "nombre_hoja_men='Menores'\n",
    "cartera_men='MENORES'"
   ]
  },
  {
   "cell_type": "code",
   "execution_count": 16,
   "metadata": {},
   "outputs": [],
   "source": [
    "def agregar_ceros(base):\n",
    "    ced=base['IDENTIFICACION_DEUDOR']\n",
    "    if len(ced)==9 or len(ced)==12 :\n",
    "        if ced.isdigit():\n",
    "            return '0'+ced\n",
    "    return ced"
   ]
  },
  {
   "cell_type": "code",
   "execution_count": 17,
   "metadata": {},
   "outputs": [],
   "source": [
    "def verificar_tipo(base):\n",
    "    ced=base['ID']\n",
    "    if len(ced)==13:\n",
    "        return 'RUC'\n",
    "    return 'CED'"
   ]
  },
  {
   "cell_type": "code",
   "execution_count": 18,
   "metadata": {},
   "outputs": [],
   "source": [
    "def ultimo_digito(base):\n",
    "    placa=base['PLACA_VEHICULO']\n",
    "    placa=str(placa)\n",
    "    if (placa == ''):\n",
    "        return '10'\n",
    "    if placa[-1].isdigit():\n",
    "        return placa[-1]\n",
    "    return '10'"
   ]
  },
  {
   "cell_type": "code",
   "execution_count": 19,
   "metadata": {},
   "outputs": [],
   "source": [
    "#leer archivo excel asignacion actual y anterior\n",
    "asignacion_actual_cor=pd.read_excel(open(nom_actual_cor,'rb'), sheet_name=nombre_hoja_cor, dtype={\"IDENTIFICACION_DEUDOR\": str})\n",
    "#leer archivo excel asignacion actual y anterior\n",
    "asignacion_actual_men=pd.read_excel(open(nom_actual_men,'rb'), sheet_name=nombre_hoja_men, dtype={\"IDENTIFICACION_DEUDOR\": str})"
   ]
  },
  {
   "cell_type": "code",
   "execution_count": 20,
   "metadata": {},
   "outputs": [],
   "source": [
    "asignacion_actual_cor[asignacion_actual_cor['SEGUNDO_APELLIDO']=='NUNEZ']='NUÑEZ'"
   ]
  },
  {
   "cell_type": "code",
   "execution_count": 21,
   "metadata": {},
   "outputs": [],
   "source": [
    "asignacion_actual_cor= asignacion_actual_cor.fillna('')\n",
    "asignacion_actual_cor['ID']=asignacion_actual_cor.apply(agregar_ceros,axis=1)\n",
    "asignacion_actual_cor['SUBCAMPANAPORCLIENTE'].replace(to_replace=[''],value='4. VENCIDA FASE I',inplace=True)\n",
    "try:\n",
    "    asignacion_actual_cor['FECHA_COACTIVA'].replace(to_replace=[''],value='NO COACTIVA',inplace=True)\n",
    "except:\n",
    "    asignacion_actual_cor['FECHA_COACTIVO'].replace(to_replace=[''],value='NO COACTIVA',inplace=True)\n",
    "asignacion_actual_cor['NOMBRE']=asignacion_actual_cor['RAZONSOCIAL']+' '+asignacion_actual_cor['PRIMER_APELLIDO']+' '+asignacion_actual_cor['SEGUNDO_APELLIDO']+' '+asignacion_actual_cor['PRIMER_NOMBRE']\n",
    "asignacion_actual_cor['CARTERA']='CORRIENTE'"
   ]
  },
  {
   "cell_type": "code",
   "execution_count": 22,
   "metadata": {},
   "outputs": [],
   "source": [
    "asignacion_actual_cor['TIPO']=asignacion_actual_cor.apply(verificar_tipo,axis=1)\n",
    "asignacion_actual_cor['U_PLACA']=asignacion_actual_cor.apply(ultimo_digito,axis=1)"
   ]
  },
  {
   "cell_type": "code",
   "execution_count": 23,
   "metadata": {},
   "outputs": [],
   "source": [
    "cruce_corr=pd.merge(asignacion_actual_cor,contactabilidad,on=['ID'],how='left')"
   ]
  },
  {
   "cell_type": "code",
   "execution_count": 24,
   "metadata": {},
   "outputs": [],
   "source": [
    "cruce_corr= cruce_corr.fillna('')"
   ]
  },
  {
   "cell_type": "code",
   "execution_count": 25,
   "metadata": {},
   "outputs": [],
   "source": [
    "cruce_corr_ivr=pd.merge(cruce_corr,resultado_sinduplicados,on=['ID'],how='left')\n",
    "cruce_corr_ivr= cruce_corr_ivr.fillna('SIN IVR')"
   ]
  },
  {
   "cell_type": "code",
   "execution_count": 26,
   "metadata": {},
   "outputs": [
    {
     "data": {
      "text/html": [
       "<div>\n",
       "<style scoped>\n",
       "    .dataframe tbody tr th:only-of-type {\n",
       "        vertical-align: middle;\n",
       "    }\n",
       "\n",
       "    .dataframe tbody tr th {\n",
       "        vertical-align: top;\n",
       "    }\n",
       "\n",
       "    .dataframe thead th {\n",
       "        text-align: right;\n",
       "    }\n",
       "</style>\n",
       "<table border=\"1\" class=\"dataframe\">\n",
       "  <thead>\n",
       "    <tr style=\"text-align: right;\">\n",
       "      <th></th>\n",
       "      <th>IDENTIFICACION_DEUDOR</th>\n",
       "      <th>TIPO_IDENTIFICACION</th>\n",
       "      <th>NUMERO_CUENTA</th>\n",
       "      <th>ESTADO AXIS</th>\n",
       "      <th>ESTADO_CREDITO</th>\n",
       "      <th>SALDO</th>\n",
       "      <th>DIAS_MORA</th>\n",
       "      <th>ESTADO</th>\n",
       "      <th>CODIGO_CONDICION</th>\n",
       "      <th>PLACA_VEHICULO</th>\n",
       "      <th>...</th>\n",
       "      <th>MEJOR_RESPUESTA</th>\n",
       "      <th>FECHA_COACTIVO</th>\n",
       "      <th>ID</th>\n",
       "      <th>NOMBRE</th>\n",
       "      <th>CARTERA</th>\n",
       "      <th>TIPO</th>\n",
       "      <th>U_PLACA</th>\n",
       "      <th>CONTACTO</th>\n",
       "      <th>TIPO_ACUERDO</th>\n",
       "      <th>RESPUESTA_OBTENIDA</th>\n",
       "    </tr>\n",
       "  </thead>\n",
       "  <tbody>\n",
       "    <tr>\n",
       "      <th>0</th>\n",
       "      <td>I685506</td>\n",
       "      <td>CED</td>\n",
       "      <td>5850416</td>\n",
       "      <td>PENDIENTE</td>\n",
       "      <td>COBRAR</td>\n",
       "      <td>57.9</td>\n",
       "      <td>20</td>\n",
       "      <td>ASISTENCIA TELEFONIC</td>\n",
       "      <td>1</td>\n",
       "      <td>OAN0814</td>\n",
       "      <td>...</td>\n",
       "      <td></td>\n",
       "      <td>NO COACTIVA</td>\n",
       "      <td>I685506</td>\n",
       "      <td>MOREJON RODRIGUEZ YOEL</td>\n",
       "      <td>CORRIENTE</td>\n",
       "      <td>CED</td>\n",
       "      <td>4</td>\n",
       "      <td></td>\n",
       "      <td></td>\n",
       "      <td>SIN IVR</td>\n",
       "    </tr>\n",
       "    <tr>\n",
       "      <th>1</th>\n",
       "      <td>1890153999001</td>\n",
       "      <td>NUM</td>\n",
       "      <td>5771511</td>\n",
       "      <td>PENDIENTE</td>\n",
       "      <td>COBRAR</td>\n",
       "      <td>115.8</td>\n",
       "      <td>40</td>\n",
       "      <td>LOCALIZADO</td>\n",
       "      <td>2</td>\n",
       "      <td>TBG2380</td>\n",
       "      <td>...</td>\n",
       "      <td>CONTESTA IVR</td>\n",
       "      <td>NO COACTIVA</td>\n",
       "      <td>1890153999001</td>\n",
       "      <td>EMPRESA DE TRANSPORT</td>\n",
       "      <td>CORRIENTE</td>\n",
       "      <td>RUC</td>\n",
       "      <td>0</td>\n",
       "      <td>NO CONTACTO</td>\n",
       "      <td>OTROS</td>\n",
       "      <td>CONTESTA IVR</td>\n",
       "    </tr>\n",
       "    <tr>\n",
       "      <th>2</th>\n",
       "      <td>1890069963001</td>\n",
       "      <td>NUM</td>\n",
       "      <td>5870866</td>\n",
       "      <td>PENDIENTE</td>\n",
       "      <td>COBRAR</td>\n",
       "      <td>115.8</td>\n",
       "      <td>15</td>\n",
       "      <td>PROMESA ROTA</td>\n",
       "      <td>2</td>\n",
       "      <td>TBD7440</td>\n",
       "      <td>...</td>\n",
       "      <td></td>\n",
       "      <td>NO COACTIVA</td>\n",
       "      <td>1890069963001</td>\n",
       "      <td>AMBASEG AMBATO SEGURIDAD C LTDA</td>\n",
       "      <td>CORRIENTE</td>\n",
       "      <td>RUC</td>\n",
       "      <td>0</td>\n",
       "      <td></td>\n",
       "      <td></td>\n",
       "      <td>CONTESTA IVR</td>\n",
       "    </tr>\n",
       "    <tr>\n",
       "      <th>3</th>\n",
       "      <td>1801712058001</td>\n",
       "      <td>CED</td>\n",
       "      <td>5857095</td>\n",
       "      <td>PENDIENTE</td>\n",
       "      <td>COBRAR</td>\n",
       "      <td>115.8</td>\n",
       "      <td>21</td>\n",
       "      <td>PROMESA ROTA</td>\n",
       "      <td>2</td>\n",
       "      <td>GBO2848</td>\n",
       "      <td>...</td>\n",
       "      <td>NO CONTESTA IVR</td>\n",
       "      <td>NO COACTIVA</td>\n",
       "      <td>1801712058001</td>\n",
       "      <td>LUIS HERNAN GARZON URRUTIA</td>\n",
       "      <td>CORRIENTE</td>\n",
       "      <td>RUC</td>\n",
       "      <td>8</td>\n",
       "      <td>TITULAR</td>\n",
       "      <td>LOCALIZADO</td>\n",
       "      <td>CONTESTA IVR</td>\n",
       "    </tr>\n",
       "    <tr>\n",
       "      <th>4</th>\n",
       "      <td>1792734266001</td>\n",
       "      <td>NUM</td>\n",
       "      <td>5848663</td>\n",
       "      <td>PENDIENTE</td>\n",
       "      <td>COBRAR</td>\n",
       "      <td>57.9</td>\n",
       "      <td>20</td>\n",
       "      <td>ASISTENCIA TELEFONIC</td>\n",
       "      <td>1</td>\n",
       "      <td>PDC6285</td>\n",
       "      <td>...</td>\n",
       "      <td></td>\n",
       "      <td>NO COACTIVA</td>\n",
       "      <td>1792734266001</td>\n",
       "      <td>PUBLICIDAD Y LOGISTICA JATIVA REASCOS DEFAZ DJ...</td>\n",
       "      <td>CORRIENTE</td>\n",
       "      <td>RUC</td>\n",
       "      <td>5</td>\n",
       "      <td></td>\n",
       "      <td></td>\n",
       "      <td>SIN IVR</td>\n",
       "    </tr>\n",
       "  </tbody>\n",
       "</table>\n",
       "<p>5 rows × 33 columns</p>\n",
       "</div>"
      ],
      "text/plain": [
       "  IDENTIFICACION_DEUDOR TIPO_IDENTIFICACION NUMERO_CUENTA ESTADO AXIS  \\\n",
       "0               I685506                 CED       5850416   PENDIENTE   \n",
       "1         1890153999001                 NUM       5771511   PENDIENTE   \n",
       "2         1890069963001                 NUM       5870866   PENDIENTE   \n",
       "3         1801712058001                 CED       5857095   PENDIENTE   \n",
       "4         1792734266001                 NUM       5848663   PENDIENTE   \n",
       "\n",
       "  ESTADO_CREDITO  SALDO DIAS_MORA                ESTADO CODIGO_CONDICION  \\\n",
       "0         COBRAR   57.9        20  ASISTENCIA TELEFONIC                1   \n",
       "1         COBRAR  115.8        40            LOCALIZADO                2   \n",
       "2         COBRAR  115.8        15          PROMESA ROTA                2   \n",
       "3         COBRAR  115.8        21          PROMESA ROTA                2   \n",
       "4         COBRAR   57.9        20  ASISTENCIA TELEFONIC                1   \n",
       "\n",
       "  PLACA_VEHICULO        ...          MEJOR_RESPUESTA FECHA_COACTIVO  \\\n",
       "0        OAN0814        ...                             NO COACTIVA   \n",
       "1        TBG2380        ...             CONTESTA IVR    NO COACTIVA   \n",
       "2        TBD7440        ...                             NO COACTIVA   \n",
       "3        GBO2848        ...          NO CONTESTA IVR    NO COACTIVA   \n",
       "4        PDC6285        ...                             NO COACTIVA   \n",
       "\n",
       "              ID                                             NOMBRE  \\\n",
       "0        I685506                             MOREJON RODRIGUEZ YOEL   \n",
       "1  1890153999001                            EMPRESA DE TRANSPORT      \n",
       "2  1890069963001                 AMBASEG AMBATO SEGURIDAD C LTDA      \n",
       "3  1801712058001                        LUIS HERNAN GARZON URRUTIA    \n",
       "4  1792734266001  PUBLICIDAD Y LOGISTICA JATIVA REASCOS DEFAZ DJ...   \n",
       "\n",
       "     CARTERA TIPO U_PLACA     CONTACTO TIPO_ACUERDO RESPUESTA_OBTENIDA  \n",
       "0  CORRIENTE  CED       4                                      SIN IVR  \n",
       "1  CORRIENTE  RUC       0  NO CONTACTO        OTROS       CONTESTA IVR  \n",
       "2  CORRIENTE  RUC       0                                 CONTESTA IVR  \n",
       "3  CORRIENTE  RUC       8      TITULAR   LOCALIZADO       CONTESTA IVR  \n",
       "4  CORRIENTE  RUC       5                                      SIN IVR  \n",
       "\n",
       "[5 rows x 33 columns]"
      ]
     },
     "execution_count": 26,
     "metadata": {},
     "output_type": "execute_result"
    }
   ],
   "source": [
    "cruce_corr_ivr.head()"
   ]
  },
  {
   "cell_type": "code",
   "execution_count": 28,
   "metadata": {},
   "outputs": [],
   "source": [
    "try:\n",
    "    base_gestion_cor=cruce_corr_ivr[['IDENTIFICACION_DEUDOR','ID','NOMBRE','SALDO','FECHA_COACTIVA','SUBCAMPANAPORCLIENTE','DIAS_MORA','CARTERA','TIPO','U_PLACA','CONTACTO','TIPO_ACUERDO','RESPUESTA_OBTENIDA']]\n",
    "    ordenada_cor=base_gestion_cor.groupby(['IDENTIFICACION_DEUDOR','ID','NOMBRE','SUBCAMPANAPORCLIENTE','CARTERA','TIPO','CONTACTO','TIPO_ACUERDO','RESPUESTA_OBTENIDA']).agg({'FECHA_COACTIVA':'min','SALDO':'sum','DIAS_MORA':['min', 'max'],'U_PLACA':'min'})\n",
    "except:\n",
    "    base_gestion_cor=cruce_corr_ivr[['IDENTIFICACION_DEUDOR','ID','NOMBRE','SALDO','FECHA_COACTIVO','SUBCAMPANAPORCLIENTE','DIAS_MORA','CARTERA','TIPO','U_PLACA','CONTACTO','TIPO_ACUERDO','RESPUESTA_OBTENIDA']]\n",
    "    ordenada_cor=base_gestion_cor.groupby(['IDENTIFICACION_DEUDOR','ID','NOMBRE','SUBCAMPANAPORCLIENTE','CARTERA','TIPO','CONTACTO','TIPO_ACUERDO','RESPUESTA_OBTENIDA']).agg({'FECHA_COACTIVO':'min','SALDO':'sum','DIAS_MORA':['min', 'max'],'U_PLACA':'min'})"
   ]
  },
  {
   "cell_type": "code",
   "execution_count": 29,
   "metadata": {},
   "outputs": [
    {
     "data": {
      "text/plain": [
       "FECHA_COACTIVO  min    14329\n",
       "SALDO           sum    14329\n",
       "DIAS_MORA       min    14329\n",
       "                max    14329\n",
       "U_PLACA         min    14329\n",
       "dtype: int64"
      ]
     },
     "execution_count": 29,
     "metadata": {},
     "output_type": "execute_result"
    }
   ],
   "source": [
    "ordenada_cor.count()"
   ]
  },
  {
   "cell_type": "code",
   "execution_count": 31,
   "metadata": {},
   "outputs": [],
   "source": [
    "asignacion_actual_men= asignacion_actual_men.fillna('')\n",
    "asignacion_actual_men['ID']=asignacion_actual_men.apply(agregar_ceros,axis=1)\n",
    "asignacion_actual_men['SUBCAMPANAPORCLIENTE'].replace(to_replace=[''],value='4. VENCIDA FASE I',inplace=True)\n",
    "try:\n",
    "    asignacion_actual_men['FECHA_COACTIVA'].replace(to_replace=[''],value='NO COACTIVA',inplace=True)\n",
    "except:\n",
    "    asignacion_actual_men['FECHA_COACTIVO'].replace(to_replace=[''],value='NO COACTIVA',inplace=True)\n",
    "asignacion_actual_men['NOMBRE']=asignacion_actual_men['RAZONSOCIAL']+' '+asignacion_actual_men['PRIMER_APELLIDO']+' '+asignacion_actual_men['SEGUNDO_APELLIDO']+' '+asignacion_actual_men['PRIMER_NOMBRE']\n",
    "asignacion_actual_men['CARTERA']='MENORES'"
   ]
  },
  {
   "cell_type": "code",
   "execution_count": 32,
   "metadata": {},
   "outputs": [],
   "source": [
    "asignacion_actual_men['TIPO']=asignacion_actual_men.apply(verificar_tipo,axis=1)\n",
    "asignacion_actual_men['U_PLACA']=asignacion_actual_men.apply(ultimo_digito,axis=1)"
   ]
  },
  {
   "cell_type": "code",
   "execution_count": 33,
   "metadata": {},
   "outputs": [],
   "source": [
    "cruce_men=pd.merge(asignacion_actual_men,contactabilidad,on=['ID'],how='left')"
   ]
  },
  {
   "cell_type": "code",
   "execution_count": 34,
   "metadata": {},
   "outputs": [],
   "source": [
    "cruce_men= cruce_men.fillna('')"
   ]
  },
  {
   "cell_type": "code",
   "execution_count": 35,
   "metadata": {},
   "outputs": [],
   "source": [
    "cruce_men_ivr=pd.merge(cruce_men,resultado_sinduplicados,on=['ID'],how='left')\n",
    "cruce_men_ivr= cruce_men_ivr.fillna('SIN IVR')"
   ]
  },
  {
   "cell_type": "code",
   "execution_count": 36,
   "metadata": {},
   "outputs": [],
   "source": [
    "try:\n",
    "    base_gestion_men=cruce_men_ivr[['IDENTIFICACION_DEUDOR','ID','NOMBRE','SALDO','FECHA_COACTIVA','SUBCAMPANAPORCLIENTE','DIAS_MORA','CARTERA','TIPO','U_PLACA','CONTACTO','TIPO_ACUERDO','RESPUESTA_OBTENIDA']]\n",
    "    ordenada_men=base_gestion_men.groupby(['IDENTIFICACION_DEUDOR','ID','NOMBRE','SUBCAMPANAPORCLIENTE','CARTERA','TIPO','CONTACTO','TIPO_ACUERDO','RESPUESTA_OBTENIDA']).agg({'FECHA_COACTIVA':'min','SALDO':'sum','DIAS_MORA':['min', 'max'],'U_PLACA':'min'})\n",
    "except:\n",
    "    base_gestion_men=cruce_men_ivr[['IDENTIFICACION_DEUDOR','ID','NOMBRE','SALDO','FECHA_COACTIVO','SUBCAMPANAPORCLIENTE','DIAS_MORA','CARTERA','TIPO','U_PLACA','CONTACTO','TIPO_ACUERDO','RESPUESTA_OBTENIDA']]\n",
    "    ordenada_men=base_gestion_men.groupby(['IDENTIFICACION_DEUDOR','ID','NOMBRE','SUBCAMPANAPORCLIENTE','CARTERA','TIPO','CONTACTO','TIPO_ACUERDO','RESPUESTA_OBTENIDA']).agg({'FECHA_COACTIVO':'min','SALDO':'sum','DIAS_MORA':['min', 'max'],'U_PLACA':'min'})"
   ]
  },
  {
   "cell_type": "code",
   "execution_count": 37,
   "metadata": {},
   "outputs": [
    {
     "data": {
      "text/plain": [
       "FECHA_COACTIVO  min    21639\n",
       "SALDO           sum    21639\n",
       "DIAS_MORA       min    21639\n",
       "                max    21639\n",
       "U_PLACA         min    21639\n",
       "dtype: int64"
      ]
     },
     "execution_count": 37,
     "metadata": {},
     "output_type": "execute_result"
    }
   ],
   "source": [
    "ordenada_men.count()"
   ]
  },
  {
   "cell_type": "code",
   "execution_count": 38,
   "metadata": {},
   "outputs": [
    {
     "data": {
      "text/html": [
       "<div>\n",
       "<style scoped>\n",
       "    .dataframe tbody tr th:only-of-type {\n",
       "        vertical-align: middle;\n",
       "    }\n",
       "\n",
       "    .dataframe tbody tr th {\n",
       "        vertical-align: top;\n",
       "    }\n",
       "\n",
       "    .dataframe thead tr th {\n",
       "        text-align: left;\n",
       "    }\n",
       "\n",
       "    .dataframe thead tr:last-of-type th {\n",
       "        text-align: right;\n",
       "    }\n",
       "</style>\n",
       "<table border=\"1\" class=\"dataframe\">\n",
       "  <thead>\n",
       "    <tr>\n",
       "      <th></th>\n",
       "      <th></th>\n",
       "      <th></th>\n",
       "      <th></th>\n",
       "      <th></th>\n",
       "      <th></th>\n",
       "      <th></th>\n",
       "      <th></th>\n",
       "      <th></th>\n",
       "      <th>FECHA_COACTIVO</th>\n",
       "      <th>SALDO</th>\n",
       "      <th colspan=\"2\" halign=\"left\">DIAS_MORA</th>\n",
       "      <th>U_PLACA</th>\n",
       "    </tr>\n",
       "    <tr>\n",
       "      <th></th>\n",
       "      <th></th>\n",
       "      <th></th>\n",
       "      <th></th>\n",
       "      <th></th>\n",
       "      <th></th>\n",
       "      <th></th>\n",
       "      <th></th>\n",
       "      <th></th>\n",
       "      <th>min</th>\n",
       "      <th>sum</th>\n",
       "      <th>min</th>\n",
       "      <th>max</th>\n",
       "      <th>min</th>\n",
       "    </tr>\n",
       "    <tr>\n",
       "      <th>IDENTIFICACION_DEUDOR</th>\n",
       "      <th>ID</th>\n",
       "      <th>NOMBRE</th>\n",
       "      <th>SUBCAMPANAPORCLIENTE</th>\n",
       "      <th>CARTERA</th>\n",
       "      <th>TIPO</th>\n",
       "      <th>CONTACTO</th>\n",
       "      <th>TIPO_ACUERDO</th>\n",
       "      <th>RESPUESTA_OBTENIDA</th>\n",
       "      <th></th>\n",
       "      <th></th>\n",
       "      <th></th>\n",
       "      <th></th>\n",
       "      <th></th>\n",
       "    </tr>\n",
       "  </thead>\n",
       "  <tbody>\n",
       "    <tr>\n",
       "      <th>100025030</th>\n",
       "      <th>0100025030</th>\n",
       "      <th>CRESPO DELGADO JULIO</th>\n",
       "      <th>MULTAS NUEVAS</th>\n",
       "      <th>MENORES</th>\n",
       "      <th>CED</th>\n",
       "      <th></th>\n",
       "      <th></th>\n",
       "      <th>CONTESTA IVR</th>\n",
       "      <td>NO COACTIVA</td>\n",
       "      <td>19.3</td>\n",
       "      <td>229</td>\n",
       "      <td>229</td>\n",
       "      <td>10</td>\n",
       "    </tr>\n",
       "    <tr>\n",
       "      <th>1000584647</th>\n",
       "      <th>1000584647</th>\n",
       "      <th>DELGADO CRIBAN NORBERTO</th>\n",
       "      <th>MULTAS NUEVAS</th>\n",
       "      <th>MENORES</th>\n",
       "      <th>CED</th>\n",
       "      <th></th>\n",
       "      <th></th>\n",
       "      <th>CONTESTA IVR</th>\n",
       "      <td>NO COACTIVA</td>\n",
       "      <td>57.9</td>\n",
       "      <td>209</td>\n",
       "      <td>209</td>\n",
       "      <td>2</td>\n",
       "    </tr>\n",
       "    <tr>\n",
       "      <th>1000620623</th>\n",
       "      <th>1000620623</th>\n",
       "      <th>REVELO JOSE ELIAS</th>\n",
       "      <th>MULTAS NUEVAS</th>\n",
       "      <th>MENORES</th>\n",
       "      <th>CED</th>\n",
       "      <th></th>\n",
       "      <th></th>\n",
       "      <th>CONTESTA IVR</th>\n",
       "      <td>NO COACTIVA</td>\n",
       "      <td>38.6</td>\n",
       "      <td>66</td>\n",
       "      <td>122</td>\n",
       "      <td>10</td>\n",
       "    </tr>\n",
       "    <tr>\n",
       "      <th>1000729788</th>\n",
       "      <th>1000729788</th>\n",
       "      <th>LOZA ESPINOSA JULIO</th>\n",
       "      <th>MULTAS NUEVAS</th>\n",
       "      <th>MENORES</th>\n",
       "      <th>CED</th>\n",
       "      <th>NO CONTACTO</th>\n",
       "      <th>OTROS</th>\n",
       "      <th>CONTESTA IVR</th>\n",
       "      <td>43088</td>\n",
       "      <td>57.9</td>\n",
       "      <td>174</td>\n",
       "      <td>174</td>\n",
       "      <td>8</td>\n",
       "    </tr>\n",
       "    <tr>\n",
       "      <th>1000779148</th>\n",
       "      <th>1000779148</th>\n",
       "      <th>RUBIO PALACIOS FRANKLIN</th>\n",
       "      <th>MULTAS NUEVAS</th>\n",
       "      <th>MENORES</th>\n",
       "      <th>CED</th>\n",
       "      <th></th>\n",
       "      <th></th>\n",
       "      <th>CONTESTA IVR</th>\n",
       "      <td>NO COACTIVA</td>\n",
       "      <td>38.6</td>\n",
       "      <td>314</td>\n",
       "      <td>314</td>\n",
       "      <td>10</td>\n",
       "    </tr>\n",
       "  </tbody>\n",
       "</table>\n",
       "</div>"
      ],
      "text/plain": [
       "                                                                                                                                        FECHA_COACTIVO  \\\n",
       "                                                                                                                                                   min   \n",
       "IDENTIFICACION_DEUDOR ID         NOMBRE                   SUBCAMPANAPORCLIENTE CARTERA TIPO CONTACTO    TIPO_ACUERDO RESPUESTA_OBTENIDA                  \n",
       "100025030             0100025030  CRESPO DELGADO JULIO    MULTAS NUEVAS        MENORES CED                           CONTESTA IVR          NO COACTIVA   \n",
       "1000584647            1000584647  DELGADO CRIBAN NORBERTO MULTAS NUEVAS        MENORES CED                           CONTESTA IVR          NO COACTIVA   \n",
       "1000620623            1000620623  REVELO JOSE ELIAS       MULTAS NUEVAS        MENORES CED                           CONTESTA IVR          NO COACTIVA   \n",
       "1000729788            1000729788  LOZA ESPINOSA JULIO     MULTAS NUEVAS        MENORES CED  NO CONTACTO OTROS        CONTESTA IVR                43088   \n",
       "1000779148            1000779148  RUBIO PALACIOS FRANKLIN MULTAS NUEVAS        MENORES CED                           CONTESTA IVR          NO COACTIVA   \n",
       "\n",
       "                                                                                                                                        SALDO  \\\n",
       "                                                                                                                                          sum   \n",
       "IDENTIFICACION_DEUDOR ID         NOMBRE                   SUBCAMPANAPORCLIENTE CARTERA TIPO CONTACTO    TIPO_ACUERDO RESPUESTA_OBTENIDA         \n",
       "100025030             0100025030  CRESPO DELGADO JULIO    MULTAS NUEVAS        MENORES CED                           CONTESTA IVR        19.3   \n",
       "1000584647            1000584647  DELGADO CRIBAN NORBERTO MULTAS NUEVAS        MENORES CED                           CONTESTA IVR        57.9   \n",
       "1000620623            1000620623  REVELO JOSE ELIAS       MULTAS NUEVAS        MENORES CED                           CONTESTA IVR        38.6   \n",
       "1000729788            1000729788  LOZA ESPINOSA JULIO     MULTAS NUEVAS        MENORES CED  NO CONTACTO OTROS        CONTESTA IVR        57.9   \n",
       "1000779148            1000779148  RUBIO PALACIOS FRANKLIN MULTAS NUEVAS        MENORES CED                           CONTESTA IVR        38.6   \n",
       "\n",
       "                                                                                                                                        DIAS_MORA  \\\n",
       "                                                                                                                                              min   \n",
       "IDENTIFICACION_DEUDOR ID         NOMBRE                   SUBCAMPANAPORCLIENTE CARTERA TIPO CONTACTO    TIPO_ACUERDO RESPUESTA_OBTENIDA             \n",
       "100025030             0100025030  CRESPO DELGADO JULIO    MULTAS NUEVAS        MENORES CED                           CONTESTA IVR             229   \n",
       "1000584647            1000584647  DELGADO CRIBAN NORBERTO MULTAS NUEVAS        MENORES CED                           CONTESTA IVR             209   \n",
       "1000620623            1000620623  REVELO JOSE ELIAS       MULTAS NUEVAS        MENORES CED                           CONTESTA IVR              66   \n",
       "1000729788            1000729788  LOZA ESPINOSA JULIO     MULTAS NUEVAS        MENORES CED  NO CONTACTO OTROS        CONTESTA IVR             174   \n",
       "1000779148            1000779148  RUBIO PALACIOS FRANKLIN MULTAS NUEVAS        MENORES CED                           CONTESTA IVR             314   \n",
       "\n",
       "                                                                                                                                              \\\n",
       "                                                                                                                                         max   \n",
       "IDENTIFICACION_DEUDOR ID         NOMBRE                   SUBCAMPANAPORCLIENTE CARTERA TIPO CONTACTO    TIPO_ACUERDO RESPUESTA_OBTENIDA        \n",
       "100025030             0100025030  CRESPO DELGADO JULIO    MULTAS NUEVAS        MENORES CED                           CONTESTA IVR        229   \n",
       "1000584647            1000584647  DELGADO CRIBAN NORBERTO MULTAS NUEVAS        MENORES CED                           CONTESTA IVR        209   \n",
       "1000620623            1000620623  REVELO JOSE ELIAS       MULTAS NUEVAS        MENORES CED                           CONTESTA IVR        122   \n",
       "1000729788            1000729788  LOZA ESPINOSA JULIO     MULTAS NUEVAS        MENORES CED  NO CONTACTO OTROS        CONTESTA IVR        174   \n",
       "1000779148            1000779148  RUBIO PALACIOS FRANKLIN MULTAS NUEVAS        MENORES CED                           CONTESTA IVR        314   \n",
       "\n",
       "                                                                                                                                        U_PLACA  \n",
       "                                                                                                                                            min  \n",
       "IDENTIFICACION_DEUDOR ID         NOMBRE                   SUBCAMPANAPORCLIENTE CARTERA TIPO CONTACTO    TIPO_ACUERDO RESPUESTA_OBTENIDA          \n",
       "100025030             0100025030  CRESPO DELGADO JULIO    MULTAS NUEVAS        MENORES CED                           CONTESTA IVR            10  \n",
       "1000584647            1000584647  DELGADO CRIBAN NORBERTO MULTAS NUEVAS        MENORES CED                           CONTESTA IVR             2  \n",
       "1000620623            1000620623  REVELO JOSE ELIAS       MULTAS NUEVAS        MENORES CED                           CONTESTA IVR            10  \n",
       "1000729788            1000729788  LOZA ESPINOSA JULIO     MULTAS NUEVAS        MENORES CED  NO CONTACTO OTROS        CONTESTA IVR             8  \n",
       "1000779148            1000779148  RUBIO PALACIOS FRANKLIN MULTAS NUEVAS        MENORES CED                           CONTESTA IVR            10  "
      ]
     },
     "execution_count": 38,
     "metadata": {},
     "output_type": "execute_result"
    }
   ],
   "source": [
    "ordenada_men.head()"
   ]
  },
  {
   "cell_type": "code",
   "execution_count": 39,
   "metadata": {},
   "outputs": [],
   "source": [
    "base_total=pd.concat([ordenada_cor, ordenada_men])"
   ]
  },
  {
   "cell_type": "code",
   "execution_count": null,
   "metadata": {},
   "outputs": [],
   "source": []
  },
  {
   "cell_type": "code",
   "execution_count": 40,
   "metadata": {},
   "outputs": [],
   "source": [
    "nuevo_archivo='BASE ARREGLADA DICIEMBRE.xlsx'\n",
    "writer = pd.ExcelWriter(nuevo_archivo, engine='xlsxwriter')\n",
    "base_total.to_excel(writer,sheet_name='BASE_TOTAL')\n",
    "worksheet = writer.sheets['BASE_TOTAL']\n",
    "writer.save()"
   ]
  },
  {
   "cell_type": "code",
   "execution_count": null,
   "metadata": {},
   "outputs": [],
   "source": []
  },
  {
   "cell_type": "code",
   "execution_count": null,
   "metadata": {},
   "outputs": [],
   "source": []
  }
 ],
 "metadata": {
  "kernelspec": {
   "display_name": "Python 3",
   "language": "python",
   "name": "python3"
  },
  "language_info": {
   "codemirror_mode": {
    "name": "ipython",
    "version": 3
   },
   "file_extension": ".py",
   "mimetype": "text/x-python",
   "name": "python",
   "nbconvert_exporter": "python",
   "pygments_lexer": "ipython3",
   "version": "3.6.5"
  }
 },
 "nbformat": 4,
 "nbformat_minor": 2
}
