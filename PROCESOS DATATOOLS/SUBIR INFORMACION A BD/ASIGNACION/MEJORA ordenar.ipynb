{
 "cells": [
  {
   "cell_type": "code",
   "execution_count": 1,
   "metadata": {},
   "outputs": [],
   "source": [
    "import pandas as pd\n",
    "import mysql.connector as mc"
   ]
  },
  {
   "cell_type": "code",
   "execution_count": 2,
   "metadata": {},
   "outputs": [],
   "source": [
    "db = mc.connect(\n",
    "  host='172.18.55.6',\n",
    "  user='comandato',\n",
    "  passwd='comandato123',\n",
    ")"
   ]
  },
  {
   "cell_type": "code",
   "execution_count": 3,
   "metadata": {},
   "outputs": [],
   "source": [
    "Anio='2019'\n",
    "Mes='03'\n",
    "Dia_act='26'"
   ]
  },
  {
   "cell_type": "code",
   "execution_count": 4,
   "metadata": {},
   "outputs": [],
   "source": [
    "fecha_ini='2019-03-01 00:00:00'\n",
    "fecha_fin='2019-03-31 21:00:00'"
   ]
  },
  {
   "cell_type": "code",
   "execution_count": 5,
   "metadata": {},
   "outputs": [],
   "source": [
    "fecha_inivr='2019-03-01 00:00:00'\n",
    "fecha_finivr='2019-03-31 21:00:00'"
   ]
  },
  {
   "cell_type": "markdown",
   "metadata": {},
   "source": [
    "# CONSULTA DE GESTION MASIVOS ASESOR"
   ]
  },
  {
   "cell_type": "code",
   "execution_count": 6,
   "metadata": {},
   "outputs": [],
   "source": [
    "querr_ultmes_asesor=\"\"\"SELECT * \n",
    "                       FROM sistemecuador_atm.gestion \n",
    "                       where FECHA_GESTION between '{0}' and '{1}';\"\"\".format(fecha_ini,fecha_fin)"
   ]
  },
  {
   "cell_type": "code",
   "execution_count": 7,
   "metadata": {},
   "outputs": [],
   "source": [
    "querr_ultmes_masivo=\"\"\"SELECT * \n",
    "                       FROM sistemecuador_atm.gestion_ivr\n",
    "                       where FECHA_GESTION between '{0}' and '{1}';\"\"\".format(fecha_inivr,fecha_finivr)"
   ]
  },
  {
   "cell_type": "code",
   "execution_count": 8,
   "metadata": {},
   "outputs": [],
   "source": [
    "ultmes_asesor=pd.read_sql(querr_ultmes_asesor, con=db)"
   ]
  },
  {
   "cell_type": "code",
   "execution_count": 9,
   "metadata": {},
   "outputs": [
    {
     "data": {
      "text/plain": [
       "Index(['idGESTION', 'TIPO_GESTION', 'NRO_IDENTIFICACION_CLIENTE',\n",
       "       'CASA_COBRANZA', 'COD_AGENTE', 'USUARIO_SAC', 'FECHA_GESTION',\n",
       "       'ACCION_REALIZADA', 'RESPUESTA_OBTENIDA', 'CONTACTO_GESTIONO',\n",
       "       'COMENTARIOS_GESTIONO', 'NUMERO_GESTION', 'MOTIVO_NO_PAGO',\n",
       "       'FECHA_PROXIMA_GESTION', 'TIEMPO_GESTION', 'NRO_CUENTA_PROMESA',\n",
       "       'VALOR_PROMESA', 'FECHA_PAGO_PROMESA', 'DIRECCION_VISITA', 'SUBCAMPAÑA',\n",
       "       'CANAL_GESTION', 'archivo_audio'],\n",
       "      dtype='object')"
      ]
     },
     "execution_count": 9,
     "metadata": {},
     "output_type": "execute_result"
    }
   ],
   "source": [
    "ultmes_asesor.columns"
   ]
  },
  {
   "cell_type": "code",
   "execution_count": 10,
   "metadata": {},
   "outputs": [],
   "source": [
    "#ultmes_asesor[ultmes_asesor['NRO_IDENTIFICACION_CLIENTE']=='1000678738'][['NUMERO_GESTION','FECHA_GESTION','RESPUESTA_OBTENIDA']]"
   ]
  },
  {
   "cell_type": "code",
   "execution_count": 11,
   "metadata": {},
   "outputs": [],
   "source": [
    "ultmes_masivo=pd.read_sql(querr_ultmes_masivo, con=db)"
   ]
  },
  {
   "cell_type": "markdown",
   "metadata": {},
   "source": [
    "### ORDEN POR RESPUESTAS"
   ]
  },
  {
   "cell_type": "code",
   "execution_count": 12,
   "metadata": {},
   "outputs": [],
   "source": [
    "ultmes_asesor.RESPUESTA_OBTENIDA = ultmes_asesor.RESPUESTA_OBTENIDA.astype('category')\n",
    "order_resp_ase=['ACUERDO DE PAGO','ACUERDO DE CONVENIO','LOCALIZADO SIN ACUERDO',\n",
    "                'YA PAGO','VOLVER A LLAMAR','INFRACTOR CUELGA LLAMADA','RECLAMO VENDIO VEHICULO',\n",
    "                'RENUENTE','ACTUALIZACION DATOS','RECLAMO','MENSAJE CON TERCERO','FALLECIDO / OTROS',\n",
    "                'AQUI NO VIVE / TRABAJA','BUZON DE MENSAJES','TELEFONO DANADO','TELEFONO OCUPADO','NO CONTESTA','','SIN GESTION']\n",
    "ultmes_asesor.RESPUESTA_OBTENIDA=ultmes_asesor.RESPUESTA_OBTENIDA.cat.set_categories(order_resp_ase)\n",
    "\n",
    "ultmes_asesor.CONTACTO_GESTIONO  = ultmes_asesor.CONTACTO_GESTIONO.astype('category')\n",
    "order_cont_ase=['TITULAR','CLIENTE','TERC. VALIDO','TERC. NO VALIDO','NO CONTACTO','SIN GESTION']\n",
    "ultmes_asesor.CONTACTO_GESTIONO=ultmes_asesor.CONTACTO_GESTIONO.cat.set_categories(order_cont_ase)\n",
    "\n",
    "ultmes_asesor=ultmes_asesor.sort_values(by=['CONTACTO_GESTIONO','RESPUESTA_OBTENIDA'],ascending = True)"
   ]
  },
  {
   "cell_type": "code",
   "execution_count": null,
   "metadata": {},
   "outputs": [],
   "source": []
  },
  {
   "cell_type": "code",
   "execution_count": 13,
   "metadata": {},
   "outputs": [],
   "source": [
    "gest_ase_porID = ultmes_asesor.drop_duplicates(['NRO_IDENTIFICACION_CLIENTE'], keep='first')"
   ]
  },
  {
   "cell_type": "code",
   "execution_count": 14,
   "metadata": {},
   "outputs": [],
   "source": [
    "gest_ase_porID_DEM = ultmes_asesor.drop_duplicates(['NRO_IDENTIFICACION_CLIENTE','NUMERO_GESTION'], keep='first')"
   ]
  },
  {
   "cell_type": "code",
   "execution_count": null,
   "metadata": {},
   "outputs": [],
   "source": []
  },
  {
   "cell_type": "code",
   "execution_count": 15,
   "metadata": {},
   "outputs": [],
   "source": [
    "ultmes_masivo.RESPUESTA_OBTENIDA=ultmes_masivo.RESPUESTA_OBTENIDA.astype('category')\n",
    "order_resp_ivr=['CONTESTA IVR','SMS ENVIADO','NO CONTESTA IVR','','SIN GESTION']\n",
    "ultmes_masivo.RESPUESTA_OBTENIDA=ultmes_masivo.RESPUESTA_OBTENIDA.cat.set_categories(order_resp_ivr)\n",
    "\n",
    "ultmes_masivo = ultmes_masivo.sort_values(by=['RESPUESTA_OBTENIDA'],ascending=True)"
   ]
  },
  {
   "cell_type": "code",
   "execution_count": null,
   "metadata": {},
   "outputs": [],
   "source": []
  },
  {
   "cell_type": "code",
   "execution_count": 16,
   "metadata": {},
   "outputs": [],
   "source": [
    "gest_mas_porID = ultmes_masivo.drop_duplicates(['NRO_IDENTIFICACION_CLIENTE'],keep='first')"
   ]
  },
  {
   "cell_type": "code",
   "execution_count": 17,
   "metadata": {},
   "outputs": [],
   "source": [
    "gest_mas_porID_DEM = ultmes_masivo.drop_duplicates(['NRO_IDENTIFICACION_CLIENTE','NUMERO_GESTION'],keep='first')"
   ]
  },
  {
   "cell_type": "code",
   "execution_count": 18,
   "metadata": {},
   "outputs": [],
   "source": [
    "campos=['NRO_IDENTIFICACION_CLIENTE','RESPUESTA_OBTENIDA','CONTACTO_GESTIONO']\n",
    "campos1=['NRO_IDENTIFICACION_CLIENTE','RESPUESTA_OBTENIDA','CONTACTO_GESTIONO','NUMERO_GESTION']"
   ]
  },
  {
   "cell_type": "code",
   "execution_count": 19,
   "metadata": {},
   "outputs": [],
   "source": [
    "gest_ase_porID = gest_ase_porID[campos]\n",
    "gest_ase_porID = gest_ase_porID.rename(columns={'RESPUESTA_OBTENIDA':'CALL_MES','CONTACTO_GESTIONO':'CONT_MES'})\n",
    "\n",
    "gest_ase_porID_DEM = gest_ase_porID_DEM[campos1]\n",
    "gest_ase_porID_DEM = gest_ase_porID_DEM.rename(columns={'RESPUESTA_OBTENIDA':'CALL_MESTEL','CONTACTO_GESTIONO':'CONT_MESTEL','NUMERO_GESTION':'NUMERO'})\n",
    "\n",
    "gest_mas_porID = gest_mas_porID[campos]\n",
    "gest_mas_porID = gest_mas_porID.rename(columns={'RESPUESTA_OBTENIDA':'CALL_MESMAS','CONTACTO_GESTIONO':'CONT_MESMAS'})\n",
    "\n",
    "gest_mas_porID_DEM = gest_mas_porID_DEM[campos1]\n",
    "gest_mas_porID_DEM = gest_mas_porID_DEM.rename(columns={'RESPUESTA_OBTENIDA':'CALL_MESMASTEL','CONTACTO_GESTIONO':'CONT_MESMASTEL','NUMERO_GESTION':'NUMERO'})"
   ]
  },
  {
   "cell_type": "code",
   "execution_count": 20,
   "metadata": {},
   "outputs": [
    {
     "data": {
      "text/html": [
       "<div>\n",
       "<style scoped>\n",
       "    .dataframe tbody tr th:only-of-type {\n",
       "        vertical-align: middle;\n",
       "    }\n",
       "\n",
       "    .dataframe tbody tr th {\n",
       "        vertical-align: top;\n",
       "    }\n",
       "\n",
       "    .dataframe thead th {\n",
       "        text-align: right;\n",
       "    }\n",
       "</style>\n",
       "<table border=\"1\" class=\"dataframe\">\n",
       "  <thead>\n",
       "    <tr style=\"text-align: right;\">\n",
       "      <th></th>\n",
       "      <th>NRO_IDENTIFICACION_CLIENTE</th>\n",
       "      <th>CALL_MESTEL</th>\n",
       "      <th>CONT_MESTEL</th>\n",
       "      <th>NUMERO</th>\n",
       "    </tr>\n",
       "  </thead>\n",
       "  <tbody>\n",
       "    <tr>\n",
       "      <th>204</th>\n",
       "      <td>0920338555</td>\n",
       "      <td>ACUERDO DE PAGO</td>\n",
       "      <td>TITULAR</td>\n",
       "      <td>0980969607</td>\n",
       "    </tr>\n",
       "    <tr>\n",
       "      <th>218</th>\n",
       "      <td>0921907549</td>\n",
       "      <td>ACUERDO DE PAGO</td>\n",
       "      <td>TITULAR</td>\n",
       "      <td>0992464217</td>\n",
       "    </tr>\n",
       "    <tr>\n",
       "      <th>219</th>\n",
       "      <td>0926784851</td>\n",
       "      <td>ACUERDO DE PAGO</td>\n",
       "      <td>TITULAR</td>\n",
       "      <td>0980790426</td>\n",
       "    </tr>\n",
       "    <tr>\n",
       "      <th>231</th>\n",
       "      <td>0915416713</td>\n",
       "      <td>ACUERDO DE PAGO</td>\n",
       "      <td>TITULAR</td>\n",
       "      <td>0986667147</td>\n",
       "    </tr>\n",
       "    <tr>\n",
       "      <th>253</th>\n",
       "      <td>0924619760</td>\n",
       "      <td>ACUERDO DE PAGO</td>\n",
       "      <td>TITULAR</td>\n",
       "      <td>0985719955</td>\n",
       "    </tr>\n",
       "  </tbody>\n",
       "</table>\n",
       "</div>"
      ],
      "text/plain": [
       "    NRO_IDENTIFICACION_CLIENTE      CALL_MESTEL CONT_MESTEL      NUMERO\n",
       "204                 0920338555  ACUERDO DE PAGO     TITULAR  0980969607\n",
       "218                 0921907549  ACUERDO DE PAGO     TITULAR  0992464217\n",
       "219                 0926784851  ACUERDO DE PAGO     TITULAR  0980790426\n",
       "231                 0915416713  ACUERDO DE PAGO     TITULAR  0986667147\n",
       "253                 0924619760  ACUERDO DE PAGO     TITULAR  0985719955"
      ]
     },
     "execution_count": 20,
     "metadata": {},
     "output_type": "execute_result"
    }
   ],
   "source": [
    "gest_ase_porID_DEM.head()"
   ]
  },
  {
   "cell_type": "markdown",
   "metadata": {},
   "source": [
    "### ASIGNACION"
   ]
  },
  {
   "cell_type": "code",
   "execution_count": 21,
   "metadata": {},
   "outputs": [],
   "source": [
    "def agregar_ceros(base):\n",
    "    ced=base['IDENTIFICACION_DEUDOR']\n",
    "    if len(ced)==9 or len(ced)==12 :\n",
    "        if ced.isdigit():\n",
    "            return '0'+ced\n",
    "    return ced"
   ]
  },
  {
   "cell_type": "code",
   "execution_count": 22,
   "metadata": {},
   "outputs": [],
   "source": [
    "def verificar_tipo(base):\n",
    "    ced=base['ID']\n",
    "    if len(ced)==13:\n",
    "        return 'RUC'\n",
    "    return 'CED'"
   ]
  },
  {
   "cell_type": "code",
   "execution_count": 23,
   "metadata": {},
   "outputs": [],
   "source": [
    "def ultimo_digito(base):\n",
    "    placa=base['PLACA_VEHICULO']\n",
    "    placa=str(placa)\n",
    "    if (placa == ''):\n",
    "        return '10'\n",
    "    if placa[-1].isdigit():\n",
    "        return placa[-1]\n",
    "    return '10'"
   ]
  },
  {
   "cell_type": "code",
   "execution_count": 24,
   "metadata": {},
   "outputs": [],
   "source": [
    "def convenio(base):\n",
    "    if (base['SALDO'] >= 115.8 and base['DIAS_MORA'] >= 180):\n",
    "        return 'SI'\n",
    "    return 'NO'"
   ]
  },
  {
   "cell_type": "code",
   "execution_count": 25,
   "metadata": {},
   "outputs": [],
   "source": [
    "def diasmora(base):\n",
    "    if(base['DIAS_MORAmin'] >= 180):\n",
    "        return 'MAYOR A 180'\n",
    "    return 'MENOR A 180'    "
   ]
  },
  {
   "cell_type": "code",
   "execution_count": 26,
   "metadata": {},
   "outputs": [],
   "source": [
    "#nombre de los archivos Asignacion normal\n",
    "nom_actual_cor='..\\..\\..\\..\\BASES DATATOOLS\\ASIGNACION\\\\2019\\\\ENERO\\Sistema de cobro_'+Dia_act+'_'+Mes+'_'+Anio+'.xlsx'\n",
    "nombre_hoja_cor='Asignacion'\n",
    "cartera_cor='CORRIENTE'\n",
    "\n",
    "# nombre de los archivos Menores\n",
    "nom_actual_men='..\\..\\..\\..\\BASES DATATOOLS\\ASIGNACION\\\\2019\\\\ENERO\\Sistema de cobro_'+Dia_act+'_'+Mes+'_'+Anio+'.xlsx'\n",
    "nombre_hoja_men='Menores'\n",
    "cartera_men='MENORES'\n",
    "\n",
    "# nombre de los archivos Demografico\n",
    "nom_actual_dem='..\\..\\..\\..\\BASES DATATOOLS\\ASIGNACION\\\\2019\\\\ENERO\\Sistema de cobro_'+Dia_act+'_'+Mes+'_'+Anio+'.xlsx'\n",
    "nombre_hoja_dem='Demografico'"
   ]
  },
  {
   "cell_type": "code",
   "execution_count": 27,
   "metadata": {},
   "outputs": [],
   "source": [
    "#leer archivo excel asignacion actual y anterior\n",
    "asignacion_actual_cor=pd.read_excel(open(nom_actual_cor,'rb'), sheet_name=nombre_hoja_cor, dtype={\"IDENTIFICACION_DEUDOR\": str})\n",
    "#leer archivo excel asignacion actual y anterior\n",
    "# asignacion_actual_men=pd.read_excel(open(nom_actual_men,'rb'), sheet_name=nombre_hoja_men, dtype={\"IDENTIFICACION_DEUDOR\": str})\n",
    "#leer archivo excel asignacion actual y anterior\n",
    "asignacion_actual_dem=pd.read_excel(open(nom_actual_dem,'rb'), sheet_name=nombre_hoja_dem, dtype={\"IDENTIFICACION_DEUDOR\": str,'TELEFONO':str})"
   ]
  },
  {
   "cell_type": "code",
   "execution_count": 28,
   "metadata": {},
   "outputs": [
    {
     "data": {
      "text/html": [
       "<div>\n",
       "<style scoped>\n",
       "    .dataframe tbody tr th:only-of-type {\n",
       "        vertical-align: middle;\n",
       "    }\n",
       "\n",
       "    .dataframe tbody tr th {\n",
       "        vertical-align: top;\n",
       "    }\n",
       "\n",
       "    .dataframe thead th {\n",
       "        text-align: right;\n",
       "    }\n",
       "</style>\n",
       "<table border=\"1\" class=\"dataframe\">\n",
       "  <thead>\n",
       "    <tr style=\"text-align: right;\">\n",
       "      <th></th>\n",
       "      <th>IDENTIFICACION_DEUDOR</th>\n",
       "      <th>casa</th>\n",
       "      <th>TELEFONO</th>\n",
       "      <th>ESTADO_CREDITO</th>\n",
       "      <th>ESTADO</th>\n",
       "      <th>PRIORIDAD</th>\n",
       "      <th>TIPO</th>\n",
       "    </tr>\n",
       "  </thead>\n",
       "  <tbody>\n",
       "    <tr>\n",
       "      <th>0</th>\n",
       "      <td>3778859</td>\n",
       "      <td>SISTEMA DE COBRO DEL ECUADOR</td>\n",
       "      <td>042457665</td>\n",
       "      <td>COACTIVO</td>\n",
       "      <td>BUENO</td>\n",
       "      <td>2.0</td>\n",
       "      <td>DOMICILIO</td>\n",
       "    </tr>\n",
       "    <tr>\n",
       "      <th>1</th>\n",
       "      <td>3778859</td>\n",
       "      <td>SISTEMA DE COBRO DEL ECUADOR</td>\n",
       "      <td>0980460504</td>\n",
       "      <td>COACTIVO</td>\n",
       "      <td>BUENO</td>\n",
       "      <td>2.0</td>\n",
       "      <td>DOMICILIO</td>\n",
       "    </tr>\n",
       "    <tr>\n",
       "      <th>2</th>\n",
       "      <td>5216855</td>\n",
       "      <td>SISTEMA DE COBRO DEL ECUADOR</td>\n",
       "      <td>042733103</td>\n",
       "      <td>COACTIVO</td>\n",
       "      <td>BUENO</td>\n",
       "      <td>2.0</td>\n",
       "      <td>DOMICILIO</td>\n",
       "    </tr>\n",
       "    <tr>\n",
       "      <th>3</th>\n",
       "      <td>5216855</td>\n",
       "      <td>SISTEMA DE COBRO DEL ECUADOR</td>\n",
       "      <td>0960503333</td>\n",
       "      <td>COACTIVO</td>\n",
       "      <td>BUENO</td>\n",
       "      <td>0.0</td>\n",
       "      <td>DOMICILIO</td>\n",
       "    </tr>\n",
       "    <tr>\n",
       "      <th>4</th>\n",
       "      <td>5216855</td>\n",
       "      <td>SISTEMA DE COBRO DEL ECUADOR</td>\n",
       "      <td>0999274687</td>\n",
       "      <td>COACTIVO</td>\n",
       "      <td>BUENO</td>\n",
       "      <td>NaN</td>\n",
       "      <td>DOMICILIO</td>\n",
       "    </tr>\n",
       "  </tbody>\n",
       "</table>\n",
       "</div>"
      ],
      "text/plain": [
       "  IDENTIFICACION_DEUDOR                          casa    TELEFONO  \\\n",
       "0               3778859  SISTEMA DE COBRO DEL ECUADOR   042457665   \n",
       "1               3778859  SISTEMA DE COBRO DEL ECUADOR  0980460504   \n",
       "2               5216855  SISTEMA DE COBRO DEL ECUADOR   042733103   \n",
       "3               5216855  SISTEMA DE COBRO DEL ECUADOR  0960503333   \n",
       "4               5216855  SISTEMA DE COBRO DEL ECUADOR  0999274687   \n",
       "\n",
       "  ESTADO_CREDITO ESTADO  PRIORIDAD       TIPO  \n",
       "0       COACTIVO  BUENO        2.0  DOMICILIO  \n",
       "1       COACTIVO  BUENO        2.0  DOMICILIO  \n",
       "2       COACTIVO  BUENO        2.0  DOMICILIO  \n",
       "3       COACTIVO  BUENO        0.0  DOMICILIO  \n",
       "4       COACTIVO  BUENO        NaN  DOMICILIO  "
      ]
     },
     "execution_count": 28,
     "metadata": {},
     "output_type": "execute_result"
    }
   ],
   "source": [
    "asignacion_actual_dem.head()"
   ]
  },
  {
   "cell_type": "code",
   "execution_count": 29,
   "metadata": {},
   "outputs": [],
   "source": [
    "asignacion_actual_cor= asignacion_actual_cor.fillna('')\n",
    "asignacion_actual_cor['ID']=asignacion_actual_cor.apply(agregar_ceros,axis=1)"
   ]
  },
  {
   "cell_type": "code",
   "execution_count": 30,
   "metadata": {},
   "outputs": [],
   "source": [
    "asignacion_actual_cor['SUBCAMPANAPORCLIENTE'].replace(to_replace=[''],value='4. VENCIDA FASE I',inplace=True)"
   ]
  },
  {
   "cell_type": "code",
   "execution_count": 31,
   "metadata": {},
   "outputs": [],
   "source": [
    "try:\n",
    "    asignacion_actual_cor['FECHA_COACTIVA'].replace(to_replace=[''],value='NO COACTIVA',inplace=True)\n",
    "except:\n",
    "    try:\n",
    "        asignacion_actual_cor['FECHA_COACTIVO'].replace(to_replace=[''],value='NO COACTIVA',inplace=True)\n",
    "    except:\n",
    "        asignacion_actual_cor['FECHA_COACTIVO']='SIN FECHA'"
   ]
  },
  {
   "cell_type": "code",
   "execution_count": 32,
   "metadata": {},
   "outputs": [],
   "source": [
    "asignacion_actual_cor[asignacion_actual_cor['RAZONSOCIAL']==918217126]=''"
   ]
  },
  {
   "cell_type": "code",
   "execution_count": 33,
   "metadata": {},
   "outputs": [],
   "source": [
    "asignacion_actual_cor['NOMBRE']=asignacion_actual_cor['RAZONSOCIAL']+' '+asignacion_actual_cor['PRIMER_APELLIDO']+' '+asignacion_actual_cor['SEGUNDO_APELLIDO']+' '+asignacion_actual_cor['PRIMER_NOMBRE']+' '+asignacion_actual_cor['SEGUNDO_NOMBRE']"
   ]
  },
  {
   "cell_type": "code",
   "execution_count": 34,
   "metadata": {},
   "outputs": [],
   "source": [
    "asignacion_actual_cor['CARTERA']='CORRIENTE'"
   ]
  },
  {
   "cell_type": "code",
   "execution_count": 35,
   "metadata": {},
   "outputs": [],
   "source": [
    "asignacion_actual_cor['TIPO']=asignacion_actual_cor.apply(verificar_tipo,axis=1)\n",
    "asignacion_actual_cor['U_PLACA']=asignacion_actual_cor.apply(ultimo_digito,axis=1)"
   ]
  },
  {
   "cell_type": "code",
   "execution_count": 36,
   "metadata": {},
   "outputs": [],
   "source": [
    "try:\n",
    "    base_gestion_cor=asignacion_actual_cor[['IDENTIFICACION_DEUDOR','ID','NOMBRE','SALDO','FECHA_COACTIVA','SUBCAMPANAPORCLIENTE','DIAS_MORA','CARTERA','TIPO','U_PLACA']]\n",
    "    ordenada_cor=base_gestion_cor.groupby(['IDENTIFICACION_DEUDOR','ID','NOMBRE','SUBCAMPANAPORCLIENTE','CARTERA','TIPO']).agg({'FECHA_COACTIVA':'min','SALDO':'sum','DIAS_MORA':['min', 'max'],'U_PLACA':'min'})\n",
    "except:\n",
    "    base_gestion_cor=asignacion_actual_cor[['IDENTIFICACION_DEUDOR','ID','NOMBRE','SALDO','FECHA_COACTIVO','SUBCAMPANAPORCLIENTE','DIAS_MORA','CARTERA','TIPO','U_PLACA']]\n",
    "    ordenada_cor=base_gestion_cor.groupby(['IDENTIFICACION_DEUDOR','ID','NOMBRE','SUBCAMPANAPORCLIENTE','CARTERA','TIPO']).agg({'FECHA_COACTIVO':'min','SALDO':'sum','DIAS_MORA':['min', 'max'],'U_PLACA':'min'})"
   ]
  },
  {
   "cell_type": "code",
   "execution_count": null,
   "metadata": {},
   "outputs": [],
   "source": []
  },
  {
   "cell_type": "code",
   "execution_count": 37,
   "metadata": {},
   "outputs": [],
   "source": [
    "# asignacion_actual_men= asignacion_actual_men.fillna('')\n",
    "# asignacion_actual_men['ID']=asignacion_actual_men.apply(agregar_ceros,axis=1)\n",
    "# asignacion_actual_men['SUBCAMPANAPORCLIENTE'].replace(to_replace=[''],value='4. VENCIDA FASE I',inplace=True)\n",
    "# try:\n",
    "#     asignacion_actual_men['FECHA_COACTIVA'].replace(to_replace=[''],value='NO COACTIVA',inplace=True)\n",
    "# except:\n",
    "#     try:\n",
    "#         asignacion_actual_men['FECHA_COACTIVO'].replace(to_replace=[''],value='NO COACTIVA',inplace=True)\n",
    "#     except:\n",
    "#         asignacion_actual_cor['FECHA_COACTIVO']='SIN FECHA'\n",
    "# asignacion_actual_men['NOMBRE']=asignacion_actual_men['RAZONSOCIAL']+' '+asignacion_actual_men['PRIMER_APELLIDO']+' '+asignacion_actual_men['SEGUNDO_APELLIDO']+' '+asignacion_actual_men['PRIMER_NOMBRE']\n",
    "# asignacion_actual_men['CARTERA']='MENORES'"
   ]
  },
  {
   "cell_type": "code",
   "execution_count": 38,
   "metadata": {},
   "outputs": [],
   "source": [
    "# asignacion_actual_men['TIPO']=asignacion_actual_men.apply(verificar_tipo,axis=1)\n",
    "# asignacion_actual_men['U_PLACA']=asignacion_actual_men.apply(ultimo_digito,axis=1)"
   ]
  },
  {
   "cell_type": "code",
   "execution_count": 39,
   "metadata": {},
   "outputs": [],
   "source": [
    "# try:\n",
    "#     base_gestion_men=asignacion_actual_men[['IDENTIFICACION_DEUDOR','ID','NOMBRE','SALDO','FECHA_COACTIVA','SUBCAMPANAPORCLIENTE','DIAS_MORA','CARTERA','TIPO','U_PLACA']]\n",
    "#     ordenada_men=base_gestion_men.groupby(['IDENTIFICACION_DEUDOR','ID','NOMBRE','SUBCAMPANAPORCLIENTE','CARTERA','TIPO']).agg({'FECHA_COACTIVA':'min','SALDO':'sum','DIAS_MORA':['min', 'max'],'U_PLACA':'min'})\n",
    "# except:\n",
    "#     base_gestion_men=asignacion_actual_men[['IDENTIFICACION_DEUDOR','ID','NOMBRE','SALDO','FECHA_COACTIVO','SUBCAMPANAPORCLIENTE','DIAS_MORA','CARTERA','TIPO','U_PLACA']]\n",
    "#     ordenada_men=base_gestion_men.groupby(['IDENTIFICACION_DEUDOR','ID','NOMBRE','SUBCAMPANAPORCLIENTE','CARTERA','TIPO']).agg({'FECHA_COACTIVO':'min','SALDO':'sum','DIAS_MORA':['min', 'max'],'U_PLACA':'min'})"
   ]
  },
  {
   "cell_type": "code",
   "execution_count": 40,
   "metadata": {},
   "outputs": [],
   "source": [
    "# base_total=pd.concat([ordenada_cor, ordenada_men])\n",
    "base_total=ordenada_cor"
   ]
  },
  {
   "cell_type": "code",
   "execution_count": 41,
   "metadata": {},
   "outputs": [],
   "source": [
    "base_total = base_total.reset_index()"
   ]
  },
  {
   "cell_type": "code",
   "execution_count": 42,
   "metadata": {},
   "outputs": [],
   "source": [
    "base_total.columns = ['IDENTIFICACION_DEUDOR','ID','NOMBRE','SUBCAMPANAPORCLIENTE','CARTERA','TIPO','FECHA_COACTIVA','SALDO','DIAS_MORAmin','DIAS_MORAmax','U_PLACA']"
   ]
  },
  {
   "cell_type": "code",
   "execution_count": 43,
   "metadata": {},
   "outputs": [],
   "source": [
    "base_total.drop_duplicates(['IDENTIFICACION_DEUDOR'],keep='first',inplace=True)"
   ]
  },
  {
   "cell_type": "code",
   "execution_count": 44,
   "metadata": {},
   "outputs": [],
   "source": [
    "base_total=base_total[base_total['IDENTIFICACION_DEUDOR']!='']"
   ]
  },
  {
   "cell_type": "code",
   "execution_count": 45,
   "metadata": {},
   "outputs": [],
   "source": [
    "base_total['GENERACION_CONVENIO']='SI'\n",
    "#base_total.apply(convenio,axis=1)\n",
    "base_total['MORA']=base_total.apply(diasmora,axis=1)"
   ]
  },
  {
   "cell_type": "code",
   "execution_count": 46,
   "metadata": {},
   "outputs": [],
   "source": [
    "base_total = base_total.rename(columns={'ID':'NRO_IDENTIFICACION_CLIENTE'})"
   ]
  },
  {
   "cell_type": "code",
   "execution_count": 47,
   "metadata": {},
   "outputs": [
    {
     "data": {
      "text/html": [
       "<div>\n",
       "<style scoped>\n",
       "    .dataframe tbody tr th:only-of-type {\n",
       "        vertical-align: middle;\n",
       "    }\n",
       "\n",
       "    .dataframe tbody tr th {\n",
       "        vertical-align: top;\n",
       "    }\n",
       "\n",
       "    .dataframe thead th {\n",
       "        text-align: right;\n",
       "    }\n",
       "</style>\n",
       "<table border=\"1\" class=\"dataframe\">\n",
       "  <thead>\n",
       "    <tr style=\"text-align: right;\">\n",
       "      <th></th>\n",
       "      <th>IDENTIFICACION_DEUDOR</th>\n",
       "      <th>NRO_IDENTIFICACION_CLIENTE</th>\n",
       "      <th>NOMBRE</th>\n",
       "      <th>SUBCAMPANAPORCLIENTE</th>\n",
       "      <th>CARTERA</th>\n",
       "      <th>TIPO</th>\n",
       "      <th>FECHA_COACTIVA</th>\n",
       "      <th>SALDO</th>\n",
       "      <th>DIAS_MORAmin</th>\n",
       "      <th>DIAS_MORAmax</th>\n",
       "      <th>U_PLACA</th>\n",
       "      <th>GENERACION_CONVENIO</th>\n",
       "      <th>MORA</th>\n",
       "    </tr>\n",
       "  </thead>\n",
       "  <tbody>\n",
       "    <tr>\n",
       "      <th>0</th>\n",
       "      <td>00042448K</td>\n",
       "      <td>00042448K</td>\n",
       "      <td>ARAGON JUAREZ SERGIO OTTONIEL</td>\n",
       "      <td>MULTAS NUEVAS</td>\n",
       "      <td>CORRIENTE</td>\n",
       "      <td>CED</td>\n",
       "      <td>NO COACTIVA</td>\n",
       "      <td>115.8</td>\n",
       "      <td>155</td>\n",
       "      <td>155</td>\n",
       "      <td>9</td>\n",
       "      <td>SI</td>\n",
       "      <td>MENOR A 180</td>\n",
       "    </tr>\n",
       "    <tr>\n",
       "      <th>1</th>\n",
       "      <td>100025030</td>\n",
       "      <td>0100025030</td>\n",
       "      <td>CRESPO DELGADO JULIO TEODORO</td>\n",
       "      <td>MULTAS NUEVAS</td>\n",
       "      <td>CORRIENTE</td>\n",
       "      <td>CED</td>\n",
       "      <td>NO COACTIVA</td>\n",
       "      <td>19.3</td>\n",
       "      <td>332</td>\n",
       "      <td>332</td>\n",
       "      <td>10</td>\n",
       "      <td>SI</td>\n",
       "      <td>MAYOR A 180</td>\n",
       "    </tr>\n",
       "    <tr>\n",
       "      <th>2</th>\n",
       "      <td>1000400828</td>\n",
       "      <td>1000400828</td>\n",
       "      <td>MORAN MADERA ANGEL MARCELO</td>\n",
       "      <td>MULTAS NUEVAS</td>\n",
       "      <td>CORRIENTE</td>\n",
       "      <td>CED</td>\n",
       "      <td>NO COACTIVA</td>\n",
       "      <td>115.8</td>\n",
       "      <td>205</td>\n",
       "      <td>205</td>\n",
       "      <td>7</td>\n",
       "      <td>SI</td>\n",
       "      <td>MAYOR A 180</td>\n",
       "    </tr>\n",
       "    <tr>\n",
       "      <th>3</th>\n",
       "      <td>1000559797</td>\n",
       "      <td>1000559797</td>\n",
       "      <td>RECALDE ESPINOSA ALFONSO OSWALDO</td>\n",
       "      <td>MULTAS NUEVAS</td>\n",
       "      <td>CORRIENTE</td>\n",
       "      <td>CED</td>\n",
       "      <td>NO COACTIVA</td>\n",
       "      <td>248.8</td>\n",
       "      <td>64</td>\n",
       "      <td>512</td>\n",
       "      <td>10</td>\n",
       "      <td>SI</td>\n",
       "      <td>MENOR A 180</td>\n",
       "    </tr>\n",
       "    <tr>\n",
       "      <th>4</th>\n",
       "      <td>1000584647</td>\n",
       "      <td>1000584647</td>\n",
       "      <td>DELGADO CRIBAN NORBERTO</td>\n",
       "      <td>MULTAS NUEVAS</td>\n",
       "      <td>CORRIENTE</td>\n",
       "      <td>CED</td>\n",
       "      <td>NO COACTIVA</td>\n",
       "      <td>57.9</td>\n",
       "      <td>312</td>\n",
       "      <td>312</td>\n",
       "      <td>2</td>\n",
       "      <td>SI</td>\n",
       "      <td>MAYOR A 180</td>\n",
       "    </tr>\n",
       "  </tbody>\n",
       "</table>\n",
       "</div>"
      ],
      "text/plain": [
       "  IDENTIFICACION_DEUDOR NRO_IDENTIFICACION_CLIENTE  \\\n",
       "0             00042448K                  00042448K   \n",
       "1             100025030                 0100025030   \n",
       "2            1000400828                 1000400828   \n",
       "3            1000559797                 1000559797   \n",
       "4            1000584647                 1000584647   \n",
       "\n",
       "                              NOMBRE SUBCAMPANAPORCLIENTE    CARTERA TIPO  \\\n",
       "0      ARAGON JUAREZ SERGIO OTTONIEL        MULTAS NUEVAS  CORRIENTE  CED   \n",
       "1       CRESPO DELGADO JULIO TEODORO        MULTAS NUEVAS  CORRIENTE  CED   \n",
       "2         MORAN MADERA ANGEL MARCELO        MULTAS NUEVAS  CORRIENTE  CED   \n",
       "3   RECALDE ESPINOSA ALFONSO OSWALDO        MULTAS NUEVAS  CORRIENTE  CED   \n",
       "4           DELGADO CRIBAN NORBERTO         MULTAS NUEVAS  CORRIENTE  CED   \n",
       "\n",
       "  FECHA_COACTIVA  SALDO  DIAS_MORAmin  DIAS_MORAmax U_PLACA  \\\n",
       "0    NO COACTIVA  115.8           155           155       9   \n",
       "1    NO COACTIVA   19.3           332           332      10   \n",
       "2    NO COACTIVA  115.8           205           205       7   \n",
       "3    NO COACTIVA  248.8            64           512      10   \n",
       "4    NO COACTIVA   57.9           312           312       2   \n",
       "\n",
       "  GENERACION_CONVENIO         MORA  \n",
       "0                  SI  MENOR A 180  \n",
       "1                  SI  MAYOR A 180  \n",
       "2                  SI  MAYOR A 180  \n",
       "3                  SI  MENOR A 180  \n",
       "4                  SI  MAYOR A 180  "
      ]
     },
     "execution_count": 47,
     "metadata": {},
     "output_type": "execute_result"
    }
   ],
   "source": [
    "base_total.head()"
   ]
  },
  {
   "cell_type": "code",
   "execution_count": 48,
   "metadata": {},
   "outputs": [],
   "source": [
    "especiales = pd.read_excel(open('DEMOGRAFICOS.xlsx','rb'), sheet_name='BASE ESPECIAL', dtype={\"IDENTIFICACION_DEUDOR\": str})"
   ]
  },
  {
   "cell_type": "code",
   "execution_count": 49,
   "metadata": {},
   "outputs": [],
   "source": [
    "base_total1 = pd.merge(base_total,especiales,on=['IDENTIFICACION_DEUDOR'],how='left')"
   ]
  },
  {
   "cell_type": "code",
   "execution_count": null,
   "metadata": {},
   "outputs": [],
   "source": []
  },
  {
   "cell_type": "markdown",
   "metadata": {},
   "source": [
    "### CRUCES CON LA ASIGNACION Y LAS GESTIONES"
   ]
  },
  {
   "cell_type": "code",
   "execution_count": 50,
   "metadata": {},
   "outputs": [],
   "source": [
    "primercruce = pd.merge(base_total1,gest_ase_porID,on=['NRO_IDENTIFICACION_CLIENTE'],how='left')"
   ]
  },
  {
   "cell_type": "code",
   "execution_count": 51,
   "metadata": {},
   "outputs": [],
   "source": [
    "segundocruce = pd.merge(primercruce,gest_mas_porID,on=['NRO_IDENTIFICACION_CLIENTE'],how='left')"
   ]
  },
  {
   "cell_type": "code",
   "execution_count": 52,
   "metadata": {},
   "outputs": [
    {
     "data": {
      "text/html": [
       "<div>\n",
       "<style scoped>\n",
       "    .dataframe tbody tr th:only-of-type {\n",
       "        vertical-align: middle;\n",
       "    }\n",
       "\n",
       "    .dataframe tbody tr th {\n",
       "        vertical-align: top;\n",
       "    }\n",
       "\n",
       "    .dataframe thead th {\n",
       "        text-align: right;\n",
       "    }\n",
       "</style>\n",
       "<table border=\"1\" class=\"dataframe\">\n",
       "  <thead>\n",
       "    <tr style=\"text-align: right;\">\n",
       "      <th></th>\n",
       "      <th>IDENTIFICACION_DEUDOR</th>\n",
       "      <th>NRO_IDENTIFICACION_CLIENTE</th>\n",
       "      <th>NOMBRE</th>\n",
       "      <th>SUBCAMPANAPORCLIENTE</th>\n",
       "      <th>CARTERA</th>\n",
       "      <th>TIPO</th>\n",
       "      <th>FECHA_COACTIVA</th>\n",
       "      <th>SALDO</th>\n",
       "      <th>DIAS_MORAmin</th>\n",
       "      <th>DIAS_MORAmax</th>\n",
       "      <th>U_PLACA</th>\n",
       "      <th>GENERACION_CONVENIO</th>\n",
       "      <th>MORA</th>\n",
       "      <th>CUOTA_VENCIDA</th>\n",
       "      <th>CALL_MES</th>\n",
       "      <th>CONT_MES</th>\n",
       "      <th>CALL_MESMAS</th>\n",
       "      <th>CONT_MESMAS</th>\n",
       "    </tr>\n",
       "  </thead>\n",
       "  <tbody>\n",
       "    <tr>\n",
       "      <th>0</th>\n",
       "      <td>00042448K</td>\n",
       "      <td>00042448K</td>\n",
       "      <td>ARAGON JUAREZ SERGIO OTTONIEL</td>\n",
       "      <td>MULTAS NUEVAS</td>\n",
       "      <td>CORRIENTE</td>\n",
       "      <td>CED</td>\n",
       "      <td>NO COACTIVA</td>\n",
       "      <td>115.8</td>\n",
       "      <td>155</td>\n",
       "      <td>155</td>\n",
       "      <td>9</td>\n",
       "      <td>SI</td>\n",
       "      <td>MENOR A 180</td>\n",
       "      <td>SI</td>\n",
       "      <td>NaN</td>\n",
       "      <td>NaN</td>\n",
       "      <td>NaN</td>\n",
       "      <td>NaN</td>\n",
       "    </tr>\n",
       "    <tr>\n",
       "      <th>1</th>\n",
       "      <td>100025030</td>\n",
       "      <td>0100025030</td>\n",
       "      <td>CRESPO DELGADO JULIO TEODORO</td>\n",
       "      <td>MULTAS NUEVAS</td>\n",
       "      <td>CORRIENTE</td>\n",
       "      <td>CED</td>\n",
       "      <td>NO COACTIVA</td>\n",
       "      <td>19.3</td>\n",
       "      <td>332</td>\n",
       "      <td>332</td>\n",
       "      <td>10</td>\n",
       "      <td>SI</td>\n",
       "      <td>MAYOR A 180</td>\n",
       "      <td>NaN</td>\n",
       "      <td>LOCALIZADO SIN ACUERDO</td>\n",
       "      <td>TITULAR</td>\n",
       "      <td>NaN</td>\n",
       "      <td>NaN</td>\n",
       "    </tr>\n",
       "    <tr>\n",
       "      <th>2</th>\n",
       "      <td>1000400828</td>\n",
       "      <td>1000400828</td>\n",
       "      <td>MORAN MADERA ANGEL MARCELO</td>\n",
       "      <td>MULTAS NUEVAS</td>\n",
       "      <td>CORRIENTE</td>\n",
       "      <td>CED</td>\n",
       "      <td>NO COACTIVA</td>\n",
       "      <td>115.8</td>\n",
       "      <td>205</td>\n",
       "      <td>205</td>\n",
       "      <td>7</td>\n",
       "      <td>SI</td>\n",
       "      <td>MAYOR A 180</td>\n",
       "      <td>NaN</td>\n",
       "      <td>ACUERDO DE PAGO</td>\n",
       "      <td>TITULAR</td>\n",
       "      <td>NaN</td>\n",
       "      <td>NaN</td>\n",
       "    </tr>\n",
       "    <tr>\n",
       "      <th>3</th>\n",
       "      <td>1000559797</td>\n",
       "      <td>1000559797</td>\n",
       "      <td>RECALDE ESPINOSA ALFONSO OSWALDO</td>\n",
       "      <td>MULTAS NUEVAS</td>\n",
       "      <td>CORRIENTE</td>\n",
       "      <td>CED</td>\n",
       "      <td>NO COACTIVA</td>\n",
       "      <td>248.8</td>\n",
       "      <td>64</td>\n",
       "      <td>512</td>\n",
       "      <td>10</td>\n",
       "      <td>SI</td>\n",
       "      <td>MENOR A 180</td>\n",
       "      <td>NaN</td>\n",
       "      <td>LOCALIZADO SIN ACUERDO</td>\n",
       "      <td>TITULAR</td>\n",
       "      <td>SMS ENVIADO</td>\n",
       "      <td>TITULAR</td>\n",
       "    </tr>\n",
       "    <tr>\n",
       "      <th>4</th>\n",
       "      <td>1000584647</td>\n",
       "      <td>1000584647</td>\n",
       "      <td>DELGADO CRIBAN NORBERTO</td>\n",
       "      <td>MULTAS NUEVAS</td>\n",
       "      <td>CORRIENTE</td>\n",
       "      <td>CED</td>\n",
       "      <td>NO COACTIVA</td>\n",
       "      <td>57.9</td>\n",
       "      <td>312</td>\n",
       "      <td>312</td>\n",
       "      <td>2</td>\n",
       "      <td>SI</td>\n",
       "      <td>MAYOR A 180</td>\n",
       "      <td>NaN</td>\n",
       "      <td>NO CONTESTA</td>\n",
       "      <td>NO CONTACTO</td>\n",
       "      <td>NaN</td>\n",
       "      <td>NaN</td>\n",
       "    </tr>\n",
       "  </tbody>\n",
       "</table>\n",
       "</div>"
      ],
      "text/plain": [
       "  IDENTIFICACION_DEUDOR NRO_IDENTIFICACION_CLIENTE  \\\n",
       "0             00042448K                  00042448K   \n",
       "1             100025030                 0100025030   \n",
       "2            1000400828                 1000400828   \n",
       "3            1000559797                 1000559797   \n",
       "4            1000584647                 1000584647   \n",
       "\n",
       "                              NOMBRE SUBCAMPANAPORCLIENTE    CARTERA TIPO  \\\n",
       "0      ARAGON JUAREZ SERGIO OTTONIEL        MULTAS NUEVAS  CORRIENTE  CED   \n",
       "1       CRESPO DELGADO JULIO TEODORO        MULTAS NUEVAS  CORRIENTE  CED   \n",
       "2         MORAN MADERA ANGEL MARCELO        MULTAS NUEVAS  CORRIENTE  CED   \n",
       "3   RECALDE ESPINOSA ALFONSO OSWALDO        MULTAS NUEVAS  CORRIENTE  CED   \n",
       "4           DELGADO CRIBAN NORBERTO         MULTAS NUEVAS  CORRIENTE  CED   \n",
       "\n",
       "  FECHA_COACTIVA  SALDO  DIAS_MORAmin  DIAS_MORAmax U_PLACA  \\\n",
       "0    NO COACTIVA  115.8           155           155       9   \n",
       "1    NO COACTIVA   19.3           332           332      10   \n",
       "2    NO COACTIVA  115.8           205           205       7   \n",
       "3    NO COACTIVA  248.8            64           512      10   \n",
       "4    NO COACTIVA   57.9           312           312       2   \n",
       "\n",
       "  GENERACION_CONVENIO         MORA CUOTA_VENCIDA                CALL_MES  \\\n",
       "0                  SI  MENOR A 180            SI                     NaN   \n",
       "1                  SI  MAYOR A 180           NaN  LOCALIZADO SIN ACUERDO   \n",
       "2                  SI  MAYOR A 180           NaN         ACUERDO DE PAGO   \n",
       "3                  SI  MENOR A 180           NaN  LOCALIZADO SIN ACUERDO   \n",
       "4                  SI  MAYOR A 180           NaN             NO CONTESTA   \n",
       "\n",
       "      CONT_MES  CALL_MESMAS CONT_MESMAS  \n",
       "0          NaN          NaN         NaN  \n",
       "1      TITULAR          NaN         NaN  \n",
       "2      TITULAR          NaN         NaN  \n",
       "3      TITULAR  SMS ENVIADO     TITULAR  \n",
       "4  NO CONTACTO          NaN         NaN  "
      ]
     },
     "execution_count": 52,
     "metadata": {},
     "output_type": "execute_result"
    }
   ],
   "source": [
    "segundocruce.head()"
   ]
  },
  {
   "cell_type": "code",
   "execution_count": 53,
   "metadata": {},
   "outputs": [
    {
     "data": {
      "text/plain": [
       "34713"
      ]
     },
     "execution_count": 53,
     "metadata": {},
     "output_type": "execute_result"
    }
   ],
   "source": [
    "segundocruce.NRO_IDENTIFICACION_CLIENTE.count()"
   ]
  },
  {
   "cell_type": "code",
   "execution_count": null,
   "metadata": {},
   "outputs": [],
   "source": []
  },
  {
   "cell_type": "markdown",
   "metadata": {},
   "source": [
    "## Consultar numeros de la BD"
   ]
  },
  {
   "cell_type": "markdown",
   "metadata": {},
   "source": [
    "### -Querry para la consulta de telefonos"
   ]
  },
  {
   "cell_type": "code",
   "execution_count": null,
   "metadata": {},
   "outputs": [],
   "source": []
  },
  {
   "cell_type": "code",
   "execution_count": 54,
   "metadata": {},
   "outputs": [],
   "source": [
    "consulta=\"\"\"SELECT \n",
    "                CONCAT(CEDULA) as IDENTIFICACION_DEUDOR,\n",
    "                CONCAT('0',NUMERO) as NUMERO,\n",
    "                CASE CONTACTO\n",
    "                    WHEN '1' THEN 1\n",
    "                    WHEN '2' THEN 2\n",
    "                    WHEN '3' THEN 5\n",
    "                    WHEN '4' THEN 4\n",
    "                    WHEN '5' THEN 3\n",
    "                    WHEN ' ' THEN 3\n",
    "                    WHEN '' THEN 3\n",
    "                    WHEN 'TITULAR' THEN 1\n",
    "                    WHEN 'TERCERO' THEN 2\n",
    "                    WHEN 'EQUIVOCADO' THEN 5\n",
    "                    WHEN 'NO CONTACTO' THEN 4\n",
    "                    WHEN NULL THEN 3\n",
    "                    ELSE  3\n",
    "                END  AS  dueno\n",
    "            FROM\n",
    "                TELEFONICOS_NUMEROS.TELEFONOS  HAVING dueno IN (1,2,5)  ORDER BY dueno;\"\"\""
   ]
  },
  {
   "cell_type": "code",
   "execution_count": 55,
   "metadata": {},
   "outputs": [],
   "source": [
    "DEMO=pd.read_sql(consulta, con=db)"
   ]
  },
  {
   "cell_type": "code",
   "execution_count": 56,
   "metadata": {},
   "outputs": [
    {
     "data": {
      "text/plain": [
       "281156"
      ]
     },
     "execution_count": 56,
     "metadata": {},
     "output_type": "execute_result"
    }
   ],
   "source": [
    "DEMO.IDENTIFICACION_DEUDOR.count()"
   ]
  },
  {
   "cell_type": "code",
   "execution_count": 57,
   "metadata": {},
   "outputs": [],
   "source": [
    "# DEMOS='DEMOGRAFICOS TOTALES.xlsx'\n",
    "# writer = pd.ExcelWriter(DEMOS, engine='xlsxwriter')\n",
    "# DEMO.to_excel(writer,sheet_name='DEMO')\n",
    "# worksheet = writer.sheets['DEMO']\n",
    "# writer.save()"
   ]
  },
  {
   "cell_type": "code",
   "execution_count": 58,
   "metadata": {},
   "outputs": [
    {
     "data": {
      "text/html": [
       "<div>\n",
       "<style scoped>\n",
       "    .dataframe tbody tr th:only-of-type {\n",
       "        vertical-align: middle;\n",
       "    }\n",
       "\n",
       "    .dataframe tbody tr th {\n",
       "        vertical-align: top;\n",
       "    }\n",
       "\n",
       "    .dataframe thead th {\n",
       "        text-align: right;\n",
       "    }\n",
       "</style>\n",
       "<table border=\"1\" class=\"dataframe\">\n",
       "  <thead>\n",
       "    <tr style=\"text-align: right;\">\n",
       "      <th></th>\n",
       "      <th>IDENTIFICACION_DEUDOR</th>\n",
       "      <th>NUMERO</th>\n",
       "      <th>dueno</th>\n",
       "    </tr>\n",
       "  </thead>\n",
       "  <tbody>\n",
       "    <tr>\n",
       "      <th>0</th>\n",
       "      <td></td>\n",
       "      <td>042000000</td>\n",
       "      <td>1</td>\n",
       "    </tr>\n",
       "    <tr>\n",
       "      <th>1</th>\n",
       "      <td>0001305593442</td>\n",
       "      <td>04275191</td>\n",
       "      <td>1</td>\n",
       "    </tr>\n",
       "    <tr>\n",
       "      <th>2</th>\n",
       "      <td>0917128589</td>\n",
       "      <td>0992221846</td>\n",
       "      <td>1</td>\n",
       "    </tr>\n",
       "    <tr>\n",
       "      <th>3</th>\n",
       "      <td>0C6J25T3L5</td>\n",
       "      <td>052585378</td>\n",
       "      <td>1</td>\n",
       "    </tr>\n",
       "    <tr>\n",
       "      <th>4</th>\n",
       "      <td>0G55941427</td>\n",
       "      <td>0991300718</td>\n",
       "      <td>1</td>\n",
       "    </tr>\n",
       "  </tbody>\n",
       "</table>\n",
       "</div>"
      ],
      "text/plain": [
       "  IDENTIFICACION_DEUDOR      NUMERO  dueno\n",
       "0                         042000000      1\n",
       "1         0001305593442    04275191      1\n",
       "2            0917128589  0992221846      1\n",
       "3            0C6J25T3L5   052585378      1\n",
       "4            0G55941427  0991300718      1"
      ]
     },
     "execution_count": 58,
     "metadata": {},
     "output_type": "execute_result"
    }
   ],
   "source": [
    "DEMO.head()"
   ]
  },
  {
   "cell_type": "code",
   "execution_count": 59,
   "metadata": {},
   "outputs": [],
   "source": [
    "leer_demografico=pd.read_excel(open('DEMOGRAFICOS.xlsx','rb'), sheet_name='DEMOGRAFICOS', dtype={\"IDENTIFICACION_DEUDOR\": str,\"NUMERO\":str,'DEMO':str})"
   ]
  },
  {
   "cell_type": "code",
   "execution_count": 60,
   "metadata": {},
   "outputs": [
    {
     "data": {
      "text/html": [
       "<div>\n",
       "<style scoped>\n",
       "    .dataframe tbody tr th:only-of-type {\n",
       "        vertical-align: middle;\n",
       "    }\n",
       "\n",
       "    .dataframe tbody tr th {\n",
       "        vertical-align: top;\n",
       "    }\n",
       "\n",
       "    .dataframe thead th {\n",
       "        text-align: right;\n",
       "    }\n",
       "</style>\n",
       "<table border=\"1\" class=\"dataframe\">\n",
       "  <thead>\n",
       "    <tr style=\"text-align: right;\">\n",
       "      <th></th>\n",
       "      <th>IDENTIFICACION_DEUDOR</th>\n",
       "      <th>DEMO</th>\n",
       "      <th>ESTADO</th>\n",
       "      <th>DEFINICION</th>\n",
       "      <th>NUMERO</th>\n",
       "      <th>NUEVO</th>\n",
       "    </tr>\n",
       "  </thead>\n",
       "  <tbody>\n",
       "    <tr>\n",
       "      <th>0</th>\n",
       "      <td>425805</td>\n",
       "      <td>42426389</td>\n",
       "      <td>CORRECTO</td>\n",
       "      <td>TELEFONO</td>\n",
       "      <td>042426389</td>\n",
       "      <td>NO</td>\n",
       "    </tr>\n",
       "    <tr>\n",
       "      <th>1</th>\n",
       "      <td>102618907</td>\n",
       "      <td>824921</td>\n",
       "      <td>CORRECTO</td>\n",
       "      <td>TELEFONO</td>\n",
       "      <td>042824921</td>\n",
       "      <td>NO</td>\n",
       "    </tr>\n",
       "    <tr>\n",
       "      <th>2</th>\n",
       "      <td>102689486</td>\n",
       "      <td>72831423</td>\n",
       "      <td>CORRECTO</td>\n",
       "      <td>TELEFONO</td>\n",
       "      <td>072831423</td>\n",
       "      <td>NO</td>\n",
       "    </tr>\n",
       "    <tr>\n",
       "      <th>3</th>\n",
       "      <td>102969953</td>\n",
       "      <td>22572581</td>\n",
       "      <td>CORRECTO</td>\n",
       "      <td>TELEFONO</td>\n",
       "      <td>022572581</td>\n",
       "      <td>NO</td>\n",
       "    </tr>\n",
       "    <tr>\n",
       "      <th>4</th>\n",
       "      <td>201862992</td>\n",
       "      <td>42290540</td>\n",
       "      <td>CORRECTO</td>\n",
       "      <td>TELEFONO</td>\n",
       "      <td>042290540</td>\n",
       "      <td>NO</td>\n",
       "    </tr>\n",
       "  </tbody>\n",
       "</table>\n",
       "</div>"
      ],
      "text/plain": [
       "  IDENTIFICACION_DEUDOR      DEMO    ESTADO DEFINICION     NUMERO NUEVO\n",
       "0                425805  42426389  CORRECTO   TELEFONO  042426389    NO\n",
       "1             102618907    824921  CORRECTO   TELEFONO  042824921    NO\n",
       "2             102689486  72831423  CORRECTO   TELEFONO  072831423    NO\n",
       "3             102969953  22572581  CORRECTO   TELEFONO  022572581    NO\n",
       "4             201862992  42290540  CORRECTO   TELEFONO  042290540    NO"
      ]
     },
     "execution_count": 60,
     "metadata": {},
     "output_type": "execute_result"
    }
   ],
   "source": [
    "leer_demografico.head()"
   ]
  },
  {
   "cell_type": "code",
   "execution_count": 61,
   "metadata": {},
   "outputs": [],
   "source": [
    "cruce_num = pd.merge(segundocruce,leer_demografico,on='IDENTIFICACION_DEUDOR',how='left')"
   ]
  },
  {
   "cell_type": "code",
   "execution_count": 62,
   "metadata": {},
   "outputs": [],
   "source": [
    "cruce_num2 = pd.merge(cruce_num,DEMO,on=['IDENTIFICACION_DEUDOR','NUMERO'],how='left')\n",
    "cruce_num2['dueno'].replace(to_replace=[1,2,5],value=['TITULAR','TERCERO','EQUIVOCADO'],inplace=True)"
   ]
  },
  {
   "cell_type": "code",
   "execution_count": 63,
   "metadata": {},
   "outputs": [],
   "source": [
    "cruce_num2.drop_duplicates(['NUMERO','IDENTIFICACION_DEUDOR'], keep='first',inplace=True)"
   ]
  },
  {
   "cell_type": "code",
   "execution_count": 64,
   "metadata": {},
   "outputs": [
    {
     "data": {
      "text/html": [
       "<div>\n",
       "<style scoped>\n",
       "    .dataframe tbody tr th:only-of-type {\n",
       "        vertical-align: middle;\n",
       "    }\n",
       "\n",
       "    .dataframe tbody tr th {\n",
       "        vertical-align: top;\n",
       "    }\n",
       "\n",
       "    .dataframe thead th {\n",
       "        text-align: right;\n",
       "    }\n",
       "</style>\n",
       "<table border=\"1\" class=\"dataframe\">\n",
       "  <thead>\n",
       "    <tr style=\"text-align: right;\">\n",
       "      <th></th>\n",
       "      <th>IDENTIFICACION_DEUDOR</th>\n",
       "      <th>NRO_IDENTIFICACION_CLIENTE</th>\n",
       "      <th>NOMBRE</th>\n",
       "      <th>SUBCAMPANAPORCLIENTE</th>\n",
       "      <th>CARTERA</th>\n",
       "      <th>TIPO</th>\n",
       "      <th>FECHA_COACTIVA</th>\n",
       "      <th>SALDO</th>\n",
       "      <th>DIAS_MORAmin</th>\n",
       "      <th>DIAS_MORAmax</th>\n",
       "      <th>...</th>\n",
       "      <th>CALL_MES</th>\n",
       "      <th>CONT_MES</th>\n",
       "      <th>CALL_MESMAS</th>\n",
       "      <th>CONT_MESMAS</th>\n",
       "      <th>DEMO</th>\n",
       "      <th>ESTADO</th>\n",
       "      <th>DEFINICION</th>\n",
       "      <th>NUMERO</th>\n",
       "      <th>NUEVO</th>\n",
       "      <th>dueno</th>\n",
       "    </tr>\n",
       "  </thead>\n",
       "  <tbody>\n",
       "    <tr>\n",
       "      <th>0</th>\n",
       "      <td>00042448K</td>\n",
       "      <td>00042448K</td>\n",
       "      <td>ARAGON JUAREZ SERGIO OTTONIEL</td>\n",
       "      <td>MULTAS NUEVAS</td>\n",
       "      <td>CORRIENTE</td>\n",
       "      <td>CED</td>\n",
       "      <td>NO COACTIVA</td>\n",
       "      <td>115.8</td>\n",
       "      <td>155</td>\n",
       "      <td>155</td>\n",
       "      <td>...</td>\n",
       "      <td>NaN</td>\n",
       "      <td>NaN</td>\n",
       "      <td>NaN</td>\n",
       "      <td>NaN</td>\n",
       "      <td>NaN</td>\n",
       "      <td>NaN</td>\n",
       "      <td>NaN</td>\n",
       "      <td>NaN</td>\n",
       "      <td>NaN</td>\n",
       "      <td>NaN</td>\n",
       "    </tr>\n",
       "    <tr>\n",
       "      <th>1</th>\n",
       "      <td>100025030</td>\n",
       "      <td>0100025030</td>\n",
       "      <td>CRESPO DELGADO JULIO TEODORO</td>\n",
       "      <td>MULTAS NUEVAS</td>\n",
       "      <td>CORRIENTE</td>\n",
       "      <td>CED</td>\n",
       "      <td>NO COACTIVA</td>\n",
       "      <td>19.3</td>\n",
       "      <td>332</td>\n",
       "      <td>332</td>\n",
       "      <td>...</td>\n",
       "      <td>LOCALIZADO SIN ACUERDO</td>\n",
       "      <td>TITULAR</td>\n",
       "      <td>NaN</td>\n",
       "      <td>NaN</td>\n",
       "      <td>42018327</td>\n",
       "      <td>CORRECTO</td>\n",
       "      <td>TELEFONO</td>\n",
       "      <td>042018327</td>\n",
       "      <td>NO</td>\n",
       "      <td>TITULAR</td>\n",
       "    </tr>\n",
       "    <tr>\n",
       "      <th>2</th>\n",
       "      <td>100025030</td>\n",
       "      <td>0100025030</td>\n",
       "      <td>CRESPO DELGADO JULIO TEODORO</td>\n",
       "      <td>MULTAS NUEVAS</td>\n",
       "      <td>CORRIENTE</td>\n",
       "      <td>CED</td>\n",
       "      <td>NO COACTIVA</td>\n",
       "      <td>19.3</td>\n",
       "      <td>332</td>\n",
       "      <td>332</td>\n",
       "      <td>...</td>\n",
       "      <td>LOCALIZADO SIN ACUERDO</td>\n",
       "      <td>TITULAR</td>\n",
       "      <td>NaN</td>\n",
       "      <td>NaN</td>\n",
       "      <td>990806079</td>\n",
       "      <td>CORRECTO</td>\n",
       "      <td>CELULAR</td>\n",
       "      <td>0990806079</td>\n",
       "      <td>NO</td>\n",
       "      <td>NaN</td>\n",
       "    </tr>\n",
       "    <tr>\n",
       "      <th>3</th>\n",
       "      <td>100025030</td>\n",
       "      <td>0100025030</td>\n",
       "      <td>CRESPO DELGADO JULIO TEODORO</td>\n",
       "      <td>MULTAS NUEVAS</td>\n",
       "      <td>CORRIENTE</td>\n",
       "      <td>CED</td>\n",
       "      <td>NO COACTIVA</td>\n",
       "      <td>19.3</td>\n",
       "      <td>332</td>\n",
       "      <td>332</td>\n",
       "      <td>...</td>\n",
       "      <td>LOCALIZADO SIN ACUERDO</td>\n",
       "      <td>TITULAR</td>\n",
       "      <td>NaN</td>\n",
       "      <td>NaN</td>\n",
       "      <td>967093439</td>\n",
       "      <td>CORRECTO</td>\n",
       "      <td>CELULAR</td>\n",
       "      <td>0967093439</td>\n",
       "      <td>NO</td>\n",
       "      <td>NaN</td>\n",
       "    </tr>\n",
       "    <tr>\n",
       "      <th>4</th>\n",
       "      <td>1000400828</td>\n",
       "      <td>1000400828</td>\n",
       "      <td>MORAN MADERA ANGEL MARCELO</td>\n",
       "      <td>MULTAS NUEVAS</td>\n",
       "      <td>CORRIENTE</td>\n",
       "      <td>CED</td>\n",
       "      <td>NO COACTIVA</td>\n",
       "      <td>115.8</td>\n",
       "      <td>205</td>\n",
       "      <td>205</td>\n",
       "      <td>...</td>\n",
       "      <td>ACUERDO DE PAGO</td>\n",
       "      <td>TITULAR</td>\n",
       "      <td>NaN</td>\n",
       "      <td>NaN</td>\n",
       "      <td>22239424</td>\n",
       "      <td>CORRECTO</td>\n",
       "      <td>TELEFONO</td>\n",
       "      <td>022239424</td>\n",
       "      <td>2019-03-08 00:00:00</td>\n",
       "      <td>TITULAR</td>\n",
       "    </tr>\n",
       "  </tbody>\n",
       "</table>\n",
       "<p>5 rows × 24 columns</p>\n",
       "</div>"
      ],
      "text/plain": [
       "  IDENTIFICACION_DEUDOR NRO_IDENTIFICACION_CLIENTE  \\\n",
       "0             00042448K                  00042448K   \n",
       "1             100025030                 0100025030   \n",
       "2             100025030                 0100025030   \n",
       "3             100025030                 0100025030   \n",
       "4            1000400828                 1000400828   \n",
       "\n",
       "                           NOMBRE SUBCAMPANAPORCLIENTE    CARTERA TIPO  \\\n",
       "0   ARAGON JUAREZ SERGIO OTTONIEL        MULTAS NUEVAS  CORRIENTE  CED   \n",
       "1    CRESPO DELGADO JULIO TEODORO        MULTAS NUEVAS  CORRIENTE  CED   \n",
       "2    CRESPO DELGADO JULIO TEODORO        MULTAS NUEVAS  CORRIENTE  CED   \n",
       "3    CRESPO DELGADO JULIO TEODORO        MULTAS NUEVAS  CORRIENTE  CED   \n",
       "4      MORAN MADERA ANGEL MARCELO        MULTAS NUEVAS  CORRIENTE  CED   \n",
       "\n",
       "  FECHA_COACTIVA  SALDO  DIAS_MORAmin  DIAS_MORAmax   ...     \\\n",
       "0    NO COACTIVA  115.8           155           155   ...      \n",
       "1    NO COACTIVA   19.3           332           332   ...      \n",
       "2    NO COACTIVA   19.3           332           332   ...      \n",
       "3    NO COACTIVA   19.3           332           332   ...      \n",
       "4    NO COACTIVA  115.8           205           205   ...      \n",
       "\n",
       "                 CALL_MES CONT_MES CALL_MESMAS CONT_MESMAS       DEMO  \\\n",
       "0                     NaN      NaN         NaN         NaN        NaN   \n",
       "1  LOCALIZADO SIN ACUERDO  TITULAR         NaN         NaN   42018327   \n",
       "2  LOCALIZADO SIN ACUERDO  TITULAR         NaN         NaN  990806079   \n",
       "3  LOCALIZADO SIN ACUERDO  TITULAR         NaN         NaN  967093439   \n",
       "4         ACUERDO DE PAGO  TITULAR         NaN         NaN   22239424   \n",
       "\n",
       "     ESTADO DEFINICION      NUMERO                NUEVO    dueno  \n",
       "0       NaN        NaN         NaN                  NaN      NaN  \n",
       "1  CORRECTO   TELEFONO   042018327                   NO  TITULAR  \n",
       "2  CORRECTO    CELULAR  0990806079                   NO      NaN  \n",
       "3  CORRECTO    CELULAR  0967093439                   NO      NaN  \n",
       "4  CORRECTO   TELEFONO   022239424  2019-03-08 00:00:00  TITULAR  \n",
       "\n",
       "[5 rows x 24 columns]"
      ]
     },
     "execution_count": 64,
     "metadata": {},
     "output_type": "execute_result"
    }
   ],
   "source": [
    "cruce_num2.head()"
   ]
  },
  {
   "cell_type": "code",
   "execution_count": null,
   "metadata": {},
   "outputs": [],
   "source": []
  },
  {
   "cell_type": "code",
   "execution_count": 65,
   "metadata": {},
   "outputs": [],
   "source": [
    "cruce_uno = pd.merge(cruce_num2,gest_ase_porID_DEM,on=['NRO_IDENTIFICACION_CLIENTE','NUMERO'],how='left')\n",
    "cruce_dos = pd.merge(cruce_uno,gest_mas_porID_DEM,on=['NRO_IDENTIFICACION_CLIENTE','NUMERO'],how='left')"
   ]
  },
  {
   "cell_type": "code",
   "execution_count": 66,
   "metadata": {},
   "outputs": [
    {
     "data": {
      "text/html": [
       "<div>\n",
       "<style scoped>\n",
       "    .dataframe tbody tr th:only-of-type {\n",
       "        vertical-align: middle;\n",
       "    }\n",
       "\n",
       "    .dataframe tbody tr th {\n",
       "        vertical-align: top;\n",
       "    }\n",
       "\n",
       "    .dataframe thead th {\n",
       "        text-align: right;\n",
       "    }\n",
       "</style>\n",
       "<table border=\"1\" class=\"dataframe\">\n",
       "  <thead>\n",
       "    <tr style=\"text-align: right;\">\n",
       "      <th></th>\n",
       "      <th>IDENTIFICACION_DEUDOR</th>\n",
       "      <th>NRO_IDENTIFICACION_CLIENTE</th>\n",
       "      <th>NOMBRE</th>\n",
       "      <th>SUBCAMPANAPORCLIENTE</th>\n",
       "      <th>CARTERA</th>\n",
       "      <th>TIPO</th>\n",
       "      <th>FECHA_COACTIVA</th>\n",
       "      <th>SALDO</th>\n",
       "      <th>DIAS_MORAmin</th>\n",
       "      <th>DIAS_MORAmax</th>\n",
       "      <th>...</th>\n",
       "      <th>DEMO</th>\n",
       "      <th>ESTADO</th>\n",
       "      <th>DEFINICION</th>\n",
       "      <th>NUMERO</th>\n",
       "      <th>NUEVO</th>\n",
       "      <th>dueno</th>\n",
       "      <th>CALL_MESTEL</th>\n",
       "      <th>CONT_MESTEL</th>\n",
       "      <th>CALL_MESMASTEL</th>\n",
       "      <th>CONT_MESMASTEL</th>\n",
       "    </tr>\n",
       "  </thead>\n",
       "  <tbody>\n",
       "    <tr>\n",
       "      <th>0</th>\n",
       "      <td>00042448K</td>\n",
       "      <td>00042448K</td>\n",
       "      <td>ARAGON JUAREZ SERGIO OTTONIEL</td>\n",
       "      <td>MULTAS NUEVAS</td>\n",
       "      <td>CORRIENTE</td>\n",
       "      <td>CED</td>\n",
       "      <td>NO COACTIVA</td>\n",
       "      <td>115.8</td>\n",
       "      <td>155</td>\n",
       "      <td>155</td>\n",
       "      <td>...</td>\n",
       "      <td>NaN</td>\n",
       "      <td>NaN</td>\n",
       "      <td>NaN</td>\n",
       "      <td>NaN</td>\n",
       "      <td>NaN</td>\n",
       "      <td>NaN</td>\n",
       "      <td>NaN</td>\n",
       "      <td>NaN</td>\n",
       "      <td>NaN</td>\n",
       "      <td>NaN</td>\n",
       "    </tr>\n",
       "    <tr>\n",
       "      <th>1</th>\n",
       "      <td>100025030</td>\n",
       "      <td>0100025030</td>\n",
       "      <td>CRESPO DELGADO JULIO TEODORO</td>\n",
       "      <td>MULTAS NUEVAS</td>\n",
       "      <td>CORRIENTE</td>\n",
       "      <td>CED</td>\n",
       "      <td>NO COACTIVA</td>\n",
       "      <td>19.3</td>\n",
       "      <td>332</td>\n",
       "      <td>332</td>\n",
       "      <td>...</td>\n",
       "      <td>42018327</td>\n",
       "      <td>CORRECTO</td>\n",
       "      <td>TELEFONO</td>\n",
       "      <td>042018327</td>\n",
       "      <td>NO</td>\n",
       "      <td>TITULAR</td>\n",
       "      <td>LOCALIZADO SIN ACUERDO</td>\n",
       "      <td>TITULAR</td>\n",
       "      <td>NaN</td>\n",
       "      <td>NaN</td>\n",
       "    </tr>\n",
       "    <tr>\n",
       "      <th>2</th>\n",
       "      <td>100025030</td>\n",
       "      <td>0100025030</td>\n",
       "      <td>CRESPO DELGADO JULIO TEODORO</td>\n",
       "      <td>MULTAS NUEVAS</td>\n",
       "      <td>CORRIENTE</td>\n",
       "      <td>CED</td>\n",
       "      <td>NO COACTIVA</td>\n",
       "      <td>19.3</td>\n",
       "      <td>332</td>\n",
       "      <td>332</td>\n",
       "      <td>...</td>\n",
       "      <td>990806079</td>\n",
       "      <td>CORRECTO</td>\n",
       "      <td>CELULAR</td>\n",
       "      <td>0990806079</td>\n",
       "      <td>NO</td>\n",
       "      <td>NaN</td>\n",
       "      <td>NaN</td>\n",
       "      <td>NaN</td>\n",
       "      <td>NaN</td>\n",
       "      <td>NaN</td>\n",
       "    </tr>\n",
       "    <tr>\n",
       "      <th>3</th>\n",
       "      <td>100025030</td>\n",
       "      <td>0100025030</td>\n",
       "      <td>CRESPO DELGADO JULIO TEODORO</td>\n",
       "      <td>MULTAS NUEVAS</td>\n",
       "      <td>CORRIENTE</td>\n",
       "      <td>CED</td>\n",
       "      <td>NO COACTIVA</td>\n",
       "      <td>19.3</td>\n",
       "      <td>332</td>\n",
       "      <td>332</td>\n",
       "      <td>...</td>\n",
       "      <td>967093439</td>\n",
       "      <td>CORRECTO</td>\n",
       "      <td>CELULAR</td>\n",
       "      <td>0967093439</td>\n",
       "      <td>NO</td>\n",
       "      <td>NaN</td>\n",
       "      <td>NaN</td>\n",
       "      <td>NaN</td>\n",
       "      <td>NaN</td>\n",
       "      <td>NaN</td>\n",
       "    </tr>\n",
       "    <tr>\n",
       "      <th>4</th>\n",
       "      <td>1000400828</td>\n",
       "      <td>1000400828</td>\n",
       "      <td>MORAN MADERA ANGEL MARCELO</td>\n",
       "      <td>MULTAS NUEVAS</td>\n",
       "      <td>CORRIENTE</td>\n",
       "      <td>CED</td>\n",
       "      <td>NO COACTIVA</td>\n",
       "      <td>115.8</td>\n",
       "      <td>205</td>\n",
       "      <td>205</td>\n",
       "      <td>...</td>\n",
       "      <td>22239424</td>\n",
       "      <td>CORRECTO</td>\n",
       "      <td>TELEFONO</td>\n",
       "      <td>022239424</td>\n",
       "      <td>2019-03-08 00:00:00</td>\n",
       "      <td>TITULAR</td>\n",
       "      <td>ACUERDO DE PAGO</td>\n",
       "      <td>TITULAR</td>\n",
       "      <td>NaN</td>\n",
       "      <td>NaN</td>\n",
       "    </tr>\n",
       "  </tbody>\n",
       "</table>\n",
       "<p>5 rows × 28 columns</p>\n",
       "</div>"
      ],
      "text/plain": [
       "  IDENTIFICACION_DEUDOR NRO_IDENTIFICACION_CLIENTE  \\\n",
       "0             00042448K                  00042448K   \n",
       "1             100025030                 0100025030   \n",
       "2             100025030                 0100025030   \n",
       "3             100025030                 0100025030   \n",
       "4            1000400828                 1000400828   \n",
       "\n",
       "                           NOMBRE SUBCAMPANAPORCLIENTE    CARTERA TIPO  \\\n",
       "0   ARAGON JUAREZ SERGIO OTTONIEL        MULTAS NUEVAS  CORRIENTE  CED   \n",
       "1    CRESPO DELGADO JULIO TEODORO        MULTAS NUEVAS  CORRIENTE  CED   \n",
       "2    CRESPO DELGADO JULIO TEODORO        MULTAS NUEVAS  CORRIENTE  CED   \n",
       "3    CRESPO DELGADO JULIO TEODORO        MULTAS NUEVAS  CORRIENTE  CED   \n",
       "4      MORAN MADERA ANGEL MARCELO        MULTAS NUEVAS  CORRIENTE  CED   \n",
       "\n",
       "  FECHA_COACTIVA  SALDO  DIAS_MORAmin  DIAS_MORAmax      ...             DEMO  \\\n",
       "0    NO COACTIVA  115.8           155           155      ...              NaN   \n",
       "1    NO COACTIVA   19.3           332           332      ...         42018327   \n",
       "2    NO COACTIVA   19.3           332           332      ...        990806079   \n",
       "3    NO COACTIVA   19.3           332           332      ...        967093439   \n",
       "4    NO COACTIVA  115.8           205           205      ...         22239424   \n",
       "\n",
       "     ESTADO DEFINICION      NUMERO                NUEVO    dueno  \\\n",
       "0       NaN        NaN         NaN                  NaN      NaN   \n",
       "1  CORRECTO   TELEFONO   042018327                   NO  TITULAR   \n",
       "2  CORRECTO    CELULAR  0990806079                   NO      NaN   \n",
       "3  CORRECTO    CELULAR  0967093439                   NO      NaN   \n",
       "4  CORRECTO   TELEFONO   022239424  2019-03-08 00:00:00  TITULAR   \n",
       "\n",
       "              CALL_MESTEL CONT_MESTEL CALL_MESMASTEL CONT_MESMASTEL  \n",
       "0                     NaN         NaN            NaN            NaN  \n",
       "1  LOCALIZADO SIN ACUERDO     TITULAR            NaN            NaN  \n",
       "2                     NaN         NaN            NaN            NaN  \n",
       "3                     NaN         NaN            NaN            NaN  \n",
       "4         ACUERDO DE PAGO     TITULAR            NaN            NaN  \n",
       "\n",
       "[5 rows x 28 columns]"
      ]
     },
     "execution_count": 66,
     "metadata": {},
     "output_type": "execute_result"
    }
   ],
   "source": [
    "cruce_dos.head()"
   ]
  },
  {
   "cell_type": "code",
   "execution_count": null,
   "metadata": {},
   "outputs": [],
   "source": []
  },
  {
   "cell_type": "code",
   "execution_count": 67,
   "metadata": {},
   "outputs": [],
   "source": [
    "asignacion_actual_dem['ASIGNADO']='SI'\n",
    "asig_demo=asignacion_actual_dem[['IDENTIFICACION_DEUDOR','TELEFONO','ASIGNADO']]"
   ]
  },
  {
   "cell_type": "code",
   "execution_count": 68,
   "metadata": {},
   "outputs": [],
   "source": [
    "asig_demo = asig_demo.rename(columns={'TELEFONO':'NUMERO'})"
   ]
  },
  {
   "cell_type": "code",
   "execution_count": null,
   "metadata": {},
   "outputs": [],
   "source": []
  },
  {
   "cell_type": "code",
   "execution_count": 69,
   "metadata": {},
   "outputs": [
    {
     "data": {
      "text/html": [
       "<div>\n",
       "<style scoped>\n",
       "    .dataframe tbody tr th:only-of-type {\n",
       "        vertical-align: middle;\n",
       "    }\n",
       "\n",
       "    .dataframe tbody tr th {\n",
       "        vertical-align: top;\n",
       "    }\n",
       "\n",
       "    .dataframe thead th {\n",
       "        text-align: right;\n",
       "    }\n",
       "</style>\n",
       "<table border=\"1\" class=\"dataframe\">\n",
       "  <thead>\n",
       "    <tr style=\"text-align: right;\">\n",
       "      <th></th>\n",
       "      <th>IDENTIFICACION_DEUDOR</th>\n",
       "      <th>NUMERO</th>\n",
       "      <th>ASIGNADO</th>\n",
       "    </tr>\n",
       "  </thead>\n",
       "  <tbody>\n",
       "    <tr>\n",
       "      <th>0</th>\n",
       "      <td>3778859</td>\n",
       "      <td>042457665</td>\n",
       "      <td>SI</td>\n",
       "    </tr>\n",
       "    <tr>\n",
       "      <th>1</th>\n",
       "      <td>3778859</td>\n",
       "      <td>0980460504</td>\n",
       "      <td>SI</td>\n",
       "    </tr>\n",
       "    <tr>\n",
       "      <th>2</th>\n",
       "      <td>5216855</td>\n",
       "      <td>042733103</td>\n",
       "      <td>SI</td>\n",
       "    </tr>\n",
       "    <tr>\n",
       "      <th>3</th>\n",
       "      <td>5216855</td>\n",
       "      <td>0960503333</td>\n",
       "      <td>SI</td>\n",
       "    </tr>\n",
       "    <tr>\n",
       "      <th>4</th>\n",
       "      <td>5216855</td>\n",
       "      <td>0999274687</td>\n",
       "      <td>SI</td>\n",
       "    </tr>\n",
       "  </tbody>\n",
       "</table>\n",
       "</div>"
      ],
      "text/plain": [
       "  IDENTIFICACION_DEUDOR      NUMERO ASIGNADO\n",
       "0               3778859   042457665       SI\n",
       "1               3778859  0980460504       SI\n",
       "2               5216855   042733103       SI\n",
       "3               5216855  0960503333       SI\n",
       "4               5216855  0999274687       SI"
      ]
     },
     "execution_count": 69,
     "metadata": {},
     "output_type": "execute_result"
    }
   ],
   "source": [
    "asig_demo.head()"
   ]
  },
  {
   "cell_type": "code",
   "execution_count": 70,
   "metadata": {},
   "outputs": [],
   "source": [
    "verificacion = pd.merge(cruce_dos,asig_demo,on=['IDENTIFICACION_DEUDOR','NUMERO'],how='left')"
   ]
  },
  {
   "cell_type": "code",
   "execution_count": 71,
   "metadata": {},
   "outputs": [],
   "source": [
    "verificacion.drop_duplicates(['IDENTIFICACION_DEUDOR','NUMERO'], keep='first',inplace=True)"
   ]
  },
  {
   "cell_type": "code",
   "execution_count": 72,
   "metadata": {},
   "outputs": [
    {
     "data": {
      "text/plain": [
       "Index(['IDENTIFICACION_DEUDOR', 'NRO_IDENTIFICACION_CLIENTE', 'NOMBRE',\n",
       "       'SUBCAMPANAPORCLIENTE', 'CARTERA', 'TIPO', 'FECHA_COACTIVA', 'SALDO',\n",
       "       'DIAS_MORAmin', 'DIAS_MORAmax', 'U_PLACA', 'GENERACION_CONVENIO',\n",
       "       'MORA', 'CUOTA_VENCIDA', 'CALL_MES', 'CONT_MES', 'CALL_MESMAS',\n",
       "       'CONT_MESMAS', 'DEMO', 'ESTADO', 'DEFINICION', 'NUMERO', 'NUEVO',\n",
       "       'dueno', 'CALL_MESTEL', 'CONT_MESTEL', 'CALL_MESMASTEL',\n",
       "       'CONT_MESMASTEL', 'ASIGNADO'],\n",
       "      dtype='object')"
      ]
     },
     "execution_count": 72,
     "metadata": {},
     "output_type": "execute_result"
    }
   ],
   "source": [
    "verificacion.columns"
   ]
  },
  {
   "cell_type": "code",
   "execution_count": 73,
   "metadata": {},
   "outputs": [],
   "source": [
    "verificacion = verificacion.rename(columns={'NRO_IDENTIFICACION_CLIENTE':'CED'})"
   ]
  },
  {
   "cell_type": "code",
   "execution_count": 74,
   "metadata": {},
   "outputs": [],
   "source": [
    "def order(frame,var):\n",
    "    if type(var) is str:\n",
    "        var = [var] #let the command take a string or list\n",
    "    varlist =[w for w in frame.columns if w not in var]\n",
    "    frame = frame[var+varlist]\n",
    "    return frame"
   ]
  },
  {
   "cell_type": "code",
   "execution_count": 75,
   "metadata": {},
   "outputs": [],
   "source": [
    "ordenColumn = ['NUMERO','NOMBRE','CED','SALDO','SUBCAMPANAPORCLIENTE','FECHA_COACTIVA','CARTERA','TIPO','DIAS_MORAmin','DIAS_MORAmax','U_PLACA']"
   ]
  },
  {
   "cell_type": "code",
   "execution_count": 76,
   "metadata": {},
   "outputs": [],
   "source": [
    "verificacion1 = order(verificacion,ordenColumn)"
   ]
  },
  {
   "cell_type": "code",
   "execution_count": 77,
   "metadata": {},
   "outputs": [],
   "source": [
    "nuevo_archivo='BASE ARREGLADA MARZO.xlsx'\n",
    "writer = pd.ExcelWriter(nuevo_archivo, engine='xlsxwriter')\n",
    "verificacion1.to_excel(writer,sheet_name='BASE_TOTAL')\n",
    "worksheet = writer.sheets['BASE_TOTAL']\n",
    "writer.save()"
   ]
  },
  {
   "cell_type": "code",
   "execution_count": null,
   "metadata": {},
   "outputs": [],
   "source": []
  },
  {
   "cell_type": "code",
   "execution_count": null,
   "metadata": {},
   "outputs": [],
   "source": []
  },
  {
   "cell_type": "code",
   "execution_count": null,
   "metadata": {},
   "outputs": [],
   "source": []
  }
 ],
 "metadata": {
  "kernelspec": {
   "display_name": "Python 3",
   "language": "python",
   "name": "python3"
  },
  "language_info": {
   "codemirror_mode": {
    "name": "ipython",
    "version": 3
   },
   "file_extension": ".py",
   "mimetype": "text/x-python",
   "name": "python",
   "nbconvert_exporter": "python",
   "pygments_lexer": "ipython3",
   "version": "3.6.5"
  }
 },
 "nbformat": 4,
 "nbformat_minor": 2
}
