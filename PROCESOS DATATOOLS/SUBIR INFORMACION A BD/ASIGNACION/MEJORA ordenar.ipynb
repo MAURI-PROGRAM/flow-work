{
 "cells": [
  {
   "cell_type": "code",
   "execution_count": 71,
   "metadata": {},
   "outputs": [],
   "source": [
    "import pandas as pd\n",
    "import mysql.connector as mc"
   ]
  },
  {
   "cell_type": "code",
   "execution_count": 72,
   "metadata": {},
   "outputs": [],
   "source": [
    "db = mc.connect(\n",
    "  host='172.18.55.6',\n",
    "  user='comandato',\n",
    "  passwd='comandato123',\n",
    ")"
   ]
  },
  {
   "cell_type": "code",
   "execution_count": 73,
   "metadata": {},
   "outputs": [],
   "source": [
    "Anio='2019'\n",
    "Mes='01'\n",
    "Dia_act='24'"
   ]
  },
  {
   "cell_type": "code",
   "execution_count": 74,
   "metadata": {},
   "outputs": [],
   "source": [
    "fecha_ini='2018-10-01 00:00:00'\n",
    "fecha_fin='2019-01-30 21:00:00'"
   ]
  },
  {
   "cell_type": "code",
   "execution_count": 75,
   "metadata": {},
   "outputs": [],
   "source": [
    "fecha_inivr='2019-01-01 00:00:00'\n",
    "fecha_finivr='2019-01-30 21:00:00'"
   ]
  },
  {
   "cell_type": "markdown",
   "metadata": {},
   "source": [
    "# CONSULTA DE GESTION MASIVOS ASESOR"
   ]
  },
  {
   "cell_type": "code",
   "execution_count": 76,
   "metadata": {},
   "outputs": [],
   "source": [
    "querr_ultmes_asesor=\"\"\"SELECT * \n",
    "                       FROM sistemecuador_atm.gestion \n",
    "                       where FECHA_GESTION between '{0}' and '{1}';\"\"\".format(fecha_ini,fecha_fin)"
   ]
  },
  {
   "cell_type": "code",
   "execution_count": 77,
   "metadata": {},
   "outputs": [],
   "source": [
    "querr_ultmes_masivo=\"\"\"SELECT * \n",
    "                       FROM sistemecuador_atm.gestion_ivr\n",
    "                       where FECHA_GESTION between '{0}' and '{1}';\"\"\".format(fecha_inivr,fecha_finivr)"
   ]
  },
  {
   "cell_type": "code",
   "execution_count": 78,
   "metadata": {},
   "outputs": [],
   "source": [
    "ultmes_asesor=pd.read_sql(querr_ultmes_asesor, con=db)"
   ]
  },
  {
   "cell_type": "code",
   "execution_count": 79,
   "metadata": {},
   "outputs": [],
   "source": [
    "ultmes_masivo=pd.read_sql(querr_ultmes_masivo, con=db)"
   ]
  },
  {
   "cell_type": "markdown",
   "metadata": {},
   "source": [
    "### ORDEN POR RESPUESTAS"
   ]
  },
  {
   "cell_type": "code",
   "execution_count": 80,
   "metadata": {},
   "outputs": [],
   "source": [
    "ultmes_asesor.RESPUESTA_OBTENIDA = ultmes_asesor.RESPUESTA_OBTENIDA.astype('category')\n",
    "order_resp_ase=['ACUERDO DE PAGO','ACUERDO DE CONVENIO','LOCALIZADO SIN ACUERDO',\n",
    "                'YA PAGO','VOLVER A LLAMAR','INFRACTOR CUELGA LLAMADA','RECLAMO VENDIO VEHICULO',\n",
    "                'RENUENTE','ACTUALIZACION DATOS','RECLAMO','MENSAJE CON TERCERO','FALLECIDO / OTROS',\n",
    "                'AQUI NO VIVE / TRABAJA','BUZON DE MENSAJES','TELEFONO DANADO','TELEFONO OCUPADO','NO CONTESTA','','SIN GESTION']\n",
    "ultmes_asesor.RESPUESTA_OBTENIDA=ultmes_asesor.RESPUESTA_OBTENIDA.cat.set_categories(order_resp_ase)\n",
    "\n",
    "ultmes_asesor.CONTACTO_GESTIONO  = ultmes_asesor.CONTACTO_GESTIONO.astype('category')\n",
    "order_cont_ase=['CLIENTE','TERC. VALIDO','TERC. NO VALIDO','NO CONTACTO','SIN GESTION']\n",
    "ultmes_asesor.CONTACTO_GESTIONO=ultmes_asesor.CONTACTO_GESTIONO.cat.set_categories(order_cont_ase)\n",
    "\n",
    "ultmes_asesor=ultmes_asesor.sort_values(by=['CONTACTO_GESTIONO','RESPUESTA_OBTENIDA'],ascending = True)"
   ]
  },
  {
   "cell_type": "code",
   "execution_count": null,
   "metadata": {},
   "outputs": [],
   "source": []
  },
  {
   "cell_type": "code",
   "execution_count": 81,
   "metadata": {},
   "outputs": [],
   "source": [
    "gest_ase_porID = ultmes_asesor.drop_duplicates(['NRO_IDENTIFICACION_CLIENTE'], keep='first')"
   ]
  },
  {
   "cell_type": "code",
   "execution_count": 82,
   "metadata": {},
   "outputs": [],
   "source": [
    "gest_ase_porID_DEM = ultmes_asesor.drop_duplicates(['NRO_IDENTIFICACION_CLIENTE','NUMERO_GESTION'], keep='first')"
   ]
  },
  {
   "cell_type": "code",
   "execution_count": null,
   "metadata": {},
   "outputs": [],
   "source": []
  },
  {
   "cell_type": "code",
   "execution_count": 83,
   "metadata": {},
   "outputs": [],
   "source": [
    "ultmes_masivo.RESPUESTA_OBTENIDA=ultmes_masivo.RESPUESTA_OBTENIDA.astype('category')\n",
    "order_resp_ivr=['CONTESTA IVR','SMS ENVIADO','NO CONTESTA IVR','','SIN GESTION']\n",
    "ultmes_masivo.RESPUESTA_OBTENIDA=ultmes_masivo.RESPUESTA_OBTENIDA.cat.set_categories(order_resp_ivr)\n",
    "\n",
    "ultmes_masivo = ultmes_masivo.sort_values(by=['RESPUESTA_OBTENIDA'],ascending=True)"
   ]
  },
  {
   "cell_type": "code",
   "execution_count": null,
   "metadata": {},
   "outputs": [],
   "source": []
  },
  {
   "cell_type": "code",
   "execution_count": 84,
   "metadata": {},
   "outputs": [],
   "source": [
    "gest_mas_porID = ultmes_masivo.drop_duplicates(['NRO_IDENTIFICACION_CLIENTE'],keep='first')"
   ]
  },
  {
   "cell_type": "code",
   "execution_count": 85,
   "metadata": {},
   "outputs": [],
   "source": [
    "gest_mas_porID_DEM = ultmes_masivo.drop_duplicates(['NRO_IDENTIFICACION_CLIENTE','NUMERO_GESTION'],keep='first')"
   ]
  },
  {
   "cell_type": "code",
   "execution_count": 86,
   "metadata": {},
   "outputs": [],
   "source": [
    "campos=['NRO_IDENTIFICACION_CLIENTE','RESPUESTA_OBTENIDA','CONTACTO_GESTIONO']\n",
    "campos1=['NRO_IDENTIFICACION_CLIENTE','RESPUESTA_OBTENIDA','CONTACTO_GESTIONO','NUMERO_GESTION']"
   ]
  },
  {
   "cell_type": "code",
   "execution_count": 87,
   "metadata": {},
   "outputs": [],
   "source": [
    "gest_ase_porID = gest_ase_porID[campos]\n",
    "gest_ase_porID = gest_ase_porID.rename(columns={'RESPUESTA_OBTENIDA':'CALL_MES','CONTACTO_GESTIONO':'CONT_MES'})\n",
    "\n",
    "gest_ase_porID_DEM = gest_ase_porID_DEM[campos1]\n",
    "gest_ase_porID_DEM = gest_ase_porID_DEM.rename(columns={'RESPUESTA_OBTENIDA':'CALL_MESTEL','CONTACTO_GESTIONO':'CONT_MESTEL','NUMERO_GESTION':'NUMERO'})\n",
    "\n",
    "gest_mas_porID = gest_mas_porID[campos]\n",
    "gest_mas_porID = gest_mas_porID.rename(columns={'RESPUESTA_OBTENIDA':'CALL_MESMAS','CONTACTO_GESTIONO':'CONT_MESMAS'})\n",
    "\n",
    "gest_mas_porID_DEM = gest_mas_porID_DEM[campos1]\n",
    "gest_mas_porID_DEM = gest_mas_porID_DEM.rename(columns={'RESPUESTA_OBTENIDA':'CALL_MESMASTEL','CONTACTO_GESTIONO':'CONT_MESMASTEL','NUMERO_GESTION':'NUMERO'})"
   ]
  },
  {
   "cell_type": "code",
   "execution_count": 88,
   "metadata": {},
   "outputs": [
    {
     "data": {
      "text/html": [
       "<div>\n",
       "<style scoped>\n",
       "    .dataframe tbody tr th:only-of-type {\n",
       "        vertical-align: middle;\n",
       "    }\n",
       "\n",
       "    .dataframe tbody tr th {\n",
       "        vertical-align: top;\n",
       "    }\n",
       "\n",
       "    .dataframe thead th {\n",
       "        text-align: right;\n",
       "    }\n",
       "</style>\n",
       "<table border=\"1\" class=\"dataframe\">\n",
       "  <thead>\n",
       "    <tr style=\"text-align: right;\">\n",
       "      <th></th>\n",
       "      <th>NRO_IDENTIFICACION_CLIENTE</th>\n",
       "      <th>CALL_MESTEL</th>\n",
       "      <th>CONT_MESTEL</th>\n",
       "      <th>NUMERO</th>\n",
       "    </tr>\n",
       "  </thead>\n",
       "  <tbody>\n",
       "    <tr>\n",
       "      <th>4</th>\n",
       "      <td>0912518727</td>\n",
       "      <td>ACUERDO DE PAGO</td>\n",
       "      <td>CLIENTE</td>\n",
       "      <td>0959735900</td>\n",
       "    </tr>\n",
       "    <tr>\n",
       "      <th>13</th>\n",
       "      <td>0912986692</td>\n",
       "      <td>ACUERDO DE PAGO</td>\n",
       "      <td>CLIENTE</td>\n",
       "      <td>0979748680</td>\n",
       "    </tr>\n",
       "    <tr>\n",
       "      <th>17</th>\n",
       "      <td>0925191447</td>\n",
       "      <td>ACUERDO DE PAGO</td>\n",
       "      <td>CLIENTE</td>\n",
       "      <td>042603956</td>\n",
       "    </tr>\n",
       "    <tr>\n",
       "      <th>51</th>\n",
       "      <td>1802949220</td>\n",
       "      <td>ACUERDO DE PAGO</td>\n",
       "      <td>CLIENTE</td>\n",
       "      <td>0997490924</td>\n",
       "    </tr>\n",
       "    <tr>\n",
       "      <th>60</th>\n",
       "      <td>1301207807</td>\n",
       "      <td>ACUERDO DE PAGO</td>\n",
       "      <td>CLIENTE</td>\n",
       "      <td>0939006457</td>\n",
       "    </tr>\n",
       "  </tbody>\n",
       "</table>\n",
       "</div>"
      ],
      "text/plain": [
       "   NRO_IDENTIFICACION_CLIENTE      CALL_MESTEL CONT_MESTEL      NUMERO\n",
       "4                  0912518727  ACUERDO DE PAGO     CLIENTE  0959735900\n",
       "13                 0912986692  ACUERDO DE PAGO     CLIENTE  0979748680\n",
       "17                 0925191447  ACUERDO DE PAGO     CLIENTE   042603956\n",
       "51                 1802949220  ACUERDO DE PAGO     CLIENTE  0997490924\n",
       "60                 1301207807  ACUERDO DE PAGO     CLIENTE  0939006457"
      ]
     },
     "execution_count": 88,
     "metadata": {},
     "output_type": "execute_result"
    }
   ],
   "source": [
    "gest_ase_porID_DEM.head()"
   ]
  },
  {
   "cell_type": "markdown",
   "metadata": {},
   "source": [
    "### ASIGNACION"
   ]
  },
  {
   "cell_type": "code",
   "execution_count": 89,
   "metadata": {},
   "outputs": [],
   "source": [
    "def agregar_ceros(base):\n",
    "    ced=base['IDENTIFICACION_DEUDOR']\n",
    "    if len(ced)==9 or len(ced)==12 :\n",
    "        if ced.isdigit():\n",
    "            return '0'+ced\n",
    "    return ced"
   ]
  },
  {
   "cell_type": "code",
   "execution_count": 90,
   "metadata": {},
   "outputs": [],
   "source": [
    "def verificar_tipo(base):\n",
    "    ced=base['ID']\n",
    "    if len(ced)==13:\n",
    "        return 'RUC'\n",
    "    return 'CED'"
   ]
  },
  {
   "cell_type": "code",
   "execution_count": 91,
   "metadata": {},
   "outputs": [],
   "source": [
    "def ultimo_digito(base):\n",
    "    placa=base['PLACA_VEHICULO']\n",
    "    placa=str(placa)\n",
    "    if (placa == ''):\n",
    "        return '10'\n",
    "    if placa[-1].isdigit():\n",
    "        return placa[-1]\n",
    "    return '10'"
   ]
  },
  {
   "cell_type": "code",
   "execution_count": 92,
   "metadata": {},
   "outputs": [],
   "source": [
    "def convenio(base):\n",
    "    if (base['SALDO'] >= 115.8 and base['DIAS_MORAmin'] >= 180):\n",
    "        return 'SI'\n",
    "    return 'NO'"
   ]
  },
  {
   "cell_type": "code",
   "execution_count": 93,
   "metadata": {},
   "outputs": [],
   "source": [
    "def diasmora(base):\n",
    "    if(base['DIAS_MORAmin'] >= 180):\n",
    "        return 'MAYOR A 180'\n",
    "    return 'MENOR A 180'    "
   ]
  },
  {
   "cell_type": "code",
   "execution_count": 94,
   "metadata": {},
   "outputs": [],
   "source": [
    "#nombre de los archivos Asignacion normal\n",
    "nom_actual_cor='..\\..\\..\\..\\BASES DATATOOLS\\ASIGNACION\\\\2019\\\\ENERO\\Sistema de cobro_'+Dia_act+'_'+Mes+'_'+Anio+'.xlsx'\n",
    "nombre_hoja_cor='Asignacion'\n",
    "cartera_cor='CORRIENTE'\n",
    "\n",
    "# nombre de los archivos Menores\n",
    "nom_actual_men='..\\..\\..\\..\\BASES DATATOOLS\\ASIGNACION\\\\2019\\\\ENERO\\Sistema de cobro_'+Dia_act+'_'+Mes+'_'+Anio+'.xlsx'\n",
    "nombre_hoja_men='Menores'\n",
    "cartera_men='MENORES'\n",
    "\n",
    "# nombre de los archivos Demografico\n",
    "nom_actual_dem='..\\..\\..\\..\\BASES DATATOOLS\\ASIGNACION\\\\2019\\\\ENERO\\Sistema de cobro_'+Dia_act+'_'+Mes+'_'+Anio+'.xlsx'\n",
    "nombre_hoja_dem='Demografico'"
   ]
  },
  {
   "cell_type": "code",
   "execution_count": 95,
   "metadata": {},
   "outputs": [],
   "source": [
    "#leer archivo excel asignacion actual y anterior\n",
    "asignacion_actual_cor=pd.read_excel(open(nom_actual_cor,'rb'), sheet_name=nombre_hoja_cor, dtype={\"IDENTIFICACION_DEUDOR\": str})\n",
    "#leer archivo excel asignacion actual y anterior\n",
    "asignacion_actual_men=pd.read_excel(open(nom_actual_men,'rb'), sheet_name=nombre_hoja_men, dtype={\"IDENTIFICACION_DEUDOR\": str})\n",
    "#leer archivo excel asignacion actual y anterior\n",
    "asignacion_actual_dem=pd.read_excel(open(nom_actual_dem,'rb'), sheet_name=nombre_hoja_dem, dtype={\"IDENTIFICACION_DEUDOR\": str,'TELEFONO':str})"
   ]
  },
  {
   "cell_type": "code",
   "execution_count": null,
   "metadata": {},
   "outputs": [],
   "source": []
  },
  {
   "cell_type": "code",
   "execution_count": 96,
   "metadata": {},
   "outputs": [],
   "source": [
    "asignacion_actual_cor= asignacion_actual_cor.fillna('')\n",
    "asignacion_actual_cor['ID']=asignacion_actual_cor.apply(agregar_ceros,axis=1)\n",
    "asignacion_actual_cor['SUBCAMPANAPORCLIENTE'].replace(to_replace=[''],value='4. VENCIDA FASE I',inplace=True)\n",
    "try:\n",
    "    asignacion_actual_cor['FECHA_COACTIVA'].replace(to_replace=[''],value='NO COACTIVA',inplace=True)\n",
    "except:\n",
    "    asignacion_actual_cor['FECHA_COACTIVO'].replace(to_replace=[''],value='NO COACTIVA',inplace=True)\n",
    "asignacion_actual_cor['NOMBRE']=asignacion_actual_cor['RAZONSOCIAL']+' '+asignacion_actual_cor['PRIMER_APELLIDO']+' '+asignacion_actual_cor['SEGUNDO_APELLIDO']+' '+asignacion_actual_cor['PRIMER_NOMBRE']\n",
    "asignacion_actual_cor['CARTERA']='CORRIENTE'"
   ]
  },
  {
   "cell_type": "code",
   "execution_count": 97,
   "metadata": {},
   "outputs": [],
   "source": [
    "asignacion_actual_cor['TIPO']=asignacion_actual_cor.apply(verificar_tipo,axis=1)\n",
    "asignacion_actual_cor['U_PLACA']=asignacion_actual_cor.apply(ultimo_digito,axis=1)"
   ]
  },
  {
   "cell_type": "code",
   "execution_count": 98,
   "metadata": {},
   "outputs": [],
   "source": [
    "try:\n",
    "    base_gestion_cor=asignacion_actual_cor[['IDENTIFICACION_DEUDOR','ID','NOMBRE','SALDO','FECHA_COACTIVA','SUBCAMPANAPORCLIENTE','DIAS_MORA','CARTERA','TIPO','U_PLACA']]\n",
    "    ordenada_cor=base_gestion_cor.groupby(['IDENTIFICACION_DEUDOR','ID','NOMBRE','SUBCAMPANAPORCLIENTE','CARTERA','TIPO']).agg({'FECHA_COACTIVA':'min','SALDO':'sum','DIAS_MORA':['min', 'max'],'U_PLACA':'min'})\n",
    "except:\n",
    "    base_gestion_cor=asignacion_actual_cor[['IDENTIFICACION_DEUDOR','ID','NOMBRE','SALDO','FECHA_COACTIVO','SUBCAMPANAPORCLIENTE','DIAS_MORA','CARTERA','TIPO','U_PLACA']]\n",
    "    ordenada_cor=base_gestion_cor.groupby(['IDENTIFICACION_DEUDOR','ID','NOMBRE','SUBCAMPANAPORCLIENTE','CARTERA','TIPO']).agg({'FECHA_COACTIVO':'min','SALDO':'sum','DIAS_MORA':['min', 'max'],'U_PLACA':'min'})"
   ]
  },
  {
   "cell_type": "code",
   "execution_count": null,
   "metadata": {},
   "outputs": [],
   "source": []
  },
  {
   "cell_type": "code",
   "execution_count": 99,
   "metadata": {},
   "outputs": [],
   "source": [
    "asignacion_actual_men= asignacion_actual_men.fillna('')\n",
    "asignacion_actual_men['ID']=asignacion_actual_men.apply(agregar_ceros,axis=1)\n",
    "asignacion_actual_men['SUBCAMPANAPORCLIENTE'].replace(to_replace=[''],value='4. VENCIDA FASE I',inplace=True)\n",
    "try:\n",
    "    asignacion_actual_men['FECHA_COACTIVA'].replace(to_replace=[''],value='NO COACTIVA',inplace=True)\n",
    "except:\n",
    "    asignacion_actual_men['FECHA_COACTIVO'].replace(to_replace=[''],value='NO COACTIVA',inplace=True)\n",
    "asignacion_actual_men['NOMBRE']=asignacion_actual_men['RAZONSOCIAL']+' '+asignacion_actual_men['PRIMER_APELLIDO']+' '+asignacion_actual_men['SEGUNDO_APELLIDO']+' '+asignacion_actual_men['PRIMER_NOMBRE']\n",
    "asignacion_actual_men['CARTERA']='MENORES'"
   ]
  },
  {
   "cell_type": "code",
   "execution_count": 100,
   "metadata": {},
   "outputs": [],
   "source": [
    "asignacion_actual_men['TIPO']=asignacion_actual_men.apply(verificar_tipo,axis=1)\n",
    "asignacion_actual_men['U_PLACA']=asignacion_actual_men.apply(ultimo_digito,axis=1)"
   ]
  },
  {
   "cell_type": "code",
   "execution_count": 101,
   "metadata": {},
   "outputs": [],
   "source": [
    "try:\n",
    "    base_gestion_men=asignacion_actual_men[['IDENTIFICACION_DEUDOR','ID','NOMBRE','SALDO','FECHA_COACTIVA','SUBCAMPANAPORCLIENTE','DIAS_MORA','CARTERA','TIPO','U_PLACA']]\n",
    "    ordenada_men=base_gestion_men.groupby(['IDENTIFICACION_DEUDOR','ID','NOMBRE','SUBCAMPANAPORCLIENTE','CARTERA','TIPO']).agg({'FECHA_COACTIVA':'min','SALDO':'sum','DIAS_MORA':['min', 'max'],'U_PLACA':'min'})\n",
    "except:\n",
    "    base_gestion_men=asignacion_actual_men[['IDENTIFICACION_DEUDOR','ID','NOMBRE','SALDO','FECHA_COACTIVO','SUBCAMPANAPORCLIENTE','DIAS_MORA','CARTERA','TIPO','U_PLACA']]\n",
    "    ordenada_men=base_gestion_men.groupby(['IDENTIFICACION_DEUDOR','ID','NOMBRE','SUBCAMPANAPORCLIENTE','CARTERA','TIPO']).agg({'FECHA_COACTIVO':'min','SALDO':'sum','DIAS_MORA':['min', 'max'],'U_PLACA':'min'})"
   ]
  },
  {
   "cell_type": "code",
   "execution_count": 102,
   "metadata": {},
   "outputs": [],
   "source": [
    "base_total=pd.concat([ordenada_cor, ordenada_men])"
   ]
  },
  {
   "cell_type": "code",
   "execution_count": 103,
   "metadata": {},
   "outputs": [],
   "source": [
    "base_total = base_total.reset_index()"
   ]
  },
  {
   "cell_type": "code",
   "execution_count": 104,
   "metadata": {},
   "outputs": [],
   "source": [
    "base_total.columns = ['IDENTIFICACION_DEUDOR','ID','NOMBRE','SUBCAMPANAPORCLIENTE','CARTERA','TIPO','FECHA_COACTIVA','SALDO','DIAS_MORAmin','DIAS_MORAmax','U_PLACA']"
   ]
  },
  {
   "cell_type": "code",
   "execution_count": 105,
   "metadata": {},
   "outputs": [],
   "source": [
    "base_total.drop_duplicates(['IDENTIFICACION_DEUDOR'],keep='first',inplace=True)"
   ]
  },
  {
   "cell_type": "code",
   "execution_count": 106,
   "metadata": {},
   "outputs": [],
   "source": [
    "base_total['GENERACION_CONVENIO']=base_total.apply(convenio,axis=1)\n",
    "base_total['MORA']=base_total.apply(diasmora,axis=1)"
   ]
  },
  {
   "cell_type": "code",
   "execution_count": 107,
   "metadata": {},
   "outputs": [],
   "source": [
    "base_total = base_total.rename(columns={'ID':'NRO_IDENTIFICACION_CLIENTE'})"
   ]
  },
  {
   "cell_type": "code",
   "execution_count": 108,
   "metadata": {},
   "outputs": [
    {
     "data": {
      "text/html": [
       "<div>\n",
       "<style scoped>\n",
       "    .dataframe tbody tr th:only-of-type {\n",
       "        vertical-align: middle;\n",
       "    }\n",
       "\n",
       "    .dataframe tbody tr th {\n",
       "        vertical-align: top;\n",
       "    }\n",
       "\n",
       "    .dataframe thead th {\n",
       "        text-align: right;\n",
       "    }\n",
       "</style>\n",
       "<table border=\"1\" class=\"dataframe\">\n",
       "  <thead>\n",
       "    <tr style=\"text-align: right;\">\n",
       "      <th></th>\n",
       "      <th>IDENTIFICACION_DEUDOR</th>\n",
       "      <th>NRO_IDENTIFICACION_CLIENTE</th>\n",
       "      <th>NOMBRE</th>\n",
       "      <th>SUBCAMPANAPORCLIENTE</th>\n",
       "      <th>CARTERA</th>\n",
       "      <th>TIPO</th>\n",
       "      <th>FECHA_COACTIVA</th>\n",
       "      <th>SALDO</th>\n",
       "      <th>DIAS_MORAmin</th>\n",
       "      <th>DIAS_MORAmax</th>\n",
       "      <th>U_PLACA</th>\n",
       "      <th>GENERACION_CONVENIO</th>\n",
       "      <th>MORA</th>\n",
       "    </tr>\n",
       "  </thead>\n",
       "  <tbody>\n",
       "    <tr>\n",
       "      <th>0</th>\n",
       "      <td>00042448K</td>\n",
       "      <td>00042448K</td>\n",
       "      <td>ARAGON JUAREZ SERGIO</td>\n",
       "      <td>MULTAS NUEVAS</td>\n",
       "      <td>CORRIENTE</td>\n",
       "      <td>CED</td>\n",
       "      <td>NO COACTIVA</td>\n",
       "      <td>115.8</td>\n",
       "      <td>94</td>\n",
       "      <td>94</td>\n",
       "      <td>9</td>\n",
       "      <td>NO</td>\n",
       "      <td>MENOR A 180</td>\n",
       "    </tr>\n",
       "    <tr>\n",
       "      <th>1</th>\n",
       "      <td>1000559797</td>\n",
       "      <td>1000559797</td>\n",
       "      <td>RECALDE ESPINOSA ALFONSO</td>\n",
       "      <td>MULTAS NUEVAS</td>\n",
       "      <td>CORRIENTE</td>\n",
       "      <td>CED</td>\n",
       "      <td>NO COACTIVA</td>\n",
       "      <td>189.7</td>\n",
       "      <td>36</td>\n",
       "      <td>451</td>\n",
       "      <td>10</td>\n",
       "      <td>NO</td>\n",
       "      <td>MENOR A 180</td>\n",
       "    </tr>\n",
       "    <tr>\n",
       "      <th>2</th>\n",
       "      <td>1000580975</td>\n",
       "      <td>1000580975</td>\n",
       "      <td>VACA JERVIS SONIA</td>\n",
       "      <td>MULTAS NUEVAS</td>\n",
       "      <td>CORRIENTE</td>\n",
       "      <td>CED</td>\n",
       "      <td>NO COACTIVA</td>\n",
       "      <td>115.8</td>\n",
       "      <td>135</td>\n",
       "      <td>135</td>\n",
       "      <td>0</td>\n",
       "      <td>NO</td>\n",
       "      <td>MENOR A 180</td>\n",
       "    </tr>\n",
       "    <tr>\n",
       "      <th>3</th>\n",
       "      <td>1001296837</td>\n",
       "      <td>1001296837</td>\n",
       "      <td>BENITEZ POZO IGNACIO</td>\n",
       "      <td>MULTAS NUEVAS</td>\n",
       "      <td>CORRIENTE</td>\n",
       "      <td>CED</td>\n",
       "      <td>NO COACTIVA</td>\n",
       "      <td>115.8</td>\n",
       "      <td>140</td>\n",
       "      <td>316</td>\n",
       "      <td>9</td>\n",
       "      <td>NO</td>\n",
       "      <td>MENOR A 180</td>\n",
       "    </tr>\n",
       "    <tr>\n",
       "      <th>4</th>\n",
       "      <td>1001342284</td>\n",
       "      <td>1001342284</td>\n",
       "      <td>PORTILLA RAMIREZ SEGUNDO</td>\n",
       "      <td>4. VENCIDA FASE I</td>\n",
       "      <td>CORRIENTE</td>\n",
       "      <td>CED</td>\n",
       "      <td>NO COACTIVA</td>\n",
       "      <td>115.8</td>\n",
       "      <td>38</td>\n",
       "      <td>38</td>\n",
       "      <td>3</td>\n",
       "      <td>NO</td>\n",
       "      <td>MENOR A 180</td>\n",
       "    </tr>\n",
       "  </tbody>\n",
       "</table>\n",
       "</div>"
      ],
      "text/plain": [
       "  IDENTIFICACION_DEUDOR NRO_IDENTIFICACION_CLIENTE                     NOMBRE  \\\n",
       "0             00042448K                  00042448K       ARAGON JUAREZ SERGIO   \n",
       "1            1000559797                 1000559797   RECALDE ESPINOSA ALFONSO   \n",
       "2            1000580975                 1000580975          VACA JERVIS SONIA   \n",
       "3            1001296837                 1001296837       BENITEZ POZO IGNACIO   \n",
       "4            1001342284                 1001342284   PORTILLA RAMIREZ SEGUNDO   \n",
       "\n",
       "  SUBCAMPANAPORCLIENTE    CARTERA TIPO FECHA_COACTIVA  SALDO  DIAS_MORAmin  \\\n",
       "0        MULTAS NUEVAS  CORRIENTE  CED    NO COACTIVA  115.8            94   \n",
       "1        MULTAS NUEVAS  CORRIENTE  CED    NO COACTIVA  189.7            36   \n",
       "2        MULTAS NUEVAS  CORRIENTE  CED    NO COACTIVA  115.8           135   \n",
       "3        MULTAS NUEVAS  CORRIENTE  CED    NO COACTIVA  115.8           140   \n",
       "4    4. VENCIDA FASE I  CORRIENTE  CED    NO COACTIVA  115.8            38   \n",
       "\n",
       "   DIAS_MORAmax U_PLACA GENERACION_CONVENIO         MORA  \n",
       "0            94       9                  NO  MENOR A 180  \n",
       "1           451      10                  NO  MENOR A 180  \n",
       "2           135       0                  NO  MENOR A 180  \n",
       "3           316       9                  NO  MENOR A 180  \n",
       "4            38       3                  NO  MENOR A 180  "
      ]
     },
     "execution_count": 108,
     "metadata": {},
     "output_type": "execute_result"
    }
   ],
   "source": [
    "base_total.head()"
   ]
  },
  {
   "cell_type": "code",
   "execution_count": 109,
   "metadata": {},
   "outputs": [],
   "source": [
    "especiales = pd.read_excel(open('DEMOGRAFICOS.xlsx','rb'), sheet_name='BASE ESPECIAL', dtype={\"IDENTIFICACION_DEUDOR\": str})"
   ]
  },
  {
   "cell_type": "code",
   "execution_count": 110,
   "metadata": {},
   "outputs": [],
   "source": [
    "base_total1 = pd.merge(base_total,especiales,on=['IDENTIFICACION_DEUDOR'],how='left')"
   ]
  },
  {
   "cell_type": "code",
   "execution_count": null,
   "metadata": {},
   "outputs": [],
   "source": []
  },
  {
   "cell_type": "markdown",
   "metadata": {},
   "source": [
    "### CRUCES CON LA ASIGNACION Y LAS GESTIONES"
   ]
  },
  {
   "cell_type": "code",
   "execution_count": 111,
   "metadata": {},
   "outputs": [],
   "source": [
    "primercruce = pd.merge(base_total1,gest_ase_porID,on=['NRO_IDENTIFICACION_CLIENTE'],how='left')"
   ]
  },
  {
   "cell_type": "code",
   "execution_count": 112,
   "metadata": {},
   "outputs": [],
   "source": [
    "segundocruce = pd.merge(primercruce,gest_mas_porID,on=['NRO_IDENTIFICACION_CLIENTE'],how='left')"
   ]
  },
  {
   "cell_type": "code",
   "execution_count": 113,
   "metadata": {},
   "outputs": [
    {
     "data": {
      "text/html": [
       "<div>\n",
       "<style scoped>\n",
       "    .dataframe tbody tr th:only-of-type {\n",
       "        vertical-align: middle;\n",
       "    }\n",
       "\n",
       "    .dataframe tbody tr th {\n",
       "        vertical-align: top;\n",
       "    }\n",
       "\n",
       "    .dataframe thead th {\n",
       "        text-align: right;\n",
       "    }\n",
       "</style>\n",
       "<table border=\"1\" class=\"dataframe\">\n",
       "  <thead>\n",
       "    <tr style=\"text-align: right;\">\n",
       "      <th></th>\n",
       "      <th>IDENTIFICACION_DEUDOR</th>\n",
       "      <th>NRO_IDENTIFICACION_CLIENTE</th>\n",
       "      <th>NOMBRE</th>\n",
       "      <th>SUBCAMPANAPORCLIENTE</th>\n",
       "      <th>CARTERA</th>\n",
       "      <th>TIPO</th>\n",
       "      <th>FECHA_COACTIVA</th>\n",
       "      <th>SALDO</th>\n",
       "      <th>DIAS_MORAmin</th>\n",
       "      <th>DIAS_MORAmax</th>\n",
       "      <th>...</th>\n",
       "      <th>GENERACION_CONVENIO</th>\n",
       "      <th>MORA</th>\n",
       "      <th>PRIORIDAD</th>\n",
       "      <th>CAMPAÑA</th>\n",
       "      <th>BASE_FOCALIZADA</th>\n",
       "      <th>CUOTA_VENCIDA</th>\n",
       "      <th>CALL_MES</th>\n",
       "      <th>CONT_MES</th>\n",
       "      <th>CALL_MESMAS</th>\n",
       "      <th>CONT_MESMAS</th>\n",
       "    </tr>\n",
       "  </thead>\n",
       "  <tbody>\n",
       "    <tr>\n",
       "      <th>0</th>\n",
       "      <td>00042448K</td>\n",
       "      <td>00042448K</td>\n",
       "      <td>ARAGON JUAREZ SERGIO</td>\n",
       "      <td>MULTAS NUEVAS</td>\n",
       "      <td>CORRIENTE</td>\n",
       "      <td>CED</td>\n",
       "      <td>NO COACTIVA</td>\n",
       "      <td>115.8</td>\n",
       "      <td>94</td>\n",
       "      <td>94</td>\n",
       "      <td>...</td>\n",
       "      <td>NO</td>\n",
       "      <td>MENOR A 180</td>\n",
       "      <td>NaN</td>\n",
       "      <td>MENOR A 180</td>\n",
       "      <td>NO</td>\n",
       "      <td>SI</td>\n",
       "      <td>NaN</td>\n",
       "      <td>NaN</td>\n",
       "      <td>NaN</td>\n",
       "      <td>NaN</td>\n",
       "    </tr>\n",
       "    <tr>\n",
       "      <th>1</th>\n",
       "      <td>1000559797</td>\n",
       "      <td>1000559797</td>\n",
       "      <td>RECALDE ESPINOSA ALFONSO</td>\n",
       "      <td>MULTAS NUEVAS</td>\n",
       "      <td>CORRIENTE</td>\n",
       "      <td>CED</td>\n",
       "      <td>NO COACTIVA</td>\n",
       "      <td>189.7</td>\n",
       "      <td>36</td>\n",
       "      <td>451</td>\n",
       "      <td>...</td>\n",
       "      <td>NO</td>\n",
       "      <td>MENOR A 180</td>\n",
       "      <td>1.0</td>\n",
       "      <td>ACUERDOS INCUMPLIDOS</td>\n",
       "      <td>NO</td>\n",
       "      <td>NO</td>\n",
       "      <td>ACUERDO DE PAGO</td>\n",
       "      <td>CLIENTE</td>\n",
       "      <td>CONTESTA IVR</td>\n",
       "      <td>TITULAR</td>\n",
       "    </tr>\n",
       "    <tr>\n",
       "      <th>2</th>\n",
       "      <td>1000580975</td>\n",
       "      <td>1000580975</td>\n",
       "      <td>VACA JERVIS SONIA</td>\n",
       "      <td>MULTAS NUEVAS</td>\n",
       "      <td>CORRIENTE</td>\n",
       "      <td>CED</td>\n",
       "      <td>NO COACTIVA</td>\n",
       "      <td>115.8</td>\n",
       "      <td>135</td>\n",
       "      <td>135</td>\n",
       "      <td>...</td>\n",
       "      <td>NO</td>\n",
       "      <td>MENOR A 180</td>\n",
       "      <td>NaN</td>\n",
       "      <td>MENOR A 180</td>\n",
       "      <td>NO</td>\n",
       "      <td>NO</td>\n",
       "      <td>NaN</td>\n",
       "      <td>NaN</td>\n",
       "      <td>NaN</td>\n",
       "      <td>NaN</td>\n",
       "    </tr>\n",
       "    <tr>\n",
       "      <th>3</th>\n",
       "      <td>1001296837</td>\n",
       "      <td>1001296837</td>\n",
       "      <td>BENITEZ POZO IGNACIO</td>\n",
       "      <td>MULTAS NUEVAS</td>\n",
       "      <td>CORRIENTE</td>\n",
       "      <td>CED</td>\n",
       "      <td>NO COACTIVA</td>\n",
       "      <td>115.8</td>\n",
       "      <td>140</td>\n",
       "      <td>316</td>\n",
       "      <td>...</td>\n",
       "      <td>NO</td>\n",
       "      <td>MENOR A 180</td>\n",
       "      <td>2.0</td>\n",
       "      <td>SIN CLASE</td>\n",
       "      <td>BASE FOCALIZADA</td>\n",
       "      <td>NO</td>\n",
       "      <td>NO CONTESTA</td>\n",
       "      <td>NO CONTACTO</td>\n",
       "      <td>CONTESTA IVR</td>\n",
       "      <td>TITULAR</td>\n",
       "    </tr>\n",
       "    <tr>\n",
       "      <th>4</th>\n",
       "      <td>1001342284</td>\n",
       "      <td>1001342284</td>\n",
       "      <td>PORTILLA RAMIREZ SEGUNDO</td>\n",
       "      <td>4. VENCIDA FASE I</td>\n",
       "      <td>CORRIENTE</td>\n",
       "      <td>CED</td>\n",
       "      <td>NO COACTIVA</td>\n",
       "      <td>115.8</td>\n",
       "      <td>38</td>\n",
       "      <td>38</td>\n",
       "      <td>...</td>\n",
       "      <td>NO</td>\n",
       "      <td>MENOR A 180</td>\n",
       "      <td>1.0</td>\n",
       "      <td>ACUERDOS INCUMPLIDOS</td>\n",
       "      <td>NO</td>\n",
       "      <td>SI</td>\n",
       "      <td>ACUERDO DE PAGO</td>\n",
       "      <td>CLIENTE</td>\n",
       "      <td>CONTESTA IVR</td>\n",
       "      <td>TITULAR</td>\n",
       "    </tr>\n",
       "  </tbody>\n",
       "</table>\n",
       "<p>5 rows × 21 columns</p>\n",
       "</div>"
      ],
      "text/plain": [
       "  IDENTIFICACION_DEUDOR NRO_IDENTIFICACION_CLIENTE                     NOMBRE  \\\n",
       "0             00042448K                  00042448K       ARAGON JUAREZ SERGIO   \n",
       "1            1000559797                 1000559797   RECALDE ESPINOSA ALFONSO   \n",
       "2            1000580975                 1000580975          VACA JERVIS SONIA   \n",
       "3            1001296837                 1001296837       BENITEZ POZO IGNACIO   \n",
       "4            1001342284                 1001342284   PORTILLA RAMIREZ SEGUNDO   \n",
       "\n",
       "  SUBCAMPANAPORCLIENTE    CARTERA TIPO FECHA_COACTIVA  SALDO  DIAS_MORAmin  \\\n",
       "0        MULTAS NUEVAS  CORRIENTE  CED    NO COACTIVA  115.8            94   \n",
       "1        MULTAS NUEVAS  CORRIENTE  CED    NO COACTIVA  189.7            36   \n",
       "2        MULTAS NUEVAS  CORRIENTE  CED    NO COACTIVA  115.8           135   \n",
       "3        MULTAS NUEVAS  CORRIENTE  CED    NO COACTIVA  115.8           140   \n",
       "4    4. VENCIDA FASE I  CORRIENTE  CED    NO COACTIVA  115.8            38   \n",
       "\n",
       "   DIAS_MORAmax     ...     GENERACION_CONVENIO         MORA PRIORIDAD  \\\n",
       "0            94     ...                      NO  MENOR A 180       NaN   \n",
       "1           451     ...                      NO  MENOR A 180       1.0   \n",
       "2           135     ...                      NO  MENOR A 180       NaN   \n",
       "3           316     ...                      NO  MENOR A 180       2.0   \n",
       "4            38     ...                      NO  MENOR A 180       1.0   \n",
       "\n",
       "                CAMPAÑA  BASE_FOCALIZADA CUOTA_VENCIDA         CALL_MES  \\\n",
       "0           MENOR A 180               NO            SI              NaN   \n",
       "1  ACUERDOS INCUMPLIDOS               NO            NO  ACUERDO DE PAGO   \n",
       "2           MENOR A 180               NO            NO              NaN   \n",
       "3             SIN CLASE  BASE FOCALIZADA            NO      NO CONTESTA   \n",
       "4  ACUERDOS INCUMPLIDOS               NO            SI  ACUERDO DE PAGO   \n",
       "\n",
       "      CONT_MES   CALL_MESMAS CONT_MESMAS  \n",
       "0          NaN           NaN         NaN  \n",
       "1      CLIENTE  CONTESTA IVR     TITULAR  \n",
       "2          NaN           NaN         NaN  \n",
       "3  NO CONTACTO  CONTESTA IVR     TITULAR  \n",
       "4      CLIENTE  CONTESTA IVR     TITULAR  \n",
       "\n",
       "[5 rows x 21 columns]"
      ]
     },
     "execution_count": 113,
     "metadata": {},
     "output_type": "execute_result"
    }
   ],
   "source": [
    "segundocruce.head()"
   ]
  },
  {
   "cell_type": "code",
   "execution_count": 114,
   "metadata": {},
   "outputs": [
    {
     "data": {
      "text/plain": [
       "34102"
      ]
     },
     "execution_count": 114,
     "metadata": {},
     "output_type": "execute_result"
    }
   ],
   "source": [
    "segundocruce.NRO_IDENTIFICACION_CLIENTE.count()"
   ]
  },
  {
   "cell_type": "code",
   "execution_count": null,
   "metadata": {},
   "outputs": [],
   "source": []
  },
  {
   "cell_type": "markdown",
   "metadata": {},
   "source": [
    "## Consultar numeros de la BD"
   ]
  },
  {
   "cell_type": "markdown",
   "metadata": {},
   "source": [
    "### -Querry para la consulta de telefonos"
   ]
  },
  {
   "cell_type": "code",
   "execution_count": null,
   "metadata": {},
   "outputs": [],
   "source": []
  },
  {
   "cell_type": "code",
   "execution_count": 115,
   "metadata": {},
   "outputs": [],
   "source": [
    "consulta=\"\"\"SELECT \n",
    "                CONCAT(CEDULA) as IDENTIFICACION_DEUDOR,\n",
    "                CONCAT('0',NUMERO) as NUMERO,\n",
    "                CASE CONTACTO\n",
    "                    WHEN '1' THEN 1\n",
    "                    WHEN '2' THEN 2\n",
    "                    WHEN '3' THEN 5\n",
    "                    WHEN '4' THEN 4\n",
    "                    WHEN '5' THEN 3\n",
    "                    WHEN ' ' THEN 3\n",
    "                    WHEN '' THEN 3\n",
    "                    WHEN 'TITULAR' THEN 1\n",
    "                    WHEN 'TERCERO' THEN 2\n",
    "                    WHEN 'EQUIVOCADO' THEN 5\n",
    "                    WHEN 'NO CONTACTO' THEN 4\n",
    "                    WHEN NULL THEN 3\n",
    "                    ELSE  3\n",
    "                END  AS  dueno\n",
    "            FROM\n",
    "                TELEFONICOS_NUMEROS.TELEFONOS  HAVING dueno IN (1,2,5)  ORDER BY dueno;\"\"\""
   ]
  },
  {
   "cell_type": "code",
   "execution_count": 116,
   "metadata": {},
   "outputs": [],
   "source": [
    "DEMO=pd.read_sql(consulta, con=db)"
   ]
  },
  {
   "cell_type": "code",
   "execution_count": 117,
   "metadata": {},
   "outputs": [
    {
     "data": {
      "text/plain": [
       "IDENTIFICACION_DEUDOR    260239\n",
       "NUMERO                   260239\n",
       "dueno                    260239\n",
       "dtype: int64"
      ]
     },
     "execution_count": 117,
     "metadata": {},
     "output_type": "execute_result"
    }
   ],
   "source": [
    "DEMO.count()"
   ]
  },
  {
   "cell_type": "code",
   "execution_count": null,
   "metadata": {},
   "outputs": [],
   "source": []
  },
  {
   "cell_type": "code",
   "execution_count": 118,
   "metadata": {},
   "outputs": [],
   "source": [
    "leer_demografico=pd.read_excel(open('DEMOGRAFICOS.xlsx','rb'), sheet_name='DEMOGRAFICOS', dtype={\"IDENTIFICACION_DEUDOR\": str,\"NUMERO\":str,'DEMO':str})"
   ]
  },
  {
   "cell_type": "code",
   "execution_count": 119,
   "metadata": {},
   "outputs": [],
   "source": [
    "cruce_num = pd.merge(segundocruce,leer_demografico,on='IDENTIFICACION_DEUDOR',how='left')"
   ]
  },
  {
   "cell_type": "code",
   "execution_count": 120,
   "metadata": {},
   "outputs": [],
   "source": [
    "cruce_num2 = pd.merge(cruce_num,DEMO,on=['IDENTIFICACION_DEUDOR','NUMERO'],how='left')\n",
    "cruce_num2['dueno'].replace(to_replace=[1,2,5],value=['TITULAR','TERCERO','EQUIVOCADO'],inplace=True)"
   ]
  },
  {
   "cell_type": "code",
   "execution_count": 121,
   "metadata": {},
   "outputs": [],
   "source": [
    "cruce_num2.drop_duplicates(['NUMERO','IDENTIFICACION_DEUDOR'], keep='first',inplace=True)"
   ]
  },
  {
   "cell_type": "code",
   "execution_count": 122,
   "metadata": {},
   "outputs": [
    {
     "data": {
      "text/html": [
       "<div>\n",
       "<style scoped>\n",
       "    .dataframe tbody tr th:only-of-type {\n",
       "        vertical-align: middle;\n",
       "    }\n",
       "\n",
       "    .dataframe tbody tr th {\n",
       "        vertical-align: top;\n",
       "    }\n",
       "\n",
       "    .dataframe thead th {\n",
       "        text-align: right;\n",
       "    }\n",
       "</style>\n",
       "<table border=\"1\" class=\"dataframe\">\n",
       "  <thead>\n",
       "    <tr style=\"text-align: right;\">\n",
       "      <th></th>\n",
       "      <th>IDENTIFICACION_DEUDOR</th>\n",
       "      <th>NRO_IDENTIFICACION_CLIENTE</th>\n",
       "      <th>NOMBRE</th>\n",
       "      <th>SUBCAMPANAPORCLIENTE</th>\n",
       "      <th>CARTERA</th>\n",
       "      <th>TIPO</th>\n",
       "      <th>FECHA_COACTIVA</th>\n",
       "      <th>SALDO</th>\n",
       "      <th>DIAS_MORAmin</th>\n",
       "      <th>DIAS_MORAmax</th>\n",
       "      <th>...</th>\n",
       "      <th>CALL_MES</th>\n",
       "      <th>CONT_MES</th>\n",
       "      <th>CALL_MESMAS</th>\n",
       "      <th>CONT_MESMAS</th>\n",
       "      <th>DEMO</th>\n",
       "      <th>ESTADO</th>\n",
       "      <th>DEFINICION</th>\n",
       "      <th>NUMERO</th>\n",
       "      <th>NUEVO</th>\n",
       "      <th>dueno</th>\n",
       "    </tr>\n",
       "  </thead>\n",
       "  <tbody>\n",
       "    <tr>\n",
       "      <th>0</th>\n",
       "      <td>00042448K</td>\n",
       "      <td>00042448K</td>\n",
       "      <td>ARAGON JUAREZ SERGIO</td>\n",
       "      <td>MULTAS NUEVAS</td>\n",
       "      <td>CORRIENTE</td>\n",
       "      <td>CED</td>\n",
       "      <td>NO COACTIVA</td>\n",
       "      <td>115.8</td>\n",
       "      <td>94</td>\n",
       "      <td>94</td>\n",
       "      <td>...</td>\n",
       "      <td>NaN</td>\n",
       "      <td>NaN</td>\n",
       "      <td>NaN</td>\n",
       "      <td>NaN</td>\n",
       "      <td>NaN</td>\n",
       "      <td>NaN</td>\n",
       "      <td>NaN</td>\n",
       "      <td>NaN</td>\n",
       "      <td>NaN</td>\n",
       "      <td>NaN</td>\n",
       "    </tr>\n",
       "    <tr>\n",
       "      <th>1</th>\n",
       "      <td>1000559797</td>\n",
       "      <td>1000559797</td>\n",
       "      <td>RECALDE ESPINOSA ALFONSO</td>\n",
       "      <td>MULTAS NUEVAS</td>\n",
       "      <td>CORRIENTE</td>\n",
       "      <td>CED</td>\n",
       "      <td>NO COACTIVA</td>\n",
       "      <td>189.7</td>\n",
       "      <td>36</td>\n",
       "      <td>451</td>\n",
       "      <td>...</td>\n",
       "      <td>ACUERDO DE PAGO</td>\n",
       "      <td>CLIENTE</td>\n",
       "      <td>CONTESTA IVR</td>\n",
       "      <td>TITULAR</td>\n",
       "      <td>994552348</td>\n",
       "      <td>CORRECTO</td>\n",
       "      <td>CELULAR</td>\n",
       "      <td>0994552348</td>\n",
       "      <td>NO</td>\n",
       "      <td>NaN</td>\n",
       "    </tr>\n",
       "    <tr>\n",
       "      <th>2</th>\n",
       "      <td>1000559797</td>\n",
       "      <td>1000559797</td>\n",
       "      <td>RECALDE ESPINOSA ALFONSO</td>\n",
       "      <td>MULTAS NUEVAS</td>\n",
       "      <td>CORRIENTE</td>\n",
       "      <td>CED</td>\n",
       "      <td>NO COACTIVA</td>\n",
       "      <td>189.7</td>\n",
       "      <td>36</td>\n",
       "      <td>451</td>\n",
       "      <td>...</td>\n",
       "      <td>ACUERDO DE PAGO</td>\n",
       "      <td>CLIENTE</td>\n",
       "      <td>CONTESTA IVR</td>\n",
       "      <td>TITULAR</td>\n",
       "      <td>997209664</td>\n",
       "      <td>CORRECTO</td>\n",
       "      <td>CELULAR</td>\n",
       "      <td>0997209664</td>\n",
       "      <td>NO</td>\n",
       "      <td>TITULAR</td>\n",
       "    </tr>\n",
       "    <tr>\n",
       "      <th>3</th>\n",
       "      <td>1000580975</td>\n",
       "      <td>1000580975</td>\n",
       "      <td>VACA JERVIS SONIA</td>\n",
       "      <td>MULTAS NUEVAS</td>\n",
       "      <td>CORRIENTE</td>\n",
       "      <td>CED</td>\n",
       "      <td>NO COACTIVA</td>\n",
       "      <td>115.8</td>\n",
       "      <td>135</td>\n",
       "      <td>135</td>\n",
       "      <td>...</td>\n",
       "      <td>NaN</td>\n",
       "      <td>NaN</td>\n",
       "      <td>NaN</td>\n",
       "      <td>NaN</td>\n",
       "      <td>NaN</td>\n",
       "      <td>NaN</td>\n",
       "      <td>NaN</td>\n",
       "      <td>NaN</td>\n",
       "      <td>NaN</td>\n",
       "      <td>NaN</td>\n",
       "    </tr>\n",
       "    <tr>\n",
       "      <th>4</th>\n",
       "      <td>1001296837</td>\n",
       "      <td>1001296837</td>\n",
       "      <td>BENITEZ POZO IGNACIO</td>\n",
       "      <td>MULTAS NUEVAS</td>\n",
       "      <td>CORRIENTE</td>\n",
       "      <td>CED</td>\n",
       "      <td>NO COACTIVA</td>\n",
       "      <td>115.8</td>\n",
       "      <td>140</td>\n",
       "      <td>316</td>\n",
       "      <td>...</td>\n",
       "      <td>NO CONTESTA</td>\n",
       "      <td>NO CONTACTO</td>\n",
       "      <td>CONTESTA IVR</td>\n",
       "      <td>TITULAR</td>\n",
       "      <td>959995095</td>\n",
       "      <td>CORRECTO</td>\n",
       "      <td>CELULAR</td>\n",
       "      <td>0959995095</td>\n",
       "      <td>NO</td>\n",
       "      <td>NaN</td>\n",
       "    </tr>\n",
       "  </tbody>\n",
       "</table>\n",
       "<p>5 rows × 27 columns</p>\n",
       "</div>"
      ],
      "text/plain": [
       "  IDENTIFICACION_DEUDOR NRO_IDENTIFICACION_CLIENTE                     NOMBRE  \\\n",
       "0             00042448K                  00042448K       ARAGON JUAREZ SERGIO   \n",
       "1            1000559797                 1000559797   RECALDE ESPINOSA ALFONSO   \n",
       "2            1000559797                 1000559797   RECALDE ESPINOSA ALFONSO   \n",
       "3            1000580975                 1000580975          VACA JERVIS SONIA   \n",
       "4            1001296837                 1001296837       BENITEZ POZO IGNACIO   \n",
       "\n",
       "  SUBCAMPANAPORCLIENTE    CARTERA TIPO FECHA_COACTIVA  SALDO  DIAS_MORAmin  \\\n",
       "0        MULTAS NUEVAS  CORRIENTE  CED    NO COACTIVA  115.8            94   \n",
       "1        MULTAS NUEVAS  CORRIENTE  CED    NO COACTIVA  189.7            36   \n",
       "2        MULTAS NUEVAS  CORRIENTE  CED    NO COACTIVA  189.7            36   \n",
       "3        MULTAS NUEVAS  CORRIENTE  CED    NO COACTIVA  115.8           135   \n",
       "4        MULTAS NUEVAS  CORRIENTE  CED    NO COACTIVA  115.8           140   \n",
       "\n",
       "   DIAS_MORAmax   ...            CALL_MES     CONT_MES   CALL_MESMAS  \\\n",
       "0            94   ...                 NaN          NaN           NaN   \n",
       "1           451   ...     ACUERDO DE PAGO      CLIENTE  CONTESTA IVR   \n",
       "2           451   ...     ACUERDO DE PAGO      CLIENTE  CONTESTA IVR   \n",
       "3           135   ...                 NaN          NaN           NaN   \n",
       "4           316   ...         NO CONTESTA  NO CONTACTO  CONTESTA IVR   \n",
       "\n",
       "   CONT_MESMAS       DEMO    ESTADO DEFINICION      NUMERO NUEVO    dueno  \n",
       "0          NaN        NaN       NaN        NaN         NaN   NaN      NaN  \n",
       "1      TITULAR  994552348  CORRECTO    CELULAR  0994552348    NO      NaN  \n",
       "2      TITULAR  997209664  CORRECTO    CELULAR  0997209664    NO  TITULAR  \n",
       "3          NaN        NaN       NaN        NaN         NaN   NaN      NaN  \n",
       "4      TITULAR  959995095  CORRECTO    CELULAR  0959995095    NO      NaN  \n",
       "\n",
       "[5 rows x 27 columns]"
      ]
     },
     "execution_count": 122,
     "metadata": {},
     "output_type": "execute_result"
    }
   ],
   "source": [
    "cruce_num2.head()"
   ]
  },
  {
   "cell_type": "code",
   "execution_count": null,
   "metadata": {},
   "outputs": [],
   "source": []
  },
  {
   "cell_type": "code",
   "execution_count": 123,
   "metadata": {},
   "outputs": [],
   "source": [
    "cruce_uno = pd.merge(cruce_num2,gest_ase_porID_DEM,on=['NRO_IDENTIFICACION_CLIENTE','NUMERO'],how='left')\n",
    "cruce_dos = pd.merge(cruce_uno,gest_mas_porID_DEM,on=['NRO_IDENTIFICACION_CLIENTE','NUMERO'],how='left')"
   ]
  },
  {
   "cell_type": "code",
   "execution_count": 124,
   "metadata": {},
   "outputs": [
    {
     "data": {
      "text/html": [
       "<div>\n",
       "<style scoped>\n",
       "    .dataframe tbody tr th:only-of-type {\n",
       "        vertical-align: middle;\n",
       "    }\n",
       "\n",
       "    .dataframe tbody tr th {\n",
       "        vertical-align: top;\n",
       "    }\n",
       "\n",
       "    .dataframe thead th {\n",
       "        text-align: right;\n",
       "    }\n",
       "</style>\n",
       "<table border=\"1\" class=\"dataframe\">\n",
       "  <thead>\n",
       "    <tr style=\"text-align: right;\">\n",
       "      <th></th>\n",
       "      <th>IDENTIFICACION_DEUDOR</th>\n",
       "      <th>NRO_IDENTIFICACION_CLIENTE</th>\n",
       "      <th>NOMBRE</th>\n",
       "      <th>SUBCAMPANAPORCLIENTE</th>\n",
       "      <th>CARTERA</th>\n",
       "      <th>TIPO</th>\n",
       "      <th>FECHA_COACTIVA</th>\n",
       "      <th>SALDO</th>\n",
       "      <th>DIAS_MORAmin</th>\n",
       "      <th>DIAS_MORAmax</th>\n",
       "      <th>...</th>\n",
       "      <th>DEMO</th>\n",
       "      <th>ESTADO</th>\n",
       "      <th>DEFINICION</th>\n",
       "      <th>NUMERO</th>\n",
       "      <th>NUEVO</th>\n",
       "      <th>dueno</th>\n",
       "      <th>CALL_MESTEL</th>\n",
       "      <th>CONT_MESTEL</th>\n",
       "      <th>CALL_MESMASTEL</th>\n",
       "      <th>CONT_MESMASTEL</th>\n",
       "    </tr>\n",
       "  </thead>\n",
       "  <tbody>\n",
       "    <tr>\n",
       "      <th>0</th>\n",
       "      <td>00042448K</td>\n",
       "      <td>00042448K</td>\n",
       "      <td>ARAGON JUAREZ SERGIO</td>\n",
       "      <td>MULTAS NUEVAS</td>\n",
       "      <td>CORRIENTE</td>\n",
       "      <td>CED</td>\n",
       "      <td>NO COACTIVA</td>\n",
       "      <td>115.8</td>\n",
       "      <td>94</td>\n",
       "      <td>94</td>\n",
       "      <td>...</td>\n",
       "      <td>NaN</td>\n",
       "      <td>NaN</td>\n",
       "      <td>NaN</td>\n",
       "      <td>NaN</td>\n",
       "      <td>NaN</td>\n",
       "      <td>NaN</td>\n",
       "      <td>NaN</td>\n",
       "      <td>NaN</td>\n",
       "      <td>NaN</td>\n",
       "      <td>NaN</td>\n",
       "    </tr>\n",
       "    <tr>\n",
       "      <th>1</th>\n",
       "      <td>1000559797</td>\n",
       "      <td>1000559797</td>\n",
       "      <td>RECALDE ESPINOSA ALFONSO</td>\n",
       "      <td>MULTAS NUEVAS</td>\n",
       "      <td>CORRIENTE</td>\n",
       "      <td>CED</td>\n",
       "      <td>NO COACTIVA</td>\n",
       "      <td>189.7</td>\n",
       "      <td>36</td>\n",
       "      <td>451</td>\n",
       "      <td>...</td>\n",
       "      <td>994552348</td>\n",
       "      <td>CORRECTO</td>\n",
       "      <td>CELULAR</td>\n",
       "      <td>0994552348</td>\n",
       "      <td>NO</td>\n",
       "      <td>NaN</td>\n",
       "      <td>NO CONTESTA</td>\n",
       "      <td>NO CONTACTO</td>\n",
       "      <td>CONTESTA IVR</td>\n",
       "      <td>TITULAR</td>\n",
       "    </tr>\n",
       "    <tr>\n",
       "      <th>2</th>\n",
       "      <td>1000559797</td>\n",
       "      <td>1000559797</td>\n",
       "      <td>RECALDE ESPINOSA ALFONSO</td>\n",
       "      <td>MULTAS NUEVAS</td>\n",
       "      <td>CORRIENTE</td>\n",
       "      <td>CED</td>\n",
       "      <td>NO COACTIVA</td>\n",
       "      <td>189.7</td>\n",
       "      <td>36</td>\n",
       "      <td>451</td>\n",
       "      <td>...</td>\n",
       "      <td>997209664</td>\n",
       "      <td>CORRECTO</td>\n",
       "      <td>CELULAR</td>\n",
       "      <td>0997209664</td>\n",
       "      <td>NO</td>\n",
       "      <td>TITULAR</td>\n",
       "      <td>ACUERDO DE PAGO</td>\n",
       "      <td>CLIENTE</td>\n",
       "      <td>CONTESTA IVR</td>\n",
       "      <td>TITULAR</td>\n",
       "    </tr>\n",
       "    <tr>\n",
       "      <th>3</th>\n",
       "      <td>1000580975</td>\n",
       "      <td>1000580975</td>\n",
       "      <td>VACA JERVIS SONIA</td>\n",
       "      <td>MULTAS NUEVAS</td>\n",
       "      <td>CORRIENTE</td>\n",
       "      <td>CED</td>\n",
       "      <td>NO COACTIVA</td>\n",
       "      <td>115.8</td>\n",
       "      <td>135</td>\n",
       "      <td>135</td>\n",
       "      <td>...</td>\n",
       "      <td>NaN</td>\n",
       "      <td>NaN</td>\n",
       "      <td>NaN</td>\n",
       "      <td>NaN</td>\n",
       "      <td>NaN</td>\n",
       "      <td>NaN</td>\n",
       "      <td>NaN</td>\n",
       "      <td>NaN</td>\n",
       "      <td>NaN</td>\n",
       "      <td>NaN</td>\n",
       "    </tr>\n",
       "    <tr>\n",
       "      <th>4</th>\n",
       "      <td>1001296837</td>\n",
       "      <td>1001296837</td>\n",
       "      <td>BENITEZ POZO IGNACIO</td>\n",
       "      <td>MULTAS NUEVAS</td>\n",
       "      <td>CORRIENTE</td>\n",
       "      <td>CED</td>\n",
       "      <td>NO COACTIVA</td>\n",
       "      <td>115.8</td>\n",
       "      <td>140</td>\n",
       "      <td>316</td>\n",
       "      <td>...</td>\n",
       "      <td>959995095</td>\n",
       "      <td>CORRECTO</td>\n",
       "      <td>CELULAR</td>\n",
       "      <td>0959995095</td>\n",
       "      <td>NO</td>\n",
       "      <td>NaN</td>\n",
       "      <td>NO CONTESTA</td>\n",
       "      <td>NO CONTACTO</td>\n",
       "      <td>CONTESTA IVR</td>\n",
       "      <td>TITULAR</td>\n",
       "    </tr>\n",
       "  </tbody>\n",
       "</table>\n",
       "<p>5 rows × 31 columns</p>\n",
       "</div>"
      ],
      "text/plain": [
       "  IDENTIFICACION_DEUDOR NRO_IDENTIFICACION_CLIENTE                     NOMBRE  \\\n",
       "0             00042448K                  00042448K       ARAGON JUAREZ SERGIO   \n",
       "1            1000559797                 1000559797   RECALDE ESPINOSA ALFONSO   \n",
       "2            1000559797                 1000559797   RECALDE ESPINOSA ALFONSO   \n",
       "3            1000580975                 1000580975          VACA JERVIS SONIA   \n",
       "4            1001296837                 1001296837       BENITEZ POZO IGNACIO   \n",
       "\n",
       "  SUBCAMPANAPORCLIENTE    CARTERA TIPO FECHA_COACTIVA  SALDO  DIAS_MORAmin  \\\n",
       "0        MULTAS NUEVAS  CORRIENTE  CED    NO COACTIVA  115.8            94   \n",
       "1        MULTAS NUEVAS  CORRIENTE  CED    NO COACTIVA  189.7            36   \n",
       "2        MULTAS NUEVAS  CORRIENTE  CED    NO COACTIVA  189.7            36   \n",
       "3        MULTAS NUEVAS  CORRIENTE  CED    NO COACTIVA  115.8           135   \n",
       "4        MULTAS NUEVAS  CORRIENTE  CED    NO COACTIVA  115.8           140   \n",
       "\n",
       "   DIAS_MORAmax      ...             DEMO    ESTADO DEFINICION      NUMERO  \\\n",
       "0            94      ...              NaN       NaN        NaN         NaN   \n",
       "1           451      ...        994552348  CORRECTO    CELULAR  0994552348   \n",
       "2           451      ...        997209664  CORRECTO    CELULAR  0997209664   \n",
       "3           135      ...              NaN       NaN        NaN         NaN   \n",
       "4           316      ...        959995095  CORRECTO    CELULAR  0959995095   \n",
       "\n",
       "  NUEVO    dueno      CALL_MESTEL  CONT_MESTEL CALL_MESMASTEL CONT_MESMASTEL  \n",
       "0   NaN      NaN              NaN          NaN            NaN            NaN  \n",
       "1    NO      NaN      NO CONTESTA  NO CONTACTO   CONTESTA IVR        TITULAR  \n",
       "2    NO  TITULAR  ACUERDO DE PAGO      CLIENTE   CONTESTA IVR        TITULAR  \n",
       "3   NaN      NaN              NaN          NaN            NaN            NaN  \n",
       "4    NO      NaN      NO CONTESTA  NO CONTACTO   CONTESTA IVR        TITULAR  \n",
       "\n",
       "[5 rows x 31 columns]"
      ]
     },
     "execution_count": 124,
     "metadata": {},
     "output_type": "execute_result"
    }
   ],
   "source": [
    "cruce_dos.head()"
   ]
  },
  {
   "cell_type": "code",
   "execution_count": null,
   "metadata": {},
   "outputs": [],
   "source": []
  },
  {
   "cell_type": "code",
   "execution_count": 125,
   "metadata": {},
   "outputs": [],
   "source": [
    "asignacion_actual_dem['ASIGNADO']='SI'\n",
    "asig_demo=asignacion_actual_dem[['IDENTIFICACION_DEUDOR','TELEFONO','ASIGNADO']]"
   ]
  },
  {
   "cell_type": "code",
   "execution_count": 126,
   "metadata": {},
   "outputs": [],
   "source": [
    "asig_demo = asig_demo.rename(columns={'TELEFONO':'DEMO'})"
   ]
  },
  {
   "cell_type": "code",
   "execution_count": 127,
   "metadata": {},
   "outputs": [],
   "source": [
    "verificacion = pd.merge(cruce_dos,asig_demo,on=['IDENTIFICACION_DEUDOR','DEMO'],how='left')"
   ]
  },
  {
   "cell_type": "code",
   "execution_count": 128,
   "metadata": {},
   "outputs": [],
   "source": [
    "verificacion.drop_duplicates(['IDENTIFICACION_DEUDOR','DEMO'], keep='first',inplace=True)"
   ]
  },
  {
   "cell_type": "code",
   "execution_count": 129,
   "metadata": {},
   "outputs": [
    {
     "data": {
      "text/plain": [
       "Index(['IDENTIFICACION_DEUDOR', 'NRO_IDENTIFICACION_CLIENTE', 'NOMBRE',\n",
       "       'SUBCAMPANAPORCLIENTE', 'CARTERA', 'TIPO', 'FECHA_COACTIVA', 'SALDO',\n",
       "       'DIAS_MORAmin', 'DIAS_MORAmax', 'U_PLACA', 'GENERACION_CONVENIO',\n",
       "       'MORA', 'PRIORIDAD', 'CAMPAÑA', 'BASE_FOCALIZADA', 'CUOTA_VENCIDA',\n",
       "       'CALL_MES', 'CONT_MES', 'CALL_MESMAS', 'CONT_MESMAS', 'DEMO', 'ESTADO',\n",
       "       'DEFINICION', 'NUMERO', 'NUEVO', 'dueno', 'CALL_MESTEL', 'CONT_MESTEL',\n",
       "       'CALL_MESMASTEL', 'CONT_MESMASTEL', 'ASIGNADO'],\n",
       "      dtype='object')"
      ]
     },
     "execution_count": 129,
     "metadata": {},
     "output_type": "execute_result"
    }
   ],
   "source": [
    "verificacion.columns"
   ]
  },
  {
   "cell_type": "code",
   "execution_count": 130,
   "metadata": {},
   "outputs": [],
   "source": [
    "verificacion = verificacion.rename(columns={'NRO_IDENTIFICACION_CLIENTE':'CED'})"
   ]
  },
  {
   "cell_type": "code",
   "execution_count": 131,
   "metadata": {},
   "outputs": [],
   "source": [
    "def order(frame,var):\n",
    "    if type(var) is str:\n",
    "        var = [var] #let the command take a string or list\n",
    "    varlist =[w for w in frame.columns if w not in var]\n",
    "    frame = frame[var+varlist]\n",
    "    return frame"
   ]
  },
  {
   "cell_type": "code",
   "execution_count": 132,
   "metadata": {},
   "outputs": [],
   "source": [
    "ordenColumn = ['NUMERO','NOMBRE','CED','SALDO','SUBCAMPANAPORCLIENTE','FECHA_COACTIVA','CARTERA','TIPO','DIAS_MORAmin','DIAS_MORAmax','U_PLACA','CAMPAÑA']"
   ]
  },
  {
   "cell_type": "code",
   "execution_count": 133,
   "metadata": {},
   "outputs": [],
   "source": [
    "verificacion1 = order(verificacion,ordenColumn)"
   ]
  },
  {
   "cell_type": "code",
   "execution_count": 134,
   "metadata": {},
   "outputs": [],
   "source": [
    "nuevo_archivo='BASE ARREGLADA ENERO.xlsx'\n",
    "writer = pd.ExcelWriter(nuevo_archivo, engine='xlsxwriter')\n",
    "verificacion1.to_excel(writer,sheet_name='BASE_TOTAL')\n",
    "worksheet = writer.sheets['BASE_TOTAL']\n",
    "writer.save()"
   ]
  },
  {
   "cell_type": "code",
   "execution_count": null,
   "metadata": {},
   "outputs": [],
   "source": []
  },
  {
   "cell_type": "code",
   "execution_count": null,
   "metadata": {},
   "outputs": [],
   "source": []
  }
 ],
 "metadata": {
  "kernelspec": {
   "display_name": "Python 3",
   "language": "python",
   "name": "python3"
  },
  "language_info": {
   "codemirror_mode": {
    "name": "ipython",
    "version": 3
   },
   "file_extension": ".py",
   "mimetype": "text/x-python",
   "name": "python",
   "nbconvert_exporter": "python",
   "pygments_lexer": "ipython3",
   "version": "3.6.5"
  }
 },
 "nbformat": 4,
 "nbformat_minor": 2
}
