{
 "cells": [
  {
   "cell_type": "code",
   "execution_count": 1,
   "metadata": {},
   "outputs": [],
   "source": [
    "import pandas as pd\n",
    "import MySQLdb\n",
    "import time"
   ]
  },
  {
   "cell_type": "code",
   "execution_count": 2,
   "metadata": {},
   "outputs": [],
   "source": [
    "Anio_act='2019'\n",
    "Mes_act='03'\n",
    "Dia_act='08'"
   ]
  },
  {
   "cell_type": "code",
   "execution_count": 3,
   "metadata": {},
   "outputs": [],
   "source": [
    "Anio_ant='2019'\n",
    "Mes_ant='03'\n",
    "Dia_ant='07'"
   ]
  },
  {
   "cell_type": "code",
   "execution_count": 4,
   "metadata": {},
   "outputs": [],
   "source": [
    "corr_act={\n",
    "    'ruta':'..\\..\\..\\..\\BASES DATATOOLS\\ASIGNACION\\\\2019\\\\ENERO\\Sistema de cobro_'+Dia_act+'_'+Mes_act+'_'+Anio_act+'.xlsx',\n",
    "    'hoja':'Asignacion',\n",
    "    'cartera':'CORRIENTE',\n",
    "    'identificador':'IDENTIFICACION_DEUDOR'\n",
    "}\n",
    "\n",
    "men_act={\n",
    "    'ruta':'..\\..\\..\\..\\BASES DATATOOLS\\ASIGNACION\\\\2019\\\\ENERO\\Sistema de cobro_'+Dia_act+'_'+Mes_act+'_'+Anio_act+'.xlsx',\n",
    "    'hoja':'Menores',\n",
    "    'cartera':'MENOR',\n",
    "    'identificador':'IDENTIFICACION_DEUDOR'\n",
    "}\n",
    "\n",
    "conv_act={\n",
    "    'ruta':'..\\..\\..\\..\\BASES DATATOOLS\\ASIGNACION\\\\2019\\\\ENERO\\CONVENIOS_SISTEM_'+Dia_act+'_'+Mes_act+'_'+Anio_act+'.xlsx',\n",
    "    'hoja':'Hoja1',\n",
    "    'cartera':'CONVENIOS',\n",
    "    'identificador':'NUMERO_IDENTIFICACION'\n",
    "}\n",
    "\n",
    "dem_act={\n",
    "    'ruta':'..\\..\\..\\..\\BASES DATATOOLS\\ASIGNACION\\\\2019\\\\ENERO\\Sistema de cobro_'+Dia_act+'_'+Mes_act+'_'+Anio_act+'.xlsx',\n",
    "    'hoja':'Demografico',\n",
    "    'cartera':'DEMOGRAFICO',\n",
    "    'identificador':'IDENTIFICACION_DEUDOR'\n",
    "}"
   ]
  },
  {
   "cell_type": "code",
   "execution_count": 5,
   "metadata": {},
   "outputs": [],
   "source": [
    "corr_ant={\n",
    "    'ruta':'..\\..\\..\\..\\BASES DATATOOLS\\ASIGNACION\\\\2019\\\\ENERO\\Sistema de cobro_'+Dia_ant+'_'+Mes_ant+'_'+Anio_ant+'.xlsx',\n",
    "    'hoja':'Asignacion',\n",
    "    'cartera':'CORRIENTE',\n",
    "    'identificador':'IDENTIFICACION_DEUDOR'\n",
    "}\n",
    "\n",
    "men_ant={\n",
    "    'ruta':'..\\..\\..\\..\\BASES DATATOOLS\\ASIGNACION\\\\2019\\\\ENERO\\Sistema de cobro_'+Dia_ant+'_'+Mes_ant+'_'+Anio_ant+'.xlsx',\n",
    "    'hoja':'Menores',\n",
    "    'cartera':'MENOR',\n",
    "    'identificador':'IDENTIFICACION_DEUDOR'\n",
    "}\n",
    "conv_ant={\n",
    "    'ruta':'..\\..\\..\\..\\BASES DATATOOLS\\ASIGNACION\\\\2019\\\\ENERO\\CONVENIOS_SISTEM_'+Dia_ant+'_'+Mes_ant+'_'+Anio_ant+'.xlsx',\n",
    "    'hoja':'Hoja1',\n",
    "    'cartera':'CONVENIOS',\n",
    "    'identificador':'NUMERO_IDENTIFICACION'\n",
    "}\n",
    "dem_ant={\n",
    "    'ruta':'..\\..\\..\\..\\BASES DATATOOLS\\ASIGNACION\\\\2019\\\\ENERO\\Sistema de cobro_'+Dia_ant+'_'+Mes_ant+'_'+Anio_ant+'.xlsx',\n",
    "    'hoja':'Demografico',\n",
    "    'cartera':'DEMOGRAFICO',\n",
    "    'identificador':'IDENTIFICACION_DEUDOR'\n",
    "}"
   ]
  },
  {
   "cell_type": "code",
   "execution_count": 6,
   "metadata": {},
   "outputs": [],
   "source": [
    "arch_dem_act=pd.read_excel(open(dem_act['ruta'],'rb'), sheet_name=dem_act['hoja'])\n",
    "arch_dem_ant=pd.read_excel(open(dem_ant['ruta'],'rb'),  sheet_name=dem_ant['hoja'])"
   ]
  },
  {
   "cell_type": "code",
   "execution_count": 7,
   "metadata": {},
   "outputs": [
    {
     "data": {
      "text/html": [
       "<div>\n",
       "<style scoped>\n",
       "    .dataframe tbody tr th:only-of-type {\n",
       "        vertical-align: middle;\n",
       "    }\n",
       "\n",
       "    .dataframe tbody tr th {\n",
       "        vertical-align: top;\n",
       "    }\n",
       "\n",
       "    .dataframe thead th {\n",
       "        text-align: right;\n",
       "    }\n",
       "</style>\n",
       "<table border=\"1\" class=\"dataframe\">\n",
       "  <thead>\n",
       "    <tr style=\"text-align: right;\">\n",
       "      <th></th>\n",
       "      <th>IDENTIFICACION_DEUDOR</th>\n",
       "      <th>casa</th>\n",
       "      <th>TELEFONO</th>\n",
       "      <th>ESTADO_CREDITO</th>\n",
       "      <th>ESTADO</th>\n",
       "      <th>PRIORIDAD</th>\n",
       "    </tr>\n",
       "  </thead>\n",
       "  <tbody>\n",
       "    <tr>\n",
       "      <th>0</th>\n",
       "      <td>927849158</td>\n",
       "      <td>SISTEMA DE COBRO DEL ECUADOR</td>\n",
       "      <td>994386046</td>\n",
       "      <td>COACTIVO</td>\n",
       "      <td>BUENO</td>\n",
       "      <td>NaN</td>\n",
       "    </tr>\n",
       "    <tr>\n",
       "      <th>1</th>\n",
       "      <td>916169550</td>\n",
       "      <td>SISTEMA DE COBRO DEL ECUADOR</td>\n",
       "      <td>969293877</td>\n",
       "      <td>COACTIVO</td>\n",
       "      <td>BUENO</td>\n",
       "      <td>2.0</td>\n",
       "    </tr>\n",
       "    <tr>\n",
       "      <th>2</th>\n",
       "      <td>1708410137</td>\n",
       "      <td>SISTEMA DE COBRO DEL ECUADOR</td>\n",
       "      <td>979496247</td>\n",
       "      <td>COACTIVO</td>\n",
       "      <td>BUENO</td>\n",
       "      <td>2.0</td>\n",
       "    </tr>\n",
       "    <tr>\n",
       "      <th>3</th>\n",
       "      <td>1307566123</td>\n",
       "      <td>SISTEMA DE COBRO DEL ECUADOR</td>\n",
       "      <td>969941726</td>\n",
       "      <td>COACTIVO</td>\n",
       "      <td>BUENO</td>\n",
       "      <td>0.0</td>\n",
       "    </tr>\n",
       "    <tr>\n",
       "      <th>4</th>\n",
       "      <td>924977465</td>\n",
       "      <td>SISTEMA DE COBRO DEL ECUADOR</td>\n",
       "      <td>960294220</td>\n",
       "      <td>CONVENIOS</td>\n",
       "      <td>BUENO</td>\n",
       "      <td>0.0</td>\n",
       "    </tr>\n",
       "  </tbody>\n",
       "</table>\n",
       "</div>"
      ],
      "text/plain": [
       "  IDENTIFICACION_DEUDOR                          casa   TELEFONO  \\\n",
       "0             927849158  SISTEMA DE COBRO DEL ECUADOR  994386046   \n",
       "1             916169550  SISTEMA DE COBRO DEL ECUADOR  969293877   \n",
       "2            1708410137  SISTEMA DE COBRO DEL ECUADOR  979496247   \n",
       "3            1307566123  SISTEMA DE COBRO DEL ECUADOR  969941726   \n",
       "4             924977465  SISTEMA DE COBRO DEL ECUADOR  960294220   \n",
       "\n",
       "  ESTADO_CREDITO ESTADO  PRIORIDAD  \n",
       "0       COACTIVO  BUENO        NaN  \n",
       "1       COACTIVO  BUENO        2.0  \n",
       "2       COACTIVO  BUENO        2.0  \n",
       "3       COACTIVO  BUENO        0.0  \n",
       "4      CONVENIOS  BUENO        0.0  "
      ]
     },
     "execution_count": 7,
     "metadata": {},
     "output_type": "execute_result"
    }
   ],
   "source": [
    "arch_dem_act.head()"
   ]
  },
  {
   "cell_type": "code",
   "execution_count": 9,
   "metadata": {},
   "outputs": [
    {
     "data": {
      "text/plain": [
       "IDENTIFICACION_DEUDOR    109277\n",
       "casa                     109277\n",
       "TELEFONO                 109277\n",
       "ESTADO_CREDITO           109277\n",
       "ESTADO                   109277\n",
       "PRIORIDAD                 76660\n",
       "dtype: int64"
      ]
     },
     "execution_count": 9,
     "metadata": {},
     "output_type": "execute_result"
    }
   ],
   "source": [
    "arch_dem_act.count()"
   ]
  },
  {
   "cell_type": "code",
   "execution_count": 8,
   "metadata": {},
   "outputs": [
    {
     "data": {
      "text/html": [
       "<div>\n",
       "<style scoped>\n",
       "    .dataframe tbody tr th:only-of-type {\n",
       "        vertical-align: middle;\n",
       "    }\n",
       "\n",
       "    .dataframe tbody tr th {\n",
       "        vertical-align: top;\n",
       "    }\n",
       "\n",
       "    .dataframe thead th {\n",
       "        text-align: right;\n",
       "    }\n",
       "</style>\n",
       "<table border=\"1\" class=\"dataframe\">\n",
       "  <thead>\n",
       "    <tr style=\"text-align: right;\">\n",
       "      <th></th>\n",
       "      <th>IDENTIFICACION_DEUDOR</th>\n",
       "      <th>Unnamed: 1</th>\n",
       "      <th>TELEFONO</th>\n",
       "      <th>ESTADO_CREDITO</th>\n",
       "      <th>ESTADO</th>\n",
       "      <th>PRIORIDAD</th>\n",
       "    </tr>\n",
       "  </thead>\n",
       "  <tbody>\n",
       "    <tr>\n",
       "      <th>0</th>\n",
       "      <td>3778859</td>\n",
       "      <td>SISTEMA DE COBRO DEL ECUADOR</td>\n",
       "      <td>42123115</td>\n",
       "      <td>COACTIVO</td>\n",
       "      <td>BUENO</td>\n",
       "      <td>NaN</td>\n",
       "    </tr>\n",
       "    <tr>\n",
       "      <th>1</th>\n",
       "      <td>3778859</td>\n",
       "      <td>SISTEMA DE COBRO DEL ECUADOR</td>\n",
       "      <td>42695991</td>\n",
       "      <td>COACTIVO</td>\n",
       "      <td>BUENO</td>\n",
       "      <td>2.0</td>\n",
       "    </tr>\n",
       "    <tr>\n",
       "      <th>2</th>\n",
       "      <td>3778859</td>\n",
       "      <td>SISTEMA DE COBRO DEL ECUADOR</td>\n",
       "      <td>967792004</td>\n",
       "      <td>COACTIVO</td>\n",
       "      <td>BUENO</td>\n",
       "      <td>NaN</td>\n",
       "    </tr>\n",
       "    <tr>\n",
       "      <th>3</th>\n",
       "      <td>3778859</td>\n",
       "      <td>SISTEMA DE COBRO DEL ECUADOR</td>\n",
       "      <td>985728753</td>\n",
       "      <td>CONVENIOS</td>\n",
       "      <td>BUENO</td>\n",
       "      <td>2.0</td>\n",
       "    </tr>\n",
       "    <tr>\n",
       "      <th>4</th>\n",
       "      <td>5216855</td>\n",
       "      <td>SISTEMA DE COBRO DEL ECUADOR</td>\n",
       "      <td>959653810</td>\n",
       "      <td>COACTIVO</td>\n",
       "      <td>BUENO</td>\n",
       "      <td>0.0</td>\n",
       "    </tr>\n",
       "  </tbody>\n",
       "</table>\n",
       "</div>"
      ],
      "text/plain": [
       "  IDENTIFICACION_DEUDOR                    Unnamed: 1   TELEFONO  \\\n",
       "0               3778859  SISTEMA DE COBRO DEL ECUADOR   42123115   \n",
       "1               3778859  SISTEMA DE COBRO DEL ECUADOR   42695991   \n",
       "2               3778859  SISTEMA DE COBRO DEL ECUADOR  967792004   \n",
       "3               3778859  SISTEMA DE COBRO DEL ECUADOR  985728753   \n",
       "4               5216855  SISTEMA DE COBRO DEL ECUADOR  959653810   \n",
       "\n",
       "  ESTADO_CREDITO ESTADO  PRIORIDAD  \n",
       "0       COACTIVO  BUENO        NaN  \n",
       "1       COACTIVO  BUENO        2.0  \n",
       "2       COACTIVO  BUENO        NaN  \n",
       "3      CONVENIOS  BUENO        2.0  \n",
       "4       COACTIVO  BUENO        0.0  "
      ]
     },
     "execution_count": 8,
     "metadata": {},
     "output_type": "execute_result"
    }
   ],
   "source": [
    "arch_dem_ant.head()"
   ]
  },
  {
   "cell_type": "code",
   "execution_count": 10,
   "metadata": {},
   "outputs": [
    {
     "data": {
      "text/plain": [
       "IDENTIFICACION_DEUDOR    108285\n",
       "Unnamed: 1               108285\n",
       "TELEFONO                 108285\n",
       "ESTADO_CREDITO           108285\n",
       "ESTADO                   108285\n",
       "PRIORIDAD                 73566\n",
       "dtype: int64"
      ]
     },
     "execution_count": 10,
     "metadata": {},
     "output_type": "execute_result"
    }
   ],
   "source": [
    "arch_dem_ant.count()"
   ]
  },
  {
   "cell_type": "code",
   "execution_count": null,
   "metadata": {},
   "outputs": [],
   "source": []
  }
 ],
 "metadata": {
  "kernelspec": {
   "display_name": "Python 3",
   "language": "python",
   "name": "python3"
  },
  "language_info": {
   "codemirror_mode": {
    "name": "ipython",
    "version": 3
   },
   "file_extension": ".py",
   "mimetype": "text/x-python",
   "name": "python",
   "nbconvert_exporter": "python",
   "pygments_lexer": "ipython3",
   "version": "3.6.5"
  }
 },
 "nbformat": 4,
 "nbformat_minor": 2
}
