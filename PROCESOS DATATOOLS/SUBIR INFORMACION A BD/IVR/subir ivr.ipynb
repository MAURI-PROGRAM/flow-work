{
 "cells": [
  {
   "cell_type": "code",
   "execution_count": 23,
   "metadata": {},
   "outputs": [],
   "source": [
    "import MySQLdb\n",
    "import pandas as pd\n",
    "import random\n",
    "import time\n",
    "\n",
    "from datetime import datetime,timedelta"
   ]
  },
  {
   "cell_type": "code",
   "execution_count": 24,
   "metadata": {},
   "outputs": [],
   "source": [
    "#coneccion al db\n",
    "db = MySQLdb.connect(host=\"172.18.55.6\",    # tu host, usualmente localhost\n",
    "                     user=\"comandato\",         # tu usuario\n",
    "                     passwd=\"comandato123\",  # tu password\n",
    "                     db=\"sistemecuador_atm\")        # el nombre de la base de datos"
   ]
  },
  {
   "cell_type": "code",
   "execution_count": 25,
   "metadata": {},
   "outputs": [],
   "source": [
    "cur = db.cursor()"
   ]
  },
  {
   "cell_type": "code",
   "execution_count": 26,
   "metadata": {},
   "outputs": [],
   "source": [
    "Anio='2018'\n",
    "Mes='09'\n",
    "Dia_act='1'"
   ]
  },
  {
   "cell_type": "code",
   "execution_count": 27,
   "metadata": {},
   "outputs": [],
   "source": [
    "#nombre de los archivos Asignacion normal\n",
    "nom_actual='ESTRUCTURA DE GESTION Y MASIVOS.xlsx'\n",
    "nombre_hoja='Hoja1'\n",
    "cartera='CORRIENTE'"
   ]
  },
  {
   "cell_type": "code",
   "execution_count": 28,
   "metadata": {},
   "outputs": [],
   "source": [
    "#leer archivo excel asignacion actual y anterior\n",
    "base=pd.read_excel(open(nom_actual,'rb'), sheet_name=nombre_hoja,dtype={\"Numero de Idetificacion del Cliente\": str,\"Numero de Telefono en el Cual se Realizo la Gestión.\":str})"
   ]
  },
  {
   "cell_type": "code",
   "execution_count": 29,
   "metadata": {},
   "outputs": [],
   "source": [
    "base.columns = base.columns.str.replace(' ','_')"
   ]
  },
  {
   "cell_type": "code",
   "execution_count": 30,
   "metadata": {},
   "outputs": [],
   "source": [
    "base = base.rename(columns={'Numero_de_Idetificacion_del_Cliente': 'CED','DD/MM/AAAA/_hh:mm:ss':'fech_gets','Accion_Realizada_en_la_Gestión:\\n*_Hacer_llamada.':'Accion','Respuesta_Obtenida_en_la_Gestión':'RESPUESTA','Comentarios_de_la_Gestión_Realizada_':'COMENTARIO','Numero_de_Telefono_en_el_Cual_se_Realizo_la_Gestión.':'TELEFONO','Fecha_en_la_Cual_se_Gestionará_el_cliente_DD/MM/AAAA/_hh:mm:ss':'fech_prox','Tiempo_en_que_tomo_en_realizar_la_Gestión':'TIEMPO',})"
   ]
  },
  {
   "cell_type": "code",
   "execution_count": 31,
   "metadata": {},
   "outputs": [],
   "source": [
    "base_ivr=base[(base['Accion']=='ENVIAR IVR') | (base['Accion']=='ENVIAR SMS')]"
   ]
  },
  {
   "cell_type": "code",
   "execution_count": 32,
   "metadata": {},
   "outputs": [],
   "source": [
    "base_ivr= base_ivr.fillna('')"
   ]
  },
  {
   "cell_type": "code",
   "execution_count": null,
   "metadata": {},
   "outputs": [
    {
     "name": "stdout",
     "output_type": "stream",
     "text": [
      "10000\n",
      "20000\n",
      "30000\n"
     ]
    }
   ],
   "source": [
    "contador_ya_gestion=0\n",
    "contador_subidos=0\n",
    "contador=0\n",
    "for row in base_ivr.itertuples():\n",
    "    telefono=str(row.TELEFONO)\n",
    "    cedula=str(row.CED)\n",
    "    fech_gest=str(row.fech_gets)[:19]\n",
    "    repuesta=str(row.RESPUESTA)\n",
    "    ob_fecha=datetime.strptime(fech_gest,'%Y-%m-%d %H:%M:%S')\n",
    "    fech_prox=str(ob_fecha+ timedelta(days=3))\n",
    "    comentario=repuesta+' '+telefono\n",
    "    usuario=str('SISTEMC'+str(random.randrange(1,28,1)).zfill(2))\n",
    "    tiempo=str(row.TIEMPO)\n",
    "    ACION=str(row.Accion)\n",
    "    ini_querry=\"\"\"INSERT INTO `sistemecuador_atm`.`gestion_ivr` (`TIPO_GESTION`, \n",
    "                                `NRO_IDENTIFICACION_CLIENTE`, `CASA_COBRANZA`,\n",
    "                                `COD_AGENTE`, `USUARIO_SAC`, `FECHA_GESTION`, \n",
    "                                `ACCION_REALIZADA`, `RESPUESTA_OBTENIDA`, \n",
    "                                `CONTACTO_GESTIONO`,`COMENTARIOS_GESTIONO`,\n",
    "                                `NUMERO_GESTION`, `FECHA_PROXIMA_GESTION`, \n",
    "                                 `TIEMPO_GESTION`, `CANAL_GESTION`) \n",
    "                        VALUES ('1', '{0}', 'SISTEMA DE COBRO DEL ECUADOR',\n",
    "                                'D05554', 'SISTEMSUPER', '{1}', \n",
    "                                '{7}','{2}', 'TITULAR',\n",
    "                                '{3}','{4}',\n",
    "                                '{5}','{6}', 'GESTION');\"\"\".format(cedula,fech_gest,repuesta,comentario,telefono,fech_prox,tiempo,ACION)\n",
    "    try:\n",
    "        insert=cur.execute(ini_querry)\n",
    "        db.commit()\n",
    "        contador_subidos=contador_subidos+1\n",
    "    except:\n",
    "        db.rollback()\n",
    "        print('falla')\n",
    "    contador=contador+1\n",
    "    if (contador%10000)==0:\n",
    "        print(contador)\n",
    "        db = MySQLdb.connect(host=\"172.18.55.6\",    # tu host, usualmente localhost\n",
    "                     user=\"comandato\",         # tu usuario\n",
    "                     passwd=\"comandato123\",  # tu password\n",
    "                     db=\"sistemecuador_atm\")        # el nombre de la base de datos\n",
    "        cur = db.cursor()\n",
    "print(\"CANTIDAD DE CLIENTES QUE YA FUERON GESTIONADOS : \"+str(contador_ya_gestion))\n",
    "print(\"CANTIDAD DE CLIENTES QUE FUERON SUBIDOS : \"+str(contador_subidos))"
   ]
  },
  {
   "cell_type": "code",
   "execution_count": null,
   "metadata": {},
   "outputs": [],
   "source": []
  },
  {
   "cell_type": "code",
   "execution_count": 22,
   "metadata": {},
   "outputs": [
    {
     "data": {
      "text/html": [
       "<div>\n",
       "<style scoped>\n",
       "    .dataframe tbody tr th:only-of-type {\n",
       "        vertical-align: middle;\n",
       "    }\n",
       "\n",
       "    .dataframe tbody tr th {\n",
       "        vertical-align: top;\n",
       "    }\n",
       "\n",
       "    .dataframe thead th {\n",
       "        text-align: right;\n",
       "    }\n",
       "</style>\n",
       "<table border=\"1\" class=\"dataframe\">\n",
       "  <thead>\n",
       "    <tr style=\"text-align: right;\">\n",
       "      <th></th>\n",
       "      <th>max(idGESTION)</th>\n",
       "    </tr>\n",
       "  </thead>\n",
       "  <tbody>\n",
       "    <tr>\n",
       "      <th>0</th>\n",
       "      <td>10330275</td>\n",
       "    </tr>\n",
       "  </tbody>\n",
       "</table>\n",
       "</div>"
      ],
      "text/plain": [
       "   max(idGESTION)\n",
       "0        10330275"
      ]
     },
     "execution_count": 22,
     "metadata": {},
     "output_type": "execute_result"
    }
   ],
   "source": [
    "consulta_contarivr=\"\"\"\n",
    "    SELECT max(idGESTION)\n",
    "    FROM\n",
    "        sistemecuador_atm.gestion_ivr;\n",
    "\"\"\"\n",
    "contador=pd.read_sql(consulta_contarivr, con=db)\n",
    "contador"
   ]
  },
  {
   "cell_type": "code",
   "execution_count": 10,
   "metadata": {},
   "outputs": [
    {
     "data": {
      "text/html": [
       "<div>\n",
       "<style scoped>\n",
       "    .dataframe tbody tr th:only-of-type {\n",
       "        vertical-align: middle;\n",
       "    }\n",
       "\n",
       "    .dataframe tbody tr th {\n",
       "        vertical-align: top;\n",
       "    }\n",
       "\n",
       "    .dataframe thead th {\n",
       "        text-align: right;\n",
       "    }\n",
       "</style>\n",
       "<table border=\"1\" class=\"dataframe\">\n",
       "  <thead>\n",
       "    <tr style=\"text-align: right;\">\n",
       "      <th></th>\n",
       "      <th>NRO_IDENTIFICACION_CLIENTE</th>\n",
       "      <th>FECHA_GESTION</th>\n",
       "    </tr>\n",
       "  </thead>\n",
       "  <tbody>\n",
       "    <tr>\n",
       "      <th>0</th>\n",
       "      <td>0992440414001</td>\n",
       "      <td>2019-03-08 12:59:59</td>\n",
       "    </tr>\n",
       "  </tbody>\n",
       "</table>\n",
       "</div>"
      ],
      "text/plain": [
       "  NRO_IDENTIFICACION_CLIENTE       FECHA_GESTION\n",
       "0              0992440414001 2019-03-08 12:59:59"
      ]
     },
     "execution_count": 10,
     "metadata": {},
     "output_type": "execute_result"
    }
   ],
   "source": [
    "consulta_max=\"\"\"\n",
    "    SELECT NRO_IDENTIFICACION_CLIENTE,FECHA_GESTION\n",
    "    FROM\n",
    "        sistemecuador_atm.gestion_ivr\n",
    "    WHERE\n",
    "        idGESTION='10330274';\n",
    "\"\"\"\n",
    "cedmax=pd.read_sql(consulta_max, con=db)\n",
    "cedmax"
   ]
  },
  {
   "cell_type": "code",
   "execution_count": null,
   "metadata": {},
   "outputs": [],
   "source": []
  },
  {
   "cell_type": "code",
   "execution_count": null,
   "metadata": {},
   "outputs": [],
   "source": []
  },
  {
   "cell_type": "code",
   "execution_count": null,
   "metadata": {},
   "outputs": [],
   "source": []
  },
  {
   "cell_type": "code",
   "execution_count": null,
   "metadata": {},
   "outputs": [],
   "source": []
  }
 ],
 "metadata": {
  "kernelspec": {
   "display_name": "Python 3",
   "language": "python",
   "name": "python3"
  },
  "language_info": {
   "codemirror_mode": {
    "name": "ipython",
    "version": 3
   },
   "file_extension": ".py",
   "mimetype": "text/x-python",
   "name": "python",
   "nbconvert_exporter": "python",
   "pygments_lexer": "ipython3",
   "version": "3.6.5"
  }
 },
 "nbformat": 4,
 "nbformat_minor": 2
}
