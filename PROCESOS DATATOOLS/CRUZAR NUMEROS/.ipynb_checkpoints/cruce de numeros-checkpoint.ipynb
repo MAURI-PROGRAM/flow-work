{
 "cells": [
  {
   "cell_type": "markdown",
   "metadata": {},
   "source": [
    "<center><h1><font color=\"red\"><background color=\"yellow\">CRUCE DE NUMEROS TELEFONICOS</background></font></h1></center>"
   ]
  },
  {
   "cell_type": "markdown",
   "metadata": {},
   "source": [
    "## importar las librerias"
   ]
  },
  {
   "cell_type": "code",
   "execution_count": 1,
   "metadata": {},
   "outputs": [],
   "source": [
    "import pandas as pd\n",
    "import MySQLdb"
   ]
  },
  {
   "cell_type": "markdown",
   "metadata": {},
   "source": [
    "## Connexion a la base de datos"
   ]
  },
  {
   "cell_type": "code",
   "execution_count": 2,
   "metadata": {},
   "outputs": [],
   "source": [
    "#conecion a la BD\n",
    "db = MySQLdb.connect(host=\"172.18.55.6\",    # tu host, usualmente localhost\n",
    "                     user=\"comandato\",         # tu usuario\n",
    "                     passwd=\"comandato123\",  # tu password\n",
    "                     db=\"TELEFONICOS_NUMEROS\")        # el nombre de la base de datos"
   ]
  },
  {
   "cell_type": "markdown",
   "metadata": {},
   "source": [
    "## Leer base en formato excel de las cedulas que requieren numeros telefonicos"
   ]
  },
  {
   "cell_type": "code",
   "execution_count": 3,
   "metadata": {},
   "outputs": [],
   "source": [
    "leer_archivo=pd.read_excel(open('COMBINAR CORRIENTE.xlsx','rb'), sheet_name='BASE', dtype={\"CEDULA\": str,\"CED\":str})"
   ]
  },
  {
   "cell_type": "code",
   "execution_count": 4,
   "metadata": {},
   "outputs": [],
   "source": [
    "leer_demografico=pd.read_excel(open('COMBINAR CORRIENTE.xlsx','rb'), sheet_name='DEMOGRAFICOS', dtype={\"CEDULA\": str,\"NUMERO\":str})"
   ]
  },
  {
   "cell_type": "markdown",
   "metadata": {},
   "source": [
    "## Consultar numeros de la BD"
   ]
  },
  {
   "cell_type": "markdown",
   "metadata": {},
   "source": [
    "### -Querry para la consulta de telefonos"
   ]
  },
  {
   "cell_type": "code",
   "execution_count": 5,
   "metadata": {},
   "outputs": [],
   "source": [
    "consulta=\"\"\"SELECT \n",
    "                CONCAT(CEDULA) as CEDULA,\n",
    "                CONCAT('0',NUMERO) as NUMERO,\n",
    "                CASE CONTACTO\n",
    "                    WHEN '1' THEN 1\n",
    "                    WHEN '2' THEN 2\n",
    "                    WHEN '3' THEN 5\n",
    "                    WHEN '4' THEN 4\n",
    "                    WHEN '5' THEN 3\n",
    "                    WHEN ' ' THEN 3\n",
    "                    WHEN '' THEN 3\n",
    "                    WHEN 'TITULAR' THEN 1\n",
    "                    WHEN 'TERCERO' THEN 2\n",
    "                    WHEN 'EQUIVOCADO' THEN 5\n",
    "                    WHEN 'NO CONTACTO' THEN 4\n",
    "                    WHEN NULL THEN 3\n",
    "                    ELSE  3\n",
    "                END  AS  dueno\n",
    "            FROM\n",
    "                TELEFONICOS_NUMEROS.TELEFONOS HAVING dueno IN (1,2,5) ORDER BY dueno;\"\"\"\n",
    "\n",
    "\n",
    "#"
   ]
  },
  {
   "cell_type": "markdown",
   "metadata": {},
   "source": [
    "### -Ejecucion del querry y vaciado en un dataframe"
   ]
  },
  {
   "cell_type": "code",
   "execution_count": 6,
   "metadata": {},
   "outputs": [],
   "source": [
    "DEMO=pd.read_sql(consulta, con=db)"
   ]
  },
  {
   "cell_type": "markdown",
   "metadata": {},
   "source": [
    "## Cruzar numeros telefonicos"
   ]
  },
  {
   "cell_type": "code",
   "execution_count": 7,
   "metadata": {},
   "outputs": [],
   "source": [
    "result = pd.merge(leer_archivo,leer_demografico,on='CEDULA',how='left')"
   ]
  },
  {
   "cell_type": "code",
   "execution_count": 8,
   "metadata": {},
   "outputs": [],
   "source": [
    "result1 = pd.merge(result,DEMO,on=['CEDULA','NUMERO'],how='left')"
   ]
  },
  {
   "cell_type": "code",
   "execution_count": 9,
   "metadata": {},
   "outputs": [],
   "source": [
    "result1['dueno'].replace(to_replace=[1,2,5],value=['TITULAR','TERCERO','EQUIVOCADO'],inplace=True)"
   ]
  },
  {
   "cell_type": "code",
   "execution_count": 10,
   "metadata": {},
   "outputs": [],
   "source": [
    "newresult=result1[['NUMERO','NOMBRE','CED','SALDO','SUBCAMPANAPORCLIENTE','FECHA_COACTIVA','CARTERA','NUEVOS','TIPO','TIPO_ACUERDO','min','max','PLACA','NUEVO','DEMO','DEFINICION','CONTACTO','dueno','NUMPLACA','CAMPANA']]"
   ]
  },
  {
   "cell_type": "code",
   "execution_count": 11,
   "metadata": {},
   "outputs": [
    {
     "name": "stderr",
     "output_type": "stream",
     "text": [
      "c:\\users\\michael\\appdata\\local\\programs\\python\\python36-32\\lib\\site-packages\\ipykernel_launcher.py:1: SettingWithCopyWarning: \n",
      "A value is trying to be set on a copy of a slice from a DataFrame.\n",
      "Try using .loc[row_indexer,col_indexer] = value instead\n",
      "\n",
      "See the caveats in the documentation: http://pandas.pydata.org/pandas-docs/stable/indexing.html#indexing-view-versus-copy\n",
      "  \"\"\"Entry point for launching an IPython kernel.\n"
     ]
    }
   ],
   "source": [
    "newresult['NUMERO']=newresult['NUMERO'].fillna('SIN DEMOGRAFICO')"
   ]
  },
  {
   "cell_type": "code",
   "execution_count": 12,
   "metadata": {},
   "outputs": [
    {
     "name": "stderr",
     "output_type": "stream",
     "text": [
      "c:\\users\\michael\\appdata\\local\\programs\\python\\python36-32\\lib\\site-packages\\ipykernel_launcher.py:1: SettingWithCopyWarning: \n",
      "A value is trying to be set on a copy of a slice from a DataFrame\n",
      "\n",
      "See the caveats in the documentation: http://pandas.pydata.org/pandas-docs/stable/indexing.html#indexing-view-versus-copy\n",
      "  \"\"\"Entry point for launching an IPython kernel.\n"
     ]
    }
   ],
   "source": [
    "newresult.drop_duplicates(['NUMERO','CED'], keep='first',inplace=True)"
   ]
  },
  {
   "cell_type": "code",
   "execution_count": 13,
   "metadata": {},
   "outputs": [],
   "source": [
    "writer = pd.ExcelWriter('cruce final.xlsx', engine='xlsxwriter')\n",
    "newresult.to_excel(writer, sheet_name='BASE')\n",
    "worksheet = writer.sheets['BASE']\n",
    "writer.save()"
   ]
  },
  {
   "cell_type": "code",
   "execution_count": null,
   "metadata": {},
   "outputs": [],
   "source": []
  },
  {
   "cell_type": "code",
   "execution_count": 14,
   "metadata": {},
   "outputs": [],
   "source": [
    "def agregar_ceros(num):\n",
    "    ced=num['IDENTIFICACION_DEUDOR']\n",
    "    if len(ced)==9 or len(ced)==12 :\n",
    "        if ced.isdigit():\n",
    "            return '0'+ced\n",
    "    return ced"
   ]
  },
  {
   "cell_type": "code",
   "execution_count": 15,
   "metadata": {},
   "outputs": [],
   "source": [
    "leer_archivo_IVR = newresult"
   ]
  },
  {
   "cell_type": "code",
   "execution_count": 16,
   "metadata": {},
   "outputs": [],
   "source": [
    "leer_demografico=pd.read_excel(open('Sistema de cobro.xlsx','rb'), sheet_name='Demografico', dtype={\"IDENTIFICACION_DEUDOR\": str,\"TELEFONO\":str})"
   ]
  },
  {
   "cell_type": "code",
   "execution_count": 17,
   "metadata": {},
   "outputs": [],
   "source": [
    "leer_demografico=leer_demografico[['IDENTIFICACION_DEUDOR','TELEFONO']]"
   ]
  },
  {
   "cell_type": "code",
   "execution_count": 18,
   "metadata": {},
   "outputs": [
    {
     "data": {
      "text/html": [
       "<div>\n",
       "<style scoped>\n",
       "    .dataframe tbody tr th:only-of-type {\n",
       "        vertical-align: middle;\n",
       "    }\n",
       "\n",
       "    .dataframe tbody tr th {\n",
       "        vertical-align: top;\n",
       "    }\n",
       "\n",
       "    .dataframe thead th {\n",
       "        text-align: right;\n",
       "    }\n",
       "</style>\n",
       "<table border=\"1\" class=\"dataframe\">\n",
       "  <thead>\n",
       "    <tr style=\"text-align: right;\">\n",
       "      <th></th>\n",
       "      <th>IDENTIFICACION_DEUDOR</th>\n",
       "      <th>TELEFONO</th>\n",
       "    </tr>\n",
       "  </thead>\n",
       "  <tbody>\n",
       "    <tr>\n",
       "      <th>0</th>\n",
       "      <td>3728722</td>\n",
       "      <td>42203770</td>\n",
       "    </tr>\n",
       "    <tr>\n",
       "      <th>1</th>\n",
       "      <td>3728722</td>\n",
       "      <td>982906822</td>\n",
       "    </tr>\n",
       "    <tr>\n",
       "      <th>2</th>\n",
       "      <td>3728722</td>\n",
       "      <td>993681562</td>\n",
       "    </tr>\n",
       "    <tr>\n",
       "      <th>3</th>\n",
       "      <td>100025030</td>\n",
       "      <td>42018327</td>\n",
       "    </tr>\n",
       "    <tr>\n",
       "      <th>4</th>\n",
       "      <td>100025030</td>\n",
       "      <td>990806079</td>\n",
       "    </tr>\n",
       "  </tbody>\n",
       "</table>\n",
       "</div>"
      ],
      "text/plain": [
       "  IDENTIFICACION_DEUDOR   TELEFONO\n",
       "0               3728722   42203770\n",
       "1               3728722  982906822\n",
       "2               3728722  993681562\n",
       "3             100025030   42018327\n",
       "4             100025030  990806079"
      ]
     },
     "execution_count": 18,
     "metadata": {},
     "output_type": "execute_result"
    }
   ],
   "source": [
    "leer_demografico.head()"
   ]
  },
  {
   "cell_type": "code",
   "execution_count": 19,
   "metadata": {},
   "outputs": [],
   "source": [
    "leer_demografico['IDENTIFICACION_DEUDOR']=leer_demografico.apply(agregar_ceros,axis=1)"
   ]
  },
  {
   "cell_type": "code",
   "execution_count": 20,
   "metadata": {},
   "outputs": [],
   "source": [
    "leer_demografico['ASIGNADOS']='SI'"
   ]
  },
  {
   "cell_type": "code",
   "execution_count": 21,
   "metadata": {},
   "outputs": [],
   "source": [
    "leer_demografico = leer_demografico.rename(columns={'IDENTIFICACION_DEUDOR':'CED','TELEFONO':'DEMO'})"
   ]
  },
  {
   "cell_type": "code",
   "execution_count": 22,
   "metadata": {},
   "outputs": [
    {
     "data": {
      "text/html": [
       "<div>\n",
       "<style scoped>\n",
       "    .dataframe tbody tr th:only-of-type {\n",
       "        vertical-align: middle;\n",
       "    }\n",
       "\n",
       "    .dataframe tbody tr th {\n",
       "        vertical-align: top;\n",
       "    }\n",
       "\n",
       "    .dataframe thead th {\n",
       "        text-align: right;\n",
       "    }\n",
       "</style>\n",
       "<table border=\"1\" class=\"dataframe\">\n",
       "  <thead>\n",
       "    <tr style=\"text-align: right;\">\n",
       "      <th></th>\n",
       "      <th>CED</th>\n",
       "      <th>DEMO</th>\n",
       "      <th>ASIGNADOS</th>\n",
       "    </tr>\n",
       "  </thead>\n",
       "  <tbody>\n",
       "    <tr>\n",
       "      <th>0</th>\n",
       "      <td>3728722</td>\n",
       "      <td>42203770</td>\n",
       "      <td>SI</td>\n",
       "    </tr>\n",
       "    <tr>\n",
       "      <th>1</th>\n",
       "      <td>3728722</td>\n",
       "      <td>982906822</td>\n",
       "      <td>SI</td>\n",
       "    </tr>\n",
       "    <tr>\n",
       "      <th>2</th>\n",
       "      <td>3728722</td>\n",
       "      <td>993681562</td>\n",
       "      <td>SI</td>\n",
       "    </tr>\n",
       "    <tr>\n",
       "      <th>3</th>\n",
       "      <td>0100025030</td>\n",
       "      <td>42018327</td>\n",
       "      <td>SI</td>\n",
       "    </tr>\n",
       "    <tr>\n",
       "      <th>4</th>\n",
       "      <td>0100025030</td>\n",
       "      <td>990806079</td>\n",
       "      <td>SI</td>\n",
       "    </tr>\n",
       "  </tbody>\n",
       "</table>\n",
       "</div>"
      ],
      "text/plain": [
       "          CED       DEMO ASIGNADOS\n",
       "0     3728722   42203770        SI\n",
       "1     3728722  982906822        SI\n",
       "2     3728722  993681562        SI\n",
       "3  0100025030   42018327        SI\n",
       "4  0100025030  990806079        SI"
      ]
     },
     "execution_count": 22,
     "metadata": {},
     "output_type": "execute_result"
    }
   ],
   "source": [
    "leer_demografico.head()"
   ]
  },
  {
   "cell_type": "code",
   "execution_count": 23,
   "metadata": {},
   "outputs": [],
   "source": [
    "leer_archivo_IVR1=leer_archivo_IVR.copy()\n",
    "leer_demografico1=leer_demografico.copy()"
   ]
  },
  {
   "cell_type": "code",
   "execution_count": 24,
   "metadata": {},
   "outputs": [],
   "source": [
    "leer_archivo_IVR1.drop_duplicates(['CED','DEMO'], keep='first',inplace=True)"
   ]
  },
  {
   "cell_type": "code",
   "execution_count": 25,
   "metadata": {},
   "outputs": [],
   "source": [
    "leer_demografico1.drop_duplicates(['CED','DEMO'], keep='first',inplace=True)"
   ]
  },
  {
   "cell_type": "code",
   "execution_count": 26,
   "metadata": {},
   "outputs": [],
   "source": [
    "leer_archivo_IVR1['DEMO']=leer_archivo_IVR1['DEMO'].astype(object)"
   ]
  },
  {
   "cell_type": "code",
   "execution_count": 27,
   "metadata": {},
   "outputs": [],
   "source": [
    "verificacion = pd.merge(leer_archivo_IVR1,leer_demografico1,on=['CED','DEMO'],how='left')"
   ]
  },
  {
   "cell_type": "code",
   "execution_count": 28,
   "metadata": {},
   "outputs": [],
   "source": [
    "verificacion.drop_duplicates(['DEMO','CED'], keep='first',inplace=True)\n",
    "nuevo_archivo='VERIFICADOS.xlsx'"
   ]
  },
  {
   "cell_type": "code",
   "execution_count": 29,
   "metadata": {},
   "outputs": [],
   "source": [
    "writer = pd.ExcelWriter(nuevo_archivo, engine='xlsxwriter')\n",
    "verificacion.to_excel(writer, sheet_name='BASE')\n",
    "worksheet = writer.sheets['BASE']\n",
    "writer.save()"
   ]
  },
  {
   "cell_type": "code",
   "execution_count": null,
   "metadata": {},
   "outputs": [],
   "source": []
  },
  {
   "cell_type": "code",
   "execution_count": null,
   "metadata": {},
   "outputs": [],
   "source": []
  },
  {
   "cell_type": "code",
   "execution_count": 30,
   "metadata": {},
   "outputs": [],
   "source": [
    "nuevo_archivo='DEMOS.xlsx'\n",
    "writer = pd.ExcelWriter(nuevo_archivo, engine='xlsxwriter')\n",
    "DEMO.to_excel(writer, sheet_name='TELEFONOS')\n",
    "worksheet = writer.sheets['TELEFONOS']\n",
    "writer.save()"
   ]
  },
  {
   "cell_type": "code",
   "execution_count": null,
   "metadata": {},
   "outputs": [],
   "source": [
    "jeanpl.k44@gmail.com"
   ]
  },
  {
   "cell_type": "code",
   "execution_count": null,
   "metadata": {},
   "outputs": [],
   "source": []
  },
  {
   "cell_type": "code",
   "execution_count": null,
   "metadata": {},
   "outputs": [],
   "source": []
  }
 ],
 "metadata": {
  "kernelspec": {
   "display_name": "Python 3",
   "language": "python",
   "name": "python3"
  },
  "language_info": {
   "codemirror_mode": {
    "name": "ipython",
    "version": 3
   },
   "file_extension": ".py",
   "mimetype": "text/x-python",
   "name": "python",
   "nbconvert_exporter": "python",
   "pygments_lexer": "ipython3",
   "version": "3.6.5"
  }
 },
 "nbformat": 4,
 "nbformat_minor": 2
}
