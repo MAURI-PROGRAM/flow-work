{
 "cells": [
  {
   "cell_type": "code",
   "execution_count": 1,
   "metadata": {},
   "outputs": [],
   "source": [
    "import pandas as pd"
   ]
  },
  {
   "cell_type": "code",
   "execution_count": 22,
   "metadata": {},
   "outputs": [],
   "source": [
    "base=pd.read_excel(open('REPORTE CONSOLIDADO.xlsx','rb'), sheet_name='Hoja1')"
   ]
  },
  {
   "cell_type": "code",
   "execution_count": 24,
   "metadata": {},
   "outputs": [
    {
     "data": {
      "text/html": [
       "<div>\n",
       "<style scoped>\n",
       "    .dataframe tbody tr th:only-of-type {\n",
       "        vertical-align: middle;\n",
       "    }\n",
       "\n",
       "    .dataframe tbody tr th {\n",
       "        vertical-align: top;\n",
       "    }\n",
       "\n",
       "    .dataframe thead th {\n",
       "        text-align: right;\n",
       "    }\n",
       "</style>\n",
       "<table border=\"1\" class=\"dataframe\">\n",
       "  <thead>\n",
       "    <tr style=\"text-align: right;\">\n",
       "      <th></th>\n",
       "      <th>CEDULA</th>\n",
       "      <th>SALDO</th>\n",
       "      <th>CONTACTABILIDAD</th>\n",
       "      <th>CONTACTO</th>\n",
       "      <th>ACUERDO</th>\n",
       "      <th>MES</th>\n",
       "      <th>SEMANA</th>\n",
       "    </tr>\n",
       "  </thead>\n",
       "  <tbody>\n",
       "    <tr>\n",
       "      <th>0</th>\n",
       "      <td>478836</td>\n",
       "      <td>18.75</td>\n",
       "      <td>CONTESTO IVR</td>\n",
       "      <td>TITULAR</td>\n",
       "      <td>SIN RESPUESTA</td>\n",
       "      <td>JULIO</td>\n",
       "      <td>1</td>\n",
       "    </tr>\n",
       "    <tr>\n",
       "      <th>1</th>\n",
       "      <td>10497251</td>\n",
       "      <td>55.80</td>\n",
       "      <td>CONTESTO IVR</td>\n",
       "      <td>SIN IDENTIFICAR</td>\n",
       "      <td>SIN RESPUESTA</td>\n",
       "      <td>JULIO</td>\n",
       "      <td>1</td>\n",
       "    </tr>\n",
       "    <tr>\n",
       "      <th>2</th>\n",
       "      <td>35037188</td>\n",
       "      <td>35.40</td>\n",
       "      <td>CONTESTO IVR</td>\n",
       "      <td>TITULAR</td>\n",
       "      <td>SIN RESPUESTA</td>\n",
       "      <td>JULIO</td>\n",
       "      <td>1</td>\n",
       "    </tr>\n",
       "    <tr>\n",
       "      <th>3</th>\n",
       "      <td>63320369</td>\n",
       "      <td>17.70</td>\n",
       "      <td>CONTESTO IVR</td>\n",
       "      <td>SIN IDENTIFICAR</td>\n",
       "      <td>SIN RESPUESTA</td>\n",
       "      <td>JULIO</td>\n",
       "      <td>1</td>\n",
       "    </tr>\n",
       "    <tr>\n",
       "      <th>4</th>\n",
       "      <td>63543290</td>\n",
       "      <td>18.30</td>\n",
       "      <td>CONTESTO IVR</td>\n",
       "      <td>SIN IDENTIFICAR</td>\n",
       "      <td>SIN RESPUESTA</td>\n",
       "      <td>JULIO</td>\n",
       "      <td>1</td>\n",
       "    </tr>\n",
       "  </tbody>\n",
       "</table>\n",
       "</div>"
      ],
      "text/plain": [
       "     CEDULA  SALDO CONTACTABILIDAD         CONTACTO        ACUERDO    MES  \\\n",
       "0    478836  18.75    CONTESTO IVR          TITULAR  SIN RESPUESTA  JULIO   \n",
       "1  10497251  55.80    CONTESTO IVR  SIN IDENTIFICAR  SIN RESPUESTA  JULIO   \n",
       "2  35037188  35.40    CONTESTO IVR          TITULAR  SIN RESPUESTA  JULIO   \n",
       "3  63320369  17.70    CONTESTO IVR  SIN IDENTIFICAR  SIN RESPUESTA  JULIO   \n",
       "4  63543290  18.30    CONTESTO IVR  SIN IDENTIFICAR  SIN RESPUESTA  JULIO   \n",
       "\n",
       "   SEMANA  \n",
       "0       1  \n",
       "1       1  \n",
       "2       1  \n",
       "3       1  \n",
       "4       1  "
      ]
     },
     "execution_count": 24,
     "metadata": {},
     "output_type": "execute_result"
    }
   ],
   "source": [
    "base[\"ACUERDO\"]  = base[\"ACUERDO\"].astype('category')\n",
    "base[\"ACUERDO\"]  = base[\"ACUERDO\"].cat.set_categories([\"ACUERDO DE PAGO\",\"SIN RESPUESTA\"])\n",
    "base[\"CONTACTO\"]  = base[\"CONTACTO\"].astype('category')\n",
    "base[\"CONTACTO\"]  = base[\"CONTACTO\"].cat.set_categories([\"TITULAR\",\"TERCERO\",\"SIN IDENTIFICAR\"])\n",
    "base[\"CONTACTABILIDAD\"]  = base[\"CONTACTABILIDAD\"].astype('category')\n",
    "base[\"CONTACTABILIDAD\"]  = base[\"CONTACTABILIDAD\"].cat.set_categories([\"CONTESTO IVR\",\"NO CONTESTO IVR\"])\n",
    "base[\"MES\"]  = base[\"MES\"].astype('category')\n",
    "base[\"MES\"]  = base[\"MES\"].cat.set_categories([\"JULIO\",\"AGOSTO\",\"SEPTIEMBRE\"])\n",
    "base.head()"
   ]
  },
  {
   "cell_type": "code",
   "execution_count": 45,
   "metadata": {},
   "outputs": [],
   "source": [
    "base=base.sort_values(by=['MES'],ascending=[True])"
   ]
  },
  {
   "cell_type": "code",
   "execution_count": 46,
   "metadata": {},
   "outputs": [],
   "source": [
    "base=base.sort_values(by=['CONTACTABILIDAD'],ascending=[True])"
   ]
  },
  {
   "cell_type": "code",
   "execution_count": 47,
   "metadata": {},
   "outputs": [],
   "source": [
    "base=base.sort_values(by=['CONTACTO'],ascending=[True])"
   ]
  },
  {
   "cell_type": "code",
   "execution_count": 48,
   "metadata": {},
   "outputs": [],
   "source": [
    "base=base.sort_values(by=['ACUERDO'],ascending=[True])"
   ]
  },
  {
   "cell_type": "code",
   "execution_count": 55,
   "metadata": {},
   "outputs": [
    {
     "data": {
      "text/plain": [
       "CEDULA             467952\n",
       "SALDO              467952\n",
       "CONTACTABILIDAD    467952\n",
       "CONTACTO           467952\n",
       "ACUERDO            467952\n",
       "MES                467952\n",
       "SEMANA             467952\n",
       "dtype: int64"
      ]
     },
     "execution_count": 55,
     "metadata": {},
     "output_type": "execute_result"
    }
   ],
   "source": [
    "base.count()"
   ]
  },
  {
   "cell_type": "code",
   "execution_count": 49,
   "metadata": {},
   "outputs": [],
   "source": [
    "base_noduplicados=base.copy()"
   ]
  },
  {
   "cell_type": "code",
   "execution_count": 50,
   "metadata": {},
   "outputs": [],
   "source": [
    "base_noduplicados=base_noduplicados.drop_duplicates(['CEDULA'], keep='first')"
   ]
  },
  {
   "cell_type": "code",
   "execution_count": 53,
   "metadata": {},
   "outputs": [
    {
     "data": {
      "text/plain": [
       "CEDULA             53134\n",
       "SALDO              53134\n",
       "CONTACTABILIDAD    53134\n",
       "CONTACTO           53134\n",
       "ACUERDO            53134\n",
       "MES                53134\n",
       "SEMANA             53134\n",
       "dtype: int64"
      ]
     },
     "execution_count": 53,
     "metadata": {},
     "output_type": "execute_result"
    }
   ],
   "source": [
    "base_noduplicados.count()"
   ]
  },
  {
   "cell_type": "code",
   "execution_count": 37,
   "metadata": {},
   "outputs": [],
   "source": [
    "base_pormes=base.copy()"
   ]
  },
  {
   "cell_type": "code",
   "execution_count": 52,
   "metadata": {},
   "outputs": [],
   "source": [
    "base_pormes=base_pormes.drop_duplicates(['CEDULA','MES'], keep='first')"
   ]
  },
  {
   "cell_type": "code",
   "execution_count": 54,
   "metadata": {},
   "outputs": [
    {
     "data": {
      "text/plain": [
       "CEDULA             126452\n",
       "SALDO              126452\n",
       "CONTACTABILIDAD    126452\n",
       "CONTACTO           126452\n",
       "ACUERDO            126452\n",
       "MES                126452\n",
       "SEMANA             126452\n",
       "dtype: int64"
      ]
     },
     "execution_count": 54,
     "metadata": {},
     "output_type": "execute_result"
    }
   ],
   "source": [
    "base_pormes.count()"
   ]
  },
  {
   "cell_type": "code",
   "execution_count": 57,
   "metadata": {},
   "outputs": [],
   "source": [
    "writer = pd.ExcelWriter('Por meses.xlsx', engine='xlsxwriter')\n",
    "base_pormes.to_excel(writer, sheet_name='BASE TOTAL')\n",
    "worksheet = writer.sheets['BASE TOTAL']"
   ]
  },
  {
   "cell_type": "code",
   "execution_count": null,
   "metadata": {},
   "outputs": [],
   "source": []
  }
 ],
 "metadata": {
  "kernelspec": {
   "display_name": "Python 3",
   "language": "python",
   "name": "python3"
  },
  "language_info": {
   "codemirror_mode": {
    "name": "ipython",
    "version": 3
   },
   "file_extension": ".py",
   "mimetype": "text/x-python",
   "name": "python",
   "nbconvert_exporter": "python",
   "pygments_lexer": "ipython3",
   "version": "3.6.5"
  }
 },
 "nbformat": 4,
 "nbformat_minor": 2
}
