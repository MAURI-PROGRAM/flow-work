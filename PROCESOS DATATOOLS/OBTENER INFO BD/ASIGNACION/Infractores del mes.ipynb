{
 "cells": [
  {
   "cell_type": "code",
   "execution_count": 1,
   "metadata": {},
   "outputs": [],
   "source": [
    "import pandas as pd\n",
    "import MySQLdb"
   ]
  },
  {
   "cell_type": "code",
   "execution_count": 2,
   "metadata": {},
   "outputs": [],
   "source": [
    "import matplotlib as mpl\n",
    "import matplotlib.pyplot as plt\n",
    "%matplotlib notebook"
   ]
  },
  {
   "cell_type": "code",
   "execution_count": 3,
   "metadata": {},
   "outputs": [],
   "source": [
    "db = MySQLdb.connect(host=\"172.18.55.6\",    # tu host, usualmente localhost\n",
    "                     user=\"comandato\",      # tu usuario\n",
    "                     passwd=\"comandato123\",  # tu password\n",
    "                     db=\"SISTEMECUADOR_ATM\")        # el nombre de la base de datos"
   ]
  },
  {
   "cell_type": "code",
   "execution_count": 4,
   "metadata": {},
   "outputs": [],
   "source": [
    "mes=5"
   ]
  },
  {
   "cell_type": "code",
   "execution_count": 5,
   "metadata": {},
   "outputs": [],
   "source": [
    "writer = pd.ExcelWriter('ASIGNACION MES MARZO.xlsx', engine='xlsxwriter')"
   ]
  },
  {
   "cell_type": "code",
   "execution_count": null,
   "metadata": {},
   "outputs": [],
   "source": []
  },
  {
   "cell_type": "code",
   "execution_count": 6,
   "metadata": {},
   "outputs": [],
   "source": [
    "totales=\"\"\" SELECT *  FROM \n",
    "                    SISTEMECUADOR_ATM.MULTAS_MENSUALES \n",
    "                where \n",
    "                    Mes={0} and anio='2019'\"\"\".format(mes)"
   ]
  },
  {
   "cell_type": "code",
   "execution_count": 7,
   "metadata": {},
   "outputs": [],
   "source": [
    "total=pd.read_sql(totales, con=db)"
   ]
  },
  {
   "cell_type": "code",
   "execution_count": 8,
   "metadata": {},
   "outputs": [],
   "source": [
    "total.to_excel(writer, sheet_name='TOTAL')\n",
    "worksheet = writer.sheets['TOTAL']"
   ]
  },
  {
   "cell_type": "code",
   "execution_count": null,
   "metadata": {},
   "outputs": [],
   "source": []
  },
  {
   "cell_type": "code",
   "execution_count": 9,
   "metadata": {},
   "outputs": [],
   "source": [
    "infractores=\"\"\" SELECT Cedula,count(*) as multas,\n",
    "                    sum(Saldo) as monto,Segmento,Cartera,\n",
    "                    min(Dias_mora) as menor_mora,max(Dias_mora) as mayor_mora,\n",
    "                    min(Dia) as ingreso_min,max(Dia) as ingreso_max\n",
    "                FROM \n",
    "                    SISTEMECUADOR_ATM.MULTAS_MENSUALES \n",
    "                where \n",
    "                    Mes={0} and anio='2019' group by Cedula,Cartera\"\"\".format(mes)"
   ]
  },
  {
   "cell_type": "code",
   "execution_count": 10,
   "metadata": {},
   "outputs": [],
   "source": [
    "resultado=pd.read_sql(infractores, con=db)"
   ]
  },
  {
   "cell_type": "code",
   "execution_count": 11,
   "metadata": {},
   "outputs": [
    {
     "data": {
      "text/html": [
       "<div>\n",
       "<style scoped>\n",
       "    .dataframe tbody tr th:only-of-type {\n",
       "        vertical-align: middle;\n",
       "    }\n",
       "\n",
       "    .dataframe tbody tr th {\n",
       "        vertical-align: top;\n",
       "    }\n",
       "\n",
       "    .dataframe thead th {\n",
       "        text-align: right;\n",
       "    }\n",
       "</style>\n",
       "<table border=\"1\" class=\"dataframe\">\n",
       "  <thead>\n",
       "    <tr style=\"text-align: right;\">\n",
       "      <th></th>\n",
       "      <th>Cedula</th>\n",
       "      <th>multas</th>\n",
       "      <th>monto</th>\n",
       "      <th>Segmento</th>\n",
       "      <th>Cartera</th>\n",
       "      <th>menor_mora</th>\n",
       "      <th>mayor_mora</th>\n",
       "      <th>ingreso_min</th>\n",
       "      <th>ingreso_max</th>\n",
       "    </tr>\n",
       "  </thead>\n",
       "  <tbody>\n",
       "    <tr>\n",
       "      <th>28886</th>\n",
       "      <td>FB574080</td>\n",
       "      <td>1</td>\n",
       "      <td>19.3</td>\n",
       "      <td>MULTAS NUEVAS</td>\n",
       "      <td>CORRIENTE</td>\n",
       "      <td>303</td>\n",
       "      <td>303</td>\n",
       "      <td>1</td>\n",
       "      <td>1</td>\n",
       "    </tr>\n",
       "    <tr>\n",
       "      <th>28887</th>\n",
       "      <td>FB587397</td>\n",
       "      <td>1</td>\n",
       "      <td>19.3</td>\n",
       "      <td>MULTAS NUEVAS</td>\n",
       "      <td>CORRIENTE</td>\n",
       "      <td>302</td>\n",
       "      <td>302</td>\n",
       "      <td>1</td>\n",
       "      <td>1</td>\n",
       "    </tr>\n",
       "    <tr>\n",
       "      <th>28888</th>\n",
       "      <td>I685506</td>\n",
       "      <td>1</td>\n",
       "      <td>57.9</td>\n",
       "      <td>MULTAS NUEVAS</td>\n",
       "      <td>CORRIENTE</td>\n",
       "      <td>159</td>\n",
       "      <td>159</td>\n",
       "      <td>1</td>\n",
       "      <td>1</td>\n",
       "    </tr>\n",
       "    <tr>\n",
       "      <th>28889</th>\n",
       "      <td>NMRDK74F5</td>\n",
       "      <td>2</td>\n",
       "      <td>433.4</td>\n",
       "      <td>DEFAULT</td>\n",
       "      <td>CORRIENTE</td>\n",
       "      <td>36</td>\n",
       "      <td>130</td>\n",
       "      <td>1</td>\n",
       "      <td>20</td>\n",
       "    </tr>\n",
       "    <tr>\n",
       "      <th>28890</th>\n",
       "      <td>XDA822644</td>\n",
       "      <td>4</td>\n",
       "      <td>407.7</td>\n",
       "      <td>MULTAS NUEVAS</td>\n",
       "      <td>CORRIENTE</td>\n",
       "      <td>42</td>\n",
       "      <td>355</td>\n",
       "      <td>1</td>\n",
       "      <td>1</td>\n",
       "    </tr>\n",
       "  </tbody>\n",
       "</table>\n",
       "</div>"
      ],
      "text/plain": [
       "          Cedula  multas  monto       Segmento    Cartera  menor_mora  \\\n",
       "28886   FB574080       1   19.3  MULTAS NUEVAS  CORRIENTE         303   \n",
       "28887   FB587397       1   19.3  MULTAS NUEVAS  CORRIENTE         302   \n",
       "28888    I685506       1   57.9  MULTAS NUEVAS  CORRIENTE         159   \n",
       "28889  NMRDK74F5       2  433.4        DEFAULT  CORRIENTE          36   \n",
       "28890  XDA822644       4  407.7  MULTAS NUEVAS  CORRIENTE          42   \n",
       "\n",
       "       mayor_mora  ingreso_min  ingreso_max  \n",
       "28886         303            1            1  \n",
       "28887         302            1            1  \n",
       "28888         159            1            1  \n",
       "28889         130            1           20  \n",
       "28890         355            1            1  "
      ]
     },
     "execution_count": 11,
     "metadata": {},
     "output_type": "execute_result"
    }
   ],
   "source": [
    "resultado.tail()"
   ]
  },
  {
   "cell_type": "code",
   "execution_count": 12,
   "metadata": {},
   "outputs": [],
   "source": [
    "def agregar_ceros(base):\n",
    "    ced=base['Cedula']\n",
    "    if len(ced)==9 or len(ced)==12 :\n",
    "        if ced.isdigit():\n",
    "            return '0'+ced\n",
    "    return ced"
   ]
  },
  {
   "cell_type": "code",
   "execution_count": 13,
   "metadata": {},
   "outputs": [],
   "source": [
    "resultado['Cedula']=resultado.apply(agregar_ceros,axis=1)"
   ]
  },
  {
   "cell_type": "code",
   "execution_count": 14,
   "metadata": {},
   "outputs": [
    {
     "data": {
      "text/html": [
       "<div>\n",
       "<style scoped>\n",
       "    .dataframe tbody tr th:only-of-type {\n",
       "        vertical-align: middle;\n",
       "    }\n",
       "\n",
       "    .dataframe tbody tr th {\n",
       "        vertical-align: top;\n",
       "    }\n",
       "\n",
       "    .dataframe thead th {\n",
       "        text-align: right;\n",
       "    }\n",
       "</style>\n",
       "<table border=\"1\" class=\"dataframe\">\n",
       "  <thead>\n",
       "    <tr style=\"text-align: right;\">\n",
       "      <th></th>\n",
       "      <th>Cedula</th>\n",
       "      <th>multas</th>\n",
       "      <th>monto</th>\n",
       "      <th>Segmento</th>\n",
       "      <th>Cartera</th>\n",
       "      <th>menor_mora</th>\n",
       "      <th>mayor_mora</th>\n",
       "      <th>ingreso_min</th>\n",
       "      <th>ingreso_max</th>\n",
       "    </tr>\n",
       "  </thead>\n",
       "  <tbody>\n",
       "    <tr>\n",
       "      <th>0</th>\n",
       "      <td>00042448K</td>\n",
       "      <td>1</td>\n",
       "      <td>115.8</td>\n",
       "      <td>MULTAS NUEVAS</td>\n",
       "      <td>CORRIENTE</td>\n",
       "      <td>191</td>\n",
       "      <td>191</td>\n",
       "      <td>1</td>\n",
       "      <td>1</td>\n",
       "    </tr>\n",
       "    <tr>\n",
       "      <th>1</th>\n",
       "      <td>0100025030</td>\n",
       "      <td>1</td>\n",
       "      <td>19.3</td>\n",
       "      <td>MULTAS NUEVAS</td>\n",
       "      <td>CORRIENTE</td>\n",
       "      <td>368</td>\n",
       "      <td>368</td>\n",
       "      <td>1</td>\n",
       "      <td>1</td>\n",
       "    </tr>\n",
       "    <tr>\n",
       "      <th>2</th>\n",
       "      <td>1000559797</td>\n",
       "      <td>5</td>\n",
       "      <td>248.8</td>\n",
       "      <td>MULTAS NUEVAS</td>\n",
       "      <td>CORRIENTE</td>\n",
       "      <td>100</td>\n",
       "      <td>548</td>\n",
       "      <td>1</td>\n",
       "      <td>1</td>\n",
       "    </tr>\n",
       "    <tr>\n",
       "      <th>3</th>\n",
       "      <td>1000584647</td>\n",
       "      <td>1</td>\n",
       "      <td>57.9</td>\n",
       "      <td>MULTAS NUEVAS</td>\n",
       "      <td>CORRIENTE</td>\n",
       "      <td>348</td>\n",
       "      <td>348</td>\n",
       "      <td>1</td>\n",
       "      <td>1</td>\n",
       "    </tr>\n",
       "    <tr>\n",
       "      <th>4</th>\n",
       "      <td>1000620623</td>\n",
       "      <td>2</td>\n",
       "      <td>38.6</td>\n",
       "      <td>MULTAS NUEVAS</td>\n",
       "      <td>CORRIENTE</td>\n",
       "      <td>205</td>\n",
       "      <td>261</td>\n",
       "      <td>1</td>\n",
       "      <td>1</td>\n",
       "    </tr>\n",
       "  </tbody>\n",
       "</table>\n",
       "</div>"
      ],
      "text/plain": [
       "       Cedula  multas  monto       Segmento    Cartera  menor_mora  \\\n",
       "0   00042448K       1  115.8  MULTAS NUEVAS  CORRIENTE         191   \n",
       "1  0100025030       1   19.3  MULTAS NUEVAS  CORRIENTE         368   \n",
       "2  1000559797       5  248.8  MULTAS NUEVAS  CORRIENTE         100   \n",
       "3  1000584647       1   57.9  MULTAS NUEVAS  CORRIENTE         348   \n",
       "4  1000620623       2   38.6  MULTAS NUEVAS  CORRIENTE         205   \n",
       "\n",
       "   mayor_mora  ingreso_min  ingreso_max  \n",
       "0         191            1            1  \n",
       "1         368            1            1  \n",
       "2         548            1            1  \n",
       "3         348            1            1  \n",
       "4         261            1            1  "
      ]
     },
     "execution_count": 14,
     "metadata": {},
     "output_type": "execute_result"
    }
   ],
   "source": [
    "resultado.head()"
   ]
  },
  {
   "cell_type": "code",
   "execution_count": 15,
   "metadata": {},
   "outputs": [],
   "source": [
    "multas=\"\"\" SELECT Dia,count(*) as num_multas,sum(Saldo) as monto\n",
    "                FROM \n",
    "                    SISTEMECUADOR_ATM.MULTAS_MENSUALES \n",
    "                where \n",
    "                    Mes={0} and anio='2019' group by Dia\"\"\".format(mes)"
   ]
  },
  {
   "cell_type": "code",
   "execution_count": 16,
   "metadata": {},
   "outputs": [],
   "source": [
    "resultado_multas=pd.read_sql(multas, con=db)"
   ]
  },
  {
   "cell_type": "code",
   "execution_count": 17,
   "metadata": {},
   "outputs": [
    {
     "data": {
      "text/plain": [
       "ingreso_min\n",
       "1     28706\n",
       "6        43\n",
       "9         1\n",
       "10        2\n",
       "13       19\n",
       "14        5\n",
       "15        4\n",
       "16        3\n",
       "17        4\n",
       "20      101\n",
       "21        3\n",
       "Name: Cedula, dtype: int64"
      ]
     },
     "execution_count": 17,
     "metadata": {},
     "output_type": "execute_result"
    }
   ],
   "source": [
    "resultado.groupby(['ingreso_min']).Cedula.count()"
   ]
  },
  {
   "cell_type": "code",
   "execution_count": 18,
   "metadata": {},
   "outputs": [
    {
     "data": {
      "text/html": [
       "<div>\n",
       "<style scoped>\n",
       "    .dataframe tbody tr th:only-of-type {\n",
       "        vertical-align: middle;\n",
       "    }\n",
       "\n",
       "    .dataframe tbody tr th {\n",
       "        vertical-align: top;\n",
       "    }\n",
       "\n",
       "    .dataframe thead th {\n",
       "        text-align: right;\n",
       "    }\n",
       "</style>\n",
       "<table border=\"1\" class=\"dataframe\">\n",
       "  <thead>\n",
       "    <tr style=\"text-align: right;\">\n",
       "      <th></th>\n",
       "      <th>Dia</th>\n",
       "      <th>num_multas</th>\n",
       "      <th>monto</th>\n",
       "    </tr>\n",
       "  </thead>\n",
       "  <tbody>\n",
       "    <tr>\n",
       "      <th>0</th>\n",
       "      <td>1</td>\n",
       "      <td>46877</td>\n",
       "      <td>3891695.41</td>\n",
       "    </tr>\n",
       "    <tr>\n",
       "      <th>1</th>\n",
       "      <td>2</td>\n",
       "      <td>33</td>\n",
       "      <td>3535.20</td>\n",
       "    </tr>\n",
       "    <tr>\n",
       "      <th>2</th>\n",
       "      <td>6</td>\n",
       "      <td>298</td>\n",
       "      <td>27621.75</td>\n",
       "    </tr>\n",
       "    <tr>\n",
       "      <th>3</th>\n",
       "      <td>7</td>\n",
       "      <td>86</td>\n",
       "      <td>9790.90</td>\n",
       "    </tr>\n",
       "    <tr>\n",
       "      <th>4</th>\n",
       "      <td>8</td>\n",
       "      <td>32</td>\n",
       "      <td>3605.10</td>\n",
       "    </tr>\n",
       "    <tr>\n",
       "      <th>5</th>\n",
       "      <td>9</td>\n",
       "      <td>40</td>\n",
       "      <td>4311.90</td>\n",
       "    </tr>\n",
       "    <tr>\n",
       "      <th>6</th>\n",
       "      <td>10</td>\n",
       "      <td>59</td>\n",
       "      <td>9554.50</td>\n",
       "    </tr>\n",
       "    <tr>\n",
       "      <th>7</th>\n",
       "      <td>13</td>\n",
       "      <td>196</td>\n",
       "      <td>17592.10</td>\n",
       "    </tr>\n",
       "    <tr>\n",
       "      <th>8</th>\n",
       "      <td>14</td>\n",
       "      <td>75</td>\n",
       "      <td>9574.20</td>\n",
       "    </tr>\n",
       "    <tr>\n",
       "      <th>9</th>\n",
       "      <td>15</td>\n",
       "      <td>38</td>\n",
       "      <td>6557.70</td>\n",
       "    </tr>\n",
       "    <tr>\n",
       "      <th>10</th>\n",
       "      <td>16</td>\n",
       "      <td>45</td>\n",
       "      <td>3504.20</td>\n",
       "    </tr>\n",
       "    <tr>\n",
       "      <th>11</th>\n",
       "      <td>17</td>\n",
       "      <td>74</td>\n",
       "      <td>9338.50</td>\n",
       "    </tr>\n",
       "    <tr>\n",
       "      <th>12</th>\n",
       "      <td>20</td>\n",
       "      <td>340</td>\n",
       "      <td>42794.05</td>\n",
       "    </tr>\n",
       "    <tr>\n",
       "      <th>13</th>\n",
       "      <td>21</td>\n",
       "      <td>62</td>\n",
       "      <td>9613.60</td>\n",
       "    </tr>\n",
       "  </tbody>\n",
       "</table>\n",
       "</div>"
      ],
      "text/plain": [
       "    Dia  num_multas       monto\n",
       "0     1       46877  3891695.41\n",
       "1     2          33     3535.20\n",
       "2     6         298    27621.75\n",
       "3     7          86     9790.90\n",
       "4     8          32     3605.10\n",
       "5     9          40     4311.90\n",
       "6    10          59     9554.50\n",
       "7    13         196    17592.10\n",
       "8    14          75     9574.20\n",
       "9    15          38     6557.70\n",
       "10   16          45     3504.20\n",
       "11   17          74     9338.50\n",
       "12   20         340    42794.05\n",
       "13   21          62     9613.60"
      ]
     },
     "execution_count": 18,
     "metadata": {},
     "output_type": "execute_result"
    }
   ],
   "source": [
    "resultado_multas"
   ]
  },
  {
   "cell_type": "code",
   "execution_count": 26,
   "metadata": {},
   "outputs": [
    {
     "data": {
      "text/plain": [
       "num_multas      48255.00\n",
       "monto         4049089.11\n",
       "dtype: float64"
      ]
     },
     "execution_count": 26,
     "metadata": {},
     "output_type": "execute_result"
    }
   ],
   "source": [
    "resultado_multas.sum()"
   ]
  },
  {
   "cell_type": "code",
   "execution_count": 19,
   "metadata": {},
   "outputs": [],
   "source": [
    "resultado.to_excel(writer, sheet_name='BASE')\n",
    "worksheet = writer.sheets['BASE']"
   ]
  },
  {
   "cell_type": "code",
   "execution_count": 20,
   "metadata": {},
   "outputs": [],
   "source": [
    "resultado_multas.to_excel(writer, sheet_name='multas')\n",
    "worksheet = writer.sheets['multas']"
   ]
  },
  {
   "cell_type": "code",
   "execution_count": 21,
   "metadata": {},
   "outputs": [],
   "source": [
    "writer.save()"
   ]
  },
  {
   "cell_type": "code",
   "execution_count": 22,
   "metadata": {},
   "outputs": [],
   "source": [
    "resultado_multas.set_index('Dia',inplace=True)"
   ]
  },
  {
   "cell_type": "code",
   "execution_count": 23,
   "metadata": {},
   "outputs": [
    {
     "data": {
      "text/plain": [
       "<matplotlib.axes._subplots.AxesSubplot at 0x1061cc10>"
      ]
     },
     "execution_count": 23,
     "metadata": {},
     "output_type": "execute_result"
    },
    {
     "data": {
      "image/png": "[encoded data removed]",
      "text/plain": [
       "<Figure size 432x288 with 1 Axes>"
      ]
     },
     "metadata": {},
     "output_type": "display_data"
    }
   ],
   "source": [
    "resultado_multas['monto'][:].plot.line()"
   ]
  },
  {
   "cell_type": "code",
   "execution_count": 24,
   "metadata": {},
   "outputs": [
    {
     "data": {
      "text/plain": [
       "<matplotlib.axes._subplots.AxesSubplot at 0x106b5dd0>"
      ]
     },
     "execution_count": 24,
     "metadata": {},
     "output_type": "execute_result"
    },
    {
     "data": {
      "image/png": "[encoded data removed]",
      "text/plain": [
       "<Figure size 432x288 with 1 Axes>"
      ]
     },
     "metadata": {},
     "output_type": "display_data"
    }
   ],
   "source": [
    "resultado_multas[:]['num_multas'].plot.line()"
   ]
  },
  {
   "cell_type": "code",
   "execution_count": 25,
   "metadata": {},
   "outputs": [
    {
     "data": {
      "text/plain": [
       "num_multas      48255.00\n",
       "monto         4049089.11\n",
       "dtype: float64"
      ]
     },
     "execution_count": 25,
     "metadata": {},
     "output_type": "execute_result"
    }
   ],
   "source": [
    "resultado_multas.sum()"
   ]
  },
  {
   "cell_type": "code",
   "execution_count": null,
   "metadata": {},
   "outputs": [],
   "source": []
  },
  {
   "cell_type": "code",
   "execution_count": null,
   "metadata": {},
   "outputs": [],
   "source": []
  }
 ],
 "metadata": {
  "kernelspec": {
   "display_name": "Python 3",
   "language": "python",
   "name": "python3"
  },
  "language_info": {
   "codemirror_mode": {
    "name": "ipython",
    "version": 3
   },
   "file_extension": ".py",
   "mimetype": "text/x-python",
   "name": "python",
   "nbconvert_exporter": "python",
   "pygments_lexer": "ipython3",
   "version": "3.6.5"
  }
 },
 "nbformat": 4,
 "nbformat_minor": 2
}
