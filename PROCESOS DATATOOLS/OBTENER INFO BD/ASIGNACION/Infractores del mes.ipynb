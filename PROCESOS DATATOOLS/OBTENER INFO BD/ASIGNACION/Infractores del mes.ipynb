{
 "cells": [
  {
   "cell_type": "code",
   "execution_count": 3,
   "metadata": {},
   "outputs": [],
   "source": [
    "import pandas as pd\n",
    "import MySQLdb"
   ]
  },
  {
   "cell_type": "code",
   "execution_count": 4,
   "metadata": {},
   "outputs": [],
   "source": [
    "import matplotlib as mpl\n",
    "import matplotlib.pyplot as plt\n",
    "%matplotlib notebook"
   ]
  },
  {
   "cell_type": "code",
   "execution_count": 5,
   "metadata": {},
   "outputs": [],
   "source": [
    "db = MySQLdb.connect(host=\"172.18.55.6\",    # tu host, usualmente localhost\n",
    "                     user=\"comandato\",         # tu usuario\n",
    "                     passwd=\"comandato123\",  # tu password\n",
    "                     db=\"SISTEMECUADOR_ATM\")        # el nombre de la base de datos"
   ]
  },
  {
   "cell_type": "code",
   "execution_count": 6,
   "metadata": {},
   "outputs": [],
   "source": [
    "mes=1"
   ]
  },
  {
   "cell_type": "code",
   "execution_count": 7,
   "metadata": {},
   "outputs": [],
   "source": [
    "writer = pd.ExcelWriter('ASIGNACION MES DICIEMBRE.xlsx', engine='xlsxwriter')"
   ]
  },
  {
   "cell_type": "code",
   "execution_count": null,
   "metadata": {},
   "outputs": [],
   "source": []
  },
  {
   "cell_type": "code",
   "execution_count": 8,
   "metadata": {},
   "outputs": [],
   "source": [
    "totales=\"\"\" SELECT *  FROM \n",
    "                    SISTEMECUADOR_ATM.MULTAS_MENSUALES \n",
    "                where \n",
    "                    Mes={0}\"\"\".format(mes)"
   ]
  },
  {
   "cell_type": "code",
   "execution_count": 9,
   "metadata": {},
   "outputs": [],
   "source": [
    "total=pd.read_sql(totales, con=db)"
   ]
  },
  {
   "cell_type": "code",
   "execution_count": 10,
   "metadata": {},
   "outputs": [],
   "source": [
    "total.to_excel(writer, sheet_name='TOTAL')\n",
    "worksheet = writer.sheets['TOTAL']"
   ]
  },
  {
   "cell_type": "code",
   "execution_count": null,
   "metadata": {},
   "outputs": [],
   "source": []
  },
  {
   "cell_type": "code",
   "execution_count": 11,
   "metadata": {},
   "outputs": [],
   "source": [
    "infractores=\"\"\" SELECT Cedula,count(*) as multas,\n",
    "                    sum(Saldo) as monto,Segmento,Cartera,\n",
    "                    min(Dias_mora) as menor_mora,max(Dias_mora) as mayor_mora,\n",
    "                    min(Dia) as ingreso \n",
    "                FROM \n",
    "                    SISTEMECUADOR_ATM.MULTAS_MENSUALES \n",
    "                where \n",
    "                    Mes={0} group by Cedula,Cartera\"\"\".format(mes)"
   ]
  },
  {
   "cell_type": "code",
   "execution_count": 12,
   "metadata": {},
   "outputs": [],
   "source": [
    "resultado=pd.read_sql(infractores, con=db)"
   ]
  },
  {
   "cell_type": "code",
   "execution_count": 13,
   "metadata": {},
   "outputs": [
    {
     "data": {
      "text/html": [
       "<div>\n",
       "<style scoped>\n",
       "    .dataframe tbody tr th:only-of-type {\n",
       "        vertical-align: middle;\n",
       "    }\n",
       "\n",
       "    .dataframe tbody tr th {\n",
       "        vertical-align: top;\n",
       "    }\n",
       "\n",
       "    .dataframe thead th {\n",
       "        text-align: right;\n",
       "    }\n",
       "</style>\n",
       "<table border=\"1\" class=\"dataframe\">\n",
       "  <thead>\n",
       "    <tr style=\"text-align: right;\">\n",
       "      <th></th>\n",
       "      <th>Cedula</th>\n",
       "      <th>multas</th>\n",
       "      <th>monto</th>\n",
       "      <th>Segmento</th>\n",
       "      <th>Cartera</th>\n",
       "      <th>menor_mora</th>\n",
       "      <th>mayor_mora</th>\n",
       "      <th>ingreso</th>\n",
       "    </tr>\n",
       "  </thead>\n",
       "  <tbody>\n",
       "    <tr>\n",
       "      <th>35637</th>\n",
       "      <td>FB591820</td>\n",
       "      <td>1</td>\n",
       "      <td>386.0</td>\n",
       "      <td>MULTAS NUEVAS</td>\n",
       "      <td>CORRIENTE</td>\n",
       "      <td>156</td>\n",
       "      <td>156</td>\n",
       "      <td>2</td>\n",
       "    </tr>\n",
       "    <tr>\n",
       "      <th>35638</th>\n",
       "      <td>G09730548</td>\n",
       "      <td>1</td>\n",
       "      <td>37.5</td>\n",
       "      <td>MULTAS NUEVAS</td>\n",
       "      <td>MENOR</td>\n",
       "      <td>756</td>\n",
       "      <td>756</td>\n",
       "      <td>2</td>\n",
       "    </tr>\n",
       "    <tr>\n",
       "      <th>35639</th>\n",
       "      <td>I685506</td>\n",
       "      <td>1</td>\n",
       "      <td>57.9</td>\n",
       "      <td>MULTAS NUEVAS</td>\n",
       "      <td>CORRIENTE</td>\n",
       "      <td>40</td>\n",
       "      <td>40</td>\n",
       "      <td>2</td>\n",
       "    </tr>\n",
       "    <tr>\n",
       "      <th>35640</th>\n",
       "      <td>PE102221</td>\n",
       "      <td>1</td>\n",
       "      <td>115.8</td>\n",
       "      <td>MULTAS NUEVAS</td>\n",
       "      <td>CORRIENTE</td>\n",
       "      <td>142</td>\n",
       "      <td>142</td>\n",
       "      <td>2</td>\n",
       "    </tr>\n",
       "    <tr>\n",
       "      <th>35641</th>\n",
       "      <td>XDA822644</td>\n",
       "      <td>3</td>\n",
       "      <td>289.5</td>\n",
       "      <td>MULTAS NUEVAS</td>\n",
       "      <td>CORRIENTE</td>\n",
       "      <td>11</td>\n",
       "      <td>236</td>\n",
       "      <td>2</td>\n",
       "    </tr>\n",
       "  </tbody>\n",
       "</table>\n",
       "</div>"
      ],
      "text/plain": [
       "          Cedula  multas  monto       Segmento    Cartera  menor_mora  \\\n",
       "35637   FB591820       1  386.0  MULTAS NUEVAS  CORRIENTE         156   \n",
       "35638  G09730548       1   37.5  MULTAS NUEVAS      MENOR         756   \n",
       "35639    I685506       1   57.9  MULTAS NUEVAS  CORRIENTE          40   \n",
       "35640   PE102221       1  115.8  MULTAS NUEVAS  CORRIENTE         142   \n",
       "35641  XDA822644       3  289.5  MULTAS NUEVAS  CORRIENTE          11   \n",
       "\n",
       "       mayor_mora  ingreso  \n",
       "35637         156        2  \n",
       "35638         756        2  \n",
       "35639          40        2  \n",
       "35640         142        2  \n",
       "35641         236        2  "
      ]
     },
     "execution_count": 13,
     "metadata": {},
     "output_type": "execute_result"
    }
   ],
   "source": [
    "resultado.tail()"
   ]
  },
  {
   "cell_type": "code",
   "execution_count": 14,
   "metadata": {},
   "outputs": [
    {
     "data": {
      "text/plain": [
       "ingreso  Cartera  \n",
       "2        CORRIENTE    13850\n",
       "         MENOR        20664\n",
       "3        CORRIENTE       55\n",
       "4        CORRIENTE       60\n",
       "         MENOR           21\n",
       "7        CORRIENTE      131\n",
       "         MENOR           10\n",
       "8        CORRIENTE       72\n",
       "         MENOR            4\n",
       "9        CORRIENTE       69\n",
       "         MENOR            4\n",
       "10       CORRIENTE       68\n",
       "         MENOR            3\n",
       "11       CORRIENTE       52\n",
       "         MENOR            4\n",
       "14       CORRIENTE      287\n",
       "         MENOR            5\n",
       "16       CORRIENTE       57\n",
       "         MENOR            5\n",
       "17       CORRIENTE       27\n",
       "         MENOR            3\n",
       "18       CORRIENTE       61\n",
       "         MENOR            5\n",
       "21       CORRIENTE      120\n",
       "         MENOR            5\n",
       "Name: multas, dtype: int64"
      ]
     },
     "execution_count": 14,
     "metadata": {},
     "output_type": "execute_result"
    }
   ],
   "source": [
    "resultado.groupby(['ingreso','Cartera']).multas.count()"
   ]
  },
  {
   "cell_type": "code",
   "execution_count": 15,
   "metadata": {},
   "outputs": [],
   "source": [
    "multas=\"\"\" SELECT Dia,count(*) as num_multas,sum(Saldo) as monto\n",
    "                FROM \n",
    "                    SISTEMECUADOR_ATM.MULTAS_MENSUALES \n",
    "                where \n",
    "                    Mes={0} group by Dia\"\"\".format(mes)"
   ]
  },
  {
   "cell_type": "code",
   "execution_count": 16,
   "metadata": {},
   "outputs": [],
   "source": [
    "resultado_multas=pd.read_sql(multas, con=db)"
   ]
  },
  {
   "cell_type": "code",
   "execution_count": 17,
   "metadata": {},
   "outputs": [
    {
     "data": {
      "text/html": [
       "<div>\n",
       "<style scoped>\n",
       "    .dataframe tbody tr th:only-of-type {\n",
       "        vertical-align: middle;\n",
       "    }\n",
       "\n",
       "    .dataframe tbody tr th {\n",
       "        vertical-align: top;\n",
       "    }\n",
       "\n",
       "    .dataframe thead th {\n",
       "        text-align: right;\n",
       "    }\n",
       "</style>\n",
       "<table border=\"1\" class=\"dataframe\">\n",
       "  <thead>\n",
       "    <tr style=\"text-align: right;\">\n",
       "      <th></th>\n",
       "      <th>Dia</th>\n",
       "      <th>num_multas</th>\n",
       "      <th>monto</th>\n",
       "    </tr>\n",
       "  </thead>\n",
       "  <tbody>\n",
       "    <tr>\n",
       "      <th>0</th>\n",
       "      <td>2</td>\n",
       "      <td>67002</td>\n",
       "      <td>5121803.61</td>\n",
       "    </tr>\n",
       "    <tr>\n",
       "      <th>1</th>\n",
       "      <td>3</td>\n",
       "      <td>101</td>\n",
       "      <td>10924.20</td>\n",
       "    </tr>\n",
       "    <tr>\n",
       "      <th>2</th>\n",
       "      <td>4</td>\n",
       "      <td>143</td>\n",
       "      <td>19184.60</td>\n",
       "    </tr>\n",
       "    <tr>\n",
       "      <th>3</th>\n",
       "      <td>7</td>\n",
       "      <td>240</td>\n",
       "      <td>29079.10</td>\n",
       "    </tr>\n",
       "    <tr>\n",
       "      <th>4</th>\n",
       "      <td>8</td>\n",
       "      <td>125</td>\n",
       "      <td>16708.00</td>\n",
       "    </tr>\n",
       "    <tr>\n",
       "      <th>5</th>\n",
       "      <td>9</td>\n",
       "      <td>129</td>\n",
       "      <td>12452.80</td>\n",
       "    </tr>\n",
       "    <tr>\n",
       "      <th>6</th>\n",
       "      <td>10</td>\n",
       "      <td>112</td>\n",
       "      <td>13975.10</td>\n",
       "    </tr>\n",
       "    <tr>\n",
       "      <th>7</th>\n",
       "      <td>11</td>\n",
       "      <td>93</td>\n",
       "      <td>9618.70</td>\n",
       "    </tr>\n",
       "    <tr>\n",
       "      <th>8</th>\n",
       "      <td>14</td>\n",
       "      <td>411</td>\n",
       "      <td>47882.80</td>\n",
       "    </tr>\n",
       "    <tr>\n",
       "      <th>9</th>\n",
       "      <td>16</td>\n",
       "      <td>158</td>\n",
       "      <td>19325.80</td>\n",
       "    </tr>\n",
       "    <tr>\n",
       "      <th>10</th>\n",
       "      <td>17</td>\n",
       "      <td>65</td>\n",
       "      <td>6377.90</td>\n",
       "    </tr>\n",
       "    <tr>\n",
       "      <th>11</th>\n",
       "      <td>18</td>\n",
       "      <td>124</td>\n",
       "      <td>11059.50</td>\n",
       "    </tr>\n",
       "    <tr>\n",
       "      <th>12</th>\n",
       "      <td>21</td>\n",
       "      <td>214</td>\n",
       "      <td>24039.20</td>\n",
       "    </tr>\n",
       "  </tbody>\n",
       "</table>\n",
       "</div>"
      ],
      "text/plain": [
       "    Dia  num_multas       monto\n",
       "0     2       67002  5121803.61\n",
       "1     3         101    10924.20\n",
       "2     4         143    19184.60\n",
       "3     7         240    29079.10\n",
       "4     8         125    16708.00\n",
       "5     9         129    12452.80\n",
       "6    10         112    13975.10\n",
       "7    11          93     9618.70\n",
       "8    14         411    47882.80\n",
       "9    16         158    19325.80\n",
       "10   17          65     6377.90\n",
       "11   18         124    11059.50\n",
       "12   21         214    24039.20"
      ]
     },
     "execution_count": 17,
     "metadata": {},
     "output_type": "execute_result"
    }
   ],
   "source": [
    "resultado_multas"
   ]
  },
  {
   "cell_type": "code",
   "execution_count": 18,
   "metadata": {},
   "outputs": [],
   "source": [
    "resultado.to_excel(writer, sheet_name='BASE')\n",
    "worksheet = writer.sheets['BASE']"
   ]
  },
  {
   "cell_type": "code",
   "execution_count": 19,
   "metadata": {},
   "outputs": [],
   "source": [
    "resultado_multas.to_excel(writer, sheet_name='multas')\n",
    "worksheet = writer.sheets['multas']"
   ]
  },
  {
   "cell_type": "code",
   "execution_count": 20,
   "metadata": {},
   "outputs": [],
   "source": [
    "writer.save()"
   ]
  },
  {
   "cell_type": "code",
   "execution_count": 21,
   "metadata": {},
   "outputs": [],
   "source": [
    "resultado_multas.set_index('Dia',inplace=True)"
   ]
  },
  {
   "cell_type": "code",
   "execution_count": null,
   "metadata": {},
   "outputs": [],
   "source": [
    "resultado_multas['monto'][:].plot.line()"
   ]
  },
  {
   "cell_type": "code",
   "execution_count": 21,
   "metadata": {},
   "outputs": [
    {
     "data": {
      "text/plain": [
       "<matplotlib.axes._subplots.AxesSubplot at 0x12f3390>"
      ]
     },
     "execution_count": 21,
     "metadata": {},
     "output_type": "execute_result"
    },
    {
     "data": {
      "image/png": "[encoded data removed]",
      "text/plain": [
       "<Figure size 432x288 with 1 Axes>"
      ]
     },
     "metadata": {},
     "output_type": "display_data"
    }
   ],
   "source": [
    "resultado_multas[:]['num_multas'].plot.line()"
   ]
  },
  {
   "cell_type": "code",
   "execution_count": 22,
   "metadata": {},
   "outputs": [
    {
     "data": {
      "text/plain": [
       "num_multas      68703.00\n",
       "monto         5318392.11\n",
       "dtype: float64"
      ]
     },
     "execution_count": 22,
     "metadata": {},
     "output_type": "execute_result"
    }
   ],
   "source": [
    "resultado_multas.sum()"
   ]
  },
  {
   "cell_type": "code",
   "execution_count": null,
   "metadata": {},
   "outputs": [],
   "source": []
  },
  {
   "cell_type": "code",
   "execution_count": null,
   "metadata": {},
   "outputs": [],
   "source": []
  }
 ],
 "metadata": {
  "kernelspec": {
   "display_name": "Python 3",
   "language": "python",
   "name": "python3"
  }
 },
 "nbformat": 4,
 "nbformat_minor": 2
}
