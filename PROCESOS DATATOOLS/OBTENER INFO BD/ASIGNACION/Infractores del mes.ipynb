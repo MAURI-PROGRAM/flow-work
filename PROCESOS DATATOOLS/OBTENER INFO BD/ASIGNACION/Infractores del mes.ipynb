{
 "cells": [
  {
   "cell_type": "code",
   "execution_count": 1,
   "metadata": {},
   "outputs": [],
   "source": [
    "import pandas as pd\n",
    "import MySQLdb"
   ]
  },
  {
   "cell_type": "code",
   "execution_count": 2,
   "metadata": {},
   "outputs": [],
   "source": [
    "import matplotlib as mpl\n",
    "import matplotlib.pyplot as plt\n",
    "%matplotlib notebook"
   ]
  },
  {
   "cell_type": "code",
   "execution_count": 3,
   "metadata": {},
   "outputs": [],
   "source": [
    "db = MySQLdb.connect(host=\"172.18.55.6\",    # tu host, usualmente localhost\n",
    "                     user=\"comandato\",      # tu usuario\n",
    "                     passwd=\"comandato123\",  # tu password\n",
    "                     db=\"SISTEMECUADOR_ATM\")        # el nombre de la base de datos"
   ]
  },
  {
   "cell_type": "code",
   "execution_count": 4,
   "metadata": {},
   "outputs": [],
   "source": [
    "mes=3"
   ]
  },
  {
   "cell_type": "code",
   "execution_count": 5,
   "metadata": {},
   "outputs": [],
   "source": [
    "writer = pd.ExcelWriter('ASIGNACION MES NOVIEMBRE.xlsx', engine='xlsxwriter')"
   ]
  },
  {
   "cell_type": "code",
   "execution_count": null,
   "metadata": {},
   "outputs": [],
   "source": []
  },
  {
   "cell_type": "code",
   "execution_count": 6,
   "metadata": {},
   "outputs": [],
   "source": [
    "totales=\"\"\" SELECT *  FROM \n",
    "                    SISTEMECUADOR_ATM.MULTAS_MENSUALES \n",
    "                where \n",
    "                    Mes={0}\"\"\".format(mes)"
   ]
  },
  {
   "cell_type": "code",
   "execution_count": 7,
   "metadata": {},
   "outputs": [],
   "source": [
    "total=pd.read_sql(totales, con=db)"
   ]
  },
  {
   "cell_type": "code",
   "execution_count": 8,
   "metadata": {},
   "outputs": [],
   "source": [
    "total.to_excel(writer, sheet_name='TOTAL')\n",
    "worksheet = writer.sheets['TOTAL']"
   ]
  },
  {
   "cell_type": "code",
   "execution_count": null,
   "metadata": {},
   "outputs": [],
   "source": []
  },
  {
   "cell_type": "code",
   "execution_count": 9,
   "metadata": {},
   "outputs": [],
   "source": [
    "infractores=\"\"\" SELECT Cedula,count(*) as multas,\n",
    "                    sum(Saldo) as monto,Segmento,Cartera,\n",
    "                    min(Dias_mora) as menor_mora,max(Dias_mora) as mayor_mora,\n",
    "                    min(Dia) as ingreso_min,max(Dia) as ingreso_max\n",
    "                FROM \n",
    "                    SISTEMECUADOR_ATM.MULTAS_MENSUALES \n",
    "                where \n",
    "                    Mes={0} group by Cedula,Cartera\"\"\".format(mes)"
   ]
  },
  {
   "cell_type": "code",
   "execution_count": 10,
   "metadata": {},
   "outputs": [],
   "source": [
    "resultado=pd.read_sql(infractores, con=db)"
   ]
  },
  {
   "cell_type": "code",
   "execution_count": 11,
   "metadata": {},
   "outputs": [
    {
     "data": {
      "text/html": [
       "<div>\n",
       "<style scoped>\n",
       "    .dataframe tbody tr th:only-of-type {\n",
       "        vertical-align: middle;\n",
       "    }\n",
       "\n",
       "    .dataframe tbody tr th {\n",
       "        vertical-align: top;\n",
       "    }\n",
       "\n",
       "    .dataframe thead th {\n",
       "        text-align: right;\n",
       "    }\n",
       "</style>\n",
       "<table border=\"1\" class=\"dataframe\">\n",
       "  <thead>\n",
       "    <tr style=\"text-align: right;\">\n",
       "      <th></th>\n",
       "      <th>Cedula</th>\n",
       "      <th>multas</th>\n",
       "      <th>monto</th>\n",
       "      <th>Segmento</th>\n",
       "      <th>Cartera</th>\n",
       "      <th>menor_mora</th>\n",
       "      <th>mayor_mora</th>\n",
       "      <th>ingreso_min</th>\n",
       "      <th>ingreso_max</th>\n",
       "    </tr>\n",
       "  </thead>\n",
       "  <tbody>\n",
       "    <tr>\n",
       "      <th>37055</th>\n",
       "      <td>FB587397</td>\n",
       "      <td>1</td>\n",
       "      <td>19.3</td>\n",
       "      <td>MULTAS NUEVAS</td>\n",
       "      <td>CORRIENTE</td>\n",
       "      <td>246</td>\n",
       "      <td>246</td>\n",
       "      <td>6</td>\n",
       "      <td>6</td>\n",
       "    </tr>\n",
       "    <tr>\n",
       "      <th>37056</th>\n",
       "      <td>FB591820</td>\n",
       "      <td>1</td>\n",
       "      <td>386.0</td>\n",
       "      <td>MULTAS NUEVAS</td>\n",
       "      <td>CORRIENTE</td>\n",
       "      <td>219</td>\n",
       "      <td>219</td>\n",
       "      <td>6</td>\n",
       "      <td>6</td>\n",
       "    </tr>\n",
       "    <tr>\n",
       "      <th>37057</th>\n",
       "      <td>I685506</td>\n",
       "      <td>1</td>\n",
       "      <td>57.9</td>\n",
       "      <td>MULTAS NUEVAS</td>\n",
       "      <td>CORRIENTE</td>\n",
       "      <td>103</td>\n",
       "      <td>103</td>\n",
       "      <td>6</td>\n",
       "      <td>6</td>\n",
       "    </tr>\n",
       "    <tr>\n",
       "      <th>37058</th>\n",
       "      <td>PE102221</td>\n",
       "      <td>1</td>\n",
       "      <td>115.8</td>\n",
       "      <td>MULTAS NUEVAS</td>\n",
       "      <td>CORRIENTE</td>\n",
       "      <td>205</td>\n",
       "      <td>205</td>\n",
       "      <td>6</td>\n",
       "      <td>6</td>\n",
       "    </tr>\n",
       "    <tr>\n",
       "      <th>37059</th>\n",
       "      <td>XDA822644</td>\n",
       "      <td>3</td>\n",
       "      <td>289.5</td>\n",
       "      <td>MULTAS NUEVAS</td>\n",
       "      <td>CORRIENTE</td>\n",
       "      <td>71</td>\n",
       "      <td>301</td>\n",
       "      <td>8</td>\n",
       "      <td>8</td>\n",
       "    </tr>\n",
       "  </tbody>\n",
       "</table>\n",
       "</div>"
      ],
      "text/plain": [
       "          Cedula  multas  monto       Segmento    Cartera  menor_mora  \\\n",
       "37055   FB587397       1   19.3  MULTAS NUEVAS  CORRIENTE         246   \n",
       "37056   FB591820       1  386.0  MULTAS NUEVAS  CORRIENTE         219   \n",
       "37057    I685506       1   57.9  MULTAS NUEVAS  CORRIENTE         103   \n",
       "37058   PE102221       1  115.8  MULTAS NUEVAS  CORRIENTE         205   \n",
       "37059  XDA822644       3  289.5  MULTAS NUEVAS  CORRIENTE          71   \n",
       "\n",
       "       mayor_mora  ingreso_min  ingreso_max  \n",
       "37055         246            6            6  \n",
       "37056         219            6            6  \n",
       "37057         103            6            6  \n",
       "37058         205            6            6  \n",
       "37059         301            8            8  "
      ]
     },
     "execution_count": 11,
     "metadata": {},
     "output_type": "execute_result"
    }
   ],
   "source": [
    "resultado.tail()"
   ]
  },
  {
   "cell_type": "code",
   "execution_count": 12,
   "metadata": {},
   "outputs": [],
   "source": [
    "def agregar_ceros(base):\n",
    "    ced=base['Cedula']\n",
    "    if len(ced)==9 or len(ced)==12 :\n",
    "        if ced.isdigit():\n",
    "            return '0'+ced\n",
    "    return ced"
   ]
  },
  {
   "cell_type": "code",
   "execution_count": 13,
   "metadata": {},
   "outputs": [],
   "source": [
    "resultado['Cedula']=resultado.apply(agregar_ceros,axis=1)"
   ]
  },
  {
   "cell_type": "code",
   "execution_count": 14,
   "metadata": {},
   "outputs": [
    {
     "data": {
      "text/html": [
       "<div>\n",
       "<style scoped>\n",
       "    .dataframe tbody tr th:only-of-type {\n",
       "        vertical-align: middle;\n",
       "    }\n",
       "\n",
       "    .dataframe tbody tr th {\n",
       "        vertical-align: top;\n",
       "    }\n",
       "\n",
       "    .dataframe thead th {\n",
       "        text-align: right;\n",
       "    }\n",
       "</style>\n",
       "<table border=\"1\" class=\"dataframe\">\n",
       "  <thead>\n",
       "    <tr style=\"text-align: right;\">\n",
       "      <th></th>\n",
       "      <th>Cedula</th>\n",
       "      <th>multas</th>\n",
       "      <th>monto</th>\n",
       "      <th>Segmento</th>\n",
       "      <th>Cartera</th>\n",
       "      <th>menor_mora</th>\n",
       "      <th>mayor_mora</th>\n",
       "      <th>ingreso_min</th>\n",
       "      <th>ingreso_max</th>\n",
       "    </tr>\n",
       "  </thead>\n",
       "  <tbody>\n",
       "    <tr>\n",
       "      <th>0</th>\n",
       "      <td>00042448K</td>\n",
       "      <td>1</td>\n",
       "      <td>115.8</td>\n",
       "      <td>MULTAS NUEVAS</td>\n",
       "      <td>CORRIENTE</td>\n",
       "      <td>135</td>\n",
       "      <td>135</td>\n",
       "      <td>6</td>\n",
       "      <td>6</td>\n",
       "    </tr>\n",
       "    <tr>\n",
       "      <th>1</th>\n",
       "      <td>0100025030</td>\n",
       "      <td>1</td>\n",
       "      <td>19.3</td>\n",
       "      <td>MULTAS NUEVAS</td>\n",
       "      <td>CORRIENTE</td>\n",
       "      <td>312</td>\n",
       "      <td>312</td>\n",
       "      <td>6</td>\n",
       "      <td>6</td>\n",
       "    </tr>\n",
       "    <tr>\n",
       "      <th>2</th>\n",
       "      <td>1000400828</td>\n",
       "      <td>1</td>\n",
       "      <td>115.8</td>\n",
       "      <td>MULTAS NUEVAS</td>\n",
       "      <td>CORRIENTE</td>\n",
       "      <td>187</td>\n",
       "      <td>187</td>\n",
       "      <td>8</td>\n",
       "      <td>8</td>\n",
       "    </tr>\n",
       "    <tr>\n",
       "      <th>3</th>\n",
       "      <td>1000558195</td>\n",
       "      <td>1</td>\n",
       "      <td>394.0</td>\n",
       "      <td>5. VENCIDA FASE II</td>\n",
       "      <td>CORRIENTE</td>\n",
       "      <td>12</td>\n",
       "      <td>12</td>\n",
       "      <td>6</td>\n",
       "      <td>6</td>\n",
       "    </tr>\n",
       "    <tr>\n",
       "      <th>4</th>\n",
       "      <td>1000559797</td>\n",
       "      <td>6</td>\n",
       "      <td>1036.8</td>\n",
       "      <td>MULTAS NUEVAS</td>\n",
       "      <td>CORRIENTE</td>\n",
       "      <td>15</td>\n",
       "      <td>492</td>\n",
       "      <td>6</td>\n",
       "      <td>6</td>\n",
       "    </tr>\n",
       "  </tbody>\n",
       "</table>\n",
       "</div>"
      ],
      "text/plain": [
       "       Cedula  multas   monto            Segmento    Cartera  menor_mora  \\\n",
       "0   00042448K       1   115.8       MULTAS NUEVAS  CORRIENTE         135   \n",
       "1  0100025030       1    19.3       MULTAS NUEVAS  CORRIENTE         312   \n",
       "2  1000400828       1   115.8       MULTAS NUEVAS  CORRIENTE         187   \n",
       "3  1000558195       1   394.0  5. VENCIDA FASE II  CORRIENTE          12   \n",
       "4  1000559797       6  1036.8       MULTAS NUEVAS  CORRIENTE          15   \n",
       "\n",
       "   mayor_mora  ingreso_min  ingreso_max  \n",
       "0         135            6            6  \n",
       "1         312            6            6  \n",
       "2         187            8            8  \n",
       "3          12            6            6  \n",
       "4         492            6            6  "
      ]
     },
     "execution_count": 14,
     "metadata": {},
     "output_type": "execute_result"
    }
   ],
   "source": [
    "resultado.head()"
   ]
  },
  {
   "cell_type": "code",
   "execution_count": 15,
   "metadata": {},
   "outputs": [],
   "source": [
    "multas=\"\"\" SELECT Dia,count(*) as num_multas,sum(Saldo) as monto\n",
    "                FROM \n",
    "                    SISTEMECUADOR_ATM.MULTAS_MENSUALES \n",
    "                where \n",
    "                    Mes={0} group by Dia\"\"\".format(mes)"
   ]
  },
  {
   "cell_type": "code",
   "execution_count": 16,
   "metadata": {},
   "outputs": [],
   "source": [
    "resultado_multas=pd.read_sql(multas, con=db)"
   ]
  },
  {
   "cell_type": "code",
   "execution_count": 17,
   "metadata": {},
   "outputs": [
    {
     "data": {
      "text/plain": [
       "ingreso_min\n",
       "6     32408\n",
       "7       107\n",
       "8       516\n",
       "11      680\n",
       "12      271\n",
       "13      165\n",
       "14      291\n",
       "15      255\n",
       "18      662\n",
       "19      316\n",
       "20      190\n",
       "21      150\n",
       "22      236\n",
       "25      813\n",
       "Name: Cedula, dtype: int64"
      ]
     },
     "execution_count": 17,
     "metadata": {},
     "output_type": "execute_result"
    }
   ],
   "source": [
    "resultado.groupby(['ingreso_min']).Cedula.count()"
   ]
  },
  {
   "cell_type": "code",
   "execution_count": 18,
   "metadata": {},
   "outputs": [
    {
     "data": {
      "text/html": [
       "<div>\n",
       "<style scoped>\n",
       "    .dataframe tbody tr th:only-of-type {\n",
       "        vertical-align: middle;\n",
       "    }\n",
       "\n",
       "    .dataframe tbody tr th {\n",
       "        vertical-align: top;\n",
       "    }\n",
       "\n",
       "    .dataframe thead th {\n",
       "        text-align: right;\n",
       "    }\n",
       "</style>\n",
       "<table border=\"1\" class=\"dataframe\">\n",
       "  <thead>\n",
       "    <tr style=\"text-align: right;\">\n",
       "      <th></th>\n",
       "      <th>Dia</th>\n",
       "      <th>num_multas</th>\n",
       "      <th>monto</th>\n",
       "    </tr>\n",
       "  </thead>\n",
       "  <tbody>\n",
       "    <tr>\n",
       "      <th>0</th>\n",
       "      <td>6</td>\n",
       "      <td>64521</td>\n",
       "      <td>5134798.76</td>\n",
       "    </tr>\n",
       "    <tr>\n",
       "      <th>1</th>\n",
       "      <td>7</td>\n",
       "      <td>142</td>\n",
       "      <td>11816.40</td>\n",
       "    </tr>\n",
       "    <tr>\n",
       "      <th>2</th>\n",
       "      <td>8</td>\n",
       "      <td>1451</td>\n",
       "      <td>153763.65</td>\n",
       "    </tr>\n",
       "    <tr>\n",
       "      <th>3</th>\n",
       "      <td>11</td>\n",
       "      <td>916</td>\n",
       "      <td>96678.10</td>\n",
       "    </tr>\n",
       "    <tr>\n",
       "      <th>4</th>\n",
       "      <td>12</td>\n",
       "      <td>366</td>\n",
       "      <td>44837.20</td>\n",
       "    </tr>\n",
       "    <tr>\n",
       "      <th>5</th>\n",
       "      <td>13</td>\n",
       "      <td>231</td>\n",
       "      <td>31120.30</td>\n",
       "    </tr>\n",
       "    <tr>\n",
       "      <th>6</th>\n",
       "      <td>14</td>\n",
       "      <td>463</td>\n",
       "      <td>69182.30</td>\n",
       "    </tr>\n",
       "    <tr>\n",
       "      <th>7</th>\n",
       "      <td>15</td>\n",
       "      <td>302</td>\n",
       "      <td>43771.20</td>\n",
       "    </tr>\n",
       "    <tr>\n",
       "      <th>8</th>\n",
       "      <td>18</td>\n",
       "      <td>852</td>\n",
       "      <td>108216.30</td>\n",
       "    </tr>\n",
       "    <tr>\n",
       "      <th>9</th>\n",
       "      <td>19</td>\n",
       "      <td>388</td>\n",
       "      <td>66802.70</td>\n",
       "    </tr>\n",
       "    <tr>\n",
       "      <th>10</th>\n",
       "      <td>20</td>\n",
       "      <td>248</td>\n",
       "      <td>38626.10</td>\n",
       "    </tr>\n",
       "    <tr>\n",
       "      <th>11</th>\n",
       "      <td>21</td>\n",
       "      <td>190</td>\n",
       "      <td>25372.30</td>\n",
       "    </tr>\n",
       "    <tr>\n",
       "      <th>12</th>\n",
       "      <td>22</td>\n",
       "      <td>306</td>\n",
       "      <td>34196.70</td>\n",
       "    </tr>\n",
       "    <tr>\n",
       "      <th>13</th>\n",
       "      <td>25</td>\n",
       "      <td>1028</td>\n",
       "      <td>154029.60</td>\n",
       "    </tr>\n",
       "  </tbody>\n",
       "</table>\n",
       "</div>"
      ],
      "text/plain": [
       "    Dia  num_multas       monto\n",
       "0     6       64521  5134798.76\n",
       "1     7         142    11816.40\n",
       "2     8        1451   153763.65\n",
       "3    11         916    96678.10\n",
       "4    12         366    44837.20\n",
       "5    13         231    31120.30\n",
       "6    14         463    69182.30\n",
       "7    15         302    43771.20\n",
       "8    18         852   108216.30\n",
       "9    19         388    66802.70\n",
       "10   20         248    38626.10\n",
       "11   21         190    25372.30\n",
       "12   22         306    34196.70\n",
       "13   25        1028   154029.60"
      ]
     },
     "execution_count": 18,
     "metadata": {},
     "output_type": "execute_result"
    }
   ],
   "source": [
    "resultado_multas"
   ]
  },
  {
   "cell_type": "code",
   "execution_count": 19,
   "metadata": {},
   "outputs": [],
   "source": [
    "resultado.to_excel(writer, sheet_name='BASE')\n",
    "worksheet = writer.sheets['BASE']"
   ]
  },
  {
   "cell_type": "code",
   "execution_count": 20,
   "metadata": {},
   "outputs": [],
   "source": [
    "resultado_multas.to_excel(writer, sheet_name='multas')\n",
    "worksheet = writer.sheets['multas']"
   ]
  },
  {
   "cell_type": "code",
   "execution_count": 21,
   "metadata": {},
   "outputs": [],
   "source": [
    "writer.save()"
   ]
  },
  {
   "cell_type": "code",
   "execution_count": 22,
   "metadata": {},
   "outputs": [],
   "source": [
    "resultado_multas.set_index('Dia',inplace=True)"
   ]
  },
  {
   "cell_type": "code",
   "execution_count": 23,
   "metadata": {},
   "outputs": [
    {
     "data": {
      "text/plain": [
       "<matplotlib.axes._subplots.AxesSubplot at 0xf307e30>"
      ]
     },
     "execution_count": 23,
     "metadata": {},
     "output_type": "execute_result"
    },
    {
     "data": {
      "image/png": "[encoded data removed]",
      "text/plain": [
       "<Figure size 432x288 with 1 Axes>"
      ]
     },
     "metadata": {},
     "output_type": "display_data"
    }
   ],
   "source": [
    "resultado_multas['monto'][:].plot.line()"
   ]
  },
  {
   "cell_type": "code",
   "execution_count": 24,
   "metadata": {},
   "outputs": [
    {
     "data": {
      "text/plain": [
       "<matplotlib.axes._subplots.AxesSubplot at 0xf39f830>"
      ]
     },
     "execution_count": 24,
     "metadata": {},
     "output_type": "execute_result"
    },
    {
     "data": {
      "image/png": "[encoded data removed]",
      "text/plain": [
       "<Figure size 432x288 with 1 Axes>"
      ]
     },
     "metadata": {},
     "output_type": "display_data"
    }
   ],
   "source": [
    "resultado_multas[:]['num_multas'].plot.line()"
   ]
  },
  {
   "cell_type": "code",
   "execution_count": 25,
   "metadata": {},
   "outputs": [
    {
     "data": {
      "text/plain": [
       "num_multas      71404.00\n",
       "monto         6013211.61\n",
       "dtype: float64"
      ]
     },
     "execution_count": 25,
     "metadata": {},
     "output_type": "execute_result"
    }
   ],
   "source": [
    "resultado_multas.sum()"
   ]
  },
  {
   "cell_type": "code",
   "execution_count": null,
   "metadata": {},
   "outputs": [],
   "source": []
  },
  {
   "cell_type": "code",
   "execution_count": null,
   "metadata": {},
   "outputs": [],
   "source": []
  }
 ],
 "metadata": {
  "kernelspec": {
   "display_name": "Python 3",
   "language": "python",
   "name": "python3"
  },
  "language_info": {
   "codemirror_mode": {
    "name": "ipython",
    "version": 3
   },
   "file_extension": ".py",
   "mimetype": "text/x-python",
   "name": "python",
   "nbconvert_exporter": "python",
   "pygments_lexer": "ipython3",
   "version": "3.6.5"
  }
 },
 "nbformat": 4,
 "nbformat_minor": 2
}
