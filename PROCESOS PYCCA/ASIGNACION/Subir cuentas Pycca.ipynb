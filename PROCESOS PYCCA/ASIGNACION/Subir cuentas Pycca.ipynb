{
 "cells": [
  {
   "cell_type": "code",
   "execution_count": 44,
   "metadata": {},
   "outputs": [],
   "source": [
    "import pandas as pd\n",
    "import MySQLdb\n",
    "import time"
   ]
  },
  {
   "cell_type": "code",
   "execution_count": 45,
   "metadata": {},
   "outputs": [],
   "source": [
    "db = MySQLdb.connect(host=\"172.18.55.6\",    # tu host, usualmente localhost\n",
    "                     user=\"comandato\",         # tu usuario\n",
    "                     passwd=\"comandato123\",  # tu password\n",
    "                     db=\"SISTEMECUADOR_PYCCA\")    # el nombre de la base de datos\n",
    "cur= db.cursor()"
   ]
  },
  {
   "cell_type": "code",
   "execution_count": 46,
   "metadata": {},
   "outputs": [],
   "source": [
    "Anio_act='2019'\n",
    "Mes_act='05'\n",
    "Dia_act='20'"
   ]
  },
  {
   "cell_type": "code",
   "execution_count": 88,
   "metadata": {},
   "outputs": [],
   "source": [
    "pycca={\n",
    "    'ruta':'..\\..\\..\\BASE PYCCA\\\\ASIGNACION\\\\2019\\\\MAYO\\Sistema de cobro_'+Dia_act+'_'+Mes_act+'_'+Anio_act+'.xlsx',\n",
    "    'hoja':'Asignacion',\n",
    "    'identificador':'pc cedula',\n",
    "    'cuenta': 'ms cuenta',\n",
    "    'estado': 'pc estados'\n",
    "}"
   ]
  },
  {
   "cell_type": "code",
   "execution_count": 89,
   "metadata": {},
   "outputs": [],
   "source": [
    "arch_act=pd.read_excel(open(pycca['ruta'],'rb'), sheet_name=pycca['hoja'], dtype={pycca['identificador']: str,\\\n",
    "                                                                                  pycca['cuenta']: str,pycca['estado']: str})"
   ]
  },
  {
   "cell_type": "code",
   "execution_count": 90,
   "metadata": {},
   "outputs": [],
   "source": [
    "arch_act.columns = arch_act.columns.str.replace(' ','_')"
   ]
  },
  {
   "cell_type": "code",
   "execution_count": 93,
   "metadata": {},
   "outputs": [],
   "source": [
    "arch_act = arch_act.fillna('')"
   ]
  },
  {
   "cell_type": "code",
   "execution_count": 51,
   "metadata": {},
   "outputs": [
    {
     "name": "stdout",
     "output_type": "stream",
     "text": [
      "CANTIDAD DE MULTAS QUE FUERON SUBIDOS : 0\n"
     ]
    }
   ],
   "source": [
    "contador_subidos=0\n",
    "for row in arch_act.itertuples():\n",
    "    insert_querry=\"\"\"INSERT INTO `sistemecuador_pycca`.`informacion_cliente` \n",
    "                     (`pc_cedula`,`ms_cuenta`) VALUES ('{0}', '{1}');\"\"\".format(row.pc_cedula,row.ms_cuenta)\n",
    "    try:\n",
    "        insert=cur.execute(insert_querry)\n",
    "        db.commit()\n",
    "        contador_subidos=contador_subidos+1\n",
    "    except:\n",
    "        db.rollback()\n",
    "    \n",
    "print(\"CANTIDAD DE MULTAS QUE FUERON SUBIDOS : \"+str(contador_subidos))"
   ]
  },
  {
   "cell_type": "code",
   "execution_count": 97,
   "metadata": {},
   "outputs": [
    {
     "name": "stdout",
     "output_type": "stream",
     "text": [
      "CANTIDAD DE MULTAS QUE FUERON ACTUALIZADOS : 3125\n"
     ]
    }
   ],
   "source": [
    "contador_actualizados=0\n",
    "for row in arch_act.itertuples():\n",
    "    update_querry=\"\"\"UPDATE `sistemecuador_pycca`.`informacion_cliente`\n",
    "                        SET\n",
    "                        `pc_clnombre` = '{}',`ne_negociador` = '{}',`pc_direccion` = '{}',`pc_telefono1` = '{}',\n",
    "                        `pc_telefono2` = '{}',`pc_tarjeta` = '{}',`pc_cupo` = '{}',`pc_deuda_total` = '{}',\n",
    "                        `pc_duda_vencida` = '{}',`pc_apertura` = '{}',`pc_inicio_vencido` = '{}',`pc_30dias` = '{}',\n",
    "                        `pc_60dias` = '{}',`pc_90dias` = '{}',`pc_120dias` = '{}',`pc_120mdias` = '{}',`pc_numvenc` = '{}',\n",
    "                        `pc_diasvencidos` = '{}',`pc_estados` = '{}',`pc_region` = '{}',`pc_direcciondom` = '{}',\n",
    "                        `pc_direccion_lab` = '{}',`pc_referencia_fami` = '{}',`pc_telefono_ref_familiar` = '{}',\n",
    "                        `pc_referencia_fami1` = '{}',`pc_telefono_ref_familiar1` = '{}',`pc_fecha_ultimo_pago` = '{}',\n",
    "                        `ms_pagominimo` = '{}',`pc_emp_cobro` = '{}',`pc_telefono3` = '{}',`pc_telefono4` = '{}',\n",
    "                        `pc_ta_plnombre1` = '{}',`pc_mes12` = '{}',`pc_mes11` = '{}',`pc_mes10` = '{}',`pc_mes9` = '{}',\n",
    "                        `pc_mes8` = '{}',`pc_mes7` = '{}',`pc_mes6` = '{}',`pc_mes5` = '{}',`pc_mes4` = '{}',`pc_mes3` = '{}',\n",
    "                        `pc_mes2` = '{}',`pc_mes1` = '{}',`pc_vecesven` = '{}',`pc_veces1pv` = '{}',`pc_pjsdvpp` = '{}',\n",
    "                        `pc_pjvecesven` = '{}',`pc_pjpagomin` = '{}',`pc_puntaje` = '{}',`cl_email` = '{}',\n",
    "                        `ma_supercredito` = '{}',`Ciclo` = '{}'\n",
    "                    WHERE `pc_cedula` = '{}' AND `ms_cuenta` = '{}';\"\"\".format(str(row.pc_clnombre+' '+row.pc_clapellidos),\\\n",
    "                          row.pc_tarjeta,\\\n",
    "                          row.pc_deudatotal,row.pc_deudavenc,row.pc_diasvencidos,row.pc_estados,\\\n",
    "                          row.pc_region,row.cl_email,row.Ciclo,row.ms_pagominimo,row.pc_cedula,row.ms_cuenta)\n",
    "    try:\n",
    "        insert=cur.execute(update_querry)\n",
    "        db.commit()\n",
    "        contador_actualizados=contador_actualizados+1\n",
    "    except:\n",
    "        print(update_querry)\n",
    "        break\n",
    "        db.rollback()\n",
    "    \n",
    "print(\"CANTIDAD DE MULTAS QUE FUERON ACTUALIZADOS : \"+str(contador_actualizados))"
   ]
  },
  {
   "cell_type": "code",
   "execution_count": null,
   "metadata": {},
   "outputs": [],
   "source": [
    "arch_act.columnsumns"
   ]
  }
 ],
 "metadata": {
  "kernelspec": {
   "display_name": "Python 3",
   "language": "python",
   "name": "python3"
  },
  "language_info": {
   "codemirror_mode": {
    "name": "ipython",
    "version": 3
   },
   "file_extension": ".py",
   "mimetype": "text/x-python",
   "name": "python",
   "nbconvert_exporter": "python",
   "pygments_lexer": "ipython3",
   "version": "3.6.5"
  }
 },
 "nbformat": 4,
 "nbformat_minor": 2
}
